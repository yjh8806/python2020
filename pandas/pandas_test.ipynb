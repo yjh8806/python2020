{
 "cells": [
  {
   "cell_type": "markdown",
   "metadata": {},
   "source": [
    "##### [pandas cheat sheet](https://pandas.pydata.org/Pandas_Cheat_Sheet.pdf)"
   ]
  },
  {
   "cell_type": "markdown",
   "metadata": {},
   "source": [
    "##### [10 minutes to pandas](https://pandas.pydata.org/pandas-docs/stable/getting_started/10min.html)"
   ]
  },
  {
   "cell_type": "markdown",
   "metadata": {},
   "source": [
    "# 1. pandas의 설치 여부를 확인한다.\n",
    "!pip show pandas"
   ]
  },
  {
   "cell_type": "code",
   "execution_count": 24,
   "metadata": {},
   "outputs": [
    {
     "name": "stdout",
     "output_type": "stream",
     "text": [
      "Name: pandas\n",
      "Version: 0.25.1\n",
      "Summary: Powerful data structures for data analysis, time series, and statistics\n",
      "Home-page: http://pandas.pydata.org\n",
      "Author: None\n",
      "Author-email: None\n",
      "License: BSD\n",
      "Location: /opt/conda/lib/python3.7/site-packages\n",
      "Requires: numpy, pytz, python-dateutil\n",
      "Required-by: vincent, statsmodels, seaborn, plotnine, mizani\n"
     ]
    }
   ],
   "source": [
    "!pip show pandas"
   ]
  },
  {
   "cell_type": "markdown",
   "metadata": {},
   "source": [
    "# 2. pandas를 import한다.\n",
    "import pandas as pd"
   ]
  },
  {
   "cell_type": "code",
   "execution_count": 2,
   "metadata": {},
   "outputs": [],
   "source": [
    "import numpy as np\n",
    "import pandas as pd"
   ]
  },
  {
   "cell_type": "code",
   "execution_count": 8,
   "metadata": {},
   "outputs": [
    {
     "data": {
      "text/plain": [
       "0      1\n",
       "1      3\n",
       "2      5\n",
       "3    NaN\n",
       "4      6\n",
       "5      8\n",
       "dtype: object"
      ]
     },
     "execution_count": 8,
     "metadata": {},
     "output_type": "execute_result"
    }
   ],
   "source": [
    "pd.Series((1,3,'5',np.nan,6,8)) # 리스트, 튜플 가능(묶어서 넣어주면 Series - 같은 하나의 DataType(Table의 Column개념으로 생각하기) 가능)"
   ]
  },
  {
   "cell_type": "code",
   "execution_count": 9,
   "metadata": {},
   "outputs": [],
   "source": [
    "dates = pd.date_range('20200328', periods = 6)"
   ]
  },
  {
   "cell_type": "code",
   "execution_count": 11,
   "metadata": {},
   "outputs": [
    {
     "data": {
      "text/plain": [
       "DatetimeIndex(['2020-03-28', '2020-03-29', '2020-03-30', '2020-03-31',\n",
       "               '2020-04-01', '2020-04-02'],\n",
       "              dtype='datetime64[ns]', freq='D')"
      ]
     },
     "execution_count": 11,
     "metadata": {},
     "output_type": "execute_result"
    }
   ],
   "source": [
    "dates # print 없어도 가능"
   ]
  },
  {
   "cell_type": "code",
   "execution_count": 16,
   "metadata": {},
   "outputs": [],
   "source": [
    "df = pd.DataFrame(np.random.randn(6, 4), index = dates, columns = list('ABCD')) # randn(6, 4) : 6행 4열의 DataFrame 생성"
   ]
  },
  {
   "cell_type": "code",
   "execution_count": 17,
   "metadata": {},
   "outputs": [
    {
     "data": {
      "text/html": [
       "<div>\n",
       "<style scoped>\n",
       "    .dataframe tbody tr th:only-of-type {\n",
       "        vertical-align: middle;\n",
       "    }\n",
       "\n",
       "    .dataframe tbody tr th {\n",
       "        vertical-align: top;\n",
       "    }\n",
       "\n",
       "    .dataframe thead th {\n",
       "        text-align: right;\n",
       "    }\n",
       "</style>\n",
       "<table border=\"1\" class=\"dataframe\">\n",
       "  <thead>\n",
       "    <tr style=\"text-align: right;\">\n",
       "      <th></th>\n",
       "      <th>A</th>\n",
       "      <th>B</th>\n",
       "      <th>C</th>\n",
       "      <th>D</th>\n",
       "    </tr>\n",
       "  </thead>\n",
       "  <tbody>\n",
       "    <tr>\n",
       "      <td>2020-03-28</td>\n",
       "      <td>-0.921923</td>\n",
       "      <td>0.007243</td>\n",
       "      <td>0.827131</td>\n",
       "      <td>-0.052369</td>\n",
       "    </tr>\n",
       "    <tr>\n",
       "      <td>2020-03-29</td>\n",
       "      <td>-0.336009</td>\n",
       "      <td>-0.439904</td>\n",
       "      <td>-0.071364</td>\n",
       "      <td>-0.445943</td>\n",
       "    </tr>\n",
       "    <tr>\n",
       "      <td>2020-03-30</td>\n",
       "      <td>0.417210</td>\n",
       "      <td>0.990094</td>\n",
       "      <td>-0.505462</td>\n",
       "      <td>-0.786353</td>\n",
       "    </tr>\n",
       "    <tr>\n",
       "      <td>2020-03-31</td>\n",
       "      <td>0.090566</td>\n",
       "      <td>0.476263</td>\n",
       "      <td>-1.465175</td>\n",
       "      <td>0.371908</td>\n",
       "    </tr>\n",
       "    <tr>\n",
       "      <td>2020-04-01</td>\n",
       "      <td>0.155963</td>\n",
       "      <td>0.004905</td>\n",
       "      <td>-0.508943</td>\n",
       "      <td>-0.304544</td>\n",
       "    </tr>\n",
       "    <tr>\n",
       "      <td>2020-04-02</td>\n",
       "      <td>-0.979162</td>\n",
       "      <td>0.369490</td>\n",
       "      <td>-1.841012</td>\n",
       "      <td>-0.253654</td>\n",
       "    </tr>\n",
       "  </tbody>\n",
       "</table>\n",
       "</div>"
      ],
      "text/plain": [
       "                   A         B         C         D\n",
       "2020-03-28 -0.921923  0.007243  0.827131 -0.052369\n",
       "2020-03-29 -0.336009 -0.439904 -0.071364 -0.445943\n",
       "2020-03-30  0.417210  0.990094 -0.505462 -0.786353\n",
       "2020-03-31  0.090566  0.476263 -1.465175  0.371908\n",
       "2020-04-01  0.155963  0.004905 -0.508943 -0.304544\n",
       "2020-04-02 -0.979162  0.369490 -1.841012 -0.253654"
      ]
     },
     "execution_count": 17,
     "metadata": {},
     "output_type": "execute_result"
    }
   ],
   "source": [
    "df # 0, 1, 2, 3, 4, 5는 Index, Index의 속성은 row, 0, 1, 2, 3의 속성은 Column "
   ]
  },
  {
   "cell_type": "code",
   "execution_count": 18,
   "metadata": {},
   "outputs": [],
   "source": [
    "df2 = pd.DataFrame({'A': 1.,\n",
    "                    'B': pd.Timestamp('20130102'),\n",
    "                    'C': pd.Series(1, index=list(range(4)), dtype='float32'),\n",
    "                    'D': np.array([3] * 4, dtype='int32'),\n",
    "                    'E': pd.Categorical([\"test\", \"train\", \"test\", \"train\"]),\n",
    "                    'F': 'foo'})"
   ]
  },
  {
   "cell_type": "code",
   "execution_count": 19,
   "metadata": {},
   "outputs": [
    {
     "data": {
      "text/html": [
       "<div>\n",
       "<style scoped>\n",
       "    .dataframe tbody tr th:only-of-type {\n",
       "        vertical-align: middle;\n",
       "    }\n",
       "\n",
       "    .dataframe tbody tr th {\n",
       "        vertical-align: top;\n",
       "    }\n",
       "\n",
       "    .dataframe thead th {\n",
       "        text-align: right;\n",
       "    }\n",
       "</style>\n",
       "<table border=\"1\" class=\"dataframe\">\n",
       "  <thead>\n",
       "    <tr style=\"text-align: right;\">\n",
       "      <th></th>\n",
       "      <th>A</th>\n",
       "      <th>B</th>\n",
       "      <th>C</th>\n",
       "      <th>D</th>\n",
       "      <th>E</th>\n",
       "      <th>F</th>\n",
       "    </tr>\n",
       "  </thead>\n",
       "  <tbody>\n",
       "    <tr>\n",
       "      <td>0</td>\n",
       "      <td>1.0</td>\n",
       "      <td>2013-01-02</td>\n",
       "      <td>1.0</td>\n",
       "      <td>3</td>\n",
       "      <td>test</td>\n",
       "      <td>foo</td>\n",
       "    </tr>\n",
       "    <tr>\n",
       "      <td>1</td>\n",
       "      <td>1.0</td>\n",
       "      <td>2013-01-02</td>\n",
       "      <td>1.0</td>\n",
       "      <td>3</td>\n",
       "      <td>train</td>\n",
       "      <td>foo</td>\n",
       "    </tr>\n",
       "    <tr>\n",
       "      <td>2</td>\n",
       "      <td>1.0</td>\n",
       "      <td>2013-01-02</td>\n",
       "      <td>1.0</td>\n",
       "      <td>3</td>\n",
       "      <td>test</td>\n",
       "      <td>foo</td>\n",
       "    </tr>\n",
       "    <tr>\n",
       "      <td>3</td>\n",
       "      <td>1.0</td>\n",
       "      <td>2013-01-02</td>\n",
       "      <td>1.0</td>\n",
       "      <td>3</td>\n",
       "      <td>train</td>\n",
       "      <td>foo</td>\n",
       "    </tr>\n",
       "  </tbody>\n",
       "</table>\n",
       "</div>"
      ],
      "text/plain": [
       "     A          B    C  D      E    F\n",
       "0  1.0 2013-01-02  1.0  3   test  foo\n",
       "1  1.0 2013-01-02  1.0  3  train  foo\n",
       "2  1.0 2013-01-02  1.0  3   test  foo\n",
       "3  1.0 2013-01-02  1.0  3  train  foo"
      ]
     },
     "execution_count": 19,
     "metadata": {},
     "output_type": "execute_result"
    }
   ],
   "source": [
    "df2"
   ]
  },
  {
   "cell_type": "code",
   "execution_count": 20,
   "metadata": {},
   "outputs": [
    {
     "data": {
      "text/plain": [
       "A           float64\n",
       "B    datetime64[ns]\n",
       "C           float32\n",
       "D             int32\n",
       "E          category\n",
       "F            object\n",
       "dtype: object"
      ]
     },
     "execution_count": 20,
     "metadata": {},
     "output_type": "execute_result"
    }
   ],
   "source": [
    "df2.dtypes"
   ]
  },
  {
   "cell_type": "code",
   "execution_count": 21,
   "metadata": {},
   "outputs": [
    {
     "ename": "SyntaxError",
     "evalue": "invalid syntax (<ipython-input-21-af10f82265d2>, line 1)",
     "output_type": "error",
     "traceback": [
      "\u001b[0;36m  File \u001b[0;32m\"<ipython-input-21-af10f82265d2>\"\u001b[0;36m, line \u001b[0;32m1\u001b[0m\n\u001b[0;31m    df2.<TAB> # JupyterLab에서는 실행 불가\u001b[0m\n\u001b[0m        ^\u001b[0m\n\u001b[0;31mSyntaxError\u001b[0m\u001b[0;31m:\u001b[0m invalid syntax\n"
     ]
    }
   ],
   "source": [
    "df2.<TAB> # JupyterLab에서는 실행 불가"
   ]
  },
  {
   "cell_type": "code",
   "execution_count": 36,
   "metadata": {},
   "outputs": [
    {
     "data": {
      "text/html": [
       "<div>\n",
       "<style scoped>\n",
       "    .dataframe tbody tr th:only-of-type {\n",
       "        vertical-align: middle;\n",
       "    }\n",
       "\n",
       "    .dataframe tbody tr th {\n",
       "        vertical-align: top;\n",
       "    }\n",
       "\n",
       "    .dataframe thead th {\n",
       "        text-align: right;\n",
       "    }\n",
       "</style>\n",
       "<table border=\"1\" class=\"dataframe\">\n",
       "  <thead>\n",
       "    <tr style=\"text-align: right;\">\n",
       "      <th></th>\n",
       "      <th>A</th>\n",
       "      <th>B</th>\n",
       "      <th>C</th>\n",
       "      <th>D</th>\n",
       "    </tr>\n",
       "  </thead>\n",
       "  <tbody>\n",
       "    <tr>\n",
       "      <td>2020-03-28</td>\n",
       "      <td>-0.921923</td>\n",
       "      <td>0.007243</td>\n",
       "      <td>0.827131</td>\n",
       "      <td>-0.052369</td>\n",
       "    </tr>\n",
       "    <tr>\n",
       "      <td>2020-03-29</td>\n",
       "      <td>-0.336009</td>\n",
       "      <td>-0.439904</td>\n",
       "      <td>-0.071364</td>\n",
       "      <td>-0.445943</td>\n",
       "    </tr>\n",
       "    <tr>\n",
       "      <td>2020-03-30</td>\n",
       "      <td>0.417210</td>\n",
       "      <td>0.990094</td>\n",
       "      <td>-0.505462</td>\n",
       "      <td>-0.786353</td>\n",
       "    </tr>\n",
       "    <tr>\n",
       "      <td>2020-03-31</td>\n",
       "      <td>0.090566</td>\n",
       "      <td>0.476263</td>\n",
       "      <td>-1.465175</td>\n",
       "      <td>0.371908</td>\n",
       "    </tr>\n",
       "    <tr>\n",
       "      <td>2020-04-01</td>\n",
       "      <td>0.155963</td>\n",
       "      <td>0.004905</td>\n",
       "      <td>-0.508943</td>\n",
       "      <td>-0.304544</td>\n",
       "    </tr>\n",
       "  </tbody>\n",
       "</table>\n",
       "</div>"
      ],
      "text/plain": [
       "                   A         B         C         D\n",
       "2020-03-28 -0.921923  0.007243  0.827131 -0.052369\n",
       "2020-03-29 -0.336009 -0.439904 -0.071364 -0.445943\n",
       "2020-03-30  0.417210  0.990094 -0.505462 -0.786353\n",
       "2020-03-31  0.090566  0.476263 -1.465175  0.371908\n",
       "2020-04-01  0.155963  0.004905 -0.508943 -0.304544"
      ]
     },
     "execution_count": 36,
     "metadata": {},
     "output_type": "execute_result"
    }
   ],
   "source": [
    "df.head() # head는 위에서 부터 몇 개를 볼 지"
   ]
  },
  {
   "cell_type": "code",
   "execution_count": 30,
   "metadata": {},
   "outputs": [
    {
     "data": {
      "text/html": [
       "<div>\n",
       "<style scoped>\n",
       "    .dataframe tbody tr th:only-of-type {\n",
       "        vertical-align: middle;\n",
       "    }\n",
       "\n",
       "    .dataframe tbody tr th {\n",
       "        vertical-align: top;\n",
       "    }\n",
       "\n",
       "    .dataframe thead th {\n",
       "        text-align: right;\n",
       "    }\n",
       "</style>\n",
       "<table border=\"1\" class=\"dataframe\">\n",
       "  <thead>\n",
       "    <tr style=\"text-align: right;\">\n",
       "      <th></th>\n",
       "      <th>A</th>\n",
       "      <th>B</th>\n",
       "      <th>C</th>\n",
       "      <th>D</th>\n",
       "    </tr>\n",
       "  </thead>\n",
       "  <tbody>\n",
       "    <tr>\n",
       "      <td>2020-03-31</td>\n",
       "      <td>0.090566</td>\n",
       "      <td>0.476263</td>\n",
       "      <td>-1.465175</td>\n",
       "      <td>0.371908</td>\n",
       "    </tr>\n",
       "    <tr>\n",
       "      <td>2020-04-01</td>\n",
       "      <td>0.155963</td>\n",
       "      <td>0.004905</td>\n",
       "      <td>-0.508943</td>\n",
       "      <td>-0.304544</td>\n",
       "    </tr>\n",
       "    <tr>\n",
       "      <td>2020-04-02</td>\n",
       "      <td>-0.979162</td>\n",
       "      <td>0.369490</td>\n",
       "      <td>-1.841012</td>\n",
       "      <td>-0.253654</td>\n",
       "    </tr>\n",
       "  </tbody>\n",
       "</table>\n",
       "</div>"
      ],
      "text/plain": [
       "                   A         B         C         D\n",
       "2020-03-31  0.090566  0.476263 -1.465175  0.371908\n",
       "2020-04-01  0.155963  0.004905 -0.508943 -0.304544\n",
       "2020-04-02 -0.979162  0.369490 -1.841012 -0.253654"
      ]
     },
     "execution_count": 30,
     "metadata": {},
     "output_type": "execute_result"
    }
   ],
   "source": [
    "df.tail(3) # 밑에서 부터 몇 개를 볼 지"
   ]
  },
  {
   "cell_type": "code",
   "execution_count": 28,
   "metadata": {},
   "outputs": [
    {
     "data": {
      "text/html": [
       "<div>\n",
       "<style scoped>\n",
       "    .dataframe tbody tr th:only-of-type {\n",
       "        vertical-align: middle;\n",
       "    }\n",
       "\n",
       "    .dataframe tbody tr th {\n",
       "        vertical-align: top;\n",
       "    }\n",
       "\n",
       "    .dataframe thead th {\n",
       "        text-align: right;\n",
       "    }\n",
       "</style>\n",
       "<table border=\"1\" class=\"dataframe\">\n",
       "  <thead>\n",
       "    <tr style=\"text-align: right;\">\n",
       "      <th></th>\n",
       "      <th>A</th>\n",
       "      <th>B</th>\n",
       "      <th>C</th>\n",
       "      <th>D</th>\n",
       "    </tr>\n",
       "  </thead>\n",
       "  <tbody>\n",
       "    <tr>\n",
       "      <td>2020-03-29</td>\n",
       "      <td>-0.336009</td>\n",
       "      <td>-0.439904</td>\n",
       "      <td>-0.071364</td>\n",
       "      <td>-0.445943</td>\n",
       "    </tr>\n",
       "    <tr>\n",
       "      <td>2020-04-02</td>\n",
       "      <td>-0.979162</td>\n",
       "      <td>0.369490</td>\n",
       "      <td>-1.841012</td>\n",
       "      <td>-0.253654</td>\n",
       "    </tr>\n",
       "    <tr>\n",
       "      <td>2020-03-31</td>\n",
       "      <td>0.090566</td>\n",
       "      <td>0.476263</td>\n",
       "      <td>-1.465175</td>\n",
       "      <td>0.371908</td>\n",
       "    </tr>\n",
       "  </tbody>\n",
       "</table>\n",
       "</div>"
      ],
      "text/plain": [
       "                   A         B         C         D\n",
       "2020-03-29 -0.336009 -0.439904 -0.071364 -0.445943\n",
       "2020-04-02 -0.979162  0.369490 -1.841012 -0.253654\n",
       "2020-03-31  0.090566  0.476263 -1.465175  0.371908"
      ]
     },
     "execution_count": 28,
     "metadata": {},
     "output_type": "execute_result"
    }
   ],
   "source": [
    "df.sample(3) # sample은 섞여서 나옴"
   ]
  },
  {
   "cell_type": "code",
   "execution_count": 37,
   "metadata": {},
   "outputs": [
    {
     "data": {
      "text/plain": [
       "DatetimeIndex(['2020-03-28', '2020-03-29', '2020-03-30', '2020-03-31',\n",
       "               '2020-04-01', '2020-04-02'],\n",
       "              dtype='datetime64[ns]', freq='D')"
      ]
     },
     "execution_count": 37,
     "metadata": {},
     "output_type": "execute_result"
    }
   ],
   "source": [
    "df.index"
   ]
  },
  {
   "cell_type": "code",
   "execution_count": 38,
   "metadata": {},
   "outputs": [
    {
     "data": {
      "text/plain": [
       "Index(['A', 'B', 'C', 'D'], dtype='object')"
      ]
     },
     "execution_count": 38,
     "metadata": {},
     "output_type": "execute_result"
    }
   ],
   "source": [
    "df.columns"
   ]
  },
  {
   "cell_type": "code",
   "execution_count": 39,
   "metadata": {},
   "outputs": [
    {
     "data": {
      "text/plain": [
       "array([[-0.9219225 ,  0.0072426 ,  0.82713128, -0.0523689 ],\n",
       "       [-0.33600926, -0.43990393, -0.07136358, -0.4459431 ],\n",
       "       [ 0.4172102 ,  0.99009425, -0.50546162, -0.78635314],\n",
       "       [ 0.0905659 ,  0.47626336, -1.46517537,  0.37190824],\n",
       "       [ 0.15596318,  0.00490538, -0.50894326, -0.30454415],\n",
       "       [-0.97916176,  0.36949023, -1.84101242, -0.25365443]])"
      ]
     },
     "execution_count": 39,
     "metadata": {},
     "output_type": "execute_result"
    }
   ],
   "source": [
    "df.to_numpy() # numpy 형태로 바꿔주기"
   ]
  },
  {
   "cell_type": "code",
   "execution_count": 41,
   "metadata": {},
   "outputs": [
    {
     "data": {
      "text/plain": [
       "array([[1.0, Timestamp('2013-01-02 00:00:00'), 1.0, 3, 'test', 'foo'],\n",
       "       [1.0, Timestamp('2013-01-02 00:00:00'), 1.0, 3, 'train', 'foo'],\n",
       "       [1.0, Timestamp('2013-01-02 00:00:00'), 1.0, 3, 'test', 'foo'],\n",
       "       [1.0, Timestamp('2013-01-02 00:00:00'), 1.0, 3, 'train', 'foo']],\n",
       "      dtype=object)"
      ]
     },
     "execution_count": 41,
     "metadata": {},
     "output_type": "execute_result"
    }
   ],
   "source": [
    "df2.to_numpy() # numpy는 2차원 배열 형태로 바꿔줌"
   ]
  },
  {
   "cell_type": "code",
   "execution_count": 43,
   "metadata": {},
   "outputs": [
    {
     "data": {
      "text/html": [
       "<div>\n",
       "<style scoped>\n",
       "    .dataframe tbody tr th:only-of-type {\n",
       "        vertical-align: middle;\n",
       "    }\n",
       "\n",
       "    .dataframe tbody tr th {\n",
       "        vertical-align: top;\n",
       "    }\n",
       "\n",
       "    .dataframe thead th {\n",
       "        text-align: right;\n",
       "    }\n",
       "</style>\n",
       "<table border=\"1\" class=\"dataframe\">\n",
       "  <thead>\n",
       "    <tr style=\"text-align: right;\">\n",
       "      <th></th>\n",
       "      <th>A</th>\n",
       "      <th>B</th>\n",
       "      <th>C</th>\n",
       "      <th>D</th>\n",
       "    </tr>\n",
       "  </thead>\n",
       "  <tbody>\n",
       "    <tr>\n",
       "      <td>count</td>\n",
       "      <td>6.000000</td>\n",
       "      <td>6.000000</td>\n",
       "      <td>6.000000</td>\n",
       "      <td>6.000000</td>\n",
       "    </tr>\n",
       "    <tr>\n",
       "      <td>mean</td>\n",
       "      <td>-0.262226</td>\n",
       "      <td>0.234682</td>\n",
       "      <td>-0.594137</td>\n",
       "      <td>-0.245159</td>\n",
       "    </tr>\n",
       "    <tr>\n",
       "      <td>std</td>\n",
       "      <td>0.585768</td>\n",
       "      <td>0.491279</td>\n",
       "      <td>0.961439</td>\n",
       "      <td>0.388521</td>\n",
       "    </tr>\n",
       "    <tr>\n",
       "      <td>min</td>\n",
       "      <td>-0.979162</td>\n",
       "      <td>-0.439904</td>\n",
       "      <td>-1.841012</td>\n",
       "      <td>-0.786353</td>\n",
       "    </tr>\n",
       "    <tr>\n",
       "      <td>25%</td>\n",
       "      <td>-0.775444</td>\n",
       "      <td>0.005490</td>\n",
       "      <td>-1.226117</td>\n",
       "      <td>-0.410593</td>\n",
       "    </tr>\n",
       "    <tr>\n",
       "      <td>50%</td>\n",
       "      <td>-0.122722</td>\n",
       "      <td>0.188366</td>\n",
       "      <td>-0.507202</td>\n",
       "      <td>-0.279099</td>\n",
       "    </tr>\n",
       "    <tr>\n",
       "      <td>75%</td>\n",
       "      <td>0.139614</td>\n",
       "      <td>0.449570</td>\n",
       "      <td>-0.179888</td>\n",
       "      <td>-0.102690</td>\n",
       "    </tr>\n",
       "    <tr>\n",
       "      <td>max</td>\n",
       "      <td>0.417210</td>\n",
       "      <td>0.990094</td>\n",
       "      <td>0.827131</td>\n",
       "      <td>0.371908</td>\n",
       "    </tr>\n",
       "  </tbody>\n",
       "</table>\n",
       "</div>"
      ],
      "text/plain": [
       "              A         B         C         D\n",
       "count  6.000000  6.000000  6.000000  6.000000\n",
       "mean  -0.262226  0.234682 -0.594137 -0.245159\n",
       "std    0.585768  0.491279  0.961439  0.388521\n",
       "min   -0.979162 -0.439904 -1.841012 -0.786353\n",
       "25%   -0.775444  0.005490 -1.226117 -0.410593\n",
       "50%   -0.122722  0.188366 -0.507202 -0.279099\n",
       "75%    0.139614  0.449570 -0.179888 -0.102690\n",
       "max    0.417210  0.990094  0.827131  0.371908"
      ]
     },
     "execution_count": 43,
     "metadata": {},
     "output_type": "execute_result"
    }
   ],
   "source": [
    "df.describe() # 50% : 중위값"
   ]
  },
  {
   "cell_type": "code",
   "execution_count": 46,
   "metadata": {},
   "outputs": [
    {
     "data": {
      "text/html": [
       "<div>\n",
       "<style scoped>\n",
       "    .dataframe tbody tr th:only-of-type {\n",
       "        vertical-align: middle;\n",
       "    }\n",
       "\n",
       "    .dataframe tbody tr th {\n",
       "        vertical-align: top;\n",
       "    }\n",
       "\n",
       "    .dataframe thead th {\n",
       "        text-align: right;\n",
       "    }\n",
       "</style>\n",
       "<table border=\"1\" class=\"dataframe\">\n",
       "  <thead>\n",
       "    <tr style=\"text-align: right;\">\n",
       "      <th></th>\n",
       "      <th>2020-03-28</th>\n",
       "      <th>2020-03-29</th>\n",
       "      <th>2020-03-30</th>\n",
       "      <th>2020-03-31</th>\n",
       "      <th>2020-04-01</th>\n",
       "      <th>2020-04-02</th>\n",
       "    </tr>\n",
       "  </thead>\n",
       "  <tbody>\n",
       "    <tr>\n",
       "      <td>A</td>\n",
       "      <td>-0.921923</td>\n",
       "      <td>-0.336009</td>\n",
       "      <td>0.417210</td>\n",
       "      <td>0.090566</td>\n",
       "      <td>0.155963</td>\n",
       "      <td>-0.979162</td>\n",
       "    </tr>\n",
       "    <tr>\n",
       "      <td>B</td>\n",
       "      <td>0.007243</td>\n",
       "      <td>-0.439904</td>\n",
       "      <td>0.990094</td>\n",
       "      <td>0.476263</td>\n",
       "      <td>0.004905</td>\n",
       "      <td>0.369490</td>\n",
       "    </tr>\n",
       "    <tr>\n",
       "      <td>C</td>\n",
       "      <td>0.827131</td>\n",
       "      <td>-0.071364</td>\n",
       "      <td>-0.505462</td>\n",
       "      <td>-1.465175</td>\n",
       "      <td>-0.508943</td>\n",
       "      <td>-1.841012</td>\n",
       "    </tr>\n",
       "    <tr>\n",
       "      <td>D</td>\n",
       "      <td>-0.052369</td>\n",
       "      <td>-0.445943</td>\n",
       "      <td>-0.786353</td>\n",
       "      <td>0.371908</td>\n",
       "      <td>-0.304544</td>\n",
       "      <td>-0.253654</td>\n",
       "    </tr>\n",
       "  </tbody>\n",
       "</table>\n",
       "</div>"
      ],
      "text/plain": [
       "   2020-03-28  2020-03-29  2020-03-30  2020-03-31  2020-04-01  2020-04-02\n",
       "A   -0.921923   -0.336009    0.417210    0.090566    0.155963   -0.979162\n",
       "B    0.007243   -0.439904    0.990094    0.476263    0.004905    0.369490\n",
       "C    0.827131   -0.071364   -0.505462   -1.465175   -0.508943   -1.841012\n",
       "D   -0.052369   -0.445943   -0.786353    0.371908   -0.304544   -0.253654"
      ]
     },
     "execution_count": 46,
     "metadata": {},
     "output_type": "execute_result"
    }
   ],
   "source": [
    "df.T # Transposing (Index와 Column 교차변경, 행렬 변경)"
   ]
  },
  {
   "cell_type": "code",
   "execution_count": 47,
   "metadata": {},
   "outputs": [
    {
     "data": {
      "text/html": [
       "<div>\n",
       "<style scoped>\n",
       "    .dataframe tbody tr th:only-of-type {\n",
       "        vertical-align: middle;\n",
       "    }\n",
       "\n",
       "    .dataframe tbody tr th {\n",
       "        vertical-align: top;\n",
       "    }\n",
       "\n",
       "    .dataframe thead th {\n",
       "        text-align: right;\n",
       "    }\n",
       "</style>\n",
       "<table border=\"1\" class=\"dataframe\">\n",
       "  <thead>\n",
       "    <tr style=\"text-align: right;\">\n",
       "      <th></th>\n",
       "      <th>A</th>\n",
       "      <th>B</th>\n",
       "      <th>C</th>\n",
       "      <th>D</th>\n",
       "    </tr>\n",
       "  </thead>\n",
       "  <tbody>\n",
       "    <tr>\n",
       "      <td>2020-03-28</td>\n",
       "      <td>-0.921923</td>\n",
       "      <td>0.007243</td>\n",
       "      <td>0.827131</td>\n",
       "      <td>-0.052369</td>\n",
       "    </tr>\n",
       "    <tr>\n",
       "      <td>2020-03-29</td>\n",
       "      <td>-0.336009</td>\n",
       "      <td>-0.439904</td>\n",
       "      <td>-0.071364</td>\n",
       "      <td>-0.445943</td>\n",
       "    </tr>\n",
       "    <tr>\n",
       "      <td>2020-03-30</td>\n",
       "      <td>0.417210</td>\n",
       "      <td>0.990094</td>\n",
       "      <td>-0.505462</td>\n",
       "      <td>-0.786353</td>\n",
       "    </tr>\n",
       "    <tr>\n",
       "      <td>2020-03-31</td>\n",
       "      <td>0.090566</td>\n",
       "      <td>0.476263</td>\n",
       "      <td>-1.465175</td>\n",
       "      <td>0.371908</td>\n",
       "    </tr>\n",
       "    <tr>\n",
       "      <td>2020-04-01</td>\n",
       "      <td>0.155963</td>\n",
       "      <td>0.004905</td>\n",
       "      <td>-0.508943</td>\n",
       "      <td>-0.304544</td>\n",
       "    </tr>\n",
       "    <tr>\n",
       "      <td>2020-04-02</td>\n",
       "      <td>-0.979162</td>\n",
       "      <td>0.369490</td>\n",
       "      <td>-1.841012</td>\n",
       "      <td>-0.253654</td>\n",
       "    </tr>\n",
       "  </tbody>\n",
       "</table>\n",
       "</div>"
      ],
      "text/plain": [
       "                   A         B         C         D\n",
       "2020-03-28 -0.921923  0.007243  0.827131 -0.052369\n",
       "2020-03-29 -0.336009 -0.439904 -0.071364 -0.445943\n",
       "2020-03-30  0.417210  0.990094 -0.505462 -0.786353\n",
       "2020-03-31  0.090566  0.476263 -1.465175  0.371908\n",
       "2020-04-01  0.155963  0.004905 -0.508943 -0.304544\n",
       "2020-04-02 -0.979162  0.369490 -1.841012 -0.253654"
      ]
     },
     "execution_count": 47,
     "metadata": {},
     "output_type": "execute_result"
    }
   ],
   "source": [
    "df"
   ]
  },
  {
   "cell_type": "markdown",
   "metadata": {},
   "source": [
    "#### [pandas.DataFrame.sort_index](https://pandas.pydata.org/pandas-docs/stable/reference/api/pandas.DataFrame.sort_index.html?highlight=sort_index)"
   ]
  },
  {
   "cell_type": "code",
   "execution_count": 52,
   "metadata": {},
   "outputs": [
    {
     "data": {
      "text/html": [
       "<div>\n",
       "<style scoped>\n",
       "    .dataframe tbody tr th:only-of-type {\n",
       "        vertical-align: middle;\n",
       "    }\n",
       "\n",
       "    .dataframe tbody tr th {\n",
       "        vertical-align: top;\n",
       "    }\n",
       "\n",
       "    .dataframe thead th {\n",
       "        text-align: right;\n",
       "    }\n",
       "</style>\n",
       "<table border=\"1\" class=\"dataframe\">\n",
       "  <thead>\n",
       "    <tr style=\"text-align: right;\">\n",
       "      <th></th>\n",
       "      <th>A</th>\n",
       "      <th>B</th>\n",
       "      <th>C</th>\n",
       "      <th>D</th>\n",
       "    </tr>\n",
       "  </thead>\n",
       "  <tbody>\n",
       "    <tr>\n",
       "      <td>2020-04-02</td>\n",
       "      <td>-0.979162</td>\n",
       "      <td>0.369490</td>\n",
       "      <td>-1.841012</td>\n",
       "      <td>-0.253654</td>\n",
       "    </tr>\n",
       "    <tr>\n",
       "      <td>2020-04-01</td>\n",
       "      <td>0.155963</td>\n",
       "      <td>0.004905</td>\n",
       "      <td>-0.508943</td>\n",
       "      <td>-0.304544</td>\n",
       "    </tr>\n",
       "    <tr>\n",
       "      <td>2020-03-31</td>\n",
       "      <td>0.090566</td>\n",
       "      <td>0.476263</td>\n",
       "      <td>-1.465175</td>\n",
       "      <td>0.371908</td>\n",
       "    </tr>\n",
       "    <tr>\n",
       "      <td>2020-03-30</td>\n",
       "      <td>0.417210</td>\n",
       "      <td>0.990094</td>\n",
       "      <td>-0.505462</td>\n",
       "      <td>-0.786353</td>\n",
       "    </tr>\n",
       "    <tr>\n",
       "      <td>2020-03-29</td>\n",
       "      <td>-0.336009</td>\n",
       "      <td>-0.439904</td>\n",
       "      <td>-0.071364</td>\n",
       "      <td>-0.445943</td>\n",
       "    </tr>\n",
       "    <tr>\n",
       "      <td>2020-03-28</td>\n",
       "      <td>-0.921923</td>\n",
       "      <td>0.007243</td>\n",
       "      <td>0.827131</td>\n",
       "      <td>-0.052369</td>\n",
       "    </tr>\n",
       "  </tbody>\n",
       "</table>\n",
       "</div>"
      ],
      "text/plain": [
       "                   A         B         C         D\n",
       "2020-04-02 -0.979162  0.369490 -1.841012 -0.253654\n",
       "2020-04-01  0.155963  0.004905 -0.508943 -0.304544\n",
       "2020-03-31  0.090566  0.476263 -1.465175  0.371908\n",
       "2020-03-30  0.417210  0.990094 -0.505462 -0.786353\n",
       "2020-03-29 -0.336009 -0.439904 -0.071364 -0.445943\n",
       "2020-03-28 -0.921923  0.007243  0.827131 -0.052369"
      ]
     },
     "execution_count": 52,
     "metadata": {},
     "output_type": "execute_result"
    }
   ],
   "source": [
    "df.sort_index(axis = 0, ascending = False)\n",
    "# DataFrame.sort_index(self, axis=0, level=None, ascending=True,\n",
    "# inplace=False, kind='quicksort', na_position='last', sort_remaining=True,\n",
    "# ignore_index: bool = False"
   ]
  },
  {
   "cell_type": "code",
   "execution_count": 55,
   "metadata": {},
   "outputs": [
    {
     "data": {
      "text/html": [
       "<div>\n",
       "<style scoped>\n",
       "    .dataframe tbody tr th:only-of-type {\n",
       "        vertical-align: middle;\n",
       "    }\n",
       "\n",
       "    .dataframe tbody tr th {\n",
       "        vertical-align: top;\n",
       "    }\n",
       "\n",
       "    .dataframe thead th {\n",
       "        text-align: right;\n",
       "    }\n",
       "</style>\n",
       "<table border=\"1\" class=\"dataframe\">\n",
       "  <thead>\n",
       "    <tr style=\"text-align: right;\">\n",
       "      <th></th>\n",
       "      <th>D</th>\n",
       "      <th>C</th>\n",
       "      <th>A</th>\n",
       "      <th>B</th>\n",
       "    </tr>\n",
       "  </thead>\n",
       "  <tbody>\n",
       "    <tr>\n",
       "      <td>2020-03-28</td>\n",
       "      <td>-0.052369</td>\n",
       "      <td>0.827131</td>\n",
       "      <td>-0.921923</td>\n",
       "      <td>0.007243</td>\n",
       "    </tr>\n",
       "    <tr>\n",
       "      <td>2020-03-29</td>\n",
       "      <td>-0.445943</td>\n",
       "      <td>-0.071364</td>\n",
       "      <td>-0.336009</td>\n",
       "      <td>-0.439904</td>\n",
       "    </tr>\n",
       "    <tr>\n",
       "      <td>2020-03-30</td>\n",
       "      <td>-0.786353</td>\n",
       "      <td>-0.505462</td>\n",
       "      <td>0.417210</td>\n",
       "      <td>0.990094</td>\n",
       "    </tr>\n",
       "    <tr>\n",
       "      <td>2020-03-31</td>\n",
       "      <td>0.371908</td>\n",
       "      <td>-1.465175</td>\n",
       "      <td>0.090566</td>\n",
       "      <td>0.476263</td>\n",
       "    </tr>\n",
       "    <tr>\n",
       "      <td>2020-04-01</td>\n",
       "      <td>-0.304544</td>\n",
       "      <td>-0.508943</td>\n",
       "      <td>0.155963</td>\n",
       "      <td>0.004905</td>\n",
       "    </tr>\n",
       "    <tr>\n",
       "      <td>2020-04-02</td>\n",
       "      <td>-0.253654</td>\n",
       "      <td>-1.841012</td>\n",
       "      <td>-0.979162</td>\n",
       "      <td>0.369490</td>\n",
       "    </tr>\n",
       "  </tbody>\n",
       "</table>\n",
       "</div>"
      ],
      "text/plain": [
       "                   D         C         A         B\n",
       "2020-03-28 -0.052369  0.827131 -0.921923  0.007243\n",
       "2020-03-29 -0.445943 -0.071364 -0.336009 -0.439904\n",
       "2020-03-30 -0.786353 -0.505462  0.417210  0.990094\n",
       "2020-03-31  0.371908 -1.465175  0.090566  0.476263\n",
       "2020-04-01 -0.304544 -0.508943  0.155963  0.004905\n",
       "2020-04-02 -0.253654 -1.841012 -0.979162  0.369490"
      ]
     },
     "execution_count": 55,
     "metadata": {},
     "output_type": "execute_result"
    }
   ],
   "source": [
    "df.sort_values(by = '20200330', axis = 1)"
   ]
  },
  {
   "cell_type": "markdown",
   "metadata": {},
   "source": [
    "## - 특정 값만 행, 열 지정해서 가지고 올 때\n",
    "df.컬럼명\n",
    "df['컬럼명']\n",
    "df[['컬럼명', '컬럼명']]\n",
    "df.log[행]\n",
    "df.log[행, 열]"
   ]
  },
  {
   "cell_type": "code",
   "execution_count": 56,
   "metadata": {},
   "outputs": [
    {
     "data": {
      "text/plain": [
       "2020-03-28   -0.921923\n",
       "2020-03-29   -0.336009\n",
       "2020-03-30    0.417210\n",
       "2020-03-31    0.090566\n",
       "2020-04-01    0.155963\n",
       "2020-04-02   -0.979162\n",
       "Freq: D, Name: A, dtype: float64"
      ]
     },
     "execution_count": 56,
     "metadata": {},
     "output_type": "execute_result"
    }
   ],
   "source": [
    "df.A"
   ]
  },
  {
   "cell_type": "code",
   "execution_count": 57,
   "metadata": {},
   "outputs": [
    {
     "data": {
      "text/plain": [
       "2020-03-28   -0.921923\n",
       "2020-03-29   -0.336009\n",
       "2020-03-30    0.417210\n",
       "2020-03-31    0.090566\n",
       "2020-04-01    0.155963\n",
       "2020-04-02   -0.979162\n",
       "Freq: D, Name: A, dtype: float64"
      ]
     },
     "execution_count": 57,
     "metadata": {},
     "output_type": "execute_result"
    }
   ],
   "source": [
    "df['A']"
   ]
  },
  {
   "cell_type": "code",
   "execution_count": 61,
   "metadata": {},
   "outputs": [
    {
     "data": {
      "text/html": [
       "<div>\n",
       "<style scoped>\n",
       "    .dataframe tbody tr th:only-of-type {\n",
       "        vertical-align: middle;\n",
       "    }\n",
       "\n",
       "    .dataframe tbody tr th {\n",
       "        vertical-align: top;\n",
       "    }\n",
       "\n",
       "    .dataframe thead th {\n",
       "        text-align: right;\n",
       "    }\n",
       "</style>\n",
       "<table border=\"1\" class=\"dataframe\">\n",
       "  <thead>\n",
       "    <tr style=\"text-align: right;\">\n",
       "      <th></th>\n",
       "      <th>A</th>\n",
       "      <th>B</th>\n",
       "    </tr>\n",
       "  </thead>\n",
       "  <tbody>\n",
       "    <tr>\n",
       "      <td>2020-03-28</td>\n",
       "      <td>-0.921923</td>\n",
       "      <td>0.007243</td>\n",
       "    </tr>\n",
       "    <tr>\n",
       "      <td>2020-03-29</td>\n",
       "      <td>-0.336009</td>\n",
       "      <td>-0.439904</td>\n",
       "    </tr>\n",
       "    <tr>\n",
       "      <td>2020-03-30</td>\n",
       "      <td>0.417210</td>\n",
       "      <td>0.990094</td>\n",
       "    </tr>\n",
       "    <tr>\n",
       "      <td>2020-03-31</td>\n",
       "      <td>0.090566</td>\n",
       "      <td>0.476263</td>\n",
       "    </tr>\n",
       "    <tr>\n",
       "      <td>2020-04-01</td>\n",
       "      <td>0.155963</td>\n",
       "      <td>0.004905</td>\n",
       "    </tr>\n",
       "    <tr>\n",
       "      <td>2020-04-02</td>\n",
       "      <td>-0.979162</td>\n",
       "      <td>0.369490</td>\n",
       "    </tr>\n",
       "  </tbody>\n",
       "</table>\n",
       "</div>"
      ],
      "text/plain": [
       "                   A         B\n",
       "2020-03-28 -0.921923  0.007243\n",
       "2020-03-29 -0.336009 -0.439904\n",
       "2020-03-30  0.417210  0.990094\n",
       "2020-03-31  0.090566  0.476263\n",
       "2020-04-01  0.155963  0.004905\n",
       "2020-04-02 -0.979162  0.369490"
      ]
     },
     "execution_count": 61,
     "metadata": {},
     "output_type": "execute_result"
    }
   ],
   "source": [
    "df[['A', 'B']] # 컬럼명이 여러 개일 때, 컬럼들을 리스트로 묶어준다"
   ]
  },
  {
   "cell_type": "code",
   "execution_count": 66,
   "metadata": {},
   "outputs": [
    {
     "data": {
      "text/html": [
       "<div>\n",
       "<style scoped>\n",
       "    .dataframe tbody tr th:only-of-type {\n",
       "        vertical-align: middle;\n",
       "    }\n",
       "\n",
       "    .dataframe tbody tr th {\n",
       "        vertical-align: top;\n",
       "    }\n",
       "\n",
       "    .dataframe thead th {\n",
       "        text-align: right;\n",
       "    }\n",
       "</style>\n",
       "<table border=\"1\" class=\"dataframe\">\n",
       "  <thead>\n",
       "    <tr style=\"text-align: right;\">\n",
       "      <th></th>\n",
       "      <th>A</th>\n",
       "      <th>B</th>\n",
       "      <th>C</th>\n",
       "      <th>D</th>\n",
       "    </tr>\n",
       "  </thead>\n",
       "  <tbody>\n",
       "    <tr>\n",
       "      <td>2020-03-28</td>\n",
       "      <td>-0.921923</td>\n",
       "      <td>0.007243</td>\n",
       "      <td>0.827131</td>\n",
       "      <td>-0.052369</td>\n",
       "    </tr>\n",
       "    <tr>\n",
       "      <td>2020-03-29</td>\n",
       "      <td>-0.336009</td>\n",
       "      <td>-0.439904</td>\n",
       "      <td>-0.071364</td>\n",
       "      <td>-0.445943</td>\n",
       "    </tr>\n",
       "    <tr>\n",
       "      <td>2020-03-30</td>\n",
       "      <td>0.417210</td>\n",
       "      <td>0.990094</td>\n",
       "      <td>-0.505462</td>\n",
       "      <td>-0.786353</td>\n",
       "    </tr>\n",
       "  </tbody>\n",
       "</table>\n",
       "</div>"
      ],
      "text/plain": [
       "                   A         B         C         D\n",
       "2020-03-28 -0.921923  0.007243  0.827131 -0.052369\n",
       "2020-03-29 -0.336009 -0.439904 -0.071364 -0.445943\n",
       "2020-03-30  0.417210  0.990094 -0.505462 -0.786353"
      ]
     },
     "execution_count": 66,
     "metadata": {},
     "output_type": "execute_result"
    }
   ],
   "source": [
    "df[0:3] # 행 단위로 빼고 싶다면,"
   ]
  },
  {
   "cell_type": "code",
   "execution_count": 68,
   "metadata": {},
   "outputs": [
    {
     "data": {
      "text/html": [
       "<div>\n",
       "<style scoped>\n",
       "    .dataframe tbody tr th:only-of-type {\n",
       "        vertical-align: middle;\n",
       "    }\n",
       "\n",
       "    .dataframe tbody tr th {\n",
       "        vertical-align: top;\n",
       "    }\n",
       "\n",
       "    .dataframe thead th {\n",
       "        text-align: right;\n",
       "    }\n",
       "</style>\n",
       "<table border=\"1\" class=\"dataframe\">\n",
       "  <thead>\n",
       "    <tr style=\"text-align: right;\">\n",
       "      <th></th>\n",
       "      <th>A</th>\n",
       "      <th>B</th>\n",
       "      <th>C</th>\n",
       "      <th>D</th>\n",
       "    </tr>\n",
       "  </thead>\n",
       "  <tbody>\n",
       "    <tr>\n",
       "      <td>2020-03-30</td>\n",
       "      <td>0.41721</td>\n",
       "      <td>0.990094</td>\n",
       "      <td>-0.505462</td>\n",
       "      <td>-0.786353</td>\n",
       "    </tr>\n",
       "  </tbody>\n",
       "</table>\n",
       "</div>"
      ],
      "text/plain": [
       "                  A         B         C         D\n",
       "2020-03-30  0.41721  0.990094 -0.505462 -0.786353"
      ]
     },
     "execution_count": 68,
     "metadata": {},
     "output_type": "execute_result"
    }
   ],
   "source": [
    "df[2:3] # 하나를 빼올 때, [2]가 아니라 범위로 지정해야함([2:3])"
   ]
  },
  {
   "cell_type": "code",
   "execution_count": 69,
   "metadata": {},
   "outputs": [
    {
     "data": {
      "text/plain": [
       "A   -0.921923\n",
       "B    0.007243\n",
       "C    0.827131\n",
       "D   -0.052369\n",
       "Name: 2020-03-28 00:00:00, dtype: float64"
      ]
     },
     "execution_count": 69,
     "metadata": {},
     "output_type": "execute_result"
    }
   ],
   "source": [
    "df.loc[dates[0]] # index가 2020-03-28인 행"
   ]
  },
  {
   "cell_type": "code",
   "execution_count": 71,
   "metadata": {},
   "outputs": [
    {
     "data": {
      "text/html": [
       "<div>\n",
       "<style scoped>\n",
       "    .dataframe tbody tr th:only-of-type {\n",
       "        vertical-align: middle;\n",
       "    }\n",
       "\n",
       "    .dataframe tbody tr th {\n",
       "        vertical-align: top;\n",
       "    }\n",
       "\n",
       "    .dataframe thead th {\n",
       "        text-align: right;\n",
       "    }\n",
       "</style>\n",
       "<table border=\"1\" class=\"dataframe\">\n",
       "  <thead>\n",
       "    <tr style=\"text-align: right;\">\n",
       "      <th></th>\n",
       "      <th>A</th>\n",
       "      <th>B</th>\n",
       "      <th>C</th>\n",
       "      <th>D</th>\n",
       "    </tr>\n",
       "  </thead>\n",
       "  <tbody>\n",
       "    <tr>\n",
       "      <td>2020-03-28</td>\n",
       "      <td>-0.921923</td>\n",
       "      <td>0.007243</td>\n",
       "      <td>0.827131</td>\n",
       "      <td>-0.052369</td>\n",
       "    </tr>\n",
       "    <tr>\n",
       "      <td>2020-03-29</td>\n",
       "      <td>-0.336009</td>\n",
       "      <td>-0.439904</td>\n",
       "      <td>-0.071364</td>\n",
       "      <td>-0.445943</td>\n",
       "    </tr>\n",
       "    <tr>\n",
       "      <td>2020-03-30</td>\n",
       "      <td>0.417210</td>\n",
       "      <td>0.990094</td>\n",
       "      <td>-0.505462</td>\n",
       "      <td>-0.786353</td>\n",
       "    </tr>\n",
       "    <tr>\n",
       "      <td>2020-03-31</td>\n",
       "      <td>0.090566</td>\n",
       "      <td>0.476263</td>\n",
       "      <td>-1.465175</td>\n",
       "      <td>0.371908</td>\n",
       "    </tr>\n",
       "    <tr>\n",
       "      <td>2020-04-01</td>\n",
       "      <td>0.155963</td>\n",
       "      <td>0.004905</td>\n",
       "      <td>-0.508943</td>\n",
       "      <td>-0.304544</td>\n",
       "    </tr>\n",
       "    <tr>\n",
       "      <td>2020-04-02</td>\n",
       "      <td>-0.979162</td>\n",
       "      <td>0.369490</td>\n",
       "      <td>-1.841012</td>\n",
       "      <td>-0.253654</td>\n",
       "    </tr>\n",
       "  </tbody>\n",
       "</table>\n",
       "</div>"
      ],
      "text/plain": [
       "                   A         B         C         D\n",
       "2020-03-28 -0.921923  0.007243  0.827131 -0.052369\n",
       "2020-03-29 -0.336009 -0.439904 -0.071364 -0.445943\n",
       "2020-03-30  0.417210  0.990094 -0.505462 -0.786353\n",
       "2020-03-31  0.090566  0.476263 -1.465175  0.371908\n",
       "2020-04-01  0.155963  0.004905 -0.508943 -0.304544\n",
       "2020-04-02 -0.979162  0.369490 -1.841012 -0.253654"
      ]
     },
     "execution_count": 71,
     "metadata": {},
     "output_type": "execute_result"
    }
   ],
   "source": [
    "df"
   ]
  },
  {
   "cell_type": "code",
   "execution_count": 73,
   "metadata": {},
   "outputs": [
    {
     "data": {
      "text/plain": [
       "A    0.090566\n",
       "B    0.476263\n",
       "C   -1.465175\n",
       "D    0.371908\n",
       "Name: 2020-03-31 00:00:00, dtype: float64"
      ]
     },
     "execution_count": 73,
     "metadata": {},
     "output_type": "execute_result"
    }
   ],
   "source": [
    "df.loc['20200331']"
   ]
  },
  {
   "cell_type": "code",
   "execution_count": 75,
   "metadata": {},
   "outputs": [
    {
     "data": {
      "text/html": [
       "<div>\n",
       "<style scoped>\n",
       "    .dataframe tbody tr th:only-of-type {\n",
       "        vertical-align: middle;\n",
       "    }\n",
       "\n",
       "    .dataframe tbody tr th {\n",
       "        vertical-align: top;\n",
       "    }\n",
       "\n",
       "    .dataframe thead th {\n",
       "        text-align: right;\n",
       "    }\n",
       "</style>\n",
       "<table border=\"1\" class=\"dataframe\">\n",
       "  <thead>\n",
       "    <tr style=\"text-align: right;\">\n",
       "      <th></th>\n",
       "      <th>A</th>\n",
       "      <th>B</th>\n",
       "    </tr>\n",
       "  </thead>\n",
       "  <tbody>\n",
       "    <tr>\n",
       "      <td>2020-03-28</td>\n",
       "      <td>-0.921923</td>\n",
       "      <td>0.007243</td>\n",
       "    </tr>\n",
       "    <tr>\n",
       "      <td>2020-03-29</td>\n",
       "      <td>-0.336009</td>\n",
       "      <td>-0.439904</td>\n",
       "    </tr>\n",
       "    <tr>\n",
       "      <td>2020-03-30</td>\n",
       "      <td>0.417210</td>\n",
       "      <td>0.990094</td>\n",
       "    </tr>\n",
       "    <tr>\n",
       "      <td>2020-03-31</td>\n",
       "      <td>0.090566</td>\n",
       "      <td>0.476263</td>\n",
       "    </tr>\n",
       "    <tr>\n",
       "      <td>2020-04-01</td>\n",
       "      <td>0.155963</td>\n",
       "      <td>0.004905</td>\n",
       "    </tr>\n",
       "    <tr>\n",
       "      <td>2020-04-02</td>\n",
       "      <td>-0.979162</td>\n",
       "      <td>0.369490</td>\n",
       "    </tr>\n",
       "  </tbody>\n",
       "</table>\n",
       "</div>"
      ],
      "text/plain": [
       "                   A         B\n",
       "2020-03-28 -0.921923  0.007243\n",
       "2020-03-29 -0.336009 -0.439904\n",
       "2020-03-30  0.417210  0.990094\n",
       "2020-03-31  0.090566  0.476263\n",
       "2020-04-01  0.155963  0.004905\n",
       "2020-04-02 -0.979162  0.369490"
      ]
     },
     "execution_count": 75,
     "metadata": {},
     "output_type": "execute_result"
    }
   ],
   "source": [
    "df.loc[:, ['A', 'B']] # log[행, 열] - 행의 ':'은 전부 다, 열은 A와 B만 (['A','B'])"
   ]
  },
  {
   "cell_type": "code",
   "execution_count": 77,
   "metadata": {},
   "outputs": [
    {
     "data": {
      "text/html": [
       "<div>\n",
       "<style scoped>\n",
       "    .dataframe tbody tr th:only-of-type {\n",
       "        vertical-align: middle;\n",
       "    }\n",
       "\n",
       "    .dataframe tbody tr th {\n",
       "        vertical-align: top;\n",
       "    }\n",
       "\n",
       "    .dataframe thead th {\n",
       "        text-align: right;\n",
       "    }\n",
       "</style>\n",
       "<table border=\"1\" class=\"dataframe\">\n",
       "  <thead>\n",
       "    <tr style=\"text-align: right;\">\n",
       "      <th></th>\n",
       "      <th>A</th>\n",
       "      <th>B</th>\n",
       "    </tr>\n",
       "  </thead>\n",
       "  <tbody>\n",
       "    <tr>\n",
       "      <td>2020-03-28</td>\n",
       "      <td>-0.921923</td>\n",
       "      <td>0.007243</td>\n",
       "    </tr>\n",
       "    <tr>\n",
       "      <td>2020-03-29</td>\n",
       "      <td>-0.336009</td>\n",
       "      <td>-0.439904</td>\n",
       "    </tr>\n",
       "    <tr>\n",
       "      <td>2020-03-30</td>\n",
       "      <td>0.417210</td>\n",
       "      <td>0.990094</td>\n",
       "    </tr>\n",
       "  </tbody>\n",
       "</table>\n",
       "</div>"
      ],
      "text/plain": [
       "                   A         B\n",
       "2020-03-28 -0.921923  0.007243\n",
       "2020-03-29 -0.336009 -0.439904\n",
       "2020-03-30  0.417210  0.990094"
      ]
     },
     "execution_count": 77,
     "metadata": {},
     "output_type": "execute_result"
    }
   ],
   "source": [
    "df.loc['20200328' : '20200330', ['A', 'B']]"
   ]
  },
  {
   "cell_type": "code",
   "execution_count": 80,
   "metadata": {},
   "outputs": [
    {
     "data": {
      "text/html": [
       "<div>\n",
       "<style scoped>\n",
       "    .dataframe tbody tr th:only-of-type {\n",
       "        vertical-align: middle;\n",
       "    }\n",
       "\n",
       "    .dataframe tbody tr th {\n",
       "        vertical-align: top;\n",
       "    }\n",
       "\n",
       "    .dataframe thead th {\n",
       "        text-align: right;\n",
       "    }\n",
       "</style>\n",
       "<table border=\"1\" class=\"dataframe\">\n",
       "  <thead>\n",
       "    <tr style=\"text-align: right;\">\n",
       "      <th></th>\n",
       "      <th>A</th>\n",
       "      <th>B</th>\n",
       "      <th>C</th>\n",
       "      <th>D</th>\n",
       "    </tr>\n",
       "  </thead>\n",
       "  <tbody>\n",
       "    <tr>\n",
       "      <td>2020-03-28</td>\n",
       "      <td>-0.921923</td>\n",
       "      <td>0.007243</td>\n",
       "      <td>0.827131</td>\n",
       "      <td>-0.052369</td>\n",
       "    </tr>\n",
       "    <tr>\n",
       "      <td>2020-03-29</td>\n",
       "      <td>-0.336009</td>\n",
       "      <td>-0.439904</td>\n",
       "      <td>-0.071364</td>\n",
       "      <td>-0.445943</td>\n",
       "    </tr>\n",
       "    <tr>\n",
       "      <td>2020-03-30</td>\n",
       "      <td>0.417210</td>\n",
       "      <td>0.990094</td>\n",
       "      <td>-0.505462</td>\n",
       "      <td>-0.786353</td>\n",
       "    </tr>\n",
       "    <tr>\n",
       "      <td>2020-03-31</td>\n",
       "      <td>0.090566</td>\n",
       "      <td>0.476263</td>\n",
       "      <td>-1.465175</td>\n",
       "      <td>0.371908</td>\n",
       "    </tr>\n",
       "    <tr>\n",
       "      <td>2020-04-01</td>\n",
       "      <td>0.155963</td>\n",
       "      <td>0.004905</td>\n",
       "      <td>-0.508943</td>\n",
       "      <td>-0.304544</td>\n",
       "    </tr>\n",
       "    <tr>\n",
       "      <td>2020-04-02</td>\n",
       "      <td>-0.979162</td>\n",
       "      <td>0.369490</td>\n",
       "      <td>-1.841012</td>\n",
       "      <td>-0.253654</td>\n",
       "    </tr>\n",
       "  </tbody>\n",
       "</table>\n",
       "</div>"
      ],
      "text/plain": [
       "                   A         B         C         D\n",
       "2020-03-28 -0.921923  0.007243  0.827131 -0.052369\n",
       "2020-03-29 -0.336009 -0.439904 -0.071364 -0.445943\n",
       "2020-03-30  0.417210  0.990094 -0.505462 -0.786353\n",
       "2020-03-31  0.090566  0.476263 -1.465175  0.371908\n",
       "2020-04-01  0.155963  0.004905 -0.508943 -0.304544\n",
       "2020-04-02 -0.979162  0.369490 -1.841012 -0.253654"
      ]
     },
     "execution_count": 80,
     "metadata": {},
     "output_type": "execute_result"
    }
   ],
   "source": [
    "df"
   ]
  },
  {
   "cell_type": "code",
   "execution_count": 79,
   "metadata": {},
   "outputs": [
    {
     "data": {
      "text/plain": [
       "A    0.090566\n",
       "B    0.476263\n",
       "C   -1.465175\n",
       "D    0.371908\n",
       "Name: 2020-03-31 00:00:00, dtype: float64"
      ]
     },
     "execution_count": 79,
     "metadata": {},
     "output_type": "execute_result"
    }
   ],
   "source": [
    "df.iloc[3]"
   ]
  },
  {
   "cell_type": "code",
   "execution_count": 82,
   "metadata": {},
   "outputs": [
    {
     "data": {
      "text/html": [
       "<div>\n",
       "<style scoped>\n",
       "    .dataframe tbody tr th:only-of-type {\n",
       "        vertical-align: middle;\n",
       "    }\n",
       "\n",
       "    .dataframe tbody tr th {\n",
       "        vertical-align: top;\n",
       "    }\n",
       "\n",
       "    .dataframe thead th {\n",
       "        text-align: right;\n",
       "    }\n",
       "</style>\n",
       "<table border=\"1\" class=\"dataframe\">\n",
       "  <thead>\n",
       "    <tr style=\"text-align: right;\">\n",
       "      <th></th>\n",
       "      <th>B</th>\n",
       "      <th>C</th>\n",
       "    </tr>\n",
       "  </thead>\n",
       "  <tbody>\n",
       "    <tr>\n",
       "      <td>2020-03-28</td>\n",
       "      <td>0.007243</td>\n",
       "      <td>0.827131</td>\n",
       "    </tr>\n",
       "    <tr>\n",
       "      <td>2020-03-29</td>\n",
       "      <td>-0.439904</td>\n",
       "      <td>-0.071364</td>\n",
       "    </tr>\n",
       "    <tr>\n",
       "      <td>2020-03-30</td>\n",
       "      <td>0.990094</td>\n",
       "      <td>-0.505462</td>\n",
       "    </tr>\n",
       "    <tr>\n",
       "      <td>2020-03-31</td>\n",
       "      <td>0.476263</td>\n",
       "      <td>-1.465175</td>\n",
       "    </tr>\n",
       "    <tr>\n",
       "      <td>2020-04-01</td>\n",
       "      <td>0.004905</td>\n",
       "      <td>-0.508943</td>\n",
       "    </tr>\n",
       "    <tr>\n",
       "      <td>2020-04-02</td>\n",
       "      <td>0.369490</td>\n",
       "      <td>-1.841012</td>\n",
       "    </tr>\n",
       "  </tbody>\n",
       "</table>\n",
       "</div>"
      ],
      "text/plain": [
       "                   B         C\n",
       "2020-03-28  0.007243  0.827131\n",
       "2020-03-29 -0.439904 -0.071364\n",
       "2020-03-30  0.990094 -0.505462\n",
       "2020-03-31  0.476263 -1.465175\n",
       "2020-04-01  0.004905 -0.508943\n",
       "2020-04-02  0.369490 -1.841012"
      ]
     },
     "execution_count": 82,
     "metadata": {},
     "output_type": "execute_result"
    }
   ],
   "source": [
    "df.iloc[:, 1:3] # 1:3은 열이고, 1번째부터 2번째까지(B,C)"
   ]
  },
  {
   "cell_type": "code",
   "execution_count": 83,
   "metadata": {},
   "outputs": [
    {
     "data": {
      "text/html": [
       "<div>\n",
       "<style scoped>\n",
       "    .dataframe tbody tr th:only-of-type {\n",
       "        vertical-align: middle;\n",
       "    }\n",
       "\n",
       "    .dataframe tbody tr th {\n",
       "        vertical-align: top;\n",
       "    }\n",
       "\n",
       "    .dataframe thead th {\n",
       "        text-align: right;\n",
       "    }\n",
       "</style>\n",
       "<table border=\"1\" class=\"dataframe\">\n",
       "  <thead>\n",
       "    <tr style=\"text-align: right;\">\n",
       "      <th></th>\n",
       "      <th>A</th>\n",
       "      <th>B</th>\n",
       "      <th>C</th>\n",
       "      <th>D</th>\n",
       "    </tr>\n",
       "  </thead>\n",
       "  <tbody>\n",
       "    <tr>\n",
       "      <td>2020-03-28</td>\n",
       "      <td>-0.921923</td>\n",
       "      <td>0.007243</td>\n",
       "      <td>0.827131</td>\n",
       "      <td>-0.052369</td>\n",
       "    </tr>\n",
       "    <tr>\n",
       "      <td>2020-03-29</td>\n",
       "      <td>-0.336009</td>\n",
       "      <td>-0.439904</td>\n",
       "      <td>-0.071364</td>\n",
       "      <td>-0.445943</td>\n",
       "    </tr>\n",
       "    <tr>\n",
       "      <td>2020-03-30</td>\n",
       "      <td>0.417210</td>\n",
       "      <td>0.990094</td>\n",
       "      <td>-0.505462</td>\n",
       "      <td>-0.786353</td>\n",
       "    </tr>\n",
       "    <tr>\n",
       "      <td>2020-03-31</td>\n",
       "      <td>0.090566</td>\n",
       "      <td>0.476263</td>\n",
       "      <td>-1.465175</td>\n",
       "      <td>0.371908</td>\n",
       "    </tr>\n",
       "    <tr>\n",
       "      <td>2020-04-01</td>\n",
       "      <td>0.155963</td>\n",
       "      <td>0.004905</td>\n",
       "      <td>-0.508943</td>\n",
       "      <td>-0.304544</td>\n",
       "    </tr>\n",
       "    <tr>\n",
       "      <td>2020-04-02</td>\n",
       "      <td>-0.979162</td>\n",
       "      <td>0.369490</td>\n",
       "      <td>-1.841012</td>\n",
       "      <td>-0.253654</td>\n",
       "    </tr>\n",
       "  </tbody>\n",
       "</table>\n",
       "</div>"
      ],
      "text/plain": [
       "                   A         B         C         D\n",
       "2020-03-28 -0.921923  0.007243  0.827131 -0.052369\n",
       "2020-03-29 -0.336009 -0.439904 -0.071364 -0.445943\n",
       "2020-03-30  0.417210  0.990094 -0.505462 -0.786353\n",
       "2020-03-31  0.090566  0.476263 -1.465175  0.371908\n",
       "2020-04-01  0.155963  0.004905 -0.508943 -0.304544\n",
       "2020-04-02 -0.979162  0.369490 -1.841012 -0.253654"
      ]
     },
     "execution_count": 83,
     "metadata": {},
     "output_type": "execute_result"
    }
   ],
   "source": [
    "df"
   ]
  },
  {
   "cell_type": "code",
   "execution_count": 85,
   "metadata": {},
   "outputs": [
    {
     "data": {
      "text/plain": [
       "2020-03-28    False\n",
       "2020-03-29    False\n",
       "2020-03-30     True\n",
       "2020-03-31     True\n",
       "2020-04-01     True\n",
       "2020-04-02    False\n",
       "Freq: D, Name: A, dtype: bool"
      ]
     },
     "execution_count": 85,
     "metadata": {},
     "output_type": "execute_result"
    }
   ],
   "source": [
    "df['A'] > 0 # 'A'컬럼의 데이터를 보여준다. DataFrame X"
   ]
  },
  {
   "cell_type": "code",
   "execution_count": 88,
   "metadata": {},
   "outputs": [
    {
     "data": {
      "text/html": [
       "<div>\n",
       "<style scoped>\n",
       "    .dataframe tbody tr th:only-of-type {\n",
       "        vertical-align: middle;\n",
       "    }\n",
       "\n",
       "    .dataframe tbody tr th {\n",
       "        vertical-align: top;\n",
       "    }\n",
       "\n",
       "    .dataframe thead th {\n",
       "        text-align: right;\n",
       "    }\n",
       "</style>\n",
       "<table border=\"1\" class=\"dataframe\">\n",
       "  <thead>\n",
       "    <tr style=\"text-align: right;\">\n",
       "      <th></th>\n",
       "      <th>A</th>\n",
       "      <th>B</th>\n",
       "      <th>C</th>\n",
       "      <th>D</th>\n",
       "    </tr>\n",
       "  </thead>\n",
       "  <tbody>\n",
       "    <tr>\n",
       "      <td>2020-03-30</td>\n",
       "      <td>0.417210</td>\n",
       "      <td>0.990094</td>\n",
       "      <td>-0.505462</td>\n",
       "      <td>-0.786353</td>\n",
       "    </tr>\n",
       "    <tr>\n",
       "      <td>2020-03-31</td>\n",
       "      <td>0.090566</td>\n",
       "      <td>0.476263</td>\n",
       "      <td>-1.465175</td>\n",
       "      <td>0.371908</td>\n",
       "    </tr>\n",
       "    <tr>\n",
       "      <td>2020-04-01</td>\n",
       "      <td>0.155963</td>\n",
       "      <td>0.004905</td>\n",
       "      <td>-0.508943</td>\n",
       "      <td>-0.304544</td>\n",
       "    </tr>\n",
       "  </tbody>\n",
       "</table>\n",
       "</div>"
      ],
      "text/plain": [
       "                   A         B         C         D\n",
       "2020-03-30  0.417210  0.990094 -0.505462 -0.786353\n",
       "2020-03-31  0.090566  0.476263 -1.465175  0.371908\n",
       "2020-04-01  0.155963  0.004905 -0.508943 -0.304544"
      ]
     },
     "execution_count": 88,
     "metadata": {},
     "output_type": "execute_result"
    }
   ],
   "source": [
    "df[df['A'] > 0] # 위의 값을 전체 DataFrame 상의 값으로 보여줌(True인 값만)"
   ]
  },
  {
   "cell_type": "code",
   "execution_count": 94,
   "metadata": {},
   "outputs": [],
   "source": [
    "df4 = df[df > 0]"
   ]
  },
  {
   "cell_type": "code",
   "execution_count": 90,
   "metadata": {},
   "outputs": [],
   "source": [
    "df3 = df"
   ]
  },
  {
   "cell_type": "code",
   "execution_count": 92,
   "metadata": {},
   "outputs": [
    {
     "data": {
      "text/plain": [
       "140360509920720"
      ]
     },
     "execution_count": 92,
     "metadata": {},
     "output_type": "execute_result"
    }
   ],
   "source": [
    "id(df3)"
   ]
  },
  {
   "cell_type": "code",
   "execution_count": 93,
   "metadata": {},
   "outputs": [
    {
     "data": {
      "text/plain": [
       "140360509920720"
      ]
     },
     "execution_count": 93,
     "metadata": {},
     "output_type": "execute_result"
    }
   ],
   "source": [
    "id(df)"
   ]
  },
  {
   "cell_type": "code",
   "execution_count": 95,
   "metadata": {},
   "outputs": [
    {
     "data": {
      "text/plain": [
       "140360498712528"
      ]
     },
     "execution_count": 95,
     "metadata": {},
     "output_type": "execute_result"
    }
   ],
   "source": [
    "id(df4)"
   ]
  },
  {
   "cell_type": "code",
   "execution_count": 96,
   "metadata": {},
   "outputs": [],
   "source": [
    "df3 = df.copy()"
   ]
  },
  {
   "cell_type": "code",
   "execution_count": 97,
   "metadata": {},
   "outputs": [
    {
     "data": {
      "text/plain": [
       "140360498534672"
      ]
     },
     "execution_count": 97,
     "metadata": {},
     "output_type": "execute_result"
    }
   ],
   "source": [
    "id(df3)"
   ]
  },
  {
   "cell_type": "code",
   "execution_count": 98,
   "metadata": {},
   "outputs": [
    {
     "data": {
      "text/plain": [
       "140360509920720"
      ]
     },
     "execution_count": 98,
     "metadata": {},
     "output_type": "execute_result"
    }
   ],
   "source": [
    "id(df)"
   ]
  },
  {
   "cell_type": "code",
   "execution_count": 100,
   "metadata": {},
   "outputs": [
    {
     "data": {
      "text/html": [
       "<div>\n",
       "<style scoped>\n",
       "    .dataframe tbody tr th:only-of-type {\n",
       "        vertical-align: middle;\n",
       "    }\n",
       "\n",
       "    .dataframe tbody tr th {\n",
       "        vertical-align: top;\n",
       "    }\n",
       "\n",
       "    .dataframe thead th {\n",
       "        text-align: right;\n",
       "    }\n",
       "</style>\n",
       "<table border=\"1\" class=\"dataframe\">\n",
       "  <thead>\n",
       "    <tr style=\"text-align: right;\">\n",
       "      <th></th>\n",
       "      <th>A</th>\n",
       "      <th>B</th>\n",
       "      <th>C</th>\n",
       "      <th>D</th>\n",
       "    </tr>\n",
       "  </thead>\n",
       "  <tbody>\n",
       "    <tr>\n",
       "      <td>2020-03-28</td>\n",
       "      <td>-0.921923</td>\n",
       "      <td>0.007243</td>\n",
       "      <td>0.827131</td>\n",
       "      <td>-0.052369</td>\n",
       "    </tr>\n",
       "    <tr>\n",
       "      <td>2020-03-29</td>\n",
       "      <td>-0.336009</td>\n",
       "      <td>-0.439904</td>\n",
       "      <td>-0.071364</td>\n",
       "      <td>-0.445943</td>\n",
       "    </tr>\n",
       "    <tr>\n",
       "      <td>2020-03-30</td>\n",
       "      <td>0.417210</td>\n",
       "      <td>0.990094</td>\n",
       "      <td>-0.505462</td>\n",
       "      <td>-0.786353</td>\n",
       "    </tr>\n",
       "    <tr>\n",
       "      <td>2020-03-31</td>\n",
       "      <td>0.090566</td>\n",
       "      <td>0.476263</td>\n",
       "      <td>-1.465175</td>\n",
       "      <td>0.371908</td>\n",
       "    </tr>\n",
       "    <tr>\n",
       "      <td>2020-04-01</td>\n",
       "      <td>0.155963</td>\n",
       "      <td>0.004905</td>\n",
       "      <td>-0.508943</td>\n",
       "      <td>-0.304544</td>\n",
       "    </tr>\n",
       "    <tr>\n",
       "      <td>2020-04-02</td>\n",
       "      <td>-0.979162</td>\n",
       "      <td>0.369490</td>\n",
       "      <td>-1.841012</td>\n",
       "      <td>-0.253654</td>\n",
       "    </tr>\n",
       "  </tbody>\n",
       "</table>\n",
       "</div>"
      ],
      "text/plain": [
       "                   A         B         C         D\n",
       "2020-03-28 -0.921923  0.007243  0.827131 -0.052369\n",
       "2020-03-29 -0.336009 -0.439904 -0.071364 -0.445943\n",
       "2020-03-30  0.417210  0.990094 -0.505462 -0.786353\n",
       "2020-03-31  0.090566  0.476263 -1.465175  0.371908\n",
       "2020-04-01  0.155963  0.004905 -0.508943 -0.304544\n",
       "2020-04-02 -0.979162  0.369490 -1.841012 -0.253654"
      ]
     },
     "execution_count": 100,
     "metadata": {},
     "output_type": "execute_result"
    }
   ],
   "source": [
    "df3"
   ]
  },
  {
   "cell_type": "code",
   "execution_count": 107,
   "metadata": {},
   "outputs": [],
   "source": [
    "df3['E'] = ['one', 'one', 'two', 'three', 'four', 'three'] # E 컬럼의 속성 갯수를 맞춰줘야함(6개)"
   ]
  },
  {
   "cell_type": "code",
   "execution_count": 109,
   "metadata": {},
   "outputs": [
    {
     "data": {
      "text/html": [
       "<div>\n",
       "<style scoped>\n",
       "    .dataframe tbody tr th:only-of-type {\n",
       "        vertical-align: middle;\n",
       "    }\n",
       "\n",
       "    .dataframe tbody tr th {\n",
       "        vertical-align: top;\n",
       "    }\n",
       "\n",
       "    .dataframe thead th {\n",
       "        text-align: right;\n",
       "    }\n",
       "</style>\n",
       "<table border=\"1\" class=\"dataframe\">\n",
       "  <thead>\n",
       "    <tr style=\"text-align: right;\">\n",
       "      <th></th>\n",
       "      <th>A</th>\n",
       "      <th>B</th>\n",
       "      <th>C</th>\n",
       "      <th>D</th>\n",
       "    </tr>\n",
       "  </thead>\n",
       "  <tbody>\n",
       "    <tr>\n",
       "      <td>2020-03-28</td>\n",
       "      <td>-0.921923</td>\n",
       "      <td>0.007243</td>\n",
       "      <td>0.827131</td>\n",
       "      <td>-0.052369</td>\n",
       "    </tr>\n",
       "    <tr>\n",
       "      <td>2020-03-29</td>\n",
       "      <td>-0.336009</td>\n",
       "      <td>-0.439904</td>\n",
       "      <td>-0.071364</td>\n",
       "      <td>-0.445943</td>\n",
       "    </tr>\n",
       "    <tr>\n",
       "      <td>2020-03-30</td>\n",
       "      <td>0.417210</td>\n",
       "      <td>0.990094</td>\n",
       "      <td>-0.505462</td>\n",
       "      <td>-0.786353</td>\n",
       "    </tr>\n",
       "    <tr>\n",
       "      <td>2020-03-31</td>\n",
       "      <td>0.090566</td>\n",
       "      <td>0.476263</td>\n",
       "      <td>-1.465175</td>\n",
       "      <td>0.371908</td>\n",
       "    </tr>\n",
       "    <tr>\n",
       "      <td>2020-04-01</td>\n",
       "      <td>0.155963</td>\n",
       "      <td>0.004905</td>\n",
       "      <td>-0.508943</td>\n",
       "      <td>-0.304544</td>\n",
       "    </tr>\n",
       "    <tr>\n",
       "      <td>2020-04-02</td>\n",
       "      <td>-0.979162</td>\n",
       "      <td>0.369490</td>\n",
       "      <td>-1.841012</td>\n",
       "      <td>-0.253654</td>\n",
       "    </tr>\n",
       "  </tbody>\n",
       "</table>\n",
       "</div>"
      ],
      "text/plain": [
       "                   A         B         C         D\n",
       "2020-03-28 -0.921923  0.007243  0.827131 -0.052369\n",
       "2020-03-29 -0.336009 -0.439904 -0.071364 -0.445943\n",
       "2020-03-30  0.417210  0.990094 -0.505462 -0.786353\n",
       "2020-03-31  0.090566  0.476263 -1.465175  0.371908\n",
       "2020-04-01  0.155963  0.004905 -0.508943 -0.304544\n",
       "2020-04-02 -0.979162  0.369490 -1.841012 -0.253654"
      ]
     },
     "execution_count": 109,
     "metadata": {},
     "output_type": "execute_result"
    }
   ],
   "source": [
    "df"
   ]
  },
  {
   "cell_type": "code",
   "execution_count": 110,
   "metadata": {},
   "outputs": [
    {
     "data": {
      "text/html": [
       "<div>\n",
       "<style scoped>\n",
       "    .dataframe tbody tr th:only-of-type {\n",
       "        vertical-align: middle;\n",
       "    }\n",
       "\n",
       "    .dataframe tbody tr th {\n",
       "        vertical-align: top;\n",
       "    }\n",
       "\n",
       "    .dataframe thead th {\n",
       "        text-align: right;\n",
       "    }\n",
       "</style>\n",
       "<table border=\"1\" class=\"dataframe\">\n",
       "  <thead>\n",
       "    <tr style=\"text-align: right;\">\n",
       "      <th></th>\n",
       "      <th>A</th>\n",
       "      <th>B</th>\n",
       "      <th>C</th>\n",
       "      <th>D</th>\n",
       "      <th>E</th>\n",
       "    </tr>\n",
       "  </thead>\n",
       "  <tbody>\n",
       "    <tr>\n",
       "      <td>2020-03-28</td>\n",
       "      <td>-0.921923</td>\n",
       "      <td>0.007243</td>\n",
       "      <td>0.827131</td>\n",
       "      <td>-0.052369</td>\n",
       "      <td>one</td>\n",
       "    </tr>\n",
       "    <tr>\n",
       "      <td>2020-03-29</td>\n",
       "      <td>-0.336009</td>\n",
       "      <td>-0.439904</td>\n",
       "      <td>-0.071364</td>\n",
       "      <td>-0.445943</td>\n",
       "      <td>one</td>\n",
       "    </tr>\n",
       "    <tr>\n",
       "      <td>2020-03-30</td>\n",
       "      <td>0.417210</td>\n",
       "      <td>0.990094</td>\n",
       "      <td>-0.505462</td>\n",
       "      <td>-0.786353</td>\n",
       "      <td>two</td>\n",
       "    </tr>\n",
       "    <tr>\n",
       "      <td>2020-03-31</td>\n",
       "      <td>0.090566</td>\n",
       "      <td>0.476263</td>\n",
       "      <td>-1.465175</td>\n",
       "      <td>0.371908</td>\n",
       "      <td>three</td>\n",
       "    </tr>\n",
       "    <tr>\n",
       "      <td>2020-04-01</td>\n",
       "      <td>0.155963</td>\n",
       "      <td>0.004905</td>\n",
       "      <td>-0.508943</td>\n",
       "      <td>-0.304544</td>\n",
       "      <td>four</td>\n",
       "    </tr>\n",
       "    <tr>\n",
       "      <td>2020-04-02</td>\n",
       "      <td>-0.979162</td>\n",
       "      <td>0.369490</td>\n",
       "      <td>-1.841012</td>\n",
       "      <td>-0.253654</td>\n",
       "      <td>three</td>\n",
       "    </tr>\n",
       "  </tbody>\n",
       "</table>\n",
       "</div>"
      ],
      "text/plain": [
       "                   A         B         C         D      E\n",
       "2020-03-28 -0.921923  0.007243  0.827131 -0.052369    one\n",
       "2020-03-29 -0.336009 -0.439904 -0.071364 -0.445943    one\n",
       "2020-03-30  0.417210  0.990094 -0.505462 -0.786353    two\n",
       "2020-03-31  0.090566  0.476263 -1.465175  0.371908  three\n",
       "2020-04-01  0.155963  0.004905 -0.508943 -0.304544   four\n",
       "2020-04-02 -0.979162  0.369490 -1.841012 -0.253654  three"
      ]
     },
     "execution_count": 110,
     "metadata": {},
     "output_type": "execute_result"
    }
   ],
   "source": [
    "df3"
   ]
  },
  {
   "cell_type": "code",
   "execution_count": 112,
   "metadata": {},
   "outputs": [
    {
     "data": {
      "text/plain": [
       "2020-03-28    False\n",
       "2020-03-29    False\n",
       "2020-03-30     True\n",
       "2020-03-31    False\n",
       "2020-04-01     True\n",
       "2020-04-02    False\n",
       "Freq: D, Name: E, dtype: bool"
      ]
     },
     "execution_count": 112,
     "metadata": {},
     "output_type": "execute_result"
    }
   ],
   "source": [
    "df3.E.isin(['two', 'four'])"
   ]
  },
  {
   "cell_type": "code",
   "execution_count": 114,
   "metadata": {},
   "outputs": [
    {
     "data": {
      "text/html": [
       "<div>\n",
       "<style scoped>\n",
       "    .dataframe tbody tr th:only-of-type {\n",
       "        vertical-align: middle;\n",
       "    }\n",
       "\n",
       "    .dataframe tbody tr th {\n",
       "        vertical-align: top;\n",
       "    }\n",
       "\n",
       "    .dataframe thead th {\n",
       "        text-align: right;\n",
       "    }\n",
       "</style>\n",
       "<table border=\"1\" class=\"dataframe\">\n",
       "  <thead>\n",
       "    <tr style=\"text-align: right;\">\n",
       "      <th></th>\n",
       "      <th>A</th>\n",
       "      <th>B</th>\n",
       "      <th>C</th>\n",
       "      <th>D</th>\n",
       "      <th>E</th>\n",
       "    </tr>\n",
       "  </thead>\n",
       "  <tbody>\n",
       "    <tr>\n",
       "      <td>2020-03-30</td>\n",
       "      <td>0.417210</td>\n",
       "      <td>0.990094</td>\n",
       "      <td>-0.505462</td>\n",
       "      <td>-0.786353</td>\n",
       "      <td>two</td>\n",
       "    </tr>\n",
       "    <tr>\n",
       "      <td>2020-04-01</td>\n",
       "      <td>0.155963</td>\n",
       "      <td>0.004905</td>\n",
       "      <td>-0.508943</td>\n",
       "      <td>-0.304544</td>\n",
       "      <td>four</td>\n",
       "    </tr>\n",
       "  </tbody>\n",
       "</table>\n",
       "</div>"
      ],
      "text/plain": [
       "                   A         B         C         D     E\n",
       "2020-03-30  0.417210  0.990094 -0.505462 -0.786353   two\n",
       "2020-04-01  0.155963  0.004905 -0.508943 -0.304544  four"
      ]
     },
     "execution_count": 114,
     "metadata": {},
     "output_type": "execute_result"
    }
   ],
   "source": [
    "df3[df3.E.isin(['two', 'four'])] # 위의 값을 DataFrame 상으로 보여줌"
   ]
  },
  {
   "cell_type": "code",
   "execution_count": 115,
   "metadata": {},
   "outputs": [],
   "source": [
    "s1 = pd.Series([1, 2, 3, 4, 5, 6], index = pd.date_range('20200329', periods = 6))"
   ]
  },
  {
   "cell_type": "code",
   "execution_count": 116,
   "metadata": {},
   "outputs": [
    {
     "data": {
      "text/plain": [
       "2020-03-29    1\n",
       "2020-03-30    2\n",
       "2020-03-31    3\n",
       "2020-04-01    4\n",
       "2020-04-02    5\n",
       "2020-04-03    6\n",
       "Freq: D, dtype: int64"
      ]
     },
     "execution_count": 116,
     "metadata": {},
     "output_type": "execute_result"
    }
   ],
   "source": [
    "s1"
   ]
  },
  {
   "cell_type": "code",
   "execution_count": 117,
   "metadata": {},
   "outputs": [],
   "source": [
    "df['F'] = s1"
   ]
  },
  {
   "cell_type": "code",
   "execution_count": 118,
   "metadata": {},
   "outputs": [
    {
     "data": {
      "text/html": [
       "<div>\n",
       "<style scoped>\n",
       "    .dataframe tbody tr th:only-of-type {\n",
       "        vertical-align: middle;\n",
       "    }\n",
       "\n",
       "    .dataframe tbody tr th {\n",
       "        vertical-align: top;\n",
       "    }\n",
       "\n",
       "    .dataframe thead th {\n",
       "        text-align: right;\n",
       "    }\n",
       "</style>\n",
       "<table border=\"1\" class=\"dataframe\">\n",
       "  <thead>\n",
       "    <tr style=\"text-align: right;\">\n",
       "      <th></th>\n",
       "      <th>A</th>\n",
       "      <th>B</th>\n",
       "      <th>C</th>\n",
       "      <th>D</th>\n",
       "      <th>F</th>\n",
       "    </tr>\n",
       "  </thead>\n",
       "  <tbody>\n",
       "    <tr>\n",
       "      <td>2020-03-28</td>\n",
       "      <td>-0.921923</td>\n",
       "      <td>0.007243</td>\n",
       "      <td>0.827131</td>\n",
       "      <td>-0.052369</td>\n",
       "      <td>NaN</td>\n",
       "    </tr>\n",
       "    <tr>\n",
       "      <td>2020-03-29</td>\n",
       "      <td>-0.336009</td>\n",
       "      <td>-0.439904</td>\n",
       "      <td>-0.071364</td>\n",
       "      <td>-0.445943</td>\n",
       "      <td>1.0</td>\n",
       "    </tr>\n",
       "    <tr>\n",
       "      <td>2020-03-30</td>\n",
       "      <td>0.417210</td>\n",
       "      <td>0.990094</td>\n",
       "      <td>-0.505462</td>\n",
       "      <td>-0.786353</td>\n",
       "      <td>2.0</td>\n",
       "    </tr>\n",
       "    <tr>\n",
       "      <td>2020-03-31</td>\n",
       "      <td>0.090566</td>\n",
       "      <td>0.476263</td>\n",
       "      <td>-1.465175</td>\n",
       "      <td>0.371908</td>\n",
       "      <td>3.0</td>\n",
       "    </tr>\n",
       "    <tr>\n",
       "      <td>2020-04-01</td>\n",
       "      <td>0.155963</td>\n",
       "      <td>0.004905</td>\n",
       "      <td>-0.508943</td>\n",
       "      <td>-0.304544</td>\n",
       "      <td>4.0</td>\n",
       "    </tr>\n",
       "    <tr>\n",
       "      <td>2020-04-02</td>\n",
       "      <td>-0.979162</td>\n",
       "      <td>0.369490</td>\n",
       "      <td>-1.841012</td>\n",
       "      <td>-0.253654</td>\n",
       "      <td>5.0</td>\n",
       "    </tr>\n",
       "  </tbody>\n",
       "</table>\n",
       "</div>"
      ],
      "text/plain": [
       "                   A         B         C         D    F\n",
       "2020-03-28 -0.921923  0.007243  0.827131 -0.052369  NaN\n",
       "2020-03-29 -0.336009 -0.439904 -0.071364 -0.445943  1.0\n",
       "2020-03-30  0.417210  0.990094 -0.505462 -0.786353  2.0\n",
       "2020-03-31  0.090566  0.476263 -1.465175  0.371908  3.0\n",
       "2020-04-01  0.155963  0.004905 -0.508943 -0.304544  4.0\n",
       "2020-04-02 -0.979162  0.369490 -1.841012 -0.253654  5.0"
      ]
     },
     "execution_count": 118,
     "metadata": {},
     "output_type": "execute_result"
    }
   ],
   "source": [
    "df"
   ]
  },
  {
   "cell_type": "code",
   "execution_count": 121,
   "metadata": {},
   "outputs": [],
   "source": [
    "df.at[dates[0], 'A'] = 0 # 행, 열을 가지고 위치값에 0(값)을 넣어라"
   ]
  },
  {
   "cell_type": "code",
   "execution_count": 122,
   "metadata": {},
   "outputs": [
    {
     "data": {
      "text/html": [
       "<div>\n",
       "<style scoped>\n",
       "    .dataframe tbody tr th:only-of-type {\n",
       "        vertical-align: middle;\n",
       "    }\n",
       "\n",
       "    .dataframe tbody tr th {\n",
       "        vertical-align: top;\n",
       "    }\n",
       "\n",
       "    .dataframe thead th {\n",
       "        text-align: right;\n",
       "    }\n",
       "</style>\n",
       "<table border=\"1\" class=\"dataframe\">\n",
       "  <thead>\n",
       "    <tr style=\"text-align: right;\">\n",
       "      <th></th>\n",
       "      <th>A</th>\n",
       "      <th>B</th>\n",
       "      <th>C</th>\n",
       "      <th>D</th>\n",
       "      <th>F</th>\n",
       "    </tr>\n",
       "  </thead>\n",
       "  <tbody>\n",
       "    <tr>\n",
       "      <td>2020-03-28</td>\n",
       "      <td>0.000000</td>\n",
       "      <td>0.007243</td>\n",
       "      <td>0.827131</td>\n",
       "      <td>-0.052369</td>\n",
       "      <td>NaN</td>\n",
       "    </tr>\n",
       "    <tr>\n",
       "      <td>2020-03-29</td>\n",
       "      <td>-0.336009</td>\n",
       "      <td>-0.439904</td>\n",
       "      <td>-0.071364</td>\n",
       "      <td>-0.445943</td>\n",
       "      <td>1.0</td>\n",
       "    </tr>\n",
       "    <tr>\n",
       "      <td>2020-03-30</td>\n",
       "      <td>0.417210</td>\n",
       "      <td>0.990094</td>\n",
       "      <td>-0.505462</td>\n",
       "      <td>-0.786353</td>\n",
       "      <td>2.0</td>\n",
       "    </tr>\n",
       "    <tr>\n",
       "      <td>2020-03-31</td>\n",
       "      <td>0.090566</td>\n",
       "      <td>0.476263</td>\n",
       "      <td>-1.465175</td>\n",
       "      <td>0.371908</td>\n",
       "      <td>3.0</td>\n",
       "    </tr>\n",
       "    <tr>\n",
       "      <td>2020-04-01</td>\n",
       "      <td>0.155963</td>\n",
       "      <td>0.004905</td>\n",
       "      <td>-0.508943</td>\n",
       "      <td>-0.304544</td>\n",
       "      <td>4.0</td>\n",
       "    </tr>\n",
       "    <tr>\n",
       "      <td>2020-04-02</td>\n",
       "      <td>-0.979162</td>\n",
       "      <td>0.369490</td>\n",
       "      <td>-1.841012</td>\n",
       "      <td>-0.253654</td>\n",
       "      <td>5.0</td>\n",
       "    </tr>\n",
       "  </tbody>\n",
       "</table>\n",
       "</div>"
      ],
      "text/plain": [
       "                   A         B         C         D    F\n",
       "2020-03-28  0.000000  0.007243  0.827131 -0.052369  NaN\n",
       "2020-03-29 -0.336009 -0.439904 -0.071364 -0.445943  1.0\n",
       "2020-03-30  0.417210  0.990094 -0.505462 -0.786353  2.0\n",
       "2020-03-31  0.090566  0.476263 -1.465175  0.371908  3.0\n",
       "2020-04-01  0.155963  0.004905 -0.508943 -0.304544  4.0\n",
       "2020-04-02 -0.979162  0.369490 -1.841012 -0.253654  5.0"
      ]
     },
     "execution_count": 122,
     "metadata": {},
     "output_type": "execute_result"
    }
   ],
   "source": [
    "df"
   ]
  },
  {
   "cell_type": "code",
   "execution_count": 123,
   "metadata": {},
   "outputs": [],
   "source": [
    "df.iat[0, 1] = 0"
   ]
  },
  {
   "cell_type": "code",
   "execution_count": 124,
   "metadata": {},
   "outputs": [
    {
     "data": {
      "text/html": [
       "<div>\n",
       "<style scoped>\n",
       "    .dataframe tbody tr th:only-of-type {\n",
       "        vertical-align: middle;\n",
       "    }\n",
       "\n",
       "    .dataframe tbody tr th {\n",
       "        vertical-align: top;\n",
       "    }\n",
       "\n",
       "    .dataframe thead th {\n",
       "        text-align: right;\n",
       "    }\n",
       "</style>\n",
       "<table border=\"1\" class=\"dataframe\">\n",
       "  <thead>\n",
       "    <tr style=\"text-align: right;\">\n",
       "      <th></th>\n",
       "      <th>A</th>\n",
       "      <th>B</th>\n",
       "      <th>C</th>\n",
       "      <th>D</th>\n",
       "      <th>F</th>\n",
       "    </tr>\n",
       "  </thead>\n",
       "  <tbody>\n",
       "    <tr>\n",
       "      <td>2020-03-28</td>\n",
       "      <td>0.000000</td>\n",
       "      <td>0.000000</td>\n",
       "      <td>0.827131</td>\n",
       "      <td>-0.052369</td>\n",
       "      <td>NaN</td>\n",
       "    </tr>\n",
       "    <tr>\n",
       "      <td>2020-03-29</td>\n",
       "      <td>-0.336009</td>\n",
       "      <td>-0.439904</td>\n",
       "      <td>-0.071364</td>\n",
       "      <td>-0.445943</td>\n",
       "      <td>1.0</td>\n",
       "    </tr>\n",
       "    <tr>\n",
       "      <td>2020-03-30</td>\n",
       "      <td>0.417210</td>\n",
       "      <td>0.990094</td>\n",
       "      <td>-0.505462</td>\n",
       "      <td>-0.786353</td>\n",
       "      <td>2.0</td>\n",
       "    </tr>\n",
       "    <tr>\n",
       "      <td>2020-03-31</td>\n",
       "      <td>0.090566</td>\n",
       "      <td>0.476263</td>\n",
       "      <td>-1.465175</td>\n",
       "      <td>0.371908</td>\n",
       "      <td>3.0</td>\n",
       "    </tr>\n",
       "    <tr>\n",
       "      <td>2020-04-01</td>\n",
       "      <td>0.155963</td>\n",
       "      <td>0.004905</td>\n",
       "      <td>-0.508943</td>\n",
       "      <td>-0.304544</td>\n",
       "      <td>4.0</td>\n",
       "    </tr>\n",
       "    <tr>\n",
       "      <td>2020-04-02</td>\n",
       "      <td>-0.979162</td>\n",
       "      <td>0.369490</td>\n",
       "      <td>-1.841012</td>\n",
       "      <td>-0.253654</td>\n",
       "      <td>5.0</td>\n",
       "    </tr>\n",
       "  </tbody>\n",
       "</table>\n",
       "</div>"
      ],
      "text/plain": [
       "                   A         B         C         D    F\n",
       "2020-03-28  0.000000  0.000000  0.827131 -0.052369  NaN\n",
       "2020-03-29 -0.336009 -0.439904 -0.071364 -0.445943  1.0\n",
       "2020-03-30  0.417210  0.990094 -0.505462 -0.786353  2.0\n",
       "2020-03-31  0.090566  0.476263 -1.465175  0.371908  3.0\n",
       "2020-04-01  0.155963  0.004905 -0.508943 -0.304544  4.0\n",
       "2020-04-02 -0.979162  0.369490 -1.841012 -0.253654  5.0"
      ]
     },
     "execution_count": 124,
     "metadata": {},
     "output_type": "execute_result"
    }
   ],
   "source": [
    "df"
   ]
  },
  {
   "cell_type": "code",
   "execution_count": 125,
   "metadata": {},
   "outputs": [],
   "source": [
    "df5 = df.copy()"
   ]
  },
  {
   "cell_type": "code",
   "execution_count": 126,
   "metadata": {},
   "outputs": [
    {
     "data": {
      "text/html": [
       "<div>\n",
       "<style scoped>\n",
       "    .dataframe tbody tr th:only-of-type {\n",
       "        vertical-align: middle;\n",
       "    }\n",
       "\n",
       "    .dataframe tbody tr th {\n",
       "        vertical-align: top;\n",
       "    }\n",
       "\n",
       "    .dataframe thead th {\n",
       "        text-align: right;\n",
       "    }\n",
       "</style>\n",
       "<table border=\"1\" class=\"dataframe\">\n",
       "  <thead>\n",
       "    <tr style=\"text-align: right;\">\n",
       "      <th></th>\n",
       "      <th>A</th>\n",
       "      <th>B</th>\n",
       "      <th>C</th>\n",
       "      <th>D</th>\n",
       "      <th>F</th>\n",
       "    </tr>\n",
       "  </thead>\n",
       "  <tbody>\n",
       "    <tr>\n",
       "      <td>2020-03-28</td>\n",
       "      <td>0.000000</td>\n",
       "      <td>0.000000</td>\n",
       "      <td>0.827131</td>\n",
       "      <td>-0.052369</td>\n",
       "      <td>NaN</td>\n",
       "    </tr>\n",
       "    <tr>\n",
       "      <td>2020-03-29</td>\n",
       "      <td>-0.336009</td>\n",
       "      <td>-0.439904</td>\n",
       "      <td>-0.071364</td>\n",
       "      <td>-0.445943</td>\n",
       "      <td>1.0</td>\n",
       "    </tr>\n",
       "    <tr>\n",
       "      <td>2020-03-30</td>\n",
       "      <td>0.417210</td>\n",
       "      <td>0.990094</td>\n",
       "      <td>-0.505462</td>\n",
       "      <td>-0.786353</td>\n",
       "      <td>2.0</td>\n",
       "    </tr>\n",
       "    <tr>\n",
       "      <td>2020-03-31</td>\n",
       "      <td>0.090566</td>\n",
       "      <td>0.476263</td>\n",
       "      <td>-1.465175</td>\n",
       "      <td>0.371908</td>\n",
       "      <td>3.0</td>\n",
       "    </tr>\n",
       "    <tr>\n",
       "      <td>2020-04-01</td>\n",
       "      <td>0.155963</td>\n",
       "      <td>0.004905</td>\n",
       "      <td>-0.508943</td>\n",
       "      <td>-0.304544</td>\n",
       "      <td>4.0</td>\n",
       "    </tr>\n",
       "    <tr>\n",
       "      <td>2020-04-02</td>\n",
       "      <td>-0.979162</td>\n",
       "      <td>0.369490</td>\n",
       "      <td>-1.841012</td>\n",
       "      <td>-0.253654</td>\n",
       "      <td>5.0</td>\n",
       "    </tr>\n",
       "  </tbody>\n",
       "</table>\n",
       "</div>"
      ],
      "text/plain": [
       "                   A         B         C         D    F\n",
       "2020-03-28  0.000000  0.000000  0.827131 -0.052369  NaN\n",
       "2020-03-29 -0.336009 -0.439904 -0.071364 -0.445943  1.0\n",
       "2020-03-30  0.417210  0.990094 -0.505462 -0.786353  2.0\n",
       "2020-03-31  0.090566  0.476263 -1.465175  0.371908  3.0\n",
       "2020-04-01  0.155963  0.004905 -0.508943 -0.304544  4.0\n",
       "2020-04-02 -0.979162  0.369490 -1.841012 -0.253654  5.0"
      ]
     },
     "execution_count": 126,
     "metadata": {},
     "output_type": "execute_result"
    }
   ],
   "source": [
    "df5"
   ]
  },
  {
   "cell_type": "code",
   "execution_count": 128,
   "metadata": {},
   "outputs": [
    {
     "data": {
      "text/html": [
       "<div>\n",
       "<style scoped>\n",
       "    .dataframe tbody tr th:only-of-type {\n",
       "        vertical-align: middle;\n",
       "    }\n",
       "\n",
       "    .dataframe tbody tr th {\n",
       "        vertical-align: top;\n",
       "    }\n",
       "\n",
       "    .dataframe thead th {\n",
       "        text-align: right;\n",
       "    }\n",
       "</style>\n",
       "<table border=\"1\" class=\"dataframe\">\n",
       "  <thead>\n",
       "    <tr style=\"text-align: right;\">\n",
       "      <th></th>\n",
       "      <th>A</th>\n",
       "      <th>B</th>\n",
       "      <th>C</th>\n",
       "      <th>D</th>\n",
       "      <th>F</th>\n",
       "    </tr>\n",
       "  </thead>\n",
       "  <tbody>\n",
       "    <tr>\n",
       "      <td>2020-03-28</td>\n",
       "      <td>False</td>\n",
       "      <td>False</td>\n",
       "      <td>True</td>\n",
       "      <td>False</td>\n",
       "      <td>False</td>\n",
       "    </tr>\n",
       "    <tr>\n",
       "      <td>2020-03-29</td>\n",
       "      <td>False</td>\n",
       "      <td>False</td>\n",
       "      <td>False</td>\n",
       "      <td>False</td>\n",
       "      <td>True</td>\n",
       "    </tr>\n",
       "    <tr>\n",
       "      <td>2020-03-30</td>\n",
       "      <td>True</td>\n",
       "      <td>True</td>\n",
       "      <td>False</td>\n",
       "      <td>False</td>\n",
       "      <td>True</td>\n",
       "    </tr>\n",
       "    <tr>\n",
       "      <td>2020-03-31</td>\n",
       "      <td>True</td>\n",
       "      <td>True</td>\n",
       "      <td>False</td>\n",
       "      <td>True</td>\n",
       "      <td>True</td>\n",
       "    </tr>\n",
       "    <tr>\n",
       "      <td>2020-04-01</td>\n",
       "      <td>True</td>\n",
       "      <td>True</td>\n",
       "      <td>False</td>\n",
       "      <td>False</td>\n",
       "      <td>True</td>\n",
       "    </tr>\n",
       "    <tr>\n",
       "      <td>2020-04-02</td>\n",
       "      <td>False</td>\n",
       "      <td>True</td>\n",
       "      <td>False</td>\n",
       "      <td>False</td>\n",
       "      <td>True</td>\n",
       "    </tr>\n",
       "  </tbody>\n",
       "</table>\n",
       "</div>"
      ],
      "text/plain": [
       "                A      B      C      D      F\n",
       "2020-03-28  False  False   True  False  False\n",
       "2020-03-29  False  False  False  False   True\n",
       "2020-03-30   True   True  False  False   True\n",
       "2020-03-31   True   True  False   True   True\n",
       "2020-04-01   True   True  False  False   True\n",
       "2020-04-02  False   True  False  False   True"
      ]
     },
     "execution_count": 128,
     "metadata": {},
     "output_type": "execute_result"
    }
   ],
   "source": [
    "df5 > 0"
   ]
  },
  {
   "cell_type": "code",
   "execution_count": 129,
   "metadata": {},
   "outputs": [
    {
     "data": {
      "text/html": [
       "<div>\n",
       "<style scoped>\n",
       "    .dataframe tbody tr th:only-of-type {\n",
       "        vertical-align: middle;\n",
       "    }\n",
       "\n",
       "    .dataframe tbody tr th {\n",
       "        vertical-align: top;\n",
       "    }\n",
       "\n",
       "    .dataframe thead th {\n",
       "        text-align: right;\n",
       "    }\n",
       "</style>\n",
       "<table border=\"1\" class=\"dataframe\">\n",
       "  <thead>\n",
       "    <tr style=\"text-align: right;\">\n",
       "      <th></th>\n",
       "      <th>A</th>\n",
       "      <th>B</th>\n",
       "      <th>C</th>\n",
       "      <th>D</th>\n",
       "      <th>F</th>\n",
       "    </tr>\n",
       "  </thead>\n",
       "  <tbody>\n",
       "    <tr>\n",
       "      <td>2020-03-28</td>\n",
       "      <td>NaN</td>\n",
       "      <td>NaN</td>\n",
       "      <td>0.827131</td>\n",
       "      <td>NaN</td>\n",
       "      <td>NaN</td>\n",
       "    </tr>\n",
       "    <tr>\n",
       "      <td>2020-03-29</td>\n",
       "      <td>NaN</td>\n",
       "      <td>NaN</td>\n",
       "      <td>NaN</td>\n",
       "      <td>NaN</td>\n",
       "      <td>1.0</td>\n",
       "    </tr>\n",
       "    <tr>\n",
       "      <td>2020-03-30</td>\n",
       "      <td>0.417210</td>\n",
       "      <td>0.990094</td>\n",
       "      <td>NaN</td>\n",
       "      <td>NaN</td>\n",
       "      <td>2.0</td>\n",
       "    </tr>\n",
       "    <tr>\n",
       "      <td>2020-03-31</td>\n",
       "      <td>0.090566</td>\n",
       "      <td>0.476263</td>\n",
       "      <td>NaN</td>\n",
       "      <td>0.371908</td>\n",
       "      <td>3.0</td>\n",
       "    </tr>\n",
       "    <tr>\n",
       "      <td>2020-04-01</td>\n",
       "      <td>0.155963</td>\n",
       "      <td>0.004905</td>\n",
       "      <td>NaN</td>\n",
       "      <td>NaN</td>\n",
       "      <td>4.0</td>\n",
       "    </tr>\n",
       "    <tr>\n",
       "      <td>2020-04-02</td>\n",
       "      <td>NaN</td>\n",
       "      <td>0.369490</td>\n",
       "      <td>NaN</td>\n",
       "      <td>NaN</td>\n",
       "      <td>5.0</td>\n",
       "    </tr>\n",
       "  </tbody>\n",
       "</table>\n",
       "</div>"
      ],
      "text/plain": [
       "                   A         B         C         D    F\n",
       "2020-03-28       NaN       NaN  0.827131       NaN  NaN\n",
       "2020-03-29       NaN       NaN       NaN       NaN  1.0\n",
       "2020-03-30  0.417210  0.990094       NaN       NaN  2.0\n",
       "2020-03-31  0.090566  0.476263       NaN  0.371908  3.0\n",
       "2020-04-01  0.155963  0.004905       NaN       NaN  4.0\n",
       "2020-04-02       NaN  0.369490       NaN       NaN  5.0"
      ]
     },
     "execution_count": 129,
     "metadata": {},
     "output_type": "execute_result"
    }
   ],
   "source": [
    "df[df5 > 0]"
   ]
  },
  {
   "cell_type": "code",
   "execution_count": 130,
   "metadata": {},
   "outputs": [],
   "source": [
    "df[df5 > 0] = -df5"
   ]
  },
  {
   "cell_type": "code",
   "execution_count": 131,
   "metadata": {},
   "outputs": [
    {
     "data": {
      "text/html": [
       "<div>\n",
       "<style scoped>\n",
       "    .dataframe tbody tr th:only-of-type {\n",
       "        vertical-align: middle;\n",
       "    }\n",
       "\n",
       "    .dataframe tbody tr th {\n",
       "        vertical-align: top;\n",
       "    }\n",
       "\n",
       "    .dataframe thead th {\n",
       "        text-align: right;\n",
       "    }\n",
       "</style>\n",
       "<table border=\"1\" class=\"dataframe\">\n",
       "  <thead>\n",
       "    <tr style=\"text-align: right;\">\n",
       "      <th></th>\n",
       "      <th>A</th>\n",
       "      <th>B</th>\n",
       "      <th>C</th>\n",
       "      <th>D</th>\n",
       "      <th>F</th>\n",
       "    </tr>\n",
       "  </thead>\n",
       "  <tbody>\n",
       "    <tr>\n",
       "      <td>2020-03-28</td>\n",
       "      <td>0.000000</td>\n",
       "      <td>0.000000</td>\n",
       "      <td>0.827131</td>\n",
       "      <td>-0.052369</td>\n",
       "      <td>NaN</td>\n",
       "    </tr>\n",
       "    <tr>\n",
       "      <td>2020-03-29</td>\n",
       "      <td>-0.336009</td>\n",
       "      <td>-0.439904</td>\n",
       "      <td>-0.071364</td>\n",
       "      <td>-0.445943</td>\n",
       "      <td>1.0</td>\n",
       "    </tr>\n",
       "    <tr>\n",
       "      <td>2020-03-30</td>\n",
       "      <td>0.417210</td>\n",
       "      <td>0.990094</td>\n",
       "      <td>-0.505462</td>\n",
       "      <td>-0.786353</td>\n",
       "      <td>2.0</td>\n",
       "    </tr>\n",
       "    <tr>\n",
       "      <td>2020-03-31</td>\n",
       "      <td>0.090566</td>\n",
       "      <td>0.476263</td>\n",
       "      <td>-1.465175</td>\n",
       "      <td>0.371908</td>\n",
       "      <td>3.0</td>\n",
       "    </tr>\n",
       "    <tr>\n",
       "      <td>2020-04-01</td>\n",
       "      <td>0.155963</td>\n",
       "      <td>0.004905</td>\n",
       "      <td>-0.508943</td>\n",
       "      <td>-0.304544</td>\n",
       "      <td>4.0</td>\n",
       "    </tr>\n",
       "    <tr>\n",
       "      <td>2020-04-02</td>\n",
       "      <td>-0.979162</td>\n",
       "      <td>0.369490</td>\n",
       "      <td>-1.841012</td>\n",
       "      <td>-0.253654</td>\n",
       "      <td>5.0</td>\n",
       "    </tr>\n",
       "  </tbody>\n",
       "</table>\n",
       "</div>"
      ],
      "text/plain": [
       "                   A         B         C         D    F\n",
       "2020-03-28  0.000000  0.000000  0.827131 -0.052369  NaN\n",
       "2020-03-29 -0.336009 -0.439904 -0.071364 -0.445943  1.0\n",
       "2020-03-30  0.417210  0.990094 -0.505462 -0.786353  2.0\n",
       "2020-03-31  0.090566  0.476263 -1.465175  0.371908  3.0\n",
       "2020-04-01  0.155963  0.004905 -0.508943 -0.304544  4.0\n",
       "2020-04-02 -0.979162  0.369490 -1.841012 -0.253654  5.0"
      ]
     },
     "execution_count": 131,
     "metadata": {},
     "output_type": "execute_result"
    }
   ],
   "source": [
    "df5"
   ]
  },
  {
   "cell_type": "code",
   "execution_count": 133,
   "metadata": {},
   "outputs": [],
   "source": [
    "df1 = df.reindex(index=dates[0:4], columns=list(df.columns) + ['E'])"
   ]
  },
  {
   "cell_type": "code",
   "execution_count": 134,
   "metadata": {},
   "outputs": [
    {
     "data": {
      "text/html": [
       "<div>\n",
       "<style scoped>\n",
       "    .dataframe tbody tr th:only-of-type {\n",
       "        vertical-align: middle;\n",
       "    }\n",
       "\n",
       "    .dataframe tbody tr th {\n",
       "        vertical-align: top;\n",
       "    }\n",
       "\n",
       "    .dataframe thead th {\n",
       "        text-align: right;\n",
       "    }\n",
       "</style>\n",
       "<table border=\"1\" class=\"dataframe\">\n",
       "  <thead>\n",
       "    <tr style=\"text-align: right;\">\n",
       "      <th></th>\n",
       "      <th>A</th>\n",
       "      <th>B</th>\n",
       "      <th>C</th>\n",
       "      <th>D</th>\n",
       "      <th>F</th>\n",
       "      <th>E</th>\n",
       "    </tr>\n",
       "  </thead>\n",
       "  <tbody>\n",
       "    <tr>\n",
       "      <td>2020-03-28</td>\n",
       "      <td>0.000000</td>\n",
       "      <td>0.000000</td>\n",
       "      <td>-0.827131</td>\n",
       "      <td>-0.052369</td>\n",
       "      <td>NaN</td>\n",
       "      <td>NaN</td>\n",
       "    </tr>\n",
       "    <tr>\n",
       "      <td>2020-03-29</td>\n",
       "      <td>-0.336009</td>\n",
       "      <td>-0.439904</td>\n",
       "      <td>-0.071364</td>\n",
       "      <td>-0.445943</td>\n",
       "      <td>-1.0</td>\n",
       "      <td>NaN</td>\n",
       "    </tr>\n",
       "    <tr>\n",
       "      <td>2020-03-30</td>\n",
       "      <td>-0.417210</td>\n",
       "      <td>-0.990094</td>\n",
       "      <td>-0.505462</td>\n",
       "      <td>-0.786353</td>\n",
       "      <td>-2.0</td>\n",
       "      <td>NaN</td>\n",
       "    </tr>\n",
       "    <tr>\n",
       "      <td>2020-03-31</td>\n",
       "      <td>-0.090566</td>\n",
       "      <td>-0.476263</td>\n",
       "      <td>-1.465175</td>\n",
       "      <td>-0.371908</td>\n",
       "      <td>-3.0</td>\n",
       "      <td>NaN</td>\n",
       "    </tr>\n",
       "  </tbody>\n",
       "</table>\n",
       "</div>"
      ],
      "text/plain": [
       "                   A         B         C         D    F   E\n",
       "2020-03-28  0.000000  0.000000 -0.827131 -0.052369  NaN NaN\n",
       "2020-03-29 -0.336009 -0.439904 -0.071364 -0.445943 -1.0 NaN\n",
       "2020-03-30 -0.417210 -0.990094 -0.505462 -0.786353 -2.0 NaN\n",
       "2020-03-31 -0.090566 -0.476263 -1.465175 -0.371908 -3.0 NaN"
      ]
     },
     "execution_count": 134,
     "metadata": {},
     "output_type": "execute_result"
    }
   ],
   "source": [
    "df1"
   ]
  },
  {
   "cell_type": "code",
   "execution_count": 135,
   "metadata": {},
   "outputs": [],
   "source": [
    "df1.loc[dates[0]:dates[1], 'E'] = 1"
   ]
  },
  {
   "cell_type": "code",
   "execution_count": 136,
   "metadata": {},
   "outputs": [
    {
     "data": {
      "text/html": [
       "<div>\n",
       "<style scoped>\n",
       "    .dataframe tbody tr th:only-of-type {\n",
       "        vertical-align: middle;\n",
       "    }\n",
       "\n",
       "    .dataframe tbody tr th {\n",
       "        vertical-align: top;\n",
       "    }\n",
       "\n",
       "    .dataframe thead th {\n",
       "        text-align: right;\n",
       "    }\n",
       "</style>\n",
       "<table border=\"1\" class=\"dataframe\">\n",
       "  <thead>\n",
       "    <tr style=\"text-align: right;\">\n",
       "      <th></th>\n",
       "      <th>A</th>\n",
       "      <th>B</th>\n",
       "      <th>C</th>\n",
       "      <th>D</th>\n",
       "      <th>F</th>\n",
       "      <th>E</th>\n",
       "    </tr>\n",
       "  </thead>\n",
       "  <tbody>\n",
       "    <tr>\n",
       "      <td>2020-03-28</td>\n",
       "      <td>0.000000</td>\n",
       "      <td>0.000000</td>\n",
       "      <td>-0.827131</td>\n",
       "      <td>-0.052369</td>\n",
       "      <td>NaN</td>\n",
       "      <td>1.0</td>\n",
       "    </tr>\n",
       "    <tr>\n",
       "      <td>2020-03-29</td>\n",
       "      <td>-0.336009</td>\n",
       "      <td>-0.439904</td>\n",
       "      <td>-0.071364</td>\n",
       "      <td>-0.445943</td>\n",
       "      <td>-1.0</td>\n",
       "      <td>1.0</td>\n",
       "    </tr>\n",
       "    <tr>\n",
       "      <td>2020-03-30</td>\n",
       "      <td>-0.417210</td>\n",
       "      <td>-0.990094</td>\n",
       "      <td>-0.505462</td>\n",
       "      <td>-0.786353</td>\n",
       "      <td>-2.0</td>\n",
       "      <td>NaN</td>\n",
       "    </tr>\n",
       "    <tr>\n",
       "      <td>2020-03-31</td>\n",
       "      <td>-0.090566</td>\n",
       "      <td>-0.476263</td>\n",
       "      <td>-1.465175</td>\n",
       "      <td>-0.371908</td>\n",
       "      <td>-3.0</td>\n",
       "      <td>NaN</td>\n",
       "    </tr>\n",
       "  </tbody>\n",
       "</table>\n",
       "</div>"
      ],
      "text/plain": [
       "                   A         B         C         D    F    E\n",
       "2020-03-28  0.000000  0.000000 -0.827131 -0.052369  NaN  1.0\n",
       "2020-03-29 -0.336009 -0.439904 -0.071364 -0.445943 -1.0  1.0\n",
       "2020-03-30 -0.417210 -0.990094 -0.505462 -0.786353 -2.0  NaN\n",
       "2020-03-31 -0.090566 -0.476263 -1.465175 -0.371908 -3.0  NaN"
      ]
     },
     "execution_count": 136,
     "metadata": {},
     "output_type": "execute_result"
    }
   ],
   "source": [
    "df1"
   ]
  },
  {
   "cell_type": "code",
   "execution_count": 138,
   "metadata": {},
   "outputs": [
    {
     "data": {
      "text/html": [
       "<div>\n",
       "<style scoped>\n",
       "    .dataframe tbody tr th:only-of-type {\n",
       "        vertical-align: middle;\n",
       "    }\n",
       "\n",
       "    .dataframe tbody tr th {\n",
       "        vertical-align: top;\n",
       "    }\n",
       "\n",
       "    .dataframe thead th {\n",
       "        text-align: right;\n",
       "    }\n",
       "</style>\n",
       "<table border=\"1\" class=\"dataframe\">\n",
       "  <thead>\n",
       "    <tr style=\"text-align: right;\">\n",
       "      <th></th>\n",
       "      <th>A</th>\n",
       "      <th>B</th>\n",
       "      <th>C</th>\n",
       "      <th>D</th>\n",
       "      <th>F</th>\n",
       "      <th>E</th>\n",
       "    </tr>\n",
       "  </thead>\n",
       "  <tbody>\n",
       "    <tr>\n",
       "      <td>2020-03-29</td>\n",
       "      <td>-0.336009</td>\n",
       "      <td>-0.439904</td>\n",
       "      <td>-0.071364</td>\n",
       "      <td>-0.445943</td>\n",
       "      <td>-1.0</td>\n",
       "      <td>1.0</td>\n",
       "    </tr>\n",
       "  </tbody>\n",
       "</table>\n",
       "</div>"
      ],
      "text/plain": [
       "                   A         B         C         D    F    E\n",
       "2020-03-29 -0.336009 -0.439904 -0.071364 -0.445943 -1.0  1.0"
      ]
     },
     "execution_count": 138,
     "metadata": {},
     "output_type": "execute_result"
    }
   ],
   "source": [
    "df1.dropna(how = 'any')"
   ]
  },
  {
   "cell_type": "code",
   "execution_count": 140,
   "metadata": {},
   "outputs": [
    {
     "data": {
      "text/html": [
       "<div>\n",
       "<style scoped>\n",
       "    .dataframe tbody tr th:only-of-type {\n",
       "        vertical-align: middle;\n",
       "    }\n",
       "\n",
       "    .dataframe tbody tr th {\n",
       "        vertical-align: top;\n",
       "    }\n",
       "\n",
       "    .dataframe thead th {\n",
       "        text-align: right;\n",
       "    }\n",
       "</style>\n",
       "<table border=\"1\" class=\"dataframe\">\n",
       "  <thead>\n",
       "    <tr style=\"text-align: right;\">\n",
       "      <th></th>\n",
       "      <th>A</th>\n",
       "      <th>B</th>\n",
       "      <th>C</th>\n",
       "      <th>D</th>\n",
       "      <th>F</th>\n",
       "      <th>E</th>\n",
       "    </tr>\n",
       "  </thead>\n",
       "  <tbody>\n",
       "    <tr>\n",
       "      <td>2020-03-28</td>\n",
       "      <td>0.000000</td>\n",
       "      <td>0.000000</td>\n",
       "      <td>-0.827131</td>\n",
       "      <td>-0.052369</td>\n",
       "      <td>5.0</td>\n",
       "      <td>1.0</td>\n",
       "    </tr>\n",
       "    <tr>\n",
       "      <td>2020-03-29</td>\n",
       "      <td>-0.336009</td>\n",
       "      <td>-0.439904</td>\n",
       "      <td>-0.071364</td>\n",
       "      <td>-0.445943</td>\n",
       "      <td>-1.0</td>\n",
       "      <td>1.0</td>\n",
       "    </tr>\n",
       "    <tr>\n",
       "      <td>2020-03-30</td>\n",
       "      <td>-0.417210</td>\n",
       "      <td>-0.990094</td>\n",
       "      <td>-0.505462</td>\n",
       "      <td>-0.786353</td>\n",
       "      <td>-2.0</td>\n",
       "      <td>5.0</td>\n",
       "    </tr>\n",
       "    <tr>\n",
       "      <td>2020-03-31</td>\n",
       "      <td>-0.090566</td>\n",
       "      <td>-0.476263</td>\n",
       "      <td>-1.465175</td>\n",
       "      <td>-0.371908</td>\n",
       "      <td>-3.0</td>\n",
       "      <td>5.0</td>\n",
       "    </tr>\n",
       "  </tbody>\n",
       "</table>\n",
       "</div>"
      ],
      "text/plain": [
       "                   A         B         C         D    F    E\n",
       "2020-03-28  0.000000  0.000000 -0.827131 -0.052369  5.0  1.0\n",
       "2020-03-29 -0.336009 -0.439904 -0.071364 -0.445943 -1.0  1.0\n",
       "2020-03-30 -0.417210 -0.990094 -0.505462 -0.786353 -2.0  5.0\n",
       "2020-03-31 -0.090566 -0.476263 -1.465175 -0.371908 -3.0  5.0"
      ]
     },
     "execution_count": 140,
     "metadata": {},
     "output_type": "execute_result"
    }
   ],
   "source": [
    "df1.fillna(value = 5)"
   ]
  },
  {
   "cell_type": "code",
   "execution_count": 141,
   "metadata": {},
   "outputs": [
    {
     "data": {
      "text/html": [
       "<div>\n",
       "<style scoped>\n",
       "    .dataframe tbody tr th:only-of-type {\n",
       "        vertical-align: middle;\n",
       "    }\n",
       "\n",
       "    .dataframe tbody tr th {\n",
       "        vertical-align: top;\n",
       "    }\n",
       "\n",
       "    .dataframe thead th {\n",
       "        text-align: right;\n",
       "    }\n",
       "</style>\n",
       "<table border=\"1\" class=\"dataframe\">\n",
       "  <thead>\n",
       "    <tr style=\"text-align: right;\">\n",
       "      <th></th>\n",
       "      <th>A</th>\n",
       "      <th>B</th>\n",
       "      <th>C</th>\n",
       "      <th>D</th>\n",
       "      <th>F</th>\n",
       "      <th>E</th>\n",
       "    </tr>\n",
       "  </thead>\n",
       "  <tbody>\n",
       "    <tr>\n",
       "      <td>2020-03-28</td>\n",
       "      <td>False</td>\n",
       "      <td>False</td>\n",
       "      <td>False</td>\n",
       "      <td>False</td>\n",
       "      <td>True</td>\n",
       "      <td>False</td>\n",
       "    </tr>\n",
       "    <tr>\n",
       "      <td>2020-03-29</td>\n",
       "      <td>False</td>\n",
       "      <td>False</td>\n",
       "      <td>False</td>\n",
       "      <td>False</td>\n",
       "      <td>False</td>\n",
       "      <td>False</td>\n",
       "    </tr>\n",
       "    <tr>\n",
       "      <td>2020-03-30</td>\n",
       "      <td>False</td>\n",
       "      <td>False</td>\n",
       "      <td>False</td>\n",
       "      <td>False</td>\n",
       "      <td>False</td>\n",
       "      <td>True</td>\n",
       "    </tr>\n",
       "    <tr>\n",
       "      <td>2020-03-31</td>\n",
       "      <td>False</td>\n",
       "      <td>False</td>\n",
       "      <td>False</td>\n",
       "      <td>False</td>\n",
       "      <td>False</td>\n",
       "      <td>True</td>\n",
       "    </tr>\n",
       "  </tbody>\n",
       "</table>\n",
       "</div>"
      ],
      "text/plain": [
       "                A      B      C      D      F      E\n",
       "2020-03-28  False  False  False  False   True  False\n",
       "2020-03-29  False  False  False  False  False  False\n",
       "2020-03-30  False  False  False  False  False   True\n",
       "2020-03-31  False  False  False  False  False   True"
      ]
     },
     "execution_count": 141,
     "metadata": {},
     "output_type": "execute_result"
    }
   ],
   "source": [
    "pd.isna(df1)"
   ]
  },
  {
   "cell_type": "code",
   "execution_count": 142,
   "metadata": {},
   "outputs": [],
   "source": [
    "s = pd.Series([1, 3, 5, np.nan, 6, 8], index=dates).shift(2)"
   ]
  },
  {
   "cell_type": "code",
   "execution_count": 143,
   "metadata": {},
   "outputs": [
    {
     "data": {
      "text/plain": [
       "2020-03-28    NaN\n",
       "2020-03-29    NaN\n",
       "2020-03-30    1.0\n",
       "2020-03-31    3.0\n",
       "2020-04-01    5.0\n",
       "2020-04-02    NaN\n",
       "Freq: D, dtype: float64"
      ]
     },
     "execution_count": 143,
     "metadata": {},
     "output_type": "execute_result"
    }
   ],
   "source": [
    "s"
   ]
  },
  {
   "cell_type": "code",
   "execution_count": 144,
   "metadata": {},
   "outputs": [
    {
     "data": {
      "text/html": [
       "<div>\n",
       "<style scoped>\n",
       "    .dataframe tbody tr th:only-of-type {\n",
       "        vertical-align: middle;\n",
       "    }\n",
       "\n",
       "    .dataframe tbody tr th {\n",
       "        vertical-align: top;\n",
       "    }\n",
       "\n",
       "    .dataframe thead th {\n",
       "        text-align: right;\n",
       "    }\n",
       "</style>\n",
       "<table border=\"1\" class=\"dataframe\">\n",
       "  <thead>\n",
       "    <tr style=\"text-align: right;\">\n",
       "      <th></th>\n",
       "      <th>A</th>\n",
       "      <th>B</th>\n",
       "      <th>C</th>\n",
       "      <th>D</th>\n",
       "      <th>F</th>\n",
       "    </tr>\n",
       "  </thead>\n",
       "  <tbody>\n",
       "    <tr>\n",
       "      <td>2020-03-28</td>\n",
       "      <td>NaN</td>\n",
       "      <td>NaN</td>\n",
       "      <td>NaN</td>\n",
       "      <td>NaN</td>\n",
       "      <td>NaN</td>\n",
       "    </tr>\n",
       "    <tr>\n",
       "      <td>2020-03-29</td>\n",
       "      <td>NaN</td>\n",
       "      <td>NaN</td>\n",
       "      <td>NaN</td>\n",
       "      <td>NaN</td>\n",
       "      <td>NaN</td>\n",
       "    </tr>\n",
       "    <tr>\n",
       "      <td>2020-03-30</td>\n",
       "      <td>-1.417210</td>\n",
       "      <td>-1.990094</td>\n",
       "      <td>-1.505462</td>\n",
       "      <td>-1.786353</td>\n",
       "      <td>-3.0</td>\n",
       "    </tr>\n",
       "    <tr>\n",
       "      <td>2020-03-31</td>\n",
       "      <td>-3.090566</td>\n",
       "      <td>-3.476263</td>\n",
       "      <td>-4.465175</td>\n",
       "      <td>-3.371908</td>\n",
       "      <td>-6.0</td>\n",
       "    </tr>\n",
       "    <tr>\n",
       "      <td>2020-04-01</td>\n",
       "      <td>-5.155963</td>\n",
       "      <td>-5.004905</td>\n",
       "      <td>-5.508943</td>\n",
       "      <td>-5.304544</td>\n",
       "      <td>-9.0</td>\n",
       "    </tr>\n",
       "    <tr>\n",
       "      <td>2020-04-02</td>\n",
       "      <td>NaN</td>\n",
       "      <td>NaN</td>\n",
       "      <td>NaN</td>\n",
       "      <td>NaN</td>\n",
       "      <td>NaN</td>\n",
       "    </tr>\n",
       "  </tbody>\n",
       "</table>\n",
       "</div>"
      ],
      "text/plain": [
       "                   A         B         C         D    F\n",
       "2020-03-28       NaN       NaN       NaN       NaN  NaN\n",
       "2020-03-29       NaN       NaN       NaN       NaN  NaN\n",
       "2020-03-30 -1.417210 -1.990094 -1.505462 -1.786353 -3.0\n",
       "2020-03-31 -3.090566 -3.476263 -4.465175 -3.371908 -6.0\n",
       "2020-04-01 -5.155963 -5.004905 -5.508943 -5.304544 -9.0\n",
       "2020-04-02       NaN       NaN       NaN       NaN  NaN"
      ]
     },
     "execution_count": 144,
     "metadata": {},
     "output_type": "execute_result"
    }
   ],
   "source": [
    "df.sub(s, axis='index')"
   ]
  },
  {
   "cell_type": "code",
   "execution_count": 145,
   "metadata": {},
   "outputs": [
    {
     "data": {
      "text/html": [
       "<div>\n",
       "<style scoped>\n",
       "    .dataframe tbody tr th:only-of-type {\n",
       "        vertical-align: middle;\n",
       "    }\n",
       "\n",
       "    .dataframe tbody tr th {\n",
       "        vertical-align: top;\n",
       "    }\n",
       "\n",
       "    .dataframe thead th {\n",
       "        text-align: right;\n",
       "    }\n",
       "</style>\n",
       "<table border=\"1\" class=\"dataframe\">\n",
       "  <thead>\n",
       "    <tr style=\"text-align: right;\">\n",
       "      <th></th>\n",
       "      <th>A</th>\n",
       "      <th>B</th>\n",
       "      <th>C</th>\n",
       "      <th>D</th>\n",
       "      <th>F</th>\n",
       "    </tr>\n",
       "  </thead>\n",
       "  <tbody>\n",
       "    <tr>\n",
       "      <td>2020-03-28</td>\n",
       "      <td>0.000000</td>\n",
       "      <td>0.000000</td>\n",
       "      <td>-0.827131</td>\n",
       "      <td>-0.052369</td>\n",
       "      <td>NaN</td>\n",
       "    </tr>\n",
       "    <tr>\n",
       "      <td>2020-03-29</td>\n",
       "      <td>-0.336009</td>\n",
       "      <td>-0.439904</td>\n",
       "      <td>-0.071364</td>\n",
       "      <td>-0.445943</td>\n",
       "      <td>-1.0</td>\n",
       "    </tr>\n",
       "    <tr>\n",
       "      <td>2020-03-30</td>\n",
       "      <td>-0.417210</td>\n",
       "      <td>-0.990094</td>\n",
       "      <td>-0.505462</td>\n",
       "      <td>-0.786353</td>\n",
       "      <td>-2.0</td>\n",
       "    </tr>\n",
       "    <tr>\n",
       "      <td>2020-03-31</td>\n",
       "      <td>-0.090566</td>\n",
       "      <td>-0.476263</td>\n",
       "      <td>-1.465175</td>\n",
       "      <td>-0.371908</td>\n",
       "      <td>-3.0</td>\n",
       "    </tr>\n",
       "    <tr>\n",
       "      <td>2020-04-01</td>\n",
       "      <td>-0.155963</td>\n",
       "      <td>-0.004905</td>\n",
       "      <td>-0.508943</td>\n",
       "      <td>-0.304544</td>\n",
       "      <td>-4.0</td>\n",
       "    </tr>\n",
       "    <tr>\n",
       "      <td>2020-04-02</td>\n",
       "      <td>-0.979162</td>\n",
       "      <td>-0.369490</td>\n",
       "      <td>-1.841012</td>\n",
       "      <td>-0.253654</td>\n",
       "      <td>-5.0</td>\n",
       "    </tr>\n",
       "  </tbody>\n",
       "</table>\n",
       "</div>"
      ],
      "text/plain": [
       "                   A         B         C         D    F\n",
       "2020-03-28  0.000000  0.000000 -0.827131 -0.052369  NaN\n",
       "2020-03-29 -0.336009 -0.439904 -0.071364 -0.445943 -1.0\n",
       "2020-03-30 -0.417210 -0.990094 -0.505462 -0.786353 -2.0\n",
       "2020-03-31 -0.090566 -0.476263 -1.465175 -0.371908 -3.0\n",
       "2020-04-01 -0.155963 -0.004905 -0.508943 -0.304544 -4.0\n",
       "2020-04-02 -0.979162 -0.369490 -1.841012 -0.253654 -5.0"
      ]
     },
     "execution_count": 145,
     "metadata": {},
     "output_type": "execute_result"
    }
   ],
   "source": [
    "df"
   ]
  },
  {
   "cell_type": "code",
   "execution_count": 146,
   "metadata": {},
   "outputs": [
    {
     "data": {
      "text/html": [
       "<div>\n",
       "<style scoped>\n",
       "    .dataframe tbody tr th:only-of-type {\n",
       "        vertical-align: middle;\n",
       "    }\n",
       "\n",
       "    .dataframe tbody tr th {\n",
       "        vertical-align: top;\n",
       "    }\n",
       "\n",
       "    .dataframe thead th {\n",
       "        text-align: right;\n",
       "    }\n",
       "</style>\n",
       "<table border=\"1\" class=\"dataframe\">\n",
       "  <thead>\n",
       "    <tr style=\"text-align: right;\">\n",
       "      <th></th>\n",
       "      <th>A</th>\n",
       "      <th>B</th>\n",
       "      <th>C</th>\n",
       "      <th>D</th>\n",
       "      <th>F</th>\n",
       "    </tr>\n",
       "  </thead>\n",
       "  <tbody>\n",
       "    <tr>\n",
       "      <td>2020-03-28</td>\n",
       "      <td>NaN</td>\n",
       "      <td>NaN</td>\n",
       "      <td>NaN</td>\n",
       "      <td>NaN</td>\n",
       "      <td>NaN</td>\n",
       "    </tr>\n",
       "    <tr>\n",
       "      <td>2020-03-29</td>\n",
       "      <td>NaN</td>\n",
       "      <td>NaN</td>\n",
       "      <td>NaN</td>\n",
       "      <td>NaN</td>\n",
       "      <td>NaN</td>\n",
       "    </tr>\n",
       "    <tr>\n",
       "      <td>2020-03-30</td>\n",
       "      <td>0.582790</td>\n",
       "      <td>0.009906</td>\n",
       "      <td>0.494538</td>\n",
       "      <td>0.213647</td>\n",
       "      <td>-1.0</td>\n",
       "    </tr>\n",
       "    <tr>\n",
       "      <td>2020-03-31</td>\n",
       "      <td>2.909434</td>\n",
       "      <td>2.523737</td>\n",
       "      <td>1.534825</td>\n",
       "      <td>2.628092</td>\n",
       "      <td>0.0</td>\n",
       "    </tr>\n",
       "    <tr>\n",
       "      <td>2020-04-01</td>\n",
       "      <td>4.844037</td>\n",
       "      <td>4.995095</td>\n",
       "      <td>4.491057</td>\n",
       "      <td>4.695456</td>\n",
       "      <td>1.0</td>\n",
       "    </tr>\n",
       "    <tr>\n",
       "      <td>2020-04-02</td>\n",
       "      <td>NaN</td>\n",
       "      <td>NaN</td>\n",
       "      <td>NaN</td>\n",
       "      <td>NaN</td>\n",
       "      <td>NaN</td>\n",
       "    </tr>\n",
       "  </tbody>\n",
       "</table>\n",
       "</div>"
      ],
      "text/plain": [
       "                   A         B         C         D    F\n",
       "2020-03-28       NaN       NaN       NaN       NaN  NaN\n",
       "2020-03-29       NaN       NaN       NaN       NaN  NaN\n",
       "2020-03-30  0.582790  0.009906  0.494538  0.213647 -1.0\n",
       "2020-03-31  2.909434  2.523737  1.534825  2.628092  0.0\n",
       "2020-04-01  4.844037  4.995095  4.491057  4.695456  1.0\n",
       "2020-04-02       NaN       NaN       NaN       NaN  NaN"
      ]
     },
     "execution_count": 146,
     "metadata": {},
     "output_type": "execute_result"
    }
   ],
   "source": [
    "df.add(s, axis='index')"
   ]
  },
  {
   "cell_type": "code",
   "execution_count": 148,
   "metadata": {},
   "outputs": [
    {
     "data": {
      "text/html": [
       "<div>\n",
       "<style scoped>\n",
       "    .dataframe tbody tr th:only-of-type {\n",
       "        vertical-align: middle;\n",
       "    }\n",
       "\n",
       "    .dataframe tbody tr th {\n",
       "        vertical-align: top;\n",
       "    }\n",
       "\n",
       "    .dataframe thead th {\n",
       "        text-align: right;\n",
       "    }\n",
       "</style>\n",
       "<table border=\"1\" class=\"dataframe\">\n",
       "  <thead>\n",
       "    <tr style=\"text-align: right;\">\n",
       "      <th></th>\n",
       "      <th>A</th>\n",
       "      <th>B</th>\n",
       "      <th>C</th>\n",
       "      <th>D</th>\n",
       "      <th>F</th>\n",
       "    </tr>\n",
       "  </thead>\n",
       "  <tbody>\n",
       "    <tr>\n",
       "      <td>2020-03-28</td>\n",
       "      <td>0.000000</td>\n",
       "      <td>0.000000</td>\n",
       "      <td>-0.827131</td>\n",
       "      <td>-0.052369</td>\n",
       "      <td>NaN</td>\n",
       "    </tr>\n",
       "    <tr>\n",
       "      <td>2020-03-29</td>\n",
       "      <td>-0.336009</td>\n",
       "      <td>-0.439904</td>\n",
       "      <td>-0.071364</td>\n",
       "      <td>-0.445943</td>\n",
       "      <td>-1.0</td>\n",
       "    </tr>\n",
       "    <tr>\n",
       "      <td>2020-03-30</td>\n",
       "      <td>-0.417210</td>\n",
       "      <td>-0.990094</td>\n",
       "      <td>-0.505462</td>\n",
       "      <td>-0.786353</td>\n",
       "      <td>-2.0</td>\n",
       "    </tr>\n",
       "    <tr>\n",
       "      <td>2020-03-31</td>\n",
       "      <td>-0.090566</td>\n",
       "      <td>-0.476263</td>\n",
       "      <td>-1.465175</td>\n",
       "      <td>-0.371908</td>\n",
       "      <td>-3.0</td>\n",
       "    </tr>\n",
       "    <tr>\n",
       "      <td>2020-04-01</td>\n",
       "      <td>-0.155963</td>\n",
       "      <td>-0.004905</td>\n",
       "      <td>-0.508943</td>\n",
       "      <td>-0.304544</td>\n",
       "      <td>-4.0</td>\n",
       "    </tr>\n",
       "    <tr>\n",
       "      <td>2020-04-02</td>\n",
       "      <td>-0.979162</td>\n",
       "      <td>-0.369490</td>\n",
       "      <td>-1.841012</td>\n",
       "      <td>-0.253654</td>\n",
       "      <td>-5.0</td>\n",
       "    </tr>\n",
       "  </tbody>\n",
       "</table>\n",
       "</div>"
      ],
      "text/plain": [
       "                   A         B         C         D    F\n",
       "2020-03-28  0.000000  0.000000 -0.827131 -0.052369  NaN\n",
       "2020-03-29 -0.336009 -0.439904 -0.071364 -0.445943 -1.0\n",
       "2020-03-30 -0.417210 -0.990094 -0.505462 -0.786353 -2.0\n",
       "2020-03-31 -0.090566 -0.476263 -1.465175 -0.371908 -3.0\n",
       "2020-04-01 -0.155963 -0.004905 -0.508943 -0.304544 -4.0\n",
       "2020-04-02 -0.979162 -0.369490 -1.841012 -0.253654 -5.0"
      ]
     },
     "execution_count": 148,
     "metadata": {},
     "output_type": "execute_result"
    }
   ],
   "source": [
    "df"
   ]
  },
  {
   "cell_type": "code",
   "execution_count": 149,
   "metadata": {},
   "outputs": [
    {
     "data": {
      "text/html": [
       "<div>\n",
       "<style scoped>\n",
       "    .dataframe tbody tr th:only-of-type {\n",
       "        vertical-align: middle;\n",
       "    }\n",
       "\n",
       "    .dataframe tbody tr th {\n",
       "        vertical-align: top;\n",
       "    }\n",
       "\n",
       "    .dataframe thead th {\n",
       "        text-align: right;\n",
       "    }\n",
       "</style>\n",
       "<table border=\"1\" class=\"dataframe\">\n",
       "  <thead>\n",
       "    <tr style=\"text-align: right;\">\n",
       "      <th></th>\n",
       "      <th>A</th>\n",
       "      <th>B</th>\n",
       "      <th>C</th>\n",
       "      <th>D</th>\n",
       "      <th>F</th>\n",
       "    </tr>\n",
       "  </thead>\n",
       "  <tbody>\n",
       "    <tr>\n",
       "      <td>2020-03-28</td>\n",
       "      <td>0.000000</td>\n",
       "      <td>0.000000</td>\n",
       "      <td>-0.827131</td>\n",
       "      <td>-0.052369</td>\n",
       "      <td>NaN</td>\n",
       "    </tr>\n",
       "    <tr>\n",
       "      <td>2020-03-29</td>\n",
       "      <td>-0.336009</td>\n",
       "      <td>-0.439904</td>\n",
       "      <td>-0.898495</td>\n",
       "      <td>-0.498312</td>\n",
       "      <td>-1.0</td>\n",
       "    </tr>\n",
       "    <tr>\n",
       "      <td>2020-03-30</td>\n",
       "      <td>-0.753219</td>\n",
       "      <td>-1.429998</td>\n",
       "      <td>-1.403956</td>\n",
       "      <td>-1.284665</td>\n",
       "      <td>-3.0</td>\n",
       "    </tr>\n",
       "    <tr>\n",
       "      <td>2020-03-31</td>\n",
       "      <td>-0.843785</td>\n",
       "      <td>-1.906262</td>\n",
       "      <td>-2.869132</td>\n",
       "      <td>-1.656573</td>\n",
       "      <td>-6.0</td>\n",
       "    </tr>\n",
       "    <tr>\n",
       "      <td>2020-04-01</td>\n",
       "      <td>-0.999749</td>\n",
       "      <td>-1.911167</td>\n",
       "      <td>-3.378075</td>\n",
       "      <td>-1.961118</td>\n",
       "      <td>-10.0</td>\n",
       "    </tr>\n",
       "    <tr>\n",
       "      <td>2020-04-02</td>\n",
       "      <td>-1.978910</td>\n",
       "      <td>-2.280657</td>\n",
       "      <td>-5.219088</td>\n",
       "      <td>-2.214772</td>\n",
       "      <td>-15.0</td>\n",
       "    </tr>\n",
       "  </tbody>\n",
       "</table>\n",
       "</div>"
      ],
      "text/plain": [
       "                   A         B         C         D     F\n",
       "2020-03-28  0.000000  0.000000 -0.827131 -0.052369   NaN\n",
       "2020-03-29 -0.336009 -0.439904 -0.898495 -0.498312  -1.0\n",
       "2020-03-30 -0.753219 -1.429998 -1.403956 -1.284665  -3.0\n",
       "2020-03-31 -0.843785 -1.906262 -2.869132 -1.656573  -6.0\n",
       "2020-04-01 -0.999749 -1.911167 -3.378075 -1.961118 -10.0\n",
       "2020-04-02 -1.978910 -2.280657 -5.219088 -2.214772 -15.0"
      ]
     },
     "execution_count": 149,
     "metadata": {},
     "output_type": "execute_result"
    }
   ],
   "source": [
    "df.apply(np.cumsum)"
   ]
  },
  {
   "cell_type": "code",
   "execution_count": 150,
   "metadata": {},
   "outputs": [
    {
     "data": {
      "text/plain": [
       "A    0.979162\n",
       "B    0.990094\n",
       "C    1.769649\n",
       "D    0.733984\n",
       "F    4.000000\n",
       "dtype: float64"
      ]
     },
     "execution_count": 150,
     "metadata": {},
     "output_type": "execute_result"
    }
   ],
   "source": [
    "df.apply(lambda x : x.max() - x.min())"
   ]
  },
  {
   "cell_type": "code",
   "execution_count": 151,
   "metadata": {},
   "outputs": [
    {
     "data": {
      "text/html": [
       "<div>\n",
       "<style scoped>\n",
       "    .dataframe tbody tr th:only-of-type {\n",
       "        vertical-align: middle;\n",
       "    }\n",
       "\n",
       "    .dataframe tbody tr th {\n",
       "        vertical-align: top;\n",
       "    }\n",
       "\n",
       "    .dataframe thead th {\n",
       "        text-align: right;\n",
       "    }\n",
       "</style>\n",
       "<table border=\"1\" class=\"dataframe\">\n",
       "  <thead>\n",
       "    <tr style=\"text-align: right;\">\n",
       "      <th></th>\n",
       "      <th>A</th>\n",
       "      <th>B</th>\n",
       "      <th>C</th>\n",
       "      <th>D</th>\n",
       "      <th>F</th>\n",
       "    </tr>\n",
       "  </thead>\n",
       "  <tbody>\n",
       "    <tr>\n",
       "      <td>2020-03-28</td>\n",
       "      <td>0.000000</td>\n",
       "      <td>0.000000</td>\n",
       "      <td>-0.827131</td>\n",
       "      <td>-0.052369</td>\n",
       "      <td>NaN</td>\n",
       "    </tr>\n",
       "    <tr>\n",
       "      <td>2020-03-29</td>\n",
       "      <td>-0.336009</td>\n",
       "      <td>-0.439904</td>\n",
       "      <td>-0.071364</td>\n",
       "      <td>-0.445943</td>\n",
       "      <td>-1.0</td>\n",
       "    </tr>\n",
       "    <tr>\n",
       "      <td>2020-03-30</td>\n",
       "      <td>-0.417210</td>\n",
       "      <td>-0.990094</td>\n",
       "      <td>-0.505462</td>\n",
       "      <td>-0.786353</td>\n",
       "      <td>-2.0</td>\n",
       "    </tr>\n",
       "    <tr>\n",
       "      <td>2020-03-31</td>\n",
       "      <td>-0.090566</td>\n",
       "      <td>-0.476263</td>\n",
       "      <td>-1.465175</td>\n",
       "      <td>-0.371908</td>\n",
       "      <td>-3.0</td>\n",
       "    </tr>\n",
       "    <tr>\n",
       "      <td>2020-04-01</td>\n",
       "      <td>-0.155963</td>\n",
       "      <td>-0.004905</td>\n",
       "      <td>-0.508943</td>\n",
       "      <td>-0.304544</td>\n",
       "      <td>-4.0</td>\n",
       "    </tr>\n",
       "    <tr>\n",
       "      <td>2020-04-02</td>\n",
       "      <td>-0.979162</td>\n",
       "      <td>-0.369490</td>\n",
       "      <td>-1.841012</td>\n",
       "      <td>-0.253654</td>\n",
       "      <td>-5.0</td>\n",
       "    </tr>\n",
       "  </tbody>\n",
       "</table>\n",
       "</div>"
      ],
      "text/plain": [
       "                   A         B         C         D    F\n",
       "2020-03-28  0.000000  0.000000 -0.827131 -0.052369  NaN\n",
       "2020-03-29 -0.336009 -0.439904 -0.071364 -0.445943 -1.0\n",
       "2020-03-30 -0.417210 -0.990094 -0.505462 -0.786353 -2.0\n",
       "2020-03-31 -0.090566 -0.476263 -1.465175 -0.371908 -3.0\n",
       "2020-04-01 -0.155963 -0.004905 -0.508943 -0.304544 -4.0\n",
       "2020-04-02 -0.979162 -0.369490 -1.841012 -0.253654 -5.0"
      ]
     },
     "execution_count": 151,
     "metadata": {},
     "output_type": "execute_result"
    }
   ],
   "source": [
    "df"
   ]
  },
  {
   "cell_type": "code",
   "execution_count": 152,
   "metadata": {},
   "outputs": [],
   "source": [
    "s = pd.Series(np.random.randint(0, 7, size=10))"
   ]
  },
  {
   "cell_type": "code",
   "execution_count": 153,
   "metadata": {},
   "outputs": [
    {
     "data": {
      "text/plain": [
       "0    2\n",
       "1    2\n",
       "2    6\n",
       "3    0\n",
       "4    1\n",
       "5    1\n",
       "6    6\n",
       "7    3\n",
       "8    6\n",
       "9    3\n",
       "dtype: int64"
      ]
     },
     "execution_count": 153,
     "metadata": {},
     "output_type": "execute_result"
    }
   ],
   "source": [
    "s"
   ]
  },
  {
   "cell_type": "code",
   "execution_count": 156,
   "metadata": {},
   "outputs": [
    {
     "data": {
      "text/plain": [
       "6    3\n",
       "3    2\n",
       "2    2\n",
       "1    2\n",
       "0    1\n",
       "dtype: int64"
      ]
     },
     "execution_count": 156,
     "metadata": {},
     "output_type": "execute_result"
    }
   ],
   "source": [
    "s.value_counts()"
   ]
  },
  {
   "cell_type": "code",
   "execution_count": 157,
   "metadata": {},
   "outputs": [
    {
     "data": {
      "text/plain": [
       "-0.090566    1\n",
       "-0.336009    1\n",
       "-0.155963    1\n",
       "-0.979162    1\n",
       "-0.417210    1\n",
       " 0.000000    1\n",
       "Name: A, dtype: int64"
      ]
     },
     "execution_count": 157,
     "metadata": {},
     "output_type": "execute_result"
    }
   ],
   "source": [
    "df['A'].value_counts()"
   ]
  },
  {
   "cell_type": "code",
   "execution_count": 158,
   "metadata": {},
   "outputs": [
    {
     "data": {
      "text/html": [
       "<div>\n",
       "<style scoped>\n",
       "    .dataframe tbody tr th:only-of-type {\n",
       "        vertical-align: middle;\n",
       "    }\n",
       "\n",
       "    .dataframe tbody tr th {\n",
       "        vertical-align: top;\n",
       "    }\n",
       "\n",
       "    .dataframe thead th {\n",
       "        text-align: right;\n",
       "    }\n",
       "</style>\n",
       "<table border=\"1\" class=\"dataframe\">\n",
       "  <thead>\n",
       "    <tr style=\"text-align: right;\">\n",
       "      <th></th>\n",
       "      <th>A</th>\n",
       "      <th>B</th>\n",
       "      <th>C</th>\n",
       "      <th>D</th>\n",
       "      <th>F</th>\n",
       "    </tr>\n",
       "  </thead>\n",
       "  <tbody>\n",
       "    <tr>\n",
       "      <td>2020-03-28</td>\n",
       "      <td>0.000000</td>\n",
       "      <td>0.000000</td>\n",
       "      <td>-0.827131</td>\n",
       "      <td>-0.052369</td>\n",
       "      <td>NaN</td>\n",
       "    </tr>\n",
       "    <tr>\n",
       "      <td>2020-03-29</td>\n",
       "      <td>-0.336009</td>\n",
       "      <td>-0.439904</td>\n",
       "      <td>-0.071364</td>\n",
       "      <td>-0.445943</td>\n",
       "      <td>-1.0</td>\n",
       "    </tr>\n",
       "    <tr>\n",
       "      <td>2020-03-30</td>\n",
       "      <td>-0.417210</td>\n",
       "      <td>-0.990094</td>\n",
       "      <td>-0.505462</td>\n",
       "      <td>-0.786353</td>\n",
       "      <td>-2.0</td>\n",
       "    </tr>\n",
       "    <tr>\n",
       "      <td>2020-03-31</td>\n",
       "      <td>-0.090566</td>\n",
       "      <td>-0.476263</td>\n",
       "      <td>-1.465175</td>\n",
       "      <td>-0.371908</td>\n",
       "      <td>-3.0</td>\n",
       "    </tr>\n",
       "    <tr>\n",
       "      <td>2020-04-01</td>\n",
       "      <td>-0.155963</td>\n",
       "      <td>-0.004905</td>\n",
       "      <td>-0.508943</td>\n",
       "      <td>-0.304544</td>\n",
       "      <td>-4.0</td>\n",
       "    </tr>\n",
       "    <tr>\n",
       "      <td>2020-04-02</td>\n",
       "      <td>-0.979162</td>\n",
       "      <td>-0.369490</td>\n",
       "      <td>-1.841012</td>\n",
       "      <td>-0.253654</td>\n",
       "      <td>-5.0</td>\n",
       "    </tr>\n",
       "  </tbody>\n",
       "</table>\n",
       "</div>"
      ],
      "text/plain": [
       "                   A         B         C         D    F\n",
       "2020-03-28  0.000000  0.000000 -0.827131 -0.052369  NaN\n",
       "2020-03-29 -0.336009 -0.439904 -0.071364 -0.445943 -1.0\n",
       "2020-03-30 -0.417210 -0.990094 -0.505462 -0.786353 -2.0\n",
       "2020-03-31 -0.090566 -0.476263 -1.465175 -0.371908 -3.0\n",
       "2020-04-01 -0.155963 -0.004905 -0.508943 -0.304544 -4.0\n",
       "2020-04-02 -0.979162 -0.369490 -1.841012 -0.253654 -5.0"
      ]
     },
     "execution_count": 158,
     "metadata": {},
     "output_type": "execute_result"
    }
   ],
   "source": [
    "df"
   ]
  },
  {
   "cell_type": "code",
   "execution_count": 159,
   "metadata": {},
   "outputs": [],
   "source": [
    "s = pd.Series(['A', 'B', 'C', 'Aaba', 'Baca', np.nan, 'CABA', 'dog', 'cat'])"
   ]
  },
  {
   "cell_type": "code",
   "execution_count": 160,
   "metadata": {},
   "outputs": [
    {
     "data": {
      "text/plain": [
       "0       A\n",
       "1       B\n",
       "2       C\n",
       "3    Aaba\n",
       "4    Baca\n",
       "5     NaN\n",
       "6    CABA\n",
       "7     dog\n",
       "8     cat\n",
       "dtype: object"
      ]
     },
     "execution_count": 160,
     "metadata": {},
     "output_type": "execute_result"
    }
   ],
   "source": [
    "s"
   ]
  },
  {
   "cell_type": "code",
   "execution_count": 162,
   "metadata": {},
   "outputs": [
    {
     "data": {
      "text/plain": [
       "0       a\n",
       "1       b\n",
       "2       c\n",
       "3    aaba\n",
       "4    baca\n",
       "5     NaN\n",
       "6    caba\n",
       "7     dog\n",
       "8     cat\n",
       "dtype: object"
      ]
     },
     "execution_count": 162,
     "metadata": {},
     "output_type": "execute_result"
    }
   ],
   "source": [
    "s.str.lower() # 문자열을 소문자로"
   ]
  },
  {
   "cell_type": "code",
   "execution_count": 164,
   "metadata": {},
   "outputs": [
    {
     "data": {
      "text/plain": [
       "0       A\n",
       "1       B\n",
       "2       C\n",
       "3    AABA\n",
       "4    BACA\n",
       "5     NaN\n",
       "6    CABA\n",
       "7     DOG\n",
       "8     CAT\n",
       "dtype: object"
      ]
     },
     "execution_count": 164,
     "metadata": {},
     "output_type": "execute_result"
    }
   ],
   "source": [
    "s.str.upper() # 문자열을 대문자로"
   ]
  },
  {
   "cell_type": "code",
   "execution_count": 165,
   "metadata": {},
   "outputs": [
    {
     "data": {
      "text/plain": [
       "0       A\n",
       "1       B\n",
       "2       C\n",
       "3    Aaba\n",
       "4    Baca\n",
       "5     NaN\n",
       "6    Caba\n",
       "7     Dog\n",
       "8     Cat\n",
       "dtype: object"
      ]
     },
     "execution_count": 165,
     "metadata": {},
     "output_type": "execute_result"
    }
   ],
   "source": [
    "s.str.capitalize() # 첫 글자만 대문자"
   ]
  },
  {
   "cell_type": "code",
   "execution_count": 171,
   "metadata": {},
   "outputs": [
    {
     "data": {
      "text/plain": [
       "0       a\n",
       "1       b\n",
       "2       c\n",
       "3    aABA\n",
       "4    bACA\n",
       "5     NaN\n",
       "6    caba\n",
       "7     DOG\n",
       "8     CAT\n",
       "dtype: object"
      ]
     },
     "execution_count": 171,
     "metadata": {},
     "output_type": "execute_result"
    }
   ],
   "source": [
    "s.str.swapcase() # 대,소문자 혼용"
   ]
  },
  {
   "cell_type": "code",
   "execution_count": 172,
   "metadata": {},
   "outputs": [],
   "source": [
    "df = pd.DataFrame(np.random.randn(10, 4))"
   ]
  },
  {
   "cell_type": "code",
   "execution_count": 181,
   "metadata": {},
   "outputs": [
    {
     "data": {
      "text/html": [
       "<div>\n",
       "<style scoped>\n",
       "    .dataframe tbody tr th:only-of-type {\n",
       "        vertical-align: middle;\n",
       "    }\n",
       "\n",
       "    .dataframe tbody tr th {\n",
       "        vertical-align: top;\n",
       "    }\n",
       "\n",
       "    .dataframe thead th {\n",
       "        text-align: right;\n",
       "    }\n",
       "</style>\n",
       "<table border=\"1\" class=\"dataframe\">\n",
       "  <thead>\n",
       "    <tr style=\"text-align: right;\">\n",
       "      <th></th>\n",
       "      <th>0</th>\n",
       "      <th>1</th>\n",
       "      <th>2</th>\n",
       "      <th>3</th>\n",
       "    </tr>\n",
       "  </thead>\n",
       "  <tbody>\n",
       "    <tr>\n",
       "      <td>0</td>\n",
       "      <td>-0.037273</td>\n",
       "      <td>-1.139965</td>\n",
       "      <td>0.168816</td>\n",
       "      <td>0.505335</td>\n",
       "    </tr>\n",
       "    <tr>\n",
       "      <td>1</td>\n",
       "      <td>0.331841</td>\n",
       "      <td>0.953172</td>\n",
       "      <td>-0.042143</td>\n",
       "      <td>-1.931078</td>\n",
       "    </tr>\n",
       "    <tr>\n",
       "      <td>2</td>\n",
       "      <td>1.256728</td>\n",
       "      <td>-1.220628</td>\n",
       "      <td>-0.403009</td>\n",
       "      <td>-0.680491</td>\n",
       "    </tr>\n",
       "    <tr>\n",
       "      <td>3</td>\n",
       "      <td>-1.002480</td>\n",
       "      <td>0.328378</td>\n",
       "      <td>0.211094</td>\n",
       "      <td>0.587133</td>\n",
       "    </tr>\n",
       "    <tr>\n",
       "      <td>4</td>\n",
       "      <td>0.430835</td>\n",
       "      <td>-0.956100</td>\n",
       "      <td>-2.682885</td>\n",
       "      <td>0.360978</td>\n",
       "    </tr>\n",
       "    <tr>\n",
       "      <td>5</td>\n",
       "      <td>0.230893</td>\n",
       "      <td>-0.022390</td>\n",
       "      <td>1.577890</td>\n",
       "      <td>-0.185423</td>\n",
       "    </tr>\n",
       "    <tr>\n",
       "      <td>6</td>\n",
       "      <td>-0.443073</td>\n",
       "      <td>0.872477</td>\n",
       "      <td>-0.597225</td>\n",
       "      <td>-0.951318</td>\n",
       "    </tr>\n",
       "    <tr>\n",
       "      <td>7</td>\n",
       "      <td>-0.488992</td>\n",
       "      <td>0.482843</td>\n",
       "      <td>0.188350</td>\n",
       "      <td>0.220140</td>\n",
       "    </tr>\n",
       "    <tr>\n",
       "      <td>8</td>\n",
       "      <td>0.604270</td>\n",
       "      <td>1.743458</td>\n",
       "      <td>-1.045210</td>\n",
       "      <td>-2.860520</td>\n",
       "    </tr>\n",
       "    <tr>\n",
       "      <td>9</td>\n",
       "      <td>-0.306600</td>\n",
       "      <td>0.088832</td>\n",
       "      <td>-0.719116</td>\n",
       "      <td>-1.208603</td>\n",
       "    </tr>\n",
       "  </tbody>\n",
       "</table>\n",
       "</div>"
      ],
      "text/plain": [
       "          0         1         2         3\n",
       "0 -0.037273 -1.139965  0.168816  0.505335\n",
       "1  0.331841  0.953172 -0.042143 -1.931078\n",
       "2  1.256728 -1.220628 -0.403009 -0.680491\n",
       "3 -1.002480  0.328378  0.211094  0.587133\n",
       "4  0.430835 -0.956100 -2.682885  0.360978\n",
       "5  0.230893 -0.022390  1.577890 -0.185423\n",
       "6 -0.443073  0.872477 -0.597225 -0.951318\n",
       "7 -0.488992  0.482843  0.188350  0.220140\n",
       "8  0.604270  1.743458 -1.045210 -2.860520\n",
       "9 -0.306600  0.088832 -0.719116 -1.208603"
      ]
     },
     "execution_count": 181,
     "metadata": {},
     "output_type": "execute_result"
    }
   ],
   "source": [
    "df"
   ]
  },
  {
   "cell_type": "code",
   "execution_count": 182,
   "metadata": {},
   "outputs": [],
   "source": [
    "pieces = [df[:3], df[3:7], df[7:]]"
   ]
  },
  {
   "cell_type": "code",
   "execution_count": 184,
   "metadata": {},
   "outputs": [
    {
     "data": {
      "text/html": [
       "<div>\n",
       "<style scoped>\n",
       "    .dataframe tbody tr th:only-of-type {\n",
       "        vertical-align: middle;\n",
       "    }\n",
       "\n",
       "    .dataframe tbody tr th {\n",
       "        vertical-align: top;\n",
       "    }\n",
       "\n",
       "    .dataframe thead th {\n",
       "        text-align: right;\n",
       "    }\n",
       "</style>\n",
       "<table border=\"1\" class=\"dataframe\">\n",
       "  <thead>\n",
       "    <tr style=\"text-align: right;\">\n",
       "      <th></th>\n",
       "      <th>0</th>\n",
       "      <th>1</th>\n",
       "      <th>2</th>\n",
       "      <th>3</th>\n",
       "    </tr>\n",
       "  </thead>\n",
       "  <tbody>\n",
       "    <tr>\n",
       "      <td>0</td>\n",
       "      <td>-0.037273</td>\n",
       "      <td>-1.139965</td>\n",
       "      <td>0.168816</td>\n",
       "      <td>0.505335</td>\n",
       "    </tr>\n",
       "    <tr>\n",
       "      <td>1</td>\n",
       "      <td>0.331841</td>\n",
       "      <td>0.953172</td>\n",
       "      <td>-0.042143</td>\n",
       "      <td>-1.931078</td>\n",
       "    </tr>\n",
       "    <tr>\n",
       "      <td>2</td>\n",
       "      <td>1.256728</td>\n",
       "      <td>-1.220628</td>\n",
       "      <td>-0.403009</td>\n",
       "      <td>-0.680491</td>\n",
       "    </tr>\n",
       "    <tr>\n",
       "      <td>3</td>\n",
       "      <td>-1.002480</td>\n",
       "      <td>0.328378</td>\n",
       "      <td>0.211094</td>\n",
       "      <td>0.587133</td>\n",
       "    </tr>\n",
       "    <tr>\n",
       "      <td>4</td>\n",
       "      <td>0.430835</td>\n",
       "      <td>-0.956100</td>\n",
       "      <td>-2.682885</td>\n",
       "      <td>0.360978</td>\n",
       "    </tr>\n",
       "    <tr>\n",
       "      <td>5</td>\n",
       "      <td>0.230893</td>\n",
       "      <td>-0.022390</td>\n",
       "      <td>1.577890</td>\n",
       "      <td>-0.185423</td>\n",
       "    </tr>\n",
       "    <tr>\n",
       "      <td>6</td>\n",
       "      <td>-0.443073</td>\n",
       "      <td>0.872477</td>\n",
       "      <td>-0.597225</td>\n",
       "      <td>-0.951318</td>\n",
       "    </tr>\n",
       "    <tr>\n",
       "      <td>7</td>\n",
       "      <td>-0.488992</td>\n",
       "      <td>0.482843</td>\n",
       "      <td>0.188350</td>\n",
       "      <td>0.220140</td>\n",
       "    </tr>\n",
       "    <tr>\n",
       "      <td>8</td>\n",
       "      <td>0.604270</td>\n",
       "      <td>1.743458</td>\n",
       "      <td>-1.045210</td>\n",
       "      <td>-2.860520</td>\n",
       "    </tr>\n",
       "    <tr>\n",
       "      <td>9</td>\n",
       "      <td>-0.306600</td>\n",
       "      <td>0.088832</td>\n",
       "      <td>-0.719116</td>\n",
       "      <td>-1.208603</td>\n",
       "    </tr>\n",
       "  </tbody>\n",
       "</table>\n",
       "</div>"
      ],
      "text/plain": [
       "          0         1         2         3\n",
       "0 -0.037273 -1.139965  0.168816  0.505335\n",
       "1  0.331841  0.953172 -0.042143 -1.931078\n",
       "2  1.256728 -1.220628 -0.403009 -0.680491\n",
       "3 -1.002480  0.328378  0.211094  0.587133\n",
       "4  0.430835 -0.956100 -2.682885  0.360978\n",
       "5  0.230893 -0.022390  1.577890 -0.185423\n",
       "6 -0.443073  0.872477 -0.597225 -0.951318\n",
       "7 -0.488992  0.482843  0.188350  0.220140\n",
       "8  0.604270  1.743458 -1.045210 -2.860520\n",
       "9 -0.306600  0.088832 -0.719116 -1.208603"
      ]
     },
     "execution_count": 184,
     "metadata": {},
     "output_type": "execute_result"
    }
   ],
   "source": [
    "pd.concat(pieces)"
   ]
  },
  {
   "cell_type": "code",
   "execution_count": 185,
   "metadata": {},
   "outputs": [
    {
     "data": {
      "text/plain": [
       "[          0         1         2         3\n",
       " 0 -0.037273 -1.139965  0.168816  0.505335\n",
       " 1  0.331841  0.953172 -0.042143 -1.931078\n",
       " 2  1.256728 -1.220628 -0.403009 -0.680491,\n",
       "           0         1         2         3\n",
       " 3 -1.002480  0.328378  0.211094  0.587133\n",
       " 4  0.430835 -0.956100 -2.682885  0.360978\n",
       " 5  0.230893 -0.022390  1.577890 -0.185423\n",
       " 6 -0.443073  0.872477 -0.597225 -0.951318,\n",
       "           0         1         2         3\n",
       " 7 -0.488992  0.482843  0.188350  0.220140\n",
       " 8  0.604270  1.743458 -1.045210 -2.860520\n",
       " 9 -0.306600  0.088832 -0.719116 -1.208603]"
      ]
     },
     "execution_count": 185,
     "metadata": {},
     "output_type": "execute_result"
    }
   ],
   "source": [
    "pieces"
   ]
  },
  {
   "cell_type": "code",
   "execution_count": 188,
   "metadata": {},
   "outputs": [],
   "source": [
    "df1 = pd.concat(pieces)"
   ]
  },
  {
   "cell_type": "code",
   "execution_count": 192,
   "metadata": {},
   "outputs": [
    {
     "data": {
      "text/html": [
       "<div>\n",
       "<style scoped>\n",
       "    .dataframe tbody tr th:only-of-type {\n",
       "        vertical-align: middle;\n",
       "    }\n",
       "\n",
       "    .dataframe tbody tr th {\n",
       "        vertical-align: top;\n",
       "    }\n",
       "\n",
       "    .dataframe thead th {\n",
       "        text-align: right;\n",
       "    }\n",
       "</style>\n",
       "<table border=\"1\" class=\"dataframe\">\n",
       "  <thead>\n",
       "    <tr style=\"text-align: right;\">\n",
       "      <th></th>\n",
       "      <th>0</th>\n",
       "      <th>1</th>\n",
       "      <th>2</th>\n",
       "      <th>3</th>\n",
       "    </tr>\n",
       "  </thead>\n",
       "  <tbody>\n",
       "    <tr>\n",
       "      <td>0</td>\n",
       "      <td>-0.037273</td>\n",
       "      <td>-1.139965</td>\n",
       "      <td>0.168816</td>\n",
       "      <td>0.505335</td>\n",
       "    </tr>\n",
       "    <tr>\n",
       "      <td>1</td>\n",
       "      <td>0.331841</td>\n",
       "      <td>0.953172</td>\n",
       "      <td>-0.042143</td>\n",
       "      <td>-1.931078</td>\n",
       "    </tr>\n",
       "    <tr>\n",
       "      <td>2</td>\n",
       "      <td>1.256728</td>\n",
       "      <td>-1.220628</td>\n",
       "      <td>-0.403009</td>\n",
       "      <td>-0.680491</td>\n",
       "    </tr>\n",
       "    <tr>\n",
       "      <td>3</td>\n",
       "      <td>-1.002480</td>\n",
       "      <td>0.328378</td>\n",
       "      <td>0.211094</td>\n",
       "      <td>0.587133</td>\n",
       "    </tr>\n",
       "    <tr>\n",
       "      <td>4</td>\n",
       "      <td>0.430835</td>\n",
       "      <td>-0.956100</td>\n",
       "      <td>-2.682885</td>\n",
       "      <td>0.360978</td>\n",
       "    </tr>\n",
       "    <tr>\n",
       "      <td>5</td>\n",
       "      <td>0.230893</td>\n",
       "      <td>-0.022390</td>\n",
       "      <td>1.577890</td>\n",
       "      <td>-0.185423</td>\n",
       "    </tr>\n",
       "    <tr>\n",
       "      <td>6</td>\n",
       "      <td>-0.443073</td>\n",
       "      <td>0.872477</td>\n",
       "      <td>-0.597225</td>\n",
       "      <td>-0.951318</td>\n",
       "    </tr>\n",
       "    <tr>\n",
       "      <td>7</td>\n",
       "      <td>-0.488992</td>\n",
       "      <td>0.482843</td>\n",
       "      <td>0.188350</td>\n",
       "      <td>0.220140</td>\n",
       "    </tr>\n",
       "    <tr>\n",
       "      <td>8</td>\n",
       "      <td>0.604270</td>\n",
       "      <td>1.743458</td>\n",
       "      <td>-1.045210</td>\n",
       "      <td>-2.860520</td>\n",
       "    </tr>\n",
       "    <tr>\n",
       "      <td>9</td>\n",
       "      <td>-0.306600</td>\n",
       "      <td>0.088832</td>\n",
       "      <td>-0.719116</td>\n",
       "      <td>-1.208603</td>\n",
       "    </tr>\n",
       "    <tr>\n",
       "      <td>0</td>\n",
       "      <td>-0.037273</td>\n",
       "      <td>-1.139965</td>\n",
       "      <td>0.168816</td>\n",
       "      <td>0.505335</td>\n",
       "    </tr>\n",
       "    <tr>\n",
       "      <td>1</td>\n",
       "      <td>0.331841</td>\n",
       "      <td>0.953172</td>\n",
       "      <td>-0.042143</td>\n",
       "      <td>-1.931078</td>\n",
       "    </tr>\n",
       "    <tr>\n",
       "      <td>2</td>\n",
       "      <td>1.256728</td>\n",
       "      <td>-1.220628</td>\n",
       "      <td>-0.403009</td>\n",
       "      <td>-0.680491</td>\n",
       "    </tr>\n",
       "    <tr>\n",
       "      <td>3</td>\n",
       "      <td>-1.002480</td>\n",
       "      <td>0.328378</td>\n",
       "      <td>0.211094</td>\n",
       "      <td>0.587133</td>\n",
       "    </tr>\n",
       "    <tr>\n",
       "      <td>4</td>\n",
       "      <td>0.430835</td>\n",
       "      <td>-0.956100</td>\n",
       "      <td>-2.682885</td>\n",
       "      <td>0.360978</td>\n",
       "    </tr>\n",
       "    <tr>\n",
       "      <td>5</td>\n",
       "      <td>0.230893</td>\n",
       "      <td>-0.022390</td>\n",
       "      <td>1.577890</td>\n",
       "      <td>-0.185423</td>\n",
       "    </tr>\n",
       "    <tr>\n",
       "      <td>6</td>\n",
       "      <td>-0.443073</td>\n",
       "      <td>0.872477</td>\n",
       "      <td>-0.597225</td>\n",
       "      <td>-0.951318</td>\n",
       "    </tr>\n",
       "    <tr>\n",
       "      <td>7</td>\n",
       "      <td>-0.488992</td>\n",
       "      <td>0.482843</td>\n",
       "      <td>0.188350</td>\n",
       "      <td>0.220140</td>\n",
       "    </tr>\n",
       "    <tr>\n",
       "      <td>8</td>\n",
       "      <td>0.604270</td>\n",
       "      <td>1.743458</td>\n",
       "      <td>-1.045210</td>\n",
       "      <td>-2.860520</td>\n",
       "    </tr>\n",
       "    <tr>\n",
       "      <td>9</td>\n",
       "      <td>-0.306600</td>\n",
       "      <td>0.088832</td>\n",
       "      <td>-0.719116</td>\n",
       "      <td>-1.208603</td>\n",
       "    </tr>\n",
       "  </tbody>\n",
       "</table>\n",
       "</div>"
      ],
      "text/plain": [
       "          0         1         2         3\n",
       "0 -0.037273 -1.139965  0.168816  0.505335\n",
       "1  0.331841  0.953172 -0.042143 -1.931078\n",
       "2  1.256728 -1.220628 -0.403009 -0.680491\n",
       "3 -1.002480  0.328378  0.211094  0.587133\n",
       "4  0.430835 -0.956100 -2.682885  0.360978\n",
       "5  0.230893 -0.022390  1.577890 -0.185423\n",
       "6 -0.443073  0.872477 -0.597225 -0.951318\n",
       "7 -0.488992  0.482843  0.188350  0.220140\n",
       "8  0.604270  1.743458 -1.045210 -2.860520\n",
       "9 -0.306600  0.088832 -0.719116 -1.208603\n",
       "0 -0.037273 -1.139965  0.168816  0.505335\n",
       "1  0.331841  0.953172 -0.042143 -1.931078\n",
       "2  1.256728 -1.220628 -0.403009 -0.680491\n",
       "3 -1.002480  0.328378  0.211094  0.587133\n",
       "4  0.430835 -0.956100 -2.682885  0.360978\n",
       "5  0.230893 -0.022390  1.577890 -0.185423\n",
       "6 -0.443073  0.872477 -0.597225 -0.951318\n",
       "7 -0.488992  0.482843  0.188350  0.220140\n",
       "8  0.604270  1.743458 -1.045210 -2.860520\n",
       "9 -0.306600  0.088832 -0.719116 -1.208603"
      ]
     },
     "execution_count": 192,
     "metadata": {},
     "output_type": "execute_result"
    }
   ],
   "source": [
    "pd.concat([df, df1]) # concat() : 연결하기 / 연결 시 column으로 연결\n",
    "                     # DataFrame을 연결함\n",
    "                     # axis = 1 -> 축을 바꿈"
   ]
  },
  {
   "cell_type": "markdown",
   "metadata": {},
   "source": [
    "#### [concat url](https://pandas.pydata.org/pandas-docs/stable/reference/api/pandas.concat.html?highlight=concat#pandas.concat)"
   ]
  },
  {
   "cell_type": "code",
   "execution_count": 193,
   "metadata": {},
   "outputs": [
    {
     "data": {
      "text/html": [
       "<div>\n",
       "<style scoped>\n",
       "    .dataframe tbody tr th:only-of-type {\n",
       "        vertical-align: middle;\n",
       "    }\n",
       "\n",
       "    .dataframe tbody tr th {\n",
       "        vertical-align: top;\n",
       "    }\n",
       "\n",
       "    .dataframe thead th {\n",
       "        text-align: right;\n",
       "    }\n",
       "</style>\n",
       "<table border=\"1\" class=\"dataframe\">\n",
       "  <thead>\n",
       "    <tr style=\"text-align: right;\">\n",
       "      <th></th>\n",
       "      <th>0</th>\n",
       "      <th>1</th>\n",
       "      <th>2</th>\n",
       "      <th>3</th>\n",
       "    </tr>\n",
       "  </thead>\n",
       "  <tbody>\n",
       "    <tr>\n",
       "      <td>0</td>\n",
       "      <td>-0.037273</td>\n",
       "      <td>-1.139965</td>\n",
       "      <td>0.168816</td>\n",
       "      <td>0.505335</td>\n",
       "    </tr>\n",
       "    <tr>\n",
       "      <td>1</td>\n",
       "      <td>0.331841</td>\n",
       "      <td>0.953172</td>\n",
       "      <td>-0.042143</td>\n",
       "      <td>-1.931078</td>\n",
       "    </tr>\n",
       "    <tr>\n",
       "      <td>2</td>\n",
       "      <td>1.256728</td>\n",
       "      <td>-1.220628</td>\n",
       "      <td>-0.403009</td>\n",
       "      <td>-0.680491</td>\n",
       "    </tr>\n",
       "    <tr>\n",
       "      <td>3</td>\n",
       "      <td>-1.002480</td>\n",
       "      <td>0.328378</td>\n",
       "      <td>0.211094</td>\n",
       "      <td>0.587133</td>\n",
       "    </tr>\n",
       "    <tr>\n",
       "      <td>4</td>\n",
       "      <td>0.430835</td>\n",
       "      <td>-0.956100</td>\n",
       "      <td>-2.682885</td>\n",
       "      <td>0.360978</td>\n",
       "    </tr>\n",
       "    <tr>\n",
       "      <td>5</td>\n",
       "      <td>0.230893</td>\n",
       "      <td>-0.022390</td>\n",
       "      <td>1.577890</td>\n",
       "      <td>-0.185423</td>\n",
       "    </tr>\n",
       "    <tr>\n",
       "      <td>6</td>\n",
       "      <td>-0.443073</td>\n",
       "      <td>0.872477</td>\n",
       "      <td>-0.597225</td>\n",
       "      <td>-0.951318</td>\n",
       "    </tr>\n",
       "    <tr>\n",
       "      <td>7</td>\n",
       "      <td>-0.488992</td>\n",
       "      <td>0.482843</td>\n",
       "      <td>0.188350</td>\n",
       "      <td>0.220140</td>\n",
       "    </tr>\n",
       "    <tr>\n",
       "      <td>8</td>\n",
       "      <td>0.604270</td>\n",
       "      <td>1.743458</td>\n",
       "      <td>-1.045210</td>\n",
       "      <td>-2.860520</td>\n",
       "    </tr>\n",
       "    <tr>\n",
       "      <td>9</td>\n",
       "      <td>-0.306600</td>\n",
       "      <td>0.088832</td>\n",
       "      <td>-0.719116</td>\n",
       "      <td>-1.208603</td>\n",
       "    </tr>\n",
       "  </tbody>\n",
       "</table>\n",
       "</div>"
      ],
      "text/plain": [
       "          0         1         2         3\n",
       "0 -0.037273 -1.139965  0.168816  0.505335\n",
       "1  0.331841  0.953172 -0.042143 -1.931078\n",
       "2  1.256728 -1.220628 -0.403009 -0.680491\n",
       "3 -1.002480  0.328378  0.211094  0.587133\n",
       "4  0.430835 -0.956100 -2.682885  0.360978\n",
       "5  0.230893 -0.022390  1.577890 -0.185423\n",
       "6 -0.443073  0.872477 -0.597225 -0.951318\n",
       "7 -0.488992  0.482843  0.188350  0.220140\n",
       "8  0.604270  1.743458 -1.045210 -2.860520\n",
       "9 -0.306600  0.088832 -0.719116 -1.208603"
      ]
     },
     "execution_count": 193,
     "metadata": {},
     "output_type": "execute_result"
    }
   ],
   "source": [
    "df"
   ]
  },
  {
   "cell_type": "code",
   "execution_count": 194,
   "metadata": {},
   "outputs": [],
   "source": [
    "df.to_csv('foo.csv') # csv로 저장"
   ]
  },
  {
   "cell_type": "code",
   "execution_count": 199,
   "metadata": {},
   "outputs": [],
   "source": [
    "df1 = pd.read_csv('user.csv') # csv파일 읽어오기"
   ]
  },
  {
   "cell_type": "code",
   "execution_count": 200,
   "metadata": {},
   "outputs": [
    {
     "data": {
      "text/html": [
       "<div>\n",
       "<style scoped>\n",
       "    .dataframe tbody tr th:only-of-type {\n",
       "        vertical-align: middle;\n",
       "    }\n",
       "\n",
       "    .dataframe tbody tr th {\n",
       "        vertical-align: top;\n",
       "    }\n",
       "\n",
       "    .dataframe thead th {\n",
       "        text-align: right;\n",
       "    }\n",
       "</style>\n",
       "<table border=\"1\" class=\"dataframe\">\n",
       "  <thead>\n",
       "    <tr style=\"text-align: right;\">\n",
       "      <th></th>\n",
       "      <th>userid</th>\n",
       "      <th>username</th>\n",
       "      <th>userage</th>\n",
       "      <th>usertel</th>\n",
       "    </tr>\n",
       "  </thead>\n",
       "  <tbody>\n",
       "    <tr>\n",
       "      <td>0</td>\n",
       "      <td>hong</td>\n",
       "      <td>홍길동</td>\n",
       "      <td>23</td>\n",
       "      <td>010-1111-2222</td>\n",
       "    </tr>\n",
       "    <tr>\n",
       "      <td>1</td>\n",
       "      <td>kim</td>\n",
       "      <td>김철수</td>\n",
       "      <td>33</td>\n",
       "      <td>010-3333-4444</td>\n",
       "    </tr>\n",
       "  </tbody>\n",
       "</table>\n",
       "</div>"
      ],
      "text/plain": [
       "  userid  username   userage         usertel\n",
       "0   hong       홍길동        23   010-1111-2222\n",
       "1    kim       김철수        33   010-3333-4444"
      ]
     },
     "execution_count": 200,
     "metadata": {},
     "output_type": "execute_result"
    }
   ],
   "source": [
    "df1"
   ]
  },
  {
   "cell_type": "code",
   "execution_count": null,
   "metadata": {},
   "outputs": [],
   "source": []
  }
 ],
 "metadata": {
  "kernelspec": {
   "display_name": "Python 3",
   "language": "python",
   "name": "python3"
  },
  "language_info": {
   "codemirror_mode": {
    "name": "ipython",
    "version": 3
   },
   "file_extension": ".py",
   "mimetype": "text/x-python",
   "name": "python",
   "nbconvert_exporter": "python",
   "pygments_lexer": "ipython3",
   "version": "3.7.4"
  }
 },
 "nbformat": 4,
 "nbformat_minor": 4
}
