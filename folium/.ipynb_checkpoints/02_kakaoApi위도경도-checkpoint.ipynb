{
 "cells": [
  {
   "cell_type": "markdown",
   "metadata": {},
   "source": [
    "http://icansoft.com/blog/getting-api-key-for-kakaotalk-web-share"
   ]
  },
  {
   "cell_type": "markdown",
   "metadata": {},
   "source": [
    "> 위 링크를 참조 하셔서 2단계 까지만 진행하셔도 됩니다. restAPI키를 KAKAO_API_KEY로 셋팅"
   ]
  },
  {
   "cell_type": "code",
   "execution_count": 16,
   "metadata": {},
   "outputs": [],
   "source": [
    "import requests"
   ]
  },
  {
   "cell_type": "code",
   "execution_count": 26,
   "metadata": {},
   "outputs": [],
   "source": [
    "# API를 이용한 http통신을 통해서 획득\n",
    "# requests, urllib, beautifulSop, Selenium등등이 웹 크롤링 기술 대상 모듈이다.\n",
    "\n",
    "KAKAO_API_KEY='8b29c5e3e8f621935fec288e5841e69c' # REST API 키\n",
    "url = '''\n",
    "https://dapi.kakao.com/v2/local/search/keyword.json?query={0}&category_group_code=PO3\n",
    "'''.format('제주시청') # 부산시청 try it !\n",
    "headers={'Authorization': 'KakaoAK {0}'.format(KAKAO_API_KEY)}\n",
    "res = requests.get(url, headers=headers)"
   ]
  },
  {
   "cell_type": "code",
   "execution_count": 27,
   "metadata": {},
   "outputs": [],
   "source": [
    "res = res.json()"
   ]
  },
  {
   "cell_type": "code",
   "execution_count": 28,
   "metadata": {},
   "outputs": [
    {
     "data": {
      "text/plain": [
       "{'documents': [{'address_name': '제주특별자치도 제주시 이도2동 1176-1',\n",
       "   'category_group_code': 'PO3',\n",
       "   'category_group_name': '공공기관',\n",
       "   'category_name': '사회,공공기관 > 지방행정기관 > 시청',\n",
       "   'distance': '',\n",
       "   'id': '8064058',\n",
       "   'phone': '064-120',\n",
       "   'place_name': '제주시청',\n",
       "   'place_url': 'http://place.map.kakao.com/8064058',\n",
       "   'road_address_name': '제주특별자치도 제주시 광양9길 10',\n",
       "   'x': '126.531171087129',\n",
       "   'y': '33.4995342412698'},\n",
       "  {'address_name': '제주특별자치도 서귀포시 서홍동 440-1',\n",
       "   'category_group_code': 'PO3',\n",
       "   'category_group_name': '공공기관',\n",
       "   'category_name': '사회,공공기관 > 지방행정기관 > 시청',\n",
       "   'distance': '',\n",
       "   'id': '10503563',\n",
       "   'phone': '064-120',\n",
       "   'place_name': '서귀포시청 제1청사',\n",
       "   'place_url': 'http://place.map.kakao.com/10503563',\n",
       "   'road_address_name': '제주특별자치도 서귀포시 중앙로 105',\n",
       "   'x': '126.55956346690888',\n",
       "   'y': '33.254064625579836'},\n",
       "  {'address_name': '제주특별자치도 서귀포시 법환동 731',\n",
       "   'category_group_code': 'PO3',\n",
       "   'category_group_name': '공공기관',\n",
       "   'category_name': '사회,공공기관 > 지방행정기관 > 시청',\n",
       "   'distance': '',\n",
       "   'id': '7938161',\n",
       "   'phone': '064-120',\n",
       "   'place_name': '서귀포시청 제2청사',\n",
       "   'place_url': 'http://place.map.kakao.com/7938161',\n",
       "   'road_address_name': '제주특별자치도 서귀포시 신중로 55',\n",
       "   'x': '126.510542736677',\n",
       "   'y': '33.2556629640412'}],\n",
       " 'meta': {'is_end': True,\n",
       "  'pageable_count': 3,\n",
       "  'same_name': {'keyword': '제주시청', 'region': [], 'selected_region': ''},\n",
       "  'total_count': 3}}"
      ]
     },
     "execution_count": 28,
     "metadata": {},
     "output_type": "execute_result"
    }
   ],
   "source": [
    "res"
   ]
  },
  {
   "cell_type": "code",
   "execution_count": 20,
   "metadata": {},
   "outputs": [
    {
     "name": "stdout",
     "output_type": "stream",
     "text": [
      "제주특별자치도 제주시 이도2동 1176-1 33.4995342412698 126.531171087129 제주시청\n"
     ]
    }
   ],
   "source": [
    "print(res['documents'][0]['address_name'], \n",
    "res['documents'][0]['y'], # y값 먼저 출력하고\n",
    "res['documents'][0]['x'], # 그 다음, x값 출력\n",
    "res['documents'][0]['place_name'])"
   ]
  },
  {
   "cell_type": "code",
   "execution_count": 21,
   "metadata": {},
   "outputs": [],
   "source": [
    "# 검색어를 던져서 응답 데이터중에 주소, 위도, 경도 질의어 리턴 함수\n",
    "def net_get_geo_coder(query):\n",
    "    KAKAO_API_KEY='c297f93a174b2f5aacb65b540688f704'\n",
    "    url = '''\n",
    "    https://dapi.kakao.com/v2/local/search/keyword.json?query={0}&category_group_code=PO3\n",
    "    '''.format(query)\n",
    "    headers={'Authorization': 'KakaoAK {0}'.format(KAKAO_API_KEY)}\n",
    "    # API 쿼리 수행\n",
    "    res = requests.get(url, headers=headers)\n",
    "    res = res.json()\n",
    "    # 데이터 추출 => 리턴 값이 하나 이상이면 튜플로 리턴이 된다!!!\n",
    "    # 데이터 리턴 : 주소, 위도, 경도, 질의어 순으로 튜플형태로 리턴\n",
    "    return res['documents'][0]['address_name'], res['documents'][0]['y'], res['documents'][0]['x'], res['documents'][0]['place_name']"
   ]
  },
  {
   "cell_type": "code",
   "execution_count": 22,
   "metadata": {},
   "outputs": [
    {
     "data": {
      "text/plain": [
       "('제주특별자치도 서귀포시 신효동 1120-5', '33.2607718100396', '126.60775561985', '효돈119센터')"
      ]
     },
     "execution_count": 22,
     "metadata": {},
     "output_type": "execute_result"
    }
   ],
   "source": [
    "net_get_geo_coder('효돈동')"
   ]
  },
  {
   "cell_type": "code",
   "execution_count": null,
   "metadata": {},
   "outputs": [],
   "source": []
  }
 ],
 "metadata": {
  "kernelspec": {
   "display_name": "Python 3",
   "language": "python",
   "name": "python3"
  },
  "language_info": {
   "codemirror_mode": {
    "name": "ipython",
    "version": 3
   },
   "file_extension": ".py",
   "mimetype": "text/x-python",
   "name": "python",
   "nbconvert_exporter": "python",
   "pygments_lexer": "ipython3",
   "version": "3.7.4"
  }
 },
 "nbformat": 4,
 "nbformat_minor": 4
}
