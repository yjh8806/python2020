{
 "cells": [
  {
   "cell_type": "markdown",
   "metadata": {},
   "source": [
    "### sklearn 라이브러리를 활용한 mnist 손글씨 10분만에 70,000개 분류하기"
   ]
  },
  {
   "cell_type": "markdown",
   "metadata": {},
   "source": [
    "#### sklearn에서 제공하는 mnist dataset load"
   ]
  },
  {
   "cell_type": "code",
   "execution_count": 1,
   "metadata": {},
   "outputs": [
    {
     "data": {
      "text/plain": [
       "((70000, 784), (70000,))"
      ]
     },
     "execution_count": 1,
     "metadata": {},
     "output_type": "execute_result"
    }
   ],
   "source": [
    "from sklearn.datasets import fetch_openml\n",
    "mnist = fetch_openml('mnist_784')\n",
    "mnist.data.shape, mnist.target.shape\n",
    "# (70000, 784)"
   ]
  },
  {
   "cell_type": "markdown",
   "metadata": {},
   "source": [
    "#### Dataset을 train data와 test data로 split하기"
   ]
  },
  {
   "cell_type": "markdown",
   "metadata": {},
   "source": [
    "> dataset을 split 하는 방법은 직접 구현할 수 도 있고 sklearn에서 제공하는 라이브러리를 사용해도 됩니다.\n",
    "\n",
    "먼저, 구현을 해보자면"
   ]
  },
  {
   "cell_type": "code",
   "execution_count": 2,
   "metadata": {},
   "outputs": [
    {
     "name": "stdout",
     "output_type": "stream",
     "text": [
      "63000\n",
      "7000\n",
      "(63000, 784) (63000,)\n",
      "(7000, 784) (7000,)\n",
      "['0' '1' '2' '3' '4' '5' '6' '7' '8' '9']\n"
     ]
    }
   ],
   "source": [
    "split_ratio = 0.9\n",
    "n_train = int(mnist.data.shape[0] * split_ratio)\n",
    "print(n_train)\n",
    "# 63000\n",
    "\n",
    "n_test = mnist.data.shape[0] - n_train\n",
    "print(n_test)\n",
    "#7000\n",
    "\n",
    "X_train = mnist.data[:n_train]\n",
    "y_train = mnist.target[:n_train]\n",
    "print(X_train.shape, y_train.shape)\n",
    "# ((63000, 784), (63000,))\n",
    "\n",
    "X_test = mnist.data[n_train:]\n",
    "y_test = mnist.target[n_train:]\n",
    "print(X_test.shape, y_test.shape)\n",
    "# ((7000, 784), (7000,))\n",
    "\n",
    "# Checking uniqueness of the target\n",
    "import numpy as np\n",
    "print(np.unique(y_train))\n",
    "# array(['0', '1', '2', '3', '4', '5', '6', '7', '8', '9'], dtype=object)"
   ]
  },
  {
   "cell_type": "markdown",
   "metadata": {},
   "source": [
    "> shuffling은 적용하지 않았습니다. \n",
    "  dataset을 shuffling을 하려면 numpy.random.permutation 을 활용하면 손쉽게 dataset을 shuffling 할 수 있습니다. \n",
    "  sklearn 에서 제공하는 train_test_split 모듈을 사용하면 매우 손쉽게 데이터셋을 분류할 수 있습니다.\n",
    "\n",
    "간단한 예제를 보자면,\n",
    "\n"
   ]
  },
  {
   "cell_type": "raw",
   "metadata": {},
   "source": [
    "import numpy as np\n",
    "from sklearn.model_selection import train_test_split\n",
    "\n",
    "# generate samples\n",
    "sample = np.arange(100)\n",
    "print(sample)\n",
    "\n",
    "# array([ 0,  1,  2,  3,  4,  5,  6,  7,  8,  9, 10, 11, 12, 13, 14, 15, 16,\n",
    "#       17, 18, 19, 20, 21, 22, 23, 24, 25, 26, 27, 28, 29, 30, 31, 32, 33,\n",
    "#       34, 35, 36, 37, 38, 39, 40, 41, 42, 43, 44, 45, 46, 47, 48, 49, 50,\n",
    "#       51, 52, 53, 54, 55, 56, 57, 58, 59, 60, 61, 62, 63, 64, 65, 66, 67,\n",
    "#       68, 69, 70, 71, 72, 73, 74, 75, 76, 77, 78, 79, 80, 81, 82, 83, 84,\n",
    "#       85, 86, 87, 88, 89, 90, 91, 92, 93, 94, 95, 96, 97, 98, 99])"
   ]
  },
  {
   "cell_type": "raw",
   "metadata": {},
   "source": [
    "print(train_test_split(sample))\n",
    "#[array([46, 66, 42, 54, 58, 90, 11, 93, 28, 97, 17, 31, 55, 27, 74, 25, 91,\n",
    "#         8, 57,  9, 86, 39, 53, 73, 98, 44, 60, 43, 12, 82, 69,  2, 89, 83,\n",
    "#        10, 61,  0, 59, 99, 16, 88, 71, 68, 36, 20, 80, 76, 41, 30, 18, 22,\n",
    "#        75, 34, 50, 79, 37, 78, 52, 32, 14, 63, 92, 87,  5, 21, 24, 38, 72,\n",
    "#        96, 35, 51, 33, 94,  4, 65]),\n",
    "# array([84, 26,  6,  1, 62, 81, 15, 19, 29, 23,  7, 56, 77, 45, 49, 95,  3,\n",
    "#        85, 67, 13, 70, 40, 48, 64, 47])]\n",
    "\n",
    "X_train, X_test = train_test_split(sample)\n",
    "print(X_train.shape, X_test.shape)\n",
    "# ((75,), (25,))"
   ]
  },
  {
   "cell_type": "markdown",
   "metadata": {},
   "source": [
    "default로 0.75: 0.25 ration로 train 과 test 로 분류해 줍니다.\n",
    "\n",
    "ratio는 test_size=0.3 와 같은 parameter를 train_test_split 에 지정해 주면 조절할 수 있습니다.\n",
    "\n",
    "또한 shuffle=False로 지정해 준다면, dataset의 shuffle을 안하도록 할 수도 있습니다.\n",
    "\n",
    "뭔가 귀찮은 일을 train_test_split 모듈이 다 해주고 있는 느낌이랄까요.\n",
    "\n",
    "하나만 더 comment를 하자면, randome_state=123 처럼 random state 값을 지정해 주면, 해당 값에 기반하여 random shuffling 됩니다. 즉 123 값을 넘겨 주면, cell을 다시 실행하더라도 똑같이 섞이게 됩니다."
   ]
  },
  {
   "cell_type": "markdown",
   "metadata": {},
   "source": [
    "### RandomForestClassifier를 활용한 초간단 machine learning"
   ]
  },
  {
   "cell_type": "code",
   "execution_count": 3,
   "metadata": {},
   "outputs": [
    {
     "name": "stderr",
     "output_type": "stream",
     "text": [
      "/opt/conda/lib/python3.7/site-packages/sklearn/ensemble/forest.py:245: FutureWarning: The default value of n_estimators will change from 10 in version 0.20 to 100 in 0.22.\n",
      "  \"10 in version 0.20 to 100 in 0.22.\", FutureWarning)\n"
     ]
    },
    {
     "name": "stdout",
     "output_type": "stream",
     "text": [
      "(7000,)\n"
     ]
    }
   ],
   "source": [
    "from sklearn.ensemble import RandomForestClassifier\n",
    "\n",
    "# module loading\n",
    "clf = RandomForestClassifier()\n",
    "\n",
    "# train data!\n",
    "clf.fit(X_train, y_train)\n",
    "\n",
    "# make predicition\n",
    "prediction = clf.predict(X_test)\n",
    "print(prediction.shape)\n",
    "# 7000"
   ]
  },
  {
   "cell_type": "code",
   "execution_count": 4,
   "metadata": {},
   "outputs": [
    {
     "name": "stdout",
     "output_type": "stream",
     "text": [
      "0.9568571428571429\n"
     ]
    }
   ],
   "source": [
    "# accuracy\n",
    "result = (prediction == y_test).mean()\n",
    "print(result)\n",
    "# 0.9617142857142857"
   ]
  },
  {
   "cell_type": "markdown",
   "metadata": {},
   "source": [
    "### Visualization"
   ]
  },
  {
   "cell_type": "code",
   "execution_count": 5,
   "metadata": {},
   "outputs": [
    {
     "name": "stdout",
     "output_type": "stream",
     "text": [
      "[ 540 5602 1584  882 6650 2223 5751 1495 3738 5617]\n",
      "['0' '2' '9' '8' '7' '5' '9' '0' '4' '7']\n"
     ]
    },
    {
     "data": {
      "image/png": "[encoded data removed]",
      "text/plain": [
       "<Figure size 864x360 with 10 Axes>"
      ]
     },
     "metadata": {
      "needs_background": "light"
     },
     "output_type": "display_data"
    }
   ],
   "source": [
    "import matplotlib.pyplot as plt\n",
    "%matplotlib inline\n",
    "\n",
    "# 랜덤하게 몇 가지 data 가져오기\n",
    "random_pick = np.random.randint(low=0, high=n_test, size=10)\n",
    "print(random_pick)\n",
    "# array([3898, 6815, 6640, 2924,  451, 2688,  633, 6563, 5993, 4024])\n",
    "\n",
    "\n",
    "figure = plt.figure()\n",
    "figure.set_size_inches(12, 5)\n",
    "\n",
    "axes = []\n",
    "for i in range(1, 11):\n",
    "    axes.append(figure.add_subplot(2, 5, i))\n",
    "\n",
    "tmp_list = []\n",
    "for i in range(10):\n",
    "    tmp = mnist.data[n_train + random_pick[i]]\n",
    "    tmp = tmp.reshape(-1, 28)\n",
    "    tmp_list.append(tmp)\n",
    "    \n",
    "print(y_test[random_pick])\n",
    "\n",
    "for i in range(10):\n",
    "    axes[i].matshow(tmp_list[i])"
   ]
  },
  {
   "cell_type": "code",
   "execution_count": 6,
   "metadata": {},
   "outputs": [
    {
     "name": "stdout",
     "output_type": "stream",
     "text": [
      "image_path : ./my_data/1.png\n"
     ]
    },
    {
     "data": {
      "image/png": "[encoded data removed]",
      "text/plain": [
       "<Figure size 432x288 with 1 Axes>"
      ]
     },
     "metadata": {
      "needs_background": "light"
     },
     "output_type": "display_data"
    },
    {
     "name": "stdout",
     "output_type": "stream",
     "text": [
      "[[  0   0   0   0   0   0   0   0   0   0   0   0   0   0   0   0   0   0\n",
      "    0   0   0   0   0   0   0   0   0   0   0   0   0   0   0   0   0   0\n",
      "    0   0   0   0   0   0   0   0   0   0   0   0   0   0   0   0   0   0\n",
      "    0   0   0   0   0   0   0   0   0   0   0   0   0   0   0   0   0   0\n",
      "    0   0   0   0   0   0   0   0   0   0   0   0   0   0   0   0   0   0\n",
      "    0   0   0   0   0   0   0   0   0   0   0   0   0   0   0   0   0   0\n",
      "    0   0   0   0   0   0   0   0   0   0   0   0   0   0   0   0   0   0\n",
      "    0   0   0   0   0   0   0   0   0   0   0   0   0   0   0   0   0   0\n",
      "    0   0   0   0   0   0   0   0   0   0   0   0 192 168   0   0   0   0\n",
      "    0   0   0   0   0   0   0   0   0   0   0   0   0   0   0   0   0   0\n",
      "    0   0   0 140 221 181   0   0   0   0   0   0   0   0   0   0   0   0\n",
      "    0   0   0   0   0   0   0   0   0   0   0   0   0 189 231 172   0   0\n",
      "    0   0   0   0   0   0   0   0   0   0   0   0   0   0   0   0   0   0\n",
      "    0   0   0   0  78 223 239 165   0   0   0   0   0   0   0   0   0   0\n",
      "    0   0   0   0   0   0   0   0   0   0   0   0   0   0 128 241 218 134\n",
      "    0   0   0   0   0   0   0   0   0   0   0   0   0   0   0   0   0   0\n",
      "    0   0   0   0   0  64 183 246 174  73   0   0   0   0   0   0   0   0\n",
      "    0   0   0   0   0   0   0   0   0   0   0   0   0   0   0  93 212 253\n",
      "  140   0   0   0   0   0   0   0   0   0   0   0   0   0   0   0   0   0\n",
      "    0   0   0   0   0   0   0 169 243 229 113   0   0   0   0   0   0   0\n",
      "    0   0   0   0   0   0   0   0   0   0   0   0   0   0   0   0  62 234\n",
      "  246 161   0   0   0   0   0   0   0   0   0   0   0   0   0   0   0   0\n",
      "    0   0   0   0   0   0   0   0 146 242 220  77   0   0   0   0   0   0\n",
      "    0   0   0   0   0   0   0   0   0   0   0   0   0   0   0   0   0 135\n",
      "  235 211 116   0   0   0   0   0   0   0   0   0   0   0   0   0   0   0\n",
      "    0   0   0   0   0   0   0   0 128 191 255 163   0   0   0   0   0   0\n",
      "    0   0   0   0   0   0   0   0   0   0   0   0   0   0   0   0   0   0\n",
      "  174 242 238  79   0   0   0   0   0   0   0   0   0   0   0   0   0   0\n",
      "    0   0   0   0   0   0   0   0   0   0 213 249 198   0   0   0   0   0\n",
      "    0   0   0   0   0   0   0   0   0   0   0   0   0   0   0   0   0   0\n",
      "    0  87 236 217 112   0   0   0   0   0   0   0   0   0   0   0   0   0\n",
      "    0   0   0   0   0   0   0   0   0   0   0 173 223 142   0   0   0   0\n",
      "    0   0   0   0   0   0   0   0   0   0   0   0   0   0   0   0   0   0\n",
      "    0   0 146 226 194  97   0   0   0   0   0   0   0   0   0   0   0   0\n",
      "    0   0   0   0   0   0   0   0   0   0   0   0 169 242 153   0   0   0\n",
      "    0   0   0   0   0   0   0   0   0   0   0   0   0   0   0   0   0   0\n",
      "    0   0   0   0 178 216  26   0   0   0   0   0   0   0   0   0   0   0\n",
      "    0   0   0   0   0   0   0   0   0   0   0   0   0   0 150 176   0   0\n",
      "    0   0   0   0   0   0   0   0   0   0   0   0   0   0   0   0   0   0\n",
      "    0   0   0   0   0   0   0   0   0   0   0   0   0   0   0   0   0   0\n",
      "    0   0   0   0   0   0   0   0   0   0   0   0   0   0   0   0   0   0\n",
      "    0   0   0   0   0   0   0   0   0   0   0   0   0   0   0   0   0   0\n",
      "    0   0   0   0   0   0   0   0   0   0   0   0   0   0   0   0   0   0\n",
      "    0   0   0   0   0   0   0   0   0   0]]\n",
      "['1']\n",
      "image_path : ./my_data/2.png\n"
     ]
    },
    {
     "data": {
      "image/png": "[encoded data removed]",
      "text/plain": [
       "<Figure size 432x288 with 1 Axes>"
      ]
     },
     "metadata": {
      "needs_background": "light"
     },
     "output_type": "display_data"
    },
    {
     "name": "stdout",
     "output_type": "stream",
     "text": [
      "[[  0   0   0   0   0   0   0   0   0   0   0   0   0   0   0   0   0   0\n",
      "    0   0   0   0   0   0   0   0   0   0   0   0   0   0   0   0   0   0\n",
      "    0   0   0   0   0   0   0   0   0   0   0   0   0   0   0   0   0   0\n",
      "    0   0   0   0   0   0   0   0   0   0   0   0   0   0   0   0   0   0\n",
      "    0   0   0   0   0   0   0   0   0   0   0   0   0   0   0   0   0   0\n",
      "    0   0   0   0   0   0   0   0   0   0   0   0   0   0   0   0   0   0\n",
      "    0   0   0   0   0   0   0   0   0   0   0   0   0   0   0 222 205 215\n",
      "  255   0   0   0   0   0   0   0   0   0   0   0   0   0   0   0   0   0\n",
      "    0   0   0   0   0   0 212 150 124 111 194 255   0   0   0   0   0   0\n",
      "    0   0   0   0   0   0   0   0   0   0   0   0   0   0   0 204 131 255\n",
      "  255 226  99 203   0   0   0   0   0   0   0   0   0   0   0   0   0   0\n",
      "    0   0   0   0   0   0   0  86 224   0   0   0 194 102   0   0   0   0\n",
      "    0   0   0   0   0   0   0   0   0   0   0   0   0   0   0   0   0 110\n",
      "    0   0   0   0 240 102   0   0   0   0   0   0   0   0   0   0   0   0\n",
      "    0   0   0   0   0   0   0   0   0 179   0   0   0   0 246  94   0   0\n",
      "    0   0   0   0   0   0   0   0   0   0   0   0   0   0   0   0   0   0\n",
      "    0 255   0   0   0   0 250  96   0   0   0   0   0   0   0   0   0   0\n",
      "    0   0   0   0   0   0   0   0   0   0   0   0   0   0   0   0 235  91\n",
      "    0   0   0   0   0   0   0   0   0   0   0   0   0   0   0   0   0   0\n",
      "    0   0   0   0   0   0   0   0 187 116   0   0   0   0   0   0   0   0\n",
      "    0   0   0   0   0   0   0   0   0   0   0   0   0   0   0   0   0 213\n",
      "   99 197   0   0   0   0   0   0   0   0   0   0   0   0   0   0   0   0\n",
      "    0   0   0   0   0   0   0   0   0 222  86 255   0   0   0   0   0   0\n",
      "    0   0   0   0   0   0   0   0   0   0   0   0   0   0   0   0   0   0\n",
      "    0  80  79   0   0   0   0   0   0   0   0   0   0   0   0   0   0   0\n",
      "    0   0   0   0   0   0   0   0   0   0 223  74 194   0   0   0   0   0\n",
      "    0   0   0   0   0   0   0   0   0   0   0   0   0   0   0   0   0   0\n",
      "    0   0 148 134   0   0   0   0   0   0   0   0   0   0   0   0   0   0\n",
      "    0   0   0   0   0   0   0   0   0   0   0 255  94 255   0   0   0   0\n",
      "    0   0   0   0   0   0   0   0   0   0   0   0   0   0   0   0   0   0\n",
      "    0   0   0 223 103   0   0   0   0   0   0   0   0   0   0   0   0   0\n",
      "    0   0   0   0   0   0   0   0   0   0   0   0 234 126 227   0   0   0\n",
      "    0   0   0   0   0   0   0   0   0   0   0   0   0   0   0   0   0   0\n",
      "    0   0   0 255 180 114 241 215 197 177 157 149 146 145 161 217   0   0\n",
      "    0   0   0   0   0   0   0   0   0   0   0   0   0 137  73  67  92  92\n",
      "  102 105 109 113 115 116 109 102   0   0   0   0   0   0   0   0   0   0\n",
      "    0   0   0   0   0  64  67 157 238 242 255 255 255   0   0   0   0   0\n",
      "    0   0   0   0   0   0   0   0   0   0   0   0   0   0   0   0   0   0\n",
      "    0   0   0   0   0   0   0   0   0   0   0   0   0   0   0   0   0   0\n",
      "    0   0   0   0   0   0   0   0   0   0   0   0   0   0   0   0   0   0\n",
      "    0   0   0   0   0   0   0   0   0   0   0   0   0   0   0   0   0   0\n",
      "    0   0   0   0   0   0   0   0   0   0   0   0   0   0   0   0   0   0\n",
      "    0   0   0   0   0   0   0   0   0   0   0   0   0   0   0   0   0   0\n",
      "    0   0   0   0   0   0   0   0   0   0]]\n",
      "['2']\n",
      "image_path : ./my_data/Example-images-from-the-MNIST-dataset.png\n"
     ]
    },
    {
     "data": {
      "image/png": "[encoded data removed]",
      "text/plain": [
       "<Figure size 432x288 with 1 Axes>"
      ]
     },
     "metadata": {
      "needs_background": "light"
     },
     "output_type": "display_data"
    },
    {
     "name": "stdout",
     "output_type": "stream",
     "text": [
      "[[255 255 255 255 255 255 255 255 255 255 255 255 255 255 255 255 255 255\n",
      "  255 255 255 255 255 255 255 255 255 255 255 255 255 255 255 255 255 255\n",
      "  255 255 255 255 255 255 255 255 255 255 255 255 255 255 255 255 255 255\n",
      "  255 255 255 255 255 255 255 255 255 255 255 255 255 255 255 255 255 255\n",
      "  255 255 255 255 255 255 255 255 255 255 255 255 255 255 255 255 255 255\n",
      "  255 255 255 255 255 255 255 255 255 255 255 255 255 255 255 255 255 255\n",
      "  255 255 255 255 255 255 255 255 255 255 255 255 255 255 255 255 255 255\n",
      "  255 255 255 255 255 255 255 255 255 255 255 255 255 255 255 255 255 255\n",
      "  255 255 255 255 255 255 255 255 255 255 255 255 255 255 255 255 255 255\n",
      "  255 255 255 255 255 255 255 255 255 255 255 255 255 255 255 255 255 255\n",
      "  255 255 255 255 255 255 255 255 255 255 255 255 255 255 255 255 255 255\n",
      "  255 255 255 255 255 255 255 255 255 255 255 255 255 255 255 255 255 255\n",
      "  255 255 255 255 255 255 255 255 255 255 255 255 255 255 255 255 255 255\n",
      "  255 255 255 255 255 255 255 255 255 255 255 255 255 255 255 255 255 255\n",
      "  255 255 255 255 255 255 255 255 255 255 255 255 255 255 255 255 255 255\n",
      "  255 255 255 255 255 255 255 255 255 255 255 255 255 255 255 255 255 255\n",
      "  255 255 255 255 255 255 255 255 255 255 255 255 255 255 255 255 255 255\n",
      "  255 255 255 255 255 255 255 255 255 255 255 255 255 255 255 255 255 255\n",
      "  255 255 255 255 255 255 255 255 255 255 255 255 255 255 255 255 255 255\n",
      "  255 255 255 255 255 255 255 255 255 255 255 255 255 255 255 255 255 255\n",
      "  255 255 255 255 255 255 255 255 255 255 255 255 255 255 255 255 255 255\n",
      "  255 255 255 255 255 255 255 255 255 255 255 255 255 255 255 255 255 255\n",
      "  255 255 255 255 255 255 255 255 255 255 255 255 255 255 255 255 255 255\n",
      "  255 255 255 255 255 255 255 255 255 255 255 255 255 255 255 255 255 255\n",
      "  255 255 255 255 255 255 255 255 255 255 255 255 255 255 255 255 255 255\n",
      "  255 255 255 255 255 255 255 255 255 255 255 255 255 255 255 255 255 255\n",
      "  255 255 255 255 255 255 255 255 255 255 255 255 255 255 255 255 255 255\n",
      "  255 255 255 255 255 255 255 255 255 255 255 255 255 255 255 255 255 255\n",
      "  255 255 255 255 255 255 255 255 255 255 255 255 255 255 255 255 255 255\n",
      "  255 255 255 255 255 255 255 255 255 255 255 255 255 255 255 255 255 255\n",
      "  255 255 255 255 255 255 255 255 255 255 255 255 255 255 255 255 255 255\n",
      "  255 255 255 255 255 255 255 255 255 255 255 255 255 255 255 255 255 255\n",
      "  255 255 255 255 255 255 255 255 255 255 255 255 255 255 255 255 255 255\n",
      "  255 255 255 255 255 255 255 255 255 255 255 255 255 255 255 255 255 255\n",
      "  255 255 255 255 255 255 255 255 255 255 255 255 255 255 255 255 255 255\n",
      "  255 255 255 255 255 255 255 255 255 255 255 255 255 255 255 255 255 255\n",
      "  255 255 255 255 255 255 255 255 255 255 255 255 255 255 255 255 255 255\n",
      "  255 255 255 255 255 255 255 255 255 255 255 255 255 255 255 255 255 255\n",
      "  255 255 255 255 255 255 255 255 255 255 255 255 255 255 255 255 255 255\n",
      "  255 255 255 255 255 255 255 255 255 255 255 255 255 255 255 255 255 255\n",
      "  255 255 255 255 255 255 255 255 255 255 255 255 255 255 255 255 255 255\n",
      "  255 255 255 255 255 255 255 255 255 255 255 255 255 255 255 255 255 255\n",
      "  255 255 255 255 255 255 255 255 255 255 255 255 255 255 255 255 255 255\n",
      "  255 255 255 255 255 255 255 255 255 255]]\n",
      "['8']\n",
      "image_path : ./my_data/7.png\n"
     ]
    },
    {
     "data": {
      "image/png": "[encoded data removed]",
      "text/plain": [
       "<Figure size 432x288 with 1 Axes>"
      ]
     },
     "metadata": {
      "needs_background": "light"
     },
     "output_type": "display_data"
    },
    {
     "name": "stdout",
     "output_type": "stream",
     "text": [
      "[[  0   0   0   0   0   0   0   0   0   0   0   0   0   0   0   0   0   0\n",
      "    0   0   0   0   0   0   0   0   0   0   0   0   0   0   0   0   0   0\n",
      "    0   0   0   0   0   0   0   0   0   0   0   0   0   0   0   0   0   0\n",
      "    0   0   0   0   0   0   0   0   0   0   0   0   0   0   0   0   0   0\n",
      "    1   1   1   0   0   0   0   0   0   0   0   0   0   0   0   0   0   0\n",
      "    0   0   0   0   0   0   0   0   0   0   0   0   0   0   0   0   0   0\n",
      "    0   0   0   0   0   0   0   0   0   0   0   0   0   3  10  16  11  15\n",
      "   15  18  31  36  33  21   8   8   0   0   0   0   0   0   0   0   0   2\n",
      "    9  13  13  13  13   8   0   0   0   0   0   0   0   0   0   0   0   0\n",
      "   11   0   0   0   0   0   0   0   4  22  11   0   0   0   0   4  33  47\n",
      "   16  30  32  40  77  92  86  58  31  24   0   0   2   0   0   0   0   3\n",
      "    0   0   0   0   0   0  41  98 133 165 152 170 172 182 236 255 248 184\n",
      "  126 130  80  13   0   7   0   0   5   0  16 183 231 237 236 233 233 236\n",
      "  241 236 203 197 196 198 208 211 217 238 243 237 187  36   0  31   0   1\n",
      "    7   0  46 207 237 231 230 216 210 203 205 187 114  87  81  81  77  37\n",
      "  123 235 255 230 143  24   0  20   0   0   0   2   0  67  89  86  78   0\n",
      "    0   0   0   0   0   0   0   0  27   0 126 245 255 202   0  16  21   0\n",
      "    0   0   0   0   1  20  24  23  23  22  22  23  24  21   8   4   5  12\n",
      "    0   0 150 254 254 184   0  21  18   0   0   0   0   0   0   0   0   0\n",
      "    0   0   0   0   0   0   0   1  13   0  48 160 231 234 175  71  18   5\n",
      "    4   0   0   0   0   0   0   2   4   3   3   1   1   0   0   1   0  16\n",
      "    0   2 148 237 255 176  16   0  24   0   0   0   0   0   0   0   0   0\n",
      "    0   0   0   0   0   0   0   0   2  19   0  92 214 255 238 132   0  52\n",
      "    0   2   0   0   0   0   0   0   0   0   0   0   0   0   0   0   0   1\n",
      "   14   0  78 197 248 251 189  27   0  20   0   0   0   0   0   0   0   0\n",
      "    0   0   0   0   0   0   0   0   0  13   0   0 160 255 250 189  70   0\n",
      "   26   0   0   0   0   0   0   0   0   0   0   0   0   0   0   0   0   0\n",
      "    0  27  14  79 207 255 201 112   0  43   0   3   0   0   0   0   0   0\n",
      "    0   0   0   0   0   0   0   0   0   0  20   0   0 162 238 237 131   0\n",
      "   28   2   0   0   0   0   0   0   0   0   0   0   0   0   0   0   0   0\n",
      "    1   1   0  48 147 231 242 160  57   0  32   0   1   0   0   0   0   0\n",
      "    0   0   0   0   0   0   0   0   0   0   8   7   0 142 239 253 213   0\n",
      "    4  32   0   2   0   0   0   0   0   0   0   0   0   0   0   0   0   0\n",
      "    0   0  20   0   0 190 255 236 151   0  42   0   1   0   0   0   0   0\n",
      "    0   0   0   0   0   0   0   0   0   0   0   4   0  43 154 232 250 187\n",
      "   85   0  34   0   1   0   0   0   0   0   0   0   0   0   0   0   0   0\n",
      "    0   0   1   2   0 113 237 255 211  93   0  32   0   1   0   0   0   0\n",
      "    0   0   0   0   0   0   0   0   0   0   0   1   4   0  50 165 247 238\n",
      "  140  39   0  19   0   0   0   0   0   0   0   0   0   0   0   0   0   0\n",
      "    0   0   0   1   5   0  59 178 253 234  67  32  18   1   0   0   0   0\n",
      "    0   0   0   0   0   0   0   0   0   0   0   0   0   1   4   0  55 165\n",
      "  226 186   0  31   6   1   0   0   0   0   0   0   0   0   0   0   0   0\n",
      "    0   0   0   0   0   0   0   0  11  46  51   0   0   7   0   0   0   0\n",
      "    0   0   0   0   0   0   0   0   0   0]]\n",
      "['7']\n",
      "image_path : ./my_data/0.png\n"
     ]
    },
    {
     "data": {
      "image/png": "[encoded data removed]",
      "text/plain": [
       "<Figure size 432x288 with 1 Axes>"
      ]
     },
     "metadata": {
      "needs_background": "light"
     },
     "output_type": "display_data"
    },
    {
     "name": "stdout",
     "output_type": "stream",
     "text": [
      "[[  0   0   0   0   0   0   0   0   0   0   0   0   0   0   0   0   0   0\n",
      "    0   0   0   0   0   0   0   0   0   0   0   0   0   0   0   0   0   0\n",
      "    0   0   0   0   0   1  16  33  19   0   0   0   0   0   0   0   0   0\n",
      "    0   0   0   0   0   0   0   0   0   0   0   0   0   0   8  23   0   0\n",
      "    0   3   0   4   0   0   0   0   0   0   0   0   0   0   0   0   0   0\n",
      "    0   0   0   0   0   8   0   0  87 167 105   0   8  16  23   6   0   0\n",
      "    0   0   0   0   0   0   0   0   0   0   0   0   0   0  17   9  33 143\n",
      "  201 255 194  31   0   0   0   5  11   0   0   0   0   0   0   0   0   0\n",
      "    0   0   0   0   0   9   0   6 171 239 255 254 230  66  41 156 131   0\n",
      "    0  19   2   0   0   0   0   0   0   0   0   0   0   1   1  19  74 181\n",
      "  255 252 252 245 195  48 109 244 241 171  50   0   0   3   0   0   0   0\n",
      "    0   0   0   0   0   5   0  17 143 253 253 254 248 187  84   0 124 244\n",
      "  255 248 174  94  31   0   3   0   0   0   0   0   0   0   0  15   0  69\n",
      "  195 249 254 241 196  64   0  20 109 224 252 252 250 164  42   0   9   0\n",
      "    0   0   0   0   0   0  14   0  40 172 252 255 240 169   3   0  16   3\n",
      "   39 126 232 254 253 140   0  12   4   0   0   0   0   0   0   9  10   0\n",
      "  135 253 255 242 173  29   7   8   0   4   9   0 202 252 255 144   0  10\n",
      "    4   0   0   0   0   0  11   0  37 154 228 251 242 171  10   7   3   0\n",
      "    0   4   7   0 205 253 252 139   0  12   4   0   0   0   0   3  13   0\n",
      "  136 239 255 249 177  28   0   8   0   0   1   4  10  43 218 254 238 116\n",
      "    0  18   1   0   0   0   1  16   0  83 221 253 253 238 105   7   5   2\n",
      "    0   0   3   0   7 143 241 255 217  90   0  19   0   0   0   0   3  10\n",
      "    0 127 248 252 235 175  46   0   4   0   0   1   7   0  50 227 254 252\n",
      "  195  72   0  15   0   0   0   0   6   0  16 146 253 247 187  48   0   4\n",
      "    0   0   0   3   4  15 114 240 255 245 123   0  12   3   0   0   0   0\n",
      "    6   0  19 147 255 238 113   0   1   2   0   0   2   8   0  11 137 243\n",
      "  254 200  72   0  15   0   0   0   0   0   6   0  18 146 255 234  59  12\n",
      "    5   2   1   1   2   1   6  97 237 255 249 146  24   0   6   0   0   0\n",
      "    0   0   6   0  18 147 254 245 171  22   4  13  10  12  20  12 121 233\n",
      "  253 254 225  87   0  13   1   0   0   0   0   0   6   0  19 149 254 249\n",
      "  199   2   0   0   0   4 111 204 239 254 253 255 141   0  15   3   0   0\n",
      "    0   0   0   0   2  11   0  96 222 254 241 197 182 182 183 201 234 250\n",
      "  255 251 230 175  59   0  14   0   0   0   0   0   0   0   0   4  11   0\n",
      "  149 251 253 251 249 249 249 251 255 254 249 216 111   5  14   6   0   0\n",
      "    0   0   0   0   0   0   0   0  21   0  99 217 245 255 254 253 255 255\n",
      "  254 225 148  87   0   0   5   0   0   0   0   0   0   0   0   0   0   0\n",
      "    4   0  41  99 128 167 221 247 167 163 163 114   3   0  10  10   0   0\n",
      "    0   0   0   0   0   0   0   0   0   0   0   4   0   0   0  36 110 135\n",
      "   37  23  23   0   0  20   2   0   0   0   0   0   0   0   0   0   0   0\n",
      "    0   0   0   0   4  21  23   0   0   0   0   0   0  18   6   0   0   0\n",
      "    0   0   0   0   0   0   0   0   0   0   0   0   0   0   0   0   0   8\n",
      "   23  28   8   7   7   1   0   0   0   0   0   0   0   0   0   0   0   0\n",
      "    0   0   0   0   0   0   0   0   0   0   0   0   0   0   0   0   0   0\n",
      "    0   0   0   0   0   0   0   0   0   0]]\n",
      "['0']\n"
     ]
    }
   ],
   "source": [
    "import numpy as np\n",
    "import matplotlib.pyplot as plt\n",
    "import glob\n",
    "from PIL import Image\n",
    "%matplotlib inline\n",
    "\n",
    "for image_path in glob.glob(\"./my_data/*.png\"):\n",
    "    print(\"image_path : {}\".format(image_path))\n",
    "    img = Image.open(image_path).convert(\"L\")\n",
    "    plt.imshow(img)\n",
    "    plt.show()\n",
    "    img = np.resize(img, (1,784))\n",
    "    print(img)\n",
    "    \n",
    "    prediction = clf.predict(img)\n",
    "    print(prediction)"
   ]
  },
  {
   "cell_type": "code",
   "execution_count": 56,
   "metadata": {},
   "outputs": [
    {
     "data": {
      "text/plain": [
       "array([  0.,   0.,   0.,   0.,   0.,   0.,   0.,   0.,   0.,   0.,   0.,\n",
       "         0.,   0.,   0.,   0.,   0.,   0.,   0.,   0.,   0.,   0.,   0.,\n",
       "         0.,   0.,   0.,   0.,   0.,   0.,   0.,   0.,   0.,   0.,   0.,\n",
       "         0.,   0.,   0.,   0.,   0.,   0.,   0.,   0.,   0.,   0.,   0.,\n",
       "         0.,   0.,   0.,   0.,   0.,   0.,   0.,   0.,   0.,   0.,   0.,\n",
       "         0.,   0.,   0.,   0.,   0.,   0.,   0.,   0.,   0.,   0.,   0.,\n",
       "         0.,   0.,   0.,   0.,   0.,   0.,   0.,   0.,   0.,   0.,   0.,\n",
       "         0.,   0.,   0.,   0.,   0.,   0.,   0.,   0.,   0.,   0.,   0.,\n",
       "         0.,   0.,   0.,   0.,   0.,   0.,   0.,   0.,   0.,   0.,   0.,\n",
       "         0.,   0.,   0.,   0.,   0.,   0.,   0.,   0.,   0.,   0.,   0.,\n",
       "         0.,   0.,   0.,   0.,   0.,   0.,   0.,   0.,   0.,   0.,   0.,\n",
       "         9.,  76., 255., 159.,   7.,   0.,   0.,   0.,   0.,   0.,   0.,\n",
       "         0.,   0.,   0.,   0.,   0.,   0.,   0.,   0.,   0.,   0.,   0.,\n",
       "         0.,   0.,   0.,   0.,   0.,   0.,  93., 252., 253., 252., 154.,\n",
       "         9.,   0.,   0.,   0.,   0.,   0.,   0.,   0.,   0.,   0.,   0.,\n",
       "         0.,   0.,   0.,   0.,   0.,   0.,   0.,   0.,   0.,   0.,   0.,\n",
       "         0., 124., 252., 253., 252., 252., 154.,   7.,   0.,   0.,   0.,\n",
       "         0.,   0.,   0.,   0.,   0.,   0.,   0.,   0.,   0.,   0.,   0.,\n",
       "         0.,   0.,   0.,   0.,   0.,   0.,  57., 244., 252., 253., 252.,\n",
       "       252., 252.,  65.,   0.,   0.,   0.,   0.,   0.,   0.,   0.,   0.,\n",
       "         0.,   0.,   0.,   0.,   0.,   0.,   0.,   0.,   0.,   0.,   0.,\n",
       "         0., 174., 252., 252., 253., 231., 168., 252., 189.,   0.,   0.,\n",
       "         0.,   0.,   0.,   0.,   0.,   0.,   0.,   0.,   0.,   0.,   0.,\n",
       "         0.,   0.,   0.,   0.,   0.,   0.,   0., 185., 253., 253., 252.,\n",
       "        84.,  32., 165., 253., 116.,   0.,   0.,   0.,   0.,   0.,   0.,\n",
       "         0.,   0.,   0.,   0.,   0.,   0.,   0.,   0.,   0.,   0.,   0.,\n",
       "         0.,   0., 184., 252., 252.,  84.,   0.,   0.,  76., 248., 136.,\n",
       "         0.,   0.,   0.,   0.,   0.,   0.,   0.,   0.,   0.,   0.,   0.,\n",
       "         0.,   0.,   0.,   0.,   0.,   0.,   0.,   0., 153., 252., 189.,\n",
       "         0.,   0.,   0.,   0., 230., 237.,  25.,   0.,   0.,   0.,   0.,\n",
       "         0.,   0.,   0.,   0.,   0.,   0.,   0.,   0.,   0.,   0.,   0.,\n",
       "         0.,   0.,   0.,  13.,  45.,   4.,   0.,   0.,   0.,   0., 230.,\n",
       "       253.,  92.,   0.,   0.,   0.,   0.,   0.,   0.,   0.,   0.,   0.,\n",
       "         0.,   0.,   0.,   0.,   0.,   0.,   0.,   0.,   0.,   0.,   0.,\n",
       "         0.,   0.,   0.,   0.,   0., 178., 253., 196.,   0.,   0.,   0.,\n",
       "         0.,   0.,   0.,   0.,   0.,   0.,   0.,   0.,   0.,   0.,   0.,\n",
       "         0.,   0.,   0.,   0.,   0.,   0.,   0.,   0.,   0.,   0.,   0.,\n",
       "       116., 255., 207.,   0.,   0.,   0.,   0.,   0.,   0.,   0.,   0.,\n",
       "         0.,   0.,   0.,   0.,   0.,   0.,   0.,   0.,   0.,   0.,   0.,\n",
       "        17.,  47., 162., 109., 129.,  47., 140., 253., 206.,   0.,   0.,\n",
       "         0.,   0.,   0.,   0.,   0.,   0.,   0.,   0.,   0.,   0.,   0.,\n",
       "         0.,   0.,   0.,   0.,   0.,   0.,  93., 252., 253., 252., 252.,\n",
       "       252., 252., 253., 219.,  19.,   0.,   0.,   0.,   0.,   0.,   0.,\n",
       "         0.,   0.,   0.,   0.,   0.,   0.,   0.,   0.,   0.,   0.,   0.,\n",
       "         0.,  93., 252., 253., 252., 252., 252., 252., 253., 252., 219.,\n",
       "       113.,  51.,   0.,   0.,   0.,   0.,   0.,   0.,   0.,   0.,   0.,\n",
       "         0.,   0.,   0.,   0.,   0.,   0.,   0.,  93., 252., 243.,  64.,\n",
       "        54., 179., 252., 253., 252., 252., 252., 242., 221.,  42.,   0.,\n",
       "         0.,   0.,   0.,   0.,   0.,   0.,   0.,   0.,   0.,   0.,   0.,\n",
       "         0.,   0.,  85., 251., 181.,   9.,   0.,  51., 243., 255., 249.,\n",
       "       230., 230., 251., 255., 232.,  38.,   0.,   0.,   0.,   0.,   0.,\n",
       "         0.,   0.,   0.,   0.,   0.,   0.,   0.,   0.,   0., 209., 253.,\n",
       "       173.,  78., 194., 252., 253., 185.,   0.,   0.,  84., 207., 206.,\n",
       "        56.,   0.,   0.,   0.,   0.,   0.,   0.,   0.,   0.,   0.,   0.,\n",
       "         0.,   0.,   0.,   0.,  32., 253., 252., 252., 252., 252., 247.,\n",
       "        67.,   0.,   0.,   0.,   0.,   0.,   0.,   0.,   0.,   0.,   0.,\n",
       "         0.,   0.,   0.,   0.,   0.,   0.,   0.,   0.,   0.,   0.,   0.,\n",
       "        65., 252., 252., 252., 252., 135.,   0.,   0.,   0.,   0.,   0.,\n",
       "         0.,   0.,   0.,   0.,   0.,   0.,   0.,   0.,   0.,   0.,   0.,\n",
       "         0.,   0.,   0.,   0.,   0.,   0.,   3.,  96., 221., 252.,  95.,\n",
       "        11.,   0.,   0.,   0.,   0.,   0.,   0.,   0.,   0.,   0.,   0.,\n",
       "         0.,   0.,   0.,   0.,   0.,   0.,   0.,   0.,   0.,   0.,   0.,\n",
       "         0.,   0.,   0.,   0.,   0.,   0.,   0.,   0.,   0.,   0.,   0.,\n",
       "         0.,   0.,   0.,   0.,   0.,   0.,   0.,   0.,   0.,   0.,   0.,\n",
       "         0.,   0.,   0.,   0.,   0.,   0.,   0.,   0.,   0.,   0.,   0.,\n",
       "         0.,   0.,   0.,   0.,   0.,   0.,   0.,   0.,   0.,   0.,   0.,\n",
       "         0.,   0.,   0.,   0.,   0.,   0.,   0.,   0.,   0.,   0.,   0.,\n",
       "         0.,   0.,   0.,   0.,   0.,   0.,   0.,   0.,   0.,   0.,   0.,\n",
       "         0.,   0.,   0.,   0.,   0.,   0.,   0.,   0.,   0.,   0.,   0.,\n",
       "         0.,   0.,   0.,   0.,   0.,   0.,   0.,   0.,   0.,   0.,   0.,\n",
       "         0.,   0.,   0.,   0.,   0.,   0.,   0.,   0.,   0.,   0.,   0.,\n",
       "         0.,   0.,   0.])"
      ]
     },
     "execution_count": 56,
     "metadata": {},
     "output_type": "execute_result"
    }
   ],
   "source": [
    "X_test[3027]"
   ]
  },
  {
   "cell_type": "code",
   "execution_count": null,
   "metadata": {},
   "outputs": [],
   "source": []
  }
 ],
 "metadata": {
  "kernelspec": {
   "display_name": "Python 3",
   "language": "python",
   "name": "python3"
  },
  "language_info": {
   "codemirror_mode": {
    "name": "ipython",
    "version": 3
   },
   "file_extension": ".py",
   "mimetype": "text/x-python",
   "name": "python",
   "nbconvert_exporter": "python",
   "pygments_lexer": "ipython3",
   "version": "3.7.4"
  }
 },
 "nbformat": 4,
 "nbformat_minor": 4
}
