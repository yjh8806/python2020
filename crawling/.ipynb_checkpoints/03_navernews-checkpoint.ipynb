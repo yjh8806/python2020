{
 "cells": [
  {
   "cell_type": "markdown",
   "metadata": {},
   "source": [
    "### 1. 네이버에서 환율정보 가져오기"
   ]
  },
  {
   "cell_type": "code",
   "execution_count": 252,
   "metadata": {},
   "outputs": [
    {
     "data": {
      "text/plain": [
       "[<span>미국 <em>USD</em></span>,\n",
       " <span>일본 <em>JPY 100</em></span>,\n",
       " <span>유럽연합 <em>EUR</em></span>,\n",
       " <span>중국 <em>CNY</em></span>,\n",
       " <span>영국 <em>GBP</em></span>,\n",
       " <span>호주 <em>AUD</em></span>,\n",
       " <span>캐나다 <em>CAD</em></span>,\n",
       " <span>뉴질랜드 <em>NZD</em></span>]"
      ]
     },
     "execution_count": 252,
     "metadata": {},
     "output_type": "execute_result"
    }
   ],
   "source": [
    "import urllib.request\n",
    "from bs4 import BeautifulSoup\n",
    "\n",
    "url='https://search.naver.com/search.naver?where=nexearch&sm=tab_etc&query=%ED%99%98%EC%9C%A8'\n",
    "response = urllib.request.urlopen(url)\n",
    "\n",
    "soup=BeautifulSoup(response,'html.parser')\n",
    "results=soup.select('th>a>span')\n",
    "results"
   ]
  },
  {
   "cell_type": "code",
   "execution_count": 253,
   "metadata": {},
   "outputs": [
    {
     "name": "stdout",
     "output_type": "stream",
     "text": [
      "['미국 ', 'USD']\n",
      "['일본 ', 'JPY 100']\n",
      "['유럽연합 ', 'EUR']\n",
      "['중국 ', 'CNY']\n",
      "['영국 ', 'GBP']\n",
      "['호주 ', 'AUD']\n",
      "['캐나다 ', 'CAD']\n",
      "['뉴질랜드 ', 'NZD']\n"
     ]
    }
   ],
   "source": [
    "for result in results:\n",
    "    print(list(result.strings))"
   ]
  },
  {
   "cell_type": "code",
   "execution_count": 226,
   "metadata": {},
   "outputs": [
    {
     "name": "stdout",
     "output_type": "stream",
     "text": [
      "미국 \n",
      "일본 \n",
      "유럽연합 \n",
      "중국 \n",
      "영국 \n",
      "호주 \n",
      "캐나다 \n",
      "뉴질랜드 \n"
     ]
    }
   ],
   "source": [
    "for result in results:\n",
    "    print(result.contents[0])"
   ]
  },
  {
   "cell_type": "code",
   "execution_count": 238,
   "metadata": {},
   "outputs": [
    {
     "data": {
      "text/plain": [
       "[<span>1,220.00</span>,\n",
       " <span class=\"blind\">전일대비</span>,\n",
       " <span class=\"ico\">하락</span>,\n",
       " <span>-0.65%</span>,\n",
       " <span>1,123.03</span>,\n",
       " <span class=\"blind\">전일대비</span>,\n",
       " <span class=\"ico\">상승</span>,\n",
       " <span>+0.57%</span>,\n",
       " <span>1,343.71</span>,\n",
       " <span class=\"blind\">전일대비</span>,\n",
       " <span class=\"ico\">하락</span>,\n",
       " <span>-0.12%</span>,\n",
       " <span>171.73</span>,\n",
       " <span class=\"blind\">전일대비</span>,\n",
       " <span class=\"ico\">하락</span>,\n",
       " <span>-0.67%</span>,\n",
       " <span>1,497.49</span>,\n",
       " <span class=\"blind\">전일대비</span>,\n",
       " <span class=\"ico\">상승</span>,\n",
       " <span>+2.12%</span>,\n",
       " <span>742.49</span>,\n",
       " <span class=\"blind\">전일대비</span>,\n",
       " <span class=\"ico\">상승</span>,\n",
       " <span>+1.13%</span>,\n",
       " <span>867.28</span>,\n",
       " <span class=\"blind\">전일대비</span>,\n",
       " <span class=\"ico\">하락</span>,\n",
       " <span>-0.15%</span>,\n",
       " <span>727.79</span>,\n",
       " <span class=\"blind\">전일대비</span>,\n",
       " <span class=\"ico\">상승</span>,\n",
       " <span>+1.10%</span>]"
      ]
     },
     "execution_count": 238,
     "metadata": {},
     "output_type": "execute_result"
    }
   ],
   "source": [
    "import urllib.request\n",
    "from bs4 import BeautifulSoup\n",
    "\n",
    "url='https://search.naver.com/search.naver?where=nexearch&sm=tab_etc&query=%ED%99%98%EC%9C%A8'\n",
    "response = urllib.request.urlopen(url)\n",
    "\n",
    "soup=BeautifulSoup(response,'html.parser')\n",
    "results=soup.select('tr>td>span')\n",
    "results"
   ]
  },
  {
   "cell_type": "code",
   "execution_count": 239,
   "metadata": {},
   "outputs": [
    {
     "name": "stdout",
     "output_type": "stream",
     "text": [
      "1,220.00\n",
      "1,123.03\n",
      "1,343.71\n",
      "171.73\n",
      "1,497.49\n",
      "742.49\n",
      "867.28\n",
      "727.79\n"
     ]
    }
   ],
   "source": [
    "index=1\n",
    "for result in results:\n",
    "    if index%4 == 1:\n",
    "        print(result.string)\n",
    "    index+=1    "
   ]
  },
  {
   "cell_type": "code",
   "execution_count": 243,
   "metadata": {},
   "outputs": [
    {
     "name": "stdout",
     "output_type": "stream",
     "text": [
      "[<th scope=\"col\">월</th>]\n",
      "[<td> <a class=\"calendar-date\" href=\"#\" onclick=\"return tCR('a=fno.datecalendercheck');\"></a> </td>]\n",
      "[<th class=\"col2\" scope=\"col\"><span>매매기준율</span></th>]\n",
      "[<td><span>1,220.00</span></td>]\n",
      "[<td><span>1,123.03</span></td>]\n",
      "[<td><span>1,343.71</span></td>]\n",
      "[<td><span>171.73</span></td>]\n",
      "[<td><span>1,497.49</span></td>]\n",
      "[<td><span>742.49</span></td>]\n",
      "[<td><span>867.28</span></td>]\n",
      "[<td><span>727.79</span></td>]\n"
     ]
    }
   ],
   "source": [
    "results=soup.select('tr')\n",
    "for result in results:\n",
    "    print(result.contents[3:4])"
   ]
  },
  {
   "cell_type": "code",
   "execution_count": 232,
   "metadata": {},
   "outputs": [
    {
     "name": "stdout",
     "output_type": "stream",
     "text": [
      "False\n",
      "1,220.00\n",
      "True\n",
      "True\n",
      "False\n",
      "-0.65%\n",
      "False\n",
      "1,123.03\n",
      "True\n",
      "True\n",
      "False\n",
      "+0.57%\n",
      "False\n",
      "1,343.71\n",
      "True\n",
      "True\n",
      "False\n",
      "-0.12%\n",
      "False\n",
      "171.73\n",
      "True\n",
      "True\n",
      "False\n",
      "-0.67%\n",
      "False\n",
      "1,497.49\n",
      "True\n",
      "True\n",
      "False\n",
      "+2.12%\n",
      "False\n",
      "742.49\n",
      "True\n",
      "True\n",
      "False\n",
      "+1.13%\n",
      "False\n",
      "867.28\n",
      "True\n",
      "True\n",
      "False\n",
      "-0.15%\n",
      "False\n",
      "727.79\n",
      "True\n",
      "True\n",
      "False\n",
      "+1.10%\n"
     ]
    }
   ],
   "source": [
    "results=soup.select('td>span')\n",
    "for result in results:\n",
    "    #print(type(result))\n",
    "    print(result.has_attr('class'))\n",
    "    if not result.has_attr('class'):\n",
    "        print(result.string)"
   ]
  },
  {
   "cell_type": "markdown",
   "metadata": {},
   "source": [
    "### 2. CGV에서 영화제목 가져오기"
   ]
  },
  {
   "cell_type": "code",
   "execution_count": 234,
   "metadata": {},
   "outputs": [
    {
     "name": "stdout",
     "output_type": "stream",
     "text": [
      "날씨의 아이\n",
      "주디\n",
      "1917\n",
      "너의 이름은.\n",
      "스케어리 스토리- 어둠의 속삭임\n",
      "트루먼쇼\n",
      "인비저블맨\n",
      "캣츠\n",
      "카운트다운\n",
      "영화로운 나날\n",
      "러브 앳\n",
      "월성\n"
     ]
    }
   ],
   "source": [
    "import urllib.request,time\n",
    "from bs4 import BeautifulSoup\n",
    "\n",
    "#영화제목 가져오기\n",
    "url='http://www.cgv.co.kr/movies/'\n",
    "response = urllib.request.urlopen(url)\n",
    "soup=BeautifulSoup(response,'html.parser')\n",
    "#print(soup)\n",
    "results=soup.select('strong.title')\n",
    "#print(results)\n",
    "for result in results:\n",
    "    print(result.text)"
   ]
  },
  {
   "cell_type": "markdown",
   "metadata": {},
   "source": [
    "### 3. 네이버 뉴스 가져오기"
   ]
  },
  {
   "cell_type": "code",
   "execution_count": null,
   "metadata": {},
   "outputs": [],
   "source": [
    "import urllib.request,time\n",
    "from bs4 import BeautifulSoup\n",
    "\n",
    "url='https://news.naver.com/'\n",
    "response = urllib.request.urlopen(url)\n",
    "soup=BeautifulSoup(response,'html.parser')\n",
    "results=soup.select('.section_list_ranking li a')\n",
    "results"
   ]
  },
  {
   "cell_type": "code",
   "execution_count": null,
   "metadata": {},
   "outputs": [],
   "source": [
    "for result in results:\n",
    "    print(result.string)"
   ]
  },
  {
   "cell_type": "code",
   "execution_count": null,
   "metadata": {},
   "outputs": [],
   "source": [
    "import urllib.request,time\n",
    "from bs4 import BeautifulSoup\n",
    "\n",
    "url='https://news.naver.com/'\n",
    "response = urllib.request.urlopen(url)\n",
    "soup=BeautifulSoup(response,'html.parser')\n",
    "results=soup.select('.section_list_ranking li a')\n",
    "results"
   ]
  },
  {
   "cell_type": "code",
   "execution_count": null,
   "metadata": {},
   "outputs": [],
   "source": [
    "for result in results:\n",
    "    print('제목:',result.string)\n",
    "    print('제목:',result.attrs['title'])\n",
    "    print('링크:',result.attrs['href'])\n",
    "    print()\n",
    "    url_content='https://news.naver.com'+result.attrs['href']\n",
    "    response_content = urllib.request.urlopen(url_content)\n",
    "    soup_content=BeautifulSoup(response_content,'html.parser')\n",
    "    content=soup_content.select_one('#articleBodyContents')\n",
    "    print(content.contents)\n",
    "    print('-'*40)\n",
    "    print(list(content.strings))\n",
    "    print('-'*40)\n",
    "\n",
    "    time.sleep(3)"
   ]
  },
  {
   "cell_type": "code",
   "execution_count": null,
   "metadata": {},
   "outputs": [],
   "source": [
    "import urllib.request,time\n",
    "from bs4 import BeautifulSoup\n",
    "\n",
    "url='https://news.naver.com/'\n",
    "response = urllib.request.urlopen(url)\n",
    "soup=BeautifulSoup(response,'html.parser')\n",
    "results=soup.select('.section_list_ranking li a')\n",
    "results"
   ]
  },
  {
   "cell_type": "code",
   "execution_count": null,
   "metadata": {},
   "outputs": [],
   "source": [
    "for result in results:\n",
    "    print('제목:',result.attrs['title'])\n",
    "    print('링크:',result.attrs['href'])\n",
    "    print()\n",
    "    url_content='https://news.naver.com'+result.attrs['href']\n",
    "    response_content = urllib.request.urlopen(url_content)\n",
    "    soup_content=BeautifulSoup(response_content,'html.parser')\n",
    "    content=soup_content.select_one('#articleBodyContents')\n",
    "    #print(content.contents)\n",
    "\n",
    "    #가공작업\n",
    "    output=''\n",
    "    for item in content.strings:\n",
    "        stripped = str(item).strip() #공백제거\n",
    "        #print(stripped)\n",
    "        if stripped=='':\n",
    "            continue\n",
    "        else:\n",
    "             output+=item\n",
    "    output=output.replace('본문 내용TV플레이어','')\n",
    "    output=output.replace('// flash 오류를 우회하기 위한 함수 추가','')\n",
    "    output=output.replace('function _flash_removeCallback() {}','')\n",
    "    print(output.strip())\n",
    "    print()\n",
    "    time.sleep(3)"
   ]
  }
 ],
 "metadata": {
  "kernelspec": {
   "display_name": "Python 3",
   "language": "python",
   "name": "python3"
  },
  "language_info": {
   "codemirror_mode": {
    "name": "ipython",
    "version": 3
   },
   "file_extension": ".py",
   "mimetype": "text/x-python",
   "name": "python",
   "nbconvert_exporter": "python",
   "pygments_lexer": "ipython3",
   "version": "3.7.4"
  }
 },
 "nbformat": 4,
 "nbformat_minor": 4
}
