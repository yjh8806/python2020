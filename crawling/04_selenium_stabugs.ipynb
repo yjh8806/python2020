{
 "cells": [
  {
   "cell_type": "markdown",
   "metadata": {},
   "source": [
    "### 1. 스타벅스 사이트에 매장 정보를 가져올수 있는지 체크한다."
   ]
  },
  {
   "cell_type": "code",
   "execution_count": 12,
   "metadata": {},
   "outputs": [
    {
     "name": "stdout",
     "output_type": "stream",
     "text": [
      "[]\n",
      "<title id=\"titleJoin\">Starbucks Coffee Korea</title>\n"
     ]
    }
   ],
   "source": [
    "from bs4 import BeautifulSoup\n",
    "import urllib.request\n",
    "\n",
    "url='https://www.istarbucks.co.kr/store/store_map.do'\n",
    "response = urllib.request.urlopen(url)\n",
    "soup=BeautifulSoup(response,'html.parser')\n",
    "print(soup.select('li.quickResultLstCon'))\n",
    "print(soup.title)"
   ]
  },
  {
   "cell_type": "markdown",
   "metadata": {},
   "source": [
    "### 2. selenium을 이용해서 스타벅스 사이트의 매장 정보를 가져올수 있는지 체크한다."
   ]
  },
  {
   "cell_type": "code",
   "execution_count": 2,
   "metadata": {},
   "outputs": [
    {
     "name": "stdout",
     "output_type": "stream",
     "text": [
      "[<li class=\"quickResultLstCon\" data-code=\"3260\" data-hlytag=\"null\" data-index=\"0\" data-lat=\"35.155057\" data-long=\"129.036202\" data-name=\"동의대역\" data-storecd=\"1048\" style=\"background:#fff\"> <strong>동의대역  <img alt=\"\" class=\"setStoreFavBtn mCS_img_loaded\" data-my_siren_order_store_yn=\"N\" data-name=\"동의대역\" data-store=\"1048\" data-yn=\"N\" src=\"//image.istarbucks.co.kr/common/img/store/icon_fav_off.png\"/></strong> <p class=\"result_details\">부산광역시 부산진구 가야대로 589 (가야제1동)<br/>051-892-4260</p> <i class=\"pin_general\">리저브 매장 2번</i></li>, <li class=\"quickResultLstCon\" data-code=\"3052\" data-hlytag=\"null\" data-index=\"1\" data-lat=\"35.152899\" data-long=\"129.0226067\" data-name=\"부산개금역\" data-storecd=\"871\" style=\"background:#fff\"> <strong>부산개금역  <img alt=\"\" class=\"setStoreFavBtn mCS_img_loaded\" data-my_siren_order_store_yn=\"N\" data-name=\"부산개금역\" data-store=\"871\" data-yn=\"N\" src=\"//image.istarbucks.co.kr/common/img/store/icon_fav_off.png\"/></strong> <p class=\"result_details\">부산광역시 부산진구 가야대로 462 (개금동)<br/>051-897-7852</p> <i class=\"pin_general\">리저브 매장 2번</i></li>, <li class=\"quickResultLstCon\" data-code=\"3601\" data-hlytag=\"null\" data-index=\"2\" data-lat=\"35.155255\" data-long=\"129.057651\" data-name=\"서면로R\" data-storecd=\"1394\" style=\"background:#fff\"> <strong>서면로R  <img alt=\"\" class=\"setStoreFavBtn mCS_img_loaded\" data-my_siren_order_store_yn=\"N\" data-name=\"서면로R\" data-store=\"1394\" data-yn=\"N\" src=\"//image.istarbucks.co.kr/common/img/store/icon_fav_off.png\"/></strong> <p class=\"result_details\">부산광역시 부산진구 서면로 49-1 (부전동)<br/>051-804-3601</p> <i class=\"pin_reserve\">리저브 매장 2번</i></li>, <li class=\"quickResultLstCon\" data-code=\"3768\" data-hlytag=\"null\" data-index=\"3\" data-lat=\"35.1530083\" data-long=\"129.0596228\" data-name=\"서면중앙대로R\" data-storecd=\"1521\" style=\"background:#fff\"> <strong>서면중앙대로R  <img alt=\"\" class=\"setStoreFavBtn mCS_img_loaded\" data-my_siren_order_store_yn=\"N\" data-name=\"서면중앙대로R\" data-store=\"1521\" data-yn=\"N\" src=\"//image.istarbucks.co.kr/common/img/store/icon_fav_off.png\"/></strong> <p class=\"result_details\">부산광역시 부산진구 중앙대로 672 (부전동) 1층 2층<br/>051-804-3768</p> <i class=\"pin_reserve\">리저브 매장 2번</i></li>, <li class=\"quickResultLstCon\" data-code=\"9623\" data-hlytag=\"null\" data-index=\"4\" data-lat=\"35.15151\" data-long=\"129.061139\" data-name=\"서면센트럴스퀘어\" data-storecd=\"422\" style=\"background:#fff\"> <strong>서면센트럴스퀘어  <img alt=\"\" class=\"setStoreFavBtn mCS_img_loaded\" data-my_siren_order_store_yn=\"N\" data-name=\"서면센트럴스퀘어\" data-store=\"422\" data-yn=\"N\" src=\"//image.istarbucks.co.kr/common/img/store/icon_fav_off.png\"/></strong> <p class=\"result_details\">부산광역시 부산진구 중앙대로666번길 50 (부전동)<br/>051-807-8423</p> <i class=\"pin_general\">리저브 매장 2번</i></li>, <li class=\"quickResultLstCon\" data-code=\"9877\" data-hlytag=\"null\" data-index=\"5\" data-lat=\"35.155521\" data-long=\"129.058883\" data-name=\"부산서면중앙로\" data-storecd=\"690\" style=\"background:#fff\"> <strong>부산서면중앙로  <img alt=\"\" class=\"setStoreFavBtn mCS_img_loaded\" data-my_siren_order_store_yn=\"N\" data-name=\"부산서면중앙로\" data-store=\"690\" data-yn=\"N\" src=\"//image.istarbucks.co.kr/common/img/store/icon_fav_off.png\"/></strong> <p class=\"result_details\">부산광역시 부산진구 중앙대로 701, 1~3층 (부전동)<br/>051-806-8677</p> <i class=\"pin_general\">리저브 매장 2번</i></li>, <li class=\"quickResultLstCon\" data-code=\"9567\" data-hlytag=\"null\" data-index=\"6\" data-lat=\"35.156863\" data-long=\"129.058076\" data-name=\"서면중앙\" data-storecd=\"361\" style=\"background:#fff\"> <strong>서면중앙  <img alt=\"\" class=\"setStoreFavBtn mCS_img_loaded\" data-my_siren_order_store_yn=\"N\" data-name=\"서면중앙\" data-store=\"361\" data-yn=\"N\" src=\"//image.istarbucks.co.kr/common/img/store/icon_fav_off.png\"/></strong> <p class=\"result_details\">부산광역시 부산진구 서면로68번길 1 (부전동)<br/>051-805-8367</p> <i class=\"pin_general\">리저브 매장 2번</i></li>, <li class=\"quickResultLstCon\" data-code=\"9768\" data-hlytag=\"null\" data-index=\"7\" data-lat=\"35.157961\" data-long=\"129.05740949999995\" data-name=\"서면메디컬거리\" data-storecd=\"580\" style=\"background:#fff\"> <strong>서면메디컬거리  <img alt=\"\" class=\"setStoreFavBtn mCS_img_loaded\" data-my_siren_order_store_yn=\"N\" data-name=\"서면메디컬거리\" data-store=\"580\" data-yn=\"N\" src=\"//image.istarbucks.co.kr/common/img/store/icon_fav_off.png\"/></strong> <p class=\"result_details\">부산광역시 부산진구 가야대로 783-1, 1층 (부전동)<br/>051-806-8568</p> <i class=\"pin_general\">리저브 매장 2번</i></li>, <li class=\"quickResultLstCon\" data-code=\"9838\" data-hlytag=\"null\" data-index=\"8\" data-lat=\"35.154098\" data-long=\"129.061562\" data-name=\"부산서면\" data-storecd=\"653\" style=\"background:#fff\"> <strong>부산서면  <img alt=\"\" class=\"setStoreFavBtn mCS_img_loaded\" data-my_siren_order_store_yn=\"N\" data-name=\"부산서면\" data-store=\"653\" data-yn=\"N\" src=\"//image.istarbucks.co.kr/common/img/store/icon_fav_off.png\"/></strong> <p class=\"result_details\">부산광역시 부산진구 중앙대로692번길 46-10 (부전동)<br/>051-817-8638</p> <i class=\"pin_general\">리저브 매장 2번</i></li>, <li class=\"quickResultLstCon\" data-code=\"3039\" data-hlytag=\"null\" data-index=\"9\" data-lat=\"35.1377843\" data-long=\"129.0639376\" data-name=\"범일교차로\" data-storecd=\"859\" style=\"background:#fff\"> <strong>범일교차로  <img alt=\"\" class=\"setStoreFavBtn mCS_img_loaded\" data-my_siren_order_store_yn=\"N\" data-name=\"범일교차로\" data-store=\"859\" data-yn=\"N\" src=\"//image.istarbucks.co.kr/common/img/store/icon_fav_off.png\"/></strong> <p class=\"result_details\">부산광역시 동구 조방로 4 (범일동)<br/>051-639-8839</p> <i class=\"pin_reserve\">리저브 매장 2번</i></li>]\n",
      "<title id=\"titleJoin\">Starbucks Coffee Korea</title>\n"
     ]
    }
   ],
   "source": [
    "from bs4 import BeautifulSoup\n",
    "from selenium import webdriver\n",
    "from selenium.webdriver.common.desired_capabilities import DesiredCapabilities\n",
    "import time\n",
    "\n",
    "driver = webdriver.Remote(\"http://selenium:4444/wd/hub\", DesiredCapabilities.CHROME)\n",
    "#driver = webdriver.Chrome('./crawling/data/chromedriver')\n",
    "\n",
    "driver.get('https://www.istarbucks.co.kr/store/store_map.do')\n",
    "time.sleep(20)\n",
    "source=driver.page_source\n",
    "#print(source)\n",
    "\n",
    "soup=BeautifulSoup(source,'html.parser')\n",
    "print(soup.select('li.quickResultLstCon'))\n",
    "print(soup.title)\n",
    "driver.close()"
   ]
  },
  {
   "cell_type": "markdown",
   "metadata": {},
   "source": [
    "### 3. webdriver를 이용하여 퀵검색->부산->해운대구의 매장정보를 가져와 본다. "
   ]
  },
  {
   "cell_type": "code",
   "execution_count": 7,
   "metadata": {},
   "outputs": [
    {
     "name": "stdout",
     "output_type": "stream",
     "text": [
      "부산광역시 해운대구 센텀동로 25, 1층 (우동)051-744-7431\n",
      "부산광역시 해운대구 센텀서로 30 (우동)051-664-8787\n",
      "부산광역시 해운대구 센텀2로 25, 센텀드림월드 1층 (우동)051-744-8488\n",
      "부산광역시 해운대구 좌동순환로 511, 해운대이마트 1층 (중동)051-744-7496\n",
      "부산광역시 해운대구 달맞이길 189 (중동)051-744-6754\n",
      "부산광역시 해운대구 센텀남대로 35, 신세계백화점 UEC 6F (우동)051-745-1856\n",
      "부산광역시 해운대구 마린시티2로 38 (우동)051-792-7153\n",
      "부산광역시 해운대구 마린시티2로 33, 제니스스퀘어 (우동)051-744-8489\n",
      "부산광역시 해운대구 센텀동로 9, 트럼프월드센텀아파트 1층 (우동)051-744-8526\n",
      "부산광역시 해운대구 좌동로 96 (좌동)051-704-6279\n",
      "부산광역시 해운대구 해운대해변로298번길 24, 팔래드시즈 1-3호, 2-3호 (중동)051-743-2558\n",
      "부산광역시 해운대구 해운대해변로 163 (우동)051-742-1655\n",
      "부산광역시 해운대구 APEC로 55, 벡스코내 (우동)051-742-2075\n",
      "부산광역시 해운대구 해운대해변로 257, 엘지하버타운 (우동)051-740-6595\n",
      "부산광역시 해운대구 해운대로 802 (좌동)051-702-6935\n",
      "부산광역시 해운대구 송정해변로 36 (송정동)051-702-9644\n",
      "부산광역시 해운대구 센텀중앙로 78 (우동)051-744-5741\n",
      "부산광역시 해운대구 달맞이길 57 (중동) 1~3층051-742-7802\n",
      "부산광역시 해운대구 센텀남대로 35 (우동) 센텀시티 신세계UEC051-745-1262\n",
      "부산광역시 해운대구 센텀2로 10 (우동) 센텀메디컬센타 1층 스타벅스 센텀로점051-742-6948\n",
      "부산광역시 해운대구 센텀4로 15 (우동)[*미고시]051-745-2838\n",
      "부산광역시 해운대구 구남로 49 (중동) 101호051-743-3244\n",
      "부산광역시 해운대구 해운대로 189 (재송동)051-784-3268\n",
      "부산광역시 해운대구 구남로 9 (우동)051-746-3538\n",
      "부산광역시 해운대구 센텀중앙로 145 (재송동, 더샵센텀파크1차아파트)051-744-3572\n",
      "부산광역시 해운대구 수영강변대로 516 (반여동)051-528-3493\n",
      "부산광역시 해운대구 해운대해변로 197 (우동, 해운대경동제이드아파트)051-746-3622\n"
     ]
    }
   ],
   "source": [
    "from bs4 import BeautifulSoup\n",
    "from selenium import webdriver\n",
    "import requests,time\n",
    "from selenium.webdriver.common.desired_capabilities import DesiredCapabilities\n",
    "\n",
    "driver = webdriver.Remote(\"http://selenium:4444/wd/hub\", DesiredCapabilities.CHROME)\n",
    "\n",
    "#driver = webdriver.Chrome('./crawling/data/chromedriver')\n",
    "driver.get('https://www.istarbucks.co.kr/store/store_map.do')\n",
    "time.sleep(10)\n",
    "\n",
    "loca = driver.find_element_by_class_name('loca_search')\n",
    "loca.click()\n",
    "time.sleep(10)\n",
    "\n",
    "sido = driver.find_element_by_class_name('sido_arae_box')\n",
    "li=sido.find_elements_by_tag_name('li')\n",
    "li[5].click()\n",
    "time.sleep(10)\n",
    "\n",
    "sido = driver.find_element_by_class_name('gugun_arae_box')\n",
    "li=sido.find_elements_by_tag_name('li')\n",
    "li[16].click()\n",
    "time.sleep(10)\n",
    "\n",
    "source=driver.page_source\n",
    "\n",
    "bs=BeautifulSoup(source,'lxml')\n",
    "entire=bs.find('ul',class_='quickSearchResultBoxSidoGugun')\n",
    "li_list=entire.find_all('li')\n",
    "\n",
    "for li in li_list:\n",
    "    print(li.find('p').text)\n",
    "    \n",
    "driver.close();"
   ]
  }
 ],
 "metadata": {
  "kernelspec": {
   "display_name": "Python 3",
   "language": "python",
   "name": "python3"
  },
  "language_info": {
   "codemirror_mode": {
    "name": "ipython",
    "version": 3
   },
   "file_extension": ".py",
   "mimetype": "text/x-python",
   "name": "python",
   "nbconvert_exporter": "python",
   "pygments_lexer": "ipython3",
   "version": "3.7.4"
  }
 },
 "nbformat": 4,
 "nbformat_minor": 4
}
