{
 "cells": [
  {
   "cell_type": "code",
   "execution_count": 3,
   "metadata": {},
   "outputs": [],
   "source": [
    "import requests\n",
    "from bs4 import BeautifulSoup\n",
    "from time import sleep\n",
    "import pandas as pd\n",
    "\n",
    "def Getdata(code_list,page=None):\n",
    "    # 영화 코드\n",
    "    code_list = code_list    \n",
    "    # 현재 크롤링 중인 영화가 첫 번째 영화인지 여부\n",
    "    chk = False\n",
    "    # 영화의 개수만큼 반복한다.\n",
    "    df = pd.DataFrame()\n",
    "    \n",
    "    for code in code_list:\n",
    "        # 1단계 : 해당 영화의 평점 페이지 수 계산\n",
    "        # 접속한다.\n",
    "        site1 = 'https://movie.naver.com/movie/bi/mi/pointWriteFormList.nhn?code=%d&type=after&isActualPointWriteExecute=false&isMileageSubscriptionAlready=false&isMileageSubscriptionReject=false' % code\n",
    "        res1 = requests.get(site1)\n",
    "        if res1.status_code == requests.codes.ok:\n",
    "            # html코드를 분석한다.\n",
    "            bs1 = BeautifulSoup(res1.text, 'html.parser')\n",
    "            score_total = bs1.find(class_='score_total')\n",
    "            ems = score_total.find_all('em')\n",
    "            # print(ems[0].text)\n",
    "            score_total = int(ems[0].text.replace(',', ''))\n",
    "            print(score_total)\n",
    "            # 페이지 수를 계산한다.\n",
    "            pageCnt = score_total // 10\n",
    "            print(pageCnt)\n",
    "            if score_total % 10 > 0:\n",
    "                pageCnt += 1\n",
    "            # 현재 페이지 번호\n",
    "            if page!=None and pageCnt>=page:\n",
    "                pageCnt=page\n",
    "                \n",
    "            print(pageCnt)\n",
    "            now_page = 1\n",
    "\n",
    "            # 2단계 : 평점 글 정보와 평점을 가져온다.\n",
    "            while now_page <= pageCnt:\n",
    "                sleep(0.5)\n",
    "                \n",
    "                # 요청 할 페이지의 주소\n",
    "                site2 = 'https://movie.naver.com/movie/bi/mi/pointWriteFormList.nhn?code=%d&type=after&isActualPointWriteExecute=false&isMileageSubscriptionAlready=false&isMileageSubscriptionReject=false&page=%d' % (code, now_page)\n",
    "                res2 = requests.get(site2)\n",
    "                if res2.status_code == requests.codes.ok:\n",
    "                    bs2 = BeautifulSoup(res2.text, 'html.parser')\n",
    "                    score_result = bs2.find(class_='score_result')\n",
    "                    lis = score_result.find_all('li')\n",
    "                    \n",
    "                    for obj in lis:\n",
    "                        # 평점\n",
    "                        star_score = obj.find(class_='star_score')\n",
    "                        star_em = star_score.find('em')\n",
    "                        star_score = int(star_em.text)\n",
    "                        # 평가글\n",
    "                        score_reple = obj.find(class_='score_reple')\n",
    "                        reple_p = score_reple.find('span')\n",
    "                        score_reple = reple_p.text.strip()\n",
    "                        print(star_score, score_reple)\n",
    "                        # 데이터를 누적한다\n",
    "                        if score_reple=='' or score_reple=='관람객':\n",
    "                            continue\n",
    "                        else:\n",
    "                            df = df.append([[score_reple, star_score]], ignore_index=True)\n",
    "                    now_page += 1\n",
    "                    print('%d / %d' % (now_page, pageCnt))\n",
    "    df.columns = ['text', 'star']\n",
    "    return df"
   ]
  },
  {
   "cell_type": "code",
   "execution_count": 10,
   "metadata": {},
   "outputs": [],
   "source": [
    "from wordcloud import WordCloud\n",
    "import matplotlib.pyplot as plt\n",
    "import os\n",
    "\n",
    "def displayWordCloud(code,data = None, backgroundcolor = 'white', width=800, height=600 ):\n",
    "    stopwords_kr = ['있었다','것이다'] \n",
    "    wordcloud = WordCloud(\n",
    "                        #font_path = '/Library/Fonts/NanumBarunGothic.ttf', \n",
    "                        font_path = '/opt/conda/lib/python3.7/site-packages/matplotlib/mpl-data/fonts/ttf/NanumBarunGothic.ttf',\n",
    "                        stopwords = stopwords_kr,\n",
    "                        background_color = backgroundcolor, \n",
    "                        width = width, height = height).generate(data)\n",
    "    #print(wordcloud.words_)\n",
    "    # 이미지로 결과 저정\n",
    "    print(os.getcwd())\n",
    "    file_dir=os.getcwd()\n",
    "    file_name=\"img\" + code + \".png\"\n",
    "    wordcloud.to_file(file_dir+\"/static/img/\"+file_name) "
   ]
  },
  {
   "cell_type": "code",
   "execution_count": 12,
   "metadata": {},
   "outputs": [
    {
     "name": "stdout",
     "output_type": "stream",
     "text": [
      "/home/vscode/notebooks/kgitbank-python/03_flask/flask_movie_SQLAlchemy\n"
     ]
    },
    {
     "ename": "NameError",
     "evalue": "name '__file__' is not defined",
     "output_type": "error",
     "traceback": [
      "\u001b[0;31m\u001b[0m",
      "\u001b[0;31mNameError\u001b[0mTraceback (most recent call last)",
      "\u001b[0;32m<ipython-input-12-5ee374e539a8>\u001b[0m in \u001b[0;36m<module>\u001b[0;34m\u001b[0m\n\u001b[1;32m      1\u001b[0m \u001b[0;32mimport\u001b[0m \u001b[0mos\u001b[0m\u001b[0;34m\u001b[0m\u001b[0;34m\u001b[0m\u001b[0m\n\u001b[1;32m      2\u001b[0m \u001b[0mprint\u001b[0m \u001b[0;34m(\u001b[0m\u001b[0mos\u001b[0m\u001b[0;34m.\u001b[0m\u001b[0mgetcwd\u001b[0m\u001b[0;34m(\u001b[0m\u001b[0;34m)\u001b[0m\u001b[0;34m)\u001b[0m \u001b[0;31m#현재 디렉토리의\u001b[0m\u001b[0;34m\u001b[0m\u001b[0;34m\u001b[0m\u001b[0m\n\u001b[0;32m----> 3\u001b[0;31m \u001b[0mprint\u001b[0m \u001b[0;34m(\u001b[0m\u001b[0mos\u001b[0m\u001b[0;34m.\u001b[0m\u001b[0mpath\u001b[0m\u001b[0;34m.\u001b[0m\u001b[0mrealpath\u001b[0m\u001b[0;34m(\u001b[0m\u001b[0m__file__\u001b[0m\u001b[0;34m)\u001b[0m\u001b[0;34m)\u001b[0m\u001b[0;31m#파일\u001b[0m\u001b[0;34m\u001b[0m\u001b[0;34m\u001b[0m\u001b[0m\n\u001b[0m\u001b[1;32m      4\u001b[0m \u001b[0mprint\u001b[0m \u001b[0;34m(\u001b[0m\u001b[0mos\u001b[0m\u001b[0;34m.\u001b[0m\u001b[0mpath\u001b[0m\u001b[0;34m.\u001b[0m\u001b[0mdirname\u001b[0m\u001b[0;34m(\u001b[0m\u001b[0mos\u001b[0m\u001b[0;34m.\u001b[0m\u001b[0mpath\u001b[0m\u001b[0;34m.\u001b[0m\u001b[0mrealpath\u001b[0m\u001b[0;34m(\u001b[0m\u001b[0m__file__\u001b[0m\u001b[0;34m)\u001b[0m\u001b[0;34m)\u001b[0m \u001b[0;34m)\u001b[0m\u001b[0;31m#파일이 위치한 디렉토리\u001b[0m\u001b[0;34m\u001b[0m\u001b[0;34m\u001b[0m\u001b[0m\n",
      "\u001b[0;31mNameError\u001b[0m: name '__file__' is not defined"
     ]
    }
   ],
   "source": [
    "import os\n",
    "print (os.getcwd()) #현재 디렉토리의\n",
    "print (os.path.realpath(__file__))#파일\n",
    "print (os.path.dirname(os.path.realpath(__file__)) )#파일이 위치한 디렉토리"
   ]
  },
  {
   "cell_type": "code",
   "execution_count": 5,
   "metadata": {},
   "outputs": [
    {
     "name": "stdout",
     "output_type": "stream",
     "text": [
      "4549\n",
      "454\n",
      "5\n",
      "10 관람객\n",
      "8 충무로: 이거 어케하는거냐?\n",
      "10 관람객\n",
      "10 관람객\n",
      "10 촬영감독의 영혼까지 갈아넣은 마스터피스\n",
      "10 오스카 작품상 탔어도 할말 없었을것 같다.\n",
      "10 관람객\n",
      "10 주인공을 카메라가 계속 따라가는데.. 세트장이 엄청 넓은거에 놀랐습니다. 직접 1차대전에 참전하는 느낌.. 이때당시 군인들 20년뒤 히틀러라는 극악의 악마로 자식들 다 전장에 몰리고 더 최악의 고통을 받을껀데 참.....\n",
      "10 닥터스트레인지의 판단력이 좋았다.\n",
      "10 아카데미 작품상이야 작품전체를 보는거니 기생충이 받을수도 있다고 보는데 감독상은 1917 줬어도 할말 없음. 감독의 참신성이 빛을 발함. 결론적으로 아카데미 작품상과 감독상을 1917이 받았어도 아무 할말 없는 것이...\n",
      "2 / 5\n",
      "10 관람객\n",
      "10 솔직히 나는 기생충보다 이영화가 더 재미있었다.\n",
      "10 솔직히 연출력만으로 최고의 영화다. 마치 우리가 투명인간이 되서 그들을 지켜보는 듯했다. 마지막장면은 영화 내내 쉴시간이 없었던것에 대한 피로감을 풀어줘서 기승전결도 완벽.\n",
      "10 스포일러가 포함된 감상평입니다. 감상평 보기\n",
      "10 진짜 원테이크 장면 너무 긴거 아님?? 촬영하기 진짜 힘들었을 듯...\n",
      "10 막판에 횡으로 수많은 병사가 신호와 함께 우르르 튀어나올때 주인공 혼자 종으로 막 달리는 장면 와 진짜ㅋㅋㅋㅋ대박 무조건 아이맥스로 보세요!\n",
      "10 관람객\n",
      "10 관람객\n",
      "10 스포일러가 포함된 감상평입니다. 감상평 보기\n",
      "9 원테이크 촬영신은 볼때마다 대단하다 후보에 오를만 했음\n",
      "3 / 5\n",
      "10 솔직히 샘 멘데스 감독 좀 억울할듯기생충도 재밌게 봤지만, 이거 보고나서 좀 억울했겠다는 생각이 팍듬..\n",
      "10 관람객\n",
      "10 일단..극장에서 보는걸  추천드립니다.카메라감독 상 줘야 할판  엄청나게  잘 찍음\n",
      "10 기생충이 그냥 백인이 나온 헐리우드 영화였다면 절대 1917을 이기지 못했을것. 1917은 오히려 백인의 헐리우드 영화라 차별받음. 진짜 근래 보기 드믄 명작\n",
      "10 관람객\n",
      "10 동료를 잃고 목숨을 잃을 위기를 극복해나가며 달려 얻은 것은 전쟁의 무의미함과 허무함 뿐.\n",
      "10 이 모든 것이 하루만의 일이라니...\n",
      "10 관람객\n",
      "9 전쟁이 끝나는 길은 마지막 한사람까지 죽는 것이다.\n",
      "10 스포일러가 포함된 감상평입니다. 감상평 보기\n",
      "4 / 5\n",
      "10 전쟁씬 안나온다고 보지말라던 사람들 너무 한심하다\n",
      "10 독일군보다 무서운건 NG다.\n",
      "10 관람객\n",
      "10 병사를 따라가다보면 경험할 전쟁의 참상과 자연스레 따라오는 두려움과 먹먹함, 이건 판타지를 제외한 영화의 기술이 구현할 수 있는 가장 최상의 리얼리티\n",
      "10 관람객\n",
      "10 지금까지 이런 영화촬영기술은 본적이 없다. 롱테이크 원샷으로 무려 1시간이다. 배우는 배우대로 혼신의 힘을 다했고 촬영감독은 자신의 역량을 뛰어넘었다. 무엇보다 이걸 연출한 감독의 역량은 미쳤다.\n",
      "10 관람객\n",
      "10 와 울컥했다. 봉준호가 어떻게 이영화를 이겼는지 모르겠다\n",
      "10 스포일러가 포함된 감상평입니다. 감상평 보기\n",
      "10 관람객\n",
      "5 / 5\n",
      "10 극장에 들어서는 순간 전장에 뛰어든 것이었다.\n",
      "10 이건 영화관에서 안 보면 진짜 후회하는 영화.\n",
      "10 관람객\n",
      "9 남자주인공이 왜 오스카 노미 안됐는지 의문인 영화\n",
      "10 기생충이 이거보다 대단한거였나...?\n",
      "10 전쟁의 참상을 온전히, 객관적으로 바라본다는 것\n",
      "10 이런영화를 만들어주는 것에 감사하다\n",
      "8 1917은 조용하게 강렬하다\n",
      "10 관람객\n",
      "9 관람객\n",
      "6 / 5\n"
     ]
    }
   ],
   "source": [
    "df1=Getdata([187321],5)"
   ]
  },
  {
   "cell_type": "code",
   "execution_count": 11,
   "metadata": {},
   "outputs": [
    {
     "name": "stdout",
     "output_type": "stream",
     "text": [
      "/home/vscode/notebooks/kgitbank-python/03_flask/flask_movie_SQLAlchemy\n"
     ]
    }
   ],
   "source": [
    "displayWordCloud('187321',' '.join(df1['text']))"
   ]
  },
  {
   "cell_type": "code",
   "execution_count": null,
   "metadata": {},
   "outputs": [],
   "source": []
  }
 ],
 "metadata": {
  "kernelspec": {
   "display_name": "Python 3",
   "language": "python",
   "name": "python3"
  },
  "language_info": {
   "codemirror_mode": {
    "name": "ipython",
    "version": 3
   },
   "file_extension": ".py",
   "mimetype": "text/x-python",
   "name": "python",
   "nbconvert_exporter": "python",
   "pygments_lexer": "ipython3",
   "version": "3.7.4"
  }
 },
 "nbformat": 4,
 "nbformat_minor": 4
}
