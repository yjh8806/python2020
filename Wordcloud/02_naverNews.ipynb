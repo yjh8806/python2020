{
 "cells": [
  {
   "cell_type": "code",
   "execution_count": 1,
   "metadata": {},
   "outputs": [],
   "source": [
    "import urllib.request\n",
    "from bs4 import BeautifulSoup\n",
    "import pandas as pd\n",
    "\n",
    "news=[]\n",
    "url='https://news.naver.com/'\n",
    "response = urllib.request.urlopen(url)\n",
    "soup=BeautifulSoup(response,'html.parser')\n",
    "results=soup.select('.section_list_ranking li a')\n",
    "for result in results:\n",
    "    #print('제목:',result.attrs['title'])\n",
    "    #print('링크:',result.attrs['href'])\n",
    "    title=result.attrs['title']\n",
    "    href=result.attrs['href']\n",
    "    url_content='https://news.naver.com'+result.attrs['href']\n",
    "    response_content = urllib.request.urlopen(url_content)\n",
    "    soup_content=BeautifulSoup(response_content,'html.parser')\n",
    "    content=soup_content.select_one('#articleBodyContents')\n",
    "    #print(content.contents)\n",
    "\n",
    "    #가공작업\n",
    "    output=''\n",
    "    for item in content.strings:\n",
    "        stripped = str(item).strip()    #공백제거\n",
    "        if stripped=='':\n",
    "            continue\n",
    "        else:\n",
    "             output+=item\n",
    "    output=output.replace('본문 내용TV플레이어','')\n",
    "    output=output.replace('// flash 오류를 우회하기 위한 함수 추가','')\n",
    "    output=output.replace('function _flash_removeCallback() {}','')\n",
    "    output=output.strip()\n",
    "    news.append({'title':title,'href':href,'contents':output})\n",
    "    \n",
    "#print(news)    \n",
    "dataframe=pd.DataFrame(news)\n",
    "dataframe.to_csv(\"news.csv\")"
   ]
  },
  {
   "cell_type": "code",
   "execution_count": null,
   "metadata": {},
   "outputs": [],
   "source": []
  }
 ],
 "metadata": {
  "kernelspec": {
   "display_name": "Python 3",
   "language": "python",
   "name": "python3"
  },
  "language_info": {
   "codemirror_mode": {
    "name": "ipython",
    "version": 3
   },
   "file_extension": ".py",
   "mimetype": "text/x-python",
   "name": "python",
   "nbconvert_exporter": "python",
   "pygments_lexer": "ipython3",
   "version": "3.7.4"
  }
 },
 "nbformat": 4,
 "nbformat_minor": 4
}
