{
 "cells": [
  {
   "cell_type": "code",
   "execution_count": 2,
   "metadata": {},
   "outputs": [],
   "source": [
    "import urllib.request\n",
    "from bs4 import BeautifulSoup\n",
    "import pandas as pd\n",
    "\n",
    "news=[]\n",
    "url='https://news.naver.com/'\n",
    "response = urllib.request.urlopen(url)\n",
    "soup=BeautifulSoup(response,'html.parser')\n",
    "results=soup.select('.section_list_ranking li a')\n",
    "for result in results:\n",
    "    #print('제목:',result.attrs['title'])\n",
    "    #print('링크:',result.attrs['href'])\n",
    "    title=result.attrs['title']\n",
    "    href=result.attrs['href']\n",
    "    url_content='https://news.naver.com'+result.attrs['href']\n",
    "    response_content = urllib.request.urlopen(url_content)\n",
    "    soup_content=BeautifulSoup(response_content,'html.parser')\n",
    "    content=soup_content.select_one('#articleBodyContents')\n",
    "    #print(content.contents)\n",
    "\n",
    "    #가공작업\n",
    "    output=''\n",
    "    for item in content.strings:\n",
    "        stripped = str(item).strip()    #공백제거\n",
    "        if stripped=='':\n",
    "            continue\n",
    "        else:\n",
    "             output+=item\n",
    "    output=output.replace('본문 내용TV플레이어','')\n",
    "    output=output.replace('// flash 오류를 우회하기 위한 함수 추가','')\n",
    "    output=output.replace('function _flash_removeCallback() {}','')\n",
    "    output=output.strip()\n",
    "    news.append({'title':title,'href':href,'contents':output})\n",
    "    \n",
    "#print(news)    \n",
    "dataframe=pd.DataFrame(news)\n",
    "dataframe.to_csv(\"news.csv\")"
   ]
  },
  {
   "cell_type": "code",
   "execution_count": 3,
   "metadata": {},
   "outputs": [],
   "source": [
    "import pandas as pd\n",
    "df = pd.read_csv('news.csv', engine = 'python', encoding = 'utf-8')"
   ]
  },
  {
   "cell_type": "code",
   "execution_count": 4,
   "metadata": {},
   "outputs": [
    {
     "data": {
      "text/plain": [
       "(60, 4)"
      ]
     },
     "execution_count": 4,
     "metadata": {},
     "output_type": "execute_result"
    }
   ],
   "source": [
    "df.shape"
   ]
  },
  {
   "cell_type": "code",
   "execution_count": 5,
   "metadata": {},
   "outputs": [
    {
     "data": {
      "text/plain": [
       "(40, 4)"
      ]
     },
     "execution_count": 5,
     "metadata": {},
     "output_type": "execute_result"
    }
   ],
   "source": [
    "import re\n",
    "p = '.*(코로나|여행|비행기|호텔).*' # . 임의의 문자 한개에 대응, * 0개 이상\n",
    "topic = df[df['title'].str.match(p)|df['contents'].str.match(p, flags = re.MULTILINE)]\n",
    "topic.shape"
   ]
  },
  {
   "cell_type": "code",
   "execution_count": 6,
   "metadata": {},
   "outputs": [
    {
     "data": {
      "text/html": [
       "<div>\n",
       "<style scoped>\n",
       "    .dataframe tbody tr th:only-of-type {\n",
       "        vertical-align: middle;\n",
       "    }\n",
       "\n",
       "    .dataframe tbody tr th {\n",
       "        vertical-align: top;\n",
       "    }\n",
       "\n",
       "    .dataframe thead th {\n",
       "        text-align: right;\n",
       "    }\n",
       "</style>\n",
       "<table border=\"1\" class=\"dataframe\">\n",
       "  <thead>\n",
       "    <tr style=\"text-align: right;\">\n",
       "      <th></th>\n",
       "      <th>Unnamed: 0</th>\n",
       "      <th>title</th>\n",
       "      <th>href</th>\n",
       "      <th>contents</th>\n",
       "    </tr>\n",
       "  </thead>\n",
       "  <tbody>\n",
       "    <tr>\n",
       "      <td>1</td>\n",
       "      <td>1</td>\n",
       "      <td>[단독]곽상도 \"마스크 독점 지오영, 한달 204억 벌었다\" 주장</td>\n",
       "      <td>/main/ranking/read.nhn?mid=etc&amp;sid1=111&amp;rankin...</td>\n",
       "      <td>곽상도 미래통합당 의원은 5일 정부의 시중 약국 대상 공적(公的) 마스크 공급 채널...</td>\n",
       "    </tr>\n",
       "    <tr>\n",
       "      <td>2</td>\n",
       "      <td>2</td>\n",
       "      <td>통합당, 조국 고리로 與 때리기…\"'조국 살리자' 선거전 기이해\"(종합)</td>\n",
       "      <td>/main/ranking/read.nhn?mid=etc&amp;sid1=111&amp;rankin...</td>\n",
       "      <td>김종인 \"조국과 대한민국 경제 중 무엇을 살려야 할지 삼척동자도 알아\"원유철·대전 ...</td>\n",
       "    </tr>\n",
       "    <tr>\n",
       "      <td>3</td>\n",
       "      <td>3</td>\n",
       "      <td>문 대통령 \"강원 산불 이겨낸 정신으로 코로나19도 이겨낼 것\"(종합)</td>\n",
       "      <td>/main/ranking/read.nhn?mid=etc&amp;sid1=111&amp;rankin...</td>\n",
       "      <td>식목일 맞아 산불 피해현장에 금강송 심어…\"강원산불, 재난극복 모범적 사례\"\"코로나...</td>\n",
       "    </tr>\n",
       "    <tr>\n",
       "      <td>4</td>\n",
       "      <td>4</td>\n",
       "      <td>文대통령 \"코로나에도 전국민 1인1나무 가꾸기 운동 당부\"</td>\n",
       "      <td>/main/ranking/read.nhn?mid=etc&amp;sid1=111&amp;rankin...</td>\n",
       "      <td>文대통령 부부, 식목일에 강릉 산불 피해지 방문피해 주민 등 40여명과 금강소나무 ...</td>\n",
       "    </tr>\n",
       "    <tr>\n",
       "      <td>5</td>\n",
       "      <td>5</td>\n",
       "      <td>김종인 \"경제 바이러스가 온다… 조국과 경제, 둘중 뭘 살릴거냐\"</td>\n",
       "      <td>/main/ranking/read.nhn?mid=etc&amp;sid1=111&amp;rankin...</td>\n",
       "      <td>대전 찾은 김종인 \"민주당 후보, 거수기 노릇\"김종인 미래통합당 총괄선대위원장이 5...</td>\n",
       "    </tr>\n",
       "  </tbody>\n",
       "</table>\n",
       "</div>"
      ],
      "text/plain": [
       "   Unnamed: 0                                     title  \\\n",
       "1           1      [단독]곽상도 \"마스크 독점 지오영, 한달 204억 벌었다\" 주장   \n",
       "2           2  통합당, 조국 고리로 與 때리기…\"'조국 살리자' 선거전 기이해\"(종합)   \n",
       "3           3   문 대통령 \"강원 산불 이겨낸 정신으로 코로나19도 이겨낼 것\"(종합)   \n",
       "4           4          文대통령 \"코로나에도 전국민 1인1나무 가꾸기 운동 당부\"   \n",
       "5           5      김종인 \"경제 바이러스가 온다… 조국과 경제, 둘중 뭘 살릴거냐\"   \n",
       "\n",
       "                                                href  \\\n",
       "1  /main/ranking/read.nhn?mid=etc&sid1=111&rankin...   \n",
       "2  /main/ranking/read.nhn?mid=etc&sid1=111&rankin...   \n",
       "3  /main/ranking/read.nhn?mid=etc&sid1=111&rankin...   \n",
       "4  /main/ranking/read.nhn?mid=etc&sid1=111&rankin...   \n",
       "5  /main/ranking/read.nhn?mid=etc&sid1=111&rankin...   \n",
       "\n",
       "                                            contents  \n",
       "1  곽상도 미래통합당 의원은 5일 정부의 시중 약국 대상 공적(公的) 마스크 공급 채널...  \n",
       "2  김종인 \"조국과 대한민국 경제 중 무엇을 살려야 할지 삼척동자도 알아\"원유철·대전 ...  \n",
       "3  식목일 맞아 산불 피해현장에 금강송 심어…\"강원산불, 재난극복 모범적 사례\"\"코로나...  \n",
       "4  文대통령 부부, 식목일에 강릉 산불 피해지 방문피해 주민 등 40여명과 금강소나무 ...  \n",
       "5  대전 찾은 김종인 \"민주당 후보, 거수기 노릇\"김종인 미래통합당 총괄선대위원장이 5...  "
      ]
     },
     "execution_count": 6,
     "metadata": {},
     "output_type": "execute_result"
    }
   ],
   "source": [
    "topic.head() # topic.tail() topic.sample(3)"
   ]
  },
  {
   "cell_type": "markdown",
   "metadata": {},
   "source": [
    "# 워드클라우드 작성 함수"
   ]
  },
  {
   "cell_type": "code",
   "execution_count": 17,
   "metadata": {},
   "outputs": [],
   "source": [
    "from wordcloud import WordCloud\n",
    "import matplotlib.pyplot as plt\n",
    "%matplotlib inline\n",
    "\n",
    "def displayWordCloud(data = None, backgroundcolor = 'white', width = 800, height = 600):\n",
    "    wordcloud = WordCloud(\n",
    "                        # font_path = '/Library/Fonts/NanumBarunGothic.ttf',\n",
    "                        font_path = '/opt/conda/lib/python3.7/site-packages/matplotlib/mpl-data/fonts/ttf/NanumPen.ttf',\n",
    "                        stopwords = stopwords_kr,\n",
    "                        background_color = backgroundcolor,\n",
    "                        width = width, height = height).generate(data)\n",
    "    # print(wordcloud.words_)\n",
    "    plt.figure(figsize = (15, 10))\n",
    "    plt.imshow(wordcloud)\n",
    "    plt.axis(\"off\")\n",
    "    plt.show()"
   ]
  },
  {
   "cell_type": "code",
   "execution_count": 18,
   "metadata": {},
   "outputs": [
    {
     "ename": "UnboundLocalError",
     "evalue": "local variable 'stopwords_kr' referenced before assignment",
     "output_type": "error",
     "traceback": [
      "\u001b[0;31m\u001b[0m",
      "\u001b[0;31mUnboundLocalError\u001b[0mTraceback (most recent call last)",
      "\u001b[0;32m<timed eval>\u001b[0m in \u001b[0;36m<module>\u001b[0;34m\u001b[0m\n",
      "\u001b[0;32m<ipython-input-17-1d331cc215fc>\u001b[0m in \u001b[0;36mdisplayWordCloud\u001b[0;34m(data, backgroundcolor, width, height)\u001b[0m\n\u001b[1;32m      7\u001b[0m                         \u001b[0;31m# font_path = '/Library/Fonts/NanumBarunGothic.ttf',\u001b[0m\u001b[0;34m\u001b[0m\u001b[0;34m\u001b[0m\u001b[0;34m\u001b[0m\u001b[0m\n\u001b[1;32m      8\u001b[0m                         \u001b[0mfont_path\u001b[0m \u001b[0;34m=\u001b[0m \u001b[0;34m'/opt/conda/lib/python3.7/site-packages/matplotlib/mpl-data/fonts/ttf/NanumPen.ttf'\u001b[0m\u001b[0;34m,\u001b[0m\u001b[0;34m\u001b[0m\u001b[0;34m\u001b[0m\u001b[0m\n\u001b[0;32m----> 9\u001b[0;31m                         \u001b[0mstopwords\u001b[0m \u001b[0;34m=\u001b[0m \u001b[0mstopwords_kr\u001b[0m\u001b[0;34m,\u001b[0m\u001b[0;34m\u001b[0m\u001b[0;34m\u001b[0m\u001b[0m\n\u001b[0m\u001b[1;32m     10\u001b[0m                         \u001b[0mbackground_color\u001b[0m \u001b[0;34m=\u001b[0m \u001b[0mbackgroundcolor\u001b[0m\u001b[0;34m,\u001b[0m\u001b[0;34m\u001b[0m\u001b[0;34m\u001b[0m\u001b[0m\n\u001b[1;32m     11\u001b[0m                         width = width, height = height).generate(data)\n",
      "\u001b[0;31mUnboundLocalError\u001b[0m: local variable 'stopwords_kr' referenced before assignment"
     ]
    }
   ],
   "source": [
    "%time displayWordCloud(' '.join(df['contents']))"
   ]
  },
  {
   "cell_type": "code",
   "execution_count": 19,
   "metadata": {},
   "outputs": [],
   "source": [
    "from soynlp.noun import LRNounExtractor"
   ]
  },
  {
   "cell_type": "code",
   "execution_count": 20,
   "metadata": {},
   "outputs": [
    {
     "name": "stdout",
     "output_type": "stream",
     "text": [
      "[Noun Extractor] used default noun predictor; Sejong corpus predictor\n",
      "[Noun Extractor] used noun_predictor_sejong\n",
      "[Noun Extractor] All 2398 r features was loaded\n",
      "[Noun Extractor] scanning was done (L,R) has (2245, 1238) tokens\n",
      "[Noun Extractor] building L-R graph was done\n",
      "[Noun Extractor] 545 nouns are extracted\n",
      "CPU times: user 328 ms, sys: 3.8 ms, total: 332 ms\n",
      "Wall time: 334 ms\n"
     ]
    }
   ],
   "source": [
    "%%time\n",
    "noun_extractor = LRNounExtractor(verbose = True)\n",
    "noun_extractor.train(df['contents'])\n",
    "nouns = noun_extractor.extract()"
   ]
  },
  {
   "cell_type": "code",
   "execution_count": 21,
   "metadata": {},
   "outputs": [
    {
     "ename": "UnboundLocalError",
     "evalue": "local variable 'stopwords_kr' referenced before assignment",
     "output_type": "error",
     "traceback": [
      "\u001b[0;31m\u001b[0m",
      "\u001b[0;31mUnboundLocalError\u001b[0mTraceback (most recent call last)",
      "\u001b[0;32m<timed eval>\u001b[0m in \u001b[0;36m<module>\u001b[0;34m\u001b[0m\n",
      "\u001b[0;32m<ipython-input-17-1d331cc215fc>\u001b[0m in \u001b[0;36mdisplayWordCloud\u001b[0;34m(data, backgroundcolor, width, height)\u001b[0m\n\u001b[1;32m      7\u001b[0m                         \u001b[0;31m# font_path = '/Library/Fonts/NanumBarunGothic.ttf',\u001b[0m\u001b[0;34m\u001b[0m\u001b[0;34m\u001b[0m\u001b[0;34m\u001b[0m\u001b[0m\n\u001b[1;32m      8\u001b[0m                         \u001b[0mfont_path\u001b[0m \u001b[0;34m=\u001b[0m \u001b[0;34m'/opt/conda/lib/python3.7/site-packages/matplotlib/mpl-data/fonts/ttf/NanumPen.ttf'\u001b[0m\u001b[0;34m,\u001b[0m\u001b[0;34m\u001b[0m\u001b[0;34m\u001b[0m\u001b[0m\n\u001b[0;32m----> 9\u001b[0;31m                         \u001b[0mstopwords\u001b[0m \u001b[0;34m=\u001b[0m \u001b[0mstopwords_kr\u001b[0m\u001b[0;34m,\u001b[0m\u001b[0;34m\u001b[0m\u001b[0;34m\u001b[0m\u001b[0m\n\u001b[0m\u001b[1;32m     10\u001b[0m                         \u001b[0mbackground_color\u001b[0m \u001b[0;34m=\u001b[0m \u001b[0mbackgroundcolor\u001b[0m\u001b[0;34m,\u001b[0m\u001b[0;34m\u001b[0m\u001b[0;34m\u001b[0m\u001b[0m\n\u001b[1;32m     11\u001b[0m                         width = width, height = height).generate(data)\n",
      "\u001b[0;31mUnboundLocalError\u001b[0m: local variable 'stopwords_kr' referenced before assignment"
     ]
    }
   ],
   "source": [
    "%time displayWordCloud(' '.join(nouns))"
   ]
  },
  {
   "cell_type": "code",
   "execution_count": null,
   "metadata": {},
   "outputs": [],
   "source": []
  }
 ],
 "metadata": {
  "kernelspec": {
   "display_name": "Python 3",
   "language": "python",
   "name": "python3"
  },
  "language_info": {
   "codemirror_mode": {
    "name": "ipython",
    "version": 3
   },
   "file_extension": ".py",
   "mimetype": "text/x-python",
   "name": "python",
   "nbconvert_exporter": "python",
   "pygments_lexer": "ipython3",
   "version": "3.7.4"
  }
 },
 "nbformat": 4,
 "nbformat_minor": 4
}
