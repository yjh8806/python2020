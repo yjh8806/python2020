{
 "cells": [
  {
   "cell_type": "markdown",
   "metadata": {},
   "source": [
    "## [StarBucks Link - 매장 빠른검색](https://www.istarbucks.co.kr/store/store_map.do?disp=quick)"
   ]
  },
  {
   "cell_type": "code",
   "execution_count": 2,
   "metadata": {},
   "outputs": [
    {
     "name": "stdout",
     "output_type": "stream",
     "text": [
      "부산광역시 해운대구 센텀동로 25, 1층 (우동)1522-3232\n",
      "부산광역시 해운대구 센텀서로 30 (우동)1522-3232\n",
      "부산광역시 해운대구 센텀2로 25, 센텀드림월드 1층 (우동)1522-3232\n",
      "부산광역시 해운대구 좌동순환로 511, 해운대이마트 1층 (중동)1522-3232\n",
      "부산광역시 해운대구 달맞이길 189 (중동)1522-3232\n",
      "부산광역시 해운대구 센텀남대로 35, 신세계백화점 UEC 6F (우동)1522-3232\n",
      "부산광역시 해운대구 마린시티2로 38 (우동)1522-3232\n",
      "부산광역시 해운대구 마린시티2로 33, 제니스스퀘어 (우동)1522-3232\n",
      "부산광역시 해운대구 센텀동로 9, 트럼프월드센텀아파트 1층 (우동)1522-3232\n",
      "부산광역시 해운대구 좌동로 96 (좌동)1522-3232\n",
      "부산광역시 해운대구 해운대해변로298번길 24, 팔래드시즈 1-3호, 2-3호 (중동)1522-3232\n",
      "부산광역시 해운대구 해운대해변로 163 (우동)1522-3232\n",
      "부산광역시 해운대구 APEC로 55, 벡스코내 (우동)1522-3232\n",
      "부산광역시 해운대구 해운대해변로 257, 엘지하버타운 (우동)1522-3232\n",
      "부산광역시 해운대구 해운대로 802 (좌동)1522-3232\n",
      "부산광역시 해운대구 송정해변로 36 (송정동)1522-3232\n",
      "부산광역시 해운대구 센텀중앙로 78 (우동)1522-3232\n",
      "부산광역시 해운대구 달맞이길 57 (중동) 1~3층1522-3232\n",
      "부산광역시 해운대구 센텀남대로 35 (우동) 센텀시티 신세계UEC1522-3232\n",
      "부산광역시 해운대구 센텀2로 10 (우동) 센텀메디컬센타 1층 스타벅스 센텀로점1522-3232\n",
      "부산광역시 해운대구 센텀4로 15 (우동)[*미고시]1522-3232\n",
      "부산광역시 해운대구 구남로 49 (중동) 101호1522-3232\n",
      "부산광역시 해운대구 해운대로 189 (재송동)1522-3232\n",
      "부산광역시 해운대구 구남로 9 (우동)1522-3232\n",
      "부산광역시 해운대구 센텀중앙로 145 (재송동, 더샵센텀파크1차아파트)1522-3232\n",
      "부산광역시 해운대구 수영강변대로 516 (반여동)1522-3232\n",
      "부산광역시 해운대구 해운대해변로 197 (우동, 해운대경동제이드아파트)1522-3232\n"
     ]
    }
   ],
   "source": [
    "from bs4 import BeautifulSoup\n",
    "from selenium import webdriver\n",
    "import requests,time\n",
    "from selenium.webdriver.common.desired_capabilities import DesiredCapabilities\n",
    "\n",
    "driver = webdriver.Remote(\"http://selenium:4444/wd/hub\", DesiredCapabilities.CHROME)\n",
    "\n",
    "#driver = webdriver.Chrome('./crawling/data/chrommedriver')\n",
    "driver.get('https://www.istarbucks.co.kr/store/store_map.do')\n",
    "time.sleep(10)\n",
    "\n",
    "loca = driver.find_element_by_class_name('loca_search')\n",
    "loca.click()\n",
    "time.sleep(10)\n",
    "\n",
    "sido = driver.find_element_by_class_name('sido_arae_box')\n",
    "li=sido.find_elements_by_tag_name('li')\n",
    "li[5].click()\n",
    "time.sleep(10)\n",
    "\n",
    "sido = driver.find_element_by_class_name('gugun_arae_box')\n",
    "li=sido.find_elements_by_tag_name('li')\n",
    "li[16].click()\n",
    "time.sleep(10)\n",
    "\n",
    "source=driver.page_source\n",
    "\n",
    "bs=BeautifulSoup(source,'lxml')\n",
    "entire=bs.find('ul',class_='quickSearchResultBoxSidoGugun')\n",
    "li_list=entire.find_all('li')\n",
    "\n",
    "for li in li_list:\n",
    "    print(li.find('p').text)\n",
    "    \n",
    "driver.close();\n",
    "driver.quit(); # close와 quit 필수!!!"
   ]
  },
  {
   "cell_type": "code",
   "execution_count": null,
   "metadata": {},
   "outputs": [],
   "source": []
  },
  {
   "cell_type": "code",
   "execution_count": null,
   "metadata": {},
   "outputs": [],
   "source": []
  }
 ],
 "metadata": {
  "kernelspec": {
   "display_name": "Python 3",
   "language": "python",
   "name": "python3"
  },
  "language_info": {
   "codemirror_mode": {
    "name": "ipython",
    "version": 3
   },
   "file_extension": ".py",
   "mimetype": "text/x-python",
   "name": "python",
   "nbconvert_exporter": "python",
   "pygments_lexer": "ipython3",
   "version": "3.7.4"
  }
 },
 "nbformat": 4,
 "nbformat_minor": 4
}
