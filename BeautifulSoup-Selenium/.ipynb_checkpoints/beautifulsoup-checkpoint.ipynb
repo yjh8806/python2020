{
 "cells": [
  {
   "cell_type": "code",
   "execution_count": 27,
   "metadata": {},
   "outputs": [],
   "source": [
    "html_doc = \"\"\"\n",
    "<html><head><title>The Dormouse's story</title></head>\n",
    "<body>\n",
    "<p class=\"title\"><b>The Dormouse's story</b></p>\n",
    "\n",
    "<p class=\"story\">Once upon a time there were three little sisters; and their names were\n",
    "<a href=\"http://example.com/elsie\" class=\"sister\" id=\"link1\">Elsie</a>,\n",
    "<a href=\"http://example.com/lacie\" class=\"sister\" id=\"link2\">Lacie</a> and\n",
    "<a href=\"http://example.com/tillie\" class=\"sister\" id=\"link3\">Tillie</a>;\n",
    "and they lived at the bottom of a well.</p>\n",
    "\n",
    "<p class=\"story\">...</p>\n",
    "\"\"\""
   ]
  },
  {
   "cell_type": "code",
   "execution_count": 3,
   "metadata": {},
   "outputs": [],
   "source": [
    "from bs4 import BeautifulSoup"
   ]
  },
  {
   "cell_type": "code",
   "execution_count": 29,
   "metadata": {},
   "outputs": [
    {
     "name": "stdout",
     "output_type": "stream",
     "text": [
      "\n",
      "<html><head><title>The Dormouse's story</title></head>\n",
      "<body>\n",
      "<p class=\"title\"><b>The Dormouse's story</b></p>\n",
      "\n",
      "<p class=\"story\">Once upon a time there were three little sisters; and their names were\n",
      "<a href=\"http://example.com/elsie\" class=\"sister\" id=\"link1\">Elsie</a>,\n",
      "<a href=\"http://example.com/lacie\" class=\"sister\" id=\"link2\">Lacie</a> and\n",
      "<a href=\"http://example.com/tillie\" class=\"sister\" id=\"link3\">Tillie</a>;\n",
      "and they lived at the bottom of a well.</p>\n",
      "\n",
      "<p class=\"story\">...</p>\n",
      "\n"
     ]
    }
   ],
   "source": [
    "print(html_doc)"
   ]
  },
  {
   "cell_type": "code",
   "execution_count": 30,
   "metadata": {},
   "outputs": [],
   "source": [
    "soup = BeautifulSoup(html_doc, 'html.parser') # 두 번째 인자값으로 html.parser\n",
    "                                              # parse는 html구조라고 생각하자"
   ]
  },
  {
   "cell_type": "code",
   "execution_count": 31,
   "metadata": {},
   "outputs": [
    {
     "name": "stdout",
     "output_type": "stream",
     "text": [
      "<html>\n",
      " <head>\n",
      "  <title>\n",
      "   The Dormouse's story\n",
      "  </title>\n",
      " </head>\n",
      " <body>\n",
      "  <p class=\"title\">\n",
      "   <b>\n",
      "    The Dormouse's story\n",
      "   </b>\n",
      "  </p>\n",
      "  <p class=\"story\">\n",
      "   Once upon a time there were three little sisters; and their names were\n",
      "   <a class=\"sister\" href=\"http://example.com/elsie\" id=\"link1\">\n",
      "    Elsie\n",
      "   </a>\n",
      "   ,\n",
      "   <a class=\"sister\" href=\"http://example.com/lacie\" id=\"link2\">\n",
      "    Lacie\n",
      "   </a>\n",
      "   and\n",
      "   <a class=\"sister\" href=\"http://example.com/tillie\" id=\"link3\">\n",
      "    Tillie\n",
      "   </a>\n",
      "   ;\n",
      "and they lived at the bottom of a well.\n",
      "  </p>\n",
      "  <p class=\"story\">\n",
      "   ...\n",
      "  </p>\n",
      " </body>\n",
      "</html>\n"
     ]
    }
   ],
   "source": [
    "print(soup.prettify()) # prettify : 보기 좋게(들여쓰기,내어쓰기)\n",
    "# (prettify 이전 html_doc과 비교)"
   ]
  },
  {
   "cell_type": "code",
   "execution_count": 32,
   "metadata": {},
   "outputs": [
    {
     "data": {
      "text/plain": [
       "<title>The Dormouse's story</title>"
      ]
     },
     "execution_count": 32,
     "metadata": {},
     "output_type": "execute_result"
    }
   ],
   "source": [
    "soup.title # title 엘리먼트 자체를 출력"
   ]
  },
  {
   "cell_type": "code",
   "execution_count": 33,
   "metadata": {},
   "outputs": [
    {
     "data": {
      "text/plain": [
       "'title'"
      ]
     },
     "execution_count": 33,
     "metadata": {},
     "output_type": "execute_result"
    }
   ],
   "source": [
    "soup.title.name # title 엘리먼트의 태그이름"
   ]
  },
  {
   "cell_type": "code",
   "execution_count": 34,
   "metadata": {},
   "outputs": [
    {
     "data": {
      "text/plain": [
       "\"The Dormouse's story\""
      ]
     },
     "execution_count": 34,
     "metadata": {},
     "output_type": "execute_result"
    }
   ],
   "source": [
    "soup.title.string # title 엘리먼트 안의 내용 출력"
   ]
  },
  {
   "cell_type": "code",
   "execution_count": 35,
   "metadata": {},
   "outputs": [
    {
     "data": {
      "text/plain": [
       "'head'"
      ]
     },
     "execution_count": 35,
     "metadata": {},
     "output_type": "execute_result"
    }
   ],
   "source": [
    "soup.title.parent.name # title을 감싸고 있는 태그(<head>)"
   ]
  },
  {
   "cell_type": "code",
   "execution_count": 36,
   "metadata": {},
   "outputs": [
    {
     "data": {
      "text/plain": [
       "\"The Dormouse's story\""
      ]
     },
     "execution_count": 36,
     "metadata": {},
     "output_type": "execute_result"
    }
   ],
   "source": [
    "soup.title.parent.string"
   ]
  },
  {
   "cell_type": "code",
   "execution_count": 37,
   "metadata": {},
   "outputs": [
    {
     "data": {
      "text/plain": [
       "<head><title>The Dormouse's story</title></head>"
      ]
     },
     "execution_count": 37,
     "metadata": {},
     "output_type": "execute_result"
    }
   ],
   "source": [
    "soup.title.parent"
   ]
  },
  {
   "cell_type": "code",
   "execution_count": 38,
   "metadata": {},
   "outputs": [
    {
     "data": {
      "text/plain": [
       "<p class=\"title\"><b>The Dormouse's story</b></p>"
      ]
     },
     "execution_count": 38,
     "metadata": {},
     "output_type": "execute_result"
    }
   ],
   "source": [
    "soup.p # <p> 태그 가져오기"
   ]
  },
  {
   "cell_type": "code",
   "execution_count": 40,
   "metadata": {},
   "outputs": [
    {
     "data": {
      "text/plain": [
       "<a class=\"sister\" href=\"http://example.com/elsie\" id=\"link1\">Elsie</a>"
      ]
     },
     "execution_count": 40,
     "metadata": {},
     "output_type": "execute_result"
    }
   ],
   "source": [
    "soup.a # <a> 태그 가져오기"
   ]
  },
  {
   "cell_type": "code",
   "execution_count": 42,
   "metadata": {},
   "outputs": [
    {
     "data": {
      "text/plain": [
       "['title']"
      ]
     },
     "execution_count": 42,
     "metadata": {},
     "output_type": "execute_result"
    }
   ],
   "source": [
    "soup.p['class'] # class라는 속성 값"
   ]
  },
  {
   "cell_type": "code",
   "execution_count": 45,
   "metadata": {},
   "outputs": [
    {
     "data": {
      "text/plain": [
       "'http://example.com/elsie'"
      ]
     },
     "execution_count": 45,
     "metadata": {},
     "output_type": "execute_result"
    }
   ],
   "source": [
    "soup.a['href'] # <a> 태그의 href 속성 알고 싶은 경우"
   ]
  },
  {
   "cell_type": "code",
   "execution_count": 48,
   "metadata": {},
   "outputs": [
    {
     "data": {
      "text/plain": [
       "[<a class=\"sister\" href=\"http://example.com/elsie\" id=\"link1\">Elsie</a>,\n",
       " <a class=\"sister\" href=\"http://example.com/lacie\" id=\"link2\">Lacie</a>,\n",
       " <a class=\"sister\" href=\"http://example.com/tillie\" id=\"link3\">Tillie</a>]"
      ]
     },
     "execution_count": 48,
     "metadata": {},
     "output_type": "execute_result"
    }
   ],
   "source": [
    "soup.find_all('a') # <a> 태그 전부 찾아라 / List로 return / for문 가능"
   ]
  },
  {
   "cell_type": "code",
   "execution_count": 51,
   "metadata": {},
   "outputs": [
    {
     "data": {
      "text/plain": [
       "<a class=\"sister\" href=\"http://example.com/tillie\" id=\"link3\">Tillie</a>"
      ]
     },
     "execution_count": 51,
     "metadata": {},
     "output_type": "execute_result"
    }
   ],
   "source": [
    "soup.find(id = \"link3\") # id값이 link3인 것 찾기 / 가장 처음 걸리는 것 출력"
   ]
  },
  {
   "cell_type": "code",
   "execution_count": 71,
   "metadata": {},
   "outputs": [
    {
     "name": "stdout",
     "output_type": "stream",
     "text": [
      "<a class=\"sister\" href=\"http://example.com/elsie\" id=\"link1\">Elsie</a>\n",
      "출력된 link의 id값 : link1\n",
      "출력된 link의 내용 : Elsie\n",
      "a\n",
      "None\n",
      "<a class=\"sister\" href=\"http://example.com/lacie\" id=\"link2\">Lacie</a>\n",
      "출력된 link의 id값 : link2\n",
      "출력된 link의 내용 : Lacie\n",
      "a\n",
      "None\n",
      "<a class=\"sister\" href=\"http://example.com/tillie\" id=\"link3\">Tillie</a>\n",
      "출력된 link의 id값 : link3\n",
      "출력된 link의 내용 : Tillie\n",
      "a\n",
      "None\n"
     ]
    }
   ],
   "source": [
    "for link in soup.find_all('a'):\n",
    "    print(link)\n",
    "    print(\"출력된 link의 id값 : \" + link['id'])\n",
    "    print(\"출력된 link의 내용 : \" + link.string)\n",
    "    print(link.name)\n",
    "    print(link.get('href1')) # href1은 존재하지 않지만 오류가 아닌 None 출력"
   ]
  },
  {
   "cell_type": "code",
   "execution_count": 74,
   "metadata": {},
   "outputs": [
    {
     "name": "stdout",
     "output_type": "stream",
     "text": [
      "\n",
      "The Dormouse's story\n",
      "\n",
      "The Dormouse's story\n",
      "Once upon a time there were three little sisters; and their names were\n",
      "Elsie,\n",
      "Lacie and\n",
      "Tillie;\n",
      "and they lived at the bottom of a well.\n",
      "...\n",
      "\n"
     ]
    }
   ],
   "source": [
    "print(soup.get_text()) # 태그안의 글자(text)만 출력"
   ]
  },
  {
   "cell_type": "code",
   "execution_count": 86,
   "metadata": {},
   "outputs": [
    {
     "data": {
      "text/plain": [
       "{'href': 'http://example.com/elsie', 'class': ['sister'], 'id': 'aaa'}"
      ]
     },
     "execution_count": 86,
     "metadata": {},
     "output_type": "execute_result"
    }
   ],
   "source": [
    "soup.a.attrs # 첫 번째 <a>태그의 속성값을 딕셔너리로 return\n",
    "             # class 속성에는 여러 개가 들어갈 수 있으므로 리스트\n",
    "             # 반면, id나 name값은 유일해야 하므로 리스트 X"
   ]
  },
  {
   "cell_type": "code",
   "execution_count": 87,
   "metadata": {},
   "outputs": [],
   "source": [
    "del soup.a['id'] # 속성 값(id) 삭제"
   ]
  },
  {
   "cell_type": "code",
   "execution_count": 88,
   "metadata": {},
   "outputs": [
    {
     "data": {
      "text/plain": [
       "{'href': 'http://example.com/elsie', 'class': ['sister']}"
      ]
     },
     "execution_count": 88,
     "metadata": {},
     "output_type": "execute_result"
    }
   ],
   "source": [
    "soup.a.attrs # 위의 작업으로 id 속성 제거 확인"
   ]
  },
  {
   "cell_type": "code",
   "execution_count": 89,
   "metadata": {},
   "outputs": [],
   "source": [
    "soup.a['id'] = 'aaa' # 속성 값(id) 추가"
   ]
  },
  {
   "cell_type": "code",
   "execution_count": 90,
   "metadata": {},
   "outputs": [
    {
     "data": {
      "text/plain": [
       "{'href': 'http://example.com/elsie', 'class': ['sister'], 'id': 'aaa'}"
      ]
     },
     "execution_count": 90,
     "metadata": {},
     "output_type": "execute_result"
    }
   ],
   "source": [
    "soup.a.attrs # 위의 작업으로 id값 추가됨"
   ]
  },
  {
   "cell_type": "code",
   "execution_count": 91,
   "metadata": {},
   "outputs": [],
   "source": [
    "soup.a['class'] = 'body'"
   ]
  },
  {
   "cell_type": "code",
   "execution_count": 92,
   "metadata": {},
   "outputs": [
    {
     "data": {
      "text/plain": [
       "{'href': 'http://example.com/elsie', 'class': 'body', 'id': 'aaa'}"
      ]
     },
     "execution_count": 92,
     "metadata": {},
     "output_type": "execute_result"
    }
   ],
   "source": [
    "soup.a.attrs"
   ]
  },
  {
   "cell_type": "code",
   "execution_count": 98,
   "metadata": {},
   "outputs": [],
   "source": [
    "soup.a['class'] = ['sister', 'body'] # class에 sister,body를 리스트로 묶어서 추가"
   ]
  },
  {
   "cell_type": "code",
   "execution_count": 95,
   "metadata": {},
   "outputs": [
    {
     "data": {
      "text/plain": [
       "{'href': 'http://example.com/elsie', 'class': ['sister', 'body'], 'id': 'aaa'}"
      ]
     },
     "execution_count": 95,
     "metadata": {},
     "output_type": "execute_result"
    }
   ],
   "source": [
    "soup.a.attrs"
   ]
  },
  {
   "cell_type": "code",
   "execution_count": 96,
   "metadata": {},
   "outputs": [
    {
     "data": {
      "text/plain": [
       "['sister', 'body']"
      ]
     },
     "execution_count": 96,
     "metadata": {},
     "output_type": "execute_result"
    }
   ],
   "source": [
    "soup.a['class']"
   ]
  },
  {
   "cell_type": "code",
   "execution_count": 99,
   "metadata": {},
   "outputs": [
    {
     "data": {
      "text/plain": [
       "<a class=\"sister body\" href=\"http://example.com/elsie\" id=\"aaa\">Elsie</a>"
      ]
     },
     "execution_count": 99,
     "metadata": {},
     "output_type": "execute_result"
    }
   ],
   "source": [
    "soup.a # ['sister','body']로 class추가했지만 태그 내에서는 \"sister body\"로 표시"
   ]
  },
  {
   "cell_type": "code",
   "execution_count": 100,
   "metadata": {},
   "outputs": [
    {
     "data": {
      "text/plain": [
       "'body strikeout'"
      ]
     },
     "execution_count": 100,
     "metadata": {},
     "output_type": "execute_result"
    }
   ],
   "source": [
    "no_list_soup = BeautifulSoup('<p class=\"body strikeout\"></p>', 'html', multi_valued_attributes=None)\n",
    "no_list_soup.p['class']"
   ]
  },
  {
   "cell_type": "code",
   "execution_count": 102,
   "metadata": {},
   "outputs": [
    {
     "data": {
      "text/plain": [
       "<html><body><p class=\"body strikeout\"></p></body></html>"
      ]
     },
     "execution_count": 102,
     "metadata": {},
     "output_type": "execute_result"
    }
   ],
   "source": [
    "no_list_soup # ['sister', 'body']와 비교"
   ]
  },
  {
   "cell_type": "code",
   "execution_count": 1,
   "metadata": {},
   "outputs": [
    {
     "ename": "NameError",
     "evalue": "name 'soup' is not defined",
     "output_type": "error",
     "traceback": [
      "\u001b[0;31m\u001b[0m",
      "\u001b[0;31mNameError\u001b[0mTraceback (most recent call last)",
      "\u001b[0;32m<ipython-input-1-3d18f9354884>\u001b[0m in \u001b[0;36m<module>\u001b[0;34m\u001b[0m\n\u001b[0;32m----> 1\u001b[0;31m \u001b[0msoup\u001b[0m\u001b[0;34m.\u001b[0m\u001b[0ma\u001b[0m\u001b[0;34m.\u001b[0m\u001b[0mget_attribute_list\u001b[0m\u001b[0;34m(\u001b[0m\u001b[0;34m'id'\u001b[0m\u001b[0;34m)\u001b[0m\u001b[0;34m\u001b[0m\u001b[0;34m\u001b[0m\u001b[0m\n\u001b[0m",
      "\u001b[0;31mNameError\u001b[0m: name 'soup' is not defined"
     ]
    }
   ],
   "source": [
    "soup.a.get_attribute_list('id')"
   ]
  },
  {
   "cell_type": "code",
   "execution_count": 104,
   "metadata": {},
   "outputs": [
    {
     "data": {
      "text/plain": [
       "['sister', 'body']"
      ]
     },
     "execution_count": 104,
     "metadata": {},
     "output_type": "execute_result"
    }
   ],
   "source": [
    "soup.a.get_attribute_list('class')"
   ]
  },
  {
   "cell_type": "code",
   "execution_count": 105,
   "metadata": {},
   "outputs": [
    {
     "data": {
      "text/plain": [
       "['body strikeout']"
      ]
     },
     "execution_count": 105,
     "metadata": {},
     "output_type": "execute_result"
    }
   ],
   "source": [
    "no_list_soup.p.get_attribute_list('class')"
   ]
  },
  {
   "cell_type": "code",
   "execution_count": 111,
   "metadata": {},
   "outputs": [
    {
     "data": {
      "text/plain": [
       "'body strikeout'"
      ]
     },
     "execution_count": 111,
     "metadata": {},
     "output_type": "execute_result"
    }
   ],
   "source": [
    "xml_soup = BeautifulSoup('<p class=\"body strikeout\"></p>', 'xml')\n",
    "xml_soup.p['class']         # 두 번째 인자값에 'xml'과 'html.parser'에 따라 결과 다름"
   ]
  },
  {
   "cell_type": "code",
   "execution_count": 122,
   "metadata": {},
   "outputs": [
    {
     "name": "stdout",
     "output_type": "stream",
     "text": [
      "<?xml version=\"1.0\" encoding=\"utf-8\"?>\n",
      "<document><content/><footer>Here's the footer</footer></document>\n"
     ]
    }
   ],
   "source": [
    "doc = BeautifulSoup(\"<document><content/>INSERT FOOTER HERE</document\", \"xml\") # html만족 X\n",
    "footer = BeautifulSoup(\"<footer>Here's the footer</footer>\", \"xml\")\n",
    "                                                # html에 <footer>가 있으므로 xml이나 html이나 문제 X\n",
    "doc.find(text=\"INSERT FOOTER HERE\").replace_with(footer)\n",
    "# u'INSERT FOOTER HERE'\n",
    "print(doc)\n",
    "# <?xml version=\"1.0\" encoding=\"utf-8\"?>\n",
    "# <document><content/><footer>Here's the footer</footer></document>"
   ]
  },
  {
   "cell_type": "code",
   "execution_count": 123,
   "metadata": {},
   "outputs": [
    {
     "data": {
      "text/plain": [
       "True"
      ]
     },
     "execution_count": 123,
     "metadata": {},
     "output_type": "execute_result"
    }
   ],
   "source": [
    "xml_soup.is_xml # parser 체크"
   ]
  },
  {
   "cell_type": "code",
   "execution_count": 125,
   "metadata": {},
   "outputs": [
    {
     "data": {
      "text/plain": [
       "False"
      ]
     },
     "execution_count": 125,
     "metadata": {},
     "output_type": "execute_result"
    }
   ],
   "source": [
    "soup.is_xml     # parser 체크"
   ]
  },
  {
   "cell_type": "code",
   "execution_count": 137,
   "metadata": {},
   "outputs": [
    {
     "name": "stdout",
     "output_type": "stream",
     "text": [
      "Hey, buddy. Want to buy a used parser?\n"
     ]
    },
    {
     "data": {
      "text/plain": [
       "bs4.element.Comment"
      ]
     },
     "execution_count": 137,
     "metadata": {},
     "output_type": "execute_result"
    }
   ],
   "source": [
    "markup = \"<b><!--Hey, buddy. Want to buy a used parser?--></b>\"\n",
    "soup = BeautifulSoup(markup)\n",
    "comment = soup.b.string\n",
    "print(comment)\n",
    "type(comment)"
   ]
  },
  {
   "cell_type": "code",
   "execution_count": 141,
   "metadata": {},
   "outputs": [
    {
     "data": {
      "text/plain": [
       "False"
      ]
     },
     "execution_count": 141,
     "metadata": {},
     "output_type": "execute_result"
    }
   ],
   "source": [
    "soup.is_xml # default(기본값)는 html임"
   ]
  },
  {
   "cell_type": "code",
   "execution_count": 143,
   "metadata": {},
   "outputs": [
    {
     "data": {
      "text/plain": [
       "<html><body><b><!--Hey, buddy. Want to buy a used parser?--></b></body></html>"
      ]
     },
     "execution_count": 143,
     "metadata": {},
     "output_type": "execute_result"
    }
   ],
   "source": [
    "soup"
   ]
  },
  {
   "cell_type": "code",
   "execution_count": 164,
   "metadata": {},
   "outputs": [],
   "source": [
    "html_doc = \"\"\"\n",
    "<html><head><title>The Dormouse's story</title></head>\n",
    "<body>\n",
    "<p class=\"title\"><b>The Dormouse's story</b></p>\n",
    "\n",
    "<p class=\"story\">Once upon a time there were three little sisters; and their names were\n",
    "<a href=\"http://example.com/elsie\" class=\"sister\" id=\"link1\">Elsie</a>,\n",
    "<a href=\"http://example.com/lacie\" class=\"sister\" id=\"link2\">Lacie</a> and\n",
    "<a href=\"http://example.com/tillie\" class=\"sister\" id=\"link3\">Tillie</a>;\n",
    "and they lived at the bottom of a well.</p>\n",
    "내용\n",
    "<b>두 번째</b>\n",
    "<p class=\"story\">...</p>\n",
    "\"\"\"\n",
    "\n",
    "from bs4 import BeautifulSoup\n",
    "soup = BeautifulSoup(html_doc, 'html.parser')"
   ]
  },
  {
   "cell_type": "code",
   "execution_count": 165,
   "metadata": {},
   "outputs": [
    {
     "data": {
      "text/plain": [
       "\n",
       "<html><head><title>The Dormouse's story</title></head>\n",
       "<body>\n",
       "<p class=\"title\"><b>The Dormouse's story</b></p>\n",
       "<p class=\"story\">Once upon a time there were three little sisters; and their names were\n",
       "<a class=\"sister\" href=\"http://example.com/elsie\" id=\"link1\">Elsie</a>,\n",
       "<a class=\"sister\" href=\"http://example.com/lacie\" id=\"link2\">Lacie</a> and\n",
       "<a class=\"sister\" href=\"http://example.com/tillie\" id=\"link3\">Tillie</a>;\n",
       "and they lived at the bottom of a well.</p>\n",
       "내용\n",
       "<b>두 번째</b>\n",
       "<p class=\"story\">...</p>\n",
       "</body></html>"
      ]
     },
     "execution_count": 165,
     "metadata": {},
     "output_type": "execute_result"
    }
   ],
   "source": [
    "soup"
   ]
  },
  {
   "cell_type": "code",
   "execution_count": 166,
   "metadata": {},
   "outputs": [
    {
     "data": {
      "text/plain": [
       "<b>The Dormouse's story</b>"
      ]
     },
     "execution_count": 166,
     "metadata": {},
     "output_type": "execute_result"
    }
   ],
   "source": [
    "soup.body.b # 첫 번째 <b> 출력(어느 태그에 속해있느냐에 관계 X, 순서대로)"
   ]
  },
  {
   "cell_type": "code",
   "execution_count": 167,
   "metadata": {},
   "outputs": [],
   "source": [
    "head_tag = soup.head"
   ]
  },
  {
   "cell_type": "code",
   "execution_count": 168,
   "metadata": {},
   "outputs": [
    {
     "data": {
      "text/plain": [
       "<head><title>The Dormouse's story</title></head>"
      ]
     },
     "execution_count": 168,
     "metadata": {},
     "output_type": "execute_result"
    }
   ],
   "source": [
    "head_tag"
   ]
  },
  {
   "cell_type": "code",
   "execution_count": 169,
   "metadata": {},
   "outputs": [
    {
     "data": {
      "text/plain": [
       "[<title>The Dormouse's story</title>]"
      ]
     },
     "execution_count": 169,
     "metadata": {},
     "output_type": "execute_result"
    }
   ],
   "source": [
    "head_tag.contents # 리스트로"
   ]
  },
  {
   "cell_type": "code",
   "execution_count": 170,
   "metadata": {},
   "outputs": [],
   "source": [
    "body_tag = soup.body"
   ]
  },
  {
   "cell_type": "code",
   "execution_count": 171,
   "metadata": {},
   "outputs": [
    {
     "data": {
      "text/plain": [
       "<body>\n",
       "<p class=\"title\"><b>The Dormouse's story</b></p>\n",
       "<p class=\"story\">Once upon a time there were three little sisters; and their names were\n",
       "<a class=\"sister\" href=\"http://example.com/elsie\" id=\"link1\">Elsie</a>,\n",
       "<a class=\"sister\" href=\"http://example.com/lacie\" id=\"link2\">Lacie</a> and\n",
       "<a class=\"sister\" href=\"http://example.com/tillie\" id=\"link3\">Tillie</a>;\n",
       "and they lived at the bottom of a well.</p>\n",
       "내용\n",
       "<b>두 번째</b>\n",
       "<p class=\"story\">...</p>\n",
       "</body>"
      ]
     },
     "execution_count": 171,
     "metadata": {},
     "output_type": "execute_result"
    }
   ],
   "source": [
    "body_tag"
   ]
  },
  {
   "cell_type": "code",
   "execution_count": 194,
   "metadata": {},
   "outputs": [
    {
     "data": {
      "text/plain": [
       "['\\n',\n",
       " <p class=\"title\"><b>The Dormouse's story</b></p>,\n",
       " '\\n',\n",
       " <p class=\"story\">Once upon a time there were three little sisters; and their names were\n",
       " <a class=\"sister\" href=\"http://example.com/elsie\" id=\"link1\">Elsie</a>,\n",
       " <a class=\"sister\" href=\"http://example.com/lacie\" id=\"link2\">Lacie</a> and\n",
       " <a class=\"sister\" href=\"http://example.com/tillie\" id=\"link3\">Tillie</a>;\n",
       " and they lived at the bottom of a well.</p>,\n",
       " '\\n내용\\n',\n",
       " <b>두 번째</b>,\n",
       " '\\n',\n",
       " <p class=\"story\">...</p>,\n",
       " '\\n']"
      ]
     },
     "execution_count": 194,
     "metadata": {},
     "output_type": "execute_result"
    }
   ],
   "source": [
    "body_tag.contents # 요소별로 출력(리스트로)"
   ]
  },
  {
   "cell_type": "code",
   "execution_count": 195,
   "metadata": {},
   "outputs": [],
   "source": [
    "body_tag.string"
   ]
  },
  {
   "cell_type": "code",
   "execution_count": 196,
   "metadata": {},
   "outputs": [
    {
     "name": "stdout",
     "output_type": "stream",
     "text": [
      "<class 'bs4.element.NavigableString'>\n",
      "<class 'bs4.element.Tag'>\n",
      "<class 'bs4.element.NavigableString'>\n",
      "<class 'bs4.element.Tag'>\n",
      "<class 'bs4.element.NavigableString'>\n",
      "<class 'bs4.element.Tag'>\n",
      "<class 'bs4.element.NavigableString'>\n",
      "<class 'bs4.element.Tag'>\n",
      "<class 'bs4.element.NavigableString'>\n"
     ]
    }
   ],
   "source": [
    "for contents in body_tag.contents:\n",
    "    print(type(contents))"
   ]
  },
  {
   "cell_type": "code",
   "execution_count": 197,
   "metadata": {},
   "outputs": [
    {
     "data": {
      "text/plain": [
       "9"
      ]
     },
     "execution_count": 197,
     "metadata": {},
     "output_type": "execute_result"
    }
   ],
   "source": [
    "len(body_tag.contents) # 요소 갯수 출력"
   ]
  },
  {
   "cell_type": "code",
   "execution_count": 198,
   "metadata": {},
   "outputs": [
    {
     "data": {
      "text/plain": [
       "\"The Dormouse's story\""
      ]
     },
     "execution_count": 198,
     "metadata": {},
     "output_type": "execute_result"
    }
   ],
   "source": [
    "body_tag.contents[1].string # contents 리스트의 첫 번째"
   ]
  },
  {
   "cell_type": "code",
   "execution_count": 199,
   "metadata": {},
   "outputs": [
    {
     "data": {
      "text/plain": [
       "bs4.element.Tag"
      ]
     },
     "execution_count": 199,
     "metadata": {},
     "output_type": "execute_result"
    }
   ],
   "source": [
    "type(body_tag)"
   ]
  },
  {
   "cell_type": "code",
   "execution_count": 200,
   "metadata": {},
   "outputs": [
    {
     "data": {
      "text/plain": [
       "list"
      ]
     },
     "execution_count": 200,
     "metadata": {},
     "output_type": "execute_result"
    }
   ],
   "source": [
    "type(body_tag.contents) # List"
   ]
  },
  {
   "cell_type": "markdown",
   "metadata": {},
   "source": [
    "#### 메서드 체이닝('.' -> body_tag.contents 등 '.'으로 연결"
   ]
  },
  {
   "cell_type": "code",
   "execution_count": 209,
   "metadata": {},
   "outputs": [
    {
     "data": {
      "text/plain": [
       "<list_iterator at 0x7f016fdff4d0>"
      ]
     },
     "execution_count": 209,
     "metadata": {},
     "output_type": "execute_result"
    }
   ],
   "source": [
    "body_tag.children # body_tag.children를 list()로 묶어주면 출력 가능"
   ]
  },
  {
   "cell_type": "code",
   "execution_count": 210,
   "metadata": {},
   "outputs": [
    {
     "data": {
      "text/plain": [
       "['\\n',\n",
       " <p class=\"title\"><b>The Dormouse's story</b></p>,\n",
       " '\\n',\n",
       " <p class=\"story\">Once upon a time there were three little sisters; and their names were\n",
       " <a class=\"sister\" href=\"http://example.com/elsie\" id=\"link1\">Elsie</a>,\n",
       " <a class=\"sister\" href=\"http://example.com/lacie\" id=\"link2\">Lacie</a> and\n",
       " <a class=\"sister\" href=\"http://example.com/tillie\" id=\"link3\">Tillie</a>;\n",
       " and they lived at the bottom of a well.</p>,\n",
       " '\\n내용\\n',\n",
       " <b>두 번째</b>,\n",
       " '\\n',\n",
       " <p class=\"story\">...</p>,\n",
       " '\\n']"
      ]
     },
     "execution_count": 210,
     "metadata": {},
     "output_type": "execute_result"
    }
   ],
   "source": [
    "list(body_tag.children)"
   ]
  },
  {
   "cell_type": "code",
   "execution_count": 211,
   "metadata": {},
   "outputs": [
    {
     "name": "stdout",
     "output_type": "stream",
     "text": [
      "<list_iterator object at 0x7f017004dc90>\n"
     ]
    }
   ],
   "source": [
    "print(body_tag.children)"
   ]
  },
  {
   "cell_type": "code",
   "execution_count": 212,
   "metadata": {},
   "outputs": [
    {
     "name": "stdout",
     "output_type": "stream",
     "text": [
      "<class 'bs4.element.NavigableString'>\n",
      "\n",
      "\n",
      "<class 'bs4.element.Tag'>\n",
      "<p class=\"title\"><b>The Dormouse's story</b></p>\n",
      "<class 'bs4.element.NavigableString'>\n",
      "\n",
      "\n",
      "<class 'bs4.element.Tag'>\n",
      "<p class=\"story\">Once upon a time there were three little sisters; and their names were\n",
      "<a class=\"sister\" href=\"http://example.com/elsie\" id=\"link1\">Elsie</a>,\n",
      "<a class=\"sister\" href=\"http://example.com/lacie\" id=\"link2\">Lacie</a> and\n",
      "<a class=\"sister\" href=\"http://example.com/tillie\" id=\"link3\">Tillie</a>;\n",
      "and they lived at the bottom of a well.</p>\n",
      "<class 'bs4.element.NavigableString'>\n",
      "\n",
      "내용\n",
      "\n",
      "<class 'bs4.element.Tag'>\n",
      "<b>두 번째</b>\n",
      "<class 'bs4.element.NavigableString'>\n",
      "\n",
      "\n",
      "<class 'bs4.element.Tag'>\n",
      "<p class=\"story\">...</p>\n",
      "<class 'bs4.element.NavigableString'>\n",
      "\n",
      "\n"
     ]
    }
   ],
   "source": [
    "for child in body_tag.children:\n",
    "    print(type(child))\n",
    "    print(child)"
   ]
  },
  {
   "cell_type": "code",
   "execution_count": 213,
   "metadata": {},
   "outputs": [
    {
     "name": "stdout",
     "output_type": "stream",
     "text": [
      "<class 'bs4.element.NavigableString'>\n",
      "\n",
      "\n",
      "------------------------------\n",
      "<class 'bs4.element.Tag'>\n",
      "<p class=\"title\"><b>The Dormouse's story</b></p>\n",
      "------------------------------\n",
      "<class 'bs4.element.Tag'>\n",
      "<b>The Dormouse's story</b>\n",
      "------------------------------\n",
      "<class 'bs4.element.NavigableString'>\n",
      "The Dormouse's story\n",
      "------------------------------\n",
      "<class 'bs4.element.NavigableString'>\n",
      "\n",
      "\n",
      "------------------------------\n",
      "<class 'bs4.element.Tag'>\n",
      "<p class=\"story\">Once upon a time there were three little sisters; and their names were\n",
      "<a class=\"sister\" href=\"http://example.com/elsie\" id=\"link1\">Elsie</a>,\n",
      "<a class=\"sister\" href=\"http://example.com/lacie\" id=\"link2\">Lacie</a> and\n",
      "<a class=\"sister\" href=\"http://example.com/tillie\" id=\"link3\">Tillie</a>;\n",
      "and they lived at the bottom of a well.</p>\n",
      "------------------------------\n",
      "<class 'bs4.element.NavigableString'>\n",
      "Once upon a time there were three little sisters; and their names were\n",
      "\n",
      "------------------------------\n",
      "<class 'bs4.element.Tag'>\n",
      "<a class=\"sister\" href=\"http://example.com/elsie\" id=\"link1\">Elsie</a>\n",
      "------------------------------\n",
      "<class 'bs4.element.NavigableString'>\n",
      "Elsie\n",
      "------------------------------\n",
      "<class 'bs4.element.NavigableString'>\n",
      ",\n",
      "\n",
      "------------------------------\n",
      "<class 'bs4.element.Tag'>\n",
      "<a class=\"sister\" href=\"http://example.com/lacie\" id=\"link2\">Lacie</a>\n",
      "------------------------------\n",
      "<class 'bs4.element.NavigableString'>\n",
      "Lacie\n",
      "------------------------------\n",
      "<class 'bs4.element.NavigableString'>\n",
      " and\n",
      "\n",
      "------------------------------\n",
      "<class 'bs4.element.Tag'>\n",
      "<a class=\"sister\" href=\"http://example.com/tillie\" id=\"link3\">Tillie</a>\n",
      "------------------------------\n",
      "<class 'bs4.element.NavigableString'>\n",
      "Tillie\n",
      "------------------------------\n",
      "<class 'bs4.element.NavigableString'>\n",
      ";\n",
      "and they lived at the bottom of a well.\n",
      "------------------------------\n",
      "<class 'bs4.element.NavigableString'>\n",
      "\n",
      "내용\n",
      "\n",
      "------------------------------\n",
      "<class 'bs4.element.Tag'>\n",
      "<b>두 번째</b>\n",
      "------------------------------\n",
      "<class 'bs4.element.NavigableString'>\n",
      "두 번째\n",
      "------------------------------\n",
      "<class 'bs4.element.NavigableString'>\n",
      "\n",
      "\n",
      "------------------------------\n",
      "<class 'bs4.element.Tag'>\n",
      "<p class=\"story\">...</p>\n",
      "------------------------------\n",
      "<class 'bs4.element.NavigableString'>\n",
      "...\n",
      "------------------------------\n",
      "<class 'bs4.element.NavigableString'>\n",
      "\n",
      "\n",
      "------------------------------\n"
     ]
    }
   ],
   "source": [
    "for child in body_tag.descendants: # descendants : 후손\n",
    "    print(type(child))             # 태그들을 다 찾아내는 메서드\n",
    "    print(child)                   # children과 차이 有\n",
    "    print(\"-\"*30)"
   ]
  },
  {
   "cell_type": "code",
   "execution_count": 215,
   "metadata": {},
   "outputs": [
    {
     "data": {
      "text/plain": [
       "\n",
       "<html><head><title>The Dormouse's story</title></head>\n",
       "<body>\n",
       "<p class=\"title\"><b>The Dormouse's story</b></p>\n",
       "<p class=\"story\">Once upon a time there were three little sisters; and their names were\n",
       "<a class=\"sister\" href=\"http://example.com/elsie\" id=\"link1\">Elsie</a>,\n",
       "<a class=\"sister\" href=\"http://example.com/lacie\" id=\"link2\">Lacie</a> and\n",
       "<a class=\"sister\" href=\"http://example.com/tillie\" id=\"link3\">Tillie</a>;\n",
       "and they lived at the bottom of a well.</p>\n",
       "내용\n",
       "<b>두 번째</b>\n",
       "<p class=\"story\">...</p>\n",
       "</body></html>"
      ]
     },
     "execution_count": 215,
     "metadata": {},
     "output_type": "execute_result"
    }
   ],
   "source": [
    "soup"
   ]
  },
  {
   "cell_type": "code",
   "execution_count": 217,
   "metadata": {},
   "outputs": [
    {
     "data": {
      "text/plain": [
       "<title>The Dormouse's story</title>"
      ]
     },
     "execution_count": 217,
     "metadata": {},
     "output_type": "execute_result"
    }
   ],
   "source": [
    "title_tag = soup.title\n",
    "title_tag"
   ]
  },
  {
   "cell_type": "code",
   "execution_count": 218,
   "metadata": {},
   "outputs": [
    {
     "data": {
      "text/plain": [
       "\"The Dormouse's story\""
      ]
     },
     "execution_count": 218,
     "metadata": {},
     "output_type": "execute_result"
    }
   ],
   "source": [
    "title_tag.string"
   ]
  },
  {
   "cell_type": "code",
   "execution_count": 220,
   "metadata": {},
   "outputs": [
    {
     "data": {
      "text/plain": [
       "<body>\n",
       "<p class=\"title\"><b>The Dormouse's story</b></p>\n",
       "<p class=\"story\">Once upon a time there were three little sisters; and their names were\n",
       "<a class=\"sister\" href=\"http://example.com/elsie\" id=\"link1\">Elsie</a>,\n",
       "<a class=\"sister\" href=\"http://example.com/lacie\" id=\"link2\">Lacie</a> and\n",
       "<a class=\"sister\" href=\"http://example.com/tillie\" id=\"link3\">Tillie</a>;\n",
       "and they lived at the bottom of a well.</p>\n",
       "내용\n",
       "<b>두 번째</b>\n",
       "<p class=\"story\">...</p>\n",
       "</body>"
      ]
     },
     "execution_count": 220,
     "metadata": {},
     "output_type": "execute_result"
    }
   ],
   "source": [
    "body_tag = soup.body\n",
    "body_tag"
   ]
  },
  {
   "cell_type": "code",
   "execution_count": 229,
   "metadata": {},
   "outputs": [],
   "source": [
    "body_tag.string"
   ]
  },
  {
   "cell_type": "code",
   "execution_count": 230,
   "metadata": {},
   "outputs": [
    {
     "data": {
      "text/plain": [
       "<generator object Tag._all_strings at 0x7f016fe02e50>"
      ]
     },
     "execution_count": 230,
     "metadata": {},
     "output_type": "execute_result"
    }
   ],
   "source": [
    "title_tag.strings"
   ]
  },
  {
   "cell_type": "code",
   "execution_count": 231,
   "metadata": {},
   "outputs": [
    {
     "data": {
      "text/plain": [
       "[\"The Dormouse's story\"]"
      ]
     },
     "execution_count": 231,
     "metadata": {},
     "output_type": "execute_result"
    }
   ],
   "source": [
    "list(title_tag.strings)"
   ]
  },
  {
   "cell_type": "code",
   "execution_count": 232,
   "metadata": {},
   "outputs": [
    {
     "data": {
      "text/plain": [
       "['\\n',\n",
       " \"The Dormouse's story\",\n",
       " '\\n',\n",
       " 'Once upon a time there were three little sisters; and their names were\\n',\n",
       " 'Elsie',\n",
       " ',\\n',\n",
       " 'Lacie',\n",
       " ' and\\n',\n",
       " 'Tillie',\n",
       " ';\\nand they lived at the bottom of a well.',\n",
       " '\\n내용\\n',\n",
       " '두 번째',\n",
       " '\\n',\n",
       " '...',\n",
       " '\\n']"
      ]
     },
     "execution_count": 232,
     "metadata": {},
     "output_type": "execute_result"
    }
   ],
   "source": [
    "list(body_tag.strings) # contents와 다르게 엘리먼트는 빼고 글자만 가져온다"
   ]
  },
  {
   "cell_type": "code",
   "execution_count": 233,
   "metadata": {},
   "outputs": [
    {
     "data": {
      "text/plain": [
       "[\"The Dormouse's story\",\n",
       " 'Once upon a time there were three little sisters; and their names were',\n",
       " 'Elsie',\n",
       " ',',\n",
       " 'Lacie',\n",
       " 'and',\n",
       " 'Tillie',\n",
       " ';\\nand they lived at the bottom of a well.',\n",
       " '내용',\n",
       " '두 번째',\n",
       " '...']"
      ]
     },
     "execution_count": 233,
     "metadata": {},
     "output_type": "execute_result"
    }
   ],
   "source": [
    "list(body_tag.stripped_strings) # 줄바꿈 문자 출력 X"
   ]
  },
  {
   "cell_type": "code",
   "execution_count": 234,
   "metadata": {},
   "outputs": [
    {
     "data": {
      "text/plain": [
       "<a class=\"sister\" href=\"http://example.com/elsie\" id=\"link1\">Elsie</a>"
      ]
     },
     "execution_count": 234,
     "metadata": {},
     "output_type": "execute_result"
    }
   ],
   "source": [
    "link = soup.a\n",
    "link"
   ]
  },
  {
   "cell_type": "code",
   "execution_count": 235,
   "metadata": {},
   "outputs": [
    {
     "data": {
      "text/plain": [
       "[<p class=\"story\">Once upon a time there were three little sisters; and their names were\n",
       " <a class=\"sister\" href=\"http://example.com/elsie\" id=\"link1\">Elsie</a>,\n",
       " <a class=\"sister\" href=\"http://example.com/lacie\" id=\"link2\">Lacie</a> and\n",
       " <a class=\"sister\" href=\"http://example.com/tillie\" id=\"link3\">Tillie</a>;\n",
       " and they lived at the bottom of a well.</p>, <body>\n",
       " <p class=\"title\"><b>The Dormouse's story</b></p>\n",
       " <p class=\"story\">Once upon a time there were three little sisters; and their names were\n",
       " <a class=\"sister\" href=\"http://example.com/elsie\" id=\"link1\">Elsie</a>,\n",
       " <a class=\"sister\" href=\"http://example.com/lacie\" id=\"link2\">Lacie</a> and\n",
       " <a class=\"sister\" href=\"http://example.com/tillie\" id=\"link3\">Tillie</a>;\n",
       " and they lived at the bottom of a well.</p>\n",
       " 내용\n",
       " <b>두 번째</b>\n",
       " <p class=\"story\">...</p>\n",
       " </body>, <html><head><title>The Dormouse's story</title></head>\n",
       " <body>\n",
       " <p class=\"title\"><b>The Dormouse's story</b></p>\n",
       " <p class=\"story\">Once upon a time there were three little sisters; and their names were\n",
       " <a class=\"sister\" href=\"http://example.com/elsie\" id=\"link1\">Elsie</a>,\n",
       " <a class=\"sister\" href=\"http://example.com/lacie\" id=\"link2\">Lacie</a> and\n",
       " <a class=\"sister\" href=\"http://example.com/tillie\" id=\"link3\">Tillie</a>;\n",
       " and they lived at the bottom of a well.</p>\n",
       " 내용\n",
       " <b>두 번째</b>\n",
       " <p class=\"story\">...</p>\n",
       " </body></html>, \n",
       " <html><head><title>The Dormouse's story</title></head>\n",
       " <body>\n",
       " <p class=\"title\"><b>The Dormouse's story</b></p>\n",
       " <p class=\"story\">Once upon a time there were three little sisters; and their names were\n",
       " <a class=\"sister\" href=\"http://example.com/elsie\" id=\"link1\">Elsie</a>,\n",
       " <a class=\"sister\" href=\"http://example.com/lacie\" id=\"link2\">Lacie</a> and\n",
       " <a class=\"sister\" href=\"http://example.com/tillie\" id=\"link3\">Tillie</a>;\n",
       " and they lived at the bottom of a well.</p>\n",
       " 내용\n",
       " <b>두 번째</b>\n",
       " <p class=\"story\">...</p>\n",
       " </body></html>]"
      ]
     },
     "execution_count": 235,
     "metadata": {},
     "output_type": "execute_result"
    }
   ],
   "source": [
    "list(link.parents)"
   ]
  },
  {
   "cell_type": "code",
   "execution_count": 242,
   "metadata": {},
   "outputs": [
    {
     "name": "stdout",
     "output_type": "stream",
     "text": [
      "<p class=\"story\">Once upon a time there were three little sisters; and their names were\n",
      "<a class=\"sister\" href=\"http://example.com/elsie\" id=\"link1\">Elsie</a>,\n",
      "<a class=\"sister\" href=\"http://example.com/lacie\" id=\"link2\">Lacie</a> and\n",
      "<a class=\"sister\" href=\"http://example.com/tillie\" id=\"link3\">Tillie</a>;\n",
      "and they lived at the bottom of a well.</p>\n",
      "부모 태그 : p\n",
      "----------------------------------------\n",
      "<body>\n",
      "<p class=\"title\"><b>The Dormouse's story</b></p>\n",
      "<p class=\"story\">Once upon a time there were three little sisters; and their names were\n",
      "<a class=\"sister\" href=\"http://example.com/elsie\" id=\"link1\">Elsie</a>,\n",
      "<a class=\"sister\" href=\"http://example.com/lacie\" id=\"link2\">Lacie</a> and\n",
      "<a class=\"sister\" href=\"http://example.com/tillie\" id=\"link3\">Tillie</a>;\n",
      "and they lived at the bottom of a well.</p>\n",
      "내용\n",
      "<b>두 번째</b>\n",
      "<p class=\"story\">...</p>\n",
      "</body>\n",
      "부모 태그 : body\n",
      "----------------------------------------\n",
      "<html><head><title>The Dormouse's story</title></head>\n",
      "<body>\n",
      "<p class=\"title\"><b>The Dormouse's story</b></p>\n",
      "<p class=\"story\">Once upon a time there were three little sisters; and their names were\n",
      "<a class=\"sister\" href=\"http://example.com/elsie\" id=\"link1\">Elsie</a>,\n",
      "<a class=\"sister\" href=\"http://example.com/lacie\" id=\"link2\">Lacie</a> and\n",
      "<a class=\"sister\" href=\"http://example.com/tillie\" id=\"link3\">Tillie</a>;\n",
      "and they lived at the bottom of a well.</p>\n",
      "내용\n",
      "<b>두 번째</b>\n",
      "<p class=\"story\">...</p>\n",
      "</body></html>\n",
      "부모 태그 : html\n",
      "----------------------------------------\n",
      "\n",
      "<html><head><title>The Dormouse's story</title></head>\n",
      "<body>\n",
      "<p class=\"title\"><b>The Dormouse's story</b></p>\n",
      "<p class=\"story\">Once upon a time there were three little sisters; and their names were\n",
      "<a class=\"sister\" href=\"http://example.com/elsie\" id=\"link1\">Elsie</a>,\n",
      "<a class=\"sister\" href=\"http://example.com/lacie\" id=\"link2\">Lacie</a> and\n",
      "<a class=\"sister\" href=\"http://example.com/tillie\" id=\"link3\">Tillie</a>;\n",
      "and they lived at the bottom of a well.</p>\n",
      "내용\n",
      "<b>두 번째</b>\n",
      "<p class=\"story\">...</p>\n",
      "</body></html>\n",
      "부모 태그 : [document]\n",
      "----------------------------------------\n"
     ]
    }
   ],
   "source": [
    "for parent in link.parents:\n",
    "    print(parent)\n",
    "    if parent is None:\n",
    "        print(parent)\n",
    "    else:\n",
    "        print(\"부모 태그 : \" + parent.name)\n",
    "    print(\"-\"*40)"
   ]
  },
  {
   "cell_type": "code",
   "execution_count": 244,
   "metadata": {},
   "outputs": [
    {
     "name": "stdout",
     "output_type": "stream",
     "text": [
      "<html>\n",
      " <body>\n",
      "  <a>\n",
      "   <b>\n",
      "    text1\n",
      "   </b>\n",
      "   <c>\n",
      "    text2\n",
      "   </c>\n",
      "  </a>\n",
      " </body>\n",
      "</html>\n"
     ]
    }
   ],
   "source": [
    "sibling_soup = BeautifulSoup(\"<a><b>text1</b><c>text2</c></b></a>\")\n",
    "print(sibling_soup.prettify()) # sibling : 형제"
   ]
  },
  {
   "cell_type": "code",
   "execution_count": 247,
   "metadata": {},
   "outputs": [
    {
     "name": "stdout",
     "output_type": "stream",
     "text": [
      "None\n"
     ]
    }
   ],
   "source": [
    "print(sibling_soup.b.previous_sibling) # soup.b 이전 형제 태그"
   ]
  },
  {
   "cell_type": "code",
   "execution_count": 248,
   "metadata": {},
   "outputs": [
    {
     "name": "stdout",
     "output_type": "stream",
     "text": [
      "<c>text2</c>\n"
     ]
    }
   ],
   "source": [
    "print(sibling_soup.b.next_sibling)     # soup.b 다음 형제 태그"
   ]
  },
  {
   "cell_type": "code",
   "execution_count": 251,
   "metadata": {},
   "outputs": [
    {
     "data": {
      "text/plain": [
       "\n",
       "<html><head><title>The Dormouse's story</title></head>\n",
       "<body>\n",
       "<p class=\"title\"><b>The Dormouse's story</b></p>\n",
       "<p class=\"story\">Once upon a time there were three little sisters; and their names were\n",
       "<a class=\"sister\" href=\"http://example.com/elsie\" id=\"link1\">Elsie</a>,\n",
       "<a class=\"sister\" href=\"http://example.com/lacie\" id=\"link2\">Lacie</a> and\n",
       "<a class=\"sister\" href=\"http://example.com/tillie\" id=\"link3\">Tillie</a>;\n",
       "and they lived at the bottom of a well.</p>\n",
       "내용\n",
       "<b>두 번째</b>\n",
       "<p class=\"story\">...</p>\n",
       "</body></html>"
      ]
     },
     "execution_count": 251,
     "metadata": {},
     "output_type": "execute_result"
    }
   ],
   "source": [
    "soup"
   ]
  },
  {
   "cell_type": "code",
   "execution_count": 253,
   "metadata": {},
   "outputs": [
    {
     "data": {
      "text/plain": [
       "<a class=\"sister\" href=\"http://example.com/elsie\" id=\"link1\">Elsie</a>"
      ]
     },
     "execution_count": 253,
     "metadata": {},
     "output_type": "execute_result"
    }
   ],
   "source": [
    "tag = soup.a\n",
    "tag"
   ]
  },
  {
   "cell_type": "code",
   "execution_count": 254,
   "metadata": {},
   "outputs": [
    {
     "data": {
      "text/plain": [
       "',\\n'"
      ]
     },
     "execution_count": 254,
     "metadata": {},
     "output_type": "execute_result"
    }
   ],
   "source": [
    "tag.next_sibling"
   ]
  },
  {
   "cell_type": "code",
   "execution_count": 287,
   "metadata": {},
   "outputs": [],
   "source": [
    "tag = BeautifulSoup('''<a href=\"http://example.com/elsie\" class=\"sister\" id=\"link1\">Elsie</a>\n",
    "<a href=\"http://example.com/lacie\" class=\"sister\" id=\"link2\">Lacie</a>\n",
    "<a href=\"http://example.com/tillie\" class=\"sister\" id=\"link3\">Tillie</a>''')"
   ]
  },
  {
   "cell_type": "code",
   "execution_count": 288,
   "metadata": {},
   "outputs": [
    {
     "data": {
      "text/plain": [
       "<html><body><a class=\"sister\" href=\"http://example.com/elsie\" id=\"link1\">Elsie</a><a class=\"sister\" href=\"http://example.com/lacie\" id=\"link2\">Lacie</a><a class=\"sister\" href=\"http://example.com/tillie\" id=\"link3\">Tillie</a></body></html>"
      ]
     },
     "execution_count": 288,
     "metadata": {},
     "output_type": "execute_result"
    }
   ],
   "source": [
    "tag"
   ]
  },
  {
   "cell_type": "code",
   "execution_count": 289,
   "metadata": {},
   "outputs": [],
   "source": [
    "tag_a = tag.a"
   ]
  },
  {
   "cell_type": "code",
   "execution_count": 290,
   "metadata": {},
   "outputs": [
    {
     "data": {
      "text/plain": [
       "<a class=\"sister\" href=\"http://example.com/elsie\" id=\"link1\">Elsie</a>"
      ]
     },
     "execution_count": 290,
     "metadata": {},
     "output_type": "execute_result"
    }
   ],
   "source": [
    "tag_a"
   ]
  },
  {
   "cell_type": "code",
   "execution_count": 291,
   "metadata": {},
   "outputs": [
    {
     "data": {
      "text/plain": [
       "[<a class=\"sister\" href=\"http://example.com/lacie\" id=\"link2\">Lacie</a>,\n",
       " <a class=\"sister\" href=\"http://example.com/tillie\" id=\"link3\">Tillie</a>]"
      ]
     },
     "execution_count": 291,
     "metadata": {},
     "output_type": "execute_result"
    }
   ],
   "source": [
    "list(tag_a.next_siblings)"
   ]
  },
  {
   "cell_type": "code",
   "execution_count": 292,
   "metadata": {},
   "outputs": [
    {
     "data": {
      "text/plain": [
       "<html><body><a class=\"sister\" href=\"http://example.com/elsie\" id=\"link1\">Elsie</a><a class=\"sister\" href=\"http://example.com/lacie\" id=\"link2\">Lacie</a><a class=\"sister\" href=\"http://example.com/tillie\" id=\"link3\">Tillie</a></body></html>"
      ]
     },
     "execution_count": 292,
     "metadata": {},
     "output_type": "execute_result"
    }
   ],
   "source": [
    "tag"
   ]
  },
  {
   "cell_type": "code",
   "execution_count": 295,
   "metadata": {},
   "outputs": [
    {
     "data": {
      "text/plain": [
       "'Elsie'"
      ]
     },
     "execution_count": 295,
     "metadata": {},
     "output_type": "execute_result"
    }
   ],
   "source": [
    "tag_a.next_element  # <a>태그 뒤 <a>가 아니라 첫 번째 <a>태그 뒤 Elsie 문자열"
   ]
  },
  {
   "cell_type": "code",
   "execution_count": 296,
   "metadata": {},
   "outputs": [
    {
     "data": {
      "text/plain": [
       "<body><a class=\"sister\" href=\"http://example.com/elsie\" id=\"link1\">Elsie</a><a class=\"sister\" href=\"http://example.com/lacie\" id=\"link2\">Lacie</a><a class=\"sister\" href=\"http://example.com/tillie\" id=\"link3\">Tillie</a></body>"
      ]
     },
     "execution_count": 296,
     "metadata": {},
     "output_type": "execute_result"
    }
   ],
   "source": [
    "tag_a.previous_element # <a> 태그 이전은 <body>\n",
    "                       # 계층에 맞춘 순서 X"
   ]
  },
  {
   "cell_type": "code",
   "execution_count": 297,
   "metadata": {},
   "outputs": [],
   "source": [
    "html_doc = \"\"\"\n",
    "<html><head><title>The Dormouse's story</title></head>\n",
    "<body>\n",
    "<p class=\"title\"><b>The Dormouse's story</b></p>\n",
    "\n",
    "<p class=\"story\">Once upon a time there were three little sisters; and their names were\n",
    "<a href=\"http://example.com/elsie\" class=\"sister\" id=\"link1\">Elsie</a>,\n",
    "<a href=\"http://example.com/lacie\" class=\"sister\" id=\"link2\">Lacie</a> and\n",
    "<a href=\"http://example.com/tillie\" class=\"sister\" id=\"link3\">Tillie</a>;\n",
    "and they lived at the bottom of a well.</p>\n",
    "\n",
    "<p class=\"story\">...</p>\n",
    "\"\"\"\n",
    "\n",
    "from bs4 import BeautifulSoup\n",
    "soup = BeautifulSoup(html_doc, 'html.parser')"
   ]
  },
  {
   "cell_type": "code",
   "execution_count": 298,
   "metadata": {},
   "outputs": [
    {
     "data": {
      "text/plain": [
       "[<b>The Dormouse's story</b>]"
      ]
     },
     "execution_count": 298,
     "metadata": {},
     "output_type": "execute_result"
    }
   ],
   "source": [
    "soup.find_all('b')  # <b>태그 전부 찾기"
   ]
  },
  {
   "cell_type": "markdown",
   "metadata": {},
   "source": [
    "#### 정규표현식(A regular expression)"
   ]
  },
  {
   "cell_type": "code",
   "execution_count": 300,
   "metadata": {},
   "outputs": [
    {
     "name": "stdout",
     "output_type": "stream",
     "text": [
      "body\n",
      "b\n"
     ]
    }
   ],
   "source": [
    "import re\n",
    "for tag in soup.find_all(re.compile(\"^b\")): # b부터 시작\n",
    "    print(tag.name)"
   ]
  },
  {
   "cell_type": "code",
   "execution_count": 302,
   "metadata": {},
   "outputs": [
    {
     "name": "stdout",
     "output_type": "stream",
     "text": [
      "html\n",
      "title\n"
     ]
    }
   ],
   "source": [
    "for tag in soup.find_all(re.compile(\"t\")): # t를 포함하고 있는 태그들을 가져와라\n",
    "    print(tag.name)"
   ]
  },
  {
   "cell_type": "code",
   "execution_count": 304,
   "metadata": {},
   "outputs": [
    {
     "data": {
      "text/plain": [
       "[<b>The Dormouse's story</b>,\n",
       " <a class=\"sister\" href=\"http://example.com/elsie\" id=\"link1\">Elsie</a>,\n",
       " <a class=\"sister\" href=\"http://example.com/lacie\" id=\"link2\">Lacie</a>,\n",
       " <a class=\"sister\" href=\"http://example.com/tillie\" id=\"link3\">Tillie</a>]"
      ]
     },
     "execution_count": 304,
     "metadata": {},
     "output_type": "execute_result"
    }
   ],
   "source": [
    "soup.find_all([\"a\", \"b\"]) # <a>, <b> 모두 찾아라"
   ]
  },
  {
   "cell_type": "code",
   "execution_count": 306,
   "metadata": {},
   "outputs": [
    {
     "name": "stdout",
     "output_type": "stream",
     "text": [
      "html\n",
      "head\n",
      "title\n",
      "body\n",
      "p\n",
      "b\n",
      "p\n",
      "a\n",
      "a\n",
      "a\n",
      "p\n"
     ]
    }
   ],
   "source": [
    "for tag in soup.find_all(True): # 태그들만 찾아줌(태그 내용 X)\n",
    "    print(tag.name)"
   ]
  },
  {
   "cell_type": "markdown",
   "metadata": {},
   "source": [
    "### A function"
   ]
  },
  {
   "cell_type": "code",
   "execution_count": 307,
   "metadata": {},
   "outputs": [],
   "source": [
    "def has_class_but_no_id(tag):\n",
    "    return tag.has_attr('class') and not tag.has_attr('id')"
   ]
  },
  {
   "cell_type": "code",
   "execution_count": 310,
   "metadata": {},
   "outputs": [
    {
     "data": {
      "text/plain": [
       "3"
      ]
     },
     "execution_count": 310,
     "metadata": {},
     "output_type": "execute_result"
    }
   ],
   "source": [
    "len(soup.find_all(has_class_but_no_id))"
   ]
  },
  {
   "cell_type": "code",
   "execution_count": 312,
   "metadata": {},
   "outputs": [
    {
     "data": {
      "text/plain": [
       "[<p class=\"title\"><b>The Dormouse's story</b></p>,\n",
       " <p class=\"story\">Once upon a time there were three little sisters; and their names were\n",
       " <a class=\"sister\" href=\"http://example.com/elsie\" id=\"link1\">Elsie</a>,\n",
       " <a class=\"sister\" href=\"http://example.com/lacie\" id=\"link2\">Lacie</a> and\n",
       " <a class=\"sister\" href=\"http://example.com/tillie\" id=\"link3\">Tillie</a>;\n",
       " and they lived at the bottom of a well.</p>,\n",
       " <p class=\"story\">...</p>]"
      ]
     },
     "execution_count": 312,
     "metadata": {},
     "output_type": "execute_result"
    }
   ],
   "source": [
    "soup.find_all(has_class_but_no_id) # <p> 태그 3개 찾기 / <a>는 X"
   ]
  },
  {
   "cell_type": "code",
   "execution_count": 318,
   "metadata": {},
   "outputs": [
    {
     "data": {
      "text/plain": [
       "[<p class=\"title\"><b>The Dormouse's story</b></p>,\n",
       " <p class=\"story\">Once upon a time there were three little sisters; and their names were\n",
       " <a class=\"sister\" href=\"http://example.com/elsie\" id=\"link1\">Elsie</a>,\n",
       " <a class=\"sister\" href=\"http://example.com/lacie\" id=\"link2\">Lacie</a> and\n",
       " <a class=\"sister\" href=\"http://example.com/tillie\" id=\"link3\">Tillie</a>;\n",
       " and they lived at the bottom of a well.</p>,\n",
       " <p class=\"story\">...</p>]"
      ]
     },
     "execution_count": 318,
     "metadata": {},
     "output_type": "execute_result"
    }
   ],
   "source": [
    "soup.find_all(has_class_but_no_id)"
   ]
  },
  {
   "cell_type": "code",
   "execution_count": 321,
   "metadata": {},
   "outputs": [
    {
     "data": {
      "text/plain": [
       "[<a class=\"sister\" href=\"http://example.com/elsie\" id=\"link1\">Elsie</a>,\n",
       " <a class=\"sister\" href=\"http://example.com/lacie\" id=\"link2\">Lacie</a>,\n",
       " <a class=\"sister\" href=\"http://example.com/tillie\" id=\"link3\">Tillie</a>]"
      ]
     },
     "execution_count": 321,
     "metadata": {},
     "output_type": "execute_result"
    }
   ],
   "source": [
    "soup.find_all('a')"
   ]
  },
  {
   "cell_type": "code",
   "execution_count": 323,
   "metadata": {},
   "outputs": [
    {
     "data": {
      "text/plain": [
       "[<a class=\"sister\" href=\"http://example.com/elsie\" id=\"link1\">Elsie</a>,\n",
       " <a class=\"sister\" href=\"http://example.com/tillie\" id=\"link3\">Tillie</a>]"
      ]
     },
     "execution_count": 323,
     "metadata": {},
     "output_type": "execute_result"
    }
   ],
   "source": [
    "def not_lacie(href):\n",
    "    return href and not re.compile(\"lacie\").search(href)\n",
    "soup.find_all(href=not_lacie)"
   ]
  },
  {
   "cell_type": "code",
   "execution_count": 324,
   "metadata": {},
   "outputs": [],
   "source": [
    "from bs4 import NavigableString\n",
    "def surrounded_by_strings(tag):\n",
    "    return (isinstance(tag.next_element, NavigableString)\n",
    "            and isinstance(tag.previous_element, NavigableString))\n",
    "# isinstance( , ) 인자값 두 개가 같은 곳에서 왔는지 물어보는 것"
   ]
  },
  {
   "cell_type": "code",
   "execution_count": 331,
   "metadata": {},
   "outputs": [
    {
     "data": {
      "text/plain": [
       "6"
      ]
     },
     "execution_count": 331,
     "metadata": {},
     "output_type": "execute_result"
    }
   ],
   "source": [
    "len(soup.find_all(surrounded_by_strings))"
   ]
  },
  {
   "cell_type": "code",
   "execution_count": 332,
   "metadata": {},
   "outputs": [
    {
     "name": "stdout",
     "output_type": "stream",
     "text": [
      "<body>\n",
      "<p class=\"title\"><b>The Dormouse's story</b></p>\n",
      "<p class=\"story\">Once upon a time there were three little sisters; and their names were\n",
      "<a class=\"sister\" href=\"http://example.com/elsie\" id=\"link1\">Elsie</a>,\n",
      "<a class=\"sister\" href=\"http://example.com/lacie\" id=\"link2\">Lacie</a> and\n",
      "<a class=\"sister\" href=\"http://example.com/tillie\" id=\"link3\">Tillie</a>;\n",
      "and they lived at the bottom of a well.</p>\n",
      "<p class=\"story\">...</p>\n",
      "</body>\n",
      "----------------------------------------\n",
      "<p class=\"story\">Once upon a time there were three little sisters; and their names were\n",
      "<a class=\"sister\" href=\"http://example.com/elsie\" id=\"link1\">Elsie</a>,\n",
      "<a class=\"sister\" href=\"http://example.com/lacie\" id=\"link2\">Lacie</a> and\n",
      "<a class=\"sister\" href=\"http://example.com/tillie\" id=\"link3\">Tillie</a>;\n",
      "and they lived at the bottom of a well.</p>\n",
      "----------------------------------------\n",
      "<a class=\"sister\" href=\"http://example.com/elsie\" id=\"link1\">Elsie</a>\n",
      "----------------------------------------\n",
      "<a class=\"sister\" href=\"http://example.com/lacie\" id=\"link2\">Lacie</a>\n",
      "----------------------------------------\n",
      "<a class=\"sister\" href=\"http://example.com/tillie\" id=\"link3\">Tillie</a>\n",
      "----------------------------------------\n",
      "<p class=\"story\">...</p>\n",
      "----------------------------------------\n"
     ]
    }
   ],
   "source": [
    "for tag in soup.find_all(surrounded_by_strings):\n",
    "    print(tag)\n",
    "    print(\"-\"*40)"
   ]
  },
  {
   "cell_type": "code",
   "execution_count": 333,
   "metadata": {},
   "outputs": [],
   "source": [
    "def tag_strings(tag):\n",
    "    return isinstance(tag, NavigableString)"
   ]
  },
  {
   "cell_type": "code",
   "execution_count": 334,
   "metadata": {},
   "outputs": [
    {
     "data": {
      "text/plain": [
       "0"
      ]
     },
     "execution_count": 334,
     "metadata": {},
     "output_type": "execute_result"
    }
   ],
   "source": [
    "len(soup.find_all(tag_strings))"
   ]
  },
  {
   "cell_type": "code",
   "execution_count": 335,
   "metadata": {},
   "outputs": [],
   "source": [
    "for tag in soup.find_all(tag_strings):\n",
    "    print(tag)\n",
    "    print('-'*40)"
   ]
  },
  {
   "cell_type": "code",
   "execution_count": 336,
   "metadata": {},
   "outputs": [
    {
     "data": {
      "text/plain": [
       "'Elsie'"
      ]
     },
     "execution_count": 336,
     "metadata": {},
     "output_type": "execute_result"
    }
   ],
   "source": [
    "soup.a.string"
   ]
  },
  {
   "cell_type": "code",
   "execution_count": 337,
   "metadata": {},
   "outputs": [
    {
     "data": {
      "text/plain": [
       "bs4.element.NavigableString"
      ]
     },
     "execution_count": 337,
     "metadata": {},
     "output_type": "execute_result"
    }
   ],
   "source": [
    "type(soup.a.string)"
   ]
  },
  {
   "cell_type": "code",
   "execution_count": 339,
   "metadata": {},
   "outputs": [
    {
     "data": {
      "text/plain": [
       "True"
      ]
     },
     "execution_count": 339,
     "metadata": {},
     "output_type": "execute_result"
    }
   ],
   "source": [
    "tag_strings(soup.a.string)"
   ]
  },
  {
   "cell_type": "code",
   "execution_count": 340,
   "metadata": {},
   "outputs": [
    {
     "data": {
      "text/plain": [
       "\n",
       "<html><head><title>The Dormouse's story</title></head>\n",
       "<body>\n",
       "<p class=\"title\"><b>The Dormouse's story</b></p>\n",
       "<p class=\"story\">Once upon a time there were three little sisters; and their names were\n",
       "<a class=\"sister\" href=\"http://example.com/elsie\" id=\"link1\">Elsie</a>,\n",
       "<a class=\"sister\" href=\"http://example.com/lacie\" id=\"link2\">Lacie</a> and\n",
       "<a class=\"sister\" href=\"http://example.com/tillie\" id=\"link3\">Tillie</a>;\n",
       "and they lived at the bottom of a well.</p>\n",
       "<p class=\"story\">...</p>\n",
       "</body></html>"
      ]
     },
     "execution_count": 340,
     "metadata": {},
     "output_type": "execute_result"
    }
   ],
   "source": [
    "soup"
   ]
  },
  {
   "cell_type": "code",
   "execution_count": 342,
   "metadata": {},
   "outputs": [
    {
     "data": {
      "text/plain": [
       "[<a class=\"sister\" href=\"http://example.com/elsie\" id=\"link1\">Elsie</a>,\n",
       " <a class=\"sister\" href=\"http://example.com/lacie\" id=\"link2\">Lacie</a>,\n",
       " <a class=\"sister\" href=\"http://example.com/tillie\" id=\"link3\">Tillie</a>]"
      ]
     },
     "execution_count": 342,
     "metadata": {},
     "output_type": "execute_result"
    }
   ],
   "source": [
    "soup.select(\"p > a\") # <p>태그 안에 있는 <a>태그"
   ]
  },
  {
   "cell_type": "code",
   "execution_count": 352,
   "metadata": {},
   "outputs": [
    {
     "data": {
      "text/plain": [
       "[<a class=\"sister\" href=\"http://example.com/tillie\" id=\"link3\">Tillie</a>]"
      ]
     },
     "execution_count": 352,
     "metadata": {},
     "output_type": "execute_result"
    }
   ],
   "source": [
    "soup.select(\"p > a:nth-of-type(3)\") # <p>태그 '바로' 밑에 있는 <a>태그의 (num)번째"
   ]
  },
  {
   "cell_type": "code",
   "execution_count": 350,
   "metadata": {},
   "outputs": [
    {
     "data": {
      "text/plain": [
       "[<a class=\"sister\" href=\"http://example.com/elsie\" id=\"link1\">Elsie</a>]"
      ]
     },
     "execution_count": 350,
     "metadata": {},
     "output_type": "execute_result"
    }
   ],
   "source": [
    "soup.select(\"p > #link1\") # <p>태그 '바로' 밑에 있는 값 중 id(#)가 link1인 것"
   ]
  },
  {
   "cell_type": "code",
   "execution_count": 353,
   "metadata": {},
   "outputs": [
    {
     "data": {
      "text/plain": [
       "[<a class=\"sister\" href=\"http://example.com/elsie\" id=\"link1\">Elsie</a>,\n",
       " <a class=\"sister\" href=\"http://example.com/lacie\" id=\"link2\">Lacie</a>,\n",
       " <a class=\"sister\" href=\"http://example.com/tillie\" id=\"link3\">Tillie</a>]"
      ]
     },
     "execution_count": 353,
     "metadata": {},
     "output_type": "execute_result"
    }
   ],
   "source": [
    "soup.select(\"p > .sister\") # <p>태그 '바로' 밑에 있는 값 중 class(.)가 sister인 것"
   ]
  },
  {
   "cell_type": "code",
   "execution_count": 355,
   "metadata": {},
   "outputs": [
    {
     "data": {
      "text/plain": [
       "[]"
      ]
     },
     "execution_count": 355,
     "metadata": {},
     "output_type": "execute_result"
    }
   ],
   "source": [
    "soup.select(\"body > a\") # <body>태그 '바로' 밑에 있는 <a>는 없음(빈 리스트)"
   ]
  },
  {
   "cell_type": "code",
   "execution_count": 360,
   "metadata": {},
   "outputs": [],
   "source": [
    "# soup.select(\".story ~ \")"
   ]
  },
  {
   "cell_type": "code",
   "execution_count": 361,
   "metadata": {},
   "outputs": [
    {
     "data": {
      "text/plain": [
       "\n",
       "<html><head><title>The Dormouse's story</title></head>\n",
       "<body>\n",
       "<p class=\"title\"><b>The Dormouse's story</b></p>\n",
       "<p class=\"story\">Once upon a time there were three little sisters; and their names were\n",
       "<a class=\"sister\" href=\"http://example.com/elsie\" id=\"link1\">Elsie</a>,\n",
       "<a class=\"sister\" href=\"http://example.com/lacie\" id=\"link2\">Lacie</a> and\n",
       "<a class=\"sister\" href=\"http://example.com/tillie\" id=\"link3\">Tillie</a>;\n",
       "and they lived at the bottom of a well.</p>\n",
       "<p class=\"story\">...</p>\n",
       "</body></html>"
      ]
     },
     "execution_count": 361,
     "metadata": {},
     "output_type": "execute_result"
    }
   ],
   "source": [
    "soup"
   ]
  },
  {
   "cell_type": "markdown",
   "metadata": {},
   "source": [
    "#### b 태그의 이름을 h1 태그로 변경"
   ]
  },
  {
   "cell_type": "code",
   "execution_count": 362,
   "metadata": {},
   "outputs": [],
   "source": [
    "tag_b = soup.b"
   ]
  },
  {
   "cell_type": "code",
   "execution_count": 363,
   "metadata": {},
   "outputs": [
    {
     "data": {
      "text/plain": [
       "'b'"
      ]
     },
     "execution_count": 363,
     "metadata": {},
     "output_type": "execute_result"
    }
   ],
   "source": [
    "tag_b.name"
   ]
  },
  {
   "cell_type": "code",
   "execution_count": 365,
   "metadata": {},
   "outputs": [],
   "source": [
    "tag_b.name = \"h1\""
   ]
  },
  {
   "cell_type": "code",
   "execution_count": 366,
   "metadata": {},
   "outputs": [
    {
     "data": {
      "text/plain": [
       "<h1>The Dormouse's story</h1>"
      ]
     },
     "execution_count": 366,
     "metadata": {},
     "output_type": "execute_result"
    }
   ],
   "source": [
    "tag_b"
   ]
  },
  {
   "cell_type": "code",
   "execution_count": 367,
   "metadata": {},
   "outputs": [
    {
     "data": {
      "text/plain": [
       "\n",
       "<html><head><title>The Dormouse's story</title></head>\n",
       "<body>\n",
       "<p class=\"title\"><h1>The Dormouse's story</h1></p>\n",
       "<p class=\"story\">Once upon a time there were three little sisters; and their names were\n",
       "<a class=\"sister\" href=\"http://example.com/elsie\" id=\"link1\">Elsie</a>,\n",
       "<a class=\"sister\" href=\"http://example.com/lacie\" id=\"link2\">Lacie</a> and\n",
       "<a class=\"sister\" href=\"http://example.com/tillie\" id=\"link3\">Tillie</a>;\n",
       "and they lived at the bottom of a well.</p>\n",
       "<p class=\"story\">...</p>\n",
       "</body></html>"
      ]
     },
     "execution_count": 367,
     "metadata": {},
     "output_type": "execute_result"
    }
   ],
   "source": [
    "soup"
   ]
  },
  {
   "cell_type": "markdown",
   "metadata": {},
   "source": [
    "### Crawling (웹에 있는 구조를 가져옴)"
   ]
  },
  {
   "cell_type": "code",
   "execution_count": 4,
   "metadata": {},
   "outputs": [
    {
     "data": {
      "text/plain": [
       "[<span>미국 <em>USD</em></span>,\n",
       " <span>일본 <em>JPY 100</em></span>,\n",
       " <span>유럽연합 <em>EUR</em></span>,\n",
       " <span>중국 <em>CNY</em></span>,\n",
       " <span>영국 <em>GBP</em></span>,\n",
       " <span>호주 <em>AUD</em></span>,\n",
       " <span>캐나다 <em>CAD</em></span>,\n",
       " <span>뉴질랜드 <em>NZD</em></span>]"
      ]
     },
     "execution_count": 4,
     "metadata": {},
     "output_type": "execute_result"
    }
   ],
   "source": [
    "# 네이버 환율 페이지\n",
    "import urllib.request\n",
    "from bs4 import BeautifulSoup\n",
    "\n",
    "url = 'https://search.naver.com/search.naver?sm=top_hty&fbm=1&ie=utf8&query=%ED%99%98%EC%9C%A8'\n",
    "response = urllib.request.urlopen(url)\n",
    "\n",
    "soup = BeautifulSoup(response, 'html.parser')\n",
    "results = soup.select('th > a > span')\n",
    "results"
   ]
  },
  {
   "cell_type": "code",
   "execution_count": 22,
   "metadata": {},
   "outputs": [
    {
     "name": "stdout",
     "output_type": "stream",
     "text": [
      "['미국 ', 'USD']\n",
      "['일본 ', 'JPY 100']\n",
      "['유럽연합 ', 'EUR']\n",
      "['중국 ', 'CNY']\n",
      "['영국 ', 'GBP']\n",
      "['호주 ', 'AUD']\n",
      "['캐나다 ', 'CAD']\n",
      "['뉴질랜드 ', 'NZD']\n"
     ]
    }
   ],
   "source": [
    "for result in results:\n",
    "    print(list(result.strings)) # key, value 둘 다 필요하면 사용"
   ]
  },
  {
   "cell_type": "code",
   "execution_count": 23,
   "metadata": {},
   "outputs": [
    {
     "name": "stdout",
     "output_type": "stream",
     "text": [
      "미국 \n",
      "일본 \n",
      "유럽연합 \n",
      "중국 \n",
      "영국 \n",
      "호주 \n",
      "캐나다 \n",
      "뉴질랜드 \n"
     ]
    }
   ],
   "source": [
    "for result in results:\n",
    "    print(result.contents[0]) # .strings or .contents[]\n",
    "                              # 양자택일"
   ]
  },
  {
   "cell_type": "code",
   "execution_count": 27,
   "metadata": {},
   "outputs": [
    {
     "data": {
      "text/plain": [
       "[<span>1,220.00</span>,\n",
       " <span class=\"blind\">전일대비</span>,\n",
       " <span class=\"ico\">하락</span>,\n",
       " <span>-0.65%</span>,\n",
       " <span>1,123.03</span>,\n",
       " <span class=\"blind\">전일대비</span>,\n",
       " <span class=\"ico\">상승</span>,\n",
       " <span>+0.57%</span>,\n",
       " <span>1,343.71</span>,\n",
       " <span class=\"blind\">전일대비</span>,\n",
       " <span class=\"ico\">하락</span>,\n",
       " <span>-0.12%</span>,\n",
       " <span>171.73</span>,\n",
       " <span class=\"blind\">전일대비</span>,\n",
       " <span class=\"ico\">하락</span>,\n",
       " <span>-0.67%</span>,\n",
       " <span>1,497.49</span>,\n",
       " <span class=\"blind\">전일대비</span>,\n",
       " <span class=\"ico\">상승</span>,\n",
       " <span>+2.12%</span>,\n",
       " <span>742.49</span>,\n",
       " <span class=\"blind\">전일대비</span>,\n",
       " <span class=\"ico\">상승</span>,\n",
       " <span>+1.13%</span>,\n",
       " <span>867.28</span>,\n",
       " <span class=\"blind\">전일대비</span>,\n",
       " <span class=\"ico\">하락</span>,\n",
       " <span>-0.15%</span>,\n",
       " <span>727.79</span>,\n",
       " <span class=\"blind\">전일대비</span>,\n",
       " <span class=\"ico\">상승</span>,\n",
       " <span>+1.10%</span>]"
      ]
     },
     "execution_count": 27,
     "metadata": {},
     "output_type": "execute_result"
    }
   ],
   "source": [
    "# 네이버 환율 페이지 - 매매기준율\n",
    "import urllib.request\n",
    "from bs4 import BeautifulSoup\n",
    "\n",
    "url = 'https://search.naver.com/search.naver?sm=top_hty&fbm=1&ie=utf8&query=%ED%99%98%EC%9C%A8'\n",
    "response = urllib.request.urlopen(url)\n",
    "\n",
    "soup = BeautifulSoup(response, 'html.parser')\n",
    "results = soup.select('tr > td > span')\n",
    "results"
   ]
  },
  {
   "cell_type": "code",
   "execution_count": 37,
   "metadata": {},
   "outputs": [
    {
     "name": "stdout",
     "output_type": "stream",
     "text": [
      "1,220.00\n",
      "1,123.03\n",
      "1,343.71\n",
      "171.73\n",
      "1,497.49\n",
      "742.49\n",
      "867.28\n",
      "727.79\n"
     ]
    }
   ],
   "source": [
    "index = 1\n",
    "for result in results:\n",
    "    if index % 4 == 1: # 나머지가 1\n",
    "        print(result.string)\n",
    "    index += 1"
   ]
  },
  {
   "cell_type": "code",
   "execution_count": 34,
   "metadata": {},
   "outputs": [
    {
     "name": "stdout",
     "output_type": "stream",
     "text": [
      "[<th scope=\"col\">월</th>]\n",
      "[<td> <a class=\"calendar-date\" href=\"#\" onclick=\"return tCR('a=fno.datecalendercheck');\"></a> </td>]\n",
      "[<th class=\"col2\" scope=\"col\"><span>매매기준율</span></th>]\n",
      "[<td><span>1,220.00</span></td>]\n",
      "[<td><span>1,123.03</span></td>]\n",
      "[<td><span>1,343.71</span></td>]\n",
      "[<td><span>171.73</span></td>]\n",
      "[<td><span>1,497.49</span></td>]\n",
      "[<td><span>742.49</span></td>]\n",
      "[<td><span>867.28</span></td>]\n",
      "[<td><span>727.79</span></td>]\n"
     ]
    }
   ],
   "source": [
    "results = soup.select('tr')\n",
    "for result in results:\n",
    "    print(result.contents[3:4])"
   ]
  },
  {
   "cell_type": "code",
   "execution_count": 41,
   "metadata": {
    "collapsed": true,
    "jupyter": {
     "outputs_hidden": true
    }
   },
   "outputs": [
    {
     "name": "stdout",
     "output_type": "stream",
     "text": [
      "[<span>1,220.00</span>, <span class=\"blind\">전일대비</span>, <span class=\"ico\">하락</span>, <span>-0.65%</span>, <span>1,123.03</span>, <span class=\"blind\">전일대비</span>, <span class=\"ico\">상승</span>, <span>+0.57%</span>, <span>1,343.71</span>, <span class=\"blind\">전일대비</span>, <span class=\"ico\">하락</span>, <span>-0.12%</span>, <span>171.73</span>, <span class=\"blind\">전일대비</span>, <span class=\"ico\">하락</span>, <span>-0.67%</span>, <span>1,497.49</span>, <span class=\"blind\">전일대비</span>, <span class=\"ico\">상승</span>, <span>+2.12%</span>, <span>742.49</span>, <span class=\"blind\">전일대비</span>, <span class=\"ico\">상승</span>, <span>+1.13%</span>, <span>867.28</span>, <span class=\"blind\">전일대비</span>, <span class=\"ico\">하락</span>, <span>-0.15%</span>, <span>727.79</span>, <span class=\"blind\">전일대비</span>, <span class=\"ico\">상승</span>, <span>+1.10%</span>]\n",
      "----------------------------------------\n",
      "False\n",
      "1,220.00\n",
      "True\n",
      "True\n",
      "False\n",
      "-0.65%\n",
      "False\n",
      "1,123.03\n",
      "True\n",
      "True\n",
      "False\n",
      "+0.57%\n",
      "False\n",
      "1,343.71\n",
      "True\n",
      "True\n",
      "False\n",
      "-0.12%\n",
      "False\n",
      "171.73\n",
      "True\n",
      "True\n",
      "False\n",
      "-0.67%\n",
      "False\n",
      "1,497.49\n",
      "True\n",
      "True\n",
      "False\n",
      "+2.12%\n",
      "False\n",
      "742.49\n",
      "True\n",
      "True\n",
      "False\n",
      "+1.13%\n",
      "False\n",
      "867.28\n",
      "True\n",
      "True\n",
      "False\n",
      "-0.15%\n",
      "False\n",
      "727.79\n",
      "True\n",
      "True\n",
      "False\n",
      "+1.10%\n"
     ]
    }
   ],
   "source": [
    "results = soup.select('td > span')\n",
    "print(results)\n",
    "print(\"-\"*40)\n",
    "for result in results:\n",
    "    print(result.has_attr('class')) \n",
    "    if not result.has_attr('class'): # class 속성이 없는가\n",
    "        print(result.string)"
   ]
  },
  {
   "cell_type": "markdown",
   "metadata": {},
   "source": [
    "### CGV 무비차트"
   ]
  },
  {
   "cell_type": "code",
   "execution_count": 49,
   "metadata": {},
   "outputs": [
    {
     "name": "stdout",
     "output_type": "stream",
     "text": [
      "날씨의 아이\n",
      "주디\n",
      "1917\n",
      "너의 이름은.\n",
      "스케어리 스토리- 어둠의 속삭임\n",
      "트루먼쇼\n",
      "인비저블맨\n",
      "캣츠\n",
      "카운트다운\n",
      "영화로운 나날\n",
      "러브 앳\n",
      "월성\n"
     ]
    }
   ],
   "source": [
    "import time\n",
    "url = 'http://www.cgv.co.kr/movies/'\n",
    "response = urllib.request.urlopen(url)\n",
    "\n",
    "soup = BeautifulSoup(response, 'html.parser')\n",
    "results = soup.select('strong.title')\n",
    "for result in results:\n",
    "    print(result.text)"
   ]
  },
  {
   "cell_type": "markdown",
   "metadata": {},
   "source": [
    "### 네이버 뉴스"
   ]
  },
  {
   "cell_type": "code",
   "execution_count": 73,
   "metadata": {
    "collapsed": true,
    "jupyter": {
     "outputs_hidden": true
    }
   },
   "outputs": [
    {
     "data": {
      "text/plain": [
       "[<a class=\"nclicks(rig.rankpol)\" href=\"/main/ranking/read.nhn?mid=etc&amp;sid1=111&amp;rankingType=popular_day&amp;oid=025&amp;aid=0002988332&amp;date=20200329&amp;type=1&amp;rankingSeq=1&amp;rankingSectionId=100\" title=\"文 “천안함 北소행” 이틀 뒤, 北 발사체 쐈다···추가도발 우려\">文 “천안함 北소행” 이틀 뒤, 北 발사체 쐈다···추가도발 우려</a>,\n",
       " <a class=\"nclicks(rig.rankpol)\" href=\"/main/ranking/read.nhn?mid=etc&amp;sid1=111&amp;rankingType=popular_day&amp;oid=023&amp;aid=0003518867&amp;date=20200329&amp;type=1&amp;rankingSeq=2&amp;rankingSectionId=100\" title='김종인 \"이런 나라 두 번 겪으면 큰일 난다\"'>김종인 \"이런 나라 두 번 겪으면 큰일 난다\"</a>,\n",
       " <a class=\"nclicks(rig.rankpol)\" href=\"/main/ranking/read.nhn?mid=etc&amp;sid1=111&amp;rankingType=popular_day&amp;oid=001&amp;aid=0011506411&amp;date=20200329&amp;type=1&amp;rankingSeq=3&amp;rankingSectionId=100\" title='이재명, 진중권에 \"조국 향한 마녀사냥ㆍ인권침해 그만하라\"'>이재명, 진중권에 \"조국 향한 마녀사냥ㆍ인권침해 그만하라\"</a>,\n",
       " <a class=\"nclicks(rig.rankpol)\" href=\"/main/ranking/read.nhn?mid=etc&amp;sid1=111&amp;rankingType=popular_day&amp;oid=001&amp;aid=0011506578&amp;date=20200329&amp;type=1&amp;rankingSeq=4&amp;rankingSectionId=100\" title='유승민 \"제가 원조친박…계파 따지지 않고 어떤 후보든 돕겠다\"'>유승민 \"제가 원조친박…계파 따지지 않고 어떤 후보든 돕겠다\"</a>,\n",
       " <a class=\"nclicks(rig.rankpol)\" href=\"/main/ranking/read.nhn?mid=etc&amp;sid1=111&amp;rankingType=popular_day&amp;oid=025&amp;aid=0002988329&amp;date=20200329&amp;type=1&amp;rankingSeq=5&amp;rankingSectionId=100\" title=\"미래한국당 막판 의원꿔오기로 보조금 55억 급증…여상규ㆍ박맹우ㆍ백승주 이적\">미래한국당 막판 의원꿔오기로 보조금 55억 급증…여상규ㆍ박맹우ㆍ백승주 이적</a>,\n",
       " <a class=\"nclicks(rig.rankpol)\" href=\"/main/ranking/read.nhn?mid=etc&amp;sid1=111&amp;rankingType=popular_day&amp;oid=014&amp;aid=0004398257&amp;date=20200329&amp;type=0&amp;rankingSeq=6&amp;rankingSectionId=100\" title=\"[속보]신규 확진 105명 중 해외유입 41명...전체 39%\">[속보]신규 확진 105명 중 해외유입 41명...전체 39%</a>,\n",
       " <a class=\"nclicks(rig.rankpol)\" href=\"/main/ranking/read.nhn?mid=etc&amp;sid1=111&amp;rankingType=popular_day&amp;oid=028&amp;aid=0002491274&amp;date=20200329&amp;type=1&amp;rankingSeq=7&amp;rankingSectionId=100\" title=\"코로나 19 역풍에 미래통합당 비틀거리다\">코로나 19 역풍에 미래통합당 비틀거리다</a>,\n",
       " <a class=\"nclicks(rig.rankpol)\" href=\"/main/ranking/read.nhn?mid=etc&amp;sid1=111&amp;rankingType=popular_day&amp;oid=028&amp;aid=0002491280&amp;date=20200329&amp;type=1&amp;rankingSeq=8&amp;rankingSectionId=100\" title=\"“교회 감염 거의 없다” 황교안 무리수에 “당대표가 전도사냐” 비판\">“교회 감염 거의 없다” 황교안 무리수에 “당대표가 전도사냐” 비판</a>,\n",
       " <a class=\"nclicks(rig.rankpol)\" href=\"/main/ranking/read.nhn?mid=etc&amp;sid1=111&amp;rankingType=popular_day&amp;oid=081&amp;aid=0003077840&amp;date=20200329&amp;type=1&amp;rankingSeq=9&amp;rankingSectionId=100\" title=\"김종인, “한 번도 겪어보지 않은 나라? 이런 나라 두 번 겪으면 큰일”\">김종인, “한 번도 겪어보지 않은 나라? 이런 나라 두 번 겪으면 큰일”</a>,\n",
       " <a class=\"nclicks(rig.rankpol)\" href=\"/main/ranking/read.nhn?mid=etc&amp;sid1=111&amp;rankingType=popular_day&amp;oid=469&amp;aid=0000482098&amp;date=20200329&amp;type=1&amp;rankingSeq=10&amp;rankingSectionId=100\" title=\"이재명, 진중권 향해 “조국에 대한 잔인한 인권침해 그만”\">이재명, 진중권 향해 “조국에 대한 잔인한 인권침해 그만”</a>,\n",
       " <a class=\"nclicks(rig.rankeco)\" href=\"/main/ranking/read.nhn?mid=etc&amp;sid1=111&amp;rankingType=popular_day&amp;oid=008&amp;aid=0004385058&amp;date=20200329&amp;type=1&amp;rankingSeq=1&amp;rankingSectionId=101\" title=\"잠실 리센츠 16억 '미스터리' 풀렸다..&quot;父子간 매매&quot;\">잠실 리센츠 16억 '미스터리' 풀렸다..\"父子간 매매\"</a>,\n",
       " <a class=\"nclicks(rig.rankeco)\" href=\"/main/ranking/read.nhn?mid=etc&amp;sid1=111&amp;rankingType=popular_day&amp;oid=015&amp;aid=0004314831&amp;date=20200329&amp;type=1&amp;rankingSeq=2&amp;rankingSectionId=101\" title='손석희의 \"조주빈 협박 배후엔 삼성\" 발언에…삼성 \"황당하다\"'>손석희의 \"조주빈 협박 배후엔 삼성\" 발언에…삼성 \"황당하다\"</a>,\n",
       " <a class=\"nclicks(rig.rankeco)\" href=\"/main/ranking/read.nhn?mid=etc&amp;sid1=111&amp;rankingType=popular_day&amp;oid=014&amp;aid=0004398218&amp;date=20200329&amp;type=1&amp;rankingSeq=3&amp;rankingSectionId=101\" title=\"[단독]대한항공의 '묘수'...운명 걸린 LG 숨통 틔웠다\">[단독]대한항공의 '묘수'...운명 걸린 LG 숨통 틔웠다</a>,\n",
       " <a class=\"nclicks(rig.rankeco)\" href=\"/main/ranking/read.nhn?mid=etc&amp;sid1=111&amp;rankingType=popular_day&amp;oid=015&amp;aid=0004314796&amp;date=20200329&amp;type=1&amp;rankingSeq=4&amp;rankingSectionId=101\" title=\"'코로나 진단키트'에 독도 이름 붙이라는 국민청원 [조재길의 경제산책]\">'코로나 진단키트'에 독도 이름 붙이라는 국민청원 [조재길의 경제산책]</a>,\n",
       " <a class=\"nclicks(rig.rankeco)\" href=\"/main/ranking/read.nhn?mid=etc&amp;sid1=111&amp;rankingType=popular_day&amp;oid=009&amp;aid=0004546267&amp;date=20200329&amp;type=1&amp;rankingSeq=5&amp;rankingSectionId=101\" title=\"한미통화스왑 1차로 120억달러 푼다…2008년 40억달러보다 3배 많아\">한미통화스왑 1차로 120억달러 푼다…2008년 40억달러보다 3배 많아</a>,\n",
       " <a class=\"nclicks(rig.rankeco)\" href=\"/main/ranking/read.nhn?mid=etc&amp;sid1=111&amp;rankingType=popular_day&amp;oid=025&amp;aid=0002988271&amp;date=20200329&amp;type=1&amp;rankingSeq=6&amp;rankingSectionId=101\" title=\"文 2286만원·정세균 1772만원···되레 뒷말 나오는 '급여 반납'\">文 2286만원·정세균 1772만원···되레 뒷말 나오는 '급여 반납'</a>,\n",
       " <a class=\"nclicks(rig.rankeco)\" href=\"/main/ranking/read.nhn?mid=etc&amp;sid1=111&amp;rankingType=popular_day&amp;oid=008&amp;aid=0004385041&amp;date=20200329&amp;type=1&amp;rankingSeq=7&amp;rankingSectionId=101\" title=\"'역대 최대' 45조 실탄 준비한 개미군단…&quot;이번엔 이긴다&quot;\">'역대 최대' 45조 실탄 준비한 개미군단…\"이번엔 이긴다\"</a>,\n",
       " <a class=\"nclicks(rig.rankeco)\" href=\"/main/ranking/read.nhn?mid=etc&amp;sid1=111&amp;rankingType=popular_day&amp;oid=015&amp;aid=0004314834&amp;date=20200329&amp;type=1&amp;rankingSeq=8&amp;rankingSectionId=101\" title=\"국내 진단키트업체 3곳 美 FDA 사전승인? 혼란만 초래한 외교부\">국내 진단키트업체 3곳 美 FDA 사전승인? 혼란만 초래한 외교부</a>,\n",
       " <a class=\"nclicks(rig.rankeco)\" href=\"/main/ranking/read.nhn?mid=etc&amp;sid1=111&amp;rankingType=popular_day&amp;oid=008&amp;aid=0004385092&amp;date=20200329&amp;type=1&amp;rankingSeq=9&amp;rankingSectionId=101\" title=\"삼성 &quot;손석희 '삼성 배후' 주장 황당&quot;…김웅 &quot;아무 배후 없다&quot;\">삼성 \"손석희 '삼성 배후' 주장 황당\"…김웅 \"아무 배후 없다\"</a>,\n",
       " <a class=\"nclicks(rig.rankeco)\" href=\"/main/ranking/read.nhn?mid=etc&amp;sid1=111&amp;rankingType=popular_day&amp;oid=366&amp;aid=0000498235&amp;date=20200329&amp;type=1&amp;rankingSeq=10&amp;rankingSectionId=101\" title=\"통화스와프 자금 120억달러 이번주 풀린다…금융위기 때의 3배\">통화스와프 자금 120억달러 이번주 풀린다…금융위기 때의 3배</a>,\n",
       " <a class=\"nclicks(rig.ranksoc)\" href=\"/main/ranking/read.nhn?mid=etc&amp;sid1=111&amp;rankingType=popular_day&amp;oid=025&amp;aid=0002988330&amp;date=20200329&amp;type=1&amp;rankingSeq=1&amp;rankingSectionId=102\" title='이재명 \"선 넘지말라\"···진중권 \"조국의 진실, 이 지사도 안다\"'>이재명 \"선 넘지말라\"···진중권 \"조국의 진실, 이 지사도 안다\"</a>,\n",
       " <a class=\"nclicks(rig.ranksoc)\" href=\"/main/ranking/read.nhn?mid=etc&amp;sid1=111&amp;rankingType=popular_day&amp;oid=025&amp;aid=0002988320&amp;date=20200329&amp;type=1&amp;rankingSeq=2&amp;rankingSectionId=102\" title=\"격리 무시, 마스크 무시, 자전거 타고 골프 쳤다···이런 외국인\">격리 무시, 마스크 무시, 자전거 타고 골프 쳤다···이런 외국인</a>,\n",
       " <a class=\"nclicks(rig.ranksoc)\" href=\"/main/ranking/read.nhn?mid=etc&amp;sid1=111&amp;rankingType=popular_day&amp;oid=031&amp;aid=0000531790&amp;date=20200329&amp;type=1&amp;rankingSeq=3&amp;rankingSectionId=102\" title='목포시 \"카페·PC방 다닌 20대 확진자, 격리 위반 아니다\"…왜?'>목포시 \"카페·PC방 다닌 20대 확진자, 격리 위반 아니다\"…왜?</a>,\n",
       " <a class=\"nclicks(rig.ranksoc)\" href=\"/main/ranking/read.nhn?mid=etc&amp;sid1=111&amp;rankingType=popular_day&amp;oid=023&amp;aid=0003518873&amp;date=20200329&amp;type=1&amp;rankingSeq=4&amp;rankingSectionId=102\" title='\"김정숙 여사, 천안함 엄마를 노려봤다\" 누리꾼 갑론을박'>\"김정숙 여사, 천안함 엄마를 노려봤다\" 누리꾼 갑론을박</a>,\n",
       " <a class=\"nclicks(rig.ranksoc)\" href=\"/main/ranking/read.nhn?mid=etc&amp;sid1=111&amp;rankingType=popular_day&amp;oid=003&amp;aid=0009783280&amp;date=20200329&amp;type=0&amp;rankingSeq=5&amp;rankingSectionId=102\" title=\"[속보]국내 해외발 코로나19 감염자 412명…외국인 35명\">[속보]국내 해외발 코로나19 감염자 412명…외국인 35명</a>,\n",
       " <a class=\"nclicks(rig.ranksoc)\" href=\"/main/ranking/read.nhn?mid=etc&amp;sid1=111&amp;rankingType=popular_day&amp;oid=277&amp;aid=0004651427&amp;date=20200329&amp;type=1&amp;rankingSeq=6&amp;rankingSectionId=102\" title=\"수원 영국인 확진자 마스크 없이 23명 접촉… 학원 강사도 포함\">수원 영국인 확진자 마스크 없이 23명 접촉… 학원 강사도 포함</a>,\n",
       " <a class=\"nclicks(rig.ranksoc)\" href=\"/main/ranking/read.nhn?mid=etc&amp;sid1=111&amp;rankingType=popular_day&amp;oid=001&amp;aid=0011506539&amp;date=20200329&amp;type=1&amp;rankingSeq=7&amp;rankingSectionId=102\" title='국산 진단키트 3개 미국 FDA 사전승인?…\"외교부가 혼란 초래\"'>국산 진단키트 3개 미국 FDA 사전승인?…\"외교부가 혼란 초래\"</a>,\n",
       " <a class=\"nclicks(rig.ranksoc)\" href=\"/main/ranking/read.nhn?mid=etc&amp;sid1=111&amp;rankingType=popular_day&amp;oid=469&amp;aid=0000482094&amp;date=20200329&amp;type=1&amp;rankingSeq=8&amp;rankingSectionId=102\" title=\"수원 영국인 확진자, 닷새동안 마스크 안쓴채 4개 도시 다녀\">수원 영국인 확진자, 닷새동안 마스크 안쓴채 4개 도시 다녀</a>,\n",
       " <a class=\"nclicks(rig.ranksoc)\" href=\"/main/ranking/read.nhn?mid=etc&amp;sid1=111&amp;rankingType=popular_day&amp;oid=025&amp;aid=0002988337&amp;date=20200329&amp;type=1&amp;rankingSeq=9&amp;rankingSectionId=102\" title='\"종교 탄압말라\" \"교회가 이기적\" 사랑제일교회 앞서 뒤엉켰다'>\"종교 탄압말라\" \"교회가 이기적\" 사랑제일교회 앞서 뒤엉켰다</a>,\n",
       " <a class=\"nclicks(rig.ranksoc)\" href=\"/main/ranking/read.nhn?mid=etc&amp;sid1=111&amp;rankingType=popular_day&amp;oid=081&amp;aid=0003077833&amp;date=20200329&amp;type=1&amp;rankingSeq=10&amp;rankingSectionId=102\" title=\"의붓딸에게 성관계 시도 아빠, 선처 요구한 엄마\">의붓딸에게 성관계 시도 아빠, 선처 요구한 엄마</a>,\n",
       " <a class=\"nclicks(rig.ranklif)\" href=\"/main/ranking/read.nhn?mid=etc&amp;sid1=111&amp;rankingType=popular_day&amp;oid=421&amp;aid=0004550101&amp;date=20200329&amp;type=1&amp;rankingSeq=1&amp;rankingSectionId=103\" title='\"그동안 감염된 사람 없다\" 주일예배 강행 사랑제일교회…경찰과 충돌도'>\"그동안 감염된 사람 없다\" 주일예배 강행 사랑제일교회…경찰과 충돌도</a>,\n",
       " <a class=\"nclicks(rig.ranklif)\" href=\"/main/ranking/read.nhn?mid=etc&amp;sid1=111&amp;rankingType=popular_day&amp;oid=011&amp;aid=0003716420&amp;date=20200329&amp;type=0&amp;rankingSeq=2&amp;rankingSectionId=103\" title=\"[속보]성남 분당구보건소 직원 1명 추가 감염···분당제생병원 근무중 확진자 접촉\">[속보]성남 분당구보건소 직원 1명 추가 감염···분당제생병원 근무중 확진자 접촉</a>,\n",
       " <a class=\"nclicks(rig.ranklif)\" href=\"/main/ranking/read.nhn?mid=etc&amp;sid1=111&amp;rankingType=popular_day&amp;oid=052&amp;aid=0001421063&amp;date=20200329&amp;type=2&amp;rankingSeq=3&amp;rankingSectionId=103\" title=\"'단골집 방문해 미리 결제'...착한 소비자 운동 확산\">'단골집 방문해 미리 결제'...착한 소비자 운동 확산</a>,\n",
       " <a class=\"nclicks(rig.ranklif)\" href=\"/main/ranking/read.nhn?mid=etc&amp;sid1=111&amp;rankingType=popular_day&amp;oid=437&amp;aid=0000234702&amp;date=20200328&amp;type=2&amp;rankingSeq=4&amp;rankingSectionId=103\" title=\"종교계 거리두기 동참 속…브라질 대통령 '역주행' 논란\">종교계 거리두기 동참 속…브라질 대통령 '역주행' 논란</a>,\n",
       " <a class=\"nclicks(rig.ranklif)\" href=\"/main/ranking/read.nhn?mid=etc&amp;sid1=111&amp;rankingType=popular_day&amp;oid=025&amp;aid=0002988328&amp;date=20200329&amp;type=1&amp;rankingSeq=5&amp;rankingSectionId=103\" title=\"[더오래]쓰레기통 아니에요, 궁궐 지키는 '드므' 랍니다\">[더오래]쓰레기통 아니에요, 궁궐 지키는 '드므' 랍니다</a>,\n",
       " <a class=\"nclicks(rig.ranklif)\" href=\"/main/ranking/read.nhn?mid=etc&amp;sid1=111&amp;rankingType=popular_day&amp;oid=047&amp;aid=0002263520&amp;date=20200329&amp;type=1&amp;rankingSeq=6&amp;rankingSectionId=103\" title='\"어머니 앞에서 고문당한 아버지\" 그래서 만든 인형'>\"어머니 앞에서 고문당한 아버지\" 그래서 만든 인형</a>,\n",
       " <a class=\"nclicks(rig.ranklif)\" href=\"/main/ranking/read.nhn?mid=etc&amp;sid1=111&amp;rankingType=popular_day&amp;oid=047&amp;aid=0002263519&amp;date=20200329&amp;type=1&amp;rankingSeq=7&amp;rankingSectionId=103\" title=\"하루 22600원, 535일간의 세계일주가 끝났습니다\">하루 22600원, 535일간의 세계일주가 끝났습니다</a>,\n",
       " <a class=\"nclicks(rig.ranklif)\" href=\"/main/ranking/read.nhn?mid=etc&amp;sid1=111&amp;rankingType=popular_day&amp;oid=008&amp;aid=0004384992&amp;date=20200329&amp;type=1&amp;rankingSeq=8&amp;rankingSectionId=103\" title=\"[단독]송자호·박규리 “나이 차이는 숫자에 불과…식지 않은 애정 지켜봐 달라”\">[단독]송자호·박규리 “나이 차이는 숫자에 불과…식지 않은 애정 지켜봐 달라”</a>,\n",
       " <a class=\"nclicks(rig.ranklif)\" href=\"/main/ranking/read.nhn?mid=etc&amp;sid1=111&amp;rankingType=popular_day&amp;oid=025&amp;aid=0002988294&amp;date=20200329&amp;type=2&amp;rankingSeq=9&amp;rankingSectionId=103\" title=\"박구윤 “동갑 박현빈 뜰 때 난 어머니교실 7000곳 뛰었다”\">박구윤 “동갑 박현빈 뜰 때 난 어머니교실 7000곳 뛰었다”</a>,\n",
       " <a class=\"nclicks(rig.ranklif)\" href=\"/main/ranking/read.nhn?mid=etc&amp;sid1=111&amp;rankingType=popular_day&amp;oid=052&amp;aid=0001421068&amp;date=20200329&amp;type=2&amp;rankingSeq=10&amp;rankingSectionId=103\" title=\"한국형 좀비 국내외 호평...K좀비 가능성은?\">한국형 좀비 국내외 호평...K좀비 가능성은?</a>,\n",
       " <a class=\"nclicks(rig.rankwor)\" href=\"/main/ranking/read.nhn?mid=etc&amp;sid1=111&amp;rankingType=popular_day&amp;oid=025&amp;aid=0002988234&amp;date=20200328&amp;type=1&amp;rankingSeq=1&amp;rankingSectionId=104\" title=\"말레이 봉쇄에 전 세계 '콘돔 비상'…&quot;이미 물량 1억개 부족&quot;\">말레이 봉쇄에 전 세계 '콘돔 비상'…\"이미 물량 1억개 부족\"</a>,\n",
       " <a class=\"nclicks(rig.rankwor)\" href=\"/main/ranking/read.nhn?mid=etc&amp;sid1=111&amp;rankingType=popular_day&amp;oid=052&amp;aid=0001421148&amp;date=20200329&amp;type=2&amp;rankingSeq=2&amp;rankingSectionId=104\" title=\"中, 항공편 사실상 '차단'...북한군 부대 내 대규모 사망설\">中, 항공편 사실상 '차단'...북한군 부대 내 대규모 사망설</a>,\n",
       " <a class=\"nclicks(rig.rankwor)\" href=\"/main/ranking/read.nhn?mid=etc&amp;sid1=111&amp;rankingType=popular_day&amp;oid=052&amp;aid=0001421164&amp;date=20200329&amp;type=2&amp;rankingSeq=3&amp;rankingSectionId=104\" title=\"일본 언론이 전한 '북한군 대규모 사망설'\">일본 언론이 전한 '북한군 대규모 사망설'</a>,\n",
       " <a class=\"nclicks(rig.rankwor)\" href=\"/main/ranking/read.nhn?mid=etc&amp;sid1=111&amp;rankingType=popular_day&amp;oid=009&amp;aid=0004546226&amp;date=20200329&amp;type=1&amp;rankingSeq=4&amp;rankingSectionId=104\" title='\"고통스러운 죽음의 악몽…기댈 곳이 없다\" 유럽의 절규, 이탈리아 코로나 1만명·스페인 5000명 사망'>\"고통스러운 죽음의 악몽…기댈 곳이 없다\" 유럽의 절규, 이탈리아 코로나 1만명·스페인 5000명 사망</a>,\n",
       " <a class=\"nclicks(rig.rankwor)\" href=\"/main/ranking/read.nhn?mid=etc&amp;sid1=111&amp;rankingType=popular_day&amp;oid=022&amp;aid=0003451476&amp;date=20200329&amp;type=1&amp;rankingSeq=5&amp;rankingSectionId=104\" title=\"코로나19 사태 직전 지난해 10월 中우한서 무슨 일이?\">코로나19 사태 직전 지난해 10월 中우한서 무슨 일이?</a>,\n",
       " <a class=\"nclicks(rig.rankwor)\" href=\"/main/ranking/read.nhn?mid=etc&amp;sid1=111&amp;rankingType=popular_day&amp;oid=009&amp;aid=0004546125&amp;date=20200328&amp;type=1&amp;rankingSeq=6&amp;rankingSectionId=104\" title=\"`거대한 장례식` 이탈리아, 31일 전국 조기게양…화장터 모자라 軍트럭으로 시신 옮겨\">`거대한 장례식` 이탈리아, 31일 전국 조기게양…화장터 모자라 軍트럭으로 시신 옮겨</a>,\n",
       " <a class=\"nclicks(rig.rankwor)\" href=\"/main/ranking/read.nhn?mid=etc&amp;sid1=111&amp;rankingType=popular_day&amp;oid=025&amp;aid=0002988327&amp;date=20200329&amp;type=1&amp;rankingSeq=7&amp;rankingSectionId=104\" title='\"감염자 적은 日, 숨기는 거냐 기적이냐\"...돌직구에 쩔쩔 맨 아베'>\"감염자 적은 日, 숨기는 거냐 기적이냐\"...돌직구에 쩔쩔 맨 아베</a>,\n",
       " <a class=\"nclicks(rig.rankwor)\" href=\"/main/ranking/read.nhn?mid=etc&amp;sid1=111&amp;rankingType=popular_day&amp;oid=008&amp;aid=0004385131&amp;date=20200329&amp;type=1&amp;rankingSeq=8&amp;rankingSectionId=104\" title='최다 감염국 된 미국서도 \"마스크 쓰자\" 목소리'>최다 감염국 된 미국서도 \"마스크 쓰자\" 목소리</a>,\n",
       " <a class=\"nclicks(rig.rankwor)\" href=\"/main/ranking/read.nhn?mid=etc&amp;sid1=111&amp;rankingType=popular_day&amp;oid=047&amp;aid=0002263518&amp;date=20200329&amp;type=1&amp;rankingSeq=9&amp;rankingSectionId=104\" title='마트엔 쌀이 없고 시부야엔 사람이 없다... \"이런 도쿄는 처음\"'>마트엔 쌀이 없고 시부야엔 사람이 없다... \"이런 도쿄는 처음\"</a>,\n",
       " <a class=\"nclicks(rig.rankwor)\" href=\"/main/ranking/read.nhn?mid=etc&amp;sid1=111&amp;rankingType=popular_day&amp;oid=009&amp;aid=0004546128&amp;date=20200328&amp;type=1&amp;rankingSeq=10&amp;rankingSectionId=104\" title=\"[종합] `45분→30분→5분`··美FDA, 코로나 신속진단기 연달아 긴급승인\">[종합] `45분→30분→5분`··美FDA, 코로나 신속진단기 연달아 긴급승인</a>,\n",
       " <a class=\"nclicks(rig.ranksci)\" href=\"/main/ranking/read.nhn?mid=etc&amp;sid1=111&amp;rankingType=popular_day&amp;oid=018&amp;aid=0004607969&amp;date=20200329&amp;type=1&amp;rankingSeq=1&amp;rankingSectionId=105\" title=\"한국 제안 ‘유전자증폭 검사법’ 국제표준 눈앞…진단키트 수출↑\">한국 제안 ‘유전자증폭 검사법’ 국제표준 눈앞…진단키트 수출↑</a>,\n",
       " <a class=\"nclicks(rig.ranksci)\" href=\"/main/ranking/read.nhn?mid=etc&amp;sid1=111&amp;rankingType=popular_day&amp;oid=001&amp;aid=0011506374&amp;date=20200329&amp;type=1&amp;rankingSeq=2&amp;rankingSectionId=105\" title=\"[5G상용화 1년] ① 가입자 500만 돌파…여전히 갈 길 먼 '5G 시대'(종합)\">[5G상용화 1년] ① 가입자 500만 돌파…여전히 갈 길 먼 '5G 시대'(종합)</a>,\n",
       " <a class=\"nclicks(rig.ranksci)\" href=\"/main/ranking/read.nhn?mid=etc&amp;sid1=111&amp;rankingType=popular_day&amp;oid=009&amp;aid=0004545995&amp;date=20200328&amp;type=1&amp;rankingSeq=3&amp;rankingSectionId=105\" title=\"[이기자의 유레카!] 에볼라 치료제 vs 말라리아 치료제…누가 코로나19를 잡을까?\">[이기자의 유레카!] 에볼라 치료제 vs 말라리아 치료제…누가 코로나19를 잡을까?</a>,\n",
       " <a class=\"nclicks(rig.ranksci)\" href=\"/main/ranking/read.nhn?mid=etc&amp;sid1=111&amp;rankingType=popular_day&amp;oid=277&amp;aid=0004651350&amp;date=20200329&amp;type=1&amp;rankingSeq=4&amp;rankingSectionId=105\" title=\"천식치료제로 '코로나19' 잡는다.. 임상돌입\">천식치료제로 '코로나19' 잡는다.. 임상돌입</a>,\n",
       " <a class=\"nclicks(rig.ranksci)\" href=\"/main/ranking/read.nhn?mid=etc&amp;sid1=111&amp;rankingType=popular_day&amp;oid=081&amp;aid=0003077800&amp;date=20200329&amp;type=1&amp;rankingSeq=5&amp;rankingSectionId=105\" title=\"인간 수명 한계 없앨까…미 연구진 114세 세포를 ‘아기 수준’으로 바꿔\">인간 수명 한계 없앨까…미 연구진 114세 세포를 ‘아기 수준’으로 바꿔</a>,\n",
       " <a class=\"nclicks(rig.ranksci)\" href=\"/main/ranking/read.nhn?mid=etc&amp;sid1=111&amp;rankingType=popular_day&amp;oid=006&amp;aid=0000101862&amp;date=20200329&amp;type=1&amp;rankingSeq=6&amp;rankingSectionId=105\" title=\"토마토로 통일 설명했더니 200만명 봤다\">토마토로 통일 설명했더니 200만명 봤다</a>,\n",
       " <a class=\"nclicks(rig.ranksci)\" href=\"/main/ranking/read.nhn?mid=etc&amp;sid1=111&amp;rankingType=popular_day&amp;oid=092&amp;aid=0002184603&amp;date=20200329&amp;type=1&amp;rankingSeq=7&amp;rankingSectionId=105\" title=\"코로나19 진단키트 기법 국제표준 한국이 주도\">코로나19 진단키트 기법 국제표준 한국이 주도</a>,\n",
       " <a class=\"nclicks(rig.ranksci)\" href=\"/main/ranking/read.nhn?mid=etc&amp;sid1=111&amp;rankingType=popular_day&amp;oid=023&amp;aid=0003518808&amp;date=20200329&amp;type=1&amp;rankingSeq=8&amp;rankingSectionId=105\" title=\"[사이언스 카페]'712명 감염' 일본 크루즈선, 코로나 비밀이 담겨있다\">[사이언스 카페]'712명 감염' 일본 크루즈선, 코로나 비밀이 담겨있다</a>,\n",
       " <a class=\"nclicks(rig.ranksci)\" href=\"/main/ranking/read.nhn?mid=etc&amp;sid1=111&amp;rankingType=popular_day&amp;oid=020&amp;aid=0003277829&amp;date=20200328&amp;type=1&amp;rankingSeq=9&amp;rankingSectionId=105\" title=\"NK세포 활용해 ‘사이토카인 폭풍’ 등 과면역 반응 억제\">NK세포 활용해 ‘사이토카인 폭풍’ 등 과면역 반응 억제</a>,\n",
       " <a class=\"nclicks(rig.ranksci)\" href=\"/main/ranking/read.nhn?mid=etc&amp;sid1=111&amp;rankingType=popular_day&amp;oid=015&amp;aid=0004314760&amp;date=20200329&amp;type=1&amp;rankingSeq=10&amp;rankingSectionId=105\" title=\"'V' 국내 미출시 이어 8년만에 'G'도 뗀다…LG 스마트폰 대수술\">'V' 국내 미출시 이어 8년만에 'G'도 뗀다…LG 스마트폰 대수술</a>]"
      ]
     },
     "execution_count": 73,
     "metadata": {},
     "output_type": "execute_result"
    }
   ],
   "source": [
    "url = 'https://news.naver.com/'\n",
    "response = urllib.request.urlopen(url)\n",
    "soup = BeautifulSoup(response, 'html.parser')\n",
    "\n",
    "results = soup.select('.section_list_ranking li a')\n",
    "# <ul class=\"section_list_ranking\">의 li태그 아래 a태그\n",
    "results"
   ]
  },
  {
   "cell_type": "code",
   "execution_count": 80,
   "metadata": {
    "collapsed": true,
    "jupyter": {
     "outputs_hidden": true
    }
   },
   "outputs": [
    {
     "name": "stdout",
     "output_type": "stream",
     "text": [
      "제목 :  文 “천안함 北소행” 이틀 뒤, 北 발사체 쐈다···추가도발 우려\n",
      "제목 :  文 “천안함 北소행” 이틀 뒤, 北 발사체 쐈다···추가도발 우려\n",
      "링크 :  /main/ranking/read.nhn?mid=etc&sid1=111&rankingType=popular_day&oid=025&aid=0002988332&date=20200329&type=1&rankingSeq=1&rankingSectionId=100\n",
      "\n",
      "이달 들어 4번째 단거리 발사체 도발지난해부터 개발한 무기 차츰 전력화한국과 미국을 노린 추가 도발 우려북한이 29일 단거리 탄도미사일로 보이는 발사체 2발을 쐈다. 문재인 대통령이 지난 27일 ‘서해수호의 날’ 기념식에서 천안함 폭침에 대해 “북한 소행이란 게 정부 입장”이라고 밝힌 뒤 이틀 만이다.  지난 21일 김정은 북한 국무위원장이 지켜보는 가운데 북한은 전술유도무기라 부르는 북한판 에이태큼스(ATACMSㆍ19-4) 2발을 사격했다. [사진 조선중앙통신]   합동참모본부에 따르면 북한은 이날 오전 6시 10분쯤 강원도 원산 일대에서 2발의 발사체를 쐈다. 발사체는 최대 고도 30㎞를 찍은 뒤 230㎞를 날아 동해 북동쪽에 떨어졌다. 일본은 자국의 배타적경제수역(EEZ) 밖에 탄착했다고 발표했다.     미사일 전문가인 권용수 전 국방대 교수는 “고도와 사거리로 보면 지난해 북한이 발사한 신형 대구경조종방사포(19-3) 또는 북한판 에이태큼스(ATACMSㆍ19-4)와 비슷하다”고 말했다. 한ㆍ미 군 당국은 발사체의 제원을 정밀 분석 중이다.       북한은 이달 들어 4번째 단거리 발사체 도발을 이어가고 있다. 지난 2, 9일과 21일에 각각 초대형 방사포(19-5)와 북한판 에이태큼스로 추정하는 단거리 발사체를 사격했다. 한ㆍ미를 비롯한 전 세계가 신종 코로나바이러스 감염증(코로나19)을 막는 데 여념이 없을 때 북한은 전술 무기를 계속 시험하고 있다. 북한군 내부에서도 코로나19 사망자가 100명이 넘었다는 보도(일본 요미우리 신문)가 나오고 있는 상황이다.     정부 소식통은 “당초 한ㆍ미는 북한에서 코로나19가 급속도로 확산하고 있다는 정보 판단을 내렸는데 북한이 다음 달 10일 평양에서 최고인민회의 제14기 제3차 회의를 연다고 하자 이같은 정보 판단이 흔들리고 있다”면서 “이날 발사가 코로나19에 대한 내부 불만을 잠재우려는 차원인지, 아니면 코로나19를 확실히 잡았다고 알리려는 의도인지 한ㆍ미가 파악하고 있다”고 귀띔했다.  북한 단거리 탄도미사일(추정) 발사. 그래픽=김주원 기자 zoom@joongang.co.kr   권용수 전 교수는 “김정은 북한 국무위원장은 2016년 ‘4대 강군화 노선’을 발표하면서 ‘전법 강군화’와 ‘다병종 강군화’를 제시했다”면서 “이에 따라 북한은 2017년까지 미국을 상대로 하는 전략 무기(중ㆍ장거리탄도미사일)에 치중했다면, 지난해부터는 한국을 노리는 전술 무기(단거리 발사체)에 집중 투자하고 있다”고 설명했다. 지난해 12차례 시험 발사했던 단거리 발사체를 올해 하나씩 전력화하는 과정이라는 뜻이다.     문제는 북한이 추가 도발을 감행할 가능성이 높다는 점이다. 차두현 아산정책연구원 수석연구위원은 “북한은 원래 이달 중 3~4차례 중거리 탄도미사일을 발사해 미국을 협상장으로 끌어내려고 계획했을 것”이라면서 “코로나19로 도발 일정에 차질을 빚자, 수위를 낮춰 단거리 발사체로 협상의 저변을 쌓으려는 수법으로 보인다”고 말했다. 차두현 연구원은 “북한은 비슷한 수준의 도발을 계속할 것”이라고 예상했다.     류성엽 21세기군사연구소 전문연구위원은 “북한은 지난 1월 무력기관(인민군)의 지휘성원(지휘부)과 군단장을 해임 또는 전보해 새로 임명한 사실을 공개했다”면서 “조직을 정비하고 신무기를 개발하는 것은 전면전 능력을 키우려는 흐름”이라고 분석했다. 류 전문연구위원은 “북한이 한국의 허점을 타격하는 도발을 계획할 가능성이 있다”고 우려했다.     이철재·박용한 기자 seajay@joongang.co.kr  ▶ 그래서, 팩트가 뭐야? 궁금하면 '팩플'▶ 내 돈 관리는 '그게머니' / 중앙일보 가기ⓒ중앙일보(https://joongang.co.kr), 무단 전재 및 재배포 금지\n",
      "\n",
      "제목 :  김종인 \"이런 나라 두 번 겪으면 큰일 난다\"\n",
      "제목 :  김종인 \"이런 나라 두 번 겪으면 큰일 난다\"\n",
      "링크 :  /main/ranking/read.nhn?mid=etc&sid1=111&rankingType=popular_day&oid=023&aid=0003518867&date=20200329&type=1&rankingSeq=2&rankingSectionId=100\n",
      "\n",
      "32세 김재섭 후보 출정식 참석\"지난 3년 이 정부가 뭘했는지 잘 알아\"김종인 미래통합당 선거대책위원장이 “이런 ‘한 번도 겪어보지 않은 나라’를 두 번 다시 겪으면 큰일 나는 것이 일반 국민들의 심정”이라며 현 정부를 비판했다.미래통합당 김종인 총괄선대위원장/연합뉴스김 위원장은 29일 오전 김재섭(32) 도봉갑 국회의원 후보의 출정식에 격려차 방문해 “우리는 지난 3년 동안 이 정부가 뭘 했는지를 누구보다 잘 안다”며 이 같이 밝혔다.그는 “잘 아시다시피 우리나라는 지금 어려운 지경”이라며 “코로나 바이러스로 인해 모든 상황이 정지 상태에 있다. 앞으로 이를 극복하고 어떤 과제가 닥칠지 아무도 예측할 수 없다”고 우려했다.자신이 공동 후원회장을 맡고 있는 김재섭 후보에 대해서는 “두 달 전 김 후보가 나를 찾아왔을 때 정치에 뜻이 있으면 젊은 나이에 빨리 용기를 갖고 시작을 해보라고 했다”며 “앞으로 미래를 짊어지고 갈 젊은 정치인을 도봉갑구에서 새로 탄생시켜, 김재섭 후보로 하여금 우리나라의 정치 자질을 갖추고 발전할 수 있는 인물로 도봉구에서 만들어주시라 당부 드린다”고 지지를 호소했다.김 위원장과 공동 후원회장을 맡고 있는 정병국 의원도 참석해 “김 위원장께서 중앙선대위 일정이 시작되는 날 수많은 후보 중 김 후보를 찾아왔다는 것은 그만큼 기대가 큰 것”이라고 했다.한편 김 위원장은 이날 오후 2시쯤 국회에서 ‘비상경제대책 기자회견’을 열어 총괄선대위원장으로서 첫 일정을 시작한다. 김 위원장은 이 자리에서 통합당의 경제 총선 공약 골격을 공개할 것으로 보인다.[최은경 기자 gang@chosun.com]\t[네이버 메인에서 조선일보 받아보기]\t[조선닷컴 바로가기]\t[조선일보 구독신청하기] \t- Copyrights ⓒ 조선일보 & chosun.com, 무단 전재 및 재배포 금지 -\n",
      "\n",
      "제목 :  이재명, 진중권에 \"조국 향한 마녀사냥ㆍ인권침해 그만하라\"\n",
      "제목 :  이재명, 진중권에 \"조국 향한 마녀사냥ㆍ인권침해 그만하라\"\n",
      "링크 :  /main/ranking/read.nhn?mid=etc&sid1=111&rankingType=popular_day&oid=001&aid=0011506411&date=20200329&type=1&rankingSeq=3&rankingSectionId=100\n",
      "\n",
      "진 \"조국 더 파렴치한 일도 있었다\" 주장에 \"선 넘지 말라\" 반박(수원=연합뉴스) 김경태 기자 = 이재명 경기도지사는 29일 진중권 전 동양대 교수를 향해 \"조국 전 법무부장관에 대한 마냥사냥과 인권침해를 그만해 달라\"고 말했다.이재명 경기도지사[경기도 제공]    이 지사는 29일 페이스북에 올린 글에서 \"조 전 장관이 검찰 수사 과정에서 당하지 않아도 될 잔인한 인신공격과 마녀사냥을 당한 것은 부인할 수 없다\"며 이같이 밝혔다.     이 지사의 이 글은 27일 진 전 교수가 \"(조 전 장관과 부인 정경심씨에 대해) 내가 말을 안 해서 그렇지, 그보다 더 파렴치한 일도 있었다\"고 한 데 대한 반박 형식이다.    그는 \"어디서 들은 말인지는 몰라도 구체적 근거도 없이 더 파렴치한 일도 있었다는 진 교수의 주장은 그야말로 마녀사냥의 연장이자 인권침해\"라고 했다.    또 \"조 전 장관과 관련된 진실은 저도 진 교수도 정확히 알지 못하고 유무죄는 법원이 판단할 것\"이라며 \"무죄추정원칙은 차치하고라도 흉악범조차 헌법이 보장하는 최소한의 인권이 있다\"고 말했다.    진 전 교수가 \"민주당이 이번 총선에서 크게 이기고, 조국 수호대들이 민주당에 합류하면 조국 복권운동이 일어날 수 있다\"고 주장한 데 대해서는 \"총선에서 민주당이 100% 이긴다고 한들 총선 후라면 1심도 채 끝나지 않을 터인데 무슨 수로 치열한 법정공방 도중에 형이 확정돼야 가능한 복권을 논의한다는 말이냐\"고 따졌다.진중권 전 교수[연합뉴스 자료사진. 재판매 및 DB 금지]    이 지사는 \"쓰러진 사람에게 발길질하는 것 같은 진 교수의 말이 참 불편하다\"며 \"뭔가에 쫓기시는 것 같은 느낌을 지울 수 없는데, 할 일에 집중하고 누군가를 공격하더라도 선을 넘지 말았으면 좋겠다\"고도 했다.[이재명 지사 페이스북 갈무리]    이 지사의 조 전 장관 옹호 글은 지난해 8월 조 전 장관의 장관 후보 검증을 앞둔 시점에 불거진 각종 의혹과 이를 둘러싼 논란과 관련해 \"마녀사냥을 그만하고 청문회를 통한 후보자 검증이 필요하다\"는 의견을 페이스북을 통해 밝힌 뒤 처음이다.    ktkim@yna.co.kr▶코로나19 속보는 네이버 연합뉴스에서 [구독 클릭]▶[팩트체크] 텔레그램 '성범죄' 사실은 이렇습니다▶제보하기\n",
      "\n",
      "제목 :  유승민 \"제가 원조친박…계파 따지지 않고 어떤 후보든 돕겠다\"\n",
      "제목 :  유승민 \"제가 원조친박…계파 따지지 않고 어떤 후보든 돕겠다\"\n",
      "링크 :  /main/ranking/read.nhn?mid=etc&sid1=111&rankingType=popular_day&oid=001&aid=0011506578&date=20200329&type=1&rankingSeq=4&rankingSectionId=100\n",
      "\n",
      "지상욱 선거사무소 방문…\"황교안 만날 수 있다\"민현주 공천 번복엔 \"안타까운 부분…공천 잘잘못 선거 전 언급 않겠다\" 지상욱 지지 방문한 유승민    (서울=연합뉴스) 진성철 기자 = 미래통합당 유승민 의원(왼쪽)이 29일 서울 중구 다산로에 마련된 통합당 중구성동을 지상욱 국회의원 후보 선거사무소를 찾아 지 후보와 파이팅하며 기념촬영하고 있다.  2020.3.29    zjin@yna.co.kr(끝)    (서울=연합뉴스) 이동환 기자 = 미래통합당 유승민 의원은 29일 4·15 총선에서 서울 종로에 출마하는 황교안 대표와 관련, \"자연스럽게 기회가 있으면 만날 수 있다. 수도권 후보를 현장에서 만나는 게 제가 기여할 수 있는 일\"이라며 선거 지원 가능성을 시사했다.     유 의원은 이날 서울 중구·성동을에 출마한 유승민계 지상욱 의원의 선거사무소를 방문한 뒤 기자들과 만나 \"황 대표와 마지막으로 전화든 문자든 주고받은 게 2월 9일 (합당 및 불출마) 기자회견 직전이었다. 신당 선거전략 등에 대해 진솔한 대화를 하고 있었는데 그때 만남이 불발됐다\"며 이같이 말했다.     옛 새로운보수당과 자유한국당과의 통합 및 총선 불출마 선언 이후 잠행해온 유 의원은 이달 26일 천안함 피격 10주기 추모식 참석으로 활동을 재개했다. 27일에는 자신과 가까운 진수희(서울 중구·성동갑) 후보 캠프도 찾았다.    유 의원은 \"천안함 추모식에 가며 제가 부족하고 저를 싫어하시는 보수층 유권자도 계시지만 조금이라도 도움이 된다면, 특히 수도권에서 도움을 요청하는 후보께는 어떻게든 시간을 내 원하는 방식으로 도와드리겠다고 결심했다\"고 활동 재개의 배경을 설명했다.    이어 \"현재 수도권 수십군데에서 지원 요청이 오는 상황이라 날짜를 잡고 있다. 옛 한국당에 계셨던 분들도 있다\"며 \"제가 원조친박(친박근혜)으로 분류되는 사람이다. 계파를 따지지 않고 어떤 후보든 돕겠다\"고 말했다.미래통합당 유승민 의원이 보수통합 이후 침묵을 깨고 지난 3월 27일 서울 중구 ·성동갑에 출마하는 통합당 진수희 후보 선거사무실을 방문, 대화하고 있다 [진수희 후보측 제공. 재판매 및 DB 금지]     유 의원은 이날 통합당에 공식 합류하는 김종인 신임 총괄선대위원장에 대해 \"늦었지만 전적으로 환영한다\"며 \"수도권이 가장 중요한 승부처이니 압승하도록 중요한 비전이나 정책 메시지를 내주시기를 기대한다\"고 말했다.    수도권 선거대책위원장을 맡을 의향에 대해선 \"지금 그럴 생각은 전혀 없다\"며 \"이전에 중앙당 공동선대위원장 제안을 간접적으로 들었지만 바로 고사했다\"고 선을 그었다.     4차례 재논의 끝에 인천 연수을 공천에서 탈락한 유승민계 민현주 전 의원에 대한 질문을 받고는 \"굉장히 안타까운 마음으로 봤다\"면서도 \"공천 과정의 잘잘못은 선거가 끝날 때까지 절대 입 밖에 내지 않겠다\"고 했다.     다만 그는 \"(잠행한) 46일 동안 입을 다물고 있었던 것은 할 말이 없어서가 아니다\"라며 \"상처가 잘 아물고 통합이 잘 돼 새 보수정당의 모습으로 나타나길 기대했고, 일정 부분 그런 성과가 공천과정에서 있었을 거라 생각한다\"고 언급했다.    합당 이후 고용 승계가 원활히 이뤄지지 않고 있는 옛 새보수당 당직자에 대해서도 \"선거가 끝나고 당 지도부에 다시 정식으로 문제제기를 하겠다\"고 말했다.    유 의원은 이날 지 후보 격려 발언을 통해 \"과거의 분열과 갈등에 대해 욕하고 싶은 게 있으면 저 유승민한테 욕을 하시고 저를 비난하셔도 좋다. 제가 그런 의미에서 불출마했고, 통합해 이번 선거로 나라를 바로잡는 뜻을 따르겠다고 했다\"며 옛 한국당 당원들에게 '화학적 결합'을 호소했다.     banghd@yna.co.kr▶코로나19 속보는 네이버 연합뉴스에서 [구독 클릭]▶[팩트체크] 텔레그램 '성범죄' 사실은 이렇습니다▶제보하기\n",
      "\n",
      "제목 :  미래한국당 막판 의원꿔오기로 보조금 55억 급증…여상규ㆍ박맹우ㆍ백승주 이적\n",
      "제목 :  미래한국당 막판 의원꿔오기로 보조금 55억 급증…여상규ㆍ박맹우ㆍ백승주 이적\n",
      "링크 :  /main/ranking/read.nhn?mid=etc&sid1=111&rankingType=popular_day&oid=025&aid=0002988329&date=20200329&type=1&rankingSeq=5&rankingSectionId=100\n",
      "\n",
      "여상규 미래통합당 의원이 1월 국회 정론관에서 불출마 기자회견을 하고 있다. 여 의원은 미래통합당의 비례대표용 정당인 미래한국당으로 30일 이적할 예정이다. 임현동 기자   미래통합당 의원 3명(여상규ㆍ박맹우ㆍ백승주)이 비례대표 전담 정당인 미래한국당으로 이적한다. 미래한국당은 29일 보도자료를 내고 “세 분의 의원이 30일 오전 10시30분까지 입당하겠다는 의사를 밝혀줬다”고 전했다. 셋 다 지역구 의원이다 보니 당에서 제명당한 뒤 이적했던 비례대표 의원들과 달리 통합당을 자진 탈당한 다음 미래한국당으로 옮겨가는 수순을 밟게 된다.     이들 3명이 이적을 마치게 되면 미래한국당은 20석을 확보, 원내교섭단체를 구성하게 된다. 29일 기준 원내교섭단체는 더불어민주당, 미래통합당, 민생당, 등 3개 정당이다. 여기에 미래한국당이 추가되는 것이다.     30일 지급되는 미래한국당 선거보조금도 훌쩍 뛴다. 당초 25억원 가량에서 80억원 안팎으로 55억원 정도 더 챙길 수 있을 전망이다. 정치자금법이 선거보조금 총액(440억원) 중 절반인 220억원은 교섭단체들끼리 우선 나누도록 규정하고 있어서다.     이번에 이적하는 의원 셋이 4·15 총선에 나서지 않는 배경은 제각각이다. 최다선인 3선의 여상규(사천-남해-하동) 의원은 1월 일찌감치 불출마를 선언했다. 재선 박맹우(울산 남을) 의원은 김기현 전 울산시장과의 통합당 경선에서 져 공천을 받지 못했고, 초선 백승주(구미갑) 의원은 공천에서 배제됐다.     한편 미래한국당은 이번주 초 선거대책위원회를 공식 출범하고 이들에게 역할을 맡길 예정이다. 여 의원은 선대위 상임고문을, 박 의원은 총괄선대본부장을, 백 의원은 공동선대위원장을 각각 맡게 된다. 원유철 미래한국당 대표는 “세 분을 선대위 요직에 모시게 돼 든든하다”며 “세 분 외에도 3~4명의 의원이 더 합류할 것으로 기대하고 있다”고 말했다.     한영익 기자 hanyi@joongang.co.kr류  ▶ 그래서, 팩트가 뭐야? 궁금하면 '팩플'▶ 내 돈 관리는 '그게머니' / 중앙일보 가기ⓒ중앙일보(https://joongang.co.kr), 무단 전재 및 재배포 금지\n",
      "\n",
      "제목 :  [속보]신규 확진 105명 중 해외유입 41명...전체 39%\n",
      "제목 :  [속보]신규 확진 105명 중 해외유입 41명...전체 39%\n",
      "링크 :  /main/ranking/read.nhn?mid=etc&sid1=111&rankingType=popular_day&oid=014&aid=0004398257&date=20200329&type=0&rankingSeq=6&rankingSectionId=100\n",
      "\n",
      "[파이낸셜뉴스]  junjun@fnnews.com 최용준 기자▶ 헉! 소리나는 스!토리 뉴스 [헉스]▶ '아는 척'하고 싶은 당신을 위한 [두유노우]▶ 한눈에 보는 [4·15총선 NEWS MAP]※ 저작권자 ⓒ 파이낸셜뉴스. 무단 전재-재배포 금지\n",
      "\n",
      "제목 :  코로나 19 역풍에 미래통합당 비틀거리다\n",
      "제목 :  코로나 19 역풍에 미래통합당 비틀거리다\n",
      "링크 :  /main/ranking/read.nhn?mid=etc&sid1=111&rankingType=popular_day&oid=028&aid=0002491274&date=20200329&type=1&rankingSeq=7&rankingSectionId=100\n",
      "\n",
      "성한용 선임기자의 정치 막전막후 314사태 초기 ‘우한 폐렴’ ‘북한식 배급제’ 색깔론3월 들어 전 세계 확산되며 총선 민심 뒤집혀문재인 대통령 직무수행 긍정 평가 상승 추세당황한 황교안 대표 최근 우왕좌왕 기색 역력선거 직전까지 바람 방향 순식간에 바뀔 수도막판 민심 변화 예측 불가능···오만하면 ‘끝장’역풍으로 승패 뒤집힌 역대 선거 역사1988년 5공 회귀 우려 역풍 여소야대1992년 3당 합당 역풍 불어 과반미달2000년 남북정상회담 전격 발표 역풍2004년 노무현 대통령 탄핵소추 역풍2010년 지방선거 천안함 발표도 역풍2012년 서울시장 재보선 디도스 역풍2016년 야권분열 새누리당 공천 역풍황교안 미래통합당 대표가 지난 2월 26일 종로에서 방역 봉사활동을 벌이고 있다. 황교안 예비후보 선거캠프 제공4·15 21대 국회의원 총선거는 문재인 대통령 취임 3년 시점에 치르는 선거입니다. 당연히 정권 심판 선거가 될 가능성이 컸습니다.이른바 보수는 일찌감치 황교안 대표가 이끄는 자유한국당과 바른미래당의 유승민 세력, 그리고 안철수 전 의원까지 끌어들이면 선거에서 이길 수 있다고 계산했던 것 같습니다. 2017년 대선 결과를 보면 꽤 일리가 있는 생각입니다.대선후보 득표율은 문재인 41.08%, 홍준표 24.03%, 안철수 21.41%, 유승민 6.76%, 심상정 6.17%였습니다. 홍준표-안철수-유승민 세 후보의 득표율을 합치면 50%가 넘습니다.이른바 보수는 우여곡절 끝에 황교안-유승민-안철수의 ‘반문재인 통합 및 연대’를 성사시켰습니다.중국 우한에서 시작된 ‘신종 코로나바이러스 감염증’(코로나 19)이 국내에 유입되어 퍼진 것은 때마침 보수통합이 진전을 보이던 1월과 2월이었습니다.코로나 상륙 소식에 자유한국당 사람들의 눈빛에 생기가 돌기 시작했습니다. “보수통합과 우한폐렴으로 이번 선거는 끝났다”고 말하는 사람들이 나타났습니다.황교안 자유한국당 대표와 박형준 혁신통합추진위원회 위원장 등이 1월 31일 오후 국회 의원회관에서 열린 혁신통합추진위원회 제1차 대국민 보고대회에서 구호를 외치고 있다. 앞줄 왼쪽부터 장기표 국민의 소리 창당준비위원장, 이언주 미래를 향한 전진4.0 대표, 황 대표, 새로운보수당 하태경 책임대표, 박 위원장. 김경호 선임기자 jijae@hani.co.kr1월~2월 코로나 19 및 야당 동향1월 20일 신종 코로나바이러스 확진증 국내 첫 환자 발생1월 27일 자유한국당 전문가 간담회(황교안 대표 참석)1월 31일 혁신통합추진위원회 1차 국민보고대회2월 5일 비례 위성정당 미래한국당 창당대회2월 10일 자유한국당 ‘우한 폐렴’ 대책 긴급 토론회(심재철 원내대표 참석)2월 12일 정부, 세계보건기구 결정에 따라 ‘코로나 19’로 명명2월 17일 신설 합당 미래통합당 출범2월 18일 대구 31번째 확진자 발생2월 19일 황교안 대표 ‘우한 폐렴’ 긴급 기자회견2월 28일 안철수 대표, 반문재인 야권연대 선언미래통합당 누리집황교안 대표는 ‘천재일우’의 기회를 놓치지 않았습니다. 최고위원회나 선거대책위원회 회의 때마다 문재인 정부의 방역 실패를 비판했습니다. 정부는 ‘신종 코로나바이러스 감염증’이라는 병명을 썼지만, 황교안 대표는 ‘우한 폐렴’이라는 병명을 사용했습니다.2월 12일 세계보건기구의 결정 이후 우리 정부와 대부분의 언론이 ‘코로나 19’라는 명칭을 사용하고 있는데도 황교안 대표는 지금까지 ‘우한 코로나’라는 명칭을 고집하고 있습니다.왜 그럴까요? 문재인 정부를 ‘친중국’-‘반미’-‘종북’이라는 색깔론 프레임에 가둬놓고 싶었기 때문일 것입니다. 미래통합당은 문재인 정부의 마스크 대책을 비판하며 “국민들 줄 세워 ‘북한식 배급제’까지!!”라는 자극적 표현을 사용했습니다.미래통합당 누리집 3월 6일 카드뉴스 ※ 이미지를 누르면 크게 볼 수 있습니다.황교안 대표는 2월 19일 ‘우한 폐렴 긴급 기자회견’을 열었습니다. 문재인 대통령을 준열하게 꾸짖는 내용입니다. 회견 때의 당당한 표정을 보면 머릿속에 이번 총선은 물론이고 2년 뒤 대선 승리까지 어른거렸을지도 모르겠습니다.황교안 미래통합당 대표가 2월 19일 서울 여의도 국회에서 신종 코로나바이러스 감염증(코로나 19) 관련 긴급 기자회견을 하고 있다. 뉴시스“우한 폐렴 사태가 우려했던 상황으로 전개되고 있다. 오늘 하루에만 15명이나 되는 확진자가 무더기로 나왔다. 현재까지 모두 46명의 확진자가 나온 것이다. 우한 폐렴 사태가 걷잡을 수 없는 감염 확산 양상으로 흘러가고 있음을 보여주는 것이다. 특히 언제, 어디서, 어떻게 감염될지 종잡을 수 없다고 하는 사실 때문에 국민적 불안과 공포가 증폭되고 있다.”“문재인 대통령의 ‘머지않아 종식될 것’이라고 하는 이런 발언, 정말 섣부른 오판일 뿐만 아니라 사태 대응을 더 느슨하게 만든 원인으로 작용했다. 도대체 어떤 보고를 받고, 어떻게 판단을 했길래 그런 성급한 발언이 나왔는지 국민 앞에 자세히 설명을 해야 한다. 그래야 다시는 그와 같은 실수를 반복하지 않게 될 것이다.”“이제는 더 이상 입국 제한을 미룰 수 없다. 중국 전역 방문 외국인의 입국 제한 조치를 즉각 강화하시라. 뿐만 아니라 지역사회 감염이 발생한 제3국으로부터의 입국도 강력히 제한해야 한다.”“가장 경계해야 할 일은 바로 안일한 낙관론이다. 최근 대통령은 물론이고, 여당에서도 뚜렷한 근거도 없이 우한 폐렴에 따른 경제 침체만을 의식해서 조급한 태도를 보였다. 불안을 과도하게 확산시키는 이런 것도 부적절하지만, 그렇다고 국민의 주의 심리 자체를 떨어뜨리는 것 또한 적절치 않다.사태를 있는 그대로 직시하고, 그에 걸맞은 총력 대응에 나서야 한다. 사태를 과소평가하는 정부의 모습이 오히려 국민의 불신과 불안을 키우고 있다. 지금이라도 초기 대응과 감염자 관리 실패를 되돌아보고 그리고 지역사회 단위의 세밀한 대책을 마련해야 한다.”그러나 사태는 황교안 대표와 미래통합당, 그리고 이른바 보수 세력이 희망하는 대로 흘러가지 않았습니다. 코로나 19는 3월로 넘어가면서 전 세계로 급속히 퍼졌고 유럽과 미국에서 확진자와 사망자가 쏟아지기 시작했습니다.문재인 정부 초기 방역 정책에 비판적이던 여론은 중국 입국자를 일찌감치 차단했던 나라에서 코로나 19가 대규모로 확산하는 장면을 생생하게 목격하고 난 뒤에야 우리나라 방역 정책이 잘못된 것이 아님을 알게 됐습니다. 중국 입국자 전면 차단을 요구하며 정부 비판에만 지나치게 몰두했던 야당과 이른바 보수 언론의 의도가 무엇인지도 새삼 깨닫게 됐습니다.3월 27일 발표한 한국갤럽 여론조사에서는 문재인 대통령 직무수행 긍정 평가가 6%포인트 상승한 55%로, 부정 평가는 3%포인트 하락한 39%로 나타났습니다. 정당 지지도는 더불어민주당 37%, 미래통합당 22%로 격차가 여전한 것으로 나타났습니다.(중앙선거여론조사심의위원회 누리집 참고)한국갤럽 대통령 직무수행 평가 ※ 이미지를 누르면 크게 볼 수 있습니다.한국갤럽 정당 지지도 ※ 이미지를 누르면 크게 볼 수 있습니다.민심이 심상치 않게 흘러가자 황교안 대표와 미래통합당은 당황하기 시작했습니다. 황교안 대표는 주말인 3월 28일 페이스북에 이런 내용의 글을 올렸습니다.징비록 2020을 만들겠습니다우한 코로나의 불안과 위기 속에서 살아가는 생활이 표준이 된 대한민국. 하지만 이 불안과 위기를 극복해 나가자는 우리 국민들의 높은 시민 의식은 세계 시민 의식의 표준이 되고 있습니다.정부의 대구 봉쇄 조치가 무안할 정도로 대구 시민들 스스로 자발적 격리 운동을 하였고, 정부의 사회적 거리 두기 강화 방침이 무색할 정도로 시민들이 스스로 모임 활동을 자제하고 있습니다. 종교계도 마찬가지입니다. 모든 신도들이 이 선의의 시민운동에 적극적으로 동참하고 있습니다. 하지만 종교계가 전혀 협조하지 않은 것처럼, 마치 교회에 집단 감염의 책임이 있는 것처럼, 신천지 여론을 악용해 종교를 매도하는 것은 잘못된 처사입니다.문제는 신천지입니다. 신천지와 교회는 다릅니다. 교회 내에서 감염이 발생된 사실도 거의 없다고 합니다. 시민의 마음을 모르는 것은 진영 논리에 스스로 봉쇄된 정치꾼과 그 광신도뿐입니다. 그리고 안전보다 중국이 먼저를 외친 무능한 문재인 정권입니다. 이들은 대구 시민들을 폄훼하고 조롱하고 코로나로 야기된 사회적 분노를 이용해 선의의 피해자를 만들고 있습니다.마스크를 벗고 시민의 미소를 볼 수 있는 날. 우리 시민들은 이 정권의 무능과 야바위 정치꾼들을 기록하고 징비(懲毖)할 것입니다. 국민과 함께 징비록 2020을 만들겠습니다.신천지와 교회는 다르다는 얘기를 하고 싶었던 것 같습니다. 그런데 아직도 ‘우한 코로나’라는 명칭을 고집하며 정부가 대구를 봉쇄했다는 이상한 주장을 하고 있습니다. 교회 내 감염이 거의 없다는 주장도 사실이 아닙니다. 누구나 당황하면 헛발질을 하게 되어 있습니다. 한 달 전 ‘우한폐렴 긴급 기자회견’ 때와는 전혀 다른 모습입니다.박형준 공동선대위원장은 3월 26일 중앙선거대책위원회에서 이런 말을 했습니다.“이 정권은 지금 코로나 위기를 오히려 정치적으로 올라타서 과거 지난 3년의 실정을 숨기려 하고 있다. 되돌아보시라. 지난 3년간 우리 외교가 성공했는가, 안보가 성공했는가, 경제가 성공했는가, 민생이 좋아졌는가. 어느 것 하나 좋아진 것이 없다. 나라가 흔들렸다. 엉뚱한 방향으로 가기도 했다.이 코로나 위기 이후에 더 큰 경제 위기가 닥친다고 세계 석학들이 다 경고를 하고 있다. 이 새로운 위기를 대응해서 정말 이 정권이 정신 못 차리고 과거 3년 동안 했던 그 정책을 계속한다면 우리 대한민국은 더 나락에 빠질 수가 있다.국민 여러분들께 호소드린다. 지난 3년의 실정 이대로 두고 보시겠는가. 절대 잊지 않으시기 바란다. 이번 총선이야말로 이 정권이 정신을 차리도록 하는 가장 중요한 기회라고 하는 것을 다시 한 번 말씀드리고 호소드린다.”코로나 19로 더이상 문재인 정부와 더불어민주당을 공격할 수 없게 되자 다시 정권심판론으로 방향을 돌리고 있는 것입니다. “보수통합과 우한폐렴으로 이번 선거는 끝났다”고 득의만만하던 야당 사람들이 지금은 뭐라고 할지 참 궁금합니다.1980년대 이후 우리나라 국회의원 총선거의 역사는 역풍으로 인한 이변의 역사였습니다. 집권 세력의 정치 기획은 실패했습니다. 민심은 언제나 반대로 움직였습니다.선거를 눈앞에 두고 국가적 현안이나 위기를 이용해 정치적 이득을 취하려 했던 세력은 여당이든 야당이든 실제 선거에서 민심의 준엄한 심판을 받았습니다. 역사를 살펴보겠습니다.쿠데타로 집권한 전두환 정권은 1980년 11월 정치풍토 쇄신을 위한 특별조치법을 제정해 기존 정치인들의 정치 활동을 금지했습니다. 4년이 지난 뒤 자신감이 붙은 전두환 정권은 ‘3차 해금 조치’로 정치 활동을 금지했던 정치인들의 출마를 부분적으로 허용했습니다. 김영삼-김대중-김종필 씨는 포함하지 않았습니다.그러나 1985년 2·12 12대 총선에서는 양 김 씨를 등에 업은 이민우 총재의 신민당이 ‘관제 야당’ 또는 ‘신군부 2중대’로 불리던 민한당을 밀어내고 제1야당으로 올라섰습니다. 전두환 정권의 정치 규제에 대한 역풍이 신민당 돌풍으로 나타난 것입니다.1988년 4·26 13대 총선은 노태우 대통령의 민정당이 압승할 것으로 예상한 사람이 많았습니다. <노태우 회고록>의 내용입니다.“민정당은 대통령 선거에서 승리한 여세를 몰아 총선에서도 압승할 것이라고 낙관했다.”“선거 기간 중 수시로 올라오는 관련 기관의 정보 보고서는 어김없이 3분의 2 내외의 압승을 거둘 것이라고 예상했다. 아무리 못해도 과반수는 문제없다는 것이었다.선거 결과는 너무나 의외였다. 지역구 총 224석 중 민정당 87석, 평민당 54석, 민주당 46석, 공화당 27석, 무소속 10석으로, 여당이 과반수에 훨씬 못 미치는 여소야대의 어려운 국면이 연출되고 말았다.우리 쪽은 말할 것도 없고 일부 언론과 국민들조차도 의아해할 정도의 참패였다. 나는 ‘원인 없는 결과 없다’고, 여당 측이 너무 과신하고 교만한 태도를 보였기 때문이라고 생각했다. 국민들은 그런 여당을 보면서 6공화국이 과거와 같은 체제로 회귀할 수도 있다고 우려했을지 모를 일이었다.”노태우 전 대통령의 진단은 정확했습니다. 1987년 12월 대통령 선거에서 나타났던 양 김 씨의 후보 단일화 실패와 노태우 대통령 당선에서 당시 국민은 전두환 정권으로의 회귀 가능성을 읽었습니다. 4개월 만에 강한 역풍이 불어닥친 이유입니다.비슷한 일은 1992년 14대 총선에서도 벌어졌습니다. 1992년 3·24 14대 총선은 민자당 압승이 예상됐습니다. 1990년 3당 합당으로 노태우-김영삼-김종필 세 사람이 손을 잡았기 때문입니다.여당이 개헌에 필요한 200석 이상을 확보할 것이라는 관측이 있었습니다. 민자당 내부에서 “너무 많이 이기는 것도 곤란하다”고 걱정하는 사람이 있었을 정도였습니다. 야당은 “개헌 저지선인 100석을 달라”고 읍소했습니다.선거 결과는 민자당 149석으로 과반 미달이었습니다. 무리한 3당 합당이 오히려 역풍을 불러일으켰던 것입니다.1996년 4·11 15대 총선을 앞두고는 반대로 야당이 이긴다는 전망이 우세했습니다. 1995년 지방선거에서 호남과 충청의 지역 바람을 타고 야당이 승리를 거뒀기 때문입니다. 김영삼 대통령은 당명을 민자당에서 신한국당으로 바꾸고 개혁 공천으로 맞섰습니다. 결과는 여당의 승리였습니다. ‘오만한 야당’을 견제하는 역풍이었습니다.2000년 4·13 16대 총선에서 김대중 대통령은 새천년민주당을 창당해 정치 지형의 근본적 변화를 꾀했습니다. 선거 사흘 전 남북정상회담 합의가 전격 발표됐습니다. 여당은 선거 승리를 자신했습니다. 그러나 결과는 반대였습니다. 정부 여당이 국가 중대사를 선거 직전에 발표해 정치적 이득을 취하려 했다고 의심한 유권자들이 결집해 오히려 여당을 견제한 것입니다.2004년 4·15 17대 총선을 앞두고 국회에서 절대다수 의석을 차지하고 있던 한나라당과 새천년민주당은 3월 12일 국회에서 노무현 대통령 탄핵소추를 결행했습니다. 총선을 앞두고 노무현 대통령과 열린우리당을 정치적으로 거세하려고 한 것입니다. 엄청난 역풍이 불어 한나라당과 새천년민주당은 참패했고 열린우리당이 과반의석을 차지했습니다.지방선거에서도 역풍이 불어닥친 사례가 있습니다. 2010년 6월 2일 지방선거를 겨우 9일 앞둔 5월 24일 이명박 정부는 천안함 사태와 관련해 북한과의 교역과 교류 협력을 중단하는 대북 제재를 발표했습니다. 선거를 앞두고 국가 안보를 정치적으로 이용한다는 비판이 일었고 실제 선거 결과도 여당인 한나라당의 패배로 나타났습니다.한나라당은 2011년 10·26 서울시장 보궐선거 패배, 디도스 공격 사건, 박희태 국회의장 돈 봉투 사건 등으로 궁지에 몰렸습니다. 2012년 4·11 19대 총선을 앞두고 구원투수로 등장한 박근혜 비상대책위원장은 당명과 색깔, 정강·정책 등을 몽땅 뜯어고치는 승부수를 띄워 과반의석을 차지하는 기염을 토했습니다. 악재를 혁신의 기회로 활용해 오히려 승리한 경우입니다.2016년 4·13 20대 총선을 앞두고 야권은 더불어민주당과 국민의당으로 분열했습니다. 자신에 찬 박근혜 대통령은 친박 인사들을 내리꽂는 무리한 공천을 밀어붙였습니다. 새누리당은 2당으로 주저앉았습니다. ‘선거의 여왕’도 민심의 역풍을 피할 수 없었습니다.2020년 4·15 21대 총선이 17일 앞으로 다가왔습니다. 지금 우리 눈앞에 벌어지는 장면은 코로나 19라는 국가적 위기를 선거에 활용하기 위해 무리하게 정권심판론과 색깔론을 밀어붙이다가 역풍을 맞고 비틀거리는 황교안 대표와 미래통합당의 모습입니다.선거는 이대로 끝난 것일까요? 그렇지 않습니다. 역대 선거에서 막판 돌발 변수는 1주일, 사흘, 심지어 바로 전날 밤에도 터져 나왔습니다. 그리고 그 변수가 표심에 어떻게 작용할 것인지 아무도 예측할 수 없습니다.여러분은 2002년 12월 19일 16대 대통령 선거 전날 밤 정몽준 후보의 노무현 후보 지지 철회 선언을 기억하실 것입니다. 대부분의 정치인은 그 순간 선거가 끝났다고 생각했습니다. 이회창 후보의 대통령 당선을 기정사실로 받아들였습니다.그러나 민심의 분노는 다음 날 강한 역풍을 일으켰고 이회창 후보가 아니라 노무현 후보가 대통령에 당선됐습니다. 선거란 이런 것입니다. 끝날 때까지 끝난 것이 아닙니다.최근 문재인 대통령 직무수행 긍정 평가가 올라가고 더불어민주당과 미래통합당 정당 지지도 격차가 다시 벌어지면서 더불어민주당 사람들의 입가에 미소가 번지고 있습니다. ‘지역구 130석’이 목표치가 아니라 ‘최소한으로 계산한 의석’이라는 말이 흘러나오고 있습니다.더불어민주당은 조심해야 합니다. 최근 여권에 유리하게 나오는 여론조사 수치는 ‘한심한 야당’에 대한 일시적 반사이익에 불과한 것인지도 모릅니다. 역대 선거에서 우리 유권자들은 막판에 고개를 쳐드는 정당과 후보에게 쓰라린 패배를 안긴 경우가 많았습니다. 더불어민주당이 여론조사에서 승리하고 실제 선거는 패배하는 어리석음을 범하지 않기 바랍니다.성한용 선임기자 shy99@hani.co.kr▶[연속보도] n번방 성착취 파문▶신문 구독신청▶삐딱한 뉴스 B딱[ⓒ한겨레신문 : 무단전재 및 재배포 금지]\n",
      "\n",
      "제목 :  “교회 감염 거의 없다” 황교안 무리수에 “당대표가 전도사냐” 비판\n",
      "제목 :  “교회 감염 거의 없다” 황교안 무리수에 “당대표가 전도사냐” 비판\n",
      "링크 :  /main/ranking/read.nhn?mid=etc&sid1=111&rankingType=popular_day&oid=028&aid=0002491280&date=20200329&type=1&rankingSeq=8&rankingSectionId=100\n",
      "\n",
      "황교안 “정부의 대구봉쇄 조치 무안”진중권 “황교안씨 메시지 계속 잘못 내”지난 27일 황교안 미래통합당 대표가 4·15 총선 대전 서구을에 출마한 양홍규 후보 선거사무소를 찾아 인사말을 하고 있다. 연합뉴스황교안 미래통합당 대표가 코로나19와 관련해 사실과 다른 내용을 페이스북에 올려 비판을 받고 있다.황 대표는 지난 28일 자신의 페이스북에서 “정부의 대구봉쇄 조치가 무안할 정도로 대구시민들 스스로 자발적 격리운동을 했고, 정부의 사회적 거리 두기 강화방침이 무색할 정도로 시민들이 스스로 모임활동을 자제하고 있다”고 밝혔다. 정부의 대구봉쇄 조치는 이뤄진 적이 없지만 사실과 다른 발언을 한 것이다. 또한 황 대표는 “종교계가 전혀 협조하지 않은 것처럼, 마치 교회에 집단감염의 책임이 있는 것처럼, 신천지 여론을 악용해 종교를 매도하는 것은 잘못된 처사”라며 “문제는 신천지다. 신천지와 교회는 다르다. 교회 내에서 감염이 발생된 사실도 거의 없다고 한다”고 강조했다. 하지만 질병관리본부는 현재 성남 은혜의 강 교회와 구로 만민교회 등에서 코로나19가 집단 발병했다고 밝힌 바 있다. 황 대표는 코로나 대응과 관련해 박정희 전 대통령을 추어올리기도 했다. 그는 같은 날 페이스북에서 “박정희 대통령은 매우 혁신적인 의료보험 정책과 고용보험 정책을 통해 위기 국면에서 국민들이 안심하고 살아갈 수 있는 사회 안전망을 구축했다”면서 “정부의 우한코로나 초기 대응실패에도 불구하고, 우리 의료 종사자들의 헌신과 봉사 덕분에 코로나 대규모 확산을 막을 수 있었다. 문재인 정부가 선거를 앞두고 자화자찬해서는 안 되는 대목”이라고 지적했다. 이에 진중권 전 동양대 교수가 “당 대표는 전도사가 아니다”며 황 대표를 비판하고 나섰다. 진 전 교수는 페이스북에 글을 올려 “황교안씨가 메시지를 계속 잘못 낸다. 이게 다 박정희 덕이라는 얘기도 생뚱맞고, 교회에서 감염사례들이 줄줄이 보도되는 마당에 ‘감염은 별로 없다더라’며 기독교 내의 극성스런 일부의 편을 드는 것도 이상하다”고 꼬집었다.장나래 기자 wing@hani.co.kr▶[연속보도] n번방 성착취 파문▶신문 구독신청▶삐딱한 뉴스 B딱[ⓒ한겨레신문 : 무단전재 및 재배포 금지]\n",
      "\n",
      "제목 :  김종인, “한 번도 겪어보지 않은 나라? 이런 나라 두 번 겪으면 큰일”\n",
      "제목 :  김종인, “한 번도 겪어보지 않은 나라? 이런 나라 두 번 겪으면 큰일”\n",
      "링크 :  /main/ranking/read.nhn?mid=etc&sid1=111&rankingType=popular_day&oid=081&aid=0003077840&date=20200329&type=1&rankingSeq=9&rankingSectionId=100\n",
      "\n",
      "[서울신문]김종인, 이날부터 통합당 선대위원장첫 행보로 도봉갑 김재섭 개소식 참석“새 정치 위해 젊은 정치인 탄생 부탁”김재섭 캠프 제공“(이 정부가) 한 번도 겪어보지 않은 나라 만들겠다 했었는데, 이런 나라 두 번 다시 겪으면 큰일 난다는 게 일반 국민 생각이다.”미래통합당 김종인 총괄선거대책위원장은 29일 자신이 후원회장을 맡은 김재섭 도봉갑 국회의원 후보의 선거개소식에 참석해 이같이 말했다. 이날부터 통합당 선대위 공식 업무를 시작한 김 선대위원장은 첫 행보로 자신이 후원회장을 맡은 김 후보의 지원사격에 나섰다.김 위원장은 이날 “나라가 굉장히 어려운 지경이다. 모든 상황이 정지 상태에 있다”면서 “이런 상황이 되풀이되지 않도록 새로운 정치인을 탄생시켜 달라”고 강조했다. 그는 이어 “저는 미래통합당 선거 대책을 담당하는 사람으로 나왔지만, 우리나라도 이제는 70년대 이후 출생하는 사람들이 정치에 나서서 지도자의 길을 걸었으면 좋겠다는 생각을 한다”면서 “저는 김재섭 후보가 그런 뜻을 갖고 정치를 시작하겠다고 얘기를 해서 빨리 시작하라고 권고했다”고 전했다.또한 “앞으로 미래를 짊어지고 갈 젊은 정치인을 도봉갑구에서 새로 탄생시켜, 김재섭 후보로 하여금 우리나라의 정치 자질을 갖추고 발전할 수 있는 인물로 도봉구에서 만들어주시라 당부 드린다”고 지지를 부탁했다.이날 공동 후원회장 자격으로 참석한 정병국 의원도 “김종인 중앙 총괄선대위원장께서 김재섭 후보 출정식을 첫 공식 일정으로 시작했다는 것은 그만큼 김재섭에 거는 기대가 크기 때문”이라고 강조했다. 정 의원은 “김재섭 후보가 우리 국민 염원인 새로운 정치, 새로운 시대 걸맞는 정치 이끌어낼 주역이라 감히 생각한다”고 힘을 실어줬다.김재섭 캠프 제공김재섭 후보는 “도봉갑 지역 선거를 인재근과 김재섭의 인물 대결이 아닌 이미 시효 지난 오만한 기득권 86세대와 차세대 정치 지도자의 격전지로 본다”면서 “(투표를 통해) 86시대가 끝났음을 증명해주면, 반드시 도봉갑을 넘어 대한민국의 정치 지형을 바꾸겠다고 다짐한다”고 말했다.이하영 기자 hiyoung@seoul.co.kr▶ 네이버에서 서울신문 구독하기 클릭!▶ 세상에 이런 일이 ▶ [연예계 뒷얘기] 클릭!ⓒ 서울신문(www.seoul.co.kr), 무단전재 및 재배포금지\n",
      "\n",
      "제목 :  이재명, 진중권 향해 “조국에 대한 잔인한 인권침해 그만”\n",
      "제목 :  이재명, 진중권 향해 “조국에 대한 잔인한 인권침해 그만”\n",
      "링크 :  /main/ranking/read.nhn?mid=etc&sid1=111&rankingType=popular_day&oid=469&aid=0000482098&date=20200329&type=1&rankingSeq=10&rankingSectionId=100\n",
      "\n",
      "진중권 “조국, 더 파렴치한 일도 있어” 발언에이 지사 “쓰러진 이에게 발길질… 선 넘지 말길”24일 경기도청 브리핑룸에서 이재명 경기도지사가 '경기도형 재난기본소득' 지급 계획을 발표하고 있다. 연합뉴스이재명 경기지사는 진중권 전 동양대 교수에게 “잔인한 인권침해, 그만하시라”고 일침했다. 진 전 교수가 연일 이어가고 있는 조국 전 법무부 장관 일가에 대한 저격을 염두에 둔 발언이다.이 지사는 29일 자신의 사회관계망서비스(SNS)에 “저는 기본적으로 남의 일에 대한 언론보도나 세간의 속설은 확인되지 않으면 믿지 않는다. 특히 정치적 의도가 들어있는 공방일수록 더 그렇다. 진 교수님의 조국 전 장관님에 대한 ‘더 파렴치한 일 운운’하는 일방적 주장 역시 다르지 않다”며 이같이 밝혔다. 진 전 교수는 조 전 장관과 그의 부인 정경심 교수를 향해 “(웅동학원ㆍ동양대 증명서 발급보다) 더 파렴치한 일도 있었다”고 언급한 바 있다이 지사는 이에 “조 전 장관님과 관련된 진실은 저도 진 교수님도 정확히 알지 못한다. 그러나 조 전 장관님은 이제 원하든 원치 않든 최소 2~3년간은 인생과 운명을 건 재판에 시달려야 한다”며 “그 고통이 얼마나 큰지 당해보지 않은 사람은 결코 알 수 없다”고 말했다. 또 “조 전 장관님의 유무죄는 각자 생각이 다를 수 있으니 별론으로 하고, 그분이 검찰 수사 과정에서 당하지 않아도 될 잔인한 인신공격과 마녀사냥을 당한 것은 부인할 수 없다”고 했다.이 지사는 “어디서 들은 말인지는 몰라도 구체적 근거도 없이 더 파렴치한 일도 있었다는 진 교수님의 주장은 마녀사냥의 연장이자 인권침해”라고 비판했다. 그러면서 “총선에서 민주당이 100% 이긴다고 한들 총선 후라면 1심도 채 끝나지 않을 터인데 무슨 수로 형이 확정되어야 가능한 복권을 논의한다는 말인가”라고 했다. 진 전 교수가 “민주당이 이번 총선에서 크게 이기고, 조국 수호대들이 민주당에 합류하면 조국 복권운동이 일어날 수 있다”고 한 데 대한 반박이다.이 지사는 “쓰러진 사람에 발길질 하는 것 같은 진 교수님 말씀이 참 불편하다. 그렇게 잔인하지 않고도 할 수 있는 일은 산처럼 많다”며 “교수님께서 뭔가에 쫓기시는 것 같은 느낌을 지울 수 없다. 할 일에 집중하고 누군가를 공격하더라도 선을 넘지 말았으면 좋겠다”고 말했다. 이어 “진 교수님 팬의 한 사람으로서 교수님께서 냉정을 되찾아 과거의 멋들어지고 명철한 논객 진중권으로 돌아가기를 진심으로 바란다”고 했다.전혼잎 기자 hoihoi@hankookilbo.com ▶네이버에서 한국일보 뉴스를 받아보세요 ▶뉴;잼을 보면 뉴스가 재밌다 [뉴스레터 구독하기] ▶한국일보닷컴 바로가기\n",
      "\n",
      "제목 :  잠실 리센츠 16억 '미스터리' 풀렸다..\"父子간 매매\"\n",
      "제목 :  잠실 리센츠 16억 '미스터리' 풀렸다..\"父子간 매매\"\n",
      "링크 :  /main/ranking/read.nhn?mid=etc&sid1=111&rankingType=popular_day&oid=008&aid=0004385058&date=20200329&type=1&rankingSeq=1&rankingSectionId=101\n",
      "\n",
      "[머니투데이 권화순 기자]  (서울=뉴스1) 이재명 기자 = 강남3구 아파트값이 3주 연속 하락하면서 서울 아파트값이 10개월여 만에 하락세로 돌아섰다. 정부의 규제책과 보유세 부담, 경기침체 우려로 고가 아파트 매수심리가 위축되면서 강남구 대치동 은마 등 투자성이 강한 재건축 아파트값이 하향 조정됐다.   사진은 27일 서울 송파구 잠실 주공5단지 아파트와 인근 아파트 단지의 모습. 2020.3.27/뉴스1  이달 초 시세 대비 3억~4억원 낮은16억원에 거래된 서울 송파구 잠실 리센츠 84㎡는 부자(父子) 지간의 매매 거래인 것으로 파악됐다. 이 거래 후 잠실 대장주로 불리는 '엘리트'(엘스·리센츠·트리지움) 매매가격은 본격적인 하락세를 탄 가운데 최근 같은 면적의 트리지움 '급급매'가 16억5000만원에 거래가 성사됐다.  ━시세 '-4억' 리센츠 84㎡ \"부자지간 거래\"..실거래·세무조사 받을까━29일 서울 송파구 부동산 중개업소 등에 따르면 지난달 6일 16억원에 거래된 리센츠(84㎡·8층) 아파트는 아버지와 아들 간 매매거래인 것으로 인근 중개업소들이 파악했다. 이 아파트 동일 면적의 25층 실거래 가격은 불과 며칠 전인 지난달 29일 19억7500만원에 거래됐다. 지난해 12월 최고 21억원을 찍었는데 고점 대비 5억원 낮춰 거래가 되자 배경에 관심이 쏠렸다. 잠실 인근 A 부동산 중개업소 관계자는 \"아버지와 아들 간 이뤄진 매매, 즉 지인간 매매거래인 것으로 확인됐다\"며 \"지인간 매매거래의 경우 시세 대비 30% 이내로 할인 거래할 수 있는 것으로 안다\"고 말했다. B 중개업소 관계자는 \"매매계약을 하기 전에 법무사나 세무사 등과 충분히 논의를 해서 약 3억원 정도 낮게 매매하더라도 문제가 없다는 걸 확인한 다음에 부자간 거래를 한 것으로 전해 들었다\"고 귀띔했다. 이 거래는 중개업소를 끼지 않고 '직거래'로 이뤄졌다. 때문에 국토교통부 실거래가 공개시스템을 통해 소식이 알려졌을 때 \"정상거래가 아니다\", \"증여일 것\"이라는 추측이 나돌았다. 하지만 증여의 경우 실거래 신고를 하지 않는다는 게 국토부 설명이다. 부자간 매매거래는 시세 대비 30% 이내 가격이면 실거래조사나 세무조사 대상이 아니라는 중개업소 측 해석 관련, 국토부 관계자는 \"실거래 조사는 종합적인 내용을 보고 판단하기 때문에 '30% 기준'은 따로 없다\"고 말했다.국토부는 원칙적으로는 실시간 실거래 가격을 확인한다. 다만 통상은 매매계약 직후 제출하는 자금조달계획서 진위여부는 잔금이 치러진 후 조사한다. 리센츠 매매거래도 \"자금 조달에 문제가 없는지', '증여 목적은 없는지' 등을 시차를 두고 들여다볼 가능성이 있다. 아울러 국세청 세무조사의 경우 '증여거래는 시세의 30% 이내·2억원 이내'인 경우에, '매매거래는 시세의 5% 이내'인 경우 부당행위로 보지 않는다는 게 세무전문가의 설명이다. ━트리지움 '급급매' 16.5억 실거래..\"본격 하락 가능성\"━리센츠 85㎡가 16억원에 거래된 이후 잠실 대장주 '엘리트' 매매가격은 1~2억원씩 낮춰 거래되고 있다. 아직 실거래 신고가 이뤄지지 않았지만 지난주 같은 면적의 트리지움 아파트가 16억5000만원에 거래된 것으로 확인됐다. B 중개업소 관계자는 \"원래 18억3000만원에 매물로 나왔는데 매수자를 찾지 못해 최근 16억5000만원에 거래가 이뤄졌다\"며 \"집 주인이 대치동 재건축 아파트 잔금을 치러야 하는 사정 때문에 '급급매'로 나온 사례\"라고 설명했다. 같은 면적의 트리지움 아파트가 16억원대에 거래된 것은 지난해 9월 16억7000만원 이후 6개월여 만이다. '리센츠 16억원'은 부자지간 거래였지만 트리지움은 타인간 매매가 이뤄진 만큼 잠실 아파트값 본격 하락 전망에 힘이 실린다.부동산 업계 관계자는 \"지금 추세라면 잠실 아파트 가격은 17억원대로 내려갈 수 있다\"며 \"과거에도 송파구 아파트가 가장 먼저 빠지는 패턴을 보였던 만큼 서울 전체가 약세로 전환하는 수순으로 갈 것\"이라고 전망했다. 한국감정원에 따르면 23일 기준 서울 아파트값 주간 변동률은 0.00%로 2주째 보합이다. 송파구는 전주 0.08% 하락했고 지난주엔 0.10% 떨어졌다. 권화순 기자 firesoon@mt.co.kr▶줄리아 투자노트▶조 변호사의 가정상담소▶머니투데이 구독하기<저작권자 ⓒ '돈이 보이는 리얼타임 뉴스' 머니투데이, 무단전재 및 재배포 금지>\n",
      "\n",
      "제목 :  손석희의 \"조주빈 협박 배후엔 삼성\" 발언에…삼성 \"황당하다\"\n",
      "제목 :  손석희의 \"조주빈 협박 배후엔 삼성\" 발언에…삼성 \"황당하다\"\n",
      "링크 :  /main/ranking/read.nhn?mid=etc&sid1=111&rankingType=popular_day&oid=015&aid=0004314831&date=20200329&type=1&rankingSeq=2&rankingSectionId=101\n",
      "\n",
      "조주빈에 협박 당한 손석희 JTBC 사장\"배후에 삼성 있다는 생각에 신고 판단 안섰다\"고 해명삼성은 \"당황스럽다\"삼성 관계자 \"객관적 사실이나 전후 관계 전혀 맞지 않아\"미래전략실은 2017년 2월 해체손 사장이 뒷조사 당했다는 미투운동은 2018년 1월 시작손석희 JTBC 사장 / 사진=연합뉴스손석희 JTBC 사장(사진)이 자신을 협박한 텔레그램 '박사방' 운영자 조주빈씨를 신고하지 않은 이유로 \"배후에 삼성이 있을 수 있다고 생각해 판단이 잘 안 섰다\"고 말한 것에 대해 삼성이 \"객관적 사실이나 전후 관계가 전혀 맞지 않는다\"며 황당하다는 입장을 밝혔다.삼성 관계자는 29일 \"국민적인 공분을 사고 있는 조주빈 사건 진행 과정에서 사실과 무관하게 삼성이란 이름이 나오고 있다\"며 \"삼성은 언급된 것만으로도 기업 이미지에 막대한 타격을 입었다\"고 말했다. 손 사장은 지난 27일 오후 서울 상암동 JTBC 사옥에서 기자들에게 \"흥신소로 위장한 조씨가 김씨와의 친분의 증거를 보여주면서 '김웅 (기자) 뒤에 삼성이 있다'는 식의 위협을 했고, 이들 배후에 삼성이 있다는 생각에 미치자 신고해야 한다는 판단이 잘 서지 않았다\"는 취지의 주장을 편 것으로 알려졌다. 그는 또 '미투' 바람 당시 삼성 미전실 직원들이 자신의 성신여대 교수 재직 시절 비슷한 의혹이 있는지 뒷조사를 했다고 말한 것으로 전해졌다.조씨가 사칭했다고 주장하는 '삼성 미전실'은 2017년 2월 해체된 삼성그룹의 콘트롤타워 격인 미래전략실이다. 국내에서 미투 운동이 시작된 것은 2018년 1월 서지현 검사의 폭로 직후다. 이 때는 삼성 미전실이 해체돼 존재하지 않았다.손 사장이 김웅 기자와 소송하게 된 본인의 뺑소니 사건과 이에 대한 언론보도는 각각 2017년 4월, 2019년 1월이다. 삼성 미전실이 해체된 이후에 벌어진 사건이다.삼성은 손 사장의 부적절한 발언 때문에 기업 이미지에 상당한 타격을 받았다며 '매우 유감'이란 뜻을 나타냈다. 삼성의 한 관계자는 \"정말 배후에 누군가 있고 협박을 당했다면 손 사장이 직접 신고는 물론 보도도 했을 것\"이라며 \"삼성을 거론하면서 왜 시선을 다른 곳으로 옮기려 하는지 알 수 없다\"고 지적했다. 또 다른 삼성 관계자는 \"조씨는 사칭과 거짓말을 일삼다 보니 무슨 말이든 지어내겠지만 손 사장이 삼성을 거론한 것은 다른 문제\"라면서 \"불미스러운 사건에 사실과 무관하게 언급되고 있다\"고 비판했다.황정수 기자 hjs@hankyung.com▶ 네이버에서 한국경제 뉴스를 받아보세요▶ 한경닷컴 바로가기  ▶ 모바일한경 구독신청ⓒ 한국경제 & hankyung.com, 무단전재 및 재배포 금지\n",
      "\n",
      "제목 :  [단독]대한항공의 '묘수'...운명 걸린 LG 숨통 틔웠다\n",
      "제목 :  [단독]대한항공의 '묘수'...운명 걸린 LG 숨통 틔웠다\n",
      "링크 :  /main/ranking/read.nhn?mid=etc&sid1=111&rankingType=popular_day&oid=014&aid=0004398218&date=20200329&type=1&rankingSeq=3&rankingSectionId=101\n",
      "\n",
      "중국 우한에 거주 중인 한국 교민을 철수시키기 위한 전세기가 1월 30일 오후 인천국제공항 제2터미널에서 출발하고 있다. 사진=뉴시스[파이낸셜뉴스] \"이달 말까지 어떤 수를 쓰든 직원 300명을 중국 광저우로 보내야 합니다. 전세기가 필요합니다.\"  \"최대한 마련해 보겠습니다.\"  이달 초 LG디스플레이 관계자와 아시아나항공 관계자 간 긴밀한 대화가 오갔다. 내달 안에 중국 광저우 유기발광다이오드(OLED) 공장을 가동시켜야하는 LG디스플레이로선 핵심 인력을 현지에 파견할 수 있느냐에 사운이 걸릴 정도로 급박했던 것이다. 수년 간 파트너십을 맺어온 양사는 중국 출장 프로젝트를 진행했다. 코로나19 여파로 전 세계 하늘길이 끊기면서 아시아나항공 입장에선 투입할 수 있는 기종도 넉넉했다.  그러나 출발 직전 문제가 터졌다. 중국 정부가 아시아나항공의 전세기 입국을 허가하지 않았다. 중국의 한국발 입국 제한 조치가 큰 변수였다. LG디스플레이 관계자는 29일 \"(당시) 중국의 전세기 입국 허가가 계속 떨어지지 않아 불안했다. 정기 노선편이 있었지만, 코로나19 무감염 확인증을 받은 직원들이 일반 승객들과 함께 타야하는 위험을 감수할 수는 없었다\"고 했다.  LG디스플레이는 대한항공에 긴급하게 도움을 요청했다. 지난 26일 오전 8시 55분 인천공항에서 출국한 대한항공 KE865편을 통해 직원 290명은 중국 광저우로 무사 입국했다.  대한항공이 나서자 일사천리로 일이 진행된 것을 놓고 세간의 궁금증이 커지고 있다. 자세히 보면 이상한 점이 있다. 오전 8시 55분에 출발한 KE856편은 대한항공이 정기적으로 운항하고 있는 노선이다. 일반적으로 4자리 숫자로 구성되는 전세기 편명과는 다른 것이다. 대한항공이 단기간에 LG디스플레이의 중국 전세기 출장을 완수시킨 '묘수'가 여기에 숨어 있다는 분석이다.  29일 인천국제공항 대한항공 정비고에서 정비사들이 작업을 하고 있다. 정부는 신종 코로나바이러스 감염증 발원지인 중국 우한에 고립된 한국인 700여명의 국내 송환을 위해 오는 1월 30~31일까지 대한항공 전세기를 4차례 급파한다. 사진=뉴시스\"정기 운항 노선을 이용해 전세기를 띄웠습니다.\"  대한항공 관계자는 이번 전세기를 띄우는 데 국토교통부와 중국 정부로부터 이미 사업 승인을 받은 '정기 운항편'을 활용했다고 전했다. 항공 노선은 크게 정기적으로 운항하는 정기 노선과 부정기 노선으로 구분되는데, 전세기는 보통 일회성 운항이기 때문에 부정기 노선으로 분류된다.  코로나19 확산 이후 중국 정부는 기존에 있던 정기 노선도 운항을 제한했다. 부정기 노선은 허용되기 더욱 어려운 조건이었던 것이다. 항공업계 고위 관계자는 \"중국 정부가 코로나 사태 이후 항공기 신규 취항을 보수적으로 판단하는 경향이 더욱 심해졌다\"며 \"대한항공이나 아시아나항공 모두 정기 운항편이 있는데, 부정기 운항을 허가 받는건 사실상 불가능 했을 것\"이라고 했다. 아시아나항공 전세기의 중국 입국 허용이 되지 않은 것도 이런 이유 때문이었다.  대한항공은 다르게 접근 했다. 기존의 정기 운항 노선을 이용 하되, 실질적으로 LG디스플레이의 직원들만 탑승할 수 있는 전세기를 띄우는 '운영의 묘'를 발휘했다. 대한항공이 이달 광저우행 정기 노선에 대해 운휴 결정을 내리면서 가능해졌다. 대한항공 관계자는 \"이미 운영을 중단한 노선을 다시 살린 것이어서 LG디스플레이 직원들만 탑승토록 했다\"며 \"이미 허가가 된 노선이기 때문에 중국측에서도 비교적 쉽게 허용을 해준 것 같다\"고 했다. 때문에 LG디스플레이 직원들은 코로나19 사태 이후 전세기를 활용해 중국으로 간 첫 기업인이 됐다.  LG디스플레이가 2019년 8월 완공한 중국 광저우의 8.5세대 OLED(유기발광다이오드) 패널 공장 전경. 사진=뉴스1국토부의 지원도 있었다. 대한항공이 중단하고 있는 정기 운항편을 재운항하는 부분과 전세기편을 운용하는 점 등에 대해선 국토부의 별도 허가가 필요한데, 큰 문제 없이 승인이 이뤄졌다. 국토부 관계자는 \"코로나19 사태로 하늘길이 꽉 막힌 상황이어서 정부도 최대한 항공사들의 전세기 운항 등을 지원하려고 돕고 있다\"고 했다.  다른 항공 업계 관계자는 \"대한항공이 코로나19 사태 이후 경영 조건이 좋지 않은 상황에서도 국적 항공사로서의 능력을 발휘하고 있다\"면서 \"지난 1월 중국 우한 지역에 국민들을 수송하기 위해 전세기를 띄운 데 이어, 이번에 LG 직원들을 광저우에 보내면서 산업계 숨통을 틔우는 역할을 한 것\"이라고 했다.  integrity@fnnews.com 김규태 김서원 기자 ▶ 헉! 소리나는 스!토리 뉴스 [헉스]▶ '아는 척'하고 싶은 당신을 위한 [두유노우]▶ 한눈에 보는 [4·15총선 NEWS MAP]※ 저작권자 ⓒ 파이낸셜뉴스. 무단 전재-재배포 금지\n",
      "\n",
      "제목 :  '코로나 진단키트'에 독도 이름 붙이라는 국민청원 [조재길의 경제산책]\n",
      "제목 :  '코로나 진단키트'에 독도 이름 붙이라는 국민청원 [조재길의 경제산책]\n",
      "링크 :  /main/ranking/read.nhn?mid=etc&sid1=111&rankingType=popular_day&oid=015&aid=0004314796&date=20200329&type=1&rankingSeq=4&rankingSectionId=101\n",
      "\n",
      "수출 요청 몰리니 \"정치적 활용\" 주장민간 기업들의 핵심 자산·브랜드인데···문재인 대통령은 지난 25일 서울 송파구의 진단키트 개발업체 씨젠을 방문해 시약개발 현장을 시찰했다. 사진=연합뉴스한국산 코로나19 진단키트가 각광을 받자 한 네티즌이 특이한 아이디어를 냈습니다. 이번 기회에 “수출용 코로나19 진단키트 이름을 독도로 바꿔달라”는 국민청원을 청와대에 낸 겁니다.이 네티즌은 “정부와 국민의 적극적인 참여로, (국가) 폐쇄 없이 코로나19 사태를 진정시키고 있다”며 “진단키트를 ‘독도’라는 이름으로 수출하면 독도 위상이 크게 향상될 것”이라고 주장했지요. 이 청원은 지난 25일 게시된 직후부터 여러 온라인 커뮤니티에 퍼나르기 됐고, 청와대 및 정부의 답변 요건(20만명 이상)을 이틀 만에 충족했지요.세계 각국에서 한국산 진단키트를 무상 또는 유상으로 지원해 달라는 요청이 쏟아지는 건 사실입니다. 외교부에 따르면 지금까지 약 120개국이 진단키트 마스크 등 코로나19 방역물품 지원을 요청한 것으로 집계됐습니다. 미국 역시 진단키트를 공급해 달라고 ‘SOS’를 보냈지요.현재 정부 승인을 받아 코로나19 진단키트를 대량 생산하고 있는 곳은 씨젠, 코젠바이오텍, 솔젠트, 에스디바이오센서, 바이오세움 등 5곳입니다. 작년 말 코로나바이러스가 중국 우한에서 처음 발생한 뒤 식품의약품안전처가 이들 기업에 발빠르게 승인을 내줬지요. 별도로 랩지노믹스 수젠텍 등은 해외 정부와 공조해 진단키트 수출에 나서고 있습니다.우리 기업들은 검체 채취 후 4~6시간 만에 결과를 도출해내는 고품질 진단키트를 하루 13만5000개씩 만들고 있습니다. 국내에서 다 쓰고도, 수출 여력이 충분합니다.코로나 진단키트는 한국에서 가장 먼저 상용화됐습니다. 전염병 확산이 중국에 이어 세계에서 두 번째로 빨랐던 탓에 그동안 수십 만 건을 진단한 경험도 쌓여 있지요. 진단 품질의 수준이 그만큼 높아졌다는 겁니다.한국산 진단키트들이 지난 17일 인천공항 물류창고에서 수출을 기다리고 있다. 연합뉴스중국 역시 진단키트를 생산하고 있지만 정확도가 떨어지는 것으로 알려져 있습니다. 스페인 체코 등에서 중국산 키트의 정확도가 20~30%에 불과하다는 보도가 나왔습니다.다만 수출용 진단키트를 묶어 ‘독도’란 브랜드를 붙이자는 주장에 대해선 이견이 적지 않습니다. 안전키트 제조업체들이 이미 수출용 브랜드를 갖고 있는 상황에서 ‘정치성’을 띄는 이름으로 바꾸라는 주장이기 때문이죠. 어떤 브랜드를 붙일 지 여부는, 밤잠을 줄이며 개발해 낸 민간회사가 자율적으로 결정할 사안입니다.청와대 청원이 이미 30만명을 넘어선 만큼 ‘진단키트의 독도 브랜드화’는 이미 공론화 됐습니다. 청와대가 ‘반드시’ 답변을 해야 하지요.세계적인 전염병 대유행 상황에서 방역 물품에 ‘독도’를 결부시키는 게 국익에 부합할 지도 의문입니다. 독도는 이미 우리나라가 실효 지배하고 있기 때문이죠. 논란이 커질수록 분쟁지역이란 인식만 심어줄 우려가 있습니다.코로나 진단키트를 생산하는 기업들은 공기업과 거리가 멉니다. 각자 생존·성장을 위해 최선의 결정을 할 겁니다. 삼성전자 갤럭시나 방탄소년단이 전세계에 큰 영향을 끼치고 있다고 해서 “독도 홍보대사로 활용하자”는 청원을 청와대에 낸다면 어색하겠지요.조재길 기자 road@hankyung.com▶ 네이버에서 한국경제 뉴스를 받아보세요▶ 한경닷컴 바로가기  ▶ 모바일한경 구독신청ⓒ 한국경제 & hankyung.com, 무단전재 및 재배포 금지\n",
      "\n",
      "제목 :  한미통화스왑 1차로 120억달러 푼다…2008년 40억달러보다 3배 많아\n",
      "제목 :  한미통화스왑 1차로 120억달러 푼다…2008년 40억달러보다 3배 많아\n",
      "링크 :  /main/ranking/read.nhn?mid=etc&sid1=111&rankingType=popular_day&oid=009&aid=0004546267&date=20200329&type=1&rankingSeq=5&rankingSectionId=101\n",
      "\n",
      "31일 1차 입찰 한국은행이 미국과 체결한 600억달러 규모 통화스왑으로 확보한 달러를 31일 120억달러를 시작으로 시장에 공급한다. 지난 2008년 당시 1차 공급 규모가 40억달러였던 것과 비교하면 3배 많은 규모다. 29일 한은은 한미통화스왑으로 확보한 120억달러를 경쟁입찰방식으로 시중은행과 국책은행 등에 공급한다고 밝혔다. 이번 공급 규모는 120억달러로 이중 100억달러는 만기가 6월 25일까지(84일물)이고 20억달러는 다음달 9일(7일물)까지다. 최소응찰금액은 100만달러, 최대응찰금액은 15억달러(84일물)와 3억달러(7일물)다. 최저응찰금리는 30일 결정된다. 최저응찰금리는 하루짜리 초단기 달러 차입 금리인 오버나이트(OIS) 금리에 0.25%를 더한 수준이다. 달러를 대출받으려는 은행은 총 대출금액의 110%에 해당하는 담보를 맡겨야 한다. 담보 대상은 국채, 정부보증채, 통안증권을 비롯해 최근 편입된 은행채와 공기업 특수채 등이다. 원화 현금도 담보로 맡길 수 있다. 한은은 1주일마다 담보가치를 평가해 대출금의 105% 미만으로 담보가치가 하락한 경우에는 차액만큼을 은행들로부터 추가로 받는 구조다. 한은 관계자는 \"이번 통화스왑 자금 공급으로 외화자금사정의 수급 불균형을 완화하고 시장 변동성을 축소하는 등  시장안정에 기여할 것으로 기대된다\"고 말했다. 지난 2008년에는 10월 30일 300억달러 규모 통화스왑 계약을 체결한뒤 한달여가 지난 12월 2일 경쟁입찰 방식을 통해 40억달러를 처음 시중에 공급한바 있다. 총 5차례 입찰을 통해 달러가 필요한 금융기관에 164억달러를 공급했다. [임성현 기자]▶네이버 메인에서 '매일경제'를 받아보세요▶뉴스레터 '매콤달콤' 구독▶'매일경제' 바로가기[ⓒ 매일경제 & mk.co.kr, 무단전재 및 재배포 금지]\n",
      "\n",
      "제목 :  文 2286만원·정세균 1772만원···되레 뒷말 나오는 '급여 반납'\n",
      "제목 :  文 2286만원·정세균 1772만원···되레 뒷말 나오는 '급여 반납'\n",
      "링크 :  /main/ranking/read.nhn?mid=etc&sid1=111&rankingType=popular_day&oid=025&aid=0002988271&date=20200329&type=1&rankingSeq=6&rankingSectionId=101\n",
      "\n",
      "[경제통]정세균 국무총리(오른쪽 셋째)가 21일 정부서울청사에서 열린 신종 코로나 비상국무위원 워크숍에서 급여 반납 방침을 발표하고 있다. 연합뉴스        ‘솔선수범’ 하겠다는데, 왜 시큰둥할까.     문재인 대통령부터 정부 부처 장ㆍ차관까지…. 고위 공무원을 중심으로 급여 반납 행렬이 이어지고 있다. 지난 21일 정세균 국무총리가 “신종 코로나바이러스 감염증(코로나 19) 사태로 인한 고통을 분담하기 위해 4개월간 장ㆍ차관급 공무원 급여의 30%를 반납하겠다”고 밝히면서다. 최근엔 공기업은 물론 일부 대기업도 급여 반납에 동참하는 추세다.     하지만 취지와 달리 위기 해소에 도움을 준다는 분석보다 오히려 가라앉은 경기에 찬물을 끼얹을 수 있다는 쓴소리가 나온다. 취지가 선하다고 결과도 선한 건 아니라서다. 누가, 얼마나 월급을 반납한다고 발표했고, 효과는 어떨지 짚어봤다.  ━   누구 주머니에서, 얼마     급여 반납의 첫 시작은 문 대통령과 정 총리, 그리고 장ㆍ차관급 고위공무원이었다. 와 닿게 설명하면 문 대통령의 경우 지난해 연봉(2억3091만원)의 4개월 치에 30%인 2286만원을 반납한다. 정 총리는 1772만원(연봉 1억7901만원), 부총리급인 홍남기 기재부 장관과 유은혜 교육부 장관, 최재형 감사원장은 각각 1340만원(연봉 1억3543만원)을 낸다. 이밖에 장관급은 1303만원(연봉 1억3164만원), 차관급은 1265만원(연봉 1억2784만원)을 각각 줄인다. 이들은 정무직 공무원이라 성과급은 없다.     대상은 총 140여명. 반납할 급여는 18억5000만원 수준이다. 엄청난 돈은 아니지만, 위기 극복을 위해 솔선수범하겠다는 상징성은 있다. 이렇게 반납한 급여는 국고로 관리한다. 기획재정부가 신종 코로나 극복을 지원하는 재원으로 쓸 계획이다.  ━   공기업ㆍ지자체 '일파만파'  대전 박용갑 중구청장, 황인호 동구청장, 허태정 시장, 박정현 대덕구청장, 장종태 서구청장, 정용래 유성구청장(왼쪽부터)이 3개월간 급여 30%를 사회복지공동모금회에 기부한다고 밝힌 뒤 포즈를 취했다.연합뉴스         정부 부처가 총대를 메면 공기업도 따라가는 경우가 많다. 이번에도 예외는 아니다. 국내 최대 공기업인 한국전력은 사장 및 경영진이 내년 2월까지 1년간 매달 급여의 10%, 처ㆍ실장급은 3%를 각각 반납한다. 그룹사 9곳도 동참해 350여명이 급여를 기부한다.     한국수력원자력은 사장을 비롯한 본부장급 임원 8명이, 한국철도공사(코레일)는 사장과 상임이사 등 5명, 한국도로공사는 임원급 9명이 각각 부처 장ㆍ차관과 똑같이 4개월간 월급의 30%를 내놓는다. 한국토지주택공사(LH)는 상임이사급 이상 임원 8명은 4개월 치 월급의 30%, 본부장급 7명은 20%를 각각 반납하기로 했다.     박원순 서울시장을 비롯해 이시종 충북지사, 허성무 창원시장, 이춘희 세종시장, 정장선 평택시장, 김홍장 충남 당진시장, 윤화섭 안산시장, 변광용 거제시장, 김철우 전남 보성군수, 장충남 남해군수 등 기초단체장도 ‘4개월 치, 30% 급여 반납’에 동참했다. 경북ㆍ충북처럼 고위 공무원뿐 아니라 일반 공무원까지 30% 반납 행렬에 동참한 경우도 많다. 현재까지 1만명 이상 참여한 것으로 추산된다.  ━   ‘자발’ 맞나 뒷말     자발적 동참을 전제로 한다면 박수받을 일이다. 하지만 꼭 그렇지만은 않은 것 같다. 공무원 노조는 “정권은 위기에 처했을 때마다 고통 분담이란 미명 하에 공무원을 희생의 도구로 삼아왔다”며 “문재인 정부는 공무원 임금 동결 여론몰이 꼼수를 즉각 중단하라”고 주장했다. “공무원을 비롯한 모든 노동자의 임금을 삭감하는 것은 절대 신종 코로나 사태에 따른 경제위기 해결책이 될 수 없다”라고도 했다.     취지는 좋지만, 금액만 따졌을 때 실제 경제에 미치는 영향은 적다. 오히려 정부의 소비 활성화 대책과 엇박자를 낸다는 지적이 나온다. 소비를 늘려야 하는데 급여 반납이 확산하면 소비가 더 위축할 수 았다. 김동원 전 고려대 경제학과 초빙교수는 “지금은 경기 부양을 위해 소비 여력을 늘려야 할 상황”이라며 “‘노블레스 오블리주’식 급여 반납은 고위층에서 머물러야지 사회적 운동처럼 확산해선 곤란하다”고 말했다.  .         세종=김기환ㆍ김도년 기자 khkim@joongang.co.kr  ▶ 그래서, 팩트가 뭐야? 궁금하면 '팩플'▶ 내 돈 관리는 '그게머니' / 중앙일보 가기ⓒ중앙일보(https://joongang.co.kr), 무단 전재 및 재배포 금지\n",
      "\n",
      "제목 :  '역대 최대' 45조 실탄 준비한 개미군단…\"이번엔 이긴다\"\n",
      "제목 :  '역대 최대' 45조 실탄 준비한 개미군단…\"이번엔 이긴다\"\n",
      "링크 :  /main/ranking/read.nhn?mid=etc&sid1=111&rankingType=popular_day&oid=008&aid=0004385041&date=20200329&type=1&rankingSeq=7&rankingSectionId=101\n",
      "\n",
      "[머니투데이 조준영 기자]  코스피가 1.8%대 상승 마감하며 하루만에 1,700선을 회복한 27일 오후 서울 중구 하나은행 딜링룸에서 직원들이 업무를 보고 있다. 이날 코스닥은 1..2% 상승한 522.83p, 원달러환율은 22.2원 내린 1,210.6원으로 마감했다. / 사진=이동훈 기자 photoguy@그야말로 주식투자 열풍이다. 주식거래 관련 모든 수치가 사상 최대치를 기록하고 있다. 코로나19로 시작된 폭락장에 저가매수 전략으로 수익을 보려는 개인투자자들이 몰리면서다. 빚을 내면서까지 투자하는 움직임은 둔화됐다. 하지만 새로 주식거래계좌를 열려는 고객들로 증권사 일부 영업점은 일상업무를 처리하기 힘들 정도다. 고객들에게 번호표를 나눠주는 영업장까지 나오고 있다.동학농민운동에 빗대 '동학개미운동'이란 말이 나올 정도지만 변동성이 심한 지금 섣불리 주식투자에 나섰다가 큰 손해를 입을 수 있어 주의가 필요하다는 지적도 나온다.━◇모든 주식거래지표 사상 최대치 경신━29일 금융투자협회에 따르면 투자자들이 주식에 투자하기 위해 증권사에 맡겨놓는 '투자자예탁금'이 26일 기준 45조1689억원으로 역대 최고기록을 세웠다. 이 수치는 코스피지수가 2000이 붕괴된 지난 9일 이후 급속도로 증가했는데 32조원이었던 예탁금이 13거래일만에 무려 40.7%나 폭증했다.일일거래금액도 사상 최고치를 연일 경신 중이다. 한국거래소에 따르면 지난 27일 코스피·코스닥 시장에서 거래대금이 27조6971억원을 기록했다. 지난 26일부터 매일 두 시장에서 각각 10조원 이상 거래되며 유례없는 거래열풍이 이어지고 있다.주식거래활동 계좌수도 3000만개를 넘어서며 경제활동 인구(약 2800만명)를 넘어섰다. 이같이 급증한 개인투자자들은 외국인의 투매공세를 든든히 막아선 방파제 역할을 했다. 3월 들어 외국인은 12조원 넘게 국내주식을 순매도했지만 개인들이 10조원 넘게 주식을 사들이며 대부분의 물량을 받아냈다.━◇'빚투'는 감소세━반면 빚을 내 투자하는 이들의 현황을 알 수 있는 '신용융자잔고'는 급감하고 있다. 금투협회에 따르면 신용융자잔고는 이달 13일 10조원이 깨진 후 △17일 8조 △19일 7조로 급락한 후 23일부터 6조원대를 유지하고 있다. 증권업계에 따르면 사실상 융자잔고가 바닥수준에 가깝다는 설명이다.최근 급등락이 반복되는 장에 주식이 강제로 처분당한 '반대매매'의 결과로 풀이된다. 신용거래융자 잔고는 개인이 주식을 사기 위해 해당 주식을 담보로 증권사에 빌린 금액이다. 주식 신용거래는 일정 보증금율(40~45%)을 맞추면 증권사에서 나머지 금액을 빌려 주식을 사는 거래방법을 말한다. 주가 상승기에는 융자를 레버리지 삼아 더 높은 수익률을 얻을 수 있다. 하지만 빚을 내 산 주식의 주가가 폭락해 대출받은 개인이 만기일(통상 3개월)까지 돈을 갚지 못할 경우 증권사가 주식을 강제매도하는 '반대매매'를 통해 돈을 회수한다.━◇\"최종 승자는 외국인이 아닌 개인\"━최근 일부 누리꾼들은 주식시장에서 개인과 외국인 투자자가 치고받는 상황을 동학농민운동에 빗대 '동학개미운동'으로 표현한다/사진=인터넷 커뮤니티 캡쳐전문가들은 코로나19의 글로벌확산이 여전히 진행 중이고 실물경기에 얼마나 충격을 줄지 예측하기 어렵다며 섣부른 투자에 경고음을 내고 있다. 하지만 최근 주요 선진국들이 대규모 양적완화 정책을 내놓으며 시장안정화에 나서는 만큼 장기적인 관점의 투자는 고려해볼 만한 선택지라는 입장이다.박기현 유안타증권 리서치센터장은 \"개인들은 국내 부동산억제 정책과 저금리로 마땅한 투자처가 없는 게 사실이다. 길게 본다면 (지금 투자하는 것이) 나쁘지 않은 전략\"이라면서도 여전한 시장변동성을 주의해야 한다고 강조했다.박 센터장은 \"리스크관리 지표는 조금 완화됐지만 공포심리지수로 불리는 VIX지수가 최대 80을 넘었다가 최근 60으로 떨어졌다. 여전히 높은 수치\"라며 \"보통 10~20이 일반적이다. 여전히 시장에 변동성이 높다는 신호\"라고 설명했다.개미의 승리를 예상하는 주장도 있다. 김용구 하나금융투자 연구원은 '개미가 이긴다'는 보고서를 통해 \"개인투자가의 'Buy Korea' 행렬로 말미암아 잠재적 하방 완충력과 반등 탄력이 동시에 한층 강화된 것은 분명하다\"며 \"코로나19 파장이 글로벌 매크로 환경의 괴멸적 상황변화로 직결되는 것이 아니라면 이번 사이클의 최종 승자는 외국인이 아닌 개인\"이라고 밝혔다.그러면서 \"개인 및 가계의 코스피 대형주 시장외면과 액티브 주식형 공모펀드를 위시한 간접투자기구에 대한 불신을 떨치는 한국 자본시장의 역사적 분수령이 될 것으로 기대한다\"고 강조했다.조준영 기자 cho@mt.co.kr▶줄리아 투자노트▶조 변호사의 가정상담소▶머니투데이 구독하기<저작권자 ⓒ '돈이 보이는 리얼타임 뉴스' 머니투데이, 무단전재 및 재배포 금지>\n",
      "\n",
      "제목 :  국내 진단키트업체 3곳 美 FDA 사전승인? 혼란만 초래한 외교부\n",
      "제목 :  국내 진단키트업체 3곳 美 FDA 사전승인? 혼란만 초래한 외교부\n",
      "링크 :  /main/ranking/read.nhn?mid=etc&sid1=111&rankingType=popular_day&oid=015&aid=0004314834&date=20200329&type=1&rankingSeq=8&rankingSectionId=101\n",
      "\n",
      "문재인 대통령은 지난 25일 서울 송파구의 진단키트 개발업체 씨젠을 방문해 시약개발 현장을 시찰했다. 사진=연합뉴스외교부가 국내 신종 코로나바이러스 감염증(코로나19) 진단키트 3개가 미국 식품의약국(FDA)의 '사전 승인'을 받았다고 발표하면서 혼란이 커지고 있다. '사전승인'의 의미가 불명확한데다 외교부가 해당 업체가 어딘지도 밝히지 않고 있어서다.외교부는 28일 \"국내 코로나19 진단키트 생산업체 3곳의 제품이 FDA로부터 긴급사용승인 절차상 사전승인을 획득했다\"며 \"FDA 사전승인 획득으로 해당 국산 제품은 미국 시장에서 판매가 가능하다\"고 전했다.그러나 외교부는 사전승인을 받은 업체 3곳이 어디인지는 밝히지 않았다.현재 국내 씨젠, 솔젠트, 랩지노믹스, 코젠바이오텍 등이 미국 FDA에 코로나19 진단키트의 긴급사용승인(EUA·Emergency Use Authorization)을 신청했으나 아직 결과를 받지 못한 상황이다.FDA 공식 홈페이지의 코로나19 진단키트 EUA 허가 리스트에도 국내 업체는 포함돼있지 않다.업체들은 외교부가 언급한 절차상 '사전승인'이 무엇을 의미하는지에 대해서도 의문이라는 지적이다. 외교부는 사전승인으로 해당 제품이 미국에서 판매가 가능하다고 했으나, 이미 씨젠 등 국산 진단키트 일부 제품이 미국에서 사용되고 있기 때문이다.현재 씨젠은 미국을 포함해 전 세계 40개국 이상에 코로나19 진단키트를 수출 중이다. 미국에서는 현지 실험실 표준인증인 클리아(CLIA) 인증을 받은 연구소 등에서 자체 판단에 따라 FDA 허가 없이 사용하고 있다.미국 LA 시의회 등에서도 씨젠으로부터 코로나19 진단키트를 구매하겠다고 발표한 상황이다.일각에선 코로나19와 관련해 국내 주식시장이 예민한 상황에서 외교부가 불명확한 내용으로 혼란만 초래했다는 지적이 나온다. 최근 코로나19 진단키트주는 해외 수출 소식이 잇따르면서 주가가 연일 급등하고 있다.한경닷컴 뉴스룸 open@hankyung.com▶ 네이버에서 한국경제 뉴스를 받아보세요▶ 한경닷컴 바로가기  ▶ 모바일한경 구독신청ⓒ 한국경제 & hankyung.com, 무단전재 및 재배포 금지\n",
      "\n",
      "제목 :  삼성 \"손석희 '삼성 배후' 주장 황당\"…김웅 \"아무 배후 없다\"\n",
      "제목 :  삼성 \"손석희 '삼성 배후' 주장 황당\"…김웅 \"아무 배후 없다\"\n",
      "링크 :  /main/ranking/read.nhn?mid=etc&sid1=111&rankingType=popular_day&oid=008&aid=0004385092&date=20200329&type=1&rankingSeq=9&rankingSectionId=101\n",
      "\n",
      "[머니투데이 박소연 기자] [(상보)삼성 \"손석희 주장, 사실관계·시기 맞지 않아…기업 이미지 타격\"]손석희 JTBC 대표이사가 지난 1월2일 경기 고양시 일산 JTBC 스튜디오에서 'JTBC 뉴스룸 신년특집 대토론 2020'을 진행하고 있다. /ㅅ진=뉴스1손석희 JTBC 대표이사 사장이 '박사방' 운영자 조주빈에게 금품을 건넨 이유로 '삼성 배후'를 언급한 데 대해 삼성은 \"황당하다\"는 입장을 재차 밝혔다. 수년 전 '미투'(Me too) 운동이 한창일 때 삼성이 자신을 뒷조사했다는 손 사장의 주장에 대해서도 사실관계가 맞지 않다고 반박했다.삼성 관계자는 29일 \"조씨가 손 사장에 삼성을 언급하며 협박을 했다면 수사기관에 신고하고 JTBC를 통해 보도를 하지 않았겠나\"라며 \"손 사장의 해명은 뜬금없는 데다 객관적 사실이나 전후 관계가 전혀 맞지 않다\"고 말했다.이 관계자는 또 \"불미스러운 사건에 전혀 무관한 삼성을 왜 언급하는지 알 수 없다\"며 \"미래전략실은 2017년 2월에 해체됐는데 시기적으로도 손 사장의 주장은 맞지 않다\"고 반박했다. 국내에서 미투 운동이 시작된 시점은 2018년 1월 서지현 검사의 폭로 직후로 이때는 이미 삼성 미전실이 해체된 지 1년여가 지난 시점이다.삼성 관계자는 \"범죄자 조씨야 무슨 말이든 지어낼 수 있겠지만 손 사장이 삼성을 거론한 건 다른 문제\"라며 \"불미스러운 사건과 전혀 무관한 삼성이 언급된 것만으로 기업 이미지에 막대한 타격을 입을 수 있다\"고 지적했다.인터넷 메신저 텔레그램에서 미성년자를 포함한 여성들의 성 착취물을 제작 및 유포한 혐의를 받는 '박사방' 운영자 조주빈(25)이 25일 서울 종로구 종로경찰서 유치장에서 나와 검찰로 송치되고 있다. /사진=뉴스1손 사장은 지난 27일 오후 서울 마포구 상암동 JTBC 사옥에서 회사 기자들에게 자신이 법적 분쟁 중인 김웅 프리랜서 기자 배후에 삼성이 있다는 조씨의 말을 믿고 신고를 미뤘다고 해명한 것으로 알려졌다.손 사장은 이 자리에서 \"흥신소로 위장한 조씨가 김씨와의 친분의 증거를 보여주면서 '김웅 뒤에 삼성이 있다'는 식의 위협을 했다\"며 \"이들 배후에 삼성이 있다는 생각이 미치자 신고해야 한다는 판단이 잘 서지 않았다\"는 취지의 주장을 편 것으로 알려졌다.손 사장은 또 '미투' 운동이 한창이던 2018년 삼성 미래전략실 직원들이 자신을 뒷조사했다고 주장했다. 삼성 측이 자신이 성신여대 교수 재직 시절 비슷한 의혹이 있는지를 살폈고 최근엔 자택 CCTV(폐쇄회로TV)에 위협이 감지됐다면서 자신이 불안한 상태에 놓여있음을 강조한 것으로 전해졌다.한편 김웅 기자는 지난 28일 오후 자신의 유튜브 채널 '김웅기자Live'에서 자신에게는 아무 배후가 없다며 \"어느 기업이라도 제 배후가 돼 달라\"고 말했다. 그는 \"손 사장이 조주빈을 이용해 저를 언급했다\"며 \"인용할 사람의 말을 인용해야지 자칭타칭 악마의 말을 인용하느냐\"고 분개했다. 이어 \"조주빈의 말을 그대로 인용하자면 '손 사장이 과천에 갔을 때 차에 아기가 있었고 차 안에 있던 여성은 누구나 아는 사람'이라며 혼외자를 암시했으나 나는 그런 말 믿지 않았다\"고 강조했다.박소연 기자 soyunp@mt.co.kr▶줄리아 투자노트▶조 변호사의 가정상담소▶머니투데이 구독하기<저작권자 ⓒ '돈이 보이는 리얼타임 뉴스' 머니투데이, 무단전재 및 재배포 금지>\n",
      "\n",
      "제목 :  통화스와프 자금 120억달러 이번주 풀린다…금융위기 때의 3배\n",
      "제목 :  통화스와프 자금 120억달러 이번주 풀린다…금융위기 때의 3배\n",
      "링크 :  /main/ranking/read.nhn?mid=etc&sid1=111&rankingType=popular_day&oid=366&aid=0000498235&date=20200329&type=1&rankingSeq=10&rankingSectionId=101\n",
      "\n",
      "한은, 총 한도 600억달러의 20% 다음달 2일 공급 \"항후 입찰규모·횟수 등 자금시장 상황 따라 결정\" 한·미 통화스와프로 마련된 자금 중 120억달러(약 14조6000억원)가 다음달 2일 시장에 공급된다. 전체 한도 600억달러 중 20%가 우선적으로 시장에 공급되는 것으로, 글로벌 금융위기 당시 1차 공급액(40억달러)의 3배에 달하는 규모다. 한국은행은 미국 연방준비제도(Fed)와의 통화스와프 자금 중 120억달러를 경쟁입찰을 통한 외화대출 방식으로 시장에 공급하겠다고 29일 밝혔다. 이는 지난 25일(현지시간) 미 연준과의 본계약이 마무리 된 데 따른 것이다. 한은 관계자는 \"1차에 공급하는 자금 120억달러는 기업들의 수출입금융, 외화자금시장의 단기자금수요 등을 종합적으로 고려했다\"고 말했다. 서울 명동 하나은행 위폐감별실에서 한 직원이 미국 달러를 살펴보고 있다./연합뉴스한은은 오는 31일 오전 10시~10시30분 입찰을 진행한다. 총 입찰금액 120억달러를 7일물 20억달러, 84일물 100억달러 등으로 공급한다. 응찰금액은 최소 100만달러, 최대 3억달러(7일물), 15억달러(84일물)다. 만기일은 7일물의 경우 내달 9일, 84일물은 오는 6월 25일이다. 입찰 참가기관은 은행, 산업은행, 기업은행, 한국수출입은행 등으로, 입찰은 각 낙찰자가 응찰시 제시한 금리를 적용하는 복수가격방식으로 결정됐다. 이들 은행은 대출금액의 110%에 해당하는 담보를 제공해야 한다. 담보로는 한은의 환매조건부채권(RP)매매 대상증권 중 국채, 정부보증채, 통화안정증권 등이 해당되는데 부족할 경우에는 주택저당증권(MBS), 은행채 그리고 원화 현금도 인정된다. 이는 금융기관들이 외화대출금 반환의무를 불이행할 위험에 대비한 조치다.  최저응찰금리는 달러 오버나이트 인덱스 스와프(OIS) 금리에 25bp(1bp=0.01%포인트)를 더한 수준으로, 한은이 30일 오후 4시 홈페이지를 통해 발표할 예정이다. OIS금리는 국내외 금융기관 간의 초단기 외화자금에 대한 금리를 의미한다. 응찰금리가 한은이 공고한 금리보다 낮을 경우 해당 응찰은 무효로 처리된다. 한은은 1차적으로 120억달러를 시장에 푼 뒤 외화자금사정을 담안에 추가 입찰 규모·일시를 결정할 예정이다. 2008년 글로벌 금융위기 당시 한은은 미 연준과의 통화스와프로 마련한 300억달러 규모의 자금을 총 5차례에 걸쳐 공급했다. 당시 1차 공급액은 40억달러로, 이번에는 세 배로 커진 것이다. 한은은 12년 전보다 기업의 수출입과 외화자금시장의 규모가 커진 데 따라 자금 공급 규모가 늘어났다고 설명했다. 한편 지난 19일 한·미 통화스와프 체결 소식이 전해진 이후 각국의 경기부양책이 이어지면서 외환시장은 진정세를 보이고 있다. 당일 1285.7원(종가)까지 치솟았던 원·달러 환율은 27일 1210.6원까지 내려왔다. [조은임 기자 goodnim@chosunbiz.com]\t[조선비즈 창간 10주년 기획 '남극은 전쟁 중' 기사 보러가기]\t[네이버 메인에서 조선비즈 받아보기]\t[조선비즈 바로가기]\tchosunbiz.com\n",
      "\n",
      "제목 :  이재명 \"선 넘지말라\"···진중권 \"조국의 진실, 이 지사도 안다\"\n",
      "제목 :  이재명 \"선 넘지말라\"···진중권 \"조국의 진실, 이 지사도 안다\"\n",
      "링크 :  /main/ranking/read.nhn?mid=etc&sid1=111&rankingType=popular_day&oid=025&aid=0002988330&date=20200329&type=1&rankingSeq=1&rankingSectionId=102\n",
      "\n",
      "이재명 경기도지사, 조국 전 법무부 장관, 진중권 전 교수. [연합뉴스]        ▶“할 일에 집중하고 누군가를 공격하더라도 선을 넘지 말았으면 좋겠다” (이재명 경기도지사)     ▶“명심하고 유의할 테니 서초구민 인권 지키는 틈틈이 경기도민 생명 지키는 일에도 신경 써주셨으면 한다” (진중권 전 동양대교수)     이재명 경기도지사와 진중권 전 동양대 교수가 29일 서로를 공개 언급하며 날 선 말을 주고받았다.      시작은 이 지사였다. 이 지사는 이날 페이스북에 올린 ‘진중권 교수님, 잔인한 인권침해 그만하시지요’라는 제목의 글에서 진 전 교수가 조국 전 법무부 장관을 겨냥한 공격을 그만해달라 촉구했다. 이는 진 전 교수가 지난 27일 “조 전 장관에게 더 파렴치한 일이 있었다”고 주장한 글을 반박한 것이다.       이 지사는 “조 전 장관에 대한 유무죄는 법원이 판단할 것”이라며 “그분이 검찰수사과정에서 당하지 않아도 될 잔인한 인신공격과 마녀사냥을 당한 것은 부인할 수 없다”고 말했다.      그러면서 “무죄 추정원칙은 차치하고라도 흉악범조차 헌법이 보장하는 최소한의 인권이 있다”며 “어디서 들은 말인지는 몰라도 구체적 근거도 없이 더 파렴치한 일도 있었다는 진 교수 주장은 그야말로 마녀사냥의 연장이자 인권침해”라고 지적했다.       이 지사는 진 전 교수가 “민주당이 이번 총선에서 크게 이기고, 조국 수호대들이 민주당에 합류하면 조국 복권운동이 일어날 수 있다”고 주장한 데 대해서는 이렇게 따져 물었다. “총선에서 민주당이 100% 이긴다고 한들 총선 후라면 1심도 채 끝나지 않을 터인데 무슨 수로 치열한 법정공방 도중에 형이 확정되어야 가능한 복권을 논의한다는 말입니까”     이 지사는 “쓰러진 사람에게 발길질하는 것 같은 진 교수 말이 참 불편하다”며 “뭔가에 쫓기시는 것 같은 느낌을 지울 수 없는데, 할 일에 집중하고 누군가를 공격하더라도 선을 넘지 말았으면 좋겠다”라고도 했다.그러자 진 전 교수는 이날 자신의 페이스북에 이 지사를 향한 글을 남겼다. 그는 “명심하고 각별히 유의할 테니 안심하라”며 “서초구민 인권 지키는 틈틈이 경기도민 생명을 지키는 일에도 신경을 써줬으면 한다. 대구에서는 시장님이 방역에 지쳐서 실신까지 하셨었다”고 말했다. 진 전 교수가 언급한 서초구민은 서초구 방배동에 사는 조 전 장관을 가리키는 것으로 보인다.         진 전 교수는 또 “조 전 장관과 관련한 진실은 저도 이 지사도 잘 안다”고 덧붙였다.      앞서 진 전 교수는 27일 페이스북에 “법정에서 유무죄를 따지는 것보다 우리의 유일한 관심사는 조국과 그 일가가 과연 공인되기에 적절한 삶을 살아왔느냐는 것”이라는 내용이 담긴 글을 올렸다. 진 교수는 이 글에서 조 전 장관 일가를 거론하며 “웅동학원 탈탈 털어먹었죠? 동양대도 대입용 허위증명 발급의 수단으로 잘도 이용해 먹었죠? 내가 말을 안 해서 그렇지 그보다 더 파렴치한 일도 있었다”고 주장했다.       채혜선 기자 chae.hyeseon@joongang.co.kr ▶ 그래서, 팩트가 뭐야? 궁금하면 '팩플'▶ 내 돈 관리는 '그게머니' / 중앙일보 가기ⓒ중앙일보(https://joongang.co.kr), 무단 전재 및 재배포 금지\n",
      "\n",
      "제목 :  격리 무시, 마스크 무시, 자전거 타고 골프 쳤다···이런 외국인\n",
      "제목 :  격리 무시, 마스크 무시, 자전거 타고 골프 쳤다···이런 외국인\n",
      "링크 :  /main/ranking/read.nhn?mid=etc&sid1=111&rankingType=popular_day&oid=025&aid=0002988320&date=20200329&type=1&rankingSeq=2&rankingSectionId=102\n",
      "\n",
      "25일 경기 수원시 장안구 연무시장에서 신종 코로나바이러스 감염증(코로나19) 확산 방지를 위해 연무동 자율방역단 회원들이 소독을 하고 있다. [뉴시스]        ‘수원 27번 환자’로 명명된 30대 영국인 남성이 신종 코로나바이러스 감염증(코로나19) 유증상으로 입국해 확진 판정을 받기 전까지 닷새 동안 마스크를 쓰지 않고 4개 도시를 돌아다녔던 것으로 확인돼 비판을 받고 있다. 검체채취 다음에는 자가격리를 해야 한다는 지침을 어긴 것이다. 수원시는 이 남성에게 책임을 묻기로 했다.      29일 경기도 수원시가 공개한 영국인 남성 A의 동선에 따르면 그는 태국을 방문한 뒤 지난 20일 오전 8시45분 인천국제공항으로 입국했다. 지난 14일 기침 증상을 보였던 A는 감염경로가 태국으로 추정된다. 태국은 출장 차 다녀왔다고 한다.      A는 공항에서 리무진버스를 타고 경기도 용인시로 온 다음 버스를 타고 수원시 영통구 황골마을 버스정류장에서 내렸다. 걸어서 영통1동 자신의 오피스텔에 도착했다.      다음 날인 21일 오전 10시57분 지인 차를 타고 타 지역으로 이동했다. 오후 7시15분 지하철로 수원역에 도착해 분당선으로 환승하고 청명역에서 내려 도보로 귀가했다. 22일에는 오후 5시51분 오토바이를 타고 영통3동 수원반달공원에 들렀다가 오후 9시15분 집에 갔다. 23일 오후 3시30분 오토바이로 영통구보건소 선별진료소를 방문해 검체채취를 받고 귀가했다. 오후 4시30분 자전거를 타고 타 지역을 방문했다가 오후 11시52분 집으로 돌아왔다. 검체 검사를 받으면 자가격리를 해야 하는데도 이를 지키지 않고 수원시와 인근 도시를 이동한 것이다.      A는 검사를 받은 다음 날인 24일 오전 9시40분 영통3동에 있는 한 스크린 골프장을 방문했다. 3시간20분 뒤인 낮 12시50분 확진 판정을 받고 경기도의료원 성남병원으로 이송됐다.     태국서 귀국 후 5일간 4개 도시 돌아다녀     이 남성은 공항 도착 후 감염 확인 전까지 5일간 마스크를 착용하지 않은 채 수원·용인·과천·서울 4개 도시를 이동한 것으로 파악됐다. A의 접촉자로 분류된 사람은 총 23명이다. 아직 이들 가운데 확진자는 나오지 않았지만 모두 자가격리된 상태다.      이 남성의 동선이 알려지자 수원시청 홈페이지 시민 게시판 등에는 이 남성에 대한 처벌을 촉구하는 글이 올라왔다. 수원시청 블로그에는 “추방해라” “간접살인이다” “외국인을 왜 입국시켜 내국인을 피해받게 하나” “제주관광 미국 유학생 모녀처럼 엄중 처벌 부탁한다” 등과 같은 댓글이 달렸다.      염태영 수원시장은 자신의 페이스북에서 “A는 증상 발현 후 입국해 마스크를 착용하지 않은 채 여러 곳을 방문해 수원시와 타 지역에 많은 접촉자를 만들었다”며 “수원시는 향후 이에 대해 엄중한 책임을 물을 계획”이라고 밝혔다.       수원시 관계자는 “검토해봐야 알겠지만, 추가 확진자가 나온다면 A는 감염병 관련 법에 따라 처벌받게 될 것”이라고 말했다.     채혜선 기자 chae.hyeseon@joongang.co.kr   수원시가 공개한 A 동선 (3월 20일, 금) 마스크 미착용   - 08:45 인천국제공항으로 귀국   - 09:30~10:45 공항 리무진버스로 인천국제공항에서 용인 지역으로 이동   - 10:50 버스로 용인 지역에서 영통구 ‘황골마을 버스정류장’으로 이동   - 10:57 버스에서 하차하여 도보로 귀가   - 21:33 도보로 용인 지역으로 이동   (3월 21일, 토) 마스크 미착용   - 01:14 도보로 귀가   - 10:57 지인의 개인차량 동승하여 자택에서 타 지역으로 이동 * ‘접촉자 1명' 발생 판정   - 19:15~20:44 타 지역에서 지하철로 ‘수원역’ 도착, 분당선 환승 ‘청명역’ 하차하여 도보로 귀가   (3월 22일, 일) 마스크 미착용   - 자택에서 생활 중,   - 14:45 자전거로 A장소 방문   * ‘접촉자 없음’ 판정   - 16:59 자전거로 B장소 방문   * ‘접촉자 없음’ 판정   - 17:05 자전거로 자택으로 이동   - 17:51 오토바이로 ‘수원반달공원’ (영통3동) 방문 * ‘접촉자 1명' 발생 판정   - 19:45 도보로 인근 C장소 방문   * ‘접촉자 없음’ 판정   - 21:15 오토바이로 귀가   (3월 23일, 월) 마스크 미착용   - 자택에서 생활 중, * ‘접촉자 2명' 발생 판정   - 15:30 오토바이로 영통구보건소 선별진료소 방문, 검체 채취 및 진단검사 의뢰   - 15:38 오토바이로 귀가   - 16:30 자전거로 타 지역으로 이동   - 23:52 타 지역에서 자전거로 귀가   (3월 24일, 화) 마스크 미착용   - 09:40 오토바이로 자택에서 ‘스카이 스크린 골프존’ (영통3동) 방문 * ‘접촉자 3명' 발생 판정   - 12:50 녹십자의료재단 검사결과 ‘양성’ 판정   - 13:01 오토바이로 귀가   - 17:16 경기도의료원 성남병원 격리 입원  ▶ 그래서, 팩트가 뭐야? 궁금하면 '팩플'▶ 내 돈 관리는 '그게머니' / 중앙일보 가기ⓒ중앙일보(https://joongang.co.kr), 무단 전재 및 재배포 금지\n",
      "\n",
      "제목 :  목포시 \"카페·PC방 다닌 20대 확진자, 격리 위반 아니다\"…왜?\n",
      "제목 :  목포시 \"카페·PC방 다닌 20대 확진자, 격리 위반 아니다\"…왜?\n",
      "링크 :  /main/ranking/read.nhn?mid=etc&sid1=111&rankingType=popular_day&oid=031&aid=0000531790&date=20200329&type=1&rankingSeq=3&rankingSectionId=102\n",
      "\n",
      "\"A씨 귀국 당시, 동남아 입국자들 자가격리 대상자 아니었다\"[아이뉴스24 권준영 기자] 2달 간 태국에 다녀온 뒤 신종 코로나바이러스 감염증(코로나19) 확진 판정을 받은 20대 남성이 광주 지역 백화점과 미용실, PC방 등을 방문하며 사회적 논란이 제기됐다. 목포시는 이 남성이 자가격리를 위반하지 않은 것으로 판단했다.이는 앞서 보건당국의 입장과는 배치되는 것이다. 보건당국은 A씨가 자가격리를 위반했다고 보고 무관용 원칙에 따라 고발 조치하겠다는 입장을 밝힌 바 있다. [아이뉴스24 DB]29일 목포시는 태국 여행을 마친 뒤 목포 산정동에 거주하고 있는 A씨(25)가 전날 코로나19 검사에서 양성이 나와 격리치료를 받고 있다고 밝혔다.A씨는 태국에서 2달여 동안 머문 뒤 지난 26일 오전 9시 25분 인천공항을 통해 입국했으며 광주에서 하루를 보내고 27일 오후 3시40분께 고속버스를 이용해 목포에 도착했다. 같은 날 오후 4시 30분 '외국 방문자 검사 방침'에 따라 목포시 보건소 선별진료소를 찾아 검사를 받았다.보건당국은 A씨가 외국에서 돌아온 점을 토대로 자가격리를 통보했다.하지만 A씨는 친구 2명과 함께 27일 오후 5시 15분께부터 40여분동안 식당, 커피전문점, 오후 7시부터 28일 오전 1시까지 PC방에 머물렀고 이후 마트에 들러 물품을 구입한 뒤 귀가했다.A씨는 28일 오전 1차 검사 결과 양성이 나왔지만 발열, 인후통 등 코로나19 증상을 보이지 않아 정확한 판정을 위해 전남도보건환경연구원에 2차 검사를 의뢰했고 이날 오후 9시께 '무증상 감염' 통보를 받은 바 있다.하지만 목포시는 A씨가 자가격리 위반에 해당되지 않는다고 밝혔다.A씨가 귀국해 돌아다녔을 당시에는 동남아에서 입국한 사람들은 자가격리 대상자가 아니였기 때문이다. 또 보건소에서 집에서 격리할 것을 권유했지만 권유는 강제성이 없기 때문에 자가격리 위반도 아니고 법적 처벌조항도 없다고 설명했다.28일 정부가 동남아까지 포함한다고 지침을 바꾼 만큼 이제부터 의무이기 때문에 위반이 될 수 있다는 것이 목포시의 설명이다.목포시 관계자는 \"A씨가 귀국해 돌아다닌 당시에는 동남아에서 귀국한 사람들은 자가격리 대상자가 아니였다\"며 \"보건소에서 격리할 것을 권유했지만 강제성이 없기 때문에 법적인 처벌 대상은 안된다\"고 말했다. 이어 \"28일에 정부가 유럽과 미국에 이어 동남아까지 포함한다고 지침이 바뀐 만큼 이제부터는 위반이 될 수 있다\"고 덧붙였다.한편, 앞서 보건당국은 해외에서 입국한 도내 거주자가 무단이탈 등 자가격리를 위반할 경우 무관용 원칙에 따라 '감염병의 예방 및 관리에 관한 법률'에 따라 고발 조치하겠다는 입장을 밝힌 바 있다.권준영기자 kjykjy@inews24.com▶네이버 채널에서 '아이뉴스24'를 구독해주세요.▶홍성택과 함께하는 희망찾기 등산·트레킹 교실▶아이뉴스24 바로가기[ⓒ 아이뉴스24 무단전재 및 재배포 금지]\n",
      "\n",
      "제목 :  \"김정숙 여사, 천안함 엄마를 노려봤다\" 누리꾼 갑론을박\n",
      "제목 :  \"김정숙 여사, 천안함 엄마를 노려봤다\" 누리꾼 갑론을박\n",
      "링크 :  /main/ranking/read.nhn?mid=etc&sid1=111&rankingType=popular_day&oid=023&aid=0003518873&date=20200329&type=1&rankingSeq=4&rankingSectionId=102\n",
      "\n",
      "문 대통령에 항의하는 유족, 40여초 무표정 응시\"무섭게 노려보았다\" vs \"상황에 맞는 표정일 뿐\"27일 오전 국립대전현충원에서 열린 '서해 수호의 날' 기념식에서 분향하려는 문재인 대통령에게 다가간 윤청자(77)씨를 김정숙 여사가 바라보고 있다/연합뉴스지난 27일 국립대전현충원에서 열린 ‘서해수호의 날’ 기념식에서 김정숙 여사가 지은 표정이 논란이 되고 있다. 현충탑에 분향하려는 문재인 대통령에게 달려가 “(천안함 폭침이) 누구 소행인가 말씀 좀 해주세요”라고 물었던 윤청자(77)씨를 김 여사가 째려봤다는 것이다. 인터넷 커뮤니티 등에서 갑론을박이 이어지고 있다.28일 인터넷 커뮤니티, 소셜미디어 등에는 윤씨를 바라보는 김정숙 여사 표정을 담은 사진과 영상이 화제가 됐다. 영상에 따르면 문 대통령이 헌화하는 동안 허공을 응시하던 김 여사는 윤씨가 달려들자 굳은 표정으로 윤씨를 바라봤다. 윤씨가 대통령에게 “이 늙은이 한 좀 풀어주세요” “대통령님께서 꼭 밝혀주세요”라고 말하는 약 40초 동안 김 여사는 윤씨에게 시선을 떼지 않았다. 문 대통령이 “걱정 안하셔도 됩니다”라고 답하고 윤씨가 자리로 돌아가는 동안 김여사는 눈을 2초 정도 감고 있었다.인터넷 커뮤니티에서는 “김정숙 여사가 윤씨를 무섭게 노려봤다”는 주장이 나왔다. 김여사가 세월호 유가족과 이야기를 나누며 안타까운 표정을 짓던 모습, 지난해 5·18 민주화운동 기념식에서 눈물을 흘리던 모습과 비교하며  “태도가 딴 판이다”는 비판도 나왔다. “어르신에게 다가가서 위로를 드렸으면 좋지 않았겠냐”는 지적도 있었다.그러나 문 대통령이 분향을 하는 엄숙한 순간이었기 때문에 김 여사가 특별한 표정이나 행동을 취할 수 없었던 것 뿐이라는 반론도 있다. 김 여사가 그 상황에 무표정이 아닌 다른 표정을 짓거나 행동을 하는 것도 부자연스럽다는 것이다.당시 김 여사 뒷편에 서 있었던 한 유가족은 본지 통화에서 “논란을 알고 있다”면서 “사람이라면 본인만의 감정과 생각이 있는건데, 김 여사도 자신만의 감정이 있을 수 있다고 생각한다. 그런 부분까지 문제삼고 싶지는 않다”고 말했다.[원우식 기자 ssikssik2@chosun.com]\t\t[네이버 메인에서 조선일보 받아보기]\t\t[조선닷컴 바로가기]\t\t[조선일보 구독신청하기] \t- Copyrights ⓒ 조선일보 & chosun.com, 무단 전재 및 재배포 금지 -\n",
      "\n",
      "제목 :  [속보]국내 해외발 코로나19 감염자 412명…외국인 35명\n",
      "제목 :  [속보]국내 해외발 코로나19 감염자 412명…외국인 35명\n",
      "링크 :  /main/ranking/read.nhn?mid=etc&sid1=111&rankingType=popular_day&oid=003&aid=0009783280&date=20200329&type=0&rankingSeq=5&rankingSectionId=102\n",
      "\n",
      "[서울=뉴시스] ▶ 선택 2020, 제21대 총선의 모든 것▶ K-Artprice, 유명 미술작품 가격 공개▶ 뉴시스 빅데이터 MSI 주가시세표 바로가기 <ⓒ 공감언론 뉴시스통신사. 무단전재-재배포 금지>\n",
      "\n",
      "제목 :  수원 영국인 확진자 마스크 없이 23명 접촉… 학원 강사도 포함\n",
      "제목 :  수원 영국인 확진자 마스크 없이 23명 접촉… 학원 강사도 포함\n",
      "링크 :  /main/ranking/read.nhn?mid=etc&sid1=111&rankingType=popular_day&oid=277&aid=0004651427&date=20200329&type=1&rankingSeq=6&rankingSectionId=102\n",
      "\n",
      "태국서 귀국 자가격리 어기고  외부 활동접촉자 중 용인 서천지구 학원 강사 포함추가 확진자는 나오지 않고 있는 상황[이미지출처=연합뉴스][아시아경제 조성필 기자] 경기 수원시에 사는 30대 영국인 남성이 신종 코로나바이러스감염증(코로나19) 유증상으로 입국해 확진 판정을 받기 전까지 닷새동안 마스크를 쓰지 않은 채 4개 도시를 이동하면서 모두 23명과 접촉한 것으로 나타났다.29일 수원시가 공개한 영국인 남성 A(수원 27번 확진자)씨의 동선을 펴보면 태국을 방문한 뒤 지난 20일 오전 8시 45분 인천국제공항으로 입국했다. 지난 14일 기침 증상을 보여 감염경로가 태국으로 추정된다.A씨는 공항에서 리무진버스를 타고 용인으로 온 뒤 버스를 타고 수원시 영통구 황골마을 버스정류장에서 하차, 걸어서 영통1동 자신의 오피스텔로 갔다.다음 날인 21일 오전 10시57분 지인의 차를 타고 타 지역으로 이동하고 나서 오후 7시15분 지하철로 수원역에 도착해 분당선으로 환승하고 청명역에서 내려 도보로 귀가했다.22일에는 오후 5시51분 오토바이를 타고 영통3동의 수원반달공원에 갔다가 오후 9시15분 집에 돌아갔다.23일 오후 3시30분 오토바이로 영통구보건소 선별진료소를 방문해 검체채취를 받고 귀가한 뒤 자전거를 타고 타 지역을 방문했다. 검사를 받은 사람은 자가격리를 해야 하는데도 이를 어기고 수원시와 인근 도시를 이동한 것이다.A씨는 검사를 받은 다음 날인 24일 오전 9시 40분 영통3동에 있는 스카이 스크린 골프존을 방문했고, 3시간20분 뒤인 낮 12시50분 확진판정을 받고 경기도의료원 성남병원에 이송됐다.수원시와 질병관리본부는 이 남성이 공항 도착후 확진판정을 받기 전까지 마스크를 착용하지 않은 채 수원, 용인, 과천, 서울 등 4개 도시를 이동한 것으로 파악했다.검체 검사를 받고 나서도 자가격리 수칙을 지키지 않은 채 다중이 이용하는 실내체육시설을 이용하면서 수원에서만 총 6명의 접촉자가 발생했다.용인, 과천, 서울의 접촉자까지 포함하면 A씨의 접촉자로 분류된 사람은 총 23명이다.다행히 이들 가운데 확진자는 한명도 발생하지 않았지만, 정상적인 생활을 하지 못한 채 모두 자가격리된 상태다. 이 가운데는 용인 서천지구에 소재한 한 학원의 강사도 포함된 것으로 알려졌다.조성필 기자 gatozz@asiae.co.kr▶ 소름 쫙! 2020년 내 대운 시기 확인하기▶ 네이버에서 아시아경제 뉴스를 받아보세요▶ 놀 준비 되었다면 드루와!  드링킷!<ⓒ경제를 보는 눈, 세계를 보는 창 아시아경제 무단전재 배포금지>\n",
      "\n",
      "제목 :  국산 진단키트 3개 미국 FDA 사전승인?…\"외교부가 혼란 초래\"\n",
      "제목 :  국산 진단키트 3개 미국 FDA 사전승인?…\"외교부가 혼란 초래\"\n",
      "링크 :  /main/ranking/read.nhn?mid=etc&sid1=111&rankingType=popular_day&oid=001&aid=0011506539&date=20200329&type=1&rankingSeq=7&rankingSectionId=102\n",
      "\n",
      "FDA 긴급사용승인 목록에 국내업체 없어…\"미국서 국산 키트 이미 사용 중\"코로나19 한국형 진단키트 수출 ㆍ 지원 (PG)[장현경 제작] 사진합성·일러스트    (서울=연합뉴스) 김잔디 기자 = 국산 신종 코로나바이러스 감염증(코로나19) 진단키트 3개가 미국 식품의약국(FDA)의 '사전 승인'을 받았다는 외교부의 발표에 진단업계가 혼란에 빠졌다.     미국 내 연구소들에 코로나19 진단키트를 납품·수출하고 있는 업체들은 이미 판매가 가능한 상황에서 외교부 발표가 무슨 의미인지 모르겠다는 입장이다.    29일 진단업계에 따르면 전날 외교부의 '코로나19 국산 진단키트 3개 제품 미 FDA 긴급사용승인 절차상 사전승인 획득' 자료 발표 이후 해당 업체가 어디인지에 관심이 쏠리고 있다.     외교부는 \"미국 시간으로 27일 국내 코로나19 진단키트 생산업체 3곳의 제품이 FDA로부터 긴급사용승인 절차상 사전승인을 획득했다\"며 \"FDA 사전승인 획득으로 해당 국산 제품은 미국 시장에서 판매가 가능하다\"고 전했다.     그러나 외교부는 사전승인을 받은 업체 3곳이 어디인지 밝히지 않아 관련 진단기기 업계에서는 해당 업체를 '특정'하기 어렵다며 수소문하는 상황이 벌어졌다.    현재 씨젠, 솔젠트, 랩지노믹스, 코젠바이오텍 등이 미국 FDA에 코로나19 진단키트의 긴급사용승인(EUA·Emergency Use Authorization)을 신청했으나 아직 결과를 받지 못했다. FDA 공식 홈페이지의 코로나19 진단키트 EUA 허가 리스트에도 국내 업체는 포함돼있지 않다.    특히 업체들은 외교부가 언급한 절차상 '사전승인'이 무엇을 의미하는지에 대해서도 의구심을 드러내고 있다.    외교부는 사전승인으로 해당 제품이 미국에서 판매가 가능하다고 했으나, 이미 국산 진단키트 일부 제품이 미국에서 사용되고 있기 때문이다.     씨젠 관계자는 \"EUA 신청 제품의 경우 (서면으로) 사전 신청(Pre-Submission)하기 15일 전부터 사용할 수 있고, 이미 미국에서는 클리아(CLIA) 인증을 받은 연구소에서 우리 키트를 사용하고 있다\"며 \"판매가 가능해진다는 사전승인이라는 절차나 단계에 대해선 들어보지 못했다\"고 말했다.     이 관계자는 \"우리는 결과를 기다리고 있다\"며 \"외교부에서 언급한 사전승인은 심사 중인 단계로 공식 승인을 받은 게 아닌 것으로 파악하고 있다\"고 말했다.     현재 씨젠은 미국을 포함해 전 세계 40개국 이상에 코로나19 진단키트를 수출 중이다. 미국에서는 현지 실험실 표준인증인 클리아(CLIA) 인증을 받은 연구소 등에서 자체 판단에 따라 FDA 허가 없이 사용하고 있다. 미국 LA 시의회 등에서도 씨젠으로부터 코로나19 진단키트를 구매하겠다고 발표한 상황이다.     EDGC 역시 외교부의 발표와 관련해 어떤 정보도 받지 못했다는 입장이다. EDGC는 미국 FDA로부터 솔젠트의 진단키트 승인 여부 통보를 아직 받지 못해 상황을 예의주시하고 있다.    EDGC 관계자는 \"약 2주 전 FDA에 EUA를 신청해 결과를 기다리는 중인데, 외교부에서 사전승인 발표가 있어 확인하고 있다\"고 말했다.     일각에서는 주식시장이 예민한 상황에서 외교부가 불명확한 내용을 섣불리 발표해 주주들과 업체만 우왕좌왕하게 했다고 비판하고 있다.     국산 코로나19 진단키트가 선전하면서 관련 종목들이 단기간에 급상승한 가운데 외교부마저 이런 상황을 부채질하고 있다는 것이다.    익명을 요구한 진단기기 업계 관계자는 \"가뜩이나 시장이 예민한 상황인데 외교부가 나서서 어느 업체인지도 말하지 않고 발표해 혼란만 가중했다\"며 \"사전승인이라는 게 대체 뭔지도 모를뿐더러 무슨 의미가 있는지도 알기 어렵다\"고 꼬집었다.     jandi@yna.co.kr▶코로나19 속보는 네이버 연합뉴스에서 [구독 클릭]▶[팩트체크] 텔레그램 '성범죄' 사실은 이렇습니다▶제보하기\n",
      "\n",
      "제목 :  수원 영국인 확진자, 닷새동안 마스크 안쓴채 4개 도시 다녀\n",
      "제목 :  수원 영국인 확진자, 닷새동안 마스크 안쓴채 4개 도시 다녀\n",
      "링크 :  /main/ranking/read.nhn?mid=etc&sid1=111&rankingType=popular_day&oid=469&aid=0000482094&date=20200329&type=1&rankingSeq=8&rankingSectionId=102\n",
      "\n",
      "유증상으로 입국했는데도… 접촉자 23명 발생염태영 경기 수원시장은 24일 온라인 브리핑을 통해 “정부는 해외 입국자 명단을 자치단체에 실시간으로 공개해 줄 것을 요청한다”고 말했다. 염 시장이 상황판을 보며 설명하고 있다. 수원시 제공경기 수원시는 신종 코로나바이러스 감염증(코로나19) 유증상으로 입국해 확진 판정을 받기 전까지 마스크도 쓰지 않은 채 4개 도시를 다닌 30대 영국인 남성에 대해 법적 책임을 묻기로 했다. 수원시는 29일 영국인 남성 A(수원 27번 확진자)씨의 동선을 공개했다. 이 남성은 태국 방문기간인 14일 기침 증상을 보여 20일 오전 8시 45분 인천국제공항으로 입국했다. 감염경로는 첫 증상이 나온 태국으로 추정된다.A씨는 공항에서 리무진버스를 타고 용인으로 와 다시 버스를 타고 수원시 영통구 황골마을 버스정류장에서 하차, 걸어서 영통1동 자신의 오피스텔로 갔다. 이후 21일과 22일에도 지인의 자동차나, 지하철 등을 타고 수원반달공원 등을 다녔다. A씨는 이후 증상이 계속돼 23일 오후 3시 30분 영통구보건소 선별진료소를 방문해 검체 채취를 받고 귀가했다. 이후 그는 자가격리 지침을 어긴 것으로 파악됐다. 다음날인 24일 낮 12시50분 확진판정을 받았는데, 3시간 20분 전인 오전 9시 40분 영통3동에 있는 한 스크린 골프장을 방문한 것으로 확인됐기 때문이다. 그는 현재 경기도의료원 성남병원에 이송됐다.수원시와 질병관리본부는 이 남성이 공항 도착후 확진판정을 받기 전까지 마스크를 착용하지 않은 채 수원, 용인, 과천, 서울 등 4개 도시를 이동한 것으로 파악했다. 검체 검사 이후에도 자가격리 지침을 어긴 채 다중이 이용하는 실내체육시설을 이용, 수원에서만 총 6명의 접촉자가 발생했다.A씨의 타 지역 접촉자까지 합하면 23명이다. 다행히 이들 가운데 확진자는 한명도 발생하지 않았지만, 정상적인 생활을 하지 못한 채 모두 자가격리된 상태다.이 남성의 동선이 공개되자 수원시청 홈페이지에는 강력한 처벌을 촉구하는 글이 올라왔고 염태영 수원시장도 이 남성을 감염병 관리법에 따라 엄중한 책임을 묻겠다고 페이스북을 통해 밝혔다.이종구 기자 minjung@hankookilbo.com ▶네이버에서 한국일보 뉴스를 받아보세요 ▶뉴;잼을 보면 뉴스가 재밌다 [뉴스레터 구독하기] ▶한국일보닷컴 바로가기\n",
      "\n",
      "제목 :  \"종교 탄압말라\" \"교회가 이기적\" 사랑제일교회 앞서 뒤엉켰다\n",
      "제목 :  \"종교 탄압말라\" \"교회가 이기적\" 사랑제일교회 앞서 뒤엉켰다\n",
      "링크 :  /main/ranking/read.nhn?mid=etc&sid1=111&rankingType=popular_day&oid=025&aid=0002988337&date=20200329&type=1&rankingSeq=9&rankingSectionId=102\n",
      "\n",
      "29일 현장예배를 열려는 사랑제일교회 관계자들과 경찰이 충돌하는 모습. [연합뉴스]        “시민의 생명이 달려있다. 집회금지 행정명령 철저히 준수하라.”(장위10구역 조합원 일동)   “예배 또는 설교를 방해한 자는 3년 이하의 징역 또는 500만원 이하의 벌금에 처한다.”(사랑제일교회)━  \"찍지 마라\" \"종교 탄압\" 곳곳에서 충돌      29일 오전 11시 서울 성북구 사랑제일교회(담임목사 전광훈) 진입로는 예배를 드리러 온 신도들과 경찰, 행정명령을 이행하기 위해 현장에 온 서울시 공무원, 지역 주민 및 취재진이 엉켜 곳곳에서 험악한 분위기가 연출됐다. 일부 신도들은 채증을 위해 동영상 촬영을 하는 경찰을 향해 “신도들 얼굴 찍지 말라”고 목소리를 높였으며, ‘스태프(Staff)’라고 적힌 파란 조끼를 입은 교회 측 관계자들은 사진이나 동영상 촬영을 하려는 취재진과 개인 유튜버들을 제지했다. 현장에는 서울시와 성북구청 공무원 110여명, 경찰 400여명이 충돌했지만 교회 출입을 완전히 막지는 않았다. 경찰 관계자는 “출입을 제한하면 더 큰 충돌이 발생할 수도 있을 것”이라고 말했다.      서울시는 지난 23일부터 4월 5일까지 신종 코로나바이러스 감염증(코로나19) 확산을 방지하기 위해 사랑제일교회를 포함한 일부 교회와 단체에 집회금지 행정명령을 발동했다. 이를 어길 경우 집회에 참석하는 개개인에게 1인당 300만원까지 벌금이 부과될 수 있다. 교회에서 확진자가 발생하면 확진자와 접촉자의 치료비 일체와 방역비도 청구된다.  ━  교회 \"감염병 예방 조치 다 해\"  29일 현장예배가 열린 사랑제일교회 진입로에 '집회금지 행정명령 준수하라'는 지역 주민들의 플래카드가 걸려 있다. 이후연 기자         하지만 이날 사랑제일교회 신도들은 행정명령에 개의치 않고 예배를 보기 위해 교회에 출석했다. 교회 측은 실내 예배당뿐만 아니라 진입로에도 간이 의자를 둬 신도들이 예배를 밖에서도 생방송으로 시청할 수 있도록 했다. 교회 관계자는 “예배당도 2m 거리를 유지하고 있으며, 신도들도 모두 마스크를 썼고 온도계로 열 체크도 했다”며 “감염병 예방에 필요한 모든 조치를 취했다”고 밝혔다.      이날 예배에 참석한 한 신도는 “경찰들이 많다고 신도들이 두려워할 것 같으냐”며 “과거에도 이런 일(종교탄압)이 있었지만, 우리가 다 이겼다”고 말했다. 교회 관계자는 “어떤 나라가 예배를 막을 수가 있느냐”라며 “종교의 자유와 신도들의 권리를 침해한 것”이라고 주장했다. 일부 신도들은 ‘예배방해죄’라고 적힌 피켓을 들고 다니며 “경찰이나 서로 간 2m 거리 유지해라”라고 목소리를 높였다.    ━  주민 \"교회가 너무 이기적\"    29일 사랑제일교회 신도가 '예배중'이라는 피켓을 들고 있다. 이후연 기자         반면 일부 지역 주민들은 “도대체 이게 뭐하는 짓이냐”며 불편한 기색을 여과 없이 드러냈다. 교회 앞에서 만난 한 주민은 “감염병 확산을 막기 위해 모두가 불편하지만 조금씩 참으면서 이겨내고 있지 않나”라며 “어떻게 교회가 저렇게 이기적일 수가 있냐”라고 지적했다. 또 다른 주민도 격앙된 목소리로 “장위동에서 확진자 발생하면 교회가 책임질 수 있나”라며 “안 그래도 불안한데 이렇게 사람들이 많이 모이면 어떡하나”라고 말했다.   ━  서울시 \"참석자 전원 고발\"       서울시는 이날 예배 참석자 전원의 신원을 파악한 뒤 모두 경찰에 고발할 계획이다. 이날 사랑제일교회 현장 조사에 참석한 서울시 관계자는 “시는 이미 사랑제일교회에 집회 금지 명령을 내린 만큼 이날 예배는 엄연한 위반 행위”라며 “교회는 물론 이날 예배에 참석한 신도들 모두 고발 조치할 것”이라고 밝혔다.     이후연 기자 lee.hooyeon@joongang.co.kr   ▶ 그래서, 팩트가 뭐야? 궁금하면 '팩플'▶ 내 돈 관리는 '그게머니' / 중앙일보 가기ⓒ중앙일보(https://joongang.co.kr), 무단 전재 및 재배포 금지\n",
      "\n",
      "제목 :  의붓딸에게 성관계 시도 아빠, 선처 요구한 엄마\n",
      "제목 :  의붓딸에게 성관계 시도 아빠, 선처 요구한 엄마\n",
      "링크 :  /main/ranking/read.nhn?mid=etc&sid1=111&rankingType=popular_day&oid=081&aid=0003077833&date=20200329&type=1&rankingSeq=10&rankingSectionId=102\n",
      "\n",
      "[서울신문]법원, 의붓딸에 몸쓸짓…징역 4년6개월 선고자는 척 틈타 성관계도 시도하려 한 혐의미성년자인 의붓딸이 자는 틈을 타 성관계를 하려다 미수에 그친 중국인 남성에게 1심 법원이 중형을 선고했다. 사실혼 관계인 A양의 어머니는 재판부에 남편에 대한 선처를 요청하며 합의서를 제출한 것으로 전해졌다.서울남부지법 형사합의12부(부장판사 오상용)는 29일 아동·청소년의 성보호에 관한 법률 위반(준강간) 등 혐의로 구모씨에게 징역 4년 6개월을 선고했다.또 구씨에게 80시간의 성폭력 치료 프로그램 이수와 아동·청소년 관련 기관 등 장애인 복지시설에 7년간 취업제한도 명했다.구씨는 지난해 12월 의붓딸 A양이 자고 있는 방에 들어가서 몸을 더듬고, 성관계를 시도하려다 미수에 그친 혐의를 받는다.재판부는 “그 죄질이 매우 불량하다. 한창 성장기에 있던 피해자가 성적 정체성 및 가치관을 올바르게 가질 수 있도록 적절히 보육하고 훈육할 책무가 있음에도 이를 저버리고 패륜적인 범행을 저질렀다”며 “피해자는 이 사건 범행으로 인해 상당한 성적 수치심과 정신적 고통을 느꼈을 것으로 보이는 점. 그럼에도 피고인은 아직 피해자로부터 용서를 받지 못하고 있는 점을 고려하면 피고인을 엄히 처벌함이 마땅하다”고 말했다.구씨와 사실혼 관계인 A양의 어머니는 재판부에 구씨에 대한 선처를 요청하며 합의서를 제출했다.김채현 기자 chkim@seoul.co.kr▶ 네이버에서 서울신문 구독하기 클릭!▶ 세상에 이런 일이 ▶ [연예계 뒷얘기] 클릭!ⓒ 서울신문(www.seoul.co.kr), 무단전재 및 재배포금지\n",
      "\n",
      "제목 :  \"그동안 감염된 사람 없다\" 주일예배 강행 사랑제일교회…경찰과 충돌도\n",
      "제목 :  \"그동안 감염된 사람 없다\" 주일예배 강행 사랑제일교회…경찰과 충돌도\n",
      "링크 :  /main/ranking/read.nhn?mid=etc&sid1=111&rankingType=popular_day&oid=421&aid=0004550101&date=20200329&type=1&rankingSeq=1&rankingSectionId=103\n",
      "\n",
      "현장점검 나온 서울시 측과 대치…경찰 충돌도 '집회금지' 명령 내린 서울시 \"사랑제일교회 고발할 것\"29일 오전 서울 성북구 장위동에 위치한 사랑제일교회 인근에서 교인들과 경찰이 충돌하고 있다.2020.03.29/ 뉴스1 정지형 기자  © 뉴스1(서울=뉴스1) 류석우 기자,정지형 기자 = 신종 코로나바이러스 감염증(코로나19) 확산세가 잡히지 않는 가운데, 구속된 전광훈 문재인하야 범국민투쟁본부 총괄대표가 담임목사로 있는 사랑제일교회가 29일에도 주일예배를 강행했다. 서울 성북구 장위동에 위치한 사랑제일교회는 이날 오전 7시 1부 예배를 진행했다. 사랑제일교회 주일예배 일정은 오전 7시와 오전 9시, 오전11시 3번 진행된다. 사랑제일교회에 집회금지 행정명령을 발동한 서울시 측은 지난주에 이어 이날도 현장점검에 나섰다. 서울시와 성북구 직원들은 오전 9시, 2부 예배 시작 전 점검을 위해 교회를 찾았지만 교인들이 교회로 진입하는 골목길 초입에서부터 막아섰다. 이 과정에서 배치된 경찰과 충돌이 빚어지기도 했다.교회 측에서는 교회로 올라가는 골목 입구를 막은 뒤 교인들만 안쪽으로 들여보낸 뒤 2부 예배를 진행했다. 서울시 직원들은 교회 현장점검이 가로막히자 '코로나19 확산 방지를 위해 감염병예방법 제49조에 따라 사랑제일교회에서 집회를 금지한다'고 적힌 팻말을 들고 교인들과 한동안 대치했다. 서울시 측에서 집회금지 안내방송을 틀자, 교회 측에서도 차량을 동원해 항의 방송을 진행했다. 대치 중간에는 김문수 전 경기도지사도 등장해 교회 관계자들과 얘기를 나누기도 했다. 서울시와 성북구청 직원들을 향해 욕설과 삿대질을 하는 교인도 있었다. 또 취재를 위해 현장을 찾은 기자들을 밀치면서 20여명이 뒤엉켜 몸싸움이 벌어지기도 했다. 사랑제일교회 관계자는 \"우리 교회에서는 지금껏 예배를 드리면서 한 명의 감염자도 나온 적이 없다\"며 \"그런데 이렇게 서울시와 경찰에서 무더기로 와서 업무를 방해하느냐\"고 목소리를 높였다. 이어 \"지난주에도 일방적으로 와서 공문 없이 검사를 했다\"며 \"오는 사람들이 돈을 줘서 오는 것도 아니고 스스로 예배를 드리기 위해 오는 것이지 않나. 자꾸 집회라고 하는데 예배는 집회와 다르다\"고 주장했다. 29일 오전 서울 성북구 장위동에 위치한 사랑제일교회 인근에서 서울시와 성북구청 직원들이 '집회금지' 팻말을 놓고 서 있다.2020.03.29/ 뉴스1 정지형 기자 © 뉴스1소음이 커지자 항의하러 나온 인근 주민들도 있었다. 동네 주민 조유영씨(63)는 \"지금 한국 전체가 힘든데 하지 말라는 것을 왜 계속하는지 모르겠다\"며 \"애들도 학교를 못 가고 지금 국가적인 문제인데 이렇게 예배를 하다가 여기 다 폐쇄되면 어찌하겠느냐\"고 불만을 털어놨다. 다른 동네주민 김모씨(40)도 \"다른 교회에서도 집단감염이 나오는데 매주 저렇게 하면 주민들은 너무 불안하다\"며 \"문제는 오늘처럼 대치가 없더라도 매일 마이크 틀고 예배를 해서 너무 시끄럽다\"고 지적했다. 현장점검을 나온 서울시 측은 사랑제일교회를 고발 조치하겠다고 밝혔다. 서울시 관계자는 \"집회금지 명령이 내려진 상태라 오늘 예배를 진행하는지 점검하기 위해 나왔다\"며 \"보시다시피 지금 예배를 하고 있어서 고발할 수밖에 없는 상황이 됐다\"고 설명했다. 이어 \"다음 주까지도 집회금지 기간이기 때문에 예배를 강행한다면 다시 점검하겠다\"며 \"오늘 채증한 차료를 바탕으로 필요한 고발 등 조치를 하겠다\"고 덧붙였다. 앞서 서울시는 사랑제일교회에 대해 23일부터 4월5일까지 '집회금지' 행정명령을 발동했다. 70명의 확진자가 발생한 성남 은혜의강 교회 등 예배를 진행한 교회를 중심으로 집단감염이 이어지는 상황에서, 방역수칙을 지키지 않고 예배를 강행한 데 따른 조치다.사랑제일교회가 이를 어길 경우 집회에 참석하는 개개인에게 1인당 300만원 이하의 벌금이 부과된다. 교회 내에서 확진자가 발생할 경우 확진자와 접촉자의 치료비 일체와 방역비도 청구된다.사랑제일교회는 지난 23일 이후에도 평일 밤 8시에 열리는 기도회는 물론 주일예배도 빠짐없이 진행하고 있다. 개신교계에 따르면 이날 서울시내 주요 교회 중 연세중앙교회와 임마누엘교회, 광림교회는 주일예배를 현장에서 진행했다. 서울지방경찰청은 서울시의 행정응원 협조 요청에 따라 시·구청 현장점검반 신변보호와 돌발행동 대응을 위해 경찰 906명을 지원했다고 밝혔다.sewryu@news1.kr▶ 네이버 메인에서 [뉴스1] 구독하기!▶  4.15총선 관련뉴스 ▶ 크립토허브 © 뉴스1코리아(news1.kr), 무단 전재 및 재배포 금지\n",
      "\n",
      "제목 :  [속보]성남 분당구보건소 직원 1명 추가 감염···분당제생병원 근무중 확진자 접촉\n",
      "제목 :  [속보]성남 분당구보건소 직원 1명 추가 감염···분당제생병원 근무중 확진자 접촉\n",
      "링크 :  /main/ranking/read.nhn?mid=etc&sid1=111&rankingType=popular_day&oid=011&aid=0003716420&date=20200329&type=0&rankingSeq=2&rankingSectionId=103\n",
      "\n",
      "[서울경제] 경기 성남시는 분당구보건소 직원(39·여·수원시 영통구 하동) 1명이 추가로 신종 코로나바이러스 감염증(코로나19) 확진 판정을 받았다고 29일 밝혔다.이 직원은 코로나19 확진자가 집단 발생한 분당제생병원에 마련된 상황실 즉각대응팀에서 근무하다 지난 18일 코로나19 확진 판정이 난 분당구보건소 팀장과 접촉한 것으로 조사돼 자가격리에 들어갔었다. 앞서 해당 팀장과 접촉했던 분당구보건소 다른 팀장 1명과 직원 2명도 지난 25일과 27일 잇따라 코로나19 확진 판정을 받았다. 분당제생병원과 관련된 분당구보건소 확진자는 모두 5명이다. 분당구보건소는 역학조사와 방역을 위해 지난 19일 하루 폐쇄한 뒤 20일부터 운영을 재개했으나 선별진료소는 잠정 폐쇄한 상태다. /이연선기자 bluedash@sedaily.com[서울경제 바로가기]▶ 새로워진 서울경제 모바일을 만나보세요.▶ 네이버 채널에서 '서울경제' 구독해주세요!저작권자 ⓒ 서울경제, 무단 전재 및 재배포 금지\n",
      "\n",
      "제목 :  '단골집 방문해 미리 결제'...착한 소비자 운동 확산\n",
      "제목 :  '단골집 방문해 미리 결제'...착한 소비자 운동 확산\n",
      "링크 :  /main/ranking/read.nhn?mid=etc&sid1=111&rankingType=popular_day&oid=052&aid=0001421063&date=20200329&type=2&rankingSeq=3&rankingSectionId=103\n",
      "\n",
      "동영상 뉴스\n",
      "\n",
      "\n",
      "\n",
      "\t\n",
      "\t[앵커]코로나19 확산을 막기 위한 '사회적 거리 두기'로 외출을 자제하는 분위기가 형성되면서 소상공인의 시름도 깊어지고 있는데요.얼어붙은 경제를 살려보겠다고 나선 착한 소비자들이 늘고 있습니다.LG헬로비전 양천방송 심다혜 기자가 만나봤습니다.[기자]음식점의 문이 굳게 닫혀있습니다.더 이상 장사를 유지하기 힘들다고 판단했기 때문입니다.맞은편의 또 다른 음식점.손님이 몰려야 할 점심시간이지만 가게는 텅 비었습니다.코로나19 현상으로 이달 초 외식업 고객의 3분의 2가 줄었다는 통계도 나올 정돕니다.[권오복 / 한국외식업중앙회 양천구지회장 : 평균 매출 20%만 감소해도 사실 사업주 이익금은 전무한 상태라고 보면 되거든요. (60% 이상의 매출 감소가 이어진다면) 직원들 인건비와 임대료, 관리비 이런 걸 감당을 할 수가 없죠. 사람으로 얘기한다면 혼수상태에 가 있지 않나….]상황이 이렇다 보니 이제는 소비자들이 나서기 시작했습니다.일명 '착한 소비자 운동'.\"저 오늘 것 결제하고, 착한 결제, 선결제로 3만 원만 추가로 결제해 주세요. (감사합니다.)\"식사를 마친 한 소비자가 결제를 하는데, 실제 나온 금액보다 더 많은 금액을 지불합니다.다음번 방문을 약속한다는 의밉니다.[김혜련 / '착한 소비자 운동' 동참 주민 : 자주 가지 않는 음식점은 선결제를 하는 게 쉽지 않은데 제가 자주 가는 동네 단골집이라면 어차피 자주 가는 거니까 선결제를 해도 부담이 없고….]배달이 되지 않는 음식점에 방문해 음식을 포장해가는 것도 '착한 소비자 운동'의 일환입니다.'사회적 거리 두기'에 동참하면서 지역의 영세 상인을 돕겠다는 것.방문 포장하면 10% 할인해주는 식당도 늘고 있습니다.[김혜경 / '착한 소비자 운동' 동참 주민 : 배달 음식도 많이 먹긴 하는데 제가 직접 와서 이런 자영업자들한테도 도움이 되고 저도 10% 할인받아서 더 이득이 되는 것 같습니다.][정영랑 / 상인 : (코로나19로) 어쩔 수 없이 인원 감축도 하게 됐어요. 이런 어려운 과정에 선결제도 해주시고 포장도 해가시니까 저희로서는 10% 할인도 해드리지만 엄청난 도움이 되고요. 힘을 얻게 되네요.]착한 소비자 운동은 SNS 등 온라인상으로도 퍼지고 있습니다.미용실과 서점 등을 방문해 사진으로 선결제를 인증하고 다음에 참여할 사람을 지목하는 방식입니다.힘든 지역 경제를 살리기 위해 직접 나선 착한 소비자들, 소상공인에게는 작지만 큰 힘이 되고 있습니다.헬로TV뉴스 심다혜입니다. ▶ 이 시각 코로나19 확진자 현황을 YTN에서 확인하세요.  ▶ 대한민국 24시간 뉴스 채널 YTN 생방송보기  ▶ 네이버에서 YTN 뉴스 채널 구독하기 [저작권자(c) YTN & YTN PLUS 무단전재 및 재배포 금지]\n",
      "\n",
      "제목 :  종교계 거리두기 동참 속…브라질 대통령 '역주행' 논란\n",
      "제목 :  종교계 거리두기 동참 속…브라질 대통령 '역주행' 논란\n",
      "링크 :  /main/ranking/read.nhn?mid=etc&sid1=111&rankingType=popular_day&oid=437&aid=0000234702&date=20200328&type=2&rankingSeq=4&rankingSectionId=103\n",
      "\n",
      "동영상 뉴스\n",
      "\n",
      "\n",
      "종교계도 '사회적 거리 두기'…일부에선 일탈도브라질 대통령 \"종교 행사는 필수 활동\"[앵커]앞서 잠깐 전해 드린 것처럼, 교황은 비가 내린 바티칸 광장에 홀로 서서 코로나19가 휩쓴 전 세계를 위한 기도를 했습니다. 교황뿐 아니라 세계 각국에서 사람이 많이 모이는 종교 행사를 자제하려 하고 있지만, 여전히 곳곳에서 일탈도 이어지고 있습니다.김나한 기자입니다.[기자]각국의 천주교 신자들로 가득 찼던 바티칸 성 베드로 대성당이 텅 비었습니다.오늘(28일) 새벽 프란치스코 교황은 코로나19 우려로 폐쇄된 성베드로 광장을 바라보며 홀로 기도했습니다.교황은 \"우리 모두가 같은 배를 탄 연약하고 길 잃은 사람들이란 걸 깨달았다\"고 했습니다.또 어느 한 국가도 자유로울 수 없는 지금의 상황을 걱정하면서도 \"우리가 모두 하나가 되게 해달라\"며 연대를 빌었습니다.사회적 거리두기를 실천하기 위해 천주교 교황청을 비롯해 세계 종교계가 협력하고 있는 가운데, 일부 일탈도 여전히 이어지고 있습니다.브라질에선 대통령이 나서 종교 활동은 이동 제한에 구애받지 않는 '필수 서비스'라고 발표했습니다.이 결정에 오히려 브라질 내 종교계가 나서 \"무책임한 조치\"라고 거세게 비판했습니다.지난 22일 종교행사를 자제해달라고 당부한 정세균 총리의 담화에 대해 강압적이라고 비판하는 한국 개신교 내의 목소리도 끊이지 않습니다.그러자 개신교 내부에서도 자성의 목소리가 나왔습니다.[이홍정/한국기독교교회협의회 총무 : 종교 행위의 자유는 그것이 생명의 안전을 위협하는 것이라고 한다면 제한될 수 있다고 생각합니다.](화면제공 : cpbc가톨릭평화방송)(영상그래픽 : 김정은)김나한 기자 (kim.nahan@jtbc.co.kr) [영상취재: 신동환 / 영상편집: 이지혜]▶ '코로나19' 제보를 기다립니다!… JTBC뉴스 제보하기▶ '민심청원 415' 여러분의 목소리를 들려주세요!Copyright by JTBC(http://jtbc.joins.com) All Rights Reserved. 무단 전재 및 재배포 금지\n",
      "\n",
      "제목 :  [더오래]쓰레기통 아니에요, 궁궐 지키는 '드므' 랍니다\n",
      "제목 :  [더오래]쓰레기통 아니에요, 궁궐 지키는 '드므' 랍니다\n",
      "링크 :  /main/ranking/read.nhn?mid=etc&sid1=111&rankingType=popular_day&oid=025&aid=0002988328&date=20200329&type=1&rankingSeq=5&rankingSectionId=103\n",
      "\n",
      "━  [더,오래] 이향우의 궁궐 가는 길(13)  경복궁 근정전 월대. [사진 한국학중앙연구원]━  월대 엄지기둥의 서수 조각들     근정전 상, 하월대 가장자리에는 장대석을 둘렀으며 팔각 회란석의 난간을 받치고 있는 것은 하엽동자석(연잎 형상으로 만든 기둥)이다. 근정전 상월대의 동서남북 문로주(엄지기둥)에는 사방위신이 한 쌍씩 조각되어 있고 상하월대를 돌아가며 12지신을 나타내는 동물이 역시 문로주에 조각되어있다. 월대의 남쪽 동서 모퉁이에는 궁궐을 지키는 해태가족이 조각되어있는데 그 모습이 아주 재미있다. 암수 한 쌍이 서로 다른 방향을 바라보며 각자 자기 위치에서 왕을 호위하는 근위병의 역할을 충실히 하고 있다. 그리고 어미를 따라 나온 새끼는 어미 배에 찰싹 붙어서 젖을 빨고 있는 앙증맞은 모습이 조각되어 있다. 이 나라 백성으로 무릇 짐승까지도 대를 이어 임금을 지키겠다는 충성스러운 각오를 엿볼 수 있는 조각일 수도 있겠다.     근정전 월대의 돌조각들은 대체로 그 표정들이 대충 무서운 척하고 있다. 대충이다. 아주 살벌하게 무서운 인상은 이곳에서 찾아볼 수 없다. 처음 경복궁 영제교를 건너면서 만난 천록의 짓궂은 표정을 기억한다면 당시 조선의 석공은 저런 표정으로 한국인의 심성을 그려냈다는 공통점을 엿볼 수 있을 것이다. 궁궐이라는 근엄한 현장에서 이런 자못 우스꽝스러운 표정이라니. 이건 순전히 조각하는 사람의 심성이 그렇게 생겼으니 제 생긴 대로 저 같은 표정의 작품을 내놓았다고 해석할 수밖에 없다. 자못 예술가란 자기 성향대로 저 닮은 작업을 하는 게 그들의 개성이다. 그렇게 생긴 사람이 또 그렇게 생긴 돌을 쪼았으니 이런 결과는 당연한 이치이다.     중국이나 일본 궁궐의 서수 조각들을 보면 그 살벌한 인상의 사실성에 깜짝 놀라게 된다. 실은 그렇게 무서운 인상이라야 궁궐에 접근하는 자에게 위엄을 갖추고 겁을 줄 수 있는 것이다. 화강암은 단단하고 거친 돌이다. 이런 돌을 아주 사실적으로 묘사하려면 돌의 성향을 거스르게 된다. 우리 조선의 옛 석공은 돌의 성질을 알고 그 돌이 만들어 내고 싶은 인상을 허락했을 것이다. 바로 이 땅에서 출토되는 가장 흔한 돌 화강암이 지니는 투박하고 거칠지만 따뜻한 돌의 성질을 이끌어낸 조선 석공들의 뛰어난 솜씨를 근정전 석수 조각이 보여주고 있다.  ━  재미있는 소방기구 드므  중화전 드므. 드므는 화재가 났을 때 불을 끄는 소방수를 채워놓았던 소방기구이다. [중앙포토]   하월대 모퉁이에 있는 무쇠로 만든 큰 물동이는 드므라고 부른다. 지금은 그 큰 그릇에 쓰레기를 버리는 관람객들 때문에 투명 뚜껑을 씌우고 드므의 용도를 설명한 팻말을 올려놓았다. 원래 궁궐 전각의 드므는 불이 났을 때 불을 끄는 소방수를 채워놓았던 소방기구이다. 조선의 전통 건축 재료는 기와와 주춧돌을 제외하고는 대부분 나무를 썼고 목조건축이 화재에 취약한 것은 누구나 아는 일이다. 더구나 회랑이나 행각으로 연결된 궁궐의 건축은 더더욱 화재를 염려하지 않을 수 없었다.     옛사람들은 화마(火魔)가 하늘로부터 온다고 믿었는데 집을 향해 오던 화마가 드므에 담긴 물에 비친 자기의 모습을 보고 그 흉측한 모양새에 놀라 달아나 주기를 바랐던 벽사의 의미도 있다. 겨울철에 물이 얼지 않도록 불을 땠던 흔적으로 드므를 받치고 있는 돌이 검게 그을렸다. 그리고 동지에는 드므에 팥죽을 쑤어 나누어 주었다는 이야기도 있다. 이제는 겨울에 물을 담아 놓으면 쇠그릇이 얼어서 터질 것을 염려해서 물도 채워놓지 않으니 소중한 우리 문화재를 보호하기 위해서는 119 신고가 제일 빠를 듯싶다.  ━  근정전 들여다보기     근정전을 들여다보기 위해 가까이 올라서면 양 모퉁이에 향로처럼 생긴 정(鼎)이 있다. 정은 고대 중국에서 유래된 왕권을 상징하는 배가 둥근 솥으로 다리 셋에 테두리에 귀가 둘 달린 향로 모양이다. 다리 셋은 사자의 형상으로 묘사됐는데 왕의 권위와 명예와 부를 상징한다. 근정전의 정 테두리에는 팔괘(八卦)가 투각되어 있다. 근정전 월대 양쪽에 붙박이로 있는 큰 정은 이곳에서 행사가 있을 때 향을 피웠던 것으로 1900년대 초 근정전 월대의 사진에 보면 정에 뚜껑을 덮었다.     근정전 건물은 중층 건물로 밖에서 보면 마치 2층집처럼 보인다. 네 귀퉁이를 고주(내진주)가 받치고 있는 높은 천정의 통층(通層) 구조이고 바닥에는 전돌이 깔렸다. 이 건물이 일상 거주하는 곳이 아니라 행사를 위한 특별한 공간이라는 것을 알 수 있다. 안쪽을 들여다보면 높이 설치된 광창이 빛을 끌어들이고 있어 근정전 내부가 생각보다 아주 어둡지는 않다. 근정전 천장 한복판에는 여의주를 희롱하는 쌍룡이 그 웅혼한 기상을 드러내고 있다. 금박을 입힌 목조각으로 발톱이 일곱 개인 칠조룡(七爪龍)은 근정전이 무소불위의 지엄한 왕이 주관하는 공간임을 말해 주고 있다. 용은 왕의 지위를 상징하는 최고의 덕목을 고루 갖춘 존재이다. 용은 늘 엄하면서도 너그럽다.  서울 경복궁 근정전 정면. [사진 한국학중앙연구원]   우리가 그의 역린(逆鱗)만 거스르지 않는다면. 전설에 용은 모두 81개의 비늘을 몸에 지니고 있는데 그 외에 턱밑에 거꾸로 나 있는 비늘 한 개를 역린이라고 부른다. 용의 역린을 잘못 건드리는 것은 곧 죽음을 의미했다. 그러나 조선 왕조 내내 선비의 곧은 심성과 기개로 그의 역린을 거슬려 차라리 죽음을 택했던 푸른 정신은 얼마나 많은 붉은 피로 이 땅의 기운을 살려냈던가. 사육신이 그러했으며 조광조 또한 그러했다. 근정전의 용은 일곱 개의 발톱을 가진 칠조룡이다. 근정전의 어좌 위에는 불상의 머리 위에 설치된 것과 비슷한 구조물이 있는데 이를 닫집이라고 부른다. 왕권의 존엄을 나타내기 위해 설치하는데 닫집의 헛기둥에는 연봉이 거꾸로 매달려 있다. 이는 연봉이 물에 잠긴 형상으로 화재를 예방하고자 하는 의미가 있다. 닫집의 보개 천장에도 한 쌍의 황룡이 조각되어 있다.  ━  일월오봉병(日月五峰屛)     법전의 용상은 북쪽 중앙에 아주 높게 설치되어 있고 어좌에 오르는 계단은 앞뒤 좌우, 모두 4개이다. 어좌는 용을 조각하고 금박을 올려 화려하게 꾸미고, 어좌 뒤에는 역시 용, 연꽃, 모란을 투각한 나무 삼곡병(三曲屛)으로 치장한다. 그리고 그 뒤에 일월오봉병이 둘러지는데 그림은 일월오악도(日月五嶽圖)로 불리기도 한다. 푸른 하늘의 왼편에 흰 달이, 붉은 해는 오른편에서 다섯 개의 봉우리를 비추고 있고 붉은 줄기의 소나무와 양쪽 계곡에서 쏟아지는 내리꽂히듯 힘찬 폭포가 물보라를 만들고 산 아래 넘실대는 파도가 펼쳐져 있다. 일월은 해와 달은 의미하고 양과 음의 개념으로 왕이 다스리는 우주 전체로 확대 해석할 수도 있다. 오봉산은 오악을 상징하는데 곤륜산(崑崙山)으로 왕이 다스리는 전 국토를 의미한다. 우리나라 한반도 동악의 금강산, 남악의 지리산, 서악의 묘향산, 북악의 백두산, 중악의 삼각산이다. 일월오악도에는 파도를 그려서 정사를 펼치는 조정을 의미했는데 바다의 파도 조(潮)와 조정(朝廷)의 조(朝)의 발음이 같은 데서 유래한다.     즉 일월오악도는 한국 전래의 오악신앙(산신신앙)에 그 배경을 두고 있으며 왕의 절대적 권위에 대한 칭송과 왕조의 무궁한 번영을 기원하는 그림이다. 일월오악도에서 왕을 달, 해 산, 소나무에 비유하여 변함이 없으며, 이지러짐이 없고 영원무궁토록 왕조가 번창할 것을 기원하고 있다. 왕권을 상징하는 일월오봉병은 법전의 어좌 뒤에만 설치되는 것이 아니고 왕의 집무실인 편전이나 창덕궁의 신선원전 감실 등 왕을 모시는 전각에 늘 설치되었고 왕이 궁 밖으로 거둥(행차) 할 때도 따라다녔다.     조각가 theore_creator@joongang.co.kr   ▶ 그래서, 팩트가 뭐야? 궁금하면 '팩플'▶ 내 돈 관리는 '그게머니' / 중앙일보 가기ⓒ중앙일보(https://joongang.co.kr), 무단 전재 및 재배포 금지\n",
      "\n",
      "제목 :  \"어머니 앞에서 고문당한 아버지\" 그래서 만든 인형\n",
      "제목 :  \"어머니 앞에서 고문당한 아버지\" 그래서 만든 인형\n",
      "링크 :  /main/ranking/read.nhn?mid=etc&sid1=111&rankingType=popular_day&oid=047&aid=0002263520&date=20200329&type=1&rankingSeq=6&rankingSectionId=103\n",
      "\n",
      "[페루의 도예가들 ③] 페루 아야쿠초 흙 인형을 통해 만난 페루의 역사[오마이뉴스 홍은 기자]2020년 1월 28일부터 2월 25일까지 페루 도자기 여행을 다녀왔다. 2월 첫 주 페루의 쿠스코주, 피삭에서 열린 제1회 라틴도예가들의 축제 '잉카 길의 흙(Barro del Qhapaq Nan)' 참여를 시작으로 그곳에서 인연이 된 도예가들과 남미 지인들의 소개를 통해 연이 닿은 '흙'을 재료로 살아가는 사람들을 만나는 여정은 짧게나마 '잉카의 길'을 걸어보는 시간과 같았다. 그 만남의 이야기를 담았다.*Qhapaq Nan이란, 페루 원주민 언어 케추아어로 '잉카의 길'을 뜻한다. 'qhapaq'는 '부'를 의미하고 'nan'은 길을 의미하여 '부의 길'로 해석되기도 한다. 잉카 제국시절 새로이 만들어진 길이 아닌 이미 존재했던 길을 네트워크로 연결해 4만 킬로미터가 넘는 길로 알려져 있다.？ <편집자말>페루 여행자들에게는 다소 낯선 도시, 아야쿠쵸(Ayacucho)로 가는 길은 편하지 않았다. 쿠스코에서 야간버스로 17시간. 직행버스는 하루에 한 대뿐이었고, 우기여서 가는 길이 문제가 생기는 날이면 그마저도 운행을 안 할 수도 있었다.4000고지가 넘는 고산지대를 넘어가는 길이라 귀가 막혔다 뚫렸다하며 아파서 잠도 제대로 못자며 고생을 했다. 하지만 이런 고생을 하고 그야말로 '굳이' 아야쿠초를 간 보람은 있었다. 그것은 이 도시에서 우연히 마주친 두 개의 작품 때문이었다. 이 만남은 그냥 지나치던 페루의 역사 한 켠을 잠시 머물러 들여다보게 해 주었다.가족의 흙을 이어 빚는 도예가, 로사리아 띠네오▲  로사리아 집안의 대표 도자기인 피규어 피리         ⓒ 신주희페루 도예축제에서 만난 로사리아 띠네오(Rodaria Tineo, 아래 로사리아) 도예가의 집 겸 공방은 아야쿠초 시내에서 오토바이 택시 툭툭을 타고 어딘지도 모를 언덕을 한참 올라가서야 도착했다. 도예축제에서 로사리아를 보았을 때도, 그녀의 공방에서 잠시 이야기를 나눌 때도 나는 그녀가 페루의 전통도예를 소박하게 하는 도예가쯤이라고 생각을 했다. 하지만 그녀가 무심히 내어 놓는 신문기사, 책들을 살피다 보니 아야쿠초, 아니 페루에서도 이름있는 레온시오 티네오(Leoncio Tineo,1924-1996) 장인의 딸로 3대째 그들 가족 도자기 전통을 이어오는 유명한 도예가라는 사실을 알게 되었다.그녀의 할머니 마리아 오초아(Maria Ochoa)로부터 시작된 흙으로 만든 피규어 피리는 매우 독창적이어서 아야쿠초 도자기의 한 캐릭터로 자리잡았고 그녀의 아버지로 이어지며 더 공고해졌다. 가족 중에 이를 이어갈 사람이 없었는데 로사리아가 18살에 뒤늦게 본격적으로 도예를 시작하며 그 전통이 이어지고 있었다.▲  페루 분쟁의 역사를 담은 로사리아의 작품         ⓒ 신주희▲  페루 분쟁을 담은 로사리아의 작품         ⓒ 신주희로사리아의 작고 귀여운 작품들을 구경하다가 그 사이에 전혀 결이 다른 인상적인 작품을 발견했다. 고문 장면을 묘사한 작품이었다. 로사리아는 1980년에서 2000년의 페루 분쟁의 역사를 담은 작품이라고 말했다. 그녀의 가족이 이 역사의 직접적인 희생자이기도 했다. 작품들은 2년 전 아야쿠초의 예술가들이 이 페루 분쟁의 역사를 주제로 공동 전시를 할 때 만든 작품들이었다.\"당시에 이웃들이 부모님을 좌파로 지목했어. 왜 그랬는지 모르겠어. 아버지는 어머니가 보는 앞에서 심하게 고문을 당하고 감옥에 갇혔지. 그때는 정말 힘든 시기였어. 아직도 그때의 희생자들이 많이 남아 있지.\"페루의 역사를 단편적으로만 알고, 실제로 어떻게 사람들의 삶에 영향을 미쳤는지 무지했던 나는 로사리아의 작품을 본 후 다시 인터넷으로 역사를 살펴보았고, 그제서야 내가 방문한 아야쿠초가 페루 분쟁의 시작이자 중심지였음을 알게 되었다. 그리고 그 당시 많은 사람들이 다른 도시로 이주를 했고, 수공예를 하는 사람들도 다르지 않았다고 한다.\"내가 기억하는 이야기를 남기지 않으면 누가 그것을 지켜줄 수 있을까. 그래서 계속 그 이야기를 빚지. 그리고 나는 마지막 순간까지 나의 흙에서 아버지의 이름을 이야기 할 거야.\"그 문을 열면 만나는 과거, 레 따블로와 '마마 앙헬리까''레따블로retablo'는 아야쿠초의 대표적 수공예이다. 나무 집 모양의 문을 열면 그 안에 작은 모형들이 다양한 이야기를 보여준다. 인터넷으로 작품을 보았을 때 나는 집 안의 모형들이 흙으로 만들어진 것이라고 생각했는데 직접 만난 레따블로의 재료는 전혀 달랐다.석고가루와 지역의 감자를 으깨 섞어 만든 재료였는데 과연 제대로 된 점성을 가질 수 있는지, 강도는 괜찮은지, 시간이 지나면 부패되지는 않는지 의심이 들었지만 직접 만드는 것을 보니 신기하게도 쫀득쫀득한 지점토 형태가 되고 조형 후 굳으면 마치 석고가 굳듯 단단해져서 몇 백 년도 끄떡없다고 했다.▲  레따블로 수공예를 볼수있는 레따블로의 집.         ⓒ 신주희▲  다양한 이야기를 담은 레빠들로         ⓒ 신주희아야쿠초 시내 외곽에 있는 레따블로의 집(casa de retablo)은 이 수공예를 잘 볼 수 있는 곳이다. 레따블로 수공예 장인 실베스트레 아따우꾸시(Silvestre Ataucuci, 아래 실베스트레)가 자신의 집을 확장하여 전시와 박물관의 기능을 함께하는 공간을 열었다.레따블로의 탄생은 스페인 식민지 시절이었다. 가톨릭 포교를 목적으로 대리석으로 상자 형태의 성당을 들고 다닌 것이 전신이다. 이후 대리석이라는 재료가 너무 비싸서 다른 재료로 실험들이 되었고, 안에 있는 모형을 보호하기 위해 문도 만들어졌다. 지역 예술가들이 이 방법을 배우기 시작하면서 종교적이었던 주제는 점점 관습과 역사, 생활문화로 다양하게 변해 갔다.레따블로의 집에는 실베스트레의 작품뿐 아니라 아야쿠초 곳곳에서 수집된 의미있는 작품들도 전시되어 있었는데 나의 시선을 잡는 한 작품이 있었다. '앙헬리까(Angelica)라는 이름을 단 작품이었는데 다른 작품들의 화려한 색감과는 달리 어둡고 슬픈 이야기를 담고 있는 듯했다.▲  '마마 앙헬리까'의 이야기를 담은 레빠블로, John deiuis ataucusi 작         ⓒ 신주희레따블로 안의 주인공인 '마마 앙헬리까'는 페루 분쟁 역사 안에서 '정의와 평화의 상징'으로 알려진 여성이다. 1983년 어느 날 그녀의 아들이 이유없이 잡혀가서 사라지고, 남편도 살해되었다. 2년 동안 아들을 찾아 헤매었던 그녀는 다섯 명의 다른 실종자들의 어머니들과 연합을 만들었다.그녀의 침묵을 깨는 이런 움직임은 다른 사람들의 연대를 불러와 수백 명의 사람들이 함께 싸우기 시작했다. 이후 이 움직임의 노력으로 100여 명의 유골이 발견되기도 했고, 수감자들이 풀려나기도 했다.그리고 지금까지도 수많은 실종자와 수감자에 대한 진실공개와 진상규명 요구가 이어지고 있다. 마마 앙헬리까는 2017년에 돌아가셨는데 그 순간까지도 아들을 찾고자 했지만 결국 발견하지 못했다고 한다. 이 고통의 역사가 레따블로 안에 담겨 이야기를 건네주고 있었고, 나는 한참을 그 앞에 머물며 그 이야기를 들었다.\"레따블로는 과거의 공간이라고 생각해요. 그 안에는 작가의 과거, 경험 기억들이 담겨 있죠. 작가의 기억과 기록에 따라 변해가는 것이 레따블로입니다.\"실베스트레 장인의 말처럼 레따블로가 하나의 과거를 담는 상자라면 '앙헬리까'는 한 여성의 아픔과 투쟁의 시간을 담은 상자로 그렇게 내 앞에서 문을 열었다.오늘을 빚는 이야기아야쿠초에서 만난 이 두 작품은 예술가의 작품이라는 것이 얼마나 중요한가, 하는 것을 다시한 번 생각하게 했다. 백번 글로 읽어도 잘 이해가 되지 않던 사실은 로사리아의 작품으로, 레따블로의 집에서 본 작품으로 다시 읽히고 그제서야 비로소 머리에 한 줄 정도의 기록을 남겼다.▲  아야쿠초 도예가 로사리아         ⓒ 신주희\"꿈이 있다면 공방을 조금 더 넓혀서 손주들 같은 아이들을 가르치고 싶어. 아이들이 배우지 않으면 언젠가는 아야쿠초의 도자기는 사라질테니 말이야.\"로사리아 도예가의 소박한 꿈처럼 높은 언덕, 로사리아의 작은 작업실에 보글보글 아이들의 흙놀이가 벌어지는 모습을 상상해 본다. 그리고 앞니 없이도 환하게 웃고 있을 지금보다는 조금 더 할머니가 되었을 로사리아도 말이다. 로사리아가 빚었던 오늘은 과거가 될 것이고 아이들의 흙은 그 시간의 오늘이 될 것이다.지금 무언가를 빚는다면 어떤 오늘을 그 것에 담아야 할까. 그렇게 담긴 시간은 누군가의 걸음을 잠시 멈추게 할 어떤 기록이 될 수 있을까. 그런 조금은 거창한 생각을 해본 여정이었다.*페루분쟁 :  1980년부터 2000년, 지금도 일부 진행 중인 페루 정부와 반군 사이의 분쟁이다. 페루 공산당의 무장조직인 인민유격대(Ejército Guerrillero Popular)가 정부군과 항쟁하고 있다, 1980년 이래로 페루 분쟁으로 70,000명의 사람이 죽은 것으로 추산된다. 분쟁으로 인해 발생한 희생자의 절대 다수는 민간인이다. 분쟁에 참여중인 모든 세력은 민간인 살해에 책임이 있다. 페루 분쟁은 콜롬비아 분쟁, 과테말라 내전에 이어 세 번째로 긴 라틴아메리카 분쟁이다. (위키백과 참조)저작권자(c) 오마이뉴스(시민기자), 무단 전재 및 재배포 금지▶코로나19 속보 보기 [오라이브]▶네이버에서 오마이뉴스 채널을 구독하세요▶용감하게 성교육 <이런 질문, 해도 되나요?>\n",
      "\n",
      "제목 :  하루 22600원, 535일간의 세계일주가 끝났습니다\n",
      "제목 :  하루 22600원, 535일간의 세계일주가 끝났습니다\n",
      "링크 :  /main/ranking/read.nhn?mid=etc&sid1=111&rankingType=popular_day&oid=047&aid=0002263519&date=20200329&type=1&rankingSeq=7&rankingSectionId=103\n",
      "\n",
      "[세계방랑기 42] 마지막회, 찬란한 여행의 끝... 막막한 백수 생활의 시작[오마이뉴스 최늘샘 기자]535일, 8만5899킬로미터  535일 간의 세계 일주를 마치고 한국으로 돌아왔다. 1년 6개월 동안 8만5899킬로미터, 아메리카, 아라비아, 아프리카 방향으로 34개 나라를 여행했다.예전에 했던 유라시아 여행까지 손꼽아 보니 모두 58개. 지구에 있는 200여 개 나라 중 3분의 1이 채 안 되는 숫자지만 내 인생, 내 나름의 세계 일주는 이걸로 충분하다고 마음먹었다. 집을 떠나 진리를 찾아 평생 길을 걸어간 싯다르타나 예수 같은 독한 방랑자들도 있었다는데, 어설픈 방랑자인 나는 더 나아갈 길을 찾지 못하고 고국으로 돌아왔다. 초등학교 교실 한 켠 세계 지도와 지구본을 들여다보던 어린 시절, 알록달록 분홍색, 초록색으로 그려진 낯선 땅에는 어떤 사람들이 살고 있을까, 상상했다. 그때로부터 여러 십 년이 지나 기어이 지구별 한 바퀴를 다 돌았다. 돈이 없고 시간이 없고 용기가 없어 미루고 늦췄던 여정이 굽이굽이 끝났다. ▲ 유최늘샘의세계방랑기 세계 일주 여정을 표시한 지도. 미국 샌프란시스코부터 남아프리카공화국 희망봉까지 이어진 분홍색 선이 아메리카-아라비아-아프리카로 여행한 535일 동안의 경로다.         ⓒ 유최늘샘\"안 죽고 돌아와서 고맙다. 앞으로 남은 인생 덤으로 산다, 생각하고 살아라.\"강도를 만나고 전재산을 털리며 몇 번 죽을 고비를 넘겼다는 소식을 들은 지인이 말했다. 내 몸에는 아직도 여행의 상처가 남아 있다. 왼쪽 관자놀이에는 콜롬비아에서 앓은 대상포진 자욱이, 오른쪽 복숭아뼈에는 에티오피아 강도가 남긴 흉터가 아릿하다. 친지들의 속을 꽤나 썩이며 때로 목숨을 걸어야 했던 기나긴 여정에서 나는 무엇을 얻고 무엇을 잃었나.이것은 여행인가 고행인가 2018년 5월, 사직서를 내고 세계 일주를 떠났다. 미국, 쿠바, 멕시코, 과테말라, 엘살바도르, 온두라스, 니카라과, 코스타리카, 파나마, 콜롬비아, 에콰도르, 페루, 볼리비아, 칠레, 아르헨티나, 브라질, 포르투갈, 스페인, 모로코, 헝가리, 세르비아, 코소보, 마케도니아, 그리스, 터키, 조지아, 이집트, 수단, 에티오피아, 케냐, 탄자니아, 잠비아, 보츠와나, 남아프리카공화국. 지도에 나오지 않고 이름도 없는 길들이 속세에 알려진 관광지보다 더 특별할 거라고 기대했기에, 비행기보다는 육로를 통해 이동했고 그러다 보니 여행자들이 잘 가지 않는 나라나 지역도 여행할 수 있었다. 주머니는 가벼운데 가고 싶은 곳은 많아서 여비를 아끼고 아꼈다. 누군가는 궁상맞다 말할지도 모르지만, 남들 만큼 돈을 벌기 위해 애쓰기보다는 적게 벌고 적게 쓰며 좀더 많은 자유를 찾겠다는 마음으로 살아 왔기에, 가난한 여행은 그리 어렵지 않았다.535일, 귀국행 비행기삯까지 포함해 12,113,000원을 썼다. 월급 80만 원을 받던 시절부터 반지하와 옥탑방에 살며 아등바등 모은 돈이고, 인생에서 가장 큰 지출이었다. 한 달 평균 68만 원, 하루 평균 22,600원. 10개월 동안 아시아 23,000킬로미터를 여행할 때는 한 달에 30만 원이 들었는데, 아메리카, 아라비아, 아프리카는 이동량이 세 배 이상 많고 아시아 여행보다 물가가 비쌌다. 5천 만 인구 중 2,800만 명이 매년 해외로 나가고, 세상 모든 여행지가 인스타그램에 넘쳐나는 2020년 대한민국의 여행 문화와 조금 걸맞지 않게, 나는 '거지 여행자'라거나 '나그네'라는 이름이 꽤 어울리는 모습으로 지구를 떠돌았다.한 장 있던 청바지는 1년 6개월을 입어도 쉬이 찢어지지 않았다. 반바지 두 장, 셔츠 세 장, 팬티 두 장. 20달러짜리 텐트와 침낭, 카메라와 삼각대, 손톱깎이와 빨랫줄 따위 잔잔한 생활용품까지 모두 담은 배낭은 9킬로그램. 장기 배낭 여행자치고는 가벼운 편이지만, 땡볕 아래 십 리만 걸어도 인생의 무게 마냥 무거웠다.대상포진에 걸린 채 수면 마취제 강도를 당한 다음부턴 무엇보다 먼저 스스로를 돌보자고 되뇌었지만, 웬만해선 어딜 가든 가장 저렴하고 낡은 교통수단과 숙소와 식당을 이용했다. 넉넉한 삶이 항상 좋은 삶은 아니듯, 가난한 여행이 항상 나쁜 여행은 아니다. 무모하다고 할 만큼 아무 곳에서나 텐트를 쳤고 터미널 바닥에 드러누워도 쉬이 잠들었다.걷기 좋은 길을 만나면 활개치며 걷다가 지치면 번쩍 엄지손가락을 들었다. 아리조나 사막, 니카라과 국경, 페루 해안, 파타고니아 골짜기, 보츠와나 등지에서 승용차와 덤프트럭, 오토바이와 나룻배까지 히치하이킹을 했고, 종종 호스텔 청소와 베이비시터, 영상 편집과 농장 일을 하며 숙식을 지원 받았다. \"여행 다니는 게 아니라 고행을 다니는 것처럼 보이네요.\"동료 여행자가 염려해 주었지만, 몇 차례 사고를 당했을 때 말고는 그리 고통스럽지 않았다. 한 걸음 한 걸음 세계에서 가장 아름다운 장소들을 걸었고, 하루 하루 지구에서 살아가는 별별 사람들의 미소와 슬픔을 마주했다. 나는 스와힐리어나 아랍어도 못하지만 영어도 잘 못한다.가난하고 말도 못하는 내가 살아서 여행을 마칠 수 있었던 건 길 위에서 만난 숱한 사람들의 가없는 도움 덕분이다. 낯선 곳은 두렵고 여행자는 때로 위험에 처하지만, 세계 어느 곳에나 나쁜 사람보다는 좋은 사람이 훨씬 더 많다는 걸 깨달았다. 세상이 아무리 각박하고 험해진대도 의심과 경계보다는 감사와 사랑의 마음으로 살고 싶다. \"남자니까 그렇게 여행할 수 있지\"라는 말을 들을 때면 마음이 시렸다. 여성과 남성은 같은 사람이지만 같은 사람이 아니다. 여성에게는 남성에게 없는 위험이, 세계의 모든 곳에 매일 매일 존재한다. 일상의 여성 차별을 세세히 인식하고 저항하는 남성으로 살고 싶다.  대문도 열쇠도 없는 시골집에 사는 어머니 귀자씨는 머나먼 나라를 여행 중인 자식의 무탈을 기도하는 심정으로 오가는 손님들에게 밥을 대접했다고 한다. 돈도 잃고 건강도 잃고 꿈마저 잃었을 때, 동료와 친구, 여행기를 읽은 독자들이 든든한 밥값과 뜨거운 응원을 보내 주었다. 돌아보면 고통이 아니라 사랑이 넘치는 여정이었다.▲ 지구별 사람들 왼쪽 위부터 시계방향으로 에티오피아 아디스아바바 금속 공예점의 부부. + 미국 뉴욕 버스 터미널의 온두라스 이주노동자 가족 + 페루 쿠스코 악기 가게의 가족 + 코스타리카 산타크루즈 빈민가에서 나를 재워 준 가족 = 가난하고 말도 모르는 나그네에게 사랑을 베풀어준 길 위의 사람들 덕에 행복하고 무탈하게 여행을 마칠 수 있었다.         ⓒ 유최늘샘세계 일주의 끝, 눈물 젖은 광천김 여행이 끝났다. 배낭 하나 메고 온 세상을 쏘다니던 여행자는, 순식간에 집도 직업도 없는 백수가 됐다. 전에 살던 서울 달동네 옥탑방은 사라졌고 비슷한 조건의 집을 구하기도 어려워서 13년 만에 고향 통영으로 거처를 옮겼다.동생 집에 얹혀 살며 동네 도서관에 다니고 밥벌이와 사회생활을 위해 일자리를 찾는다. 세 달 동안 일곱 군데 이력서를 썼다. 몇 군데는 서류 전형에서 광속 탈락, 몇 군데는 면접을 봤지만 똑 떨어졌다. 지구별을 통째로 품었던 마음이 금세 좀스럽게 쪼그라들었다.돌아온 일상에 적응하는 과정도 여행의 일부일까. 도시가스가 들어오지 않아 보일러를 잘 켜지 않는 추운 집. 겹겹이 옷을 껴입고, 나와 마찬가지로 구직 중인 동생과 마주앉아 인터넷으로 싸게 주문한 광천김과 김치로 밥을 먹다가 괜스레 울컥 처량함이 몰려왔다. 여행 때는 없어서 못 먹던 김과 김치인데. 서른일곱 살. 가난한 삼포세대, 밀레니얼 세대라지만 많은 친구들이 사회에서 자리를 잡고 아이를 기르는 나이. 매우 매우 쓸데없는 줄 알면서도 비교하게 되고 의기소침, 불안하고 막막해졌다. 인구 13만 명의 지방 소도시에는 친구도 또래도 없고, 상용직은 물론 아르바이트 자리도 드물다. 처참한 역병 코로나19 탓에 취업은 더욱 어려워졌다. 수입이 없으니 십 리 안팎은 걸어 다니고, 놀거리가 없으니 멧돼지와 노루를 따라 뒷산을 산책한다.얼음이 녹고 쑥이 돋아나듯, 절망이 땅을 치고 나면 희망이 솟는 것은 자연과 생명의 힘일까. 조급해지는 마음을 다잡아 본다. 돈이야 무슨 일을 해서든 벌면 되고, 친구야 살다 보면 만나게 마련. 세계 일주의 경험과 사람들에 대한 감사함을 잃어 버리지 않고, 마음이 쭈그러들면 쭉쭉, 몸을 움직여 춤을 춰야지. 먼 옛날 각설이의 노래처럼, 죽지도 않고 굽이 굽이 돌아와 덤으로 사는 인생, 앞으로도 끝내 자유와 사랑을 찾아, 나만의 속도와 발걸음으로, 하루 하루 주어진 길을 걸어가야겠다.  ▲ 유최늘샘의 세계일주 535일, 유최늘샘의 세계방랑기, 나라별 사진 기록         ⓒ 유최늘샘▲  지구 한 바퀴를 돌고 돌아 한반도의 남쪽 끝, 나고 자란 고향 미륵섬에 돌아왔다.         ⓒ 유최늘샘#세계일주 #세계여행 #미국횡단 #중미여행 #남미여행 #아프리카종단 #여행기 #미니멀여행 #여행과일상 #해외여행안전 #백패커 #worldtravel #worldtraveler #backpacker #africa #southamerica저작권자(c) 오마이뉴스(시민기자), 무단 전재 및 재배포 금지덧붙이는 글 | - 지난 1년 6개월 동안의 여행기를 읽어 주신 모든 분들께, 기사를 수정하고 배치해 주신 편집자께, 시민기자의 공간을 열어 준 오마이뉴스에게 감사함을 전합니다.▶코로나19 속보 보기 [오라이브]▶네이버에서 오마이뉴스 채널을 구독하세요▶용감하게 성교육 <이런 질문, 해도 되나요?>\n",
      "\n",
      "제목 :  [단독]송자호·박규리 “나이 차이는 숫자에 불과…식지 않은 애정 지켜봐 달라”\n",
      "제목 :  [단독]송자호·박규리 “나이 차이는 숫자에 불과…식지 않은 애정 지켜봐 달라”\n",
      "링크 :  /main/ranking/read.nhn?mid=etc&sid1=111&rankingType=popular_day&oid=008&aid=0004384992&date=20200329&type=1&rankingSeq=8&rankingSectionId=103\n",
      "\n",
      "[머니투데이 김고금평 기자] [[인터뷰] 피카갤러리에서 만난 송자호 피카프로젝트 대표와 '카라' 출신 박규리…“호크니와 올드팝에 서로 푹 빠져”]지난해 6월 연인 사이를 인정한 송자호 피카갤러리 대표(왼쪽)와 그의 연인인 그룹 '카라' 출신의 박규리. 두 사람은 지난 27일 문을 연 서울 강남구 청담동에 위치한 피카갤러리 오픈식에서 다정하게 포즈를 취했다. '사랑한다는 약속을 지킨다'(I Promise to Love You)는 트레이시 에민의 작품을 배경으로 사진 촬영에 응한 이들은 \"나이 차이는 숫자에 불과하다\"며 \"식지 않은 애정 계속 지켜봐 달라\"고 말했다. /사진=김휘선 기자지난해 6월 공식 연인 사이라고 밝힌 송자호(25) 수석큐레이터와 그룹 카라 출신 박규리(32)가 “우리 나이 차이는 숫자에 불과하다”며 식지 않은 애정을 과시했다.지난 27일 서울 강남구 청담동에서 문을 연 피카프로젝트의 산하기관 피카갤러리 오프닝에서 가진 인터뷰를 통해서다.피카갤러리는 송자호 큐레이터가 기획한 미술 대중화를 위한 프로젝트로, 공동구매를 통해 고가의 미술품을 감상하고 2년 뒤 20% 수익을 가져가는 주식 시장 형태의 파격적인 시스템을 구현한다. 송 큐레이터는 IT 관련 업계에 종사해온 성해중씨와 공동대표를 맡고 있다.이날 박규리는 도슨트(docent, 박물관이나 미술관 등에서 관람객들에게 전시물을 설명하는 안내인)를 맡으며 해박한 미술 지식을 뽐냈다.트레이시 에민의 작품 'I Promise to love you' 옆에서 사진 촬영에 응한 송자호 피카갤러리 공동대표. /사진=김휘선 기자송 대표는 박규리보다 7살 연하지만, 경어를 쓰지 않았다. 송 대표는 “규리와 너무 좋은 감정으로 잘 만나고 있다”며 “그 마음에 있어서는 변함이 없다. 지켜봐 달라”고 했다.“송 대표의 무엇이 좋았느냐”는 질문에 박규리가 머뭇거리자, 송 대표는 끼어들며 “너무 잘생겨서?”라고 농을 던졌다. 박규리는 이어진 같은 질문에 “마음속에 딱 한 개가 있는데, 그건 나만의 비밀”이라며 끝내 ‘발설’하지 않았다.두 사람은 지난해 6월 서울의 M컨템포러리 아트센터에서 열린 ‘낙서 천재’ 존 버거맨 전시회에서 만나 공통 관심사인 미술을 통해 연인 사이로 발전했다.“서로 미술이라는 공통분모가 있으니 아무래도 자연스럽게 연결된 것 같아요. 규리가 미술 작품 보는 걸 좋아했고, 취미도 그림 그리기라서 대화할 일이 많았어요. 특히 작품을 보는 안목에서도 비슷했고요. 이를테면 데이비드 호크니라는 작가를 똑같이 좋아하는 취향들이 그랬어요.”공통점은 미술뿐만이 아니었다. 두 사람 모두 ‘올드팝’에 빠져있었다. 특히 70, 80년대 팝을 선호했다.앤디 워홀의 작품 '버니'(Bunny) 앞에서 사진 촬영에 응한 그룹 '카라' 출신 박규리. /사진=김고금평 기자송 대표는 지난 1월 내한무대에 오른 그룹 퀸의 기타리스트 브라이언 메이로부터 직접 받은 사인을 보여주며 “나이가 어리지만, 그 당시 음악을 제일 좋아한다”고 말했다. 송 대표는 어릴 때 음반 수집가였던 아버지 송재엽 동원건설 대표이사의 영향을 받아 에어로 스미스, 건즈앤로지스 같은 로커들의 음악을 자주 접했다.박규리 역시 성우였던 어머니 박소현씨 영향으로 올드팝과 친숙했다. 박규리는 “어머니가 집에 오시면 매일 그 당시 음악을 틀어줬다”며 “(송 대표와) 음악과 미술 등 전반적으로 문화적인 코드가 맞는다”고 웃었다.두 사람은 피카갤러리 오픈 행사가 끝난 뒤 다정한 포즈를 취하고 사진을 찍었다. 두 사람이 함께 찍은 모습이 언론에 공개되기는 이번이 처음이다. 사진의 배경 작품은 빅뱅의 지드래곤이 소유한 것으로 알려진, 현재 4억원의 공동구매가 진행되는 트레이시 에민의 ‘I Promise to Love You’(Neon, 2010)이다.지난 1월 내한한 그룹 퀸의 친필 사인을 받았다는 송자호 피카갤러리 공동대표. 송 대표는 \"규리와 나는 서로 미술뿐만 아니라 '올드팝' 팬이라는 공통점도 있다\"고 말했다. /사진=김휘선 기자‘사랑한다는 약속을 지킨다’는 에민의 문구처럼 두 사람은 “이 사랑을 계속 지키겠다”고 말했다.“제가 남들보다 좀 알려진 사람이라고 해서 일반 연인이 누리는 문화생활이 제한돼서는 안 된다고 생각해요. 개인적으로 음악과 미술, 무용 등 예술은 하나라고 생각하는 데 연인 관계도 그렇지 않을까요? 나이는 숫자에 불과하고 그걸 그렇게 크게 생각하지 않아요. 서로 본연의 모습을 보는 게 중요하죠.”김고금평 기자 danny@mt.co.kr▶줄리아 투자노트▶조 변호사의 가정상담소▶머니투데이 구독하기<저작권자 ⓒ '돈이 보이는 리얼타임 뉴스' 머니투데이, 무단전재 및 재배포 금지>\n",
      "\n",
      "제목 :  박구윤 “동갑 박현빈 뜰 때 난 어머니교실 7000곳 뛰었다”\n",
      "제목 :  박구윤 “동갑 박현빈 뜰 때 난 어머니교실 7000곳 뛰었다”\n",
      "링크 :  /main/ranking/read.nhn?mid=etc&sid1=111&rankingType=popular_day&oid=025&aid=0002988294&date=20200329&type=2&rankingSeq=9&rankingSectionId=103\n",
      "\n",
      "무명생활 끝, 트로트 르네상스 만끽 중 \"무대 안 가리고 최선… 지금에 약된 듯\"'미스터트롯' 3인방과 \"형제 같은 사이\"\"아버지가 쓴 임영웅 곡, 내가 가이드\"오랜 무명생활을 보내고 트로트 르네상스를 만끽하고 있는 '뿐이고'의 가수 박구윤. 그의 아버지는 ‘봉선화 연정’ ‘네 박자’ ‘무조건’ ‘있을 때 잘해’ 등 한국인의 애창곡을 수없이 쓴 작곡가 박현진이다. 사진 이광기        데뷔 14년 차인 트로트 가수 박구윤(38)은 요즘 가장 신바람 나고 긴장 된다고 했다. ‘미스터 트롯’ 등 잇단 트로트 예능 프로그램의 성공으로 활동무대가 넓어진 대신, 실력과 패기로 무장한 신예들과 경쟁도 거세졌기 때문이다. 최근 중앙일보 ‘이광기의 생활보물 찾기’ 촬영현장에서 만난 그는 “한 계단 한 계단 힘들게 올라와 겨우 자리 잡았더니 후배들이 나를 앞질러 간다”면서 너털웃음을 지었다.     후배들에는 트로트 르네상스 주역인 임영웅‧영탁‧이찬원도 포함된다. 아무래도 방송‧행사무대가 겹치다보니 그들 데뷔 때부터 지켜봤고 끈끈한 형제처럼 지내왔다. 임영웅은 “트롯계의 신사이자 설운도 선배님과 흡사한 노래꾼”이고 영탁은 “붙임성 좋고 선후배 챙기는 게 또 하나의 나를 보는 느낌”이란다. 이찬원에 대해선 “모르는 게 없는 애늙은이”이며 “작곡가들 생년월일까지 다 꿰고 있는 백과사전”이라고 했다.   지난해 9월 전국민방이 제작한 '전국 Top10 가요쇼'에 이른바 '영 텐'으로 불리운 젊고 실력있는 가수 10명과 함께 출연해 오프닝 무대에서 '뿐이고'를 부른 뒤 후배들과 포즈를 취한 박구윤. 왼쪽부터 소유찬, 최현상, 박구윤, 영탁, 임영웅. 이날 영텐에 이찬원은 포함되지 않았다고 한다. 사진 박구윤   ‘5060의 아이유’로 칭송받는 송가인도 조은심이라는 본명으로 활동할 때부터 고민 상담해주던 사이였다. “실력은 최고인데 알려질 기회가 없어 안타까웠는데 국민가수로 사랑받으니 마치 내 일처럼 기쁘다”고 돌아봤다.  ━  \"임영웅은 신사, 영탁 붙임성 좋아…이찬원은 백과사전”      임영웅이 ‘미스터 트롯’ 결승전에서 부른 미션곡 ‘두 주먹’은 그의 아버지 작품이다. 부친 박현진(70)씨는 현철의 ‘봉선화 연정’ 송대관의 ‘네 박자’ 박상철의 ‘무조건’ 배일호의 ‘신토불이’ 등 전국민의 애창곡을 숱하게 쓴 작곡가다. 그런 아버지가 어느날 그를 부르더니 “영웅이가 연습할 곡”이라며 “네 느낌을 살려 불러봐다오” 하더란다. 임영웅을 우승으로 이끈 곡을 그가 가이드 녹음해줬다는 얘기다. “우승 후에 연락 왔느냐”고 물으니 “지금이 (그가) 가장 바쁠 때 아니냐. 축하와 감사 문자만 주고받았다”고 했다.     박구윤이 부른 ‘뿐이고’ ‘나무꾼’은 지난해 KBS 전국노래자랑 참가자들이 가장 많이 부른 노래 공동 5위에 올랐다. 2010년 발표한 ‘뿐이고’ 덕에 2012년 대중가요 저작권료 수입 3위에 오르기도 했다. 정작 트로트가수로 방향을 잡기까진 오랜 시간이 걸렸다고 한다. 오히려 서울예대 실용음악과 시절 박효신‧김범수‧빅마마‧거미‧이적 등의 코러스로 활동할 땐 막연히 ‘R&B를 해야지’ 하고 생각했단다.     “어렸을 때부터 동요보다 트로트가 친숙했던 ‘모태 트로트’였지만, 그래서 더 싫었어요. ‘나의 음악이 있다, 아버지와 다른 길을 가겠다’는 생각이었죠. 그런데 장윤정‧박현빈 등 트로트 신예들이 치고 나오고, 특히 동갑내기 박현빈이 2006년 축구월드컵 때 ‘빠라빠빠’로 뜨는 것을 보면서 ‘나도 저렇게 사랑받고 싶다’ 부러워했지요.”   ━  “무명시절 어머니교실 7000곳 이상 다녀”     막상 트로트 가수를 한다고 하자 아버지는 깐깐한 트레이너로 돌변했다. “내 곡을 부를 만한 깜냥이 안 된다”며 수차례 퇴짜를 놨다. 혹독한 훈련 끝에 받은 곡 ‘말랑말랑’으로 2007년 데뷔했다. 아버지 후광을 입기 싫어 성을 빼고 ‘구윤’이라는 예명으로 활동했지만 반응이 더뎠다.    가수 박구윤(왼쪽)의 아버지 박현진은 ‘봉선화 연정’ ‘네 박자’ ‘무조건’ ‘있을 때 잘해’ 등 한국인의 애창곡을 수없이 쓴 작곡가다. 사진 박구윤트로트 가수 박구윤은 무명시절 각종 행사장에서 단련된 끼와 순발력으로 흥겨운 무대를 이끌어낸다. 사진 박구윤        “불러주기만 하면 산골 오지라도 갔어요. 전국 어머니교실만 7000군데 이상 다닌 듯해요. 매니저도 없이 직접 운전하며 70만km를 주파한 승합차를 5년 만에 갈아치울 정도였죠. 덕분에 전국 곳곳 가성비 좋은 식당과 숙소는 누구보다 훤하답니다.”     포기할까도 싶었지만 다행히 그를 이끌어준 지인들이 있었다. “무대 따지지 말고 어디서나 최선을 다해라” “방송 현장 구경이라도 하면서 감을 느껴라”는 조언을 새기며 매 순간 연습생 기분으로 버텼다. 이렇게 배운 방송 매너와 순발력은 2집 ‘뿐이고’가 터진 뒤 빠르게 예능 프로에 입성하는 데 바탕이 됐다. “돌아보면 세월이 약이고 무명생활 덕에 준비를 할 수 있었다”고 한다.  ━  “코로나 헤쳐갈 희망곡 들려드릴게요”     이젠 후배들이 늘어나 ‘낀 세대’가 되고 보니 더 큰 책임감을 느낀단다. 최근엔 MBC에브리원의 경연대회 ‘나는 트로트 가수다’에 출연해 신인 시절의 긴장감을 되살리기도 했다. 지난 25일 방송분에서 박구윤은 ‘자옥아’를 불러 4라운드 최종 1위를 차지했다. “그런 현장에서도 어마어마한 트로트 열풍을 느낍니다. 마치 그동안 묻혀있던 걸 보상받기라도 하는 듯. 특히 젊은 친구들의 호응 덕에 세대의 벽을 허무는 듯해 더 기쁩니다.”     트로트의 매력에 대해선 “그 자체로 희로애락이 담겨있다”고 표현했다. 특히 자신이 부른 ‘뿐이고’ ‘나무꾼’을 비롯해 아버지 박현진 작곡가의 곡엔 긍정과 희망이 두드러진다고. 요즘 신종코로나바이러스 감염증(코로나19)으로 인해 실의에 빠진 이들에게도 희망곡을 선사하고 싶다고 했다.     “얼마전 아버지가 연락하셔서 ‘사람들을 위로하고 힘을 주는 곡을 써보겠다’고 하셨어요. 힘들고 지칠 때 자양강장제가 될 수 있는 노래로 곧 찾아뵙겠습니다.”        강혜란 기자 theother@joongang.co.kr  ▶ 그래서, 팩트가 뭐야? 궁금하면 '팩플'▶ 내 돈 관리는 '그게머니' / 중앙일보 가기ⓒ중앙일보(https://joongang.co.kr), 무단 전재 및 재배포 금지\n",
      "\n",
      "제목 :  한국형 좀비 국내외 호평...K좀비 가능성은?\n",
      "제목 :  한국형 좀비 국내외 호평...K좀비 가능성은?\n",
      "링크 :  /main/ranking/read.nhn?mid=etc&sid1=111&rankingType=popular_day&oid=052&aid=0001421068&date=20200329&type=2&rankingSeq=10&rankingSectionId=103\n",
      "\n",
      "동영상 뉴스\n",
      "\n",
      "\n",
      "\n",
      "\t\n",
      "\t[앵커]좀비를 주제로 한 우리 영화와 드라마가 국내외에서 좋은 반응을 얻고 있습니다.단순한 좀비 블록버스터가 아니라 서사가 있고 감동이 있는 새로운 장르로 한국형 좀비의 영역을 넓혀나가고 있습니다.김선희 기자가 보도합니다.[기자]코로나 사태 속에서도 안방극장을 뜨겁게 달군 좀비 드라마 '킹덤 2'넷플릭스를 통해 전 세계 190여 개 나라에 공급되며 해외에서도 호평이 이어지고 있습니다.미국 경제지 포브스는 \"16세기 한국을 배경으로 한 경이로운 좀비물\"이라며 '워킹데드'를 뛰어넘었다고 평가했습니다.서양의 좀비 영화가 단순히 괴물을 퇴치하는 공포물로 그려졌다면, '킹덤 2'는 서사와 드라마가 있는 한국형 좀비로 차별화를 꾀했습니다.[정민아 / 영화평론가 : 왕실과 민초들의 삶이긴 한데 여기에 '휴머니티' 라는 요소를 결합했던 것이 서양인들이 봤을 때는 기존 좀비물과 굉장히 다르다.]한국형 좀비를 처음 탄생시킨 것은 연상호 감독의 '부산행'입니다.좀비가 B급 소재라는 선입견을 없애고 완성도 높은 영화로 천만 관객을 끌어모으며 좀비 영화의 지평을 넓혔습니다.영화 '창궐'은 처음으로 사극에 좀비를 접목했고,'기묘한 가족'은 잔혹함을 걷어내고 특유의 코믹함으로 국내외에서 주목을 끌었습니다.올해는 '부산행'의 다음 이야기인 '반도'가 기대를 모으고 있습니다.이미 북미와 홍콩, 타이완, 프랑스 등 해외시장에 선판매되는 등 반응이 뜨겁습니다.[강유정 / 영화평론가 : 요즘 우리가 살아가고 있는 동시대 사회의 이기심 이라든가 혹은 권력의 욕망 같은 큰 주제를 서사적으로 다루고 있기 때문에 드라마 적으로 몰입력을 높인 다음에 볼거리로서의 좀비가 등장한다는 점이 상당히 깊이감이 있고.]한국형 좀비는 서양에서 볼 수 없는 한국만의 차별화된 콘텐츠와 넷플릭스라는 글로벌 플랫폼이 만나 시장 개척에 가속도가 붙고 있습니다.YTN 김선희[sunny@ytn.co.kr]입니다. ▶ 이 시각 코로나19 확진자 현황을 YTN에서 확인하세요.  ▶ 대한민국 24시간 뉴스 채널 YTN 생방송보기  ▶ 네이버에서 YTN 뉴스 채널 구독하기 [저작권자(c) YTN & YTN PLUS 무단전재 및 재배포 금지]\n",
      "\n",
      "제목 :  말레이 봉쇄에 전 세계 '콘돔 비상'…\"이미 물량 1억개 부족\"\n",
      "제목 :  말레이 봉쇄에 전 세계 '콘돔 비상'…\"이미 물량 1억개 부족\"\n",
      "링크 :  /main/ranking/read.nhn?mid=etc&sid1=111&rankingType=popular_day&oid=025&aid=0002988234&date=20200328&type=1&rankingSeq=1&rankingSectionId=104\n",
      "\n",
      "말레이시아의 세계 최대 콘돔업체 카렉스. EPA=연합뉴스    신종 코로나바이러스 감염증(코로나19) 확산을 막기 위해 말레이시아 정부가 지난 18일부터 이동제한 명령을 내렸더니 전 세계 콘돔 수급에 차질이 빚어지고 있다.     27일(현지시간) 로이터통신에 따르면 세계 최대 콘돔 생산업체인 카렉스(Karex) 말레이시아 3개 공장이 이동제한령에 따라 공장 가동을 중단하면서 빨간불이 들어왔다     1988년 말레이시아 조호르에서 출발한 카렉스는 미국, 영국, 태국 등에도 생산기지를 설립해 2016년부터 연간 50억개의 콘돔을 생산해 전 세계 130여개국에서 판매한다.     카렉스는 글로벌 콘돔 브랜드 듀렉스 등에 OEM(주문자 상표 부착생산) 납품을 하는 등 전 세계 콘돔 생산량의 약 20%를 맡고 있다.     특히 카렉스는 에이즈 방지사업 등을 펼치는 정부·국제기구·NGO 단체에도 콘돔을 공급한다.     카렉스가 일주일 넘게 콘돔을 단 1개도 생산을 하지 않으면서 이미 1억개의 콘돔 물량이 부족하다고 로이터통신은 전했다.  이동제한 명령에 한산한 쿠알라룸푸르 도심. AP=연합뉴스   고 미아 키앗카렉스 최고경영자(CEO)는 “오늘 정부로부터 생산을 재개할 수 있는 허가를 받았지만 공장 재가동에는 시간이 걸릴 것”이라며 “이동제한령 면제 인력이 50%라서 기존 대비 절반의 인력으로 최대한 생산해야 한다”고 말했다.     이어 “세계적으로 콘돔 부족 현상이 나타날 것”이라며 “아프리카의 각종 인도주의적 프로그램의 콘돔 공급은 2주, 1개월 정도 부족한 것이 아니라 몇 달씩 부족할 수 있다”고 우려했다.     그러면서 키앗 CEO는 “콘돔 수요는 여전히 매우 강하다. 좋든, 싫든 콘돔은 필수적이기 때문”이라며 “지금 같은 시기에 사람들은 불확실성이 너무 커서 아이를 가질 계획이 없을 것”이라고 설명했다.     한편 말레이시아 코로나19 확진자는 총 2161명, 사망자는 26명이다.     말레이시아 정부는 이동제한 명령을 지난 18일부터 31일까지 2주간 발령했다가, 4월 14일까지 2주 더 연장했다. 이 때문에 말레이시아 시민은 생필품 구매, 병원 방문 등을 제외하고는 외출이 금지돼 있다.     이지영 기자 lee.jiyoung2@joongang.co.kr  ▶ 그래서, 팩트가 뭐야? 궁금하면 '팩플'▶ 내 돈 관리는 '그게머니' / 중앙일보 가기ⓒ중앙일보(https://joongang.co.kr), 무단 전재 및 재배포 금지\n",
      "\n",
      "제목 :  中, 항공편 사실상 '차단'...북한군 부대 내 대규모 사망설\n",
      "제목 :  中, 항공편 사실상 '차단'...북한군 부대 내 대규모 사망설\n",
      "링크 :  /main/ranking/read.nhn?mid=etc&sid1=111&rankingType=popular_day&oid=052&aid=0001421148&date=20200329&type=2&rankingSeq=2&rankingSectionId=104\n",
      "\n",
      "동영상 뉴스\n",
      "\n",
      "\n",
      "中, 오늘부터 입국 항공편 사실상 막아…\"하루 20편 미만\"대한항공, 주 1회 선양 노선 운항…아시아나, 상하이만 다녀한중 항공편, 1/100 미만으로 감소…\"하늘길 사실상 차단\"\"북한군 100명, 코로나19 감염 의심 사망\"-日 요미우리 신문[앵커]해외 유입 환자를 차단하려고 외국인의 입국을 사실상 전면 금지한 중국이 오늘부터는 항공기의 운항도 사실상 막고 있습니다.이런 가운데 북중 국경 근처의 북한군 부대에서 코로나19의 감염이 의심되는 사망자가 100명 정도 발생했다는 보도가 나왔습니다.중국 베이징 연결해 이 소식 알아보겠습니다. 강성웅 특파원!중국이 항공편도 사실상 막기 시작했는데, 오늘부터 시행이 되고 있습니까?[기자]오늘부터 중국에 들어가는 국제 항공편이 모두 합쳐도 하루 20 편도 안되는 수준으로 축소 됐습니다.각 항공사마다 1주일에 1편씩만 운항한다는 중국 당국의 조치가 오늘부터 시행되고 있기 때문입니다.예를 들어 대한항공은 1주일에 1번 중국 선양만 다니고, 아시아나항공은 1주일에 1번 상하이 노선만 운영하고 있습니다.중국 국적 항공기까지 포함해도 한국에서 중국으로 가는 항공기는 1주일에 10편 미만으로 감소하게 됩니다.한중 노선에 코로나19 문제가 없었던 지난해 12월 매주 천 100편 정도가 다녔던 것과 비교하면 100분의 1 이상 줄어 사실상 하늘길이 막힌 거나 다름었습니다.중국은 해외로부터 들어오는 항공편 입국자가 하루 5천 명 이하로 줄어들 것으로 추산하고 있습니다.주로 유럽이나 미국에서 들어오는 중국인들의 입국을 막으려는 건데, 그동안 확진 사례가 없는 한국인들의 중국 방문도 어려워졌습니다.이렇게 해서 계속 늘어나고 있는 해외 유입 코로나19 환자를 원천적으로 차단하겠다는 게 중국의 계산입니다.[앵커]그런데 북중 국경지역 북한군 부대에서 코로나19 감염이 의심되는 100명 이상의 사망자가 나왔다는 보도가 있는데 어디서 나온 얘기입니까 ?[기자]일본 요미우리 신문이 오늘 한미일 협의 소식통을 인용해서 보도한 내용입니다.북한과 중국의 국경 인근에 배치된 북한군 부대에서 지난 달 말 이후 코로나19 감염이 의심되는 사망자가 100명 이상 발생했다는 겁니다요미우리 신문은 북한군 부대 내 사망자의 정확한 사인은 알 수 없지만, 코로나19 때문으로 추정된다고 전했습니다.아울러 코로나19 감염이 당초 북중 국경 인근에서 시작돼 지금은 전국으로 퍼지고 있으며, 군 훈련이 중지된 사례도 나오고 있다고 덧붙였습니다.북한 매체에 보도된 사진을 보면, 지난 12일 김정은 국무위원장이 포병부대를 시찰했을 때는 주변 간부들이 마스크를 쓰고 있었는데, 9일 뒤인 지난 21일 전술 유도무기 발사 훈련 때는 마스크를 쓴 간부가 보이지 않았습니다.또 지난 27일 북한 관영 조선중앙통신은 외국 출장자와 접촉자, 그리고 감기 증상자 등 의학적 감시 대상자가, 평안남도와 평안북도, 양강도, 나선시 등 전국적으로 2천 280명이라고 보도한 바 있습니다.북한 당국은 그러나 지금까지 코로나19 감염자나 사망자가 전혀 나오지 않았다고 주장하고 있습니다.지금까지 베이징에서 YTN 강성웅[swkang@ytn.co.kr]입니다. ▶ 이 시각 코로나19 확진자 현황을 YTN에서 확인하세요.  ▶ 대한민국 24시간 뉴스 채널 YTN 생방송보기  ▶ 네이버에서 YTN 뉴스 채널 구독하기 [저작권자(c) YTN & YTN PLUS 무단전재 및 재배포 금지]\n",
      "\n",
      "제목 :  일본 언론이 전한 '북한군 대규모 사망설'\n",
      "제목 :  일본 언론이 전한 '북한군 대규모 사망설'\n",
      "링크 :  /main/ranking/read.nhn?mid=etc&sid1=111&rankingType=popular_day&oid=052&aid=0001421164&date=20200329&type=2&rankingSeq=3&rankingSectionId=104\n",
      "\n",
      "동영상 뉴스\n",
      "\n",
      "\n",
      "\"북한군 100명, 코로나19 감염 의심 사망\"-日 요미우리 신문日 언론 \"북중 국경 인근에 배치된 북한군 부대에서 발생\"日 요미우리 신문, 한미일 협의 소식통 인용해 보도[앵커]북중 국경지역 북한군 부대에서 코로나19 감염이 의심되는 100명 이상의 사망자가 나왔다는 보도가 있는데 어디서 나온 얘기입니까?[기자]일본 요미우리 신문이 오늘 한미일 협의 소식통을 인용해서 보도한 내용입니다.북한과 중국의 국경 인근에 배치된 북한군 부대에서 지난 달 말 이후 코로나19 감염이 의심되는 사망자가 100명 이상 발생했다는 겁니다요미우리 신문은 북한군 부대 내 사망자의 정확한 사인은 알 수 없지만, 코로나19 때문으로 추정된다고 전했습니다.아울러 코로나19 감염이 당초 북중 국경 인근에서 시작돼 지금은 전국으로 퍼지고 있으며, 군 훈련이 중지된 사례도 나오고 있다고 덧붙였습니다.북한 매체에 보도된 사진을 보면, 지난 12일 김정은 국무위원장이 포병부대를 시찰했을 때는 주변 간부들이 마스크를 쓰고 있었는데, 9일 뒤인 지난 21일 전술 유도무기 발사 훈련 때는 마스크를 쓴 간부가 보이지 않았습니다.또 지난 27일 북한 관영 조선중앙통신은 외국 출장자와 접촉자, 그리고 감기 증상자 등 의학적 감시 대상자가, 평안남도와 평안북도, 양강도, 나선시 등 전국적으로 2천 280명이라고 보도한 바 있습니다.북한 당국은 그러나 지금까지 코로나19 감염자나 사망자가 전혀 나오지 않았다고 주장하고 있습니다.지금까지 베이징에서 YTN 강성웅[swkang@ytn.co.kr]입니다. ▶ 이 시각 코로나19 확진자 현황을 YTN에서 확인하세요.  ▶ 대한민국 24시간 뉴스 채널 YTN 생방송보기  ▶ 네이버에서 YTN 뉴스 채널 구독하기 [저작권자(c) YTN & YTN PLUS 무단전재 및 재배포 금지]\n",
      "\n",
      "제목 :  \"고통스러운 죽음의 악몽…기댈 곳이 없다\" 유럽의 절규, 이탈리아 코로나 1만명·스페인 5000명 사망\n",
      "제목 :  \"고통스러운 죽음의 악몽…기댈 곳이 없다\" 유럽의 절규, 이탈리아 코로나 1만명·스페인 5000명 사망\n",
      "링크 :  /main/ranking/read.nhn?mid=etc&sid1=111&rankingType=popular_day&oid=009&aid=0004546226&date=20200329&type=1&rankingSeq=4&rankingSectionId=104\n",
      "\n",
      "28일, 이탈리아 사망자 하루 900명 늘어 1만명 돌파·치명률 10% 넘어전국 시청서 `거대한 장례식`…오는 31일 일제히 조기 게양·묵념 행사같은 날 사망자 5000명 넘은 스페인서 정부 `2주간 출근 금지령` 발표병실 없어 `휠체어 입원`…아이스링크 개조 장례식장 부족해 軍동원프랑스도 사망자 2000명 넘어…총리 \"앞으로 2주가 더 힘들 것\"中이 `일대일로 돈다발 외교`벌인 세 나라, 중국산 마스크에 의지 27일 저녁(현지시간), 봄비가 내리는 가운데 바티칸 시국 내 텅 빈 성베드로광장 제단을 향해 홀로 걸어가는 프란치스코 교황. [출처 = 로이터·아르헨티나 인포바에] \"짙은 어둠이 광장과 거리, 도시를 뒤덮고 먹먹한 침묵과 허무가 삶을 사로잡았습니다…부디 세상을 축복하시고, 건강을 주시고, 마음의 위안을 주시기를 간절히 바랍니다\" 봄비 내린 금요일 저녁, 텅빈 성베드로 광장에 선 교황의 슬픈 기도에 전세계가 눈물을 떨궜다. 하지만 중국발 코로나바이러스19(COVID-19)는 유럽에서만  또 다시 수천 명 목숨을 앗아갔다. 중국발 코로나19는  28일(현지시간)유럽에서만 또다시 최소 수천 명의 목숨을 앗아갔다. 폐를 찌르는 듯한 고통스러운 죽음이 집중된 이탈리아·스페인·프랑스에서는 의료 장비와 시설마저 부족해 더이상 기댈 곳이 없다는 현장 절규가 나온다. 그림은 `절규`(에드바르 뭉크, 1893년, 유화) [그림 출처 = 오슬로 국립미술관] 유럽에선 특히 이탈리아와 스페인, 프랑스를 중심으로 코로나19 피해가 치솟고 있다. 28일(현지시간) 이탈리아 보건부에 따르면 코로나19로 인한 사망자 수가 1만 명을 돌파했다. 이탈리아 확진자 수는 총 9만2472명, 사망자 수는 1만23이다. 전세계 코로나19 사망자가 3만 여명이라는 점을 고려하면, 이탈리아가 3분의 1에 달한다. 이날 이탈리아 치명률(전체 확진자 대비 사망자 비율)은 10.84%로 전세계 최고치를 기록했다. 하루 새 사망자(889명) 증가율이 9.7%로, 확진자(5974명 증가·6.9%↑)보다 증가세가 빠른 탓에 치명률도 올랐다. 희망을 찾는다면 확진자 하루 증가세가 처음으로 7%를 밑돌면서 다소 수그러드는 분위기라는 점이다. 하루가 멀다 하고 죽음의 그림자가 짙어지면서 오는 31일 이탈리아에선 전국 시청에 조기가 게양된다. 피해가 가장 심각한 북부 롬바르디아 주 베르가모 시가 오는 31일 조기 게양과 묵념을 통해 희생자를 추모하기로 하자 다른 지역이 함께하기로 한 것이다. 이탈리아 북부 롬바르지아 주 베르가모 시 인근 폰테 산 피에트로 지역의 한 창고에 코로나19로 숨을 거둔 이들의 관 35개가 나란히 놓여있다. 베르가모에서는 시신 둘 곳 뿐 아니라 24시간 가동하는 화장터 마저 모자라 군용 트럭이 다른 지역으로 시신을 옮기기도 한다. [출처 = 게티이미지·미국 CNN] '죽음의 도시' 베르가모 시에서는 화장장을 24시간 가동해도 넘쳐나는 시신을 감당하지 못해 군용 차량을 동원해 관을 다른 지역으로 실어나르는 영상이 트위터 등 소셜네트워트(SNS)를 통해 퍼지면서 전세계 사람들의 마음을 울렸다. 부고 기사가 지면 전체에 빼곡히 적힌 지역 신문이 나부끼고, 병원 영안실에 시체 둘 공간이 없어 성당에까지 관이 들어차는 비참한 상황이 하루 하루 이어진다.사정이 이렇다 보니 이탈리아 정부가 다음 달 3일까지인 전국 이동제한령(국내 봉쇄령)과 휴교령을 2주 정도 더 늘릴 지 여부에도 관심이 모인다. 현재 상황을 감안하면 봉쇄·휴교령 연장이 불가피해 보이지만 주세페 콘테 총리는 코로나19 확산세가 조만간 정점에 달해 하강 국면에 들어갈 것이라고 보고 있어 실제 연장에 나서지 않을 가능성도 있다고 현지 레푸블리카 신문과 미국 블룸버그 통신 등이 전했다. `20세기 최고 거장` 스페인 추상 화가 파블로 피카소의 `게르니카`(1937년)는 스페인 내전 당시 나치군이 스페인 게르니카 지역을 비행기로 폭격한 참상을 보고 절규하며 그린 유화다. 지난 22일 페드로 산체스 총리는 \"지금 코로나19 확산은 1936~1939년 내전 이후 최악\"이라고 말했다. [출처=국립 소피아 왕비 예술센터] 이웃 나라 스페인에서는 같은 날 사망자가 5000명을 돌파했다고 발표했다. 하루 사이 800명 넘는 사람들이 무더기로 목숨을 잃은 탓이다. 코로나19에 따른 스페인 사망자는 지난 25일부로 발원지인 중국을 추월해 이탈리아 다음으로 많다.28일 오후 6시 기준 보건부에 따르면 사망자는 총 5690명으로 전날보다 832명 늘었고, 확진자는 총 7만2248명으로 전날보다 8189명 급증했다. 미국 존스홉킨스대가 각 국 보건당국 추가 보고 등을 집계한 바에 따르면 이날 스페인 피해(확진자 총 7만2335명,  사망자 총 5820명)는 더 크다. 이달 11일 이후 스페인에서는 하루 단위 코로나19 사망자가 갈수록 늘어나면서 절망감이 커지고 있다. [출처 = 스페인 보건부·엘 파이스 신문] 스페인 피해가 늘어나는 배경으로는 크게 세 가지 사건이 꼽힌다. 가장 먼저 있던 사건은 지난 달 19일 이탈리아 밀라노에서 열린 유로피안 챔피언스 리그 축구 경기다. 이날 스페인 발렌시아와 이탈리아 아틀란타 간 경기에는 발렌시아 팬인 스페인 시민 3000여명이 밀라노로 원정 응원을 갔고 이탈리아 측에선 베르가모 시민 등 총 4만 여명의 이탈리아인들이 경기장을 찾아 집단 감염 도화선이 됐을 것이라는 게 현지 언론 추측이다. 두 번째 주요 사건은 지난 11일부로 마드리드 시내 대학 등 학교가 폐쇄된 것이다. 이를 기점으로 젊은 층이 대거 해변이나 클럽 등을 찾아 즐기는 과정에서 코로나19 감염이 확산됐을 것이라는 의견도 있다. 또 산체스 총리가 인정했 듯 연방정부와 '독립'을 외치는 카탈루냐 지역 정부간 정책 협조가 이뤄지지 않은 점도 세번째 배경이다. 마드리드와 카탈루냐는 사망·확진자를 통틀어 스페인 피해 규모의 3분의 2를 차지한다고 미국 월스트리트 저널(WSJ)이 전한 바 있다. 지난 26일(현지시간) 펠리페 6세 스페인 왕이 마드리드 대형 박람회장 이페마(Ifema)를 찾아 군인들이 박람회장을 병실로 바꾸는 모습을 지켜보고 있다. [출처 = 스페인 왕실] 하루 하루가 코로나19 정점인 날이기를 바랐던 스페인 정부는 28일, 하는 수 없이 '2주 간 경제 활동 자제령'을 발표했다고 현지 신문 엘 파이스가 전했다. 이날 페드로 산체스 총리는 \"4700만명의 스페인 시민들께 말씀드린다. 정부는 오는 30일부터 4월 9일까지 근로자들이 급여를 받되 출근하지 않고 집에 머무르도록 하는 조치를 내일 발동할 것\"이라면서 \"확진자, 특히 중환자가 늘어나는 것을 조금이라도 막아보기 위한 것이므로 시민들의 협조를 부탁드린다\"고 화상을 통해 밝혔다. 이번 조치에서 의료기관이나 약국 등 필수 사업장은 예외다. 중국발 코로나19 탓에 스페인은 '1936~1939년 스페인 내전 이후 최악'상황을 맞았다. 의료 시스템이 한계에 치닫고 있다. 지난 17일 산체스 총리가 '15일간 민간 의료기관 국영화'를 선언한 데 이어 '의료인 5만명 현장 참여'(졸업하지 않은 의대·간호대 학생 포함)를 요청한 상태지만 공간도, 장비도 부족하다. 피해가 집중된 수도 마드리드에선 특히 병상이 모자라다. 간호사 노동조합에 따르면 병실이 모자로 침대 대신 휠체어에 앉은 채로 사흘을 기다리는 환자도 있다. 라파스 병원에선 환자들이 주차장에 설치된 텐트에 누워 차례를 기다린다. 병원 측이 딸린 체육실과 대기실을 응급실로 개조했지만 병상이 모자란 탓이다. 세베로 오초아 병원도 환자들이 24시간 가까이 복도에 무방비 상태로 드러누워 대기줄을 선다고 현지 언론이 전했다. 코로나19로 인한 사망자가 나날이 늘자 지난 24일(현지시간)부터 마드리드 소재 아이스링크인 `얼음 궁전`(Palacio de Hielo)이 시신 안치실로 바뀌었다. [출처 = 유로파프레스] 사망자가 속출하면서 스페인도 이탈리아처럼 장례식장 확보 비상이 걸렸다. 보건부는 지난 27일 장례식장 부재에 따른 군 동원 행정명령을 발동했다. 이에 따라 군은 당일 공공건물을 제2 영안실로 개조하는 공사에 들어갔다. 앞서 수도 마드리드 소재 아이스링크인 '얼음 궁전'(Palacio de Hielo)에 마련된 임시 영안실에 83구의 시신을 옮겨둔 상태다. 의료 장비도 턱없이 모자란다. 28일 스페인 사라고사 공군기지에서는 A400M 수송기가 중국 의료 장비를 실어오기 위해 상하이로 떠났다. 보건부가 중국산 코로나19 진단키트를 대량 사들였다가 정확도가 30%밖에 안돼 낭패를 봤지만 일단 계약한 마스크와 호흡기 등 다른 물품이라도 긴급히 필요하기 때문이다. 살바도르 이야 보건부 장관은 25일 \"중국에서 4억3200만 유로(약 5760억8900만원) 어치 의료 장비를 사들이기로 했다\"고 밝힌 바 있다. 이 중에는 마스크 5억5000만 개와 호흡기 세트 950개, 의료용 장갑 1100만 개 뿐 아니라 진단 키트 550만 개가 포함됐었다. 한편 같은 날인 28일, 프랑스에서도 코로나19 사망자 규모가 2000명을 넘어섰다. 보건부에 따르면 사망자는 총 2314명이다. 하루 새 319명이 또 목숨을 잃은 결과다. 확진자는 총 3만7575명으로 전날보다 4611명 늘어났다. 프랑스 AFP통신에 따르면 에두아르 필리프 총리는 이날 오후 기자회견에서 \"우리는 시간 싸움을 하고 있다\"면서 \"지나간 2주보다 앞으로의  2주가 더 힘겨운 시간이 될 것\"이라고 말했다. 올리비에 베랑 보건장관은 코로나19 대응을 위해 마스크 10억 장을 주문했다고 발표했다. 대부분 중국에서 수입된다.  28일(현지시간)기준 미국 존스홉킨스 의대가 각 국 보건부 발표와 추가 사항을 집계한 코로나19피해 현황.코로나19 탓에 발원지인 중국을 제외하면 이탈리아·스페인·이란·프랑스 순으로 사망자가 많다. 이탈리아·스페인·프랑스가 관심을 기울였던 '중국몽'(中國夢)은 코로나19판데믹(전세계 대유행) 속에 '악몽'이 되어 돌아왔다. 중국몽은 '일대일로'(一帶一路·중국 중심 경제협력벨트)를 통해 중국이 21세기 세계 중심이 되겠다는 시진핑 국가 주석의 구상이다. 최근 중국은 이탈리아와 스페인에 대해 마스크 원조와 의료진 파견을 시작으로 진단 키트 등 자국 의료장비 판매에 나섰다. 중국의 지원은 두 나라가 코로나19판데믹으로 고통받는 동안 유럽연합(EU)이나 동맹국인 미국이 별다른 지원 의사를 보이지 않는 틈새를 이용한 것이다. 이탈리아는 유럽에서는 처음으로 지난해 3월 23일 중국과 일대일로 양해각서(MOU)를 체결했다. 코로나19판데믹 전까지는 한해 중국인 관광객 수백만명이 이탈리아를 찾았고, 수도 로마의 트레비 분수같은 유명 관광지에서는 중국과 이탈리아 경찰이 순찰을 함께 돌기도 했다. 현재 중국은 자국 의료진을 롬바르디아 일대에 파견하고 마스크 200만 개 등 방역 물품을 지원하는가 하면 진단 키트 등 의료 장비를 수출 중이다.  28일(현지시간) 스페인 사라고사 공군기지에서는 A400M 수송기가 중국 의료 장비를 실어오기 위해 상하이로 떠났다. [출처 = 엘 파이스] 스페인은 일대일로에 참여하지 않았다. 다만 지난 2018년 11월 시진핑 주석이 마드리드에 국빈 방문해 일대일로를 위한 돈다발 외교를 본격화 했다. 중국 국영기업인 중국원양해운(Cosco)이 스페인 발렌시아와 빌바오 항만 운영 기업 지분 절반 가량을 인수했고 중국 저장성 이우 시와 마드리드를 잇는 철도 노선도 개통됐다. 지난해 4월 호세프 보렐 스페인 외무장관이 중국에서 열린 '제2회 일대일로 국제협력 고위포럼'에 참석해 '원칙이 지켜진다면 스페인도 일대일로 사업에서 중국과 협력을 강화할 수 있다'는 입장을 내비친 바 있다. 프랑스도 일대일로에 참여하지 않았다. 다만 지난 해 3월 25일 시진핑 주석은 파리에 국빈 방문해 에어버스 300대 구매 계약 등 총400억 달러 어치 경제협력 계약을 체결했다. 이탈리아와 25억 유로 규모 경제협력을 체결한 지 불과 이틀 만이지만 16배 많은 금액이다. [김인오 기자]▶네이버 메인에서 '매일경제'를 받아보세요▶뉴스레터 '매콤달콤' 구독▶'매일경제' 바로가기[ⓒ 매일경제 & mk.co.kr, 무단전재 및 재배포 금지]\n",
      "\n",
      "제목 :  코로나19 사태 직전 지난해 10월 中우한서 무슨 일이?\n",
      "제목 :  코로나19 사태 직전 지난해 10월 中우한서 무슨 일이?\n",
      "링크 :  /main/ranking/read.nhn?mid=etc&sid1=111&rankingType=popular_day&oid=022&aid=0003451476&date=20200329&type=1&rankingSeq=5&rankingSectionId=104\n",
      "\n",
      "우한 거주 변호사, 美정부 상대 민사소송 제기 / 2019년 10월 中 우한에 109개국 군인들 모여 / “미군 선수단에 코로나19 감염자 있었다” 주장  도널드 트럼프 미국 대통령(왼쪽)과 시진핑 중국 국가주석. 세계일보 자료사진    신종 코로나바이러스 감염증(코로나19) 발원지로 알려진 중국 내에서 ‘중국이 아닌 미국이 진짜 발원진’라는 주장이 끊이지 않더니 급기야 중국인이 미국 정부를 상대로 “코로나19에 따른 피해를 배상하라”며 소송까지 제기하고 나섰다. 지난해 10월 중국 우한에서 도대체 무슨 일이 있었길래 ‘미군이 중국에 코로나19 바이러스를 퍼뜨렸다’는 식의 의혹 제기가 계속되는 걸까.  ◆우한 거주 변호사, 美정부 상대 민사소송 제기  29일 중국 관영 글로벌타임스에 따르면 중국 우한에 거주하는 변호사 량쉬광은 미국 연방정부, 미 질병통제예방센터(CDC), 미 국방부, 미 군사체육협회 등 4곳을 상대로 우한중급인민법원에 민사소송을 냈다. 소장은 주중 미국 대사관을 통해 미 정부에도 전달됐다.  량 변호사는 소장에서 “코로나19로 인한 수입 손실 15만위안(약 2500만원), 그리고 정신적 피해 5만위안에 대해 피고인들이 공동으로 배상하라”고 요구했다. 그는 “미국 정부가 고의로 알려지지 않은 형태의 코로나19 바이러스에 감염된 사람들을 독감 환자로 분류해 세계에 잘못된 정보를 전파했고, 미국의 코로나19 유행 상황을 숨겼다”고 주장했다.  이는 중국 외교부 자오리젠 대변인이 트위터에 올린 글에서 비롯한 것으로 풀이된다. 자오 대변인은 지난 12일 자신의 트위터 계정에 올린 글에서 “미군이 우한에 코로나19을 가져온 것일 수 있다”는 주장을 폈다.  ◆2019년 10월 中 우한에 109개국 군인들 모여  그럼 ‘미군이 우한에 코로나19를 가져왔다’는 취지의 주장은 근거가 무엇일까.  중국 우한에서 코로나19 환자가 처음 발생했다는 보고가 이뤄지기 직전인 지난해 10월 18일부터 27일까지 열흘간 우한에선 제7회 세계군인체육대회가 열렸다. ‘군인들의 올림픽’으로 불리는 세계군인체육대회는 1995년부터 시작했으며 진짜 올림픽과 마찬가지로 4년에 한 번씩 개최된다. 직전의 6회 대회는 한국 문경에서 열린 바 있다.  우한 대회는 세계 109개국에서 총 9308명의 군인이 선수로 참여해 성황을 이뤘다. 개최국 중국이 금메달 133개, 은메달 64개, 동메달 42개 등 총 239개의 메달을 따내 사장 처음 종합 우승을 차지했다. 종합 2위 러시아(금메달 51개)와의 격차가 상당했을 정도로 중국의 독무대였다.  ◆“미군 선수단에 코로나19 감염자 있었다” 주장  프랑스(4위), 독일(6위), 북한(7위), 우크라이나(10위) 등이 10위 안에 들었고 한국은 16위에 그쳤다.  미군은 300여명의 선수단을 보냈는데 10위 안에 들지 못하는 등 성적은 저조한 편이었다. 그 때문인지 대회 당시부터 중국 누리꾼들 사이에 ‘미국 선수단이 경기 목적으로 방문했다고 보기에는 수상한 점이 많다’는 소문이 나돌았다고 한다. 대회가 끝나고 우한 일대에서 신종 바이러스 감염증이 확인되자 ‘미군 선수단이 몰래 반입한 생물학무기를 고의로 중국에 퍼뜨렸다’는 음모론으로 확산했다.  물론 좀 더 현실적인 가설도 있다. 코로나19 유증상자가 미군 선수단에 포함돼 있었고 그의 우한 방문을 계기로 바이러스가 우한 일대에서 퍼져나갔다는 것이다. 중국 누리꾼들 사이에선 코로나19 감염이 추정되는 당시 미군 선수단 소속 장병의 실명까지 거론되는 상황이다.  김태훈 기자 af103@segye.comⓒ 세상을 보는 눈, 세계일보\n",
      "\n",
      "제목 :  `거대한 장례식` 이탈리아, 31일 전국 조기게양…화장터 모자라 軍트럭으로 시신 옮겨\n",
      "제목 :  `거대한 장례식` 이탈리아, 31일 전국 조기게양…화장터 모자라 軍트럭으로 시신 옮겨\n",
      "링크 :  /main/ranking/read.nhn?mid=etc&sid1=111&rankingType=popular_day&oid=009&aid=0004546125&date=20200328&type=1&rankingSeq=6&rankingSectionId=104\n",
      "\n",
      "31일 전국 조기 게양…교황 \"인류를 구원하소서\" 이탈리아, 코로나19로 하루새 1000명 가까이 숨져27일 기준  사망자 총 9134명…확진자 8만6498명베르가모市, 시신 태울 화장장 모자라 군용 트럭 동원봄비 내린 저녁, 교황은 텅빈 광장에서 홀로 간절히 기도 27일(현지시간) 저녁 봄비가 내리는 가운데 바티칸 시국 내 텅 빈 성베드로광장 제단을 향해 홀로 걸어가는 프란치스코 교황./출처=로이터·아르헨티나 인포바에중국발 코로나바이러스19판데믹(COVID-19 대유행)으로 가장 큰 치명타를 입어 나라 전체가 거대한 슬픔에 빠진 이탈리아가 오는 31일 조기를 내걸고 전국 추모 의식에 들어간다. '명품 패션의 고향'으로 통하던 이탈리아는 '세상에서 가장 슬픈 곡' 샤콘느(토마소 비탈리 작곡) 음정같은 비탄에 휩싸인 상태다. 하루 새 1000명 가까이 사망하는 등 코로나19가 끝없이 그림자를 드리운 탓이다. 이런 가운데 수도 로마 인근 바티칸 시국에서는 프란치스코 교황이 '우르비 에트 오르비'(Urbi et Orbi) 특별 축복에 나섰다. 이탈리아 밀라노 지역 마리노 광장 한 건물에 비춰진 이탈리아 국기.이탈리아에서는 코로나19사망자가 끝없이 늘면서 전국 시청이 오는 31일 애도 차원에서 조기를 게양하기로 했다./출처=로이터27일(현지시간) 현지 신문 레푸블리카에 따르면 안토니오 데카로 이탈리아 지방자치단체협의회(ANCI) 의장은 자신의 트위터를 통해 \"오는 31일 정오에 전국 시청은 조기를 게양하고 코로나 희생자를 위해 1분간 묵념을 진행할 것\"이라고 이날 밝혔다. 피해가 가장 심각한 베르가모 시장이 오는 31일 조기 게양과 묵념으로 희생자를 추모하기로 하자 다른 지역 시장들이 함께하기로 한 데 따른 것이다.  이탈리아는 나라 전체가 병원이 된 듯한 분위기다. 이날 기준 보건부 발표에 따르면 이탈리아 내 코로나19로 인한 사망자 수는 총 9134명이다. 발원지인 중국 본토 사망자(총 3299명)보다 사망자 수가 3배 가량 많다. 하루 새 무려 969명이 무더기로 목숨을 잃은 결과다. 확진자 수는 총8만6498명으로 전날보다 5909명 늘었다. 지난 19일(현지시간) 이탈리아 베르가모 시에서는 화장장을 24시간 가동해도 넘쳐나는 시신을 감당하지 못해 군용 차량을 동원해 관을 다른 지역으로 실어나르는 영상이 트위터 등 SNS를 통해 퍼지면서 전세계 사람들의 마음을 울렸다. /출처=트위터특히 희생자가 집중된 북부 롬바르디아 주는 지역이 거대한 장례식장처럼 변했다. 롬바르디아 주에서도 가장 피해가 큰 '죽음의 도시' 베르가모 시에서는 화장장을 24시간 가동해도 넘쳐나는 시신을 감당하지 못해 군용 차량을 동원해 관을 다른 지역으로 실어나르는 영상이 트위터 등 소셜네트워트(SNS)를 통해 퍼지면서 전세계 사람들의 마음을 울렸다. 베르가모에선 부고 기사가 지면 전체에 빼곡히 적힌 지역 신문이 나부끼고, 병원 영안실에 시체 둘 공간이 없어 성당에까지 관이 들어차는 비참한 상황이 하루 하루 이어진다.  27일(현지시간)특별 축복에 나선 교황이 로마 산타 마르첼로 알 코르소 성당에서 가져온 나무 십자가를 보며 허리 굽혀 기도하고 있다. 이 십자가는 1522년 페스트가 로마를 휩쓸던 때 신자들이 들고 다니며 16일간 로마 거리를 돌며 기도했던 것으로, 이후 페스트가 조금씩 사그라들었다는 전설이 담겨있다./출처=로이터·인포바에이런 가운데 수도 로마 인근 바티칸 시국에서는 27일 프란치스코 교황이 '우르비 에트 오르비'(Urbi et Orbi·로마와 온 세계에라는 뜻) 특별 축복에 나섰다. 봄비가 내린 이날 저녁 교황은 텅 빈 성베드로광장을 내다보며 특별기도를 열었다. 교황은 코로나판데믹에 대해 \"짙은 어둠이 우리의 광장과 거리, 도시를 뒤덮었고 귀가 먹먹한 침묵과 고통스러운 허무가 우리 삶을 사로잡았다\"면서 \"두려움에 빠져 헤매이는 인류를 돌풍의 회오리 속에 버려두지 말아달라\"고 간곡히 청했다. 15분간의 시간 동안 교황은 \"주님이 이 세상을 축복하시고 건강을 주시고 마음의 위안을 달라\"고 기도했다.교황은 성베드로대성당 제단 앞에서 행사를 진행했다. 로마 산타 마르첼로 알 코르소 성당에서 가져온 나무 십자가를 보며 기도를 올리기도 했다고 이날 인포바에 등이 전했다. 이 십자가는 1522년 페스트가 로마를 휩쓸던 때 신자들이 들고 16일간 로마 거리를 돌며 기도했고, 이후 페스트가 조금씩 사그라들었다는 전설이 담겨있다.27일 교황의 기도는 '우르비 에트 오르비' 축복으로 마무리됐다. 일반적으로 우르비 에트 오르비는 크리스마스와 부활절,  혹은 새 교황 즉위 때 하는 특별 축복이다. [김인오 기자]▶네이버 메인에서 '매일경제'를 받아보세요▶뉴스레터 '매콤달콤' 구독▶'매일경제' 바로가기[ⓒ 매일경제 & mk.co.kr, 무단전재 및 재배포 금지]\n",
      "\n",
      "제목 :  \"감염자 적은 日, 숨기는 거냐 기적이냐\"...돌직구에 쩔쩔 맨 아베\n",
      "제목 :  \"감염자 적은 日, 숨기는 거냐 기적이냐\"...돌직구에 쩔쩔 맨 아베\n",
      "링크 :  /main/ranking/read.nhn?mid=etc&sid1=111&rankingType=popular_day&oid=025&aid=0002988327&date=20200329&type=1&rankingSeq=7&rankingSectionId=104\n",
      "\n",
      "아베 기자회견 마지막 질문에 등장\"해외에선 日감염자 수 안 믿어\" 아베 \"확실히 검사 수는 적어\" 인정\"사망자도 적어, 감추는 것 아니야\"관저측, 질문 뒤 회견 급히 마무리도쿄선 29일도 1일 최다 68명 확진28일 아베 신조(安倍晋三) 일본 총리가 신종 코로나 감염증(코로나 19)과 관련된 기자회견을 했다. 코로나 국면에서 개최한 3번째 회견으로, 54분간 진행됐다.  아베 신조 일본 총리가 28일 총리관저에서 신종 코로나 대책 관련 기자회견을 하는 도중 손수건으로 코 주변을 닦고 있다. [로이터=연합뉴스]    일본 정부가 준비 중인 경제대책이 주된 관심사였지만, 아베 총리를 긴장시킨 돌직구 질문은 회견 마지막에 등장했다.     \"총리의 생각을 듣고 싶다. 총리는 ‘일본이 아슬아슬하게 버티고 있다’고 주장하지만, 해외에선 ‘일본이 진짜로 버티고 있느냐’고 의심한다. 일본은 검사 수가 너무 적어 실제로는 감염이 널리 퍼져 있다는 의심이다. 중국과도 (지리적으로) 가깝고, 중국이나 외국인의 입국제한 조치도 늦었는데 왜 감염자 수가 적은 것이냐. 납득할 만한 이유가 없으면 기적이 일어났다는 이야기밖에 안 된다.\"     인터넷 방송매체 ‘비디오뉴스’ 대표의 질문은 아베 총리와 일본 정부의 가장 아픈 곳을 찌른 것이었다.      이 기자의 지적대로 한국을 비롯한 국제사회에선 (크루즈선 내 감염을 제외하면 29일 밤 현재 1700여 명인) 일본의 감염자 수가 불가사의하다. 이는 검사 숫자가 적기 때문이라고 의심하고 있다.       하지만 아베 총리는 이런 논란에 대해 단 한 번도 제대로 설명한 적이 없다.       갑자기 돌직구를 맞은 아베 총리는 먼저 \"중국과 한국 등 주변국에 대한 입국 제한 조치는 결코 늦었다고 생각하지 않는다”고 반론을 제기했다.     하지만 코로나 검사 실시 건수가 적은 건 인정했다. 그는 \"확실히 검사 건수는 적다. 그래서 나도 매일 후생노동성에 ‘의사가 필요하다고 판단하면 검사를 받을 수 있도록 하라’고 계속 말하고 있다”고 했다.      후생노동성 발표를 보면 최근 일본 내 코로나 검사 건수는 많은 날이 1700건 정도, 적은 날은 500건 안팎이다. \"하루 8000건의 검사가 가능하다\"는 일본 정부 설명과는 거리가 멀다.  아베 신조 일본 총리가 28일 총리관저에서 신종 코로나 대책 관련 기자회견을 하고 있다. [로이터=연합뉴스]    아베 총리는 \"일본이 감염자를 감추고 있는 것이 아니냐는 주장까지 있지만, 그건 아니다”라고 주장했다. 그러면서 코로나로 인한 사망자 수 역시 다른 나라에 비해 적다는 점을 근거로 내세웠다.       28일 밤 현재 코로나로 인한 일본 내 사망자는 65명. 아베 총리는 “폐암으로 돌아가신 분들 중에 실제로는 코로나로 사망한 사람이 많다는 의심도 받고 있기 때문에 나도 궁금해 전문가들에게 물어봤다”고 설명했다. 그러면서 “폐렴 중 (세균성 폐렴이 아닌) 간질성 폐렴으로 사망한 분들은 코로나가 의심되기 때문에 이 경우엔 대체로 검사를 하고 있다는 답을 들었다”고 했다.      코로나로 사망했음에도 단순 폐렴 사망으로 판정하는 경우는 거의 없다는 주장이었다.        아베 총리를 쩔쩔매게 만든 이 질문을 끝으로 총리 관저 측은 서둘러 이날 기자회견을 마무리했다.       한편 도쿄에선 29일에도 68명의 신종 코로나 확진자가 발생해 1일 최다 기록을 경신했다고 NHK가 이날 전했다. 전날에도 63명의 신규 확진자가 발생했었다. 이로써 도쿄의 감염자 수는 총 430명으로 늘었다.        도쿄=서승욱 특파원 sswook@joongang.co.kr  ▶ 그래서, 팩트가 뭐야? 궁금하면 '팩플'▶ 내 돈 관리는 '그게머니' / 중앙일보 가기ⓒ중앙일보(https://joongang.co.kr), 무단 전재 및 재배포 금지\n",
      "\n",
      "제목 :  최다 감염국 된 미국서도 \"마스크 쓰자\" 목소리\n",
      "제목 :  최다 감염국 된 미국서도 \"마스크 쓰자\" 목소리\n",
      "링크 :  /main/ranking/read.nhn?mid=etc&sid1=111&rankingType=popular_day&oid=008&aid=0004385131&date=20200329&type=1&rankingSeq=8&rankingSectionId=104\n",
      "\n",
      "[머니투데이 황시영 기자] [뉴욕타임스, 전문가 인용해 지적 비말감염 많고, 무증상자도 많아 ](인천공항=뉴스1) 신웅수 기자 = 23일 인천국제공항 1터미널에서 미국 항공사 유나이티드 승무원들이 입국장을 나서고 있다.  신종 코로나바이러스 감염증(코로나19)의 팬데믹(세계적 대유행) 현상이 짙어지는 가운데 미국 지역을 주시해야 한다는 목소리가 높아지고 있다.  미국 내 확진자는 전날 기준 2만6747명으로, 하루 만에 스페인·독일·이란을 제치고 중국·이탈리아에 이어 세계에서 세 번째로 많다.  방역당국은 미국 입국자에 대한 진단검사 확대를 검토하고 있다고 밝혔다. 2020.3.23/뉴스1 북미·유럽 사람들은 마스크를 잘 쓰지 않는다. 마스크는 아픈 사람들 혹은 보건의료 종사자가 쓴다는 인식이 강하다. 하지만 이런 북미에서도 코로나19 감염자수가 급증하면서 동양인들처럼 마스크를 쓸 필요가 있다는 의견이 나왔다. 코로나19의 주요 감염통로가 입에서 나오는 비말이고, 무증상인 사람도 많아 건강한 사람도 마스크를 써야 스스로 보호할 수 있다는 이유에서다.뉴욕타임스(NYT)는 28일(현지시간) '보다 많은 미국인들이 보호를 위해 마스크를 써야 할 수 있다'는 제목의 기사를 통해 \"코로나19가 크게 확산하면서 전문가들은 건강한 사람들도 외과용 마스크, 혹은 스카프라도 써야할지 의문을 제기하기 시작했다\"고 전했다. ━WHO, CDC 가이드라인에 반론 ━세계보건기구(WHO)와 미 질병통제예방센터(CDC) 가이드라인에 따르면, 건강한 사람들은 마스크를 쓸 필요가 없다. WHO와 CDC는 마스크는 아픈 사람들 혹은 아픈 사람들과 지속 접촉해야 하는 보건의료 종사자 및 간병인을 위한 것이며, 건강한 사람들은 손씻기와 6피트(약 2미터) 이상의 사회적 거리두기를 하면 감염을 예방할 수 있다고 규정한다.하지만 NYT는 전문가들의 발언을 인용해 이러한 WHO와 CDC의 통상적인 가이드라인에 의문을 제기했다.NYT는 \"미국의 코로나19 감염자 수가 중국, 이탈리아를 넘어서는 등 확산세가 심각하다\"며 \"필수 사업장에 종사하면서 매일 대중교통을 이용하는 건강한 사람들도 보다 정기적으로 마스크를 쓸 필요가 있을지 모른다\"고 썼다.베일러의과대학의 전염병 전문가인 로버트 아트마 박사는 \"미국 내 코로나19 감염자 급증으로 인해 공공 보건의료조치의 실천·준수 중요성이 더욱 부각되고 있다\"고 말했다. [워싱턴=AP/뉴시스] 앤 슈챗 미국 질병통제예방센터(CDC) 수석 부국장(왼쪽)이 지난 3일(현지시간) 워싱턴 국회의사당에서 열린 청문회에 참석해 발언을 경청하고 있다. 슈챗 부국장은 26일 더힐에 뉴욕시의 신종 코로나바이러스 감염증(코로나19) 확산은 \"예고편에 불과하다\"고 경고했다. 2020.3.27.━사스 때 손씻기 55%, 마스크 68% 효율 ━NYT에 따르면 마스크가 일반인을 보호해준다는 연구결과는 거의 없다. 마스크가 타인으로부터 오는 바이러스 유입을 원천적으로 막기보다는 착용자의 코나 입에서 뿜어져 나오는 감염된 물방울을 막아주는 역할을 한다는 이유에서다. 이 때문에 WHO와 CDC에서는 감염자가 마스크를 써야한다고 권고한다. 건강한 사람들이 마스크와 N95 마스크를 비축하기 시작하면 마스크를 꼭 써야하는 보건의료 종사자들의 마스크가 부족해질 수 있다는 우려도 있다. 2003년 사스(SARS·중증급성호흡기증후군) 발병 당시 연구진들은 다양한 바이러스 방지책의 효과에 대해 연구했다. 이에 따르면 하루 10번 이상 손을 씻으면 바이러스 감염과 관련해 55% 예방 효과가 있다. 마스크를 착용하면 68% 효과가 있다. 손씻기, 마스크, 손장갑, 방호복까지 다 갖추면 효율은 91%까지 올라간다.━무증상 감염자 많아 마스크 필요 ━무증상 환자가 많다는 점도 마스크 착용의 필요성을 환기시킨다.펜실베이니아대 병원장인 닐 피시맨 박사는 \"감염된지 며칠이 지나야 증상이 나타나는 경우도 많기 때문에 무증상 비율이 몇 퍼센트인지 콕 집어 말하기 힘들다\"면서 \"우리가 아는 것은 증상이 나타나기 48시간 전에 사람들은 바이러스를 퍼뜨릴 수 있다는 점이고, 마스크는 이러한 사람들이 바이러스를 퍼뜨리는 것을 막아줄 수 있다\"고 말했다. 마스크를 쓰면 얼굴을 만지는 일이 줄어드는 효과도 있다. 오염된 물체를 만졌거나, 감염자를 부지불식간에 접촉한 경우에도 마스크를 쓰고 있으면 감염의 주요 통로인 손으로 얼굴을 만지는 일을 줄인다는 것. 피시맨 박사는 \"매일 출근해야 하는 필수사업장 종사자의 경우 마스크를 쓰는 것이 맞다고 본다\"고 덧붙였다.지난 23일 홍콩 시내에서 사람들이 걸어가는 모습./사진=AFP통신━다같이 마스크 쓰면 연대의식 생겨 ━많은 아시아 국가에서는 모든이들이 마스크를 쓰도록 독려받는다. 이는 군중심리로 이어지고 사회적 차원의 보호 효과도 생긴다. 마스크를 다같이 쓰고 있으면 서로를 보호하고 전반적인 지역사회 감염을 줄인다는 것이다. 모두가 쓰기 때문에 아픈 사람들도 마스크를 곧잘 쓰게 된다. NYT는 \"마스크를 쓰는 것은 또 지금이 평상시가 아닌 팬데믹(세계적 대유행병) 시국이라는 점을 시각적으로 인지시킨다\"며 \"마스크를 쓴 사람들을 서로 보면서 손씻기나 사회적 거리두기를 더 잘할 수 있다. 팬데믹을 통제해야 하는 한배를 타고 있다는 일종의 연대의식도 생긴다\"고 분석했다.이어 \"홍콩, 대만처럼 사회적 거리두기와 함께 마스크 쓰기를 일찍 실시한 국가에서는 발병 숫자가 훨씬 적다\"고 덧붙였다. NYT에서 언급한 홍콩과 대만은 '사스 트라우마'를 갖고 있다. 홍콩와 대만은 지난 2월초 코로나19 발원지인 중국 본토인의 입국을 금지했으며, 강력한 검역조치를 실행하고 있다. 29일 오후 12시 존스홉킨스대 통계에 따르면 코로나19 확진자가 대만은 283명(사망자 2명 포함), 홍콩은 582명(사망자 4명 포함)으로 '방역 모범'으로 평가받는다.  피시맨 박사는 \"지역 주민 모두가 마스크를 쓰면 전염이 줄어들 수 있다\"면서도 \"불행히도 미국에서는 마스크 쓰기를 효과적인 정책으로 만들 만큼 마스크가 충분하지 않다\"고 덧붙였다. 황시영 기자 apple1@mt.co.kr▶줄리아 투자노트▶조 변호사의 가정상담소▶머니투데이 구독하기<저작권자 ⓒ '돈이 보이는 리얼타임 뉴스' 머니투데이, 무단전재 및 재배포 금지>\n",
      "\n",
      "제목 :  마트엔 쌀이 없고 시부야엔 사람이 없다... \"이런 도쿄는 처음\"\n",
      "제목 :  마트엔 쌀이 없고 시부야엔 사람이 없다... \"이런 도쿄는 처음\"\n",
      "링크 :  /main/ranking/read.nhn?mid=etc&sid1=111&rankingType=popular_day&oid=047&aid=0002263518&date=20200329&type=1&rankingSeq=9&rankingSectionId=104\n",
      "\n",
      "[현장-사진] 코로나19로 외출자제령 내려진 주말 저녁 도쿄의 표정[오마이뉴스 글:김경년, 사진:지상훈]\"제가 16년간 일본에서 살았지만, 이렇게 사람이 없는 모습은 처음입니다.\"28일 저녁 도쿄 시내 최고 번화가 시부야를 돌아본 프리랜서 사진작가 지상훈(40)씨는 도시의 한산한 모습에 혀를 내둘렀다.이날은 전세계를 강타하고 있는 코로나19에 대비하기 위해 고이케 유리코 도쿄도지사가 주말(28일-29일) 이틀간 외출자제령을 내린 첫날이다.시부야는 도쿄의 최고 번화가이자 십자 횡단보도인 '스크램블 교차로'와 만남의 장소인 '하치코 동상' 등으로 유명한 곳이다. 주중이든 주말이든, 낮이든 밤이든 언제나 사람들이 구름같이 모인다.그러나 이날은 거짓말같이 사람들이 사라졌다. 화려한 조명을 켜고 주말 대목을 누려야 할 명품가게, 클럽, 커피숍, 백화점 등이 모두 임시휴업 안내문을 내걸고 셔텨를 내렸다. 문을 연 가게도 손님 숫자를 손으로 셀 수 있을 정도로 파리를 날리고 있다.마침 비까지 내려 사이버펑크 영화에 등장하는 디스토피아를 연출하는 듯 했다.전대미문의 전염병 앞에서는 차분하고 질서를 잘 지키는 것으로 알려진 그들의 평정심도 흔들리는 모습이다.지씨가 전날 들렀던 동네 마트는 평소처럼 사람들이 줄을 서 물건을 샀지만, 쌀을 진열한 매대는 텅 비어 아무 것도 없었다. 쌀 뿐만 아니라 휴지, 티슈, 소독액까지 동이 났다. 그나마 우유, 계란, 컵라면 등은 절반 정도 남아있어 다행이었다. 외출자제령이 내려진 주말 동안 사용할 생활 용품을 사재기한 결과다.지씨가 촬영차 26일 도심의 대형 공원인 신주쿠교엔이나 27일 나카메구로 벚꽃축제에 들렀을 때만 해도 엄청난 인파가 몰려 벚꽃놀이를 즐겼다 한다.이번주초 아베 총리가 도쿄올림픽 연기를 발표하기 전만 해도 \"일본은 의료선진국이라 괜찮다\", \"일본인들은 평소에도 마스크와 손씻기를 즐겨 해서 바이러스에 옮기 어렵다\"며 이상하게(?) 감염자 수가 적은 상황에 애써 안도하던 그들이었다.공교롭게도 올림픽을 연기하자 갑자기 확진자수가 늘고 있다. 꾸준히 늘고는 있지만 두 자리수로 유지되던 게 그저께부터 세자리수(123명)로 되더니 어제는 208명으로 껑충 뛰었다. 도쿄의 한 병원과 인근 치바현의 요양시설이 클러스터가 돼 수십 명이 집단 감염됐다는 것이다. 불길하지 않을 수 없다.그동안 잠복해왔던 바이러스가 돌파구를 찾아 폭발한 것일까, 억지로 감춰왔던게 한계상황에 온 것일까. 새삼 나라를 이끄는 정부 정책의 투명성과 지도자들의 도덕성이 중요하다는 것을 절감한다.중국에서부터 처음 발견된 강력한 전염병이 한국, 중동, 유럽을 지나 미국을 유린하고 있고 이제 지구 한바퀴를 지나 일본을 넘보고 있다.뒤숭숭하고 두려운 마음으로 폭중전야를 맞고 있는 도쿄 사람들의 모습을 지상훈씨가 사진으로 보내왔다.▲  28일 밤 도쿄 시부야 센타가이. 서울의 명동에 해당되는 도쿄의 최고 번화가지만 이날은 정말 한산하다.         ⓒ 지상훈▲  28일 밤 도쿄 시부야 거리의 한산한 모습.         ⓒ 지상훈▲  28일 밤 도쿄 시부야역 앞 만남의 장소로 유명한 '하치코 동상' 앞에도 사람이 별로 없다.         ⓒ 지상훈▲  28일 밤 도쿄 시부야의 화려한 뒷골목에 사람이 하나도 없다.         ⓒ 김경년▲  28일 밤 도쿄 시부야 거리. 신발가게인 ABC마트도 문을 닫았다. 한적한 거리에 비까지 내려 을씨년스럽기까지 하다.         ⓒ 지상훈▲  28일 밤 문을 닫은 도쿄 시부야의 한 가라오케점.         ⓒ 지상훈▲  28일 밤 도쿄 시부야역 지하상가. 모든 상점이 셔터를 내렸다.         ⓒ 지상훈▲  28일 밤 도쿄 시부야역 앞 스크램블 교차로로 이어지는 지하상가에도 사람이 없다.         ⓒ 지상훈▲  28일 밤 도쿄 시부야의 스타벅스 커피숍도 문을 닫았다.         ⓒ 지상훈▲  28일 밤 도쿄 시부야의 유명 패션 브랜드 자라 가게 앞에 28-29일 이틀간 휴업을 알리는 안내문이 붙어져있다.         ⓒ 지상훈▲  28일 밤 도쿄 세이부백화점 시부야점도 문이 닫혀있다.         ⓒ 지상훈▲  28일 밤 도쿄 시부야의 한 음식점. 손님이 딱 한 명 있다.         ⓒ 지상훈▲  28일 밤 도쿄 시부야의 한 패스트푸드점. 역시 한산하다.         ⓒ 지상훈▲  28일 밤 도쿄 시부야역 플랫폼. 평소와는 확연히 다르게 한산하다.         ⓒ 지상훈▲  27일 저녁 도쿄 시부야역에서 탄 전철 안. 언제나 붐비던 모습이 사라지고 한산하다. 대부분 마스크를 하고 있지만 군데군데 안하고 있는 사람도 눈에 띄인다.         ⓒ 지상훈▲  27일 저녁 도쿄 세타가야구 산겐자야역 부근의 한 마트. 쌀 매대가 완전히 텅 비어있다.         ⓒ 지상훈▲  27일 저녁 도쿄 세타가야구 산겐자야역 부근의 한 마트. 쌀, 휴지, 티슈, 소독액 등은 하나도 남아있지 않고 우유, 계란, 컵라면 정도만 좀 남아있었다.          ⓒ 지상훈▲  27일 밤 도쿄 나카메구로 벚꽃축제에서 꽃구경을 즐기는 사람들. 예년처럼 화려한 조명을 하지 않고 주변 포장마차 등도 거의 없을 정도로 축소된 분위기이다.         ⓒ 지상훈▲  26일 낮 대형 공원인 신주쿠교엔에서 벚꽃놀이를 즐기고 있는 사람들. 관리자들이 돌아다니며 돗자리를 펴고 앉아있거나 음주중인 이용객들에게 자제를 요구했다. 도쿄의 공원들은 이튿날인 27일부터 폐관됐다.         ⓒ 지상훈저작권자(c) 오마이뉴스(시민기자), 무단 전재 및 재배포 금지▶코로나19 속보 보기 [오라이브]▶네이버에서 오마이뉴스 채널을 구독하세요▶용감하게 성교육 <이런 질문, 해도 되나요?>\n",
      "\n",
      "제목 :  [종합] `45분→30분→5분`··美FDA, 코로나 신속진단기 연달아 긴급승인\n",
      "제목 :  [종합] `45분→30분→5분`··美FDA, 코로나 신속진단기 연달아 긴급승인\n",
      "링크 :  /main/ranking/read.nhn?mid=etc&sid1=111&rankingType=popular_day&oid=009&aid=0004546128&date=20200328&type=1&rankingSeq=10&rankingSectionId=104\n",
      "\n",
      "코로나 비상서 정신차린 규제권력 FDA5분내 코로나 진단키트 긴급사용 승인감염곡선 정상부 완화하려면 신속진단 필수외교부, \"한국업체 3곳도 승인 획득\" 발표미국 FDA의 신속 승인을 얻은 코로나19 진단키트인 메사바이오테크의 '어큘러(Accula)' 제품 모습. 휴대가 용이한 이 제품은 불과 30분만에 신종코로나 감염 여부를 확인할 수 있다. <사진=메사바이오테크 홈페이지> 　철옹성 규제로 유명한 미국 식품의약국(FDA)이 코로나19 관련 진단키트 제품에 대해 신속하게 긴급사용 승인(EUA)을 내주고 있는 것으로 확인됐다.　28일(현지시간) 월스트리트저널 등 보도에 따르면 FDA는 5분 만에 코로나19 바이러스 감염 여부를 파악할 수 있는 애벗(Abbott)사의 휴대용 진단키트인 'IDNOW’에 대해 긴급사용 승인을 허가했다. 또한 30분 이내에 감염 결과를 알 수 있는 또 다른 휴대용 진단키트인 메사바이오테크 제품 'Accula)' 에 대해서도 동일한 승인을 했다.　이와 관련해 매일경제가 Accula의 진단키트 관련 FDA의 허가승인 레터를 확인한 결과 FDA는 연방 식품약품화장품법 564항에 규정된 '긴급사용승인(Emergency Use Authorization·EUA)’을 적용했다.　현 미국의 코로나 19 사태 국면이 해당 진단키트에 대해 EUA 적용이 가능하다고 보고 신청업체의 제작·패키징·보관·배송 시스템 검증 절차 등을 면제했다.　EUA는 전염병 확산 등으로 보건영역의 비상 대응이 필요할 때 희귀 의료장비·제품 등을 신속하게 확보하려는 목적으로 발동된다.미국 FDA가 메사바이오테크 진단키트를 승인한 서류 내 규제 면제조항(붉은칸). FDA가 현 코로나 시국을 규제완화 조항인 '긴급사용승인(EUA)'에 해당한다고 보고 제조 과정 등에 대한 제조사의 입증 부담을 면제해 신속 승인을 해주고 있음을 시사하고 있다. <사진=메사바이오테크 홈페이지>　애벗사와 메사바이오테크 제품은 피 한방울로 수 분내 당 수치를 파악할 수 있는 당뇨병 진단기와 비슷한 신속성을 자랑한다. 코 안 점액을 묻힌 면봉과 RNA를 분해하는 완충용액을 진단기(도크) 내 카트리지에 넣고 뚜껑을 닫은 뒤 도크에서 알림 소리가 나면 음성·양성 여부가 확인된다.　지난 21일 FDA가 승인한 'GeneXpert' 진단키트는 코와 목 등에서 점액을 채취한 뒤 45분 만에 결과를 알 수 있다. 위의 두 제품과 동일하게 실시간 유전자 증폭법(RT-PCR) 기반으로 한다.　FDA가 이들 제품에 신속 승인을 한 배경에는 고령·기저질환 감염환자들에 대한 신속 대응과 연결돼 있다. 빠르게 건강상태가 나빠지는 고령 환자를 상대로 최대한 신속하게 코로나 감염 여부를 파악해 의료대응의 '골든타임'을 확보하는 게 중요하기 때문이다.FDA를 상대로 가해지는 도널드 트럼프 대통령의 압박도 신속 처리의 이면에 자리잡고 있다.그는 최근 처방약 및 백신 개발 등과 관련해 FDA에 시대에 뒤떨어진 규제를 없애고 코로나바이러스 해결책을 신속히 처리해야 한다고 경고했다.FDA의 이 같은 전향적 태도 변화는 현재 한국의 다수 진단키트 제조사들이 미국 시장 진출을 위해 사용승인을 신청한 상태라는 점에서도 주목된다. 이와 관련해 외교부는 이날 매일경제 보도 후 \"한국 생산 업체 3곳의 진단키트도 FDA의 긴급사용 승인을 획득했다\"고 밝혔다.외교부는 지난 24일 문재인 대통령과 도널드 트럼프 미국 대통령 간 전화통화로 한국 제품에 대한 승인이 신속하게 이뤄졌다고 평가했다. 외교부는 \"정부는 '코로나 19 대응 방역물품 해외진출 지원 관계부처 태스크포스'를 중심으로 국산 진단키트의 조속한 대미 수출을 위해 향후 미측 구매 기관과 한국 기업들간 협의가 효과적으로 진행될 수 있도록 적극 지원해 나갈 예정\"이라고 밝혔다. 다만 이날 현재 미국이 토요일인 관계로 FDA 사이트에는 아직 한국 업체들의 승인 관련 리스트와 FDA 공식 레터가 게재되지 않고 있다. FDA에 긴급사용 승인을 신청해 승인을 받은 글로벌 업체들의 리스트와 관련 공식 레터는 주말이 지난 30일부터 게재될 것으로 보인다.[이재철 기자]▶네이버 메인에서 '매일경제'를 받아보세요▶뉴스레터 '매콤달콤' 구독▶'매일경제' 바로가기[ⓒ 매일경제 & mk.co.kr, 무단전재 및 재배포 금지]\n",
      "\n",
      "제목 :  한국 제안 ‘유전자증폭 검사법’ 국제표준 눈앞…진단키트 수출↑\n",
      "제목 :  한국 제안 ‘유전자증폭 검사법’ 국제표준 눈앞…진단키트 수출↑\n",
      "링크 :  /main/ranking/read.nhn?mid=etc&sid1=111&rankingType=popular_day&oid=018&aid=0004607969&date=20200329&type=1&rankingSeq=1&rankingSectionId=105\n",
      "\n",
      "韓, 감염병 진단기법 표준화 주도…연내 제정2016년 첫 추진…4년 만에 회원국 전원 찬성101개국 코로나기기 요청…美 FDA, 3곳 승인솔젠트, 미국 주정부와 공급 계약…100만명분[이데일리 박일경 기자] 우리나라가 국제표준화를 추진해 온 `미생물 병원체 검출을 위한 유전자 증폭 검사기법`이 최근 국제표준화기구 의료기기 기술위원회에서 국제표준안(DIS)으로 승인됐다. 신종 코로나바이러스 감염증(코로나19) 진단키트 국내 생산기업 3곳 제품이 미국 식품의약국(FDA) 긴급사용승인 절차상 사전승인을 획득한 가운데, 한국 업체들의 해외시장 진출에 도움이 될 것으로 기대된다.식품의약품안전처와 산업통상자원부 국가기술표준원은 29일 “체외진단 검사기기에 사용되는 유전자 증폭 방식의 감염병 진단기법에 관한 국제표준 개발을 주도하고 있다”며 이같이 밝혔다.문재인(가운데) 대통령이 지난 25일 서울 송파구 신종 코로나바이러스 감염증(코로나19) 진단기기 긴급사용 승인 기업을 방문, PCR셋업준비실에서 천종윤(왼쪽) 씨젠 대표와 시약에 대해 대화를 나누고 있다. (사진=청와대)‘유전자 증폭 검사기법’에 대한 국제표준안(案)으로 승인된 `미생물 병원체 검출을 위한 유전자 증폭 검사기법`은 다양한 감염병 진단에 활용할 수 있는 ‘핵산 증폭 방식 체외진단 검사’에 대해 전체 절차 및 방법을 정의했다. 국내에서 코로나19 진단에 이용하고 있는 진단키드에 채택된 ‘실시간 유전자 증폭 기법(Real Time Polymerase Chain Reaction·RT-qPCR)’ 등 핵산 증폭 방식의 검사에 적용할 수 있는 표준이다.특히 국제표준 제정 절차에 따라 이 표준안은 최종적으로 회원국 전체의 승인 절차만 남겨 둔 상태다. 연내 국제표준으로 제정될 전망이다.‘유전자 증폭 검사법’ 국제표준은 우리나라 국가표준 전문위원회 심의를 거쳐 지난 2016년 국제표준화기구에 국제 표준안으로 제시됐다. 그동안 미국·유럽·일본 등 세계 각국 국제표준화기구 기술위원들과 긴밀히 협력해 국제표준화 논의를 이끌어온 결과, 첫 제안 이후 4년 만인 올해 2월 국제표준안(DIS) 투표를 회원국 전원 찬성으로 통과시켰다.솔젠트가 개발한 신종 코로나바이러스 감염증(코로나19) 특정 유전자 염기서열을 증폭해 진단하는 실시간 ‘역전사 정량 유전자 증폭 기술(RT-qPCR)’ 방식의 진단키트. (사진=연합뉴스)이미 국내 진단키트 기업의 세계시장 공략은 본격화하고 있다. 이원다이애그노믹스(EDGC) 체외진단 의료기기 자회사인 EDGC(245620)헬스케어는 관계사 솔젠트의 코로나19 진단시약 구매의향서(LOI)를 미국 뉴욕·네바다·캘리포니아 등 주정부와 체결했다. 규모는 약 100만명 분량이다. 또 블라디미르 젤렌스키 우크라이나 대통령 요청을 받은 솔젠트는 우크라이나에 코로나19 진단키트 10만 명분을 수출한다.진매트릭스(109820)는 아랍에미리트(UAE)와 46만 달러(한화 5억7800만원) 규모 수출 계약을 맺었다. 이 회사는 아랍에미리트 외에 리투아니아·이탈리아·칠레와도 수출 계약을 마쳤다. 랩지노믹스(084650)는 보스니아, 오상자이엘(053980)은 모로코와 각각 수출을 성사했다.외교 경로를 통해 진단키트 수입 관련 문의를 하거나 요청한 국가는 51개국, 인도적 지원을 문의한 곳은 50개국에 달한다.식약처와 기술표준원 관계자는 “우리가 보유한 코로나19 진단 역량이 세계 각국 관심을 받고 있는 상황에서 이번 국제표준안 확정은 한국 감염병 진단기기를 향한 국제사회 신뢰를 높일 것”이라며 “국내 기술로 개발된 진단키트가 성공적인 시장 진출을 거쳐 향후 글로벌 표준으로 자리매김한다는 점에서 의의가 크다”고 평가했다.박일경 (ikpark@edaily.co.kr)네이버에서 ‘이데일리’ 구독하기▶청춘뉘우스~ 스냅타임▶＜ⓒ종합 경제정보 미디어 이데일리 - 무단전재 & 재배포 금지＞\n",
      "\n",
      "제목 :  [5G상용화 1년] ① 가입자 500만 돌파…여전히 갈 길 먼 '5G 시대'(종합)\n",
      "제목 :  [5G상용화 1년] ① 가입자 500만 돌파…여전히 갈 길 먼 '5G 시대'(종합)\n",
      "링크 :  /main/ranking/read.nhn?mid=etc&sid1=111&rankingType=popular_day&oid=001&aid=0011506374&date=20200329&type=1&rankingSeq=2&rankingSectionId=105\n",
      "\n",
      "통신3사 5G망 구축 설비 투자 8조7800억원…올해 4조원 투자 계획VR·AR 서비스 강화…\"망 구축·커버리지 늘리려면 시간 더 걸릴 것\"(서울=연합뉴스) 정윤주 기자 = 다음 달 3일, 세계에서 처음으로 국내에서 상용화 서비스가 시작된 5G(5세대) 이동통신이 출범 1년을 맞는다.     5G 이동통신은 '초고속·초저지연·초연결'이라는 LTE와는 차원이 다른 서비스를 약속하며 다가왔다. 5G 서비스가 본궤도에 오르면 증강현실(AR), 가상현실(VR) 등을 통해 스포츠를 보거나 게임을 즐길 수 있고, 대용량 데이터도 빠른 속도로 내려받을 수 있다. 5G 통신의 속도는 28㎓ 대역에서 이론적으로 LTE보다 최대 20배 빠르다.     KT 경제경영연구소는 2030년까지 5G 상용화로 약 42조원에 달하는 사회경제적 가치가 발생한다고 전망했다. 5G가 바꿀 산업 영역과 가치를 환산한 수치다. 또 약 115조원의 경제적 파급 효과가 발생할 것으로 예상했다.    그러나 정부와 이동통신사가 내세운 '초고속·초저지연·초연결'이라는 구호가 무색하게 5G 통신망 구축은 더디고 서비스는 기대만큼 활성화하지 못하고 있다. 통화 품질이 좋지 못하다는 비판 여론이 높고 수도권이 아닌 지역이나 실내, 지하철 등에서는 아예 \"안 터진다\"는 불평이 쏟아지고 있다.5G[연합뉴스 자료사진]◇ 가입자 500만 돌파…통신 3사 5G 투자 확대    5G 가입자는 3월 말 기준 500만명을 돌파할 것으로 추정된다. 과학기술정보통신부에 따르면 1월 말 기준 5G 가입자 수는 495만8천439명이다.     통신사별로 SK텔레콤 가입자가 221만5천522명, KT 150만7천190명, LG유플러스 123만5천500명이다. 통신 3사의 5G 가입자 점유율은 SK텔레콤 44.6%, KT 30.3%, LG유플러스 24.9%다.    당초 업계에서는 작년 5G 가입자가 500만 명을 넘어설 것으로 기대했으나, 지난해 말 5G 가입자 수가 466만여명에 그치며 무산됐다.    게다가 신종 코로나바이러스 감염증(코로나19) 확산 등으로 경제활동이 급격히 위축되면서 이통3사의 가입자 수 증가는 거북이걸음을 하고 있다.     통신 3사와 SK브로드밴드는 올 상반기 당초 계획했던 2조7천억원보다 50% 많은 4조원을 5G 통신 분야에 투자하기로 했다.    지난해 통신 3사가 5G망 구축을 위해 설비 투자(CAPEX)한 비용은 8조7천807억원가량이다. 연간 투자 금액 중 전년 대비 60% 늘어난 금액을 5G망에 투자했다.     SK텔레콤은 지난해 약 2조9천200억원을, KT는 약 3조2천568억원을, LG유플러스는 약 2조6천85억원을 유선망과 무선망, 기업전용망 등 통신 설비에 투자했다.느리고 먹통까지…LTE만 못한 5G? (CG)[연합뉴스TV 제공]◇ 통화 품질은 여전히 한계…커버리지 확대 '과제'    막대한 투자에도 5G는 여전히 통화가 선명하게 이어지지 않고, 지하철이나 실내 등에서 LTE(4세대 이동통신)로 자동 전환되는 등 여전히 5G가 끊기는 단점이 있다.    서울과 수도권, 주요 광역시를 중심으로 5G 기지국과 장비 투자가 이뤄졌지만, 그 외 지역에서는 5G 투자가 더딘 탓이다.     업계에서는 전국에 망이 촘촘하게 깔리고, 이용자가 끊김 없이 5G 통신을 이용하려면 3∼4년이 더 걸릴 것으로 내다본다.     통신업계 관계자는 \"망 구축 외에도 주파수 특징을 고려해 커버리지를 촘촘하게 만드는 데 시간과 비용, 단말기가 필요하다\"며 \"지속적인 투자로 5G 커버리지를 넓히고 유동인구가 많은 지역 또는 건물 내에서 5G를 원활하게 서비스하기 위해 노력할 것\"이라고 말했다.     통신 3사는 현재 LTE와 장비를 일부 공유하는 5G NSA(비단독모드)에서 5G SA(단독모드)로 전환을 준비 중이다. 전 세계적으로 5G 사용이 빠르게 확산하고 있지만, 5G 안착을 위해서는 5G 전용 28㎓ 대역 개통과 5G SA 구축이 필수 요소로 꼽힌다.    아울러 통신 3사는 5G 음영 지역을 줄이기 위해 전국 85개 시·동 단위로 5G 기지국을 지속해서 구축할 계획이다.     SK텔레콤은 2019년 기준 7만 개 이상의 5G 장비 설치를 목표로 5G망을 구축해왔다. 또 전국 유동인구 밀집 지역과 교통 요충지, 대학가 등을 중심으로 5G를 집중적으로 지원하는 '5G 클러스터'를 올해 240곳으로 확대할 계획이다. 백화점, 공항, 대형 쇼핑몰 등 중소형 빌딩 내 5G 인빌딩은 2천여개를 설치할 계획이다.     KT는 이달 26일 기준 7만3천개 이상의 기지국을 보유하고 있다. 아울러 KTX 서울역과 공항 등 500여개 건물에서 인빌딩 서비스를 제공하고, 향후 전국 6개 공항과 KTX와 SRT 역사, 경부·호남·서해안·영동 고속도로 전 구간에 5G 네트워크를 구축할 계획이다.     LG유플러스는 지난해 말 기준 7만5천개 이상의 기지국을 확보했고, 해수욕장과 리조트, 스키장 등에도 5G 네트워크를 구축했다. 향후 관광지나 국립공원 등 테마 지역에도 커버리지를 확대할 계획이다.    이통 3사의 5G 통신 품질은 올해부터 객관적인 평가를 받는다. 과학기술정보통신부는 올해부터 5G 서비스에 대한 통신 품질 평가를 시행한다. 올해 상반기와 하반기 두 차례에 걸쳐 이통3사의 5G 통신 서비스 품질 평가를 하고, 7월에 상반기 평가 결과를, 11월에 하반기 평가 결과를 발표할 예정이다.     \"눈으로만 보는 가상현실은 시시…피부로 느낀다\" (CG)[연합뉴스TV 제공]◇ 통신사, 콘텐츠 투자도 강화…VR·AR 서비스 확대    통신업계는 5G를 활용한 콘텐츠 개발에도 박차를 가하고 있다.    SK텔레콤은 클라우드 기업, 디바이스 제조사, 통신 기업들과의 협력해 '5G 실감서비스'를 선보이고 있다.    특히 MS와 협업해 클라우드 게임 서비스를 준비 중이며, 혼합현실 콘텐츠 제작 시설 '점프 스튜디오'를 오픈할 예정이다. '점프 스튜디오'에서는 가상현실(VR)·증강현실(AR)의 기술적 장점을 융합해 홀로그램과 같은 3차원 콘텐츠를 만든다.    또 SK텔레콤은 MS와 협력해 '프로젝트 엑스클라우드'를 통해 92종의 게임을 제공하고 있다. 통신만 되면 언제 어디서든 클라우드 서버에 접속해 게임을 즐길 수 있어 기존 게임 업계의 판도를 바꿀 '게임 체인저'로 평가받고 있다.    KT 역시 5G 콘텐츠 확보에 집중하고 있다.    KT는 개인형 VR 서비스인 '슈퍼VR'을 통해 세계 최초로 '8K VR 스트리밍 상용 서비스'를 제공하고 있다.    초고용량의 8K VR 콘텐츠를 수백개의 조각으로 분할해 클라우드에 저장한 뒤 실시간으로 각도에 맞는 영역의 화면만 전송, 최적의 영상을 송출하는 서비스다.    이번 서비스는 KT의 5G 네트워크 최적화 기술과 실리콘밸리의 스타트업 알카크루즈사의 '슈퍼스트림 솔루션'을 결합해 개발됐다.    KT는 경복궁, 태권도, K팝 등을 소재로 다양한 콘텐츠를 제작해 올해 말까지 100여편의 초고화질 VR 콘텐츠를 갖출 예정이다.    LG유플러스는 지난해 상반기에 U+VR, U+AR, U+프로야구, U+골프 등 U+5G 서비스 1.0을 출시했고, 하반기에는 'U+게임라이브', 'AR쇼핑', '스마트홈트' 등 U+5G 서비스 2.0을 선보였다.    LG유플러스는 향후 5년 동안 기술개발에 2조6천억원을 투자하고 VR·AR 중심의 서비스 고도화를 추진해 '5G 서비스 3.0'을 선보일 계획이다.     특히 구글과 함께 인터넷 검색 결과를 AR 기술을 활용해 실감형 이미지로 보여주는 AR콘텐츠 개발에도 역량을 집중한다는 계획이다.    jungle@yna.co.kr▶코로나19 속보는 네이버 연합뉴스에서 [구독 클릭]▶[팩트체크] 텔레그램 '성범죄' 사실은 이렇습니다▶제보하기\n",
      "\n",
      "제목 :  [이기자의 유레카!] 에볼라 치료제 vs 말라리아 치료제…누가 코로나19를 잡을까?\n",
      "제목 :  [이기자의 유레카!] 에볼라 치료제 vs 말라리아 치료제…누가 코로나19를 잡을까?\n",
      "링크 :  /main/ranking/read.nhn?mid=etc&sid1=111&rankingType=popular_day&oid=009&aid=0004545995&date=20200328&type=1&rankingSeq=3&rankingSectionId=105\n",
      "\n",
      "[이기자의 유레카!-11]각국 의료진이 코로나19와 사투를 벌이는 동안 한편에선 치료제 개발이 속도를 내고 있습니다. 지금 이 시간에도 환자들을 대상으로 여러 가지 치료제 후보군의 실험이 진행되고 있죠. 코로나19 치료제 개발은 어디까지 이뤄졌을까요? WHO는 코로나19 극복을 위해 `연대 대응 펀드`를 만들었습니다. 테워드로스 아드하놈 거브러여수스 WHO 사무총장도 1000만달러(약 123억원)를 쾌척했죠. /사진=WHO◆WHO·유럽, 임상시험 돌입지난 20일 세계보건기구(WHO)는 '연대(Solidarity)'라는 전 세계적인 대규모 임상시험 계획을 밝혔습니다. WHO의 이 임상시험은 10여 개국 수천 명의 환자를 대상으로 합니다. 아르헨티나, 이란, 남아프리카공화국과 다른 비유럽 국가에선 환자 등록이 시작됐습니다. 프랑스국립보건의학연구원(INSERM)도 22일 자체적인 임상실험을 시작하겠다고 발표했습니다. '디스커버리(Discovery)'란 이 실험은 유럽 7개국 환자 3200명이 대상입니다.신약 개발에는 최소 10년이 걸립니다. 후보물질 발굴부터 동물을 대상으로 한 전임상시험, 사람을 대상으로 한 임상시험까지 거쳐야 하기 때문이죠. WHO는 시간을 단축하기 위해 '신약재창출(drug repositining)'에 나섰습니다. 이미 시판돼 사용하는 약물이나 임상시험에서 효능이 충분히 입증되지 않아 허가받지 못한 약물이 코로나19에 효과가 있는지 확인하는 것으로 연구 일정을 크게 단축할 수 있습니다.◆WHO가 뽑은 4가지 후보과학자들은 지난 1월부터 코로나19 치료 후보물질을 연구해왔습니다. WHO는 10여 가지 후보물질 중 4가지인 △에볼라 신약 후보물질 렘데시비르(Remdesivir) △말라리아 예방 치료제 클로로퀸(Chloroquine)과 하이드록시클로로퀸(Hydroxychloroquine) △HIV 치료제 로피나비르(Lopinavir)·리토나비르(Ritonavir) 혼합제 △HIV 치료제 로피나비르(Lopinavir)·리토나비르(Ritonavir) 혼합제에 인터페론 베타(β)를 투여하는 것을 주요 후보로 선정했습니다.△렘데시비르렘데시비르는 길리어드사가 개발한 에볼라 치료제로 바이러스의 RNA 중합효소(폴리머라제)를 억제해 바이러스의 복제를 막아줍니다. 정작 에볼라 환자들을 대상으로 한 임상시험에선 좋은 결과를 얻지 못했죠. 2017년 미국 노스캐롤라이나대 연구팀이 동물실험에서 렘데시비르가 급성호흡기증후군(SARS·사스)과 중동호흡기증후군(MERS·메르스)의 원인인 코로나19 바이러스를 억제한다는 것을 발견하면서 새로운 길이 열렸습니다.최근 의학저널인 뉴잉글랜드저널오브메디슨(NEJM)에 공개된 논문에 따르면 미국의 첫 코로나19 확진자는 렘데시비르를 투여받은 뒤 상태가 호전됐습니다. 이 외에도 렘데시비르가 효과를 보인 경우가 더 있습니다. WHO도 렘데시비르를 유력한 후보로 보고 있습니다. 전문가들은 코로나19 환자들을 대상으로 실험 중인 렘데시비르 가격이 50~100달러(약 6만~12만원)가 될 것으로 전망하고 있습니다.독일의 세계적인 제약사 바이엘그룹은 미국 정부에 300만정의 클로로퀸(상품명 레소친)을 무상 제공한다고 밝혔습니다. 이 약은 말라리아 예방·치료제로 개발됐습니다. /사진=바이엘△클로로퀸과 하이드록시클로로퀸20일(현지시간) 도널드 트럼프 미국 대통령이 \"게임 체인저\"라고 언급한 약물입니다. 1934년 독일 바이엘이 말라리아 예방·치료제로 개발한 약이죠. 하이드록시클로로퀸의 경우 류머티즘 관절염과 전신성 홍반성 낭창 등으로 적응증이 확대됐습니다. 이미 특허가 만료돼 복제약도 다수 출시됐죠.WHO는 원래 '연대' 프로그램에서 이 약을 빼려고 했습니다. 과학자들의 연구 결과 매우 많은 양의 클로로퀸을 투여했을 때 효과가 나타났기 때문이죠. 효과가 있다고 무작정 많이 투여했다간 심각한 독성 문제가 발생할 수 있습니다. 중국 의료진은 환자 100여 명을 클로로퀸으로 치료했다고 대대적으로 선전하고 있지만 일각에선 이 실험 데이터가 불명확하다는 지적이 이어지고 있습니다.프랑스에서도 코로나19 환자 20명을 하이드록시클로로퀸으로 치료했다는 연구 결과가 나왔지만 무작위로 통제된 실험이 아니었다는 문제가 있습니다. 미국 중환자의학회(SCCM)는 20일 \"코로나19 중증 성인 환자를 치료하기 위해 클로로퀸이나 하이드록시클로로퀸 사용을 권고할 만한 증거가 부족하다\"고 밝혔습니다. 최근 이 약의 수요가 급증하자 다국적 제약사 노바티스는 계열사 산도스가 보유한 하이드록시클로로퀸 1억3000만정을 전 세계에 무상 공급하겠다고 밝혔습니다.최근 애브비는 칼레트라의 특허를 포기했습니다. 이로써 복제약 생산의 길이 열렸죠. /사진=애브비△로피나비르·리토나비르 복합약(칼레트라)칼레트라(Kaletra)로 더 많이 알려진 약물로 2000년 미국에서 에이즈 치료제로 허가를 받았습니다. 두 가지 이상의 항생물질을 혼합한 복합약이죠. 바이러스의 단백질 분해효소를 억제해 바이러스의 증식을 막아줍니다. 로피나비르는 우리 몸속의 단백질 분해효소로 인해 빠르게 분해되기에 지속 시간을 늘리기 위해 리토나비르를 섞어 투여합니다. 과학자들은 메르스 바이러스에 감염된 마모셋 원숭이 실험에서 치료제가 효과가 있다는 것을 확인했습니다. 중국 우한시 환자 199명을 대상으로 한 임상시험에서 연구팀은 환자들에게 이 약을 하루 두 번, 한 번에 두 알씩 투여하는 실험을 진행했는데 큰 효과를 보지 못했습니다. 연구팀은 NEJM에 실린 논문에서 \"환자들이 이미 중증이었기 때문에 유의미한 효과가 없었던 것으로 보인다\"고 밝혔습니다. 다국적 제약사 애브비는 최근 '칼레트라'의 특허권을 포기했습니다. 일부 특허가 2026년 만료될 예정이지만 코로나19 치료를 위해 특허권을 더 이상 행사하지 않기로 한 것이죠.△로피나비르·리토나비르 복합약과 인터페론β칼레트라와 더불어 또 다른 후보군은 칼레트라에 인터페론β를 투여하는 것입니다. 인터페론은 바이러스에 감염된 동물의 세포에서 생성되는 항바이러스성 단백질로 바이러스 분열을 막아 증식을 억제하죠. 인터페론β는 체내 염증을 조절하는 역할 등을 합니다. 이 치료 방법은 현재 사우디아라비아에서 메르스 환자를 대상으로 실험이 진행 중에 있습니다. 이 방법도 부작용 우려는 있습니다. 중증 코로나19 환자에게 인터페론β를 투여할 경우 조직 손상으로 이어져 상태가 악화할 수 있기 때문입니다.완치자의 혈장을 추출해 코로나19 환자에게 투여하는 `혈장 치료제`도 등장했습니다. 보건당국은 혈장 속 항체가 코로나19 치료에 효과가 있을 것으로 보고 있죠. /사진=게티이미지뱅크◆완치자 혈장도 후보라고?미국에선 '혈장 치료제'가 등장했습니다. 완치자의 혈장을 추출해 다른 환자에게 투여하는 것으로 앞서 사스·메르스 유행 당시에도 사용한 적이 있습니다.미국 식품의약국(FDA)은 일선 의료진이 혈장 치료제를 신청할 수 있다며 사용을 일부 허가했습니다. 단, 혈장 치료제의 효능과 안정성이 아직 검증되지 않았고, 임상시험이 진행 중인 만큼 중증 환자를 대상으로 우선 사용할 방침이죠. 미국에선 가장 피해가 큰 뉴욕주에서 먼저 사용될 것으로 보입니다. 우리나라 보건당국도 예산 40억원을 확보해 항체가 형성된 완치 환자의 혈장을 이용한 혈장 치료제 개발에 속도를 내기로 했습니다.WHO의 연대 프로그램과 더불어 유럽에서는 프랑스, 스페인, 영국, 독일, 베네룩스 3국(벨기에·네덜란드·룩셈부르크) 등이 '디스커버리' 임상시험에 참여했습니다. 현재로선 임상시험 결과가 어떨지 예측하기 어렵기 때문에 언제 신약이 출시될지 추정하기가 어렵습니다. 전문가마다 각기 다른 추측을 내놓고 있는 이유죠. 각국이 치료제 개발을 위한 노력을 다하고 있는 만큼 조만간 좋은 소식을 들을 수 있으면 좋겠네요.[이영욱 기자]▶네이버 메인에서 '매일경제'를 받아보세요▶뉴스레터 '매콤달콤' 구독▶'매일경제' 바로가기[ⓒ 매일경제 & mk.co.kr, 무단전재 및 재배포 금지]\n",
      "\n",
      "제목 :  천식치료제로 '코로나19' 잡는다.. 임상돌입\n",
      "제목 :  천식치료제로 '코로나19' 잡는다.. 임상돌입\n",
      "링크 :  /main/ranking/read.nhn?mid=etc&sid1=111&rankingType=popular_day&oid=277&aid=0004651350&date=20200329&type=1&rankingSeq=4&rankingSectionId=105\n",
      "\n",
      "[아시아경제 황준호 기자] 기존 약물을 신종 코로나바이러스감염증(코로나19) 치료제로 활용하기 위한 임상연구가 시작된다. 코로나19에 가장 효능이 있는 것으로 확인된 천식치료제를 실제 치료제로 활용하기 위한 임상연구에 141명이 참여한다. 141명 대상 '코로나19 치료제' 임상 개시26일 인천국제공항 2터미널 옥외공간에 마련된 개방형 선별진료소(오픈 워킹스루형·Open Walking Thru)에서 영국 런던발 여객기를 타고 입국한 무증상 외국인이 코로나19 진단 검사를 받고 있다. /문호남 기자 munonam@한국파스퇴르연구소는 천식치료제인 '알베스코'를 코로나19 치료제로 활용하기 위한 연구자 임상연구를 추진한다고 29일 밝혔다. 연구자 임상연구는 임상시험자가 외부의 의뢰 없이 안전성·유효성이 검증되지 않은 의약품이나 시판 중인 의약품으로 수행하는 임상시험을 말한다. 연구소는 경증 코로나19 환자에게 알베스코를 투약해, 치료 효과를 확인하는 작업을 진행한다. 임상연구에는 141명이 참여한다. 연구소는 임상 시험계획을 식약처에 보내고 하루 만에 승인을 얻었다. 통상 이 작업에는 30일 정도가 소요되지만 식약청은 신속 심사를 통해 연구소의 계획을 승인했다. 시클레소니드, 코로나19에 가장 약효 크다24일 이스타항공이 코로나19 확산 여파로 국제선에 이어 국내선 전 노선 운항을 중단하기로 했다. 우리나라 항공사 가운데 첫 셧다운이다. 이날 서울 강서구 김포공항 국내선 청사 이스타항공 발권 창구가 한산하다. /문호남 기자 munonam@한국파스퇴르연구소는 지난 2월부터 기존 약물 중에서 코로나19에 치료 효과를 갖는 약물을 찾는 작업인 약물 재창출 연구를 추진하고 있다. 연구소는 세포에 바이러스를 감염시켜 치료되는 정도를 비교하는 연구를 진행했는데, 총 24개 약물 중 알베스코의 주요성분인 시클레소니드가 가장 약효가 있었다고 밝혔다. 시클레소니드는 현재 국내외에서 임상시험 진행 중인 렘데시비르, 칼레트라, 클로로퀸과 비교해도 항바이러스 활성이 동등하거나 우수한 것으로 나타났다. 일본에서는 실제 코로나19 환자에게 투약해 회복한 사례를 보고하기도 했다. 일본 감염증 학회는 관찰연구를 추진하고 있다.한편 한국파스퇴르연구소는 코로나19 약효가 우수한 여타 물질을 추가적으로 발굴하기 위한 약물 재창출 연구를 지속적으로 추진한다. 한국화학연구원, 대한감염학회 등 유관기관과 긴밀한 협력을 통해 실효성 있는 연구결과를 창출하고 이를 의료현장에 지속적으로 제공할 계획이다. 황준호 기자 rephwang@asiae.co.kr▶ 소름 쫙! 2020년 내 대운 시기 확인하기▶ 네이버에서 아시아경제 뉴스를 받아보세요▶ 놀 준비 되었다면 드루와!  드링킷!<ⓒ경제를 보는 눈, 세계를 보는 창 아시아경제 무단전재 배포금지>\n",
      "\n",
      "제목 :  인간 수명 한계 없앨까…미 연구진 114세 세포를 ‘아기 수준’으로 바꿔\n",
      "제목 :  인간 수명 한계 없앨까…미 연구진 114세 세포를 ‘아기 수준’으로 바꿔\n",
      "링크 :  /main/ranking/read.nhn?mid=etc&sid1=111&rankingType=popular_day&oid=081&aid=0003077800&date=20200329&type=1&rankingSeq=5&rankingSectionId=105\n",
      "\n",
      "[서울신문 나우뉴스]인간 수명 한계 없앨까…미 연구진 114세 세포를 ‘아기 수준’으로 바꿔(사진=123rf)미국의 과학자들이 114세 여성의 혈액세포를 재프로그래밍해 이른바 유도만능줄기세포로 불리는 역분화줄기세포(iPS세포)로 바꿔 세포의 노화 수준을 사실상 신생아 상태로 되돌렸다. 이는 사람의 수명을 무한히 늘릴 수 있는 가능성을 보여준 것이다.26일(현지시간) 미 뉴스위크와 사이언스얼러트 보도에 따르면, 이들 연구자가 수행한 이 실험 연구는 노화와 관련한 새로운 연구 분야의 문을 열 수 있다.이번 연구에 혈액을 기증한 114세 여성은 이른바 초백세인(Supercentenarian)으로 불리는 부류에 속한다. 초백세인은 110세 이상 사는 사람들을 말하는 데 이들은 생활 습관에 그리 상관없이 일반인들보다 오래 살 뿐만 아니라 건강을 훨씬 더 오랫동안 유지한다.이 연구에 참여했으며 이런 사람들을 추적조사하는 미 연구단체 노인학연구그룹(GRG)은 오늘날 전 세계에서 나이가 110세 이상으로 확인된 사람은 56명에 불과하다고 말한다.지금까지 연구자들은 이처럼 극도로 오랫동안 사는 사람들의 여러 공통적인 특성을 발견했다. 2008년부터 일본에서 이런 초백세인을 대상으로 한 한 연구에서는 이들이 심혈관계 질환을 앓은 병력이 거의 또는 전혀 없으며 암이나 당뇨 병력은 완전히 없다는 것으로 나타났다.이번 연구는 그런 초백세인에게서 채취한 세포를 재프로그래밍하려고 시도한 것이다.이에 대해 연구 공동저자인 미 샌포드버넘프레비스(SBP) 의학연구소의 줄기세포 생물학자 에번 스나이더 박사는 “우리는 이렇게 노화한 세포를 다시 프로그래밍할 수 있을까?라는 큰 질문에 답하기 시작했다”고 말했다.세포 재프로그래밍은 전문화된 일반 세포들을 다시 어떤 세포로도 변할 수 있는 iPS세포로 되돌리는 과정을 포함한다. 이런 iPS세포화는 2006년 일본 교토대의 야마나카 신야가 개발했다. 그는 쥐의 피부세포에서부터 iPS세포를 유도했는데 이런 세포는 체내 어떤 조직으로도 만들 수 있다.연구진은 114세 여성뿐만 아니라 건강한 43세 참가자와 이른바 조로증으로 불리는 급속한 노화를 유발하는 질병이 있는 8세 어린이 환자의 세포도 재프로그래밍하는 데 성공했다.(사진=생물화학·생물물리학연구학회지)미 생명공학기업 에이지X 테러퓨틱(AgeX Therapeutics)의 지은 리 박사가 주도한 이번 연구에서는 114세 여성뿐만 아니라 건강한 43세 여성 참가자와 이른바 조로증으로 불리는 급속한 노화를 유발하는 질병이 있는 8세 어린이 환자의 세포도 재프로그래밍하는 데 성공했다.또 이들 연구자는 일부 실험에서 염색체 끝부분을 열화로부터 보호하지만 시간이 지나 세포가 분열함에 따라 짧아지는 말단소립인 텔로미어를 재프로그래밍 과정으로 재설정할 수 있다는 것을 발견했다. 이는 사실상 114세에서 0세로 바뀌는 것을 의미하지만 모든 텔로미어를 재설정한 것은 아니었기에 앞으로 추가 연구가 필요할 것으로 보인다.연구진은 초백세인의 세포를 iPS세포로 되돌림으로써 어떤 요인이 이들을 그렇게 오랫동안 건강하게 살게 하는지를 알아낼 수 있으리라 생각한다.끝으로 연구진은 “이런 데이터는 텔로미어 길이를 복원해 재프로그래밍하는 데 극단적 나이가 절대적인 장벽은 아니라는 점을 보여준다”고 설명했다.자세한 연구 결과는 국제학술지 ‘생물화학·생물물리학연구학회지’(Biochemical and Biophysical Research Communications) 최신호에 실렸다.윤태희 기자 th20022@seoul.co.kr★ [나우뉴스에서 통신원, 칼럼니스트 모집] ▶ [나우뉴스 유튜브 구독]ⓒ 서울신문(www.seoul.co.kr), 무단전재 및 재배포금지\n",
      "\n",
      "제목 :  토마토로 통일 설명했더니 200만명 봤다\n",
      "제목 :  토마토로 통일 설명했더니 200만명 봤다\n",
      "링크 :  /main/ranking/read.nhn?mid=etc&sid1=111&rankingType=popular_day&oid=006&aid=0000101862&date=20200329&type=1&rankingSeq=6&rankingSectionId=105\n",
      "\n",
      "[2020 유튜브 저널리즘 ④-2]  서울경제썸 이연선 팀장·강신우 기자 “신문사 영상 부족해 도구 활용… 쉬운 해설 영상 꾸준히 봐”[미디어오늘 금준경 기자]통일을 설명하는 뉴스에 부리또가 나온다. 재료 하나하나가 어우러지는 모습은 화학적 결합을 상징한다. 토마토를 절반으로 쪼개 남북 분단에 빗댄다. 이질적인 남과 북을 설명하면서 토마토 반쪽이 양파로 변했다. [2020 유튜브 저널리즘 기사 모아보기] 서울경제의 유튜브 채널 '서울경제 썸'(이하 썸)의 콘텐츠다. '썸'은 경제 뉴스 등을 해설하는 영상을 주로 제작해 올린다. 2018년 한국온라인편집기자협회가 주최하는 온라인저널리즘어워드에서 \"스톱모션·그래픽·펜아트·레고 등 독특한 스토리텔링으로 시사 문제를 쉽게 풀어 설명해왔다\"며 특별상을 시상했다. '썸'을 총괄하는 서울경제 이연선 디지털미디어센터 온라인운영팀장과 강신우 디지털미디어부 기자를 20일 서울경제 사옥에서 만났다. ▲ 서울경제썸 콘텐츠 갈무리.이연선 팀장은 \"조회수나 구독자가 많은 채널은 주로 정치색이 뚜렷하고 선명성을 강조한다\"며 \"우리는 사람들이 관심 있어 하는 이슈지만 그 내용이 어려울 경우 쉽게 이해할 수 있게 돕는 콘텐츠를 주력으로 만든다는 점이 다르다\"고 설명했다. 최근 입법 과정에서 논란이 된 '타다금지법' '데이터3법' 등 뉴스에 자주 등장해 익숙하지만 쟁점이 복잡한 이슈를 설명한다. 넷플릭스나 맘스터치같은 특정 기업이 성공할 수 있었던 비결을 해설하기도 한다. 이 같은 특징은 주요 시청층이 서울경제 신문 구독자보다 10~20살 정도 낮은 결과로 나타났다. 댓글에도 \"이해하는 데 도움이 됐다\"는 내용이 많다. 통일 영상의 경우 초등학생들이 학교에서 봤다는 댓글을 썼다고 한다. 쉽고 의미 있어 교재로 활용되고 있다는 의미다. 내용 측면에서 쉬운 해설을 강조한다면 형식적으로는 도구를 활용한 시각화가 특징이다. 강신우 기자는 \"우리의 메인 슬로건이 '한땀한땀'이다. 신문사는 방송사와 다르게 영상 소스가 부족해 이를 보완하려고 했다. 미니어처를 쓴다든가, 소품을 활용해 사안을 빗댄다. 한 장면 한 장면 도구를 써서 스톱모션으로 만든다\"고 했다. 스톱모션은 사물을 조금씩 움직이며 사진을 찍는 애니메이션 기법이다. 다른 언론사에서도 시도한 방식이지만 꾸준히 만드는 곳은 많지 않다. 유튜브에는 다양한 이슈를 설명하는 영상이 많은데 경쟁이 될까. 강신우 기자는 \"속도전만 놓고 보면 다른 영상에 밀리는데, 시간을 두고 살펴보면 정리된 이슈를 보고 싶을 때 우리 콘텐츠가 비교우위에 있다\"며 \"시의성에 영향을 덜 받는 게 강점\"이라고 했다. \"시진핑 이후 중국에 무슨 일이 일어나고 있을까?\" 영상은 조회수 150만회를 기록했다. 중국 이슈가 있을 때마다 영상 조회수가 오른다고 한다. 아프리카 돼지열병 해설 영상은 돼지열병 이슈가 나올 때마다 등장한다. ▲ 영상 제작 작업 중인 서울경제 정수현 기자. 사진=서울경제 제공.시각화 영상을 만드는 일은 쉽지 않다. 콘텐츠 하나당 일주일 가량의 제작 기간이 걸린다. 이연선 팀장은 \"레고, 보드게임, 식재료 등 소재를 계속 찾고, 이걸 어떻게 활용해야 적절한지 계속 고민한다. 잘 터지는 이슈는 스크립트도 좋지만 시각화와 잘 맞아 떨어질 경우\"라며 \"계속 제작하니 노하우가 쌓이고, 레고는 어떤 상황에서 또 쓸 수 있을지 응용력도 생긴다\"고 설명했다. '썸' 영상은 영상 기자들과 편집국에서 파견온 기자들이 만든다. 영상 기자인 강신우 기자는 \"편집국에서 온 기자들은 사안을 좀 더 깊게 보고 있고, 내용 구성에 강점이 있다. 영상기자는 영상 구성을 어떻게 쉽게 할 수 있을지 더 고민한다\"고 설명했다. 기본적으로 영상은 기자 개개인마다 기획, 제작, 편집을 독립적으로 맡는 게 특징이다. 상황에 따라 협업도 한다. 이연선 팀장은 편집국 '펜 기자' 출신이다. 그에게 글 기사와 영상은 어떤 점이 다른지 물었다. 그는 \"뭐가 좋다 나쁘다 말하기는 힘들다. 창과 칼이 각각의 장점이 있는 것처럼 기사도 마찬가지\"라며 \"영상이 중요한 이유는 신문을 잘 안보는 젊은 층에게 다가가기에 훨씬 진입장벽이 낮다. 기자 입장에서도 '이렇게 쓰면 이해할까' 좀 더 친절한 콘텐츠를 고민하게 된다. 유튜브 영상은 피드백이 즉각적인 것도 특징이다. 댓글 등을 통한 커뮤니케이션이 더 활발하다\"고 했다. ▲ 서울경제 강신우 기자가 촬영을 하고 있다. 사진=서울경제 제공.편집국 기자들이 영상제작을 맡게 되면 '출입처'와 멀어지는 걸 우려하지 않을까. 이연선 팀장은 \"어느 정도 연차가 쌓인 기자들이 온다. 여기에서 자신이 그동안 취재해온 분야의 출입처 기반을 활용하고 있다. 하루하루 뉴스를 쏟아내는 건 아니지만 영상 제작 과정에서 현장을 끌어들이면서 취재하고 있어 단절된 건 아니다\"라고 했다. '썸'은 다음 단계를 준비하고 있다. 최근 '썸'과 '서울경제' 채널을 분리했다. 서울경제 채널은 기획성 다큐멘터리, 현장 영상 중심으로 두고 '썸'에는 해설 영상 단일 정체성을 강화했다. 강신우 기자는 \"성격이 다른 콘텐츠가 있으면 오히려 구독자가 떨어지는 경우도 있었다\"고 설명했다. 이연선 팀장은 다양한 시도를 테스트하면서 나아갈 계획이라며 \"당장은 크게 주목받지는 못하더라도 유의미한 콘텐츠를 계속 만들겠다\"고 강조했다.금준경 기자[네이버 메인에서 미디어오늘 구독하기][네이버 TV에서 미디어오늘 바로가기]<Copyright ⓒ 미디어오늘. 무단전재 및 재배포 금지>\n",
      "\n",
      "제목 :  코로나19 진단키트 기법 국제표준 한국이 주도\n",
      "제목 :  코로나19 진단키트 기법 국제표준 한국이 주도\n",
      "링크 :  /main/ranking/read.nhn?mid=etc&sid1=111&rankingType=popular_day&oid=092&aid=0002184603&date=20200329&type=1&rankingSeq=7&rankingSectionId=105\n",
      "\n",
      "우리가 제안한 ‘유전자 증폭 검사기법’ 국제표준안 확정(지디넷코리아=주문정  기자)체외진단 검사기기에 사용하는 유전자 증폭방식 감염병 진단기법 관련 국제표준 개발을 우리나라가 주도한다.산업통상자원부 국가기술표준원과 식품의약품안전처는 우리나라가 국제표준화를 추진해 온 ‘미생물 병원체 검출을 위한 유전자 증폭 검사기법’이 최근 국제표준화기구(ISO) 의료기기 기술위원회(ISO/TC 212)에서 국제표준안(DIS)으로 승인됐다고 29일 밝혔다.유명희 통상교섭본부장(가운데)이 셀트리온을 방문, 코로나19 치료제 및 신속 진단키트 개발 계획 등 주요업무 현황을 청취하고 송도 바이오생태계 활성화 방안 등을 협의하고 있다.국제표준(IS)은 신규작업제안서(NP) 작업과 작업반초안(WD), 위원회안(CD), 국제표준안(DIS), 최종국제표준안(FDIS) 단계를 거쳐 제정된다.국제표준 제정절차에 따라 이 표준안은 최종적으로 회원국 전체 승인 절차만 남았다. 국표원은 연내 국제표준으로 제정될 것으로 내다봤다.국제표준안으로 승인된 ‘미생물 병원체 검출을 위한 유전자 증폭 검사기법’은 다양한 감염병 진단에 사용할 수 있는 핵산증폭방식 체외진단검사에 대한 전체 절차 및 방법을 정의한 것이다.국내에서 코로나19 진단에 사용하고 있는 진단키트에 적용된 실시간 유전자 증폭기법(Real Time Polymerase Chain Reaction) 등 다양한 핵산증폭 방식의 검사에 적용할 수 있는 표준이다.이 표준은 우리나라 국가표준 전문위원회(대표위원 박애자) 심의를 거쳐 2016년에 ISO에 국제표준안으로 제안했다. 그동안 미국·유럽·일본 등 세계 각국 ISO 기술위원들과 긴밀히 협력해 국제표준화 논의를 이끌어온 결과 올 2월 국제표준안 투표에서 회원국 전원 찬성으로 통과했다.특히 이번 국제표준화 사례는 국내 기술로 개발된 진단키트가 성공적인 시장진출을 거쳐 향후 글로벌 표준으로 자리매김하게 될 전망이다.국표원과 식약처 관계자는 “이번 국제표준안 승인은 정부기관(국표원·식약처)이 협업해 감염병 진단기법을 선도적으로 개발하고 국제표준화를 주도해온 노력의 성과”라며 “최근 우리나라의 코로나19 진단 역량이 세계 각국의 관심을 받고 있는 가운데 우리나라의 감염병 진단기기에 대한 국제사회 신뢰를 높이고 국내 업체들의 해외시장 진출에 도움이 될 것”으로 기대했다.주문정 기자(mjjoo@zdnet.co.kr)▶ 지디넷코리아 '홈페이지'▶ 네이버 채널 구독하기[Copyrightⓒ메가뉴스 & ZDNet & CNET. 무단전재 및 재배포 금지]\n",
      "\n",
      "제목 :  [사이언스 카페]'712명 감염' 일본 크루즈선, 코로나 비밀이 담겨있다\n",
      "제목 :  [사이언스 카페]'712명 감염' 일본 크루즈선, 코로나 비밀이 담겨있다\n",
      "링크 :  /main/ranking/read.nhn?mid=etc&sid1=111&rankingType=popular_day&oid=023&aid=0003518808&date=20200329&type=1&rankingSeq=8&rankingSectionId=105\n",
      "\n",
      "일본 해안 정박 때 고립된 다이아몬드 프린세스호제한된 인원과 공간에서 이상적 실험 조건 만들어져무증상 감염 가능성, 격리 조치 효과 확인일본 크루즈선 정박 요코하마항에서 출발하는 구급차. 코로나바이러스 감염증 환자가 대거 확인된 유람선 ‘다이아몬드 프린세스’호(뒤쪽)가 정박 중인 일본 요코하마 항에서 2월 14일 구급차 한 대가 출발하고 있다./AP 연합뉴스‘떠다니는 코로나 배양접시’로 불린 크루즈선이 코로나 바이러스의 정체를 밝혀내는 데 이상적인 연구대상이 된 것으로 밝혀졌다. 한정된 공간에서 모든 인원을 다 조사하면서 코로나 바이러스가 어떻게 감염되고 증상이 어떻게 나타나는지를 상세하게 확인할 수 있었기 때문이다.국제학술지 네이처는 26일(현지 시각) ‘크루즈선 감염 사태가 밝힌 코로나 감염증의 실태’라는 분석기사에서 “크루즈선은 한정된 공간이라는 점에서 바이러스가 급속히 퍼지게 했지만 폐쇄된 환경은 또한 새로운 코로나 바이러스의 행태를 연구하는 데 이상적인 공간이기도 했다”고 밝혔다. NHK방송에 따르면 일본에 정박한 크루즈선 다이아몬드 프린세스호에서 27일 오후 2시 현재 3711명의 승객과 승무원 중 712명의 코로나 확진자가 나왔다. 첫 환자는 먼저 홍콩에 내린 승객으로 지난달 1일 코로나 감염이 확인됐다. NHK 집계에 따르면 현재 일본 내 코로나19 누적 확진자는 다이아몬드 프린세스호의 환자를 포함해 2117명이며 사망자는 57명(크루즈선 10명)이다.과학자들은 이후 크루즈선에서 나온 코로나 확진 환자들을 통해 바이러스의 감염 형태를 연구하기 시작했다. 미국 스탠퍼드대의 존 이오아니디스 교수는 네이처지에 “크루즈선은 한정된 인구 집단을 대상으로 하는 이상적인 실험과 같다”며 “크르주선에서는 모든 사람을 알고 있고 누구든 진단할 수 있다”고 밝혔다.일본 요코하마항에 접안한 크루즈선 '다이아몬드 프린세스'에 격리돼 있는 한 여성이 12시에 배가 부두를 떠난다고 적힌 천을 들고 있다./AP 연합뉴스크루즈선에서 코로나 감염 환자가 급증한 것은 한정된 공간이라는 특성과 함께 탑승객에 질병에 취약한 노년층이 많기 때문이었다. 실제로 다이아몬드 프린세스호 이후 다른 크루즈선 25척에서도 코로나 환자가 나왔다. 이중에는 78명의 환자가 나온 미국 캘리포니아 해안의 그랜드 프린세스호도 있다.크루즈선에 대한 연구결과는 가장 먼저 일본 교토대 겐지 미즈모토 교수 연구진이 지난 12일 ‘유럽 전염병 감시’ 저널에 발표한 것을 들 수 있다. 연구진은 2월 28일까지 크루즈선에서 무증상 감염자 비율이 18%나 됐다고 밝혔다. 크루즈선 승객에 병에 걸리면 증세가 심하게 나타나는 노년층이 많다는 점에서 매우 높은 수치이다.영국 런던 위생 열대의학대학원의 티모시 러셀 교수 연구진은 크루즈선의 사망자 비율을 근거로 중국의 확진 환자의 사망률이 1.1%로 추정된다고 발표했다. 이는 세계보건기구(WHO)의 예측치 3.8%보다 낮은 수치다. 중국은 코로나 검사를 받지 않은 사람이 많을 것으로 추정했다. 연구진은 거의 모든 사람이 검사한 크루즈선의 사망률을 중국에 대입해 실제 사망률이 낮다고 추정한 것이다.감염자 격리 효과도 크루즈선에서 확인됐다. 일본 교토대 겐지 미즈모토 교수와 미국 조지아주립대의 제라도 초웰 교수 연구진은 국제학술지 ‘감염 질환 모델 연구’에 “감염자 격리 조치가 취해진 지난달 5일까지 감염자 한 명이 바이러스를 퍼뜨릴 수 있는 대상자는 7명이었으나 격리 조치후 1명 미만으로 줄었다”고 밝혔다.[이영완 과학전문기자 ywlee@chosun.com]\t\t[네이버 메인에서 조선일보 받아보기]\t\t[조선닷컴 바로가기]\t\t[조선일보 구독신청하기] \t- Copyrights ⓒ 조선일보 & chosun.com, 무단 전재 및 재배포 금지 -\n",
      "\n",
      "제목 :  NK세포 활용해 ‘사이토카인 폭풍’ 등 과면역 반응 억제\n",
      "제목 :  NK세포 활용해 ‘사이토카인 폭풍’ 등 과면역 반응 억제\n",
      "링크 :  /main/ranking/read.nhn?mid=etc&sid1=111&rankingType=popular_day&oid=020&aid=0003277829&date=20200328&type=1&rankingSeq=9&rankingSectionId=105\n",
      "\n",
      "주목받는 엔케이맥스의 면역세포치료제 ‘슈퍼NK’항암제 부작용 막으려 함께 투입, 부작용 줄이면서 치료효과 높여글로벌 의료시장 문 본격 두드려NK세포 이용한 진단키트도 개발NK세포의 면역력 개선 효과에 대한 연구 결과가 나와 주목된다. 엔케이맥스 연구진이 NK세포 관련 검사를 진행하기 위해 시료를 채취하고 있다. 엔케이맥스 제공“나의 면역 시스템은 잘 작동하고 있는가?” 신종 코로나바이러스 감염증(코로나19)에 걸리더라도 건강한 젊은층 중 상당수는 증상이 없거나 가볍게 앓고 지나가는 것으로 알려졌다. 체내 면역 시스템이 잘 작동하기 때문인 것으로 추정된다. 코로나19 사태가 장기화하면서 인체의 면역력에 관한 관심이 쏠리고 있다.  최근 대한수면학회는 코로나19에 대응하려면 면역력을 높여야 한다며 5대 수면 규칙을 발표했다. △최소한 7시간 이상 숙면하고 △규칙적으로 매일 아침 같은 시간에 일어나며 △전자기기를 틀어놓고 잠을 자지 않으며 △잠자리에 누워서는 걱정을 하지 말고 △적절한 습도와 온도를 유지하라는 것이 대한수면학회의 조언이다.  하지만 20대 젊은 남성이 코로나19에 감염된 후 면역 과잉 반응인 ‘사이토카인 폭풍’ 반응이 나타난 일이 있다. 얼마 전 중증 폐렴으로 숨진 17세 고교생 또한 사이토카인 폭풍이 원인인 것으로 추정된다. 잘 먹고, 잘 자는 것만으로는 안전한 면역 시스템을 구축할 수 없는 것 아니냐는 지적도 나온다. 이런 문제를 해결하기 위해 일부 의료진은 면역세포에 주목한다. 그중에서도 바이러스에 감염된 세포 혹은 암세포를 직접 공격해 파괴하는 NK(Natural Killer)세포에 대한 관심이 커지고 있다.  24일 미국국립보건원과 미국암학회는 면역항암제 학술대회를 개최했다. 이 대회에서 국내 바이오기업 엔케이맥스가 흥미로운 연구 결과를 발표했다. 엔케이맥스의 면역세포치료제인 ‘슈퍼NK’가 ‘과(過)면역’ 반응을 조절할 수 있는 가능성을 확인했다는 것.  우리 몸 안에 바이러스나 세균이 침입하면 면역세포가 본격적으로 활동한다. 면역세포는 사이토카인을 비롯해 다양한 면역물질을 분비해 ‘적’과 싸운다. 이때 면역세포가 지나치게 활성화하면 필요 이상으로 많은 면역물질이 쏟아진다. 이 물질들은 ‘적군’과 ‘아군’을 가리지 않고 공격하며, 그 결과 장기가 손상되는 것이다. 이 현상이 과면역 반응이다. 사이토카인 폭풍 역시 이런 과면역 반응 중 하나다.  엔케이맥스 연구진은 항암 치료 연구 과정에서 이 반응을 확인했다. 일반적으로 항암 치료 과정에서는 크고 작은 과면역 반응이 나타난다. 연구진은 이 부작용을 없애기 위해 기존 항암제와 슈퍼NK를 함께 투입한 뒤 경과를 살폈다. 그 결과 항암 치료 효과를 높였을 뿐 아니라 과면역 반응도 억제되는 것이 확인됐다는 것. 엔케이맥스 김용만 연구소장은 “NK세포 면역항암제로 글로벌 의료 시장을 두드릴 수 있을 것”이라면서 “이와 별도로 NK세포를 활용해 사이토카인 폭풍 문제를 없애는 추가 연구를 진행할 것”이라고 밝혔다.  사실 NK세포의 면역력 개선에 대한 연구는 이번이 처음이 아니다. 중국 우한대 런민병원이 올 1, 2월에 41명의 코로나19 환자와 미감염자의 면역 상태를 비교한 바 있다. 그 결과 코로나19 환자에서 염증을 유발하는 사이토카인의 수치가 매우 높았으며 반대로 NK세포는 매우 적은 것으로 나타났다.  코로나19 환자 치료에 NK세포를 활용하려는 움직임도 각국에서 감지된다. 중국 허난성의 한 대학에서는 2월부터 NK세포를 활용해 코로나19 환자를 치료하는 임상시험이 진행되고 있다. 이 임상시험은 올해 12월에 끝날 것으로 전망된다. 미국의 한 연구기관도 이달 초 비슷한 내용의 임상시험을 진행하겠다며 미국식품의약국(FDA)에 신청했다.  앤케이맥스는 NK세포를 활용해 면역력을 측정할 수 있는 진단키트도 개발했다. 이 진단키트를 활용하면 자신의 몸에 얼마만큼의 NK세포가 있는지, 그 세포가 얼마나 활성화돼 있는지 등을 확인할 수 있다. 이 서비스는 현재 엔케이맥스가 국내에서 유일하게 제공하고 있다. 대학병원, 건강검진센터 등 전국 1000여 곳에서 혈액을 추출해 검사한다. 검사 결과는 하루 만에 확인할 수 있다.김상훈 기자 corekim@donga.com ▶ 네이버에서 [동아일보] 채널 구독하기▶ '동아 디지털 아카이브' 오픈 이벤트ⓒ 동아일보 & donga.com, 무단 전재 및 재배포 금지\n",
      "\n",
      "제목 :  'V' 국내 미출시 이어 8년만에 'G'도 뗀다…LG 스마트폰 대수술\n",
      "제목 :  'V' 국내 미출시 이어 8년만에 'G'도 뗀다…LG 스마트폰 대수술\n",
      "링크 :  /main/ranking/read.nhn?mid=etc&sid1=111&rankingType=popular_day&oid=015&aid=0004314760&date=20200329&type=1&rankingSeq=10&rankingSectionId=105\n",
      "\n",
      "2012년 '옵티머스G'부터 LG 플래그십 터줏대감 'G'시리즈5월 출시 스마트폰부터 G시리즈 폐기…\"LG 정체성 살린다\"ODM·JDM 물량 절반 이상으로 높여 내년 흑자전환 속도낸다2012년 출시된 '옵티머스G'. LG 'G' 시리즈의 첫 작이다/사진제공=LG전자LG전자가 스마트폰 사업 부진 탈출을 위한 칼을 뽑아들었다.올해 플래그십(전략) 스마트폰 'V60 씽큐 5G'를 국내에 미출시한 데 이어 LG 프리미엄폰의 한 축이던 'G' 시리즈 브랜드까지 없앤다. 대신 '초콜릿폰'처럼 LG 스마트폰만의 정체성을 강조하는 새 브랜드를 선보일 계획이다.29일 LG전자와 정보통신(IT) 업계에 따르면 최근 브랜드명, 가격 등 스마트폰 사업 새 판짜기에 나선 LG전자 스마트폰 사업부 태스크포스(TF)는 5월 출시 예정인 5G(5세대 이동통신) 폰에서 'G'를 떼기로 했다. 그간 'G9'으로 알려졌던 이 폰의 새 명칭은 다음달 정식 공개될 예정이다.새 모델은 LG전자의 '매스(대중) 프리미엄' 전략의 일환으로 플래그십에 준하는 성능에도 100만원 이하 가격이 책정될 전망이다. 미국 IT 매체 GSM아레나에 따르면 이 모델은 애플리케이션 프로세서(AP)로 퀄컴 스냅드래곤 765를 채택했다. 엣지 형태 풀HD 유기발광다이오드(OLED) 디스플레이에 4개의 후면 카메라를 탑재할 것으로 보인다. 배터리 용량은 4000mAh(밀리암페어시), 3.5mm 이어폰 단자를 적용했다.듀얼스크린 폰이지만 단일 기기로도 판매해 가격을 낮춘 게 포인트. LG전자는 최근 비공개 설명회를 통해 일부 국내 이동통신사 대상으로 이 모델을 선보인 것으로 전해졌다.2014년 출시된 'LG G3'/사진제공=LG전자LG전자는 이 모델을 기점으로 알파벳 G를 완전히 뗀다. G시리즈는 2012년 고(故) 구본무 회장의 특별 지시로 처음 출시됐다. 첫 모델은 '옵티머스G'였다. G3는 출시한 해 약 1000만대를 판매하며 LG 스마트폰 최대 실적을 올렸다. 하지만 이후 G시리즈 판매량이 줄며 LG전자 MC(모바일커뮤니케이션)사업부의 적자 행진 신호탄이 됐다.최근 G·V시리즈 브랜드 폐지 등 LG 스마트폰 라인업 정리 가능성이 지속 제기된 것도 이 때문이다. MC사업 부문이 19분기 연속 적자에 빠지자 2017년 이후 4명의 스마트폰 사령탑을 교체한 끝에 지난해 취임한 이연모 MC사업본부장이 G시리즈 폐지라는 결단을 내린 셈이다.V시리즈 역시 지난달 듀얼스크린폰 V60 씽큐가 출시됐지만 차기작부터는 명칭이 바뀔 가능성이 높다.LG '초콜릿폰'. LG 휴대폰의 전성기를 이끌었다/사진제공=LG전자향후 LG전자는 차기 플래그십에 G·V 등 알파벳이 아닌 과거 '초콜릿폰' '프라다폰'과 같이 제품별 이름을 붙일 것으로 예측된다. 스마트폰 등장 이전에 국내 휴대폰 시장을 주름잡았던 과거 LG 폰의 부흥기를 재현하겠다는 속내다.실질적 수익성 개선 방법은 제조업자개발생산(ODM)·합작개발생산(JDM) 비중 확대를 택했다.LG전자는 중저가 보급형 스마트폰 라인업을 늘리고 올해 ODM·JDM 물량을 50% 이상으로 높여 글로벌 스마트폰 출하량을 끌어올릴 예정이다. 시장조사업체 IDC에 따르면 지난해 전세계 출하량 기준 LG전자 스마트폰 점유율은 약 2%에 그쳤다.올 들어 지난달 30만원대 'Q51'을 국내 출시하고 인도에 10만원대 'W10 알파'를 선보인 LG전자는 2분기 30만원대 K시리즈(K61·K51S·K41S)를 중남미 등에 출시한다. 이통업계에 따르면 Q51은 전작 Q시리즈에 비해 동기간 판매량이 2배가량으로 흥행 성적이 좋은 편이다.지난달 26일 LG전자가 실속형 대화면 스마트폰 LG Q51을 출시했다/사진제공=LG전자그럼에도 누적된 MC사업부문 적자 탈출은 올해 역시 쉽지 않을 전망이다. LG전자는 권봉석 사장이 공언한 대로 내년을 흑자전환 시기로 정하고 올해는 적자폭을 줄이는 데 주력한다.최보영 교보증권 연구원은 \"MC부문의 경우 V60 5G의 북미, 일본 출시와 디자인 변화를 도모한 가칭 G9의 한국 시장 타깃, 4분기 새로운 폼팩터(기기 형태) 스마트폰 출시를 통해 재기를 노릴 것\"이라고 내다봤다.배성수 한경닷컴 기자 baebae@hankyung.com▶ 네이버에서 한국경제 뉴스를 받아보세요▶ 한경닷컴 바로가기  ▶ 모바일한경 구독신청ⓒ 한국경제 & hankyung.com, 무단전재 및 재배포 금지\n",
      "\n"
     ]
    }
   ],
   "source": [
    "for result in results:\n",
    "    print(\"제목 : \",result.string)\n",
    "    print(\"제목 : \",result.attrs['title'])\n",
    "    print(\"링크 : \",result.attrs['href'])\n",
    "    print()\n",
    "    \n",
    "    url_content = 'https://news.naver.com' + result.attrs['href']\n",
    "    response_content = urllib.request.urlopen(url_content)\n",
    "    soup_content = BeautifulSoup(response_content, 'html.parser')\n",
    "    content = soup_content.select_one('#articleBodyContents')\n",
    "#     print(content.contents)\n",
    "    \n",
    "    # 가공 작업\n",
    "    output = ''\n",
    "    for item in content.strings:\n",
    "        stripped = str(item).strip() # 공백 제거\n",
    "        # print(stripped)\n",
    "        if stripped == '':\n",
    "            continue\n",
    "        else:\n",
    "            output += item\n",
    "    \n",
    "    # 필요 없는 텍스트는 replace('내용', '')을 사용해서 ''으로 지워준다(데이터 갯수가 적을 경우)\n",
    "    output = output.replace('본문 내용TV플레이어', '')\n",
    "    output = output.replace('// flash 오류를 우회하기 위한 함수 추가', '')\n",
    "    output = output.replace('function _flash_removeCallback() {}', '')\n",
    "    print(output.strip())\n",
    "    print()\n",
    "    time.sleep(3)\n",
    "    ''    "
   ]
  },
  {
   "cell_type": "markdown",
   "metadata": {},
   "source": [
    "## Selenium 작업"
   ]
  },
  {
   "cell_type": "code",
   "execution_count": 7,
   "metadata": {},
   "outputs": [
    {
     "name": "stdout",
     "output_type": "stream",
     "text": [
      "[]\n",
      "<title id=\"titleJoin\">Starbucks Coffee Korea</title>\n"
     ]
    }
   ],
   "source": [
    "url = 'https://www.istarbucks.co.kr/store/store_map.do'\n",
    "response = urllib.request.urlopen(url)\n",
    "soup = BeautifulSoup(response, 'html.parser')\n",
    "print(soup.select('li.quickResultLstCon'))\n",
    "print(soup.title)"
   ]
  },
  {
   "cell_type": "code",
   "execution_count": 13,
   "metadata": {},
   "outputs": [
    {
     "ename": "SyntaxError",
     "evalue": "invalid syntax (<ipython-input-13-6b340ab91669>, line 8)",
     "output_type": "error",
     "traceback": [
      "\u001b[0;36m  File \u001b[0;32m\"<ipython-input-13-6b340ab91669>\"\u001b[0;36m, line \u001b[0;32m8\u001b[0m\n\u001b[0;31m    driver.find_element_by_\u001b[0m\n\u001b[0m         ^\u001b[0m\n\u001b[0;31mSyntaxError\u001b[0m\u001b[0;31m:\u001b[0m invalid syntax\n"
     ]
    }
   ],
   "source": [
    "driver = webdriver.Remote(\"http://selenium:4444/wd/hub\", DesiredCapabilities.CHROME/\n",
    "# driver = webdriver.Chrome('./crawling/data/chromedriver') - 로컬의 경우\n",
    "# 크롬 드라이브 받은 경로 써주기 ↑\n",
    "\n",
    "driver.get('http://istarbucks.co.kr/store/store_map.do')\n",
    "# time.sleep(20)\n",
    "\n",
    "driver.find_element_by_\n",
    "source = driver.page_source\n",
    "print(source)\n",
    "soup = BeautifulSoup(source, 'html.parser')\n",
    "print(soup.select)"
   ]
  },
  {
   "cell_type": "code",
   "execution_count": null,
   "metadata": {},
   "outputs": [],
   "source": []
  },
  {
   "cell_type": "code",
   "execution_count": null,
   "metadata": {},
   "outputs": [],
   "source": []
  },
  {
   "cell_type": "code",
   "execution_count": null,
   "metadata": {},
   "outputs": [],
   "source": []
  },
  {
   "cell_type": "code",
   "execution_count": null,
   "metadata": {},
   "outputs": [],
   "source": []
  },
  {
   "cell_type": "code",
   "execution_count": null,
   "metadata": {},
   "outputs": [],
   "source": []
  },
  {
   "cell_type": "code",
   "execution_count": null,
   "metadata": {},
   "outputs": [],
   "source": []
  }
 ],
 "metadata": {
  "kernelspec": {
   "display_name": "Python 3",
   "language": "python",
   "name": "python3"
  },
  "language_info": {
   "codemirror_mode": {
    "name": "ipython",
    "version": 3
   },
   "file_extension": ".py",
   "mimetype": "text/x-python",
   "name": "python",
   "nbconvert_exporter": "python",
   "pygments_lexer": "ipython3",
   "version": "3.7.4"
  }
 },
 "nbformat": 4,
 "nbformat_minor": 4
}
