{
 "cells": [
  {
   "cell_type": "code",
   "execution_count": 43,
   "metadata": {},
   "outputs": [],
   "source": [
    "%matplotlib inline\n",
    "import json\n",
    "import pandas as pd"
   ]
  },
  {
   "cell_type": "code",
   "execution_count": 44,
   "metadata": {},
   "outputs": [],
   "source": [
    "url = f\"http://www.kobis.or.kr/kobisopenapi/webservice/rest/boxoffice/searchDailyBoxOfficeList.json?key=821d4153c6ff537119faaf0d723fd7bb&targetDt=20200404\"\n",
    "response = urllib.request.urlopen(url)\n",
    "responseData = response.read()"
   ]
  },
  {
   "cell_type": "code",
   "execution_count": 45,
   "metadata": {
    "collapsed": true,
    "jupyter": {
     "outputs_hidden": true
    }
   },
   "outputs": [
    {
     "name": "stdout",
     "output_type": "stream",
     "text": [
      "{'boxOfficeResult': {'boxofficeType': '일별 박스오피스', 'showRange': '20200404~20200404', 'dailyBoxOfficeList': [{'rnum': '1', 'rank': '1', 'rankInten': '0', 'rankOldAndNew': 'OLD', 'movieCd': '20205262', 'movieNm': '엽문4: 더 파이널', 'openDt': '2020-04-01', 'salesAmt': '75121500', 'salesShare': '20.0', 'salesInten': '37409400', 'salesChange': '99.2', 'salesAcc': '199644200', 'audiCnt': '8288', 'audiInten': '4007', 'audiChange': '93.6', 'audiAcc': '23533', 'scrnCnt': '199', 'showCnt': '618'}, {'rnum': '2', 'rank': '2', 'rankInten': '1', 'rankOldAndNew': 'OLD', 'movieCd': '20192399', 'movieNm': '1917', 'openDt': '2020-02-19', 'salesAmt': '51816600', 'salesShare': '13.8', 'salesInten': '27695280', 'salesChange': '114.8', 'salesAcc': '6645285440', 'audiCnt': '5683', 'audiInten': '2899', 'audiChange': '104.1', 'audiAcc': '729732', 'scrnCnt': '362', 'showCnt': '638'}, {'rnum': '3', 'rank': '3', 'rankInten': '-1', 'rankOldAndNew': 'OLD', 'movieCd': '20204107', 'movieNm': '주디', 'openDt': '2020-03-25', 'salesAmt': '44614800', 'salesShare': '11.9', 'salesInten': '19833300', 'salesChange': '80', 'salesAcc': '536048320', 'audiCnt': '5010', 'audiInten': '2109', 'audiChange': '72.7', 'audiAcc': '66420', 'scrnCnt': '352', 'showCnt': '718'}, {'rnum': '4', 'rank': '4', 'rankInten': '1', 'rankOldAndNew': 'OLD', 'movieCd': '20199842', 'movieNm': '인비저블맨', 'openDt': '2020-02-26', 'salesAmt': '32247140', 'salesShare': '8.6', 'salesInten': '16899580', 'salesChange': '110.1', 'salesAcc': '4811744180', 'audiCnt': '3453', 'audiInten': '1760', 'audiChange': '104', 'audiAcc': '552161', 'scrnCnt': '280', 'showCnt': '497'}, {'rnum': '5', 'rank': '5', 'rankInten': '1', 'rankOldAndNew': 'OLD', 'movieCd': '20206446', 'movieNm': 'n번째 이별 중', 'openDt': '2020-04-01', 'salesAmt': '27768800', 'salesShare': '7.4', 'salesInten': '15020600', 'salesChange': '117.8', 'salesAcc': '69091500', 'audiCnt': '2906', 'audiInten': '1517', 'audiChange': '109.2', 'audiAcc': '7783', 'scrnCnt': '171', 'showCnt': '396'}, {'rnum': '6', 'rank': '6', 'rankInten': '-2', 'rankOldAndNew': 'OLD', 'movieCd': '20205841', 'movieNm': '더 터닝 ', 'openDt': '2020-04-02', 'salesAmt': '26260580', 'salesShare': '7.0', 'salesInten': '8870320', 'salesChange': '51', 'salesAcc': '67383420', 'audiCnt': '2843', 'audiInten': '887', 'audiChange': '45.3', 'audiAcc': '7653', 'scrnCnt': '294', 'showCnt': '549'}, {'rnum': '7', 'rank': '7', 'rankInten': '0', 'rankOldAndNew': 'OLD', 'movieCd': '20205708', 'movieNm': '스케어리 스토리:어둠의 속삭임 ', 'openDt': '2020-03-25', 'salesAmt': '18317220', 'salesShare': '4.9', 'salesInten': '8036980', 'salesChange': '78.2', 'salesAcc': '302232640', 'audiCnt': '1947', 'audiInten': '816', 'audiChange': '72.1', 'audiAcc': '36284', 'scrnCnt': '207', 'showCnt': '376'}, {'rnum': '8', 'rank': '8', 'rankInten': '0', 'rankOldAndNew': 'OLD', 'movieCd': '20167904', 'movieNm': '라라랜드', 'openDt': '2016-12-07', 'salesAmt': '14496240', 'salesShare': '3.9', 'salesInten': '6158900', 'salesChange': '73.9', 'salesAcc': '30277354808', 'audiCnt': '1618', 'audiInten': '658', 'audiChange': '68.5', 'audiAcc': '3631486', 'scrnCnt': '89', 'showCnt': '196'}, {'rnum': '9', 'rank': '9', 'rankInten': '1', 'rankOldAndNew': 'OLD', 'movieCd': '20204791', 'movieNm': '다크 워터스 ', 'openDt': '2020-03-11', 'salesAmt': '6257460', 'salesShare': '1.7', 'salesInten': '3069160', 'salesChange': '96.3', 'salesAcc': '1078757380', 'audiCnt': '721', 'audiInten': '350', 'audiChange': '94.3', 'audiAcc': '125149', 'scrnCnt': '119', 'showCnt': '150'}, {'rnum': '10', 'rank': '10', 'rankInten': '4', 'rankOldAndNew': 'OLD', 'movieCd': '20010013', 'movieNm': '봄날은 간다', 'openDt': '2001-09-28', 'salesAmt': '2952000', 'salesShare': '0.8', 'salesInten': '1337000', 'salesChange': '82.8', 'salesAcc': '43191500', 'audiCnt': '551', 'audiInten': '228', 'audiChange': '70.6', 'audiAcc': '7482', 'scrnCnt': '46', 'showCnt': '77'}]}}\n"
     ]
    }
   ],
   "source": [
    "result = json.loads(responseData)\n",
    "print(result)"
   ]
  },
  {
   "cell_type": "code",
   "execution_count": 47,
   "metadata": {},
   "outputs": [
    {
     "name": "stdout",
     "output_type": "stream",
     "text": [
      "클래스 :  <class 'dict'>\n"
     ]
    }
   ],
   "source": [
    "print(\"클래스 : \",type(result))"
   ]
  },
  {
   "cell_type": "code",
   "execution_count": 48,
   "metadata": {
    "collapsed": true,
    "jupyter": {
     "outputs_hidden": true
    }
   },
   "outputs": [
    {
     "name": "stdout",
     "output_type": "stream",
     "text": [
      "[{'rnum': '1', 'rank': '1', 'rankInten': '0', 'rankOldAndNew': 'OLD', 'movieCd': '20205262', 'movieNm': '엽문4: 더 파이널', 'openDt': '2020-04-01', 'salesAmt': '75121500', 'salesShare': '20.0', 'salesInten': '37409400', 'salesChange': '99.2', 'salesAcc': '199644200', 'audiCnt': '8288', 'audiInten': '4007', 'audiChange': '93.6', 'audiAcc': '23533', 'scrnCnt': '199', 'showCnt': '618'}, {'rnum': '2', 'rank': '2', 'rankInten': '1', 'rankOldAndNew': 'OLD', 'movieCd': '20192399', 'movieNm': '1917', 'openDt': '2020-02-19', 'salesAmt': '51816600', 'salesShare': '13.8', 'salesInten': '27695280', 'salesChange': '114.8', 'salesAcc': '6645285440', 'audiCnt': '5683', 'audiInten': '2899', 'audiChange': '104.1', 'audiAcc': '729732', 'scrnCnt': '362', 'showCnt': '638'}, {'rnum': '3', 'rank': '3', 'rankInten': '-1', 'rankOldAndNew': 'OLD', 'movieCd': '20204107', 'movieNm': '주디', 'openDt': '2020-03-25', 'salesAmt': '44614800', 'salesShare': '11.9', 'salesInten': '19833300', 'salesChange': '80', 'salesAcc': '536048320', 'audiCnt': '5010', 'audiInten': '2109', 'audiChange': '72.7', 'audiAcc': '66420', 'scrnCnt': '352', 'showCnt': '718'}, {'rnum': '4', 'rank': '4', 'rankInten': '1', 'rankOldAndNew': 'OLD', 'movieCd': '20199842', 'movieNm': '인비저블맨', 'openDt': '2020-02-26', 'salesAmt': '32247140', 'salesShare': '8.6', 'salesInten': '16899580', 'salesChange': '110.1', 'salesAcc': '4811744180', 'audiCnt': '3453', 'audiInten': '1760', 'audiChange': '104', 'audiAcc': '552161', 'scrnCnt': '280', 'showCnt': '497'}, {'rnum': '5', 'rank': '5', 'rankInten': '1', 'rankOldAndNew': 'OLD', 'movieCd': '20206446', 'movieNm': 'n번째 이별 중', 'openDt': '2020-04-01', 'salesAmt': '27768800', 'salesShare': '7.4', 'salesInten': '15020600', 'salesChange': '117.8', 'salesAcc': '69091500', 'audiCnt': '2906', 'audiInten': '1517', 'audiChange': '109.2', 'audiAcc': '7783', 'scrnCnt': '171', 'showCnt': '396'}, {'rnum': '6', 'rank': '6', 'rankInten': '-2', 'rankOldAndNew': 'OLD', 'movieCd': '20205841', 'movieNm': '더 터닝 ', 'openDt': '2020-04-02', 'salesAmt': '26260580', 'salesShare': '7.0', 'salesInten': '8870320', 'salesChange': '51', 'salesAcc': '67383420', 'audiCnt': '2843', 'audiInten': '887', 'audiChange': '45.3', 'audiAcc': '7653', 'scrnCnt': '294', 'showCnt': '549'}, {'rnum': '7', 'rank': '7', 'rankInten': '0', 'rankOldAndNew': 'OLD', 'movieCd': '20205708', 'movieNm': '스케어리 스토리:어둠의 속삭임 ', 'openDt': '2020-03-25', 'salesAmt': '18317220', 'salesShare': '4.9', 'salesInten': '8036980', 'salesChange': '78.2', 'salesAcc': '302232640', 'audiCnt': '1947', 'audiInten': '816', 'audiChange': '72.1', 'audiAcc': '36284', 'scrnCnt': '207', 'showCnt': '376'}, {'rnum': '8', 'rank': '8', 'rankInten': '0', 'rankOldAndNew': 'OLD', 'movieCd': '20167904', 'movieNm': '라라랜드', 'openDt': '2016-12-07', 'salesAmt': '14496240', 'salesShare': '3.9', 'salesInten': '6158900', 'salesChange': '73.9', 'salesAcc': '30277354808', 'audiCnt': '1618', 'audiInten': '658', 'audiChange': '68.5', 'audiAcc': '3631486', 'scrnCnt': '89', 'showCnt': '196'}, {'rnum': '9', 'rank': '9', 'rankInten': '1', 'rankOldAndNew': 'OLD', 'movieCd': '20204791', 'movieNm': '다크 워터스 ', 'openDt': '2020-03-11', 'salesAmt': '6257460', 'salesShare': '1.7', 'salesInten': '3069160', 'salesChange': '96.3', 'salesAcc': '1078757380', 'audiCnt': '721', 'audiInten': '350', 'audiChange': '94.3', 'audiAcc': '125149', 'scrnCnt': '119', 'showCnt': '150'}, {'rnum': '10', 'rank': '10', 'rankInten': '4', 'rankOldAndNew': 'OLD', 'movieCd': '20010013', 'movieNm': '봄날은 간다', 'openDt': '2001-09-28', 'salesAmt': '2952000', 'salesShare': '0.8', 'salesInten': '1337000', 'salesChange': '82.8', 'salesAcc': '43191500', 'audiCnt': '551', 'audiInten': '228', 'audiChange': '70.6', 'audiAcc': '7482', 'scrnCnt': '46', 'showCnt': '77'}]\n"
     ]
    }
   ],
   "source": [
    "pre_result = result[\"boxOfficeResult\"][\"dailyBoxOfficeList\"]\n",
    "print(pre_result)"
   ]
  },
  {
   "cell_type": "code",
   "execution_count": 52,
   "metadata": {},
   "outputs": [],
   "source": [
    "cine = []\n",
    "\n",
    "for i in range(0,len(pre_result)):\n",
    "    pre_result[i]['targetDt'] = \"20200404\"\n",
    "    cine.append(pre_result[i]) # 리스트에 append로 추가"
   ]
  },
  {
   "cell_type": "code",
   "execution_count": 53,
   "metadata": {
    "collapsed": true,
    "jupyter": {
     "outputs_hidden": true
    }
   },
   "outputs": [
    {
     "name": "stdout",
     "output_type": "stream",
     "text": [
      "[{'rnum': '1', 'rank': '1', 'rankInten': '0', 'rankOldAndNew': 'OLD', 'movieCd': '20205262', 'movieNm': '엽문4: 더 파이널', 'openDt': '2020-04-01', 'salesAmt': '75121500', 'salesShare': '20.0', 'salesInten': '37409400', 'salesChange': '99.2', 'salesAcc': '199644200', 'audiCnt': '8288', 'audiInten': '4007', 'audiChange': '93.6', 'audiAcc': '23533', 'scrnCnt': '199', 'showCnt': '618', 'targetDt': '20200404'}, {'rnum': '2', 'rank': '2', 'rankInten': '1', 'rankOldAndNew': 'OLD', 'movieCd': '20192399', 'movieNm': '1917', 'openDt': '2020-02-19', 'salesAmt': '51816600', 'salesShare': '13.8', 'salesInten': '27695280', 'salesChange': '114.8', 'salesAcc': '6645285440', 'audiCnt': '5683', 'audiInten': '2899', 'audiChange': '104.1', 'audiAcc': '729732', 'scrnCnt': '362', 'showCnt': '638', 'targetDt': '20200404'}, {'rnum': '3', 'rank': '3', 'rankInten': '-1', 'rankOldAndNew': 'OLD', 'movieCd': '20204107', 'movieNm': '주디', 'openDt': '2020-03-25', 'salesAmt': '44614800', 'salesShare': '11.9', 'salesInten': '19833300', 'salesChange': '80', 'salesAcc': '536048320', 'audiCnt': '5010', 'audiInten': '2109', 'audiChange': '72.7', 'audiAcc': '66420', 'scrnCnt': '352', 'showCnt': '718', 'targetDt': '20200404'}, {'rnum': '4', 'rank': '4', 'rankInten': '1', 'rankOldAndNew': 'OLD', 'movieCd': '20199842', 'movieNm': '인비저블맨', 'openDt': '2020-02-26', 'salesAmt': '32247140', 'salesShare': '8.6', 'salesInten': '16899580', 'salesChange': '110.1', 'salesAcc': '4811744180', 'audiCnt': '3453', 'audiInten': '1760', 'audiChange': '104', 'audiAcc': '552161', 'scrnCnt': '280', 'showCnt': '497', 'targetDt': '20200404'}, {'rnum': '5', 'rank': '5', 'rankInten': '1', 'rankOldAndNew': 'OLD', 'movieCd': '20206446', 'movieNm': 'n번째 이별 중', 'openDt': '2020-04-01', 'salesAmt': '27768800', 'salesShare': '7.4', 'salesInten': '15020600', 'salesChange': '117.8', 'salesAcc': '69091500', 'audiCnt': '2906', 'audiInten': '1517', 'audiChange': '109.2', 'audiAcc': '7783', 'scrnCnt': '171', 'showCnt': '396', 'targetDt': '20200404'}, {'rnum': '6', 'rank': '6', 'rankInten': '-2', 'rankOldAndNew': 'OLD', 'movieCd': '20205841', 'movieNm': '더 터닝 ', 'openDt': '2020-04-02', 'salesAmt': '26260580', 'salesShare': '7.0', 'salesInten': '8870320', 'salesChange': '51', 'salesAcc': '67383420', 'audiCnt': '2843', 'audiInten': '887', 'audiChange': '45.3', 'audiAcc': '7653', 'scrnCnt': '294', 'showCnt': '549', 'targetDt': '20200404'}, {'rnum': '7', 'rank': '7', 'rankInten': '0', 'rankOldAndNew': 'OLD', 'movieCd': '20205708', 'movieNm': '스케어리 스토리:어둠의 속삭임 ', 'openDt': '2020-03-25', 'salesAmt': '18317220', 'salesShare': '4.9', 'salesInten': '8036980', 'salesChange': '78.2', 'salesAcc': '302232640', 'audiCnt': '1947', 'audiInten': '816', 'audiChange': '72.1', 'audiAcc': '36284', 'scrnCnt': '207', 'showCnt': '376', 'targetDt': '20200404'}, {'rnum': '8', 'rank': '8', 'rankInten': '0', 'rankOldAndNew': 'OLD', 'movieCd': '20167904', 'movieNm': '라라랜드', 'openDt': '2016-12-07', 'salesAmt': '14496240', 'salesShare': '3.9', 'salesInten': '6158900', 'salesChange': '73.9', 'salesAcc': '30277354808', 'audiCnt': '1618', 'audiInten': '658', 'audiChange': '68.5', 'audiAcc': '3631486', 'scrnCnt': '89', 'showCnt': '196', 'targetDt': '20200404'}, {'rnum': '9', 'rank': '9', 'rankInten': '1', 'rankOldAndNew': 'OLD', 'movieCd': '20204791', 'movieNm': '다크 워터스 ', 'openDt': '2020-03-11', 'salesAmt': '6257460', 'salesShare': '1.7', 'salesInten': '3069160', 'salesChange': '96.3', 'salesAcc': '1078757380', 'audiCnt': '721', 'audiInten': '350', 'audiChange': '94.3', 'audiAcc': '125149', 'scrnCnt': '119', 'showCnt': '150', 'targetDt': '20200404'}, {'rnum': '10', 'rank': '10', 'rankInten': '4', 'rankOldAndNew': 'OLD', 'movieCd': '20010013', 'movieNm': '봄날은 간다', 'openDt': '2001-09-28', 'salesAmt': '2952000', 'salesShare': '0.8', 'salesInten': '1337000', 'salesChange': '82.8', 'salesAcc': '43191500', 'audiCnt': '551', 'audiInten': '228', 'audiChange': '70.6', 'audiAcc': '7482', 'scrnCnt': '46', 'showCnt': '77', 'targetDt': '20200404'}]\n"
     ]
    }
   ],
   "source": [
    "print(cine)"
   ]
  },
  {
   "cell_type": "code",
   "execution_count": 54,
   "metadata": {},
   "outputs": [],
   "source": [
    "dataframe = pd.DataFrame(cine)"
   ]
  },
  {
   "cell_type": "code",
   "execution_count": 57,
   "metadata": {},
   "outputs": [
    {
     "data": {
      "text/html": [
       "<div>\n",
       "<style scoped>\n",
       "    .dataframe tbody tr th:only-of-type {\n",
       "        vertical-align: middle;\n",
       "    }\n",
       "\n",
       "    .dataframe tbody tr th {\n",
       "        vertical-align: top;\n",
       "    }\n",
       "\n",
       "    .dataframe thead th {\n",
       "        text-align: right;\n",
       "    }\n",
       "</style>\n",
       "<table border=\"1\" class=\"dataframe\">\n",
       "  <thead>\n",
       "    <tr style=\"text-align: right;\">\n",
       "      <th></th>\n",
       "      <th>rnum</th>\n",
       "      <th>rank</th>\n",
       "      <th>rankInten</th>\n",
       "      <th>rankOldAndNew</th>\n",
       "      <th>movieCd</th>\n",
       "      <th>movieNm</th>\n",
       "      <th>openDt</th>\n",
       "      <th>salesAmt</th>\n",
       "      <th>salesShare</th>\n",
       "      <th>salesInten</th>\n",
       "      <th>salesChange</th>\n",
       "      <th>salesAcc</th>\n",
       "      <th>audiCnt</th>\n",
       "      <th>audiInten</th>\n",
       "      <th>audiChange</th>\n",
       "      <th>audiAcc</th>\n",
       "      <th>scrnCnt</th>\n",
       "      <th>showCnt</th>\n",
       "      <th>targetDt</th>\n",
       "    </tr>\n",
       "  </thead>\n",
       "  <tbody>\n",
       "    <tr>\n",
       "      <td>0</td>\n",
       "      <td>1</td>\n",
       "      <td>1</td>\n",
       "      <td>0</td>\n",
       "      <td>OLD</td>\n",
       "      <td>20205262</td>\n",
       "      <td>엽문4: 더 파이널</td>\n",
       "      <td>2020-04-01</td>\n",
       "      <td>75121500</td>\n",
       "      <td>20.0</td>\n",
       "      <td>37409400</td>\n",
       "      <td>99.2</td>\n",
       "      <td>199644200</td>\n",
       "      <td>8288</td>\n",
       "      <td>4007</td>\n",
       "      <td>93.6</td>\n",
       "      <td>23533</td>\n",
       "      <td>199</td>\n",
       "      <td>618</td>\n",
       "      <td>20200404</td>\n",
       "    </tr>\n",
       "    <tr>\n",
       "      <td>1</td>\n",
       "      <td>2</td>\n",
       "      <td>2</td>\n",
       "      <td>1</td>\n",
       "      <td>OLD</td>\n",
       "      <td>20192399</td>\n",
       "      <td>1917</td>\n",
       "      <td>2020-02-19</td>\n",
       "      <td>51816600</td>\n",
       "      <td>13.8</td>\n",
       "      <td>27695280</td>\n",
       "      <td>114.8</td>\n",
       "      <td>6645285440</td>\n",
       "      <td>5683</td>\n",
       "      <td>2899</td>\n",
       "      <td>104.1</td>\n",
       "      <td>729732</td>\n",
       "      <td>362</td>\n",
       "      <td>638</td>\n",
       "      <td>20200404</td>\n",
       "    </tr>\n",
       "    <tr>\n",
       "      <td>2</td>\n",
       "      <td>3</td>\n",
       "      <td>3</td>\n",
       "      <td>-1</td>\n",
       "      <td>OLD</td>\n",
       "      <td>20204107</td>\n",
       "      <td>주디</td>\n",
       "      <td>2020-03-25</td>\n",
       "      <td>44614800</td>\n",
       "      <td>11.9</td>\n",
       "      <td>19833300</td>\n",
       "      <td>80</td>\n",
       "      <td>536048320</td>\n",
       "      <td>5010</td>\n",
       "      <td>2109</td>\n",
       "      <td>72.7</td>\n",
       "      <td>66420</td>\n",
       "      <td>352</td>\n",
       "      <td>718</td>\n",
       "      <td>20200404</td>\n",
       "    </tr>\n",
       "    <tr>\n",
       "      <td>3</td>\n",
       "      <td>4</td>\n",
       "      <td>4</td>\n",
       "      <td>1</td>\n",
       "      <td>OLD</td>\n",
       "      <td>20199842</td>\n",
       "      <td>인비저블맨</td>\n",
       "      <td>2020-02-26</td>\n",
       "      <td>32247140</td>\n",
       "      <td>8.6</td>\n",
       "      <td>16899580</td>\n",
       "      <td>110.1</td>\n",
       "      <td>4811744180</td>\n",
       "      <td>3453</td>\n",
       "      <td>1760</td>\n",
       "      <td>104</td>\n",
       "      <td>552161</td>\n",
       "      <td>280</td>\n",
       "      <td>497</td>\n",
       "      <td>20200404</td>\n",
       "    </tr>\n",
       "    <tr>\n",
       "      <td>4</td>\n",
       "      <td>5</td>\n",
       "      <td>5</td>\n",
       "      <td>1</td>\n",
       "      <td>OLD</td>\n",
       "      <td>20206446</td>\n",
       "      <td>n번째 이별 중</td>\n",
       "      <td>2020-04-01</td>\n",
       "      <td>27768800</td>\n",
       "      <td>7.4</td>\n",
       "      <td>15020600</td>\n",
       "      <td>117.8</td>\n",
       "      <td>69091500</td>\n",
       "      <td>2906</td>\n",
       "      <td>1517</td>\n",
       "      <td>109.2</td>\n",
       "      <td>7783</td>\n",
       "      <td>171</td>\n",
       "      <td>396</td>\n",
       "      <td>20200404</td>\n",
       "    </tr>\n",
       "    <tr>\n",
       "      <td>5</td>\n",
       "      <td>6</td>\n",
       "      <td>6</td>\n",
       "      <td>-2</td>\n",
       "      <td>OLD</td>\n",
       "      <td>20205841</td>\n",
       "      <td>더 터닝</td>\n",
       "      <td>2020-04-02</td>\n",
       "      <td>26260580</td>\n",
       "      <td>7.0</td>\n",
       "      <td>8870320</td>\n",
       "      <td>51</td>\n",
       "      <td>67383420</td>\n",
       "      <td>2843</td>\n",
       "      <td>887</td>\n",
       "      <td>45.3</td>\n",
       "      <td>7653</td>\n",
       "      <td>294</td>\n",
       "      <td>549</td>\n",
       "      <td>20200404</td>\n",
       "    </tr>\n",
       "    <tr>\n",
       "      <td>6</td>\n",
       "      <td>7</td>\n",
       "      <td>7</td>\n",
       "      <td>0</td>\n",
       "      <td>OLD</td>\n",
       "      <td>20205708</td>\n",
       "      <td>스케어리 스토리:어둠의 속삭임</td>\n",
       "      <td>2020-03-25</td>\n",
       "      <td>18317220</td>\n",
       "      <td>4.9</td>\n",
       "      <td>8036980</td>\n",
       "      <td>78.2</td>\n",
       "      <td>302232640</td>\n",
       "      <td>1947</td>\n",
       "      <td>816</td>\n",
       "      <td>72.1</td>\n",
       "      <td>36284</td>\n",
       "      <td>207</td>\n",
       "      <td>376</td>\n",
       "      <td>20200404</td>\n",
       "    </tr>\n",
       "    <tr>\n",
       "      <td>7</td>\n",
       "      <td>8</td>\n",
       "      <td>8</td>\n",
       "      <td>0</td>\n",
       "      <td>OLD</td>\n",
       "      <td>20167904</td>\n",
       "      <td>라라랜드</td>\n",
       "      <td>2016-12-07</td>\n",
       "      <td>14496240</td>\n",
       "      <td>3.9</td>\n",
       "      <td>6158900</td>\n",
       "      <td>73.9</td>\n",
       "      <td>30277354808</td>\n",
       "      <td>1618</td>\n",
       "      <td>658</td>\n",
       "      <td>68.5</td>\n",
       "      <td>3631486</td>\n",
       "      <td>89</td>\n",
       "      <td>196</td>\n",
       "      <td>20200404</td>\n",
       "    </tr>\n",
       "    <tr>\n",
       "      <td>8</td>\n",
       "      <td>9</td>\n",
       "      <td>9</td>\n",
       "      <td>1</td>\n",
       "      <td>OLD</td>\n",
       "      <td>20204791</td>\n",
       "      <td>다크 워터스</td>\n",
       "      <td>2020-03-11</td>\n",
       "      <td>6257460</td>\n",
       "      <td>1.7</td>\n",
       "      <td>3069160</td>\n",
       "      <td>96.3</td>\n",
       "      <td>1078757380</td>\n",
       "      <td>721</td>\n",
       "      <td>350</td>\n",
       "      <td>94.3</td>\n",
       "      <td>125149</td>\n",
       "      <td>119</td>\n",
       "      <td>150</td>\n",
       "      <td>20200404</td>\n",
       "    </tr>\n",
       "    <tr>\n",
       "      <td>9</td>\n",
       "      <td>10</td>\n",
       "      <td>10</td>\n",
       "      <td>4</td>\n",
       "      <td>OLD</td>\n",
       "      <td>20010013</td>\n",
       "      <td>봄날은 간다</td>\n",
       "      <td>2001-09-28</td>\n",
       "      <td>2952000</td>\n",
       "      <td>0.8</td>\n",
       "      <td>1337000</td>\n",
       "      <td>82.8</td>\n",
       "      <td>43191500</td>\n",
       "      <td>551</td>\n",
       "      <td>228</td>\n",
       "      <td>70.6</td>\n",
       "      <td>7482</td>\n",
       "      <td>46</td>\n",
       "      <td>77</td>\n",
       "      <td>20200404</td>\n",
       "    </tr>\n",
       "  </tbody>\n",
       "</table>\n",
       "</div>"
      ],
      "text/plain": [
       "  rnum rank rankInten rankOldAndNew   movieCd            movieNm      openDt  \\\n",
       "0    1    1         0           OLD  20205262         엽문4: 더 파이널  2020-04-01   \n",
       "1    2    2         1           OLD  20192399               1917  2020-02-19   \n",
       "2    3    3        -1           OLD  20204107                 주디  2020-03-25   \n",
       "3    4    4         1           OLD  20199842              인비저블맨  2020-02-26   \n",
       "4    5    5         1           OLD  20206446           n번째 이별 중  2020-04-01   \n",
       "5    6    6        -2           OLD  20205841              더 터닝   2020-04-02   \n",
       "6    7    7         0           OLD  20205708  스케어리 스토리:어둠의 속삭임   2020-03-25   \n",
       "7    8    8         0           OLD  20167904               라라랜드  2016-12-07   \n",
       "8    9    9         1           OLD  20204791            다크 워터스   2020-03-11   \n",
       "9   10   10         4           OLD  20010013             봄날은 간다  2001-09-28   \n",
       "\n",
       "   salesAmt salesShare salesInten salesChange     salesAcc audiCnt audiInten  \\\n",
       "0  75121500       20.0   37409400        99.2    199644200    8288      4007   \n",
       "1  51816600       13.8   27695280       114.8   6645285440    5683      2899   \n",
       "2  44614800       11.9   19833300          80    536048320    5010      2109   \n",
       "3  32247140        8.6   16899580       110.1   4811744180    3453      1760   \n",
       "4  27768800        7.4   15020600       117.8     69091500    2906      1517   \n",
       "5  26260580        7.0    8870320          51     67383420    2843       887   \n",
       "6  18317220        4.9    8036980        78.2    302232640    1947       816   \n",
       "7  14496240        3.9    6158900        73.9  30277354808    1618       658   \n",
       "8   6257460        1.7    3069160        96.3   1078757380     721       350   \n",
       "9   2952000        0.8    1337000        82.8     43191500     551       228   \n",
       "\n",
       "  audiChange  audiAcc scrnCnt showCnt  targetDt  \n",
       "0       93.6    23533     199     618  20200404  \n",
       "1      104.1   729732     362     638  20200404  \n",
       "2       72.7    66420     352     718  20200404  \n",
       "3        104   552161     280     497  20200404  \n",
       "4      109.2     7783     171     396  20200404  \n",
       "5       45.3     7653     294     549  20200404  \n",
       "6       72.1    36284     207     376  20200404  \n",
       "7       68.5  3631486      89     196  20200404  \n",
       "8       94.3   125149     119     150  20200404  \n",
       "9       70.6     7482      46      77  20200404  "
      ]
     },
     "execution_count": 57,
     "metadata": {},
     "output_type": "execute_result"
    }
   ],
   "source": [
    "dataframe"
   ]
  },
  {
   "cell_type": "code",
   "execution_count": 1531,
   "metadata": {},
   "outputs": [
    {
     "name": "stdout",
     "output_type": "stream",
     "text": [
      "1586054264.366106\n"
     ]
    }
   ],
   "source": [
    "import time\n",
    "print(time.time())"
   ]
  },
  {
   "cell_type": "code",
   "execution_count": 1532,
   "metadata": {},
   "outputs": [
    {
     "name": "stdout",
     "output_type": "stream",
     "text": [
      "time.struct_time(tm_year=2020, tm_mon=4, tm_mday=5, tm_hour=11, tm_min=37, tm_sec=44, tm_wday=6, tm_yday=96, tm_isdst=0)\n"
     ]
    }
   ],
   "source": [
    "print(time.localtime(time.time()))"
   ]
  },
  {
   "cell_type": "code",
   "execution_count": 1533,
   "metadata": {},
   "outputs": [],
   "source": [
    "movieDate=time.strftime('%Y%m%d', time.localtime(time.time()))\n",
    "# strftime 문자열 포맷으로 변경 -> str'f' & str'p'"
   ]
  },
  {
   "cell_type": "code",
   "execution_count": 1534,
   "metadata": {},
   "outputs": [
    {
     "data": {
      "text/plain": [
       "'20200405'"
      ]
     },
     "execution_count": 1534,
     "metadata": {},
     "output_type": "execute_result"
    }
   ],
   "source": [
    "movieDate"
   ]
  },
  {
   "cell_type": "code",
   "execution_count": 1540,
   "metadata": {},
   "outputs": [],
   "source": [
    "import datetime\n",
    "# string을 date형태로 바꿈\n",
    "datetime_obj = datetime.datetime.strptime(movieDate,\"%Y%m%d\").date()"
   ]
  },
  {
   "cell_type": "code",
   "execution_count": 1541,
   "metadata": {},
   "outputs": [
    {
     "data": {
      "text/plain": [
       "datetime.date(2020, 4, 5)"
      ]
     },
     "execution_count": 1541,
     "metadata": {},
     "output_type": "execute_result"
    }
   ],
   "source": [
    "datetime_obj"
   ]
  },
  {
   "cell_type": "code",
   "execution_count": 1542,
   "metadata": {},
   "outputs": [],
   "source": [
    "# 1일 혹은 1주일씩 시간을 줄여간다.\n",
    "datetime_obj_tmp = datetime_obj - datetime.timedelta(days=1)  # days는 일 단위 weeks=1는 주 단위"
   ]
  },
  {
   "cell_type": "code",
   "execution_count": 1543,
   "metadata": {},
   "outputs": [
    {
     "data": {
      "text/plain": [
       "datetime.date(2020, 4, 4)"
      ]
     },
     "execution_count": 1543,
     "metadata": {},
     "output_type": "execute_result"
    }
   ],
   "source": [
    "datetime_obj_tmp"
   ]
  },
  {
   "cell_type": "code",
   "execution_count": 1547,
   "metadata": {},
   "outputs": [],
   "source": [
    "movieDate = datetime_obj_tmp.strftime(\"%Y%m%d\")"
   ]
  },
  {
   "cell_type": "code",
   "execution_count": 1548,
   "metadata": {},
   "outputs": [
    {
     "data": {
      "text/plain": [
       "'20200404'"
      ]
     },
     "execution_count": 1548,
     "metadata": {},
     "output_type": "execute_result"
    }
   ],
   "source": [
    "movieDate # 위의 movieDate와 다르게 날짜가 하루 줄었음. for문 이용하면 30일도 가능"
   ]
  },
  {
   "cell_type": "code",
   "execution_count": null,
   "metadata": {},
   "outputs": [],
   "source": []
  }
 ],
 "metadata": {
  "kernelspec": {
   "display_name": "Python 3",
   "language": "python",
   "name": "python3"
  },
  "language_info": {
   "codemirror_mode": {
    "name": "ipython",
    "version": 3
   },
   "file_extension": ".py",
   "mimetype": "text/x-python",
   "name": "python",
   "nbconvert_exporter": "python",
   "pygments_lexer": "ipython3",
   "version": "3.7.4"
  }
 },
 "nbformat": 4,
 "nbformat_minor": 4
}
