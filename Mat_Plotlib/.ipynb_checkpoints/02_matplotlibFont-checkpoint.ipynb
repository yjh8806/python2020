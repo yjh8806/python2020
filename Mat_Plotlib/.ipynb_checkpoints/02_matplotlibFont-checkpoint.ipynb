{
 "cells": [
  {
   "cell_type": "markdown",
   "metadata": {},
   "source": [
    "# Matplotlib 한글폰트"
   ]
  },
  {
   "cell_type": "markdown",
   "metadata": {},
   "source": [
    "### 1. 필요한 정보를 확인합니다."
   ]
  },
  {
   "cell_type": "code",
   "execution_count": 1,
   "metadata": {},
   "outputs": [],
   "source": [
    "%matplotlib inline  "
   ]
  },
  {
   "cell_type": "code",
   "execution_count": 2,
   "metadata": {},
   "outputs": [
    {
     "data": {
      "text/plain": [
       "'Linux-4.19.76-linuxkit-x86_64-with-debian-10.2'"
      ]
     },
     "execution_count": 2,
     "metadata": {},
     "output_type": "execute_result"
    }
   ],
   "source": [
    "# 실행중인 운영체제 확인\n",
    "\n",
    "import platform\n",
    "platform.platform()"
   ]
  },
  {
   "cell_type": "code",
   "execution_count": 3,
   "metadata": {},
   "outputs": [
    {
     "data": {
      "text/plain": [
       "sys.version_info(major=3, minor=7, micro=4, releaselevel='final', serial=0)"
      ]
     },
     "execution_count": 3,
     "metadata": {},
     "output_type": "execute_result"
    }
   ],
   "source": [
    "# 파이썬 버전\n",
    "\n",
    "import sys\n",
    "sys.version_info"
   ]
  },
  {
   "cell_type": "code",
   "execution_count": 4,
   "metadata": {},
   "outputs": [
    {
     "name": "stdout",
     "output_type": "stream",
     "text": [
      "버전:  3.1.3\n",
      "설치위치:  /opt/conda/lib/python3.7/site-packages/matplotlib/__init__.py\n",
      "설정:  /home/vscode/.config/matplotlib\n",
      "캐시:  /home/vscode/.cache/matplotlib\n"
     ]
    }
   ],
   "source": [
    "# matplotlib 주요 설치 정보\n",
    "\n",
    "import matplotlib\n",
    "\n",
    "print ('버전: ', matplotlib.__version__)\n",
    "print ('설치위치: ', matplotlib.__file__)\n",
    "print ('설정: ', matplotlib.get_configdir())\n",
    "print ('캐시: ', matplotlib.get_cachedir())"
   ]
  },
  {
   "cell_type": "code",
   "execution_count": 28,
   "metadata": {},
   "outputs": [],
   "source": [
    "# 그래프에서 마이너스 폰트 깨지는 문제에 대한 대처\n",
    "# https://matplotlib.org/examples/api/unicode_minus.html\n",
    "mpl.rcParams['axes.unicode_minus'] = False"
   ]
  },
  {
   "cell_type": "code",
   "execution_count": 11,
   "metadata": {},
   "outputs": [],
   "source": [
    "# 경고메시지 출력을 무시합니다.\n",
    "import warnings\n",
    "warnings.filterwarnings('ignore')"
   ]
  },
  {
   "cell_type": "markdown",
   "metadata": {},
   "source": [
    "### 2. 그래프를 그리기 위해 임의의 데이터를 만들어 줍니다."
   ]
  },
  {
   "cell_type": "code",
   "execution_count": 8,
   "metadata": {},
   "outputs": [],
   "source": [
    "import matplotlib.pyplot as plt\n",
    "import matplotlib \n",
    "import matplotlib.font_manager as fm"
   ]
  },
  {
   "cell_type": "code",
   "execution_count": 6,
   "metadata": {},
   "outputs": [
    {
     "data": {
      "text/plain": [
       "array([  91,   41,   11,   91,  174,  126,  118,   62,   89,   -6,   44,\n",
       "        129,   81,   74,   62,   25,  -26,  -58,  -46, -131, -207, -241,\n",
       "       -156, -213, -271, -267, -173, -132, -133,  -39,  -36,   40,   89,\n",
       "         64,  124,   33,   -1,   83,   80,   62,   16,  110,  117,   97,\n",
       "        149,  224,  189,  269,  225,  169])"
      ]
     },
     "execution_count": 6,
     "metadata": {},
     "output_type": "execute_result"
    }
   ],
   "source": [
    "import numpy as np\n",
    "\n",
    "data = np.random.randint(-100, 100, 50).cumsum()\n",
    "data"
   ]
  },
  {
   "cell_type": "markdown",
   "metadata": {},
   "source": [
    "### 3. 기본 폰트로 지정되었기 때문에 한글이 깨져 나옵니다."
   ]
  },
  {
   "cell_type": "code",
   "execution_count": 12,
   "metadata": {},
   "outputs": [
    {
     "data": {
      "text/plain": [
       "Text(0.5, 0, '시간(분)')"
      ]
     },
     "execution_count": 12,
     "metadata": {},
     "output_type": "execute_result"
    },
    {
     "data": {
      "image/png": "[encoded data removed]",
      "text/plain": [
       "<Figure size 432x288 with 1 Axes>"
      ]
     },
     "metadata": {
      "needs_background": "light"
     },
     "output_type": "display_data"
    }
   ],
   "source": [
    "plt.plot(range(50), data, 'r')\n",
    "plt.title('시간별 가격 추이')\n",
    "plt.ylabel('주식 가격')\n",
    "plt.xlabel('시간(분)')"
   ]
  },
  {
   "cell_type": "markdown",
   "metadata": {},
   "source": [
    "### 4. 폰트를 설정해 주기에 앞서 설치된 matplotlib 의 버전과 위치 정보를 가져옵니다."
   ]
  },
  {
   "cell_type": "raw",
   "metadata": {},
   "source": [
    "!sudo bash\n",
    "!sudo apt-get update\n",
    "!sudo apt-get install fonts-nanum*"
   ]
  },
  {
   "cell_type": "code",
   "execution_count": 18,
   "metadata": {
    "collapsed": true,
    "jupyter": {
     "outputs_hidden": true
    }
   },
   "outputs": [
    {
     "name": "stdout",
     "output_type": "stream",
     "text": [
      "total 141080\n",
      "drwxr-xr-x 2 root root     4096 Mar 27 13:58 \u001b[0m\u001b[01;34m.\u001b[0m/\n",
      "drwxr-xr-x 1 root root     4096 Mar 27 13:58 \u001b[01;34m..\u001b[0m/\n",
      "-rw-r--r-- 1 root root       36 Mar 27 13:58 .uuid\n",
      "-rw-r--r-- 1 root root  4186060 Jun 24  2018 NanumBarunGothic.ttf\n",
      "-rw-r--r-- 1 root root  4415956 Jun 24  2018 NanumBarunGothicBold.ttf\n",
      "-rw-r--r-- 1 root root  4917332 Jun 24  2018 NanumBarunGothicLight.ttf\n",
      "-rw-r--r-- 1 root root  4822940 Jun 24  2018 NanumBarunGothicUltraLight.ttf\n",
      "-rw-r--r-- 1 root root 10028540 Jun 24  2018 NanumBarunpenB.ttf\n",
      "-rw-r--r-- 1 root root 11033840 Jun 24  2018 NanumBarunpenR.ttf\n",
      "-rw-r--r-- 1 root root  3745376 Jun 24  2018 NanumBrush.ttf\n",
      "-rw-r--r-- 1 root root  4691820 Jun 24  2018 NanumGothic.ttf\n",
      "-rw-r--r-- 1 root root  4642244 Jun 24  2018 NanumGothicBold.ttf\n",
      "-rw-r--r-- 1 root root  1800792 Feb 21  2017 NanumGothicCoding-Bold.ttf\n",
      "-rw-r--r-- 1 root root  2779112 Feb 21  2017 NanumGothicCoding.ttf\n",
      "-rw-r--r-- 1 root root  7783984 Sep 21  2014 NanumGothicEco.ttf\n",
      "-rw-r--r-- 1 root root 11021172 Sep 21  2014 NanumGothicEcoBold.ttf\n",
      "-rw-r--r-- 1 root root 11571064 Sep 21  2014 NanumGothicEcoExtraBold.ttf\n",
      "-rw-r--r-- 1 root root  4526920 Jun 24  2018 NanumGothicExtraBold.ttf\n",
      "-rw-r--r-- 1 root root  1523188 Jun 24  2018 NanumGothicLight.ttf\n",
      "-rw-r--r-- 1 root root  3839464 Jun 24  2018 NanumMyeongjo.ttf\n",
      "-rw-r--r-- 1 root root  4183592 Jun 24  2018 NanumMyeongjoBold.ttf\n",
      "-rw-r--r-- 1 root root  7024632 Sep 21  2014 NanumMyeongjoEco.ttf\n",
      "-rw-r--r-- 1 root root  9809868 Sep 21  2014 NanumMyeongjoEcoBold.ttf\n",
      "-rw-r--r-- 1 root root 10635180 Sep 21  2014 NanumMyeongjoEcoExtraBold.ttf\n",
      "-rw-r--r-- 1 root root  4788696 Jun 24  2018 NanumMyeongjoExtraBold.ttf\n",
      "-rw-r--r-- 1 root root  3548656 Jun 24  2018 NanumPen.ttf\n",
      "-rw-r--r-- 1 root root   733500 Jun 24  2018 NanumSquareB.ttf\n",
      "-rw-r--r-- 1 root root   726684 Jun 24  2018 NanumSquareEB.ttf\n",
      "-rw-r--r-- 1 root root   750932 Jun 24  2018 NanumSquareL.ttf\n",
      "-rw-r--r-- 1 root root   723640 Jun 24  2018 NanumSquareR.ttf\n",
      "-rw-r--r-- 1 root root  1030948 Jun 24  2018 NanumSquareRoundB.ttf\n",
      "-rw-r--r-- 1 root root  1029388 Jun 24  2018 NanumSquareRoundEB.ttf\n",
      "-rw-r--r-- 1 root root  1015112 Jun 24  2018 NanumSquareRoundL.ttf\n",
      "-rw-r--r-- 1 root root  1063276 Jun 24  2018 NanumSquareRoundR.ttf\n"
     ]
    }
   ],
   "source": [
    "ls -la /usr/share/fonts/truetype/nanum/"
   ]
  },
  {
   "cell_type": "code",
   "execution_count": 19,
   "metadata": {
    "collapsed": true,
    "jupyter": {
     "outputs_hidden": true
    }
   },
   "outputs": [
    {
     "name": "stdout",
     "output_type": "stream",
     "text": [
      "total 147896\n",
      "-rw-rw-r-- 2 root root   704128 Feb  5 05:24 DejaVuSans-Bold.ttf\n",
      "-rw-rw-r-- 2 root root   641720 Feb  5 05:24 DejaVuSans-BoldOblique.ttf\n",
      "-rw-rw-r-- 2 root root   633840 Feb  5 05:24 DejaVuSans-Oblique.ttf\n",
      "-rw-rw-r-- 2 root root   756072 Feb  5 05:24 DejaVuSans.ttf\n",
      "-rw-rw-r-- 2 root root    25712 Feb  5 05:24 DejaVuSansDisplay.ttf\n",
      "-rw-rw-r-- 2 root root   331536 Feb  5 05:24 DejaVuSansMono-Bold.ttf\n",
      "-rw-rw-r-- 2 root root   253116 Feb  5 05:24 DejaVuSansMono-BoldOblique.ttf\n",
      "-rw-rw-r-- 2 root root   251472 Feb  5 05:24 DejaVuSansMono-Oblique.ttf\n",
      "-rw-rw-r-- 2 root root   340240 Feb  5 05:24 DejaVuSansMono.ttf\n",
      "-rw-rw-r-- 2 root root   355692 Feb  5 05:24 DejaVuSerif-Bold.ttf\n",
      "-rw-rw-r-- 2 root root   347064 Feb  5 05:24 DejaVuSerif-BoldItalic.ttf\n",
      "-rw-rw-r-- 2 root root   345612 Feb  5 05:24 DejaVuSerif-Italic.ttf\n",
      "-rw-rw-r-- 2 root root   379740 Feb  5 05:24 DejaVuSerif.ttf\n",
      "-rw-rw-r-- 2 root root    14300 Feb  5 05:24 DejaVuSerifDisplay.ttf\n",
      "-rw-rw-r-- 2 root root     4816 Feb  5 05:24 LICENSE_DEJAVU\n",
      "-rw-rw-r-- 2 root root     5475 Feb  5 05:24 LICENSE_STIX\n",
      "-rw-r--r-- 1 root root  4186060 Mar 27 13:58 NanumBarunGothic.ttf\n",
      "-rw-r--r-- 1 root root  4415956 Mar 27 13:58 NanumBarunGothicBold.ttf\n",
      "-rw-r--r-- 1 root root  4917332 Mar 27 13:58 NanumBarunGothicLight.ttf\n",
      "-rw-r--r-- 1 root root  4822940 Mar 27 13:58 NanumBarunGothicUltraLight.ttf\n",
      "-rw-r--r-- 1 root root 10028540 Mar 27 13:58 NanumBarunpenB.ttf\n",
      "-rw-r--r-- 1 root root 11033840 Mar 27 13:58 NanumBarunpenR.ttf\n",
      "-rw-r--r-- 1 root root  3745376 Mar 27 13:58 NanumBrush.ttf\n",
      "-rw-r--r-- 1 root root  4691820 Mar 27 13:58 NanumGothic.ttf\n",
      "-rw-r--r-- 1 root root  4642244 Mar 27 13:58 NanumGothicBold.ttf\n",
      "-rw-r--r-- 1 root root  1800792 Mar 27 13:58 NanumGothicCoding-Bold.ttf\n",
      "-rw-r--r-- 1 root root  2779112 Mar 27 13:58 NanumGothicCoding.ttf\n",
      "-rw-r--r-- 1 root root  7783984 Mar 27 13:58 NanumGothicEco.ttf\n",
      "-rw-r--r-- 1 root root 11021172 Mar 27 13:58 NanumGothicEcoBold.ttf\n",
      "-rw-r--r-- 1 root root 11571064 Mar 27 13:58 NanumGothicEcoExtraBold.ttf\n",
      "-rw-r--r-- 1 root root  4526920 Mar 27 13:58 NanumGothicExtraBold.ttf\n",
      "-rw-r--r-- 1 root root  1523188 Mar 27 13:58 NanumGothicLight.ttf\n",
      "-rw-r--r-- 1 root root  3839464 Mar 27 13:58 NanumMyeongjo.ttf\n",
      "-rw-r--r-- 1 root root  4183592 Mar 27 13:58 NanumMyeongjoBold.ttf\n",
      "-rw-r--r-- 1 root root  7024632 Mar 27 13:58 NanumMyeongjoEco.ttf\n",
      "-rw-r--r-- 1 root root  9809868 Mar 27 13:58 NanumMyeongjoEcoBold.ttf\n",
      "-rw-r--r-- 1 root root 10635180 Mar 27 13:58 NanumMyeongjoEcoExtraBold.ttf\n",
      "-rw-r--r-- 1 root root  4788696 Mar 27 13:58 NanumMyeongjoExtraBold.ttf\n",
      "-rw-r--r-- 1 root root  3548656 Mar 27 13:58 NanumPen.ttf\n",
      "-rw-r--r-- 1 root root   733500 Mar 27 13:58 NanumSquareB.ttf\n",
      "-rw-r--r-- 1 root root   726684 Mar 27 13:58 NanumSquareEB.ttf\n",
      "-rw-r--r-- 1 root root   750932 Mar 27 13:58 NanumSquareL.ttf\n",
      "-rw-r--r-- 1 root root   723640 Mar 27 13:58 NanumSquareR.ttf\n",
      "-rw-r--r-- 1 root root  1030948 Mar 27 13:58 NanumSquareRoundB.ttf\n",
      "-rw-r--r-- 1 root root  1029388 Mar 27 13:58 NanumSquareRoundEB.ttf\n",
      "-rw-r--r-- 1 root root  1015112 Mar 27 13:58 NanumSquareRoundL.ttf\n",
      "-rw-r--r-- 1 root root  1063276 Mar 27 13:58 NanumSquareRoundR.ttf\n",
      "-rw-rw-r-- 2 root root   448228 Feb  5 05:24 STIXGeneral.ttf\n",
      "-rw-rw-r-- 2 root root   237360 Feb  5 05:24 STIXGeneralBol.ttf\n",
      "-rw-rw-r-- 2 root root   181152 Feb  5 05:24 STIXGeneralBolIta.ttf\n",
      "-rw-rw-r-- 2 root root   175040 Feb  5 05:24 STIXGeneralItalic.ttf\n",
      "-rw-rw-r-- 2 root root    59108 Feb  5 05:24 STIXNonUni.ttf\n",
      "-rw-rw-r-- 2 root root    30512 Feb  5 05:24 STIXNonUniBol.ttf\n",
      "-rw-rw-r-- 2 root root    41272 Feb  5 05:24 STIXNonUniBolIta.ttf\n",
      "-rw-rw-r-- 2 root root    46752 Feb  5 05:24 STIXNonUniIta.ttf\n",
      "-rw-rw-r-- 2 root root    13656 Feb  5 05:24 STIXSizFiveSymReg.ttf\n",
      "-rw-rw-r-- 2 root root    12228 Feb  5 05:24 STIXSizFourSymBol.ttf\n",
      "-rw-rw-r-- 2 root root    15972 Feb  5 05:24 STIXSizFourSymReg.ttf\n",
      "-rw-rw-r-- 2 root root    12556 Feb  5 05:24 STIXSizOneSymBol.ttf\n",
      "-rw-rw-r-- 2 root root    19760 Feb  5 05:24 STIXSizOneSymReg.ttf\n",
      "-rw-rw-r-- 2 root root    12192 Feb  5 05:24 STIXSizThreeSymBol.ttf\n",
      "-rw-rw-r-- 2 root root    15836 Feb  5 05:24 STIXSizThreeSymReg.ttf\n",
      "-rw-rw-r-- 2 root root    12116 Feb  5 05:24 STIXSizTwoSymBol.ttf\n",
      "-rw-rw-r-- 2 root root    15704 Feb  5 05:24 STIXSizTwoSymReg.ttf\n",
      "-rw-rw-r-- 2 root root    25680 Feb  5 05:24 cmb10.ttf\n",
      "-rw-rw-r-- 2 root root    21092 Feb  5 05:24 cmex10.ttf\n",
      "-rw-rw-r-- 2 root root    32560 Feb  5 05:24 cmmi10.ttf\n",
      "-rw-rw-r-- 2 root root    26348 Feb  5 05:24 cmr10.ttf\n",
      "-rw-rw-r-- 2 root root    20376 Feb  5 05:24 cmss10.ttf\n",
      "-rw-rw-r-- 2 root root    29396 Feb  5 05:24 cmsy10.ttf\n",
      "-rw-rw-r-- 2 root root    28136 Feb  5 05:24 cmtt10.ttf\n"
     ]
    }
   ],
   "source": [
    "ls -l /opt/conda/lib/python3.7/site-packages/matplotlib/mpl-data/fonts/ttf/"
   ]
  },
  {
   "cell_type": "raw",
   "metadata": {},
   "source": [
    "cp -r /usr/share/fonts/truetype/nanum/* /opt/conda/lib/python3.7/site-packages/matplotlib/mpl-data/fonts/ttf/"
   ]
  },
  {
   "cell_type": "code",
   "execution_count": 14,
   "metadata": {},
   "outputs": [],
   "source": [
    "matplotlib.font_manager._rebuild()"
   ]
  },
  {
   "cell_type": "code",
   "execution_count": 13,
   "metadata": {},
   "outputs": [
    {
     "name": "stdout",
     "output_type": "stream",
     "text": [
      "버전:  3.1.3\n",
      "설치 위치:  /opt/conda/lib/python3.7/site-packages/matplotlib/__init__.py\n",
      "설정 위치:  /home/vscode/.config/matplotlib\n",
      "캐시 위치:  /home/vscode/.cache/matplotlib\n"
     ]
    }
   ],
   "source": [
    "print ('버전: ', mpl.__version__)\n",
    "print ('설치 위치: ', mpl.__file__)\n",
    "print ('설정 위치: ', mpl.get_configdir())\n",
    "print ('캐시 위치: ', mpl.get_cachedir())"
   ]
  },
  {
   "cell_type": "code",
   "execution_count": 6,
   "metadata": {},
   "outputs": [
    {
     "name": "stdout",
     "output_type": "stream",
     "text": [
      "설정 파일 위치:  /opt/conda/lib/python3.7/site-packages/matplotlib/mpl-data/matplotlibrc\n"
     ]
    }
   ],
   "source": [
    "print ('설정 파일 위치: ', mpl.matplotlib_fname())"
   ]
  },
  {
   "cell_type": "markdown",
   "metadata": {},
   "source": [
    "### 5. 설치된 폰트를 찍어 봅니다."
   ]
  },
  {
   "cell_type": "code",
   "execution_count": 29,
   "metadata": {},
   "outputs": [
    {
     "data": {
      "text/plain": [
       "['/usr/share/fonts/truetype/nanum/NanumMyeongjoEcoExtraBold.ttf',\n",
       " '/usr/share/fonts/truetype/dejavu/DejaVuSansMono-Bold.ttf',\n",
       " '/usr/share/fonts/truetype/nanum/NanumBarunpenR.ttf',\n",
       " '/usr/share/fonts/truetype/nanum/NanumGothicEcoBold.ttf',\n",
       " '/usr/share/fonts/truetype/nanum/NanumBrush.ttf',\n",
       " '/usr/share/fonts/truetype/nanum/NanumGothicExtraBold.ttf',\n",
       " '/usr/share/fonts/truetype/nanum/NanumMyeongjo.ttf',\n",
       " '/usr/share/fonts/truetype/nanum/NanumBarunGothic.ttf',\n",
       " '/usr/share/fonts/truetype/nanum/NanumGothicCoding.ttf',\n",
       " '/usr/share/fonts/truetype/dejavu/DejaVuSerif.ttf']"
      ]
     },
     "execution_count": 29,
     "metadata": {},
     "output_type": "execute_result"
    }
   ],
   "source": [
    "# 시스템 폰트에서 읽어온 리스트에서 상위 10개만 출력\n",
    "fm.findSystemFonts(fontpaths=None, fontext='ttf')[:10]"
   ]
  },
  {
   "cell_type": "code",
   "execution_count": 26,
   "metadata": {},
   "outputs": [
    {
     "data": {
      "text/plain": [
       "[<Font 'cmss10' (cmss10.ttf) normal normal 400 normal>,\n",
       " <Font 'NanumGothic Eco' (NanumGothicEcoExtraBold.ttf) normal normal bold normal>,\n",
       " <Font 'STIXSizeTwoSym' (STIXSizTwoSymReg.ttf) normal normal regular normal>,\n",
       " <Font 'DejaVu Serif' (DejaVuSerif-Bold.ttf) normal normal bold normal>,\n",
       " <Font 'NanumMyeongjo' (NanumMyeongjoExtraBold.ttf) normal normal bold normal>,\n",
       " <Font 'NanumSquare' (NanumSquareL.ttf) normal normal light normal>,\n",
       " <Font 'cmtt10' (cmtt10.ttf) normal normal 400 normal>,\n",
       " <Font 'STIXGeneral' (STIXGeneralBolIta.ttf) italic normal bold normal>,\n",
       " <Font 'DejaVu Serif' (DejaVuSerif.ttf) normal normal 400 normal>,\n",
       " <Font 'STIXGeneral' (STIXGeneralItalic.ttf) italic normal 400 normal>]"
      ]
     },
     "execution_count": 26,
     "metadata": {},
     "output_type": "execute_result"
    }
   ],
   "source": [
    "# matplotlib 폰트\n",
    "fm.fontManager.ttflist[:10]"
   ]
  },
  {
   "cell_type": "code",
   "execution_count": 25,
   "metadata": {},
   "outputs": [
    {
     "data": {
      "text/plain": [
       "['/opt/conda/lib/python3.7/site-packages/matplotlib/mpl-data/fonts/ttf/cmss10.ttf',\n",
       " '/opt/conda/lib/python3.7/site-packages/matplotlib/mpl-data/fonts/ttf/NanumGothicEcoExtraBold.ttf',\n",
       " '/opt/conda/lib/python3.7/site-packages/matplotlib/mpl-data/fonts/ttf/STIXSizTwoSymReg.ttf',\n",
       " '/opt/conda/lib/python3.7/site-packages/matplotlib/mpl-data/fonts/ttf/DejaVuSerif-Bold.ttf',\n",
       " '/opt/conda/lib/python3.7/site-packages/matplotlib/mpl-data/fonts/ttf/NanumMyeongjoExtraBold.ttf',\n",
       " '/opt/conda/lib/python3.7/site-packages/matplotlib/mpl-data/fonts/ttf/NanumSquareL.ttf',\n",
       " '/opt/conda/lib/python3.7/site-packages/matplotlib/mpl-data/fonts/ttf/cmtt10.ttf',\n",
       " '/opt/conda/lib/python3.7/site-packages/matplotlib/mpl-data/fonts/ttf/STIXGeneralBolIta.ttf',\n",
       " '/opt/conda/lib/python3.7/site-packages/matplotlib/mpl-data/fonts/ttf/DejaVuSerif.ttf',\n",
       " '/opt/conda/lib/python3.7/site-packages/matplotlib/mpl-data/fonts/ttf/STIXGeneralItalic.ttf']"
      ]
     },
     "execution_count": 25,
     "metadata": {},
     "output_type": "execute_result"
    }
   ],
   "source": [
    "[f.fname for f in fm.fontManager.ttflist][:10]"
   ]
  },
  {
   "cell_type": "code",
   "execution_count": 30,
   "metadata": {},
   "outputs": [
    {
     "data": {
      "text/plain": [
       "['cmss10',\n",
       " 'NanumGothic Eco',\n",
       " 'STIXSizeTwoSym',\n",
       " 'DejaVu Serif',\n",
       " 'NanumMyeongjo',\n",
       " 'NanumSquare',\n",
       " 'cmtt10',\n",
       " 'STIXGeneral',\n",
       " 'DejaVu Serif',\n",
       " 'STIXGeneral']"
      ]
     },
     "execution_count": 30,
     "metadata": {},
     "output_type": "execute_result"
    }
   ],
   "source": [
    "[f.name for f in fm.fontManager.ttflist][:10]"
   ]
  },
  {
   "cell_type": "markdown",
   "metadata": {},
   "source": [
    "### 6. 나눔 고딕을 사용할 예정이기 때문에 이름에 'Nanum'이 들어간 폰트만 가져와 봅니다."
   ]
  },
  {
   "cell_type": "markdown",
   "metadata": {},
   "source": [
    "- 설치후 캐시 파일에 원하는 폰트리스트가 없으면 주피터 노트북 혹은 콘다를 재실행 해줍니다."
   ]
  },
  {
   "cell_type": "code",
   "execution_count": 31,
   "metadata": {},
   "outputs": [
    {
     "data": {
      "text/plain": [
       "[('NanumGothic Eco',\n",
       "  '/opt/conda/lib/python3.7/site-packages/matplotlib/mpl-data/fonts/ttf/NanumGothicEcoExtraBold.ttf'),\n",
       " ('NanumMyeongjo',\n",
       "  '/opt/conda/lib/python3.7/site-packages/matplotlib/mpl-data/fonts/ttf/NanumMyeongjoExtraBold.ttf'),\n",
       " ('NanumSquare',\n",
       "  '/opt/conda/lib/python3.7/site-packages/matplotlib/mpl-data/fonts/ttf/NanumSquareL.ttf'),\n",
       " ('NanumSquareRound',\n",
       "  '/opt/conda/lib/python3.7/site-packages/matplotlib/mpl-data/fonts/ttf/NanumSquareRoundR.ttf'),\n",
       " ('NanumGothic Eco',\n",
       "  '/opt/conda/lib/python3.7/site-packages/matplotlib/mpl-data/fonts/ttf/NanumGothicEco.ttf'),\n",
       " ('NanumGothic',\n",
       "  '/opt/conda/lib/python3.7/site-packages/matplotlib/mpl-data/fonts/ttf/NanumGothicLight.ttf'),\n",
       " ('NanumBarunGothic',\n",
       "  '/opt/conda/lib/python3.7/site-packages/matplotlib/mpl-data/fonts/ttf/NanumBarunGothicLight.ttf'),\n",
       " ('NanumGothicCoding',\n",
       "  '/opt/conda/lib/python3.7/site-packages/matplotlib/mpl-data/fonts/ttf/NanumGothicCoding-Bold.ttf'),\n",
       " ('NanumSquareRound',\n",
       "  '/opt/conda/lib/python3.7/site-packages/matplotlib/mpl-data/fonts/ttf/NanumSquareRoundB.ttf'),\n",
       " ('NanumBarunpen',\n",
       "  '/opt/conda/lib/python3.7/site-packages/matplotlib/mpl-data/fonts/ttf/NanumBarunpenR.ttf')]"
      ]
     },
     "execution_count": 31,
     "metadata": {},
     "output_type": "execute_result"
    }
   ],
   "source": [
    "[(f.name, f.fname) for f in fm.fontManager.ttflist if 'Nanum' in f.name][:10]"
   ]
  },
  {
   "cell_type": "markdown",
   "metadata": {},
   "source": [
    "### 8. 폰트를 사용하는 방법"
   ]
  },
  {
   "cell_type": "markdown",
   "metadata": {},
   "source": [
    "- FontProperties 를 사용하는 방법 - 그래프의 폰트가 필요한 항목마다 지정해 주어야 합니다.\n",
    "\n",
    "- matplotlib.rcParams[]으로 전역 글꼴 설정 방법 - 그래프에 설정을 해주면 폰트가 필요한 항목에 적용됩니다.\n",
    "\n",
    "- 2)번의 방법을 mpl.matplotlib_fname()로 읽어지는 설정 파일에 직접 적어주는 방법, 단 모든 노트북에 적용됩니다. 노트북을 열 때마다 지정해 주지 않아도 되서 편리합니다."
   ]
  },
  {
   "cell_type": "markdown",
   "metadata": {},
   "source": [
    "1) FontProperties 를 사용하는 방법\n",
    "텍스트를 지정하는 항목에 지정해 사용할 수 있습니다. 지정해 준 항목에만 해당 폰트가 적용 됩니다.\n",
    "\n",
    "- matplotlib.pyplot\n",
    "    - title() \n",
    "    - xlabel()\n",
    "    - ylabel()\n",
    "    - legend()\n",
    "    - text()    \n",
    "- matplotlib.axes\n",
    "    - set_title()"
   ]
  },
  {
   "cell_type": "code",
   "execution_count": 32,
   "metadata": {},
   "outputs": [
    {
     "data": {
      "image/png": "[encoded data removed]",
      "text/plain": [
       "<Figure size 432x288 with 1 Axes>"
      ]
     },
     "metadata": {
      "needs_background": "light"
     },
     "output_type": "display_data"
    }
   ],
   "source": [
    "# fname 옵션을 사용하는 방법\n",
    "\n",
    "path = '/opt/conda/lib/python3.7/site-packages/matplotlib/mpl-data/fonts/ttf/NanumGothicBold.ttf'\n",
    "fontprop = fm.FontProperties(fname=path, size=18)\n",
    "\n",
    "plt.plot(range(50), data, 'r')\n",
    "plt.title('시간별 가격 추이', fontproperties=fontprop)\n",
    "plt.ylabel('주식 가격', fontproperties=fontprop)\n",
    "plt.xlabel('시간(분)', fontproperties=fontprop)\n",
    "plt.show()"
   ]
  },
  {
   "cell_type": "code",
   "execution_count": 33,
   "metadata": {},
   "outputs": [
    {
     "data": {
      "image/png": "[encoded data removed]",
      "text/plain": [
       "<Figure size 432x288 with 1 Axes>"
      ]
     },
     "metadata": {
      "needs_background": "light"
     },
     "output_type": "display_data"
    }
   ],
   "source": [
    "# TTF폰트 파일을 직접 지정하는 방법 (나눔 펜 글씨)\n",
    "\n",
    "path_gothic = '/opt/conda/lib/python3.7/site-packages/matplotlib/mpl-data/fonts/ttf/NanumGothic.ttf'\n",
    "fontprop1 = fm.FontProperties(fname=path_gothic, size=20)\n",
    "\n",
    "path_pen = '/opt/conda/lib/python3.7/site-packages/matplotlib/mpl-data/fonts/ttf/NanumPen.ttf'\n",
    "fontprop2 = fm.FontProperties(fname=path_pen, size=34)\n",
    "\n",
    "plt.plot(range(50), data, 'r')\n",
    "plt.ylabel('가격', fontproperties=fontprop1)\n",
    "plt.title('가격변동 추이', fontproperties=fontprop2)\n",
    "plt.show()"
   ]
  },
  {
   "cell_type": "markdown",
   "metadata": {},
   "source": [
    "2) matplotlib.rcParams[]으로 전역 글꼴 설정 방법"
   ]
  },
  {
   "cell_type": "code",
   "execution_count": 35,
   "metadata": {},
   "outputs": [
    {
     "name": "stdout",
     "output_type": "stream",
     "text": [
      "설정 파일 위치:  /opt/conda/lib/python3.7/site-packages/matplotlib/mpl-data/matplotlibrc\n"
     ]
    }
   ],
   "source": [
    "print ('설정 파일 위치: ', mpl.matplotlib_fname())"
   ]
  },
  {
   "cell_type": "code",
   "execution_count": 36,
   "metadata": {
    "collapsed": true,
    "jupyter": {
     "outputs_hidden": true
    }
   },
   "outputs": [
    {
     "name": "stdout",
     "output_type": "stream",
     "text": [
      "#### MATPLOTLIBRC FORMAT\n",
      "\n",
      "## This is a sample matplotlib configuration file - you can find a copy\n",
      "## of it on your system in\n",
      "## site-packages/matplotlib/mpl-data/matplotlibrc.  If you edit it\n",
      "## there, please note that it will be overwritten in your next install.\n",
      "## If you want to keep a permanent local copy that will not be\n",
      "## overwritten, place it in the following location:\n",
      "## unix/linux:\n",
      "##      $HOME/.config/matplotlib/matplotlibrc or\n",
      "##      $XDG_CONFIG_HOME/matplotlib/matplotlibrc (if $XDG_CONFIG_HOME is set)\n",
      "## other platforms:\n",
      "##      $HOME/.matplotlib/matplotlibrc\n",
      "##\n",
      "## See http://matplotlib.org/users/customizing.html#the-matplotlibrc-file for\n",
      "## more details on the paths which are checked for the configuration file.\n",
      "##\n",
      "## This file is best viewed in a editor which supports python mode\n",
      "## syntax highlighting. Blank lines, or lines starting with a comment\n",
      "## symbol, are ignored, as are trailing comments.  Other lines must\n",
      "## have the format\n",
      "##     key : val ## optional comment\n",
      "##\n",
      "## Colors: for the color values below, you can either use - a\n",
      "## matplotlib color string, such as r, k, or b - an rgb tuple, such as\n",
      "## (1.0, 0.5, 0.0) - a hex string, such as ff00ff - a scalar\n",
      "## grayscale intensity such as 0.75 - a legal html color name, e.g., red,\n",
      "## blue, darkslategray\n",
      "\n",
      "##### CONFIGURATION BEGINS HERE\n",
      "\n",
      "## The default backend. If you omit this parameter, the first\n",
      "## working backend from the following list is used:\n",
      "## MacOSX Qt5Agg Qt4Agg Gtk3Agg TkAgg WxAgg Agg\n",
      "##\n",
      "## Other choices include:\n",
      "## Qt5Cairo Qt4Cairo GTK3Cairo TkCairo WxCairo Cairo Wx PS PDF SVG Template.\n",
      "##\n",
      "## You can also deploy your own backend outside of matplotlib by\n",
      "## referring to the module name (which must be in the PYTHONPATH) as\n",
      "## 'module://my_backend'.\n",
      "#backend      : Agg\n",
      "\n",
      "## Note that this can be overridden by the environment variable\n",
      "## QT_API used by Enthought Tool Suite (ETS); valid values are\n",
      "## \"pyqt\" and \"pyside\".  The \"pyqt\" setting has the side effect of\n",
      "## forcing the use of Version 2 API for QString and QVariant.\n",
      "\n",
      "## The port to use for the web server in the WebAgg backend.\n",
      "#webagg.port : 8988\n",
      "\n",
      "## The address on which the WebAgg web server should be reachable\n",
      "#webagg.address : 127.0.0.1\n",
      "\n",
      "## If webagg.port is unavailable, a number of other random ports will\n",
      "## be tried until one that is available is found.\n",
      "#webagg.port_retries : 50\n",
      "\n",
      "## When True, open the webbrowser to the plot that is shown\n",
      "#webagg.open_in_browser : True\n",
      "\n",
      "## if you are running pyplot inside a GUI and your backend choice\n",
      "## conflicts, we will automatically try to find a compatible one for\n",
      "## you if backend_fallback is True\n",
      "#backend_fallback: True\n",
      "\n",
      "#interactive  : False\n",
      "#toolbar      : toolbar2   ## None | toolbar2  (\"classic\" is deprecated)\n",
      "#timezone     : UTC        ## a pytz timezone string, e.g., US/Central or Europe/Paris\n",
      "\n",
      "## Where your matplotlib data lives if you installed to a non-default\n",
      "## location.  This is where the matplotlib fonts, bitmaps, etc reside\n",
      "#datapath : /home/jdhunter/mpldata\n",
      "\n",
      "\n",
      "#### LINES\n",
      "## See http://matplotlib.org/api/artist_api.html#module-matplotlib.lines for more\n",
      "## information on line properties.\n",
      "#lines.linewidth   : 1.5     ## line width in points\n",
      "#lines.linestyle   : -       ## solid line\n",
      "#lines.color       : C0      ## has no affect on plot(); see axes.prop_cycle\n",
      "#lines.marker      : None    ## the default marker\n",
      "#lines.markerfacecolor  : auto    ## the default markerfacecolor\n",
      "#lines.markeredgecolor  : auto    ## the default markeredgecolor\n",
      "#lines.markeredgewidth  : 1.0     ## the line width around the marker symbol\n",
      "#lines.markersize  : 6            ## markersize, in points\n",
      "#lines.dash_joinstyle : round        ## miter|round|bevel\n",
      "#lines.dash_capstyle : butt          ## butt|round|projecting\n",
      "#lines.solid_joinstyle : round       ## miter|round|bevel\n",
      "#lines.solid_capstyle : projecting   ## butt|round|projecting\n",
      "#lines.antialiased : True         ## render lines in antialiased (no jaggies)\n",
      "\n",
      "## The three standard dash patterns.  These are scaled by the linewidth.\n",
      "#lines.dashed_pattern : 3.7, 1.6\n",
      "#lines.dashdot_pattern : 6.4, 1.6, 1, 1.6\n",
      "#lines.dotted_pattern : 1, 1.65\n",
      "#lines.scale_dashes : True\n",
      "\n",
      "#markers.fillstyle: full ## full|left|right|bottom|top|none\n",
      "\n",
      "#### PATCHES\n",
      "## Patches are graphical objects that fill 2D space, like polygons or\n",
      "## circles.  See\n",
      "## http://matplotlib.org/api/artist_api.html#module-matplotlib.patches\n",
      "## information on patch properties\n",
      "#patch.linewidth        : 1        ## edge width in points.\n",
      "#patch.facecolor        : C0\n",
      "#patch.edgecolor        : black   ## if forced, or patch is not filled\n",
      "#patch.force_edgecolor  : False   ## True to always use edgecolor\n",
      "#patch.antialiased      : True    ## render patches in antialiased (no jaggies)\n",
      "\n",
      "#### HATCHES\n",
      "#hatch.color     : black\n",
      "#hatch.linewidth : 1.0\n",
      "\n",
      "#### Boxplot\n",
      "#boxplot.notch       : False\n",
      "#boxplot.vertical    : True\n",
      "#boxplot.whiskers    : 1.5\n",
      "#boxplot.bootstrap   : None\n",
      "#boxplot.patchartist : False\n",
      "#boxplot.showmeans   : False\n",
      "#boxplot.showcaps    : True\n",
      "#boxplot.showbox     : True\n",
      "#boxplot.showfliers  : True\n",
      "#boxplot.meanline    : False\n",
      "\n",
      "#boxplot.flierprops.color           : black\n",
      "#boxplot.flierprops.marker          : o\n",
      "#boxplot.flierprops.markerfacecolor : none\n",
      "#boxplot.flierprops.markeredgecolor : black\n",
      "#boxplot.flierprops.markeredgewidth : 1.0\n",
      "#boxplot.flierprops.markersize      : 6\n",
      "#boxplot.flierprops.linestyle       : none\n",
      "#boxplot.flierprops.linewidth       : 1.0\n",
      "\n",
      "#boxplot.boxprops.color     : black\n",
      "#boxplot.boxprops.linewidth : 1.0\n",
      "#boxplot.boxprops.linestyle : -\n",
      "\n",
      "#boxplot.whiskerprops.color     : black\n",
      "#boxplot.whiskerprops.linewidth : 1.0\n",
      "#boxplot.whiskerprops.linestyle : -\n",
      "\n",
      "#boxplot.capprops.color     : black\n",
      "#boxplot.capprops.linewidth : 1.0\n",
      "#boxplot.capprops.linestyle : -\n",
      "\n",
      "#boxplot.medianprops.color     : C1\n",
      "#boxplot.medianprops.linewidth : 1.0\n",
      "#boxplot.medianprops.linestyle : -\n",
      "\n",
      "#boxplot.meanprops.color           : C2\n",
      "#boxplot.meanprops.marker          : ^\n",
      "#boxplot.meanprops.markerfacecolor : C2\n",
      "#boxplot.meanprops.markeredgecolor : C2\n",
      "#boxplot.meanprops.markersize      :  6\n",
      "#boxplot.meanprops.linestyle       : --\n",
      "#boxplot.meanprops.linewidth       : 1.0\n",
      "\n",
      "\n",
      "#### FONT\n",
      "\n",
      "## font properties used by text.Text.  See\n",
      "## http://matplotlib.org/api/font_manager_api.html for more\n",
      "## information on font properties.  The 6 font properties used for font\n",
      "## matching are given below with their default values.\n",
      "##\n",
      "## The font.family property has five values: 'serif' (e.g., Times),\n",
      "## 'sans-serif' (e.g., Helvetica), 'cursive' (e.g., Zapf-Chancery),\n",
      "## 'fantasy' (e.g., Western), and 'monospace' (e.g., Courier).  Each of\n",
      "## these font families has a default list of font names in decreasing\n",
      "## order of priority associated with them.  When text.usetex is False,\n",
      "## font.family may also be one or more concrete font names.\n",
      "##\n",
      "## The font.style property has three values: normal (or roman), italic\n",
      "## or oblique.  The oblique style will be used for italic, if it is not\n",
      "## present.\n",
      "##\n",
      "## The font.variant property has two values: normal or small-caps.  For\n",
      "## TrueType fonts, which are scalable fonts, small-caps is equivalent\n",
      "## to using a font size of 'smaller', or about 83%% of the current font\n",
      "## size.\n",
      "##\n",
      "## The font.weight property has effectively 13 values: normal, bold,\n",
      "## bolder, lighter, 100, 200, 300, ..., 900.  Normal is the same as\n",
      "## 400, and bold is 700.  bolder and lighter are relative values with\n",
      "## respect to the current weight.\n",
      "##\n",
      "## The font.stretch property has 11 values: ultra-condensed,\n",
      "## extra-condensed, condensed, semi-condensed, normal, semi-expanded,\n",
      "## expanded, extra-expanded, ultra-expanded, wider, and narrower.  This\n",
      "## property is not currently implemented.\n",
      "##\n",
      "## The font.size property is the default font size for text, given in pts.\n",
      "## 10 pt is the standard value.\n",
      "\n",
      "#font.family         : sans-serif\n",
      "#font.style          : normal\n",
      "#font.variant        : normal\n",
      "#font.weight         : normal\n",
      "#font.stretch        : normal\n",
      "## note that font.size controls default text sizes.  To configure\n",
      "## special text sizes tick labels, axes, labels, title, etc, see the rc\n",
      "## settings for axes and ticks. Special text sizes can be defined\n",
      "## relative to font.size, using the following values: xx-small, x-small,\n",
      "## small, medium, large, x-large, xx-large, larger, or smaller\n",
      "#font.size           : 10.0\n",
      "#font.serif          : DejaVu Serif, Bitstream Vera Serif, Computer Modern Roman, New Century Schoolbook, Century Schoolbook L, Utopia, ITC Bookman, Bookman, Nimbus Roman No9 L, Times New Roman, Times, Palatino, Charter, serif\n",
      "#font.sans-serif     : DejaVu Sans, Bitstream Vera Sans, Computer Modern Sans Serif, Lucida Grande, Verdana, Geneva, Lucid, Arial, Helvetica, Avant Garde, sans-serif\n",
      "#font.cursive        : Apple Chancery, Textile, Zapf Chancery, Sand, Script MT, Felipa, cursive\n",
      "#font.fantasy        : Comic Sans MS, Chicago, Charcoal, ImpactWestern, Humor Sans, xkcd, fantasy\n",
      "#font.monospace      : DejaVu Sans Mono, Bitstream Vera Sans Mono, Computer Modern Typewriter, Andale Mono, Nimbus Mono L, Courier New, Courier, Fixed, Terminal, monospace\n",
      "\n",
      "#### TEXT\n",
      "## text properties used by text.Text.  See\n",
      "## http://matplotlib.org/api/artist_api.html#module-matplotlib.text for more\n",
      "## information on text properties\n",
      "#text.color          : black\n",
      "\n",
      "#### LaTeX customizations. See http://wiki.scipy.org/Cookbook/Matplotlib/UsingTex\n",
      "#text.usetex         : False  ## use latex for all text handling. The following fonts\n",
      "                              ## are supported through the usual rc parameter settings:\n",
      "                              ## new century schoolbook, bookman, times, palatino,\n",
      "                              ## zapf chancery, charter, serif, sans-serif, helvetica,\n",
      "                              ## avant garde, courier, monospace, computer modern roman,\n",
      "                              ## computer modern sans serif, computer modern typewriter\n",
      "                              ## If another font is desired which can loaded using the\n",
      "                              ## LaTeX \\usepackage command, please inquire at the\n",
      "                              ## matplotlib mailing list\n",
      "#text.latex.preamble :      ## IMPROPER USE OF THIS FEATURE WILL LEAD TO LATEX FAILURES\n",
      "                            ## AND IS THEREFORE UNSUPPORTED. PLEASE DO NOT ASK FOR HELP\n",
      "                            ## IF THIS FEATURE DOES NOT DO WHAT YOU EXPECT IT TO.\n",
      "                            ## text.latex.preamble is a single line of LaTeX code that\n",
      "                            ## will be passed on to the LaTeX system. It may contain\n",
      "                            ## any code that is valid for the LaTeX \"preamble\", i.e.\n",
      "                            ## between the \"\\documentclass\" and \"\\begin{document}\"\n",
      "                            ## statements.\n",
      "                            ## Note that it has to be put on a single line, which may\n",
      "                            ## become quite long.\n",
      "                            ## The following packages are always loaded with usetex, so\n",
      "                            ## beware of package collisions: color, geometry, graphicx,\n",
      "                            ## type1cm, textcomp.\n",
      "                            ## Adobe Postscript (PSSNFS) font packages may also be\n",
      "                            ## loaded, depending on your font settings.\n",
      "#text.latex.preview : False\n",
      "\n",
      "#text.hinting : auto   ## May be one of the following:\n",
      "                       ##   none: Perform no hinting\n",
      "                       ##   auto: Use FreeType's autohinter\n",
      "                       ##   native: Use the hinting information in the\n",
      "                       #              font file, if available, and if your\n",
      "                       #              FreeType library supports it\n",
      "                       ##   either: Use the native hinting information,\n",
      "                       #              or the autohinter if none is available.\n",
      "                       ## For backward compatibility, this value may also be\n",
      "                       ## True === 'auto' or False === 'none'.\n",
      "#text.hinting_factor : 8 ## Specifies the amount of softness for hinting in the\n",
      "                         ## horizontal direction.  A value of 1 will hint to full\n",
      "                         ## pixels.  A value of 2 will hint to half pixels etc.\n",
      "#text.antialiased : True ## If True (default), the text will be antialiased.\n",
      "                         ## This only affects the Agg backend.\n",
      "\n",
      "## The following settings allow you to select the fonts in math mode.\n",
      "## They map from a TeX font name to a fontconfig font pattern.\n",
      "## These settings are only used if mathtext.fontset is 'custom'.\n",
      "## Note that this \"custom\" mode is unsupported and may go away in the\n",
      "## future.\n",
      "#mathtext.cal : cursive\n",
      "#mathtext.rm  : sans\n",
      "#mathtext.tt  : monospace\n",
      "#mathtext.it  : sans:italic\n",
      "#mathtext.bf  : sans:bold\n",
      "#mathtext.sf  : sans\n",
      "#mathtext.fontset : dejavusans ## Should be 'dejavusans' (default),\n",
      "                               ## 'dejavuserif', 'cm' (Computer Modern), 'stix',\n",
      "                               ## 'stixsans' or 'custom'\n",
      "#mathtext.fallback_to_cm : True  ## When True, use symbols from the Computer Modern\n",
      "                                 ## fonts when a symbol can not be found in one of\n",
      "                                 ## the custom math fonts.\n",
      "#mathtext.default : it ## The default font to use for math.\n",
      "                       ## Can be any of the LaTeX font names, including\n",
      "                       ## the special name \"regular\" for the same font\n",
      "                       ## used in regular text.\n",
      "\n",
      "#### AXES\n",
      "## default face and edge color, default tick sizes,\n",
      "## default fontsizes for ticklabels, and so on.  See\n",
      "## http://matplotlib.org/api/axes_api.html#module-matplotlib.axes\n",
      "#axes.facecolor      : white   ## axes background color\n",
      "#axes.edgecolor      : black   ## axes edge color\n",
      "#axes.linewidth      : 0.8     ## edge linewidth\n",
      "#axes.grid           : False   ## display grid or not\n",
      "#axes.grid.axis      : both    ## which axis the grid should apply to\n",
      "#axes.grid.which     : major   ## gridlines at major, minor or both ticks\n",
      "#axes.titlesize      : large   ## fontsize of the axes title\n",
      "#axes.titleweight    : normal  ## font weight of title\n",
      "#axes.titlepad       : 6.0     ## pad between axes and title in points\n",
      "#axes.labelsize      : medium  ## fontsize of the x any y labels\n",
      "#axes.labelpad       : 4.0     ## space between label and axis\n",
      "#axes.labelweight    : normal  ## weight of the x and y labels\n",
      "#axes.labelcolor     : black\n",
      "#axes.axisbelow      : line    ## draw axis gridlines and ticks below\n",
      "                               ## patches (True); above patches but below\n",
      "                               ## lines ('line'); or above all (False)\n",
      "#axes.formatter.limits : -7, 7 ## use scientific notation if log10\n",
      "                               ## of the axis range is smaller than the\n",
      "                               ## first or larger than the second\n",
      "#axes.formatter.use_locale : False ## When True, format tick labels\n",
      "                                   ## according to the user's locale.\n",
      "                                   ## For example, use ',' as a decimal\n",
      "                                   ## separator in the fr_FR locale.\n",
      "#axes.formatter.use_mathtext : False ## When True, use mathtext for scientific\n",
      "                                     ## notation.\n",
      "#axes.formatter.min_exponent: 0 ## minimum exponent to format in scientific notation\n",
      "#axes.formatter.useoffset      : True    ## If True, the tick label formatter\n",
      "                                         ## will default to labeling ticks relative\n",
      "                                         ## to an offset when the data range is\n",
      "                                         ## small compared to the minimum absolute\n",
      "                                         ## value of the data.\n",
      "#axes.formatter.offset_threshold : 4     ## When useoffset is True, the offset\n",
      "                                         ## will be used when it can remove\n",
      "                                         ## at least this number of significant\n",
      "                                         ## digits from tick labels.\n",
      "#axes.spines.left   : True   ## display axis spines\n",
      "#axes.spines.bottom : True\n",
      "#axes.spines.top    : True\n",
      "#axes.spines.right  : True\n",
      "#axes.unicode_minus  : True    ## use unicode for the minus symbol\n",
      "                               ## rather than hyphen.  See\n",
      "                               ## http://en.wikipedia.org/wiki/Plus_and_minus_signs#Character_codes\n",
      "#axes.prop_cycle    : cycler('color', ['1f77b4', 'ff7f0e', '2ca02c', 'd62728', '9467bd', '8c564b', 'e377c2', '7f7f7f', 'bcbd22', '17becf'])\n",
      "                      ## color cycle for plot lines  as list of string\n",
      "                      ## colorspecs: single letter, long name, or web-style hex\n",
      "\t\t\t\t\t  ## Note the use of string escapes here ('1f77b4', instead of 1f77b4)\n",
      "                      ## as opposed to the rest of this file.\n",
      "#axes.autolimit_mode : data ## How to scale axes limits to the data.\n",
      "                            ## Use \"data\" to use data limits, plus some margin\n",
      "                            ## Use \"round_number\" move to the nearest \"round\" number\n",
      "#axes.xmargin        : .05  ## x margin.  See `axes.Axes.margins`\n",
      "#axes.ymargin        : .05  ## y margin See `axes.Axes.margins`\n",
      "#polaraxes.grid      : True    ## display grid on polar axes\n",
      "#axes3d.grid         : True    ## display grid on 3d axes\n",
      "\n",
      "#### DATES\n",
      "## These control the default format strings used in AutoDateFormatter.\n",
      "## Any valid format datetime format string can be used (see the python\n",
      "## `datetime` for details).  For example using '%%x' will use the locale date representation\n",
      "## '%%X' will use the locale time representation and '%%c' will use the full locale datetime\n",
      "## representation.\n",
      "## These values map to the scales:\n",
      "##     {'year': 365, 'month': 30, 'day': 1, 'hour': 1/24, 'minute': 1 / (24 * 60)}\n",
      "\n",
      "#date.autoformatter.year     : %Y\n",
      "#date.autoformatter.month    : %Y-%m\n",
      "#date.autoformatter.day      : %Y-%m-%d\n",
      "#date.autoformatter.hour     : %m-%d %H\n",
      "#date.autoformatter.minute   : %d %H:%M\n",
      "#date.autoformatter.second   : %H:%M:%S\n",
      "#date.autoformatter.microsecond   : %M:%S.%f\n",
      "\n",
      "#### TICKS\n",
      "## see http://matplotlib.org/api/axis_api.html#matplotlib.axis.Tick\n",
      "#xtick.top            : False  ## draw ticks on the top side\n",
      "#xtick.bottom         : True   ## draw ticks on the bottom side\n",
      "#xtick.labeltop       : False  ## draw label on the top\n",
      "#xtick.labelbottom    : True   ## draw label on the bottom\n",
      "#xtick.major.size     : 3.5    ## major tick size in points\n",
      "#xtick.minor.size     : 2      ## minor tick size in points\n",
      "#xtick.major.width    : 0.8    ## major tick width in points\n",
      "#xtick.minor.width    : 0.6    ## minor tick width in points\n",
      "#xtick.major.pad      : 3.5    ## distance to major tick label in points\n",
      "#xtick.minor.pad      : 3.4    ## distance to the minor tick label in points\n",
      "#xtick.color          : black  ## color of the tick labels\n",
      "#xtick.labelsize      : medium ## fontsize of the tick labels\n",
      "#xtick.direction      : out    ## direction: in, out, or inout\n",
      "#xtick.minor.visible  : False  ## visibility of minor ticks on x-axis\n",
      "#xtick.major.top      : True   ## draw x axis top major ticks\n",
      "#xtick.major.bottom   : True   ## draw x axis bottom major ticks\n",
      "#xtick.minor.top      : True   ## draw x axis top minor ticks\n",
      "#xtick.minor.bottom   : True   ## draw x axis bottom minor ticks\n",
      "#xtick.alignment      : center ## alignment of xticks\n",
      "\n",
      "#ytick.left           : True   ## draw ticks on the left side\n",
      "#ytick.right          : False  ## draw ticks on the right side\n",
      "#ytick.labelleft      : True   ## draw tick labels on the left side\n",
      "#ytick.labelright     : False  ## draw tick labels on the right side\n",
      "#ytick.major.size     : 3.5    ## major tick size in points\n",
      "#ytick.minor.size     : 2      ## minor tick size in points\n",
      "#ytick.major.width    : 0.8    ## major tick width in points\n",
      "#ytick.minor.width    : 0.6    ## minor tick width in points\n",
      "#ytick.major.pad      : 3.5    ## distance to major tick label in points\n",
      "#ytick.minor.pad      : 3.4    ## distance to the minor tick label in points\n",
      "#ytick.color          : black  ## color of the tick labels\n",
      "#ytick.labelsize      : medium ## fontsize of the tick labels\n",
      "#ytick.direction      : out    ## direction: in, out, or inout\n",
      "#ytick.minor.visible  : False  ## visibility of minor ticks on y-axis\n",
      "#ytick.major.left     : True   ## draw y axis left major ticks\n",
      "#ytick.major.right    : True   ## draw y axis right major ticks\n",
      "#ytick.minor.left     : True   ## draw y axis left minor ticks\n",
      "#ytick.minor.right    : True   ## draw y axis right minor ticks\n",
      "#ytick.alignment      : center_baseline ## alignment of yticks\n",
      "\n",
      "#### GRIDS\n",
      "#grid.color       :   b0b0b0    ## grid color\n",
      "#grid.linestyle   :   -         ## solid\n",
      "#grid.linewidth   :   0.8       ## in points\n",
      "#grid.alpha       :   1.0       ## transparency, between 0.0 and 1.0\n",
      "\n",
      "#### Legend\n",
      "#legend.loc           : best\n",
      "#legend.frameon       : True     ## if True, draw the legend on a background patch\n",
      "#legend.framealpha    : 0.8      ## legend patch transparency\n",
      "#legend.facecolor     : inherit  ## inherit from axes.facecolor; or color spec\n",
      "#legend.edgecolor     : 0.8      ## background patch boundary color\n",
      "#legend.fancybox      : True     ## if True, use a rounded box for the\n",
      "                                 ## legend background, else a rectangle\n",
      "#legend.shadow        : False    ## if True, give background a shadow effect\n",
      "#legend.numpoints     : 1        ## the number of marker points in the legend line\n",
      "#legend.scatterpoints : 1        ## number of scatter points\n",
      "#legend.markerscale   : 1.0      ## the relative size of legend markers vs. original\n",
      "#legend.fontsize      : medium\n",
      "#legend.title_fontsize    : None ## None sets to the same as the default axes.\n",
      "## Dimensions as fraction of fontsize:\n",
      "#legend.borderpad     : 0.4      ## border whitespace\n",
      "#legend.labelspacing  : 0.5      ## the vertical space between the legend entries\n",
      "#legend.handlelength  : 2.0      ## the length of the legend lines\n",
      "#legend.handleheight  : 0.7      ## the height of the legend handle\n",
      "#legend.handletextpad : 0.8      ## the space between the legend line and legend text\n",
      "#legend.borderaxespad : 0.5      ## the border between the axes and legend edge\n",
      "#legend.columnspacing : 2.0      ## column separation\n",
      "\n",
      "#### FIGURE\n",
      "## See http://matplotlib.org/api/figure_api.html#matplotlib.figure.Figure\n",
      "#figure.titlesize : large      ## size of the figure title (Figure.suptitle())\n",
      "#figure.titleweight : normal   ## weight of the figure title\n",
      "#figure.figsize   : 6.4, 4.8   ## figure size in inches\n",
      "#figure.dpi       : 100        ## figure dots per inch\n",
      "#figure.facecolor : white      ## figure facecolor\n",
      "#figure.edgecolor : white      ## figure edgecolor\n",
      "#figure.frameon : True         ## enable figure frame\n",
      "#figure.max_open_warning : 20  ## The maximum number of figures to open through\n",
      "                               ## the pyplot interface before emitting a warning.\n",
      "                               ## If less than one this feature is disabled.\n",
      "## The figure subplot parameters.  All dimensions are a fraction of the\n",
      "#figure.subplot.left    : 0.125  ## the left side of the subplots of the figure\n",
      "#figure.subplot.right   : 0.9    ## the right side of the subplots of the figure\n",
      "#figure.subplot.bottom  : 0.11   ## the bottom of the subplots of the figure\n",
      "#figure.subplot.top     : 0.88   ## the top of the subplots of the figure\n",
      "#figure.subplot.wspace  : 0.2    ## the amount of width reserved for space between subplots,\n",
      "                                 ## expressed as a fraction of the average axis width\n",
      "#figure.subplot.hspace  : 0.2    ## the amount of height reserved for space between subplots,\n",
      "                                 ## expressed as a fraction of the average axis height\n",
      "\n",
      "## Figure layout\n",
      "#figure.autolayout : False     ## When True, automatically adjust subplot\n",
      "                               ## parameters to make the plot fit the figure\n",
      "                               ## using `tight_layout`\n",
      "#figure.constrained_layout.use: False ## When True, automatically make plot\n",
      "                                      ## elements fit on the figure. (Not compatible\n",
      "                                      ## with `autolayout`, above).\n",
      "#figure.constrained_layout.h_pad : 0.04167 ## Padding around axes objects. Float representing\n",
      "#figure.constrained_layout.w_pad : 0.04167 ##  inches. Default is 3./72. inches (3 pts)\n",
      "#figure.constrained_layout.hspace : 0.02   ## Space between subplot groups. Float representing\n",
      "#figure.constrained_layout.wspace : 0.02   ##  a fraction of the subplot widths being separated.\n",
      "\n",
      "#### IMAGES\n",
      "#image.aspect : equal             ## equal | auto | a number\n",
      "#image.interpolation  : nearest   ## see help(imshow) for options\n",
      "#image.cmap   : viridis           ## A colormap name, gray etc...\n",
      "#image.lut    : 256               ## the size of the colormap lookup table\n",
      "#image.origin : upper             ## lower | upper\n",
      "#image.resample  : True\n",
      "#image.composite_image : True     ## When True, all the images on a set of axes are\n",
      "                                  ## combined into a single composite image before\n",
      "                                  ## saving a figure as a vector graphics file,\n",
      "                                  ## such as a PDF.\n",
      "\n",
      "#### CONTOUR PLOTS\n",
      "#contour.negative_linestyle : dashed ## string or on-off ink sequence\n",
      "#contour.corner_mask        : True   ## True | False | legacy\n",
      "\n",
      "#### ERRORBAR PLOTS\n",
      "#errorbar.capsize : 0             ## length of end cap on error bars in pixels\n",
      "\n",
      "#### HISTOGRAM PLOTS\n",
      "#hist.bins : 10                   ## The default number of histogram bins.\n",
      "                                  ## If Numpy 1.11 or later is\n",
      "                                  ## installed, may also be `auto`\n",
      "\n",
      "#### SCATTER PLOTS\n",
      "#scatter.marker : o               ## The default marker type for scatter plots.\n",
      "#scatter.edgecolors : face        ## The default edgecolors for scatter plots.\n",
      "\n",
      "#### Agg rendering\n",
      "#### Warning: experimental, 2008/10/10\n",
      "#agg.path.chunksize : 0           ## 0 to disable; values in the range\n",
      "                                  ## 10000 to 100000 can improve speed slightly\n",
      "                                  ## and prevent an Agg rendering failure\n",
      "                                  ## when plotting very large data sets,\n",
      "                                  ## especially if they are very gappy.\n",
      "                                  ## It may cause minor artifacts, though.\n",
      "                                  ## A value of 20000 is probably a good\n",
      "                                  ## starting point.\n",
      "#### PATHS\n",
      "#path.simplify : True   ## When True, simplify paths by removing \"invisible\"\n",
      "                        ## points to reduce file size and increase rendering\n",
      "                        ## speed\n",
      "#path.simplify_threshold : 0.111111111111  ## The threshold of similarity below which\n",
      "                                           ## vertices will be removed in the\n",
      "                                           ## simplification process\n",
      "#path.snap : True ## When True, rectilinear axis-aligned paths will be snapped to\n",
      "                  ## the nearest pixel when certain criteria are met.  When False,\n",
      "                  ## paths will never be snapped.\n",
      "#path.sketch : None ## May be none, or a 3-tuple of the form (scale, length,\n",
      "                    ## randomness).\n",
      "                    ## *scale* is the amplitude of the wiggle\n",
      "                    ## perpendicular to the line (in pixels).  *length*\n",
      "                    ## is the length of the wiggle along the line (in\n",
      "                    ## pixels).  *randomness* is the factor by which\n",
      "                    ## the length is randomly scaled.\n",
      "#path.effects : []  ##\n",
      "\n",
      "#### SAVING FIGURES\n",
      "## the default savefig params can be different from the display params\n",
      "## e.g., you may want a higher resolution, or to make the figure\n",
      "## background white\n",
      "#savefig.dpi         : figure   ## figure dots per inch or 'figure'\n",
      "#savefig.facecolor   : white    ## figure facecolor when saving\n",
      "#savefig.edgecolor   : white    ## figure edgecolor when saving\n",
      "#savefig.format      : png      ## png, ps, pdf, svg\n",
      "#savefig.bbox        : standard ## 'tight' or 'standard'.\n",
      "                                ## 'tight' is incompatible with pipe-based animation\n",
      "                                ## backends but will workd with temporary file based ones:\n",
      "                                ## e.g. setting animation.writer to ffmpeg will not work,\n",
      "                                ## use ffmpeg_file instead\n",
      "#savefig.pad_inches  : 0.1      ## Padding to be used when bbox is set to 'tight'\n",
      "#savefig.jpeg_quality: 95       ## when a jpeg is saved, the default quality parameter.\n",
      "#savefig.directory   : ~        ## default directory in savefig dialog box,\n",
      "                                ## leave empty to always use current working directory\n",
      "#savefig.transparent : False    ## setting that controls whether figures are saved with a\n",
      "                                ## transparent background by default\n",
      "#savefig.orientation : portrait\t## Orientation of saved figure\n",
      "\n",
      "### tk backend params\n",
      "#tk.window_focus   : False    ## Maintain shell focus for TkAgg\n",
      "\n",
      "### ps backend params\n",
      "#ps.papersize      : letter   ## auto, letter, legal, ledger, A0-A10, B0-B10\n",
      "#ps.useafm         : False    ## use of afm fonts, results in small files\n",
      "#ps.usedistiller   : False    ## can be: None, ghostscript or xpdf\n",
      "                                          ## Experimental: may produce smaller files.\n",
      "                                          ## xpdf intended for production of publication quality files,\n",
      "                                          ## but requires ghostscript, xpdf and ps2eps\n",
      "#ps.distiller.res  : 6000      ## dpi\n",
      "#ps.fonttype       : 3         ## Output Type 3 (Type3) or Type 42 (TrueType)\n",
      "\n",
      "### pdf backend params\n",
      "#pdf.compression   : 6   ## integer from 0 to 9\n",
      "                         ## 0 disables compression (good for debugging)\n",
      "#pdf.fonttype       : 3         ## Output Type 3 (Type3) or Type 42 (TrueType)\n",
      "#pdf.use14corefonts : False\n",
      "#pdf.inheritcolor : False\n",
      "\n",
      "### svg backend params\n",
      "#svg.image_inline : True       ## write raster image data directly into the svg file\n",
      "#svg.fonttype :   path         ## How to handle SVG fonts:\n",
      "   ##     none: Assume fonts are installed on the machine where the SVG will be viewed.\n",
      "   ##     path: Embed characters as paths -- supported by most SVG renderers\n",
      "#svg.hashsalt : None           ## if not None, use this string as hash salt\n",
      "                               ## instead of uuid4\n",
      "### pgf parameter\n",
      "#pgf.rcfonts : True\n",
      "#pgf.preamble :            ## see text.latex.preamble for documentation\n",
      "#pgf.texsystem : xelatex\n",
      "\n",
      "### docstring params\n",
      "##docstring.hardcopy = False  ## set this when you want to generate hardcopy docstring\n",
      "\n",
      "## Event keys to interact with figures/plots via keyboard.\n",
      "## Customize these settings according to your needs.\n",
      "## Leave the field(s) empty if you don't need a key-map. (i.e., fullscreen : '')\n",
      "#keymap.fullscreen : f, ctrl+f       ## toggling\n",
      "#keymap.home : h, r, home            ## home or reset mnemonic\n",
      "#keymap.back : left, c, backspace, MouseButton.BACK  ## forward / backward keys\n",
      "#keymap.forward : right, v, MouseButton.FORWARD      ## for quick navigation\n",
      "#keymap.pan : p                      ## pan mnemonic\n",
      "#keymap.zoom : o                     ## zoom mnemonic\n",
      "#keymap.save : s, ctrl+s             ## saving current figure\n",
      "#keymap.help : f1                    ## display help about active tools\n",
      "#keymap.quit : ctrl+w, cmd+w, q      ## close the current figure\n",
      "#keymap.quit_all : W, cmd+W, Q       ## close all figures\n",
      "#keymap.grid : g                     ## switching on/off major grids in current axes\n",
      "#keymap.grid_minor : G               ## switching on/off minor grids in current axes\n",
      "#keymap.yscale : l                   ## toggle scaling of y-axes ('log'/'linear')\n",
      "#keymap.xscale : k, L                ## toggle scaling of x-axes ('log'/'linear')\n",
      "#keymap.all_axes : a                 ## enable all axes\n",
      "#keymap.copy : ctrl+c, cmd+c         ## Copy figure to clipboard\n",
      "\n",
      "###ANIMATION settings\n",
      "#animation.html :  none            ## How to display the animation as HTML in\n",
      "                                   ## the IPython notebook. 'html5' uses\n",
      "                                   ## HTML5 video tag; 'jshtml' creates a\n",
      "                                   ## Javascript animation\n",
      "#animation.writer : ffmpeg         ## MovieWriter 'backend' to use\n",
      "#animation.codec : h264            ## Codec to use for writing movie\n",
      "#animation.bitrate: -1             ## Controls size/quality tradeoff for movie.\n",
      "                                   ## -1 implies let utility auto-determine\n",
      "#animation.frame_format:  png      ## Controls frame format used by temp files\n",
      "#animation.html_args:              ## Additional arguments to pass to html writer\n",
      "#animation.ffmpeg_path:  ffmpeg    ## Path to ffmpeg binary. Without full path\n",
      "                                   ## $PATH is searched\n",
      "#animation.ffmpeg_args:            ## Additional arguments to pass to ffmpeg\n",
      "#animation.avconv_path:  avconv    ## Path to avconv binary. Without full path\n",
      "                                   ## $PATH is searched\n",
      "#animation.avconv_args:            ## Additional arguments to pass to avconv\n",
      "#animation.convert_path:  convert  ## Path to ImageMagick's convert binary.\n",
      "                                   ## On Windows use the full path since convert\n",
      "                                   ## is also the name of a system tool.\n",
      "#animation.convert_args:           ## Additional arguments to pass to convert\n",
      "#animation.embed_limit : 20.0      ## Limit, in MB, of size of base64 encoded\n",
      "                                   ## animation in HTML (i.e. IPython notebook)\n"
     ]
    }
   ],
   "source": [
    "! cat /opt/conda/lib/python3.7/site-packages/matplotlib/mpl-data/matplotlibrc"
   ]
  },
  {
   "cell_type": "code",
   "execution_count": 37,
   "metadata": {},
   "outputs": [
    {
     "name": "stdout",
     "output_type": "stream",
     "text": [
      "# 설정되어있는 폰트 사이즈\n",
      "10.0\n",
      "# 설정되어있는 폰트 글꼴\n",
      "['sans-serif']\n"
     ]
    }
   ],
   "source": [
    "# 기본 설정 읽기\n",
    "# size, family\n",
    "print('# 설정되어있는 폰트 사이즈')\n",
    "print (plt.rcParams['font.size'] ) \n",
    "print('# 설정되어있는 폰트 글꼴')\n",
    "print (plt.rcParams['font.family'] )"
   ]
  },
  {
   "cell_type": "code",
   "execution_count": 38,
   "metadata": {},
   "outputs": [
    {
     "name": "stdout",
     "output_type": "stream",
     "text": [
      "serif 세리프가 있는 폰트--------\n",
      "['DejaVu Serif', 'Bitstream Vera Serif', 'Computer Modern Roman', 'New Century Schoolbook', 'Century Schoolbook L', 'Utopia', 'ITC Bookman', 'Bookman', 'Nimbus Roman No9 L', 'Times New Roman', 'Times', 'Palatino', 'Charter', 'serif']\n",
      "sans-serif 세리프가 없는 폰트 --------\n",
      "['DejaVu Sans', 'Bitstream Vera Sans', 'Computer Modern Sans Serif', 'Lucida Grande', 'Verdana', 'Geneva', 'Lucid', 'Arial', 'Helvetica', 'Avant Garde', 'sans-serif']\n",
      "monospace 고정폭 글꼴--------\n",
      "['DejaVu Sans Mono', 'Bitstream Vera Sans Mono', 'Computer Modern Typewriter', 'Andale Mono', 'Nimbus Mono L', 'Courier New', 'Courier', 'Fixed', 'Terminal', 'monospace']\n"
     ]
    }
   ],
   "source": [
    "# serif, sans-serif, monospace\n",
    "print('serif 세리프가 있는 폰트--------')\n",
    "print (plt.rcParams['font.serif']) \n",
    "print('sans-serif 세리프가 없는 폰트 --------')\n",
    "print (plt.rcParams['font.sans-serif']) \n",
    "print('monospace 고정폭 글꼴--------')\n",
    "print (plt.rcParams['font.monospace'])"
   ]
  },
  {
   "cell_type": "code",
   "execution_count": 39,
   "metadata": {},
   "outputs": [],
   "source": [
    "plt.rcParams[\"font.family\"] = 'NanumBarunGothic'\n",
    "plt.rcParams[\"font.size\"] = 20\n",
    "plt.rcParams[\"figure.figsize\"] = (14,4)"
   ]
  },
  {
   "cell_type": "code",
   "execution_count": 40,
   "metadata": {},
   "outputs": [
    {
     "data": {
      "image/png": "[encoded data removed]",
      "text/plain": [
       "<Figure size 1008x288 with 1 Axes>"
      ]
     },
     "metadata": {
      "needs_background": "light"
     },
     "output_type": "display_data"
    }
   ],
   "source": [
    "plt.plot(range(50), data, 'r')\n",
    "plt.title('시간별 가격 추이')\n",
    "plt.ylabel('주식 가격')\n",
    "plt.xlabel('시간(분)')\n",
    "plt.style.use('seaborn-pastel')\n",
    "plt.show()"
   ]
  },
  {
   "cell_type": "markdown",
   "metadata": {},
   "source": [
    "rcParams 대신 FontProperties 와 plt.rc 를 사용하는 방법"
   ]
  },
  {
   "cell_type": "code",
   "execution_count": 41,
   "metadata": {},
   "outputs": [
    {
     "name": "stdout",
     "output_type": "stream",
     "text": [
      "NanumBarunpen\n"
     ]
    },
    {
     "data": {
      "image/png": "[encoded data removed]",
      "text/plain": [
       "<Figure size 1008x288 with 1 Axes>"
      ]
     },
     "metadata": {
      "needs_background": "light"
     },
     "output_type": "display_data"
    }
   ],
   "source": [
    "path =  '/opt/conda/lib/python3.7/site-packages/matplotlib/mpl-data/fonts/ttf/NanumBarunpenR.ttf'\n",
    "font_name = fm.FontProperties(fname=path, size=50).get_name()\n",
    "print(font_name)\n",
    "plt.rc('font', family=font_name)\n",
    "\n",
    "fig, ax = plt.subplots()\n",
    "ax.plot(data)\n",
    "ax.set_title('시간별 가격 추이')\n",
    "plt.ylabel('주식 가격')\n",
    "plt.xlabel('시간(분)')\n",
    "plt.style.use('ggplot')\n",
    "plt.show()"
   ]
  },
  {
   "cell_type": "markdown",
   "metadata": {},
   "source": [
    "3) rcParams 를 설정 파일에 직접 적어주는 방법 - 모든 노트북에 공통 적용"
   ]
  },
  {
   "cell_type": "markdown",
   "metadata": {},
   "source": [
    "- font.family : NanumGothicOTF\n",
    "- 이 외에 자주 사용하는 설정도 함께 해주면 편리합니다.\n",
    "- 이곳에 폰트를 지정해 주면 노트북을 실행할 때 바로 로드되도록 설정할 수 있습니다."
   ]
  },
  {
   "cell_type": "markdown",
   "metadata": {},
   "source": [
    "- 설정파일 위치 확인"
   ]
  },
  {
   "cell_type": "code",
   "execution_count": 42,
   "metadata": {},
   "outputs": [
    {
     "name": "stdout",
     "output_type": "stream",
     "text": [
      "설정 파일 위치:  /opt/conda/lib/python3.7/site-packages/matplotlib/mpl-data/matplotlibrc\n"
     ]
    }
   ],
   "source": [
    "print ('설정 파일 위치: ', mpl.matplotlib_fname())"
   ]
  },
  {
   "cell_type": "code",
   "execution_count": 43,
   "metadata": {},
   "outputs": [
    {
     "data": {
      "image/png": "[encoded data removed]",
      "text/plain": [
       "<Figure size 432x288 with 1 Axes>"
      ]
     },
     "metadata": {
      "needs_background": "light"
     },
     "output_type": "display_data"
    }
   ],
   "source": [
    "import matplotlib.pyplot as plt\n",
    "import matplotlib as mpl\n",
    "import numpy as np\n",
    "%matplotlib inline\n",
    "mpl.rcParams['axes.unicode_minus'] = False\n",
    "\n",
    "fig, ax = plt.subplots()\n",
    "ax.plot(10*np.random.randn(100), 10*np.random.randn(100), 'o')\n",
    "ax.set_title('숫자 분포도 보기')\n",
    "plt.show()"
   ]
  },
  {
   "cell_type": "markdown",
   "metadata": {},
   "source": [
    "https://matplotlib.org/tutorials/introductory/customizing.html"
   ]
  }
 ],
 "metadata": {
  "kernelspec": {
   "display_name": "Python 3",
   "language": "python",
   "name": "python3"
  },
  "language_info": {
   "codemirror_mode": {
    "name": "ipython",
    "version": 3
   },
   "file_extension": ".py",
   "mimetype": "text/x-python",
   "name": "python",
   "nbconvert_exporter": "python",
   "pygments_lexer": "ipython3",
   "version": "3.7.4"
  }
 },
 "nbformat": 4,
 "nbformat_minor": 4
}
